{
 "cells": [
  {
   "cell_type": "markdown",
   "metadata": {},
   "source": [
    "# Bank Marketing Data Set (Save Model)\n",
    "The data is related with direct marketing campaigns of a Portuguese banking institution.  The marketing campaigns were based on phone calls.  A number of features such as age, kind of job, marital status, education level, credit default, existence of housing loan, etc. were considered.  The classification goal is to predict if the client will subscribe (yes/no) a term deposit.\n",
    "\n",
    "More information regarding the data set is at https://archive.ics.uci.edu/ml/datasets/bank+marketing#.  For tutorials use only.\n",
    "\n",
    "<font color=blue>__ _The objective is to show the need for storing a model.  A rudimentary hack to store the model is implemented._ __</font>\n",
    "\n",
    "## Attribute Information:\n",
    "\n",
    "### Input variables:\n",
    "#### Bank client data:\n",
    "1. age (numeric)\n",
    "2. job : type of job (categorical: 'admin.','blue-collar','entrepreneur','housemaid','management','retired','self-employed','services','student','technician','unemployed','unknown')\n",
    "3. marital : marital status (categorical: 'divorced','married','single','unknown'; note: 'divorced' means divorced or widowed)\n",
    "4. education (categorical: 'basic.4y','basic.6y','basic.9y','high.school','illiterate','professional.course','university.degree','unknown')\n",
    "5. default: has credit in default? (categorical: 'no','yes','unknown')\n",
    "6. housing: has housing loan? (categorical: 'no','yes','unknown')\n",
    "7. loan: has personal loan? (categorical: 'no','yes','unknown')\n",
    "\n",
    "#### Related with the last contact of the current campaign:\n",
    "8. contact: contact communication type (categorical: 'cellular','telephone') \n",
    "9. month: last contact month of year (categorical: 'jan', 'feb', 'mar', ..., 'nov', 'dec')\n",
    "10. day_of_week: last contact day of the week (categorical: 'mon','tue','wed','thu','fri')\n",
    "11. duration: last contact duration, in seconds (numeric). Important note: this attribute highly affects the output target (e.g., if duration=0 then y='no'). Yet, the duration is not known before a call is performed. Also, after the end of the call y is obviously known. Thus, this input should only be included for benchmark purposes and should be discarded if the intention is to have a realistic predictive model.\n",
    "\n",
    "#### Other attributes:\n",
    "12. campaign: number of contacts performed during this campaign and for this client (numeric, includes last contact)\n",
    "13. pdays: number of days that passed by after the client was last contacted from a previous campaign (numeric; 999 means client was not previously contacted)\n",
    "14. previous: number of contacts performed before this campaign and for this client (numeric)\n",
    "15. poutcome: outcome of the previous marketing campaign (categorical: 'failure','nonexistent','success')\n",
    "\n",
    "#### Social and economic context attributes:\n",
    "16. emp.var.rate: employment variation rate - quarterly indicator (numeric)\n",
    "17. cons.price.idx: consumer price index - monthly indicator (numeric) \n",
    "18. cons.conf.idx: consumer confidence index - monthly indicator (numeric) \n",
    "19. euribor3m: euribor 3 month rate - daily indicator (numeric)\n",
    "20. nr.employed: number of employees - quarterly indicator (numeric)\n",
    "\n",
    "### Output variable (desired target):\n",
    "21. y - has the client subscribed a term deposit? (binary: 'yes','no')\n",
    "\n",
    "## Import packages"
   ]
  },
  {
   "cell_type": "code",
   "execution_count": 1,
   "metadata": {},
   "outputs": [],
   "source": [
    "from hana_ml import dataframe\n",
    "from hana_ml.algorithms.pal import linear_model\n",
    "from hana_ml.algorithms.pal import clustering\n",
    "import numpy as np\n",
    "import matplotlib.pyplot as plt\n",
    "import logging"
   ]
  },
  {
   "cell_type": "markdown",
   "metadata": {},
   "source": [
    "## Setup logging"
   ]
  },
  {
   "cell_type": "code",
   "execution_count": 2,
   "metadata": {},
   "outputs": [],
   "source": [
    "logging.basicConfig()\n",
    "logger = logging.getLogger('hana_ml.ml_base')\n",
    "logger.setLevel(logging.INFO)\n",
    "logger.addHandler(logging.NullHandler())"
   ]
  },
  {
   "cell_type": "markdown",
   "metadata": {},
   "source": [
    "## Setup connection and data sets\n",
    "The data is loaded into 4 tables - full set, test set, training set, and the validation set:\n",
    "<li>DBM2_RFULL_TBL</li>\n",
    "<li>DBM2_RTEST_TBL</li>\n",
    "<li>DBM2_RTRAINING_TBL</li>\n",
    "<li>DBM2_RVALIDATION_TBL</li>\n",
    "\n",
    "To do that, a connection is created and passed to the loader.\n",
    "\n",
    "There is a config file, <b>config/e2edata.ini</b> that controls the connection parameters and whether or not to reload the data from scratch.  In case the data is already loaded, there would be no need to load the data.  A sample section is below.  If the config parameter, reload_data is true then the tables for test, training, and validation are (re-)created and data inserted into them.\n",
    "\n",
    "#########################<br>\n",
    "[hana]<br>\n",
    "url=host.sjc.sap.corp<br>\n",
    "user=username<br>\n",
    "passwd=userpassword<br>\n",
    "port=3xx15<br>\n",
    "<br>\n",
    "\n",
    "#########################<br>"
   ]
  },
  {
   "cell_type": "code",
   "execution_count": 3,
   "metadata": {},
   "outputs": [
    {
     "name": "stdout",
     "output_type": "stream",
     "text": [
      "Table DBM2_RFULL_TBL exists and data exists\n"
     ]
    }
   ],
   "source": [
    "from data_load_utils import DataSets, Settings\n",
    "url, port, user, pwd = Settings.load_config(\"../../config/e2edata.ini\")\n",
    "connection_context = dataframe.ConnectionContext(url, port, user, pwd)\n",
    "full_tbl, training_tbl, validation_tbl, test_tbl = DataSets.load_bank_data(connection_context)\n",
    "training_set = connection_context.table(training_tbl)\n",
    "validation_set = connection_context.table(validation_tbl)\n",
    "features = ['AGE','JOB','MARITAL','EDUCATION','DBM_DEFAULT', 'HOUSING','LOAN','CONTACT','DBM_MONTH','DAY_OF_WEEK','DURATION','CAMPAIGN','PDAYS','PREVIOUS','POUTCOME','EMP_VAR_RATE','CONS_PRICE_IDX','CONS_CONF_IDX','EURIBOR3M','NREMPLOYED']\n",
    "label = \"LABEL\""
   ]
  },
  {
   "cell_type": "markdown",
   "metadata": {},
   "source": [
    "# Create Model\n",
    "Use a specific value for the hyper parameters to keep it simple.  In this case the hyperparameters are lamb and alpha corresponding to enet_lambda and enet_alpha."
   ]
  },
  {
   "cell_type": "code",
   "execution_count": 4,
   "metadata": {},
   "outputs": [
    {
     "name": "stdout",
     "output_type": "stream",
     "text": [
      "Accuracy=0.911077\n"
     ]
    }
   ],
   "source": [
    "lr = linear_model.LogisticRegression(solver='Cyclical', tol=0.000001, max_iter=10000, stat_inf=True,\n",
    "                                     enet_lambda=0.000, enet_alpha=0.010, \n",
    "                                     class_map0='no', class_map1='yes')\n",
    "\n",
    "lr.fit(training_set, features=features, label=label)\n",
    "\n",
    "accuracy_val = lr.score(validation_set, 'ID', features=features, label=label)\n",
    "print('Accuracy=%f' %(accuracy_val))\n",
    "\n",
    "# Model has already been persisted.\n",
    "#model_persistence.save(connection_context, lr, 'nk_lr')"
   ]
  },
  {
   "cell_type": "markdown",
   "metadata": {},
   "source": [
    "## Model Analysis\n",
    "For simplicity, just look at coefficients to see if they are all meaningful.  In general, one may want to do PCA and graph the data to see what features should be used so that the model generalizes well.  In addition, see which features affect the outcome.\n",
    "\n",
    "Note the statement below.  The absolute value of the coefficient is calculated and sorted on this absolute value.  The method collect() is what brings the data to the client, otherwise all the computation is on the server and the data (actually just a reference to the data set as defined by a SQL statement) remains there."
   ]
  },
  {
   "cell_type": "code",
   "execution_count": 5,
   "metadata": {},
   "outputs": [
    {
     "name": "stdout",
     "output_type": "stream",
     "text": [
      "                                        VARIABLE_NAME  COEFFICIENT  \\\n",
      "0                                   __PAL_INTERCEPT__  -260.505672   \n",
      "1                  EDUCATION__PAL_DELIMIT__illiterate     2.935205   \n",
      "2                                      CONS_PRICE_IDX     2.315119   \n",
      "3                         DBM_MONTH__PAL_DELIMIT__mar     2.010171   \n",
      "4                                        EMP_VAR_RATE    -1.638762   \n",
      "..                                                ...          ...   \n",
      "62                           JOB__PAL_DELIMIT__admin.     0.000000   \n",
      "63  {\"CONTENT\":\"{\\\"impute_model\\\":{\\\"column_statis...          NaN   \n",
      "64  {\"CONTENT\":\"UMN_NAME\\\":\\\"LOAN\\\",\\\"IMPUTATION_T...          NaN   \n",
      "65  {\"CONTENT\":\",\\\"IMPUTED_VALUE\\\":\\\"961\\\",\\\"NUMBE...          NaN   \n",
      "66  {\"CONTENT\":\"_TYPE\\\":200,\\\"IMPUTED_VALUE\\\":\\\"3....          NaN   \n",
      "\n",
      "    ABS_COEFFICIENT  \n",
      "0        260.505672  \n",
      "1          2.935205  \n",
      "2          2.315119  \n",
      "3          2.010171  \n",
      "4          1.638762  \n",
      "..              ...  \n",
      "62         0.000000  \n",
      "63              NaN  \n",
      "64              NaN  \n",
      "65              NaN  \n",
      "66              NaN  \n",
      "\n",
      "[67 rows x 3 columns]\n"
     ]
    }
   ],
   "source": [
    "print(lr.coef_.select('*', ('abs(\"COEFFICIENT\")', 'ABS_COEFFICIENT')).sort(['ABS_COEFFICIENT'], desc=True).collect())"
   ]
  },
  {
   "cell_type": "markdown",
   "metadata": {},
   "source": [
    "# Save Model\n",
    "What we want to be able to do now is to save the model using a save command on the LogisticRegression object.\n",
    "Below is a hack that saves the PMML model to a specific table.  In general, we would want to save many attributes including the __coefficients__ so they can be compared to other models that are saved."
   ]
  },
  {
   "cell_type": "code",
   "execution_count": 6,
   "metadata": {},
   "outputs": [
    {
     "name": "stdout",
     "output_type": "stream",
     "text": [
      "SELECT * FROM \"#LR_RESULT_TBL_0_91B20870_DE35_11EB_A9F7_E4A7A0658DBB\"\n"
     ]
    },
    {
     "data": {
      "text/plain": [
       "<hana_ml.dataframe.DataFrame at 0x21e9b68aa00>"
      ]
     },
     "execution_count": 6,
     "metadata": {},
     "output_type": "execute_result"
    }
   ],
   "source": [
    "print(lr.result_.select_statement)\n",
    "with connection_context.connection.cursor() as cur:\n",
    "    try:\n",
    "        cur.execute('DROP TABLE {0}'.format(\"MYMODEL\"))\n",
    "    except:\n",
    "        pass\n",
    "lr.result_.save(\"MYMODEL\")   # save(\"scenario-name\", \"description\", \"model-name\")\n",
    "#  SAVE MODEL ....  This is not the desired API and is only for illustration\n",
    "# model.add_attribute(\"paramters\", (enet_alpha,...))\n",
    "# model.add_attribute(\"data set used\", ...)\n",
    "# model.add_attribute(\"tested by\", \"nanda\")\n",
    "# model.add_attribute(\"coefficients\", lr.coef_)"
   ]
  },
  {
   "cell_type": "code",
   "execution_count": 7,
   "metadata": {},
   "outputs": [
    {
     "name": "stdout",
     "output_type": "stream",
     "text": [
      "SELECT * FROM \"MYMODEL\"\n"
     ]
    }
   ],
   "source": [
    "df = connection_context.table(\"MYMODEL\")\n",
    "print(df.select_statement)"
   ]
  },
  {
   "cell_type": "markdown",
   "metadata": {},
   "source": [
    "## Save Model by Model Storage Services"
   ]
  },
  {
   "cell_type": "code",
   "execution_count": 8,
   "metadata": {},
   "outputs": [],
   "source": [
    "from hana_ml.model_storage import ModelStorage\n",
    "\n",
    "#MODEL_SCHEMA='STORAGE'\n",
    "# model storage must use the same connection than the model\n",
    "model_storage = ModelStorage(connection_context=connection_context,\n",
    "                             #schema=MODEL_SCHEMA\n",
    "                            )"
   ]
  },
  {
   "cell_type": "code",
   "execution_count": 9,
   "metadata": {},
   "outputs": [
    {
     "data": {
      "text/html": [
       "<div>\n",
       "<style scoped>\n",
       "    .dataframe tbody tr th:only-of-type {\n",
       "        vertical-align: middle;\n",
       "    }\n",
       "\n",
       "    .dataframe tbody tr th {\n",
       "        vertical-align: top;\n",
       "    }\n",
       "\n",
       "    .dataframe thead th {\n",
       "        text-align: right;\n",
       "    }\n",
       "</style>\n",
       "<table border=\"1\" class=\"dataframe\">\n",
       "  <thead>\n",
       "    <tr style=\"text-align: right;\">\n",
       "      <th></th>\n",
       "      <th>NAME</th>\n",
       "      <th>VERSION</th>\n",
       "      <th>LIBRARY</th>\n",
       "      <th>CLASS</th>\n",
       "      <th>JSON</th>\n",
       "      <th>TIMESTAMP</th>\n",
       "      <th>STORAGE_TYPE</th>\n",
       "      <th>MODEL_STORAGE_VER</th>\n",
       "      <th>SCHEDULE</th>\n",
       "    </tr>\n",
       "  </thead>\n",
       "  <tbody>\n",
       "    <tr>\n",
       "      <th>0</th>\n",
       "      <td>OnlineLR_fit</td>\n",
       "      <td>1</td>\n",
       "      <td>PAL</td>\n",
       "      <td>hana_ml.algorithms.pal.linear_model.OnlineLine...</td>\n",
       "      <td>{\"model_attributes\": {\"tol\": 1e-06, \"max_iter\"...</td>\n",
       "      <td>2021-07-02 09:44:55</td>\n",
       "      <td>default</td>\n",
       "      <td>1</td>\n",
       "      <td>{\"schedule\": {\"status\": \"inactive\", \"schedule_...</td>\n",
       "    </tr>\n",
       "    <tr>\n",
       "      <th>1</th>\n",
       "      <td>OnlineLR_predict</td>\n",
       "      <td>1</td>\n",
       "      <td>PAL</td>\n",
       "      <td>hana_ml.algorithms.pal.linear_model.OnlineLine...</td>\n",
       "      <td>{\"model_attributes\": {\"tol\": 1e-06, \"max_iter\"...</td>\n",
       "      <td>2021-07-02 09:45:09</td>\n",
       "      <td>default</td>\n",
       "      <td>1</td>\n",
       "      <td>{\"schedule\": {\"status\": \"inactive\", \"schedule_...</td>\n",
       "    </tr>\n",
       "    <tr>\n",
       "      <th>2</th>\n",
       "      <td>Model A</td>\n",
       "      <td>1</td>\n",
       "      <td>PAL</td>\n",
       "      <td>hana_ml.algorithms.pal.linear_model.LogisticRe...</td>\n",
       "      <td>{\"model_attributes\": {\"multi_class\": false, \"m...</td>\n",
       "      <td>2021-07-06 10:25:12</td>\n",
       "      <td>default</td>\n",
       "      <td>1</td>\n",
       "      <td>{\"schedule\": {\"status\": \"inactive\", \"schedule_...</td>\n",
       "    </tr>\n",
       "    <tr>\n",
       "      <th>3</th>\n",
       "      <td>Model A</td>\n",
       "      <td>2</td>\n",
       "      <td>PAL</td>\n",
       "      <td>hana_ml.algorithms.pal.linear_model.LogisticRe...</td>\n",
       "      <td>{\"model_attributes\": {\"multi_class\": false, \"m...</td>\n",
       "      <td>2021-07-06 16:24:16</td>\n",
       "      <td>default</td>\n",
       "      <td>1</td>\n",
       "      <td>{\"schedule\": {\"status\": \"inactive\", \"schedule_...</td>\n",
       "    </tr>\n",
       "    <tr>\n",
       "      <th>4</th>\n",
       "      <td>Model A</td>\n",
       "      <td>3</td>\n",
       "      <td>PAL</td>\n",
       "      <td>hana_ml.algorithms.pal.linear_model.LogisticRe...</td>\n",
       "      <td>{\"model_attributes\": {\"multi_class\": false, \"m...</td>\n",
       "      <td>2021-07-06 16:39:03</td>\n",
       "      <td>default</td>\n",
       "      <td>1</td>\n",
       "      <td>{\"schedule\": {\"status\": \"inactive\", \"schedule_...</td>\n",
       "    </tr>\n",
       "  </tbody>\n",
       "</table>\n",
       "</div>"
      ],
      "text/plain": [
       "               NAME  VERSION LIBRARY  \\\n",
       "0      OnlineLR_fit        1     PAL   \n",
       "1  OnlineLR_predict        1     PAL   \n",
       "2           Model A        1     PAL   \n",
       "3           Model A        2     PAL   \n",
       "4           Model A        3     PAL   \n",
       "\n",
       "                                               CLASS  \\\n",
       "0  hana_ml.algorithms.pal.linear_model.OnlineLine...   \n",
       "1  hana_ml.algorithms.pal.linear_model.OnlineLine...   \n",
       "2  hana_ml.algorithms.pal.linear_model.LogisticRe...   \n",
       "3  hana_ml.algorithms.pal.linear_model.LogisticRe...   \n",
       "4  hana_ml.algorithms.pal.linear_model.LogisticRe...   \n",
       "\n",
       "                                                JSON           TIMESTAMP  \\\n",
       "0  {\"model_attributes\": {\"tol\": 1e-06, \"max_iter\"... 2021-07-02 09:44:55   \n",
       "1  {\"model_attributes\": {\"tol\": 1e-06, \"max_iter\"... 2021-07-02 09:45:09   \n",
       "2  {\"model_attributes\": {\"multi_class\": false, \"m... 2021-07-06 10:25:12   \n",
       "3  {\"model_attributes\": {\"multi_class\": false, \"m... 2021-07-06 16:24:16   \n",
       "4  {\"model_attributes\": {\"multi_class\": false, \"m... 2021-07-06 16:39:03   \n",
       "\n",
       "  STORAGE_TYPE  MODEL_STORAGE_VER  \\\n",
       "0      default                  1   \n",
       "1      default                  1   \n",
       "2      default                  1   \n",
       "3      default                  1   \n",
       "4      default                  1   \n",
       "\n",
       "                                            SCHEDULE  \n",
       "0  {\"schedule\": {\"status\": \"inactive\", \"schedule_...  \n",
       "1  {\"schedule\": {\"status\": \"inactive\", \"schedule_...  \n",
       "2  {\"schedule\": {\"status\": \"inactive\", \"schedule_...  \n",
       "3  {\"schedule\": {\"status\": \"inactive\", \"schedule_...  \n",
       "4  {\"schedule\": {\"status\": \"inactive\", \"schedule_...  "
      ]
     },
     "execution_count": 9,
     "metadata": {},
     "output_type": "execute_result"
    }
   ],
   "source": [
    "# Saves the model\n",
    "lr.name = 'Model A'  # The model name is mandatory\n",
    "lr.version = 1\n",
    "model_storage.save_model(model=lr)\n",
    "#need to increase version\n",
    "\n",
    "# Lists models\n",
    "model_storage.list_models()"
   ]
  },
  {
   "cell_type": "code",
   "execution_count": 10,
   "metadata": {},
   "outputs": [],
   "source": [
    "model = model_storage.load_model(name='Model A', version=1)"
   ]
  }
 ],
 "metadata": {
  "kernelspec": {
   "display_name": "Python 3 (ipykernel)",
   "language": "python",
   "name": "python3"
  },
  "language_info": {
   "codemirror_mode": {
    "name": "ipython",
    "version": 3
   },
   "file_extension": ".py",
   "mimetype": "text/x-python",
   "name": "python",
   "nbconvert_exporter": "python",
   "pygments_lexer": "ipython3",
   "version": "3.9.5"
  }
 },
 "nbformat": 4,
 "nbformat_minor": 4
}

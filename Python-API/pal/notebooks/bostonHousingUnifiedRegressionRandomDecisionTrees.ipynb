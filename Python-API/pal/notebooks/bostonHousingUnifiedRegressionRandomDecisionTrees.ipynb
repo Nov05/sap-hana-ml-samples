{
 "cells": [
  {
   "cell_type": "markdown",
   "metadata": {},
   "source": [
    "# Random Forest Regression Example\n",
    "\n",
    "## Boston housing prices\n",
    "The objective is to predict the median price of a home in Boston.  The variables are crime rate, zoning information,\n",
    "proportion of non-retail business, etc.  This dataset has median prices in Boston for 1972.  Even though the data is pretty old, the methodology for analytics is valid for more recent datasets.\n",
    "\n",
    "<b>The purpose of this demonstration is to show the use of SAP HANA's Predictive Analytics Library to created Random forest model.</b>\n",
    "\n",
    "The dataset is from Kaggle. https://www.kaggle.com/c/boston-housing. For tutorials use only.\n",
    "\n",
    "## Housing Values in Suburbs of Boston in 1972\n",
    "\n",
    "The <font color='red'>medv</font> variable is the target variable.\n",
    "### Data description\n",
    "The Boston data frame has 506 rows and 14 columns.\n",
    "This data frame contains the following columns:\n",
    "1. __crim__: per capita crime rate by town.\n",
    "2. __zn__: proportion of residential land zoned for lots over 25,000 sq.ft.\n",
    "3. __indus__: proportion of non-retail business acres per town.\n",
    "4. __chas__: Charles River dummy variable (1 if tract bounds river; 0 otherwise).\n",
    "5. __nox__: nitrogen oxides concentration (parts per 10 million).\n",
    "6. __rm__: average number of rooms per dwelling.\n",
    "7. __age__: proportion of owner-occupied units built prior to 1940.\n",
    "8. __dis__: weighted mean of distances to five Boston employment centres.\n",
    "9. __rad__: index of accessibility to radial highways.\n",
    "10. __tax__: full-value property-tax rate per \\$10000\n",
    "11. __ptratio__: pupil-teacher ratio by town.\n",
    "12. __black__: 1000(Bk - 0.63)^2 where Bk is the proportion of blacks by town.\n",
    "13. __lstat__: lower status of the population (percent).\n",
    "14. __medv__: median value of owner-occupied homes in $1000s.\n",
    "</td></tr></table>\n",
    "\n",
    "### Factoids\n",
    "The prices in Boston across years is below.  If we had a historical dataset, an analysis could be done to account for the macro trends as well.\n",
    "\n",
    "The second graph shows the intuition we have with respect to prices in relation to crime rate.  It is expected that house prices will be lower in areas where crime rates are higher.\n",
    "\n",
    "The third figure is a chart showing how inflation may affect prices.  So, for deeper analysis and prediction, we may want to consider inflation.\n",
    "\n",
    "In this notebook, these factors are not considered.  They are here to demonstrate the need for deep domain analysis.\n",
    "\n",
    "<table><tr>\n",
    "<td><img src=\"images/boston_prices_by_year.png\" alt=\"Boston home prices\" title=\"Boston housing prices\" style=\"float:left;\" /></td>\n",
    "<td><img src=\"images/Crime-Rate-and-Median-House-Prices.png\" alt=\"Boston home prices\" title=\"Boston housing prices\"  /></td>\n",
    "<td><img src=\"images/Inflation_Adjusted_Housing_Prices_1890_2006.jpg\" alt=\"Inflation adjusted prices\" title=\"Inflation adjusted prices\" style=\"float:left;\" />\n",
    "</td></tr></table>\n",
    "\n",
    "\n",
    "In this notebook, we will use the dataset for Boston housing prices and predict the price based on numerous factors."
   ]
  },
  {
   "cell_type": "code",
   "execution_count": 1,
   "metadata": {},
   "outputs": [],
   "source": [
    "from hana_ml import dataframe\n",
    "from hana_ml.algorithms.pal import clustering\n",
    "from hana_ml.algorithms.pal.unified_regression import UnifiedRegression\n",
    "import numpy as np\n",
    "import matplotlib.pyplot as plt\n",
    "import logging"
   ]
  },
  {
   "cell_type": "markdown",
   "metadata": {},
   "source": [
    "## Load data\n",
    "The data is loaded into 4 tables, for full, training, validation, and test sets:\n",
    "<li>BOSTON_HOUSING_PRICES</li>\n",
    "<li>BOSTON_HOUSING_PRICES_TRAINING</li>\n",
    "<li>BOSTON_HOUSING_PRICES_VALIDATION</li>\n",
    "<li>BOSTON_HOUSING_PRICES_TEST</li>\n",
    "\n",
    "To do that, a connection is created and passed to the loader.\n",
    "\n",
    "There is a config file, config/e2edata.ini that controls the connection parameters and whether or not to reload the data from scratch.  In case the data is already loaded, there would be no need to load the data.  A sample section is below.  If the config parameter, reload_data is true then the tables for test, training, and validation are (re-)created and data inserted into them.\n",
    "\n",
    "Although this ini file has other sections, please do not modify them. Only the [hana] section should be modified.\n",
    "\n",
    "#########################<br>\n",
    "[hana]<br>\n",
    "url=host.sjc.sap.corp<br>\n",
    "user=username<br>\n",
    "passwd=userpassword<br>\n",
    "port=3xx15<br>\n",
    "#########################<br>"
   ]
  },
  {
   "cell_type": "code",
   "execution_count": 2,
   "metadata": {},
   "outputs": [
    {
     "name": "stdout",
     "output_type": "stream",
     "text": [
      "Creating table PAL_TEST.BOSTON_HOUSING_PRICES\n",
      "Creating table PAL_TEST.BOSTON_HOUSING_PRICES_TRAINING\n",
      "Creating table PAL_TEST.BOSTON_HOUSING_PRICES_VALIDATION\n",
      "Creating table PAL_TEST.BOSTON_HOUSING_PRICES_TEST\n",
      "Data Loaded:100%\n"
     ]
    }
   ],
   "source": [
    "from data_load_utils import DataSets, Settings\n",
    "url, port, user, pwd = Settings.load_config(\"../../config/e2edata.ini\")\n",
    "connection_context = dataframe.ConnectionContext(url, port, user, pwd)\n",
    "full_tbl, training_tbl, validation_tbl, test_tbl = DataSets.load_boston_housing_data(connection_context, force=True)"
   ]
  },
  {
   "cell_type": "code",
   "execution_count": 3,
   "metadata": {},
   "outputs": [
    {
     "data": {
      "text/plain": [
       "'4.50.000.00.1624860913 (master)'"
      ]
     },
     "execution_count": 3,
     "metadata": {},
     "output_type": "execute_result"
    }
   ],
   "source": [
    "connection_context.hana_version()"
   ]
  },
  {
   "cell_type": "markdown",
   "metadata": {},
   "source": [
    "# Create Data Frames\n",
    "Create the data frames for the full, test, training, and validation sets.\n",
    "\n",
    "Let us also do some dtaa exploration."
   ]
  },
  {
   "cell_type": "markdown",
   "metadata": {},
   "source": [
    "## Define Datasets - Training, validation, and test sets\n",
    "Data frames are used keep references to data so computation on large data sets in HANA can happen in HANA.  Trying to bring the entire data set into the client will likely result in out of memory exceptions.\n",
    "\n",
    "The original/full dataset is split into training, test and validation sets.  In the example below, they reside in different tables."
   ]
  },
  {
   "cell_type": "code",
   "execution_count": 4,
   "metadata": {},
   "outputs": [],
   "source": [
    "full_set = connection_context.table(full_tbl)\n",
    "training_set = connection_context.table(training_tbl)\n",
    "validation_set = connection_context.table(validation_tbl)\n",
    "test_set = connection_context.table(test_tbl)"
   ]
  },
  {
   "cell_type": "markdown",
   "metadata": {},
   "source": [
    "## Simple Exploration\n",
    "Let us look at the number of rows in the data set"
   ]
  },
  {
   "cell_type": "code",
   "execution_count": 5,
   "metadata": {},
   "outputs": [
    {
     "name": "stdout",
     "output_type": "stream",
     "text": [
      "Number of rows in full set: 506\n",
      "Number of rows in training set: 253\n",
      "Number of rows in validation set: 202\n",
      "Number of rows in test set: 51\n"
     ]
    }
   ],
   "source": [
    "print('Number of rows in full set: {}'.format(full_set.count()))\n",
    "print('Number of rows in training set: {}'.format(training_set.count()))\n",
    "print('Number of rows in validation set: {}'.format(validation_set.count()))\n",
    "print('Number of rows in test set: {}'.format(test_set.count()))"
   ]
  },
  {
   "cell_type": "markdown",
   "metadata": {},
   "source": [
    "### Let's look at the columns"
   ]
  },
  {
   "cell_type": "code",
   "execution_count": 6,
   "metadata": {},
   "outputs": [
    {
     "name": "stdout",
     "output_type": "stream",
     "text": [
      "['CRIM', 'ZN', 'INDUS', 'CHAS', 'NOX', 'RM', 'AGE', 'DIS', 'RAD', 'TAX', 'PTRATIO', 'BLACK', 'LSTAT', 'MEDV', 'ID']\n"
     ]
    }
   ],
   "source": [
    "print(full_set.columns)"
   ]
  },
  {
   "cell_type": "markdown",
   "metadata": {},
   "source": [
    "### Let's look at the data types"
   ]
  },
  {
   "cell_type": "code",
   "execution_count": 7,
   "metadata": {},
   "outputs": [
    {
     "data": {
      "text/plain": [
       "[('CRIM', 'DECIMAL', 12, 12, 12, 5),\n",
       " ('ZN', 'DECIMAL', 7, 7, 7, 3),\n",
       " ('INDUS', 'DECIMAL', 7, 7, 7, 2),\n",
       " ('CHAS', 'SMALLINT', 5, 5, 5, 0),\n",
       " ('NOX', 'DECIMAL', 10, 10, 10, 4),\n",
       " ('RM', 'DECIMAL', 8, 8, 8, 3),\n",
       " ('AGE', 'DECIMAL', 7, 7, 7, 3),\n",
       " ('DIS', 'DECIMAL', 11, 11, 11, 4),\n",
       " ('RAD', 'TINYINT', 3, 3, 3, 0),\n",
       " ('TAX', 'SMALLINT', 5, 5, 5, 0),\n",
       " ('PTRATIO', 'DECIMAL', 6, 6, 6, 2),\n",
       " ('BLACK', 'DECIMAL', 9, 9, 9, 3),\n",
       " ('LSTAT', 'DECIMAL', 7, 7, 7, 2),\n",
       " ('MEDV', 'DECIMAL', 6, 6, 6, 2),\n",
       " ('ID', 'INT', 10, 10, 10, 0)]"
      ]
     },
     "execution_count": 7,
     "metadata": {},
     "output_type": "execute_result"
    }
   ],
   "source": [
    "full_set.dtypes()"
   ]
  },
  {
   "cell_type": "markdown",
   "metadata": {},
   "source": [
    "### Set up the features and labels for the model"
   ]
  },
  {
   "cell_type": "code",
   "execution_count": 8,
   "metadata": {},
   "outputs": [],
   "source": [
    "features=['CRIM', 'ZN', 'INDUS', 'CHAS', 'NOX', 'RM', 'AGE', 'DIS', 'RAD', 'TAX', 'PTRATIO', 'BLACK', 'LSTAT']\n",
    "label='MEDV'"
   ]
  },
  {
   "cell_type": "markdown",
   "metadata": {},
   "source": [
    "# Create model using training data\n",
    "For demonstration, we will create two models, model and model_with_id, one where we have a unique id in the training set and one where there is none.\n",
    "\n",
    "We are using Random Forest regression and SVM routines in this example\n",
    "\n",
    "Documentation is <a href=\"https://help.sap.com/http.svc/rc/DRAFT/3f0dbe754b194c42a6bf3405697b711f/2.0.031/en-US/html/index.html\">here</a>"
   ]
  },
  {
   "cell_type": "markdown",
   "metadata": {},
   "source": [
    "## Preprocessing\n",
    "SAP HANA Predictive Analytics Library takes DOUBLE and INTEGER data types for most numeric types.  Since we have DECIMALs and TINYINTs in our data set, we cast them to the types required by PAL."
   ]
  },
  {
   "cell_type": "code",
   "execution_count": 9,
   "metadata": {},
   "outputs": [
    {
     "data": {
      "text/html": [
       "<div>\n",
       "<style scoped>\n",
       "    .dataframe tbody tr th:only-of-type {\n",
       "        vertical-align: middle;\n",
       "    }\n",
       "\n",
       "    .dataframe tbody tr th {\n",
       "        vertical-align: top;\n",
       "    }\n",
       "\n",
       "    .dataframe thead th {\n",
       "        text-align: right;\n",
       "    }\n",
       "</style>\n",
       "<table border=\"1\" class=\"dataframe\">\n",
       "  <thead>\n",
       "    <tr style=\"text-align: right;\">\n",
       "      <th></th>\n",
       "      <th>ID</th>\n",
       "      <th>CRIM</th>\n",
       "      <th>ZN</th>\n",
       "      <th>INDUS</th>\n",
       "      <th>CHAS</th>\n",
       "      <th>NOX</th>\n",
       "      <th>RM</th>\n",
       "      <th>AGE</th>\n",
       "      <th>DIS</th>\n",
       "      <th>RAD</th>\n",
       "      <th>TAX</th>\n",
       "      <th>PTRATIO</th>\n",
       "      <th>BLACK</th>\n",
       "      <th>LSTAT</th>\n",
       "      <th>MEDV</th>\n",
       "    </tr>\n",
       "  </thead>\n",
       "  <tbody>\n",
       "    <tr>\n",
       "      <th>0</th>\n",
       "      <td>196</td>\n",
       "      <td>0.01381</td>\n",
       "      <td>80.0</td>\n",
       "      <td>0.46</td>\n",
       "      <td>0</td>\n",
       "      <td>0.422</td>\n",
       "      <td>7.875</td>\n",
       "      <td>32.0</td>\n",
       "      <td>5.6484</td>\n",
       "      <td>4</td>\n",
       "      <td>255</td>\n",
       "      <td>14.4</td>\n",
       "      <td>394.23</td>\n",
       "      <td>2.97</td>\n",
       "      <td>50.0</td>\n",
       "    </tr>\n",
       "    <tr>\n",
       "      <th>1</th>\n",
       "      <td>124</td>\n",
       "      <td>0.15038</td>\n",
       "      <td>0.0</td>\n",
       "      <td>25.65</td>\n",
       "      <td>0</td>\n",
       "      <td>0.581</td>\n",
       "      <td>5.856</td>\n",
       "      <td>97.0</td>\n",
       "      <td>1.9444</td>\n",
       "      <td>2</td>\n",
       "      <td>188</td>\n",
       "      <td>19.1</td>\n",
       "      <td>370.31</td>\n",
       "      <td>25.41</td>\n",
       "      <td>17.3</td>\n",
       "    </tr>\n",
       "    <tr>\n",
       "      <th>2</th>\n",
       "      <td>60</td>\n",
       "      <td>0.10328</td>\n",
       "      <td>25.0</td>\n",
       "      <td>5.13</td>\n",
       "      <td>0</td>\n",
       "      <td>0.453</td>\n",
       "      <td>5.927</td>\n",
       "      <td>47.2</td>\n",
       "      <td>6.9320</td>\n",
       "      <td>8</td>\n",
       "      <td>284</td>\n",
       "      <td>19.7</td>\n",
       "      <td>396.90</td>\n",
       "      <td>9.22</td>\n",
       "      <td>19.6</td>\n",
       "    </tr>\n",
       "    <tr>\n",
       "      <th>3</th>\n",
       "      <td>76</td>\n",
       "      <td>0.09512</td>\n",
       "      <td>0.0</td>\n",
       "      <td>12.83</td>\n",
       "      <td>0</td>\n",
       "      <td>0.437</td>\n",
       "      <td>6.286</td>\n",
       "      <td>45.0</td>\n",
       "      <td>4.5026</td>\n",
       "      <td>5</td>\n",
       "      <td>398</td>\n",
       "      <td>18.7</td>\n",
       "      <td>383.23</td>\n",
       "      <td>8.94</td>\n",
       "      <td>21.4</td>\n",
       "    </tr>\n",
       "    <tr>\n",
       "      <th>4</th>\n",
       "      <td>482</td>\n",
       "      <td>5.70818</td>\n",
       "      <td>0.0</td>\n",
       "      <td>18.10</td>\n",
       "      <td>0</td>\n",
       "      <td>0.532</td>\n",
       "      <td>6.750</td>\n",
       "      <td>74.9</td>\n",
       "      <td>3.3317</td>\n",
       "      <td>24</td>\n",
       "      <td>666</td>\n",
       "      <td>20.2</td>\n",
       "      <td>393.07</td>\n",
       "      <td>7.74</td>\n",
       "      <td>23.7</td>\n",
       "    </tr>\n",
       "  </tbody>\n",
       "</table>\n",
       "</div>"
      ],
      "text/plain": [
       "    ID     CRIM    ZN  INDUS  CHAS    NOX     RM   AGE     DIS  RAD  TAX  \\\n",
       "0  196  0.01381  80.0   0.46     0  0.422  7.875  32.0  5.6484    4  255   \n",
       "1  124  0.15038   0.0  25.65     0  0.581  5.856  97.0  1.9444    2  188   \n",
       "2   60  0.10328  25.0   5.13     0  0.453  5.927  47.2  6.9320    8  284   \n",
       "3   76  0.09512   0.0  12.83     0  0.437  6.286  45.0  4.5026    5  398   \n",
       "4  482  5.70818   0.0  18.10     0  0.532  6.750  74.9  3.3317   24  666   \n",
       "\n",
       "   PTRATIO   BLACK  LSTAT  MEDV  \n",
       "0     14.4  394.23   2.97  50.0  \n",
       "1     19.1  370.31  25.41  17.3  \n",
       "2     19.7  396.90   9.22  19.6  \n",
       "3     18.7  383.23   8.94  21.4  \n",
       "4     20.2  393.07   7.74  23.7  "
      ]
     },
     "execution_count": 9,
     "metadata": {},
     "output_type": "execute_result"
    }
   ],
   "source": [
    "# Cast to correct types so PAL can consume it.\n",
    "dfts = training_set.cast(['CRIM', \"ZN\", \"INDUS\", \"NOX\", \"RM\", \"AGE\", \"DIS\", \"PTRATIO\", \"BLACK\", \"LSTAT\", \"MEDV\"], \"DOUBLE\")\n",
    "dfts = dfts.cast([\"CHAS\", \"RAD\", \"TAX\"], \"INTEGER\")\n",
    "dfts = dfts.to_head(\"ID\")\n",
    "dfts.head(5).collect()"
   ]
  },
  {
   "cell_type": "markdown",
   "metadata": {},
   "source": [
    "## Create the model\n",
    "Although we had seen graphically that only a few features had an impact on housing prices, let us use all the features to create a model.  We will then use the model to check for importance of the features."
   ]
  },
  {
   "cell_type": "code",
   "execution_count": 10,
   "metadata": {},
   "outputs": [
    {
     "data": {
      "text/plain": [
       "<hana_ml.algorithms.pal.unified_regression.UnifiedRegression at 0x18b78686040>"
      ]
     },
     "execution_count": 10,
     "metadata": {},
     "output_type": "execute_result"
    }
   ],
   "source": [
    "# We build the model without IDs.  Project only the features and the label.\n",
    "df = dfts.select(features, label)\n",
    "model = UnifiedRegression(func='RandomForest')\n",
    "model.fit(df, features=features, label=label)"
   ]
  },
  {
   "cell_type": "markdown",
   "metadata": {},
   "source": [
    "### SQL statements executed\n",
    "Calling PAL directly would require a number of SQL statements and all that is encapsulated in the Python library functions."
   ]
  },
  {
   "cell_type": "markdown",
   "metadata": {},
   "source": [
    "# Predict using test set\n",
    "Let us now do some predictions and see how well the model generalizes.\n",
    "\n",
    "The predict() method always takes a unique identifier to identify the prediction on a specific data row.  This way, the caller (python programmer) can then join with the original data set to get the rest of the values for that unique row.  The test_set has columns of types that PAL does not deal with and therefore the columns are cast to the types that are accepted.\n",
    "\n",
    "In order to look at the predicted value as well as the true value, the name of the unique identifier for rows in the result table is renamed to PREDICTED_ID.  This result table is joined with the test set so the predicted and true value can be compared.\n",
    "\n",
    "For the predictions we look at the standard error.  The standard error is defined as the number of standard deviations away the prediction is from the true value."
   ]
  },
  {
   "cell_type": "code",
   "execution_count": 11,
   "metadata": {},
   "outputs": [],
   "source": [
    "df_test = test_set.cast(['CRIM', \"ZN\", \"INDUS\", \"NOX\", \"RM\", \"AGE\", \"DIS\", \"PTRATIO\", \"BLACK\", \"LSTAT\", \"MEDV\"], \"DOUBLE\")\n",
    "df_test = df_test.cast([\"CHAS\", \"RAD\", \"TAX\"], \"INTEGER\")\n",
    "df_test = df_test.to_head(\"ID\")"
   ]
  },
  {
   "cell_type": "code",
   "execution_count": 12,
   "metadata": {},
   "outputs": [],
   "source": [
    "# Note that we are renaming the column ID in the result of predict()\n",
    "result_df = model.predict(df_test, key= 'ID', features=features).rename_columns({'ID': 'PREDICTED_ID'})\n",
    "# Note the use of join() method to join two tables.\n",
    "jdf = result_df.join(test_set, '{}.\"PREDICTED_ID\"={}.\"ID\"'.format(result_df.name, test_set.name), how='inner')"
   ]
  },
  {
   "cell_type": "code",
   "execution_count": 13,
   "metadata": {},
   "outputs": [
    {
     "name": "stdout",
     "output_type": "stream",
     "text": [
      "\u001b[31m1.Using Shapley values to show the distribution of the impacts each feature has on the model output.\n",
      "\u001b[31m2.The color represents the feature value (red high, blue low).\n",
      "\u001b[31m3.The plot below shows the relationship between feature value and Shapley value.\n",
      "\u001b[31m-- If the dots in the left area are blue and the dots in the right area are red, then it means that the feature value and the Shapley value are typically positive correlation.\n",
      "\u001b[31m-- If the dots in the left area are red and the dots in the right area are blue, then it means that the feature value and the Shapley value are typically negative correlation.\n",
      "\u001b[31m-- If all the dots are concentrated near 0, it means that the Shapley value has nothing to do with this feature.\n"
     ]
    },
    {
     "data": {
      "image/png": "[encoded data removed]",
      "text/plain": [
       "<Figure size 576x482.4 with 2 Axes>"
      ]
     },
     "metadata": {
      "needs_background": "light"
     },
     "output_type": "display_data"
    }
   ],
   "source": [
    "from hana_ml.visualizers.model_debriefing import TreeModelDebriefing\n",
    "\n",
    "shapley_explainer = TreeModelDebriefing.shapley_explainer(result_df, df_test, key='ID', label='MEDV')\n",
    "shapley_explainer.summary_plot()"
   ]
  },
  {
   "cell_type": "markdown",
   "metadata": {},
   "source": [
    "### Predictions\n",
    "Let us look at the predictions.  The predicted values are in 'SCORE' and the actual values are in 'MEDV'.  So, we just rename the 'SCORE' column to 'PREDICTED'\n",
    "\n",
    "In addition, the column 'CONFIDENCE' is the standard error which is the number of standard deviations away the actual values is from the predicted value.  This column is renamed to 'STANDARD_ERROR'"
   ]
  },
  {
   "cell_type": "code",
   "execution_count": 14,
   "metadata": {},
   "outputs": [
    {
     "data": {
      "text/html": [
       "<div>\n",
       "<style scoped>\n",
       "    .dataframe tbody tr th:only-of-type {\n",
       "        vertical-align: middle;\n",
       "    }\n",
       "\n",
       "    .dataframe tbody tr th {\n",
       "        vertical-align: top;\n",
       "    }\n",
       "\n",
       "    .dataframe thead th {\n",
       "        text-align: right;\n",
       "    }\n",
       "</style>\n",
       "<table border=\"1\" class=\"dataframe\">\n",
       "  <thead>\n",
       "    <tr style=\"text-align: right;\">\n",
       "      <th></th>\n",
       "      <th>PREDICTED_ID</th>\n",
       "      <th>SCORE</th>\n",
       "      <th>UPPER_BOUND</th>\n",
       "      <th>LOWER_BOUND</th>\n",
       "      <th>REASON</th>\n",
       "      <th>CRIM</th>\n",
       "      <th>ZN</th>\n",
       "      <th>INDUS</th>\n",
       "      <th>CHAS</th>\n",
       "      <th>NOX</th>\n",
       "      <th>RM</th>\n",
       "      <th>AGE</th>\n",
       "      <th>DIS</th>\n",
       "      <th>RAD</th>\n",
       "      <th>TAX</th>\n",
       "      <th>PTRATIO</th>\n",
       "      <th>BLACK</th>\n",
       "      <th>LSTAT</th>\n",
       "      <th>MEDV</th>\n",
       "      <th>ID</th>\n",
       "    </tr>\n",
       "  </thead>\n",
       "  <tbody>\n",
       "    <tr>\n",
       "      <th>0</th>\n",
       "      <td>225</td>\n",
       "      <td>37.5037</td>\n",
       "      <td>5.584693</td>\n",
       "      <td>None</td>\n",
       "      <td>[{\"attr\":\"LSTAT\",\"pct\":42.0,\"val\":6.0833703979...</td>\n",
       "      <td>0.31533</td>\n",
       "      <td>0</td>\n",
       "      <td>6.2</td>\n",
       "      <td>0</td>\n",
       "      <td>0.504</td>\n",
       "      <td>8.266</td>\n",
       "      <td>78.3</td>\n",
       "      <td>2.8944</td>\n",
       "      <td>8</td>\n",
       "      <td>307</td>\n",
       "      <td>17.4</td>\n",
       "      <td>385.05</td>\n",
       "      <td>4.14</td>\n",
       "      <td>44.8</td>\n",
       "      <td>225</td>\n",
       "    </tr>\n",
       "    <tr>\n",
       "      <th>1</th>\n",
       "      <td>450</td>\n",
       "      <td>15.4656</td>\n",
       "      <td>2.374665</td>\n",
       "      <td>None</td>\n",
       "      <td>[{\"attr\":\"LSTAT\",\"pct\":37.0,\"val\":-2.850329081...</td>\n",
       "      <td>7.52601</td>\n",
       "      <td>0</td>\n",
       "      <td>18.1</td>\n",
       "      <td>0</td>\n",
       "      <td>0.713</td>\n",
       "      <td>6.417</td>\n",
       "      <td>98.3</td>\n",
       "      <td>2.185</td>\n",
       "      <td>24</td>\n",
       "      <td>666</td>\n",
       "      <td>20.2</td>\n",
       "      <td>304.21</td>\n",
       "      <td>19.31</td>\n",
       "      <td>13</td>\n",
       "      <td>450</td>\n",
       "    </tr>\n",
       "    <tr>\n",
       "      <th>2</th>\n",
       "      <td>309</td>\n",
       "      <td>30.2288</td>\n",
       "      <td>8.994242</td>\n",
       "      <td>None</td>\n",
       "      <td>[{\"attr\":\"LSTAT\",\"pct\":74.0,\"val\":6.8095393775...</td>\n",
       "      <td>0.49298</td>\n",
       "      <td>0</td>\n",
       "      <td>9.9</td>\n",
       "      <td>0</td>\n",
       "      <td>0.544</td>\n",
       "      <td>6.635</td>\n",
       "      <td>82.5</td>\n",
       "      <td>3.3175</td>\n",
       "      <td>4</td>\n",
       "      <td>304</td>\n",
       "      <td>18.4</td>\n",
       "      <td>396.9</td>\n",
       "      <td>4.54</td>\n",
       "      <td>22.8</td>\n",
       "      <td>309</td>\n",
       "    </tr>\n",
       "    <tr>\n",
       "      <th>3</th>\n",
       "      <td>13</td>\n",
       "      <td>21.5602</td>\n",
       "      <td>2.049750</td>\n",
       "      <td>None</td>\n",
       "      <td>[{\"attr\":\"LSTAT\",\"pct\":34.0,\"val\":-2.213860430...</td>\n",
       "      <td>0.09378</td>\n",
       "      <td>12.5</td>\n",
       "      <td>7.87</td>\n",
       "      <td>0</td>\n",
       "      <td>0.524</td>\n",
       "      <td>5.889</td>\n",
       "      <td>39</td>\n",
       "      <td>5.4509</td>\n",
       "      <td>5</td>\n",
       "      <td>311</td>\n",
       "      <td>15.2</td>\n",
       "      <td>390.5</td>\n",
       "      <td>15.71</td>\n",
       "      <td>21.7</td>\n",
       "      <td>13</td>\n",
       "    </tr>\n",
       "    <tr>\n",
       "      <th>4</th>\n",
       "      <td>231</td>\n",
       "      <td>21.8169</td>\n",
       "      <td>2.135401</td>\n",
       "      <td>None</td>\n",
       "      <td>[{\"attr\":\"LSTAT\",\"pct\":31.0,\"val\":-1.604051913...</td>\n",
       "      <td>0.537</td>\n",
       "      <td>0</td>\n",
       "      <td>6.2</td>\n",
       "      <td>0</td>\n",
       "      <td>0.504</td>\n",
       "      <td>5.981</td>\n",
       "      <td>68.1</td>\n",
       "      <td>3.6715</td>\n",
       "      <td>8</td>\n",
       "      <td>307</td>\n",
       "      <td>17.4</td>\n",
       "      <td>378.35</td>\n",
       "      <td>11.65</td>\n",
       "      <td>24.3</td>\n",
       "      <td>231</td>\n",
       "    </tr>\n",
       "  </tbody>\n",
       "</table>\n",
       "</div>"
      ],
      "text/plain": [
       "   PREDICTED_ID    SCORE  UPPER_BOUND LOWER_BOUND  \\\n",
       "0           225  37.5037     5.584693        None   \n",
       "1           450  15.4656     2.374665        None   \n",
       "2           309  30.2288     8.994242        None   \n",
       "3            13  21.5602     2.049750        None   \n",
       "4           231  21.8169     2.135401        None   \n",
       "\n",
       "                                              REASON     CRIM    ZN INDUS  \\\n",
       "0  [{\"attr\":\"LSTAT\",\"pct\":42.0,\"val\":6.0833703979...  0.31533     0   6.2   \n",
       "1  [{\"attr\":\"LSTAT\",\"pct\":37.0,\"val\":-2.850329081...  7.52601     0  18.1   \n",
       "2  [{\"attr\":\"LSTAT\",\"pct\":74.0,\"val\":6.8095393775...  0.49298     0   9.9   \n",
       "3  [{\"attr\":\"LSTAT\",\"pct\":34.0,\"val\":-2.213860430...  0.09378  12.5  7.87   \n",
       "4  [{\"attr\":\"LSTAT\",\"pct\":31.0,\"val\":-1.604051913...    0.537     0   6.2   \n",
       "\n",
       "   CHAS    NOX     RM   AGE     DIS  RAD  TAX PTRATIO   BLACK  LSTAT  MEDV  \\\n",
       "0     0  0.504  8.266  78.3  2.8944    8  307    17.4  385.05   4.14  44.8   \n",
       "1     0  0.713  6.417  98.3   2.185   24  666    20.2  304.21  19.31    13   \n",
       "2     0  0.544  6.635  82.5  3.3175    4  304    18.4   396.9   4.54  22.8   \n",
       "3     0  0.524  5.889    39  5.4509    5  311    15.2   390.5  15.71  21.7   \n",
       "4     0  0.504  5.981  68.1  3.6715    8  307    17.4  378.35  11.65  24.3   \n",
       "\n",
       "    ID  \n",
       "0  225  \n",
       "1  450  \n",
       "2  309  \n",
       "3   13  \n",
       "4  231  "
      ]
     },
     "execution_count": 14,
     "metadata": {},
     "output_type": "execute_result"
    }
   ],
   "source": [
    "jdf.head(5).collect()"
   ]
  },
  {
   "cell_type": "markdown",
   "metadata": {},
   "source": [
    "## Scoring\n",
    "We now score the results from are test data.  The scoring function we use is R^2.\n",
    "\n",
    "__In the function below, PAL is not invoked but a query is directly executed against data in HANA__"
   ]
  },
  {
   "cell_type": "code",
   "execution_count": 15,
   "metadata": {},
   "outputs": [
    {
     "data": {
      "text/html": [
       "<div>\n",
       "<style scoped>\n",
       "    .dataframe tbody tr th:only-of-type {\n",
       "        vertical-align: middle;\n",
       "    }\n",
       "\n",
       "    .dataframe tbody tr th {\n",
       "        vertical-align: top;\n",
       "    }\n",
       "\n",
       "    .dataframe thead th {\n",
       "        text-align: right;\n",
       "    }\n",
       "</style>\n",
       "<table border=\"1\" class=\"dataframe\">\n",
       "  <thead>\n",
       "    <tr style=\"text-align: right;\">\n",
       "      <th></th>\n",
       "      <th>STAT_NAME</th>\n",
       "      <th>STAT_VALUE</th>\n",
       "    </tr>\n",
       "  </thead>\n",
       "  <tbody>\n",
       "    <tr>\n",
       "      <th>0</th>\n",
       "      <td>EVAR</td>\n",
       "      <td>0.8107667378416284</td>\n",
       "    </tr>\n",
       "    <tr>\n",
       "      <th>1</th>\n",
       "      <td>MAE</td>\n",
       "      <td>3.531639215686273</td>\n",
       "    </tr>\n",
       "    <tr>\n",
       "      <th>2</th>\n",
       "      <td>MAPE</td>\n",
       "      <td>0.18284853340161858</td>\n",
       "    </tr>\n",
       "    <tr>\n",
       "      <th>3</th>\n",
       "      <td>MAX_ERROR</td>\n",
       "      <td>10.805700000000002</td>\n",
       "    </tr>\n",
       "    <tr>\n",
       "      <th>4</th>\n",
       "      <td>MSE</td>\n",
       "      <td>19.9306410627451</td>\n",
       "    </tr>\n",
       "    <tr>\n",
       "      <th>5</th>\n",
       "      <td>R2</td>\n",
       "      <td>0.8071894731322171</td>\n",
       "    </tr>\n",
       "    <tr>\n",
       "      <th>6</th>\n",
       "      <td>RMSE</td>\n",
       "      <td>4.464374655284332</td>\n",
       "    </tr>\n",
       "    <tr>\n",
       "      <th>7</th>\n",
       "      <td>WMAPE</td>\n",
       "      <td>0.15175128485971853</td>\n",
       "    </tr>\n",
       "  </tbody>\n",
       "</table>\n",
       "</div>"
      ],
      "text/plain": [
       "   STAT_NAME           STAT_VALUE\n",
       "0       EVAR   0.8107667378416284\n",
       "1        MAE    3.531639215686273\n",
       "2       MAPE  0.18284853340161858\n",
       "3  MAX_ERROR   10.805700000000002\n",
       "4        MSE     19.9306410627451\n",
       "5         R2   0.8071894731322171\n",
       "6       RMSE    4.464374655284332\n",
       "7      WMAPE  0.15175128485971853"
      ]
     },
     "execution_count": 15,
     "metadata": {},
     "output_type": "execute_result"
    }
   ],
   "source": [
    "_, score = model.score(df_test, key='ID', features=features, label=label)\n",
    "score.collect()"
   ]
  },
  {
   "cell_type": "markdown",
   "metadata": {},
   "source": [
    "## Model\n",
    "The model is available and can be saved for later predictions."
   ]
  },
  {
   "cell_type": "code",
   "execution_count": 16,
   "metadata": {},
   "outputs": [
    {
     "name": "stdout",
     "output_type": "stream",
     "text": [
      "     ROW_INDEX  PART_INDEX                                      MODEL_CONTENT\n",
      "0            0          -1  <PMML version=\"4.0\" xmlns=\"http://www.dmg.org/...\n",
      "1            1           0  <PMML version=\"4.0\" xmlns=\"http://www.dmg.org/...\n",
      "2            2           1  <PMML version=\"4.0\" xmlns=\"http://www.dmg.org/...\n",
      "3            3           2  <PMML version=\"4.0\" xmlns=\"http://www.dmg.org/...\n",
      "4            4           3  <PMML version=\"4.0\" xmlns=\"http://www.dmg.org/...\n",
      "..         ...         ...                                                ...\n",
      "96          96          95  <PMML version=\"4.0\" xmlns=\"http://www.dmg.org/...\n",
      "97          97          96  <PMML version=\"4.0\" xmlns=\"http://www.dmg.org/...\n",
      "98          98          97  <PMML version=\"4.0\" xmlns=\"http://www.dmg.org/...\n",
      "99          99          98  <PMML version=\"4.0\" xmlns=\"http://www.dmg.org/...\n",
      "100        100          99  <PMML version=\"4.0\" xmlns=\"http://www.dmg.org/...\n",
      "\n",
      "[101 rows x 3 columns]\n"
     ]
    }
   ],
   "source": [
    "#  The generated model is in the database.\n",
    "print(model.model_[0].collect())"
   ]
  },
  {
   "cell_type": "code",
   "execution_count": 17,
   "metadata": {},
   "outputs": [
    {
     "name": "stdout",
     "output_type": "stream",
     "text": [
      "    STAT_NAME                                         STAT_VALUE\n",
      "0         IMP  {\"AGE\":\"0.018307131024253107\",\"BLACK\":\"0.00731...\n",
      "1  OUT_OF_BAG  {\"0\":\"4.40011468806744\",\"1\":\"4.40011468806744\"...\n",
      "Empty DataFrame\n",
      "Columns: [PARAM_NAME, INT_VALUE, DOUBLE_VALUE, STRING_VALUE]\n",
      "Index: []\n"
     ]
    }
   ],
   "source": [
    "print(model.model_[1].collect())\n",
    "print(model.model_[2].collect())"
   ]
  },
  {
   "cell_type": "markdown",
   "metadata": {},
   "source": [
    "## Close the Connection"
   ]
  },
  {
   "cell_type": "code",
   "execution_count": 18,
   "metadata": {},
   "outputs": [],
   "source": [
    "connection_context.close()"
   ]
  },
  {
   "cell_type": "code",
   "execution_count": null,
   "metadata": {},
   "outputs": [],
   "source": []
  }
 ],
 "metadata": {
  "kernelspec": {
   "display_name": "Python 3 (ipykernel)",
   "language": "python",
   "name": "python3"
  },
  "language_info": {
   "codemirror_mode": {
    "name": "ipython",
    "version": 3
   },
   "file_extension": ".py",
   "mimetype": "text/x-python",
   "name": "python",
   "nbconvert_exporter": "python",
   "pygments_lexer": "ipython3",
   "version": "3.9.5"
  }
 },
 "nbformat": 4,
 "nbformat_minor": 4
}

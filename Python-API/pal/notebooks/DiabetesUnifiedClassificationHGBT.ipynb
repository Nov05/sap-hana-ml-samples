{
 "cells": [
  {
   "cell_type": "markdown",
   "metadata": {},
   "source": [
    "# Hybrid Gradient Boosting Trees  Example via Unified Classification\n",
    "\n",
    "A data set that identifies whether or not a pentient has diabetes is used to demonstrate the use of hybrid graident boosting classifier in SAP HANA.\n",
    "\n"
   ]
  },
  {
   "cell_type": "markdown",
   "metadata": {},
   "source": [
    "# Pima Indians Diabetes Dataset\n",
    "\n",
    "Original data comes from National Institute of Diabetes and Digestive and Kidney Diseases. The collected dataset is aiming at, based on certain diagnostic measurements, diagnostically predicting whether or not a patient has diabetes. In particular, patients contained in the dataset are females of Pima Indian heritage, all above the age of 20. Dataset is form Kaggle, for tutorials use only.\n",
    "\n",
    "The dataset contains the following diagnositic <b>attributes</b>:<br>\n",
    "$\\rhd$ \"PREGNANCIES\" - Number of times pregnant,<br>\n",
    "$\\rhd$ \"GLUCOSE\" - Plasma glucose concentration a 2 hours in an oral glucose tolerance test,<br>\n",
    "$\\rhd$ \"BLOODPRESSURE\" -  Diastolic blood pressure (mm Hg),<br>\n",
    "$\\rhd$ \"SKINTHICKNESS\" -  Triceps skin fold thickness (mm),<br>\n",
    "$\\rhd$ \"INSULIN\" - 2-Hour serum insulin (mu U/ml),<br>\n",
    "$\\rhd$ \"BMI\" - Body mass index $(\\text{weight in kg})/(\\text{height in m})^2$,<br>\n",
    "$\\rhd$ \"PEDIGREE\" - Diabetes pedigree function,<br>\n",
    "$\\rhd$ \"AGE\" -  Age (years),<br>\n",
    "$\\rhd$ \"CLASS\" - Class variable (0 or 1) 268 of 768 are 1(diabetes), the others are 0(non-diabetes).\n",
    "\n"
   ]
  },
  {
   "cell_type": "code",
   "execution_count": 1,
   "metadata": {},
   "outputs": [],
   "source": [
    "import hana_ml\n",
    "from hana_ml import dataframe\n",
    "from hana_ml.algorithms.pal import metrics\n",
    "from hana_ml.algorithms.pal.unified_classification import UnifiedClassification"
   ]
  },
  {
   "cell_type": "markdown",
   "metadata": {},
   "source": [
    "# Load Data\n",
    "\n",
    "The data is loaded into 3 tables - full set, training-validation set, and test set as follows:\n",
    "\n",
    "<li> PIMA_INDIANS_DIABETES_TBL</li>\n",
    "<li> PIMA_INDIANS_DIABETES_TRAIN_VALID_TBL</li>\n",
    "<li> PIMA_INDIANS_DIABETES_TEST_TBL</li>\n",
    "\n",
    "To do that, a connection is created and passed to the loader.\n",
    "\n",
    "There is a config file, <b>config/e2edata.ini</b> that controls the connection parameters and whether or not to reload the data from scratch. In case the data is already loaded, there would be no need to load the data. A sample section is below. If the config parameter, reload_data is true then the tables for test, training and validation are (re-)created and data inserted into them.\n",
    "\n",
    "#########################<br>\n",
    "[hana]<br>\n",
    "url=host.sjc.sap.corp<br>\n",
    "user=username<br>\n",
    "passwd=userpassword<br>\n",
    "port=3xx15<br>\n",
    "#########################<br>"
   ]
  },
  {
   "cell_type": "code",
   "execution_count": 2,
   "metadata": {},
   "outputs": [
    {
     "name": "stderr",
     "output_type": "stream",
     "text": [
      "ERROR:hana_ml.dataframe:Failed to get row count for the current Dataframe, (259, 'invalid table name:  Could not find table/view PIMA_INDIANS_DIABETES_TBL in schema HOU: line 1 col 37 (at pos 36)')\n"
     ]
    },
    {
     "name": "stdout",
     "output_type": "stream",
     "text": [
      "Table PIMA_INDIANS_DIABETES_TBL doesn't exist in schema HOU\n",
      "Creating table PIMA_INDIANS_DIABETES_TBL in schema HOU ....\n",
      "Drop unsuccessful\n",
      "Creating table HOU.PIMA_INDIANS_DIABETES_TBL\n",
      "Drop unsuccessful\n",
      "Creating table HOU.PIMA_INDIANS_DIABETES_TRAIN_VALID_TBL\n",
      "Drop unsuccessful\n",
      "Creating table HOU.PIMA_INDIANS_DIABETES_TEST_TBL\n",
      "Drop unsuccessful\n",
      "Creating table HOU.PIMA_INDIANS_DIABETES_VALIDATION_TBL\n",
      "Data Loaded:100%\n"
     ]
    }
   ],
   "source": [
    "from data_load_utils import DataSets, Settings\n",
    "import plotting_utils\n",
    "url, port, user, pwd = Settings.load_config(\"../../config/e2edata.ini\")\n",
    "connection_context = dataframe.ConnectionContext(url, port, user, pwd)\n",
    "full_tbl, train_tbl, test_tbl, _ = DataSets.load_diabetes_data(connection_context)"
   ]
  },
  {
   "cell_type": "markdown",
   "metadata": {},
   "source": [
    "# Create Data Frames\n",
    "\n",
    "Create the data frames for the full, test, training, and validation sets.\n",
    "\n",
    "Let us also do some data exploration."
   ]
  },
  {
   "cell_type": "markdown",
   "metadata": {},
   "source": [
    "# Define Datasets - training set and testing set\n",
    "\n",
    "Data frames are used keep references to data so computation on large data sets in HANA can happen in HANA. Trying to bring the entire data set into the client will likely result in out of memory exceptions."
   ]
  },
  {
   "cell_type": "code",
   "execution_count": 3,
   "metadata": {},
   "outputs": [],
   "source": [
    "diabetes_train = connection_context.table(train_tbl)\n",
    "#diabetes_train = diabetes_train.cast('CLASS', 'VARCHAR(10)')\n",
    "diabetes_test = connection_context.table(test_tbl)\n",
    "#diabetes_test = diabetes_test.cast('CLASS', 'VARCHAR(10)')"
   ]
  },
  {
   "cell_type": "markdown",
   "metadata": {},
   "source": [
    "# Simple Exploration\n",
    "\n",
    "Let us look at the number of rows in each dataset:"
   ]
  },
  {
   "cell_type": "code",
   "execution_count": 4,
   "metadata": {},
   "outputs": [
    {
     "name": "stdout",
     "output_type": "stream",
     "text": [
      "Number of rows in training set: 614\n",
      "Number of rows in testing set: 76\n"
     ]
    }
   ],
   "source": [
    "print('Number of rows in training set: {}'.format(diabetes_train.count()))\n",
    "print('Number of rows in testing set: {}'.format(diabetes_test.count()))"
   ]
  },
  {
   "cell_type": "markdown",
   "metadata": {},
   "source": [
    "Let us look at columns of the dataset:"
   ]
  },
  {
   "cell_type": "code",
   "execution_count": 5,
   "metadata": {},
   "outputs": [
    {
     "name": "stdout",
     "output_type": "stream",
     "text": [
      "['ID', 'PREGNANCIES', 'GLUCOSE', 'BLOODPRESSURE', 'SKINTHICKNESS', 'INSULIN', 'BMI', 'PEDIGREE', 'AGE', 'CLASS']\n"
     ]
    }
   ],
   "source": [
    "print(diabetes_train.columns)"
   ]
  },
  {
   "cell_type": "markdown",
   "metadata": {},
   "source": [
    "Let us also look some (in this example, the top 6) rows of the dataset:"
   ]
  },
  {
   "cell_type": "code",
   "execution_count": 6,
   "metadata": {},
   "outputs": [
    {
     "data": {
      "text/html": [
       "<div>\n",
       "<style scoped>\n",
       "    .dataframe tbody tr th:only-of-type {\n",
       "        vertical-align: middle;\n",
       "    }\n",
       "\n",
       "    .dataframe tbody tr th {\n",
       "        vertical-align: top;\n",
       "    }\n",
       "\n",
       "    .dataframe thead th {\n",
       "        text-align: right;\n",
       "    }\n",
       "</style>\n",
       "<table border=\"1\" class=\"dataframe\">\n",
       "  <thead>\n",
       "    <tr style=\"text-align: right;\">\n",
       "      <th></th>\n",
       "      <th>ID</th>\n",
       "      <th>PREGNANCIES</th>\n",
       "      <th>GLUCOSE</th>\n",
       "      <th>BLOODPRESSURE</th>\n",
       "      <th>SKINTHICKNESS</th>\n",
       "      <th>INSULIN</th>\n",
       "      <th>BMI</th>\n",
       "      <th>PEDIGREE</th>\n",
       "      <th>AGE</th>\n",
       "      <th>CLASS</th>\n",
       "    </tr>\n",
       "  </thead>\n",
       "  <tbody>\n",
       "    <tr>\n",
       "      <th>0</th>\n",
       "      <td>1</td>\n",
       "      <td>6</td>\n",
       "      <td>102</td>\n",
       "      <td>90</td>\n",
       "      <td>39</td>\n",
       "      <td>0</td>\n",
       "      <td>35.7</td>\n",
       "      <td>0.674</td>\n",
       "      <td>28</td>\n",
       "      <td>0</td>\n",
       "    </tr>\n",
       "    <tr>\n",
       "      <th>1</th>\n",
       "      <td>2</td>\n",
       "      <td>11</td>\n",
       "      <td>127</td>\n",
       "      <td>106</td>\n",
       "      <td>0</td>\n",
       "      <td>0</td>\n",
       "      <td>39.0</td>\n",
       "      <td>0.190</td>\n",
       "      <td>51</td>\n",
       "      <td>0</td>\n",
       "    </tr>\n",
       "    <tr>\n",
       "      <th>2</th>\n",
       "      <td>3</td>\n",
       "      <td>13</td>\n",
       "      <td>145</td>\n",
       "      <td>82</td>\n",
       "      <td>19</td>\n",
       "      <td>110</td>\n",
       "      <td>22.2</td>\n",
       "      <td>0.245</td>\n",
       "      <td>57</td>\n",
       "      <td>0</td>\n",
       "    </tr>\n",
       "    <tr>\n",
       "      <th>3</th>\n",
       "      <td>4</td>\n",
       "      <td>4</td>\n",
       "      <td>123</td>\n",
       "      <td>62</td>\n",
       "      <td>0</td>\n",
       "      <td>0</td>\n",
       "      <td>32.0</td>\n",
       "      <td>0.226</td>\n",
       "      <td>35</td>\n",
       "      <td>1</td>\n",
       "    </tr>\n",
       "    <tr>\n",
       "      <th>4</th>\n",
       "      <td>5</td>\n",
       "      <td>7</td>\n",
       "      <td>100</td>\n",
       "      <td>0</td>\n",
       "      <td>0</td>\n",
       "      <td>0</td>\n",
       "      <td>30.0</td>\n",
       "      <td>0.484</td>\n",
       "      <td>32</td>\n",
       "      <td>1</td>\n",
       "    </tr>\n",
       "    <tr>\n",
       "      <th>5</th>\n",
       "      <td>6</td>\n",
       "      <td>4</td>\n",
       "      <td>154</td>\n",
       "      <td>62</td>\n",
       "      <td>31</td>\n",
       "      <td>284</td>\n",
       "      <td>32.8</td>\n",
       "      <td>0.237</td>\n",
       "      <td>23</td>\n",
       "      <td>0</td>\n",
       "    </tr>\n",
       "  </tbody>\n",
       "</table>\n",
       "</div>"
      ],
      "text/plain": [
       "   ID  PREGNANCIES  GLUCOSE  BLOODPRESSURE  SKINTHICKNESS  INSULIN   BMI  \\\n",
       "0   1            6      102             90             39        0  35.7   \n",
       "1   2           11      127            106              0        0  39.0   \n",
       "2   3           13      145             82             19      110  22.2   \n",
       "3   4            4      123             62              0        0  32.0   \n",
       "4   5            7      100              0              0        0  30.0   \n",
       "5   6            4      154             62             31      284  32.8   \n",
       "\n",
       "   PEDIGREE  AGE  CLASS  \n",
       "0     0.674   28      0  \n",
       "1     0.190   51      0  \n",
       "2     0.245   57      0  \n",
       "3     0.226   35      1  \n",
       "4     0.484   32      1  \n",
       "5     0.237   23      0  "
      ]
     },
     "execution_count": 6,
     "metadata": {},
     "output_type": "execute_result"
    }
   ],
   "source": [
    "diabetes_train.head(6).collect()"
   ]
  },
  {
   "cell_type": "markdown",
   "metadata": {},
   "source": [
    "We can also check the data type of all columns:"
   ]
  },
  {
   "cell_type": "code",
   "execution_count": 7,
   "metadata": {},
   "outputs": [
    {
     "data": {
      "text/plain": [
       "[('ID', 'INT', 10, 10, 10, 0),\n",
       " ('PREGNANCIES', 'INT', 10, 10, 10, 0),\n",
       " ('GLUCOSE', 'INT', 10, 10, 10, 0),\n",
       " ('BLOODPRESSURE', 'INT', 10, 10, 10, 0),\n",
       " ('SKINTHICKNESS', 'INT', 10, 10, 10, 0),\n",
       " ('INSULIN', 'INT', 10, 10, 10, 0),\n",
       " ('BMI', 'DOUBLE', 15, 15, 15, 0),\n",
       " ('PEDIGREE', 'DOUBLE', 15, 15, 15, 0),\n",
       " ('AGE', 'INT', 10, 10, 10, 0),\n",
       " ('CLASS', 'INT', 10, 10, 10, 0)]"
      ]
     },
     "execution_count": 7,
     "metadata": {},
     "output_type": "execute_result"
    }
   ],
   "source": [
    "diabetes_train.dtypes()"
   ]
  },
  {
   "cell_type": "markdown",
   "metadata": {},
   "source": [
    "We have a 'CLASS' column in the dataset, let us check how many classes are contained in this dataset:"
   ]
  },
  {
   "cell_type": "code",
   "execution_count": 8,
   "metadata": {},
   "outputs": [
    {
     "data": {
      "text/html": [
       "<div>\n",
       "<style scoped>\n",
       "    .dataframe tbody tr th:only-of-type {\n",
       "        vertical-align: middle;\n",
       "    }\n",
       "\n",
       "    .dataframe tbody tr th {\n",
       "        vertical-align: top;\n",
       "    }\n",
       "\n",
       "    .dataframe thead th {\n",
       "        text-align: right;\n",
       "    }\n",
       "</style>\n",
       "<table border=\"1\" class=\"dataframe\">\n",
       "  <thead>\n",
       "    <tr style=\"text-align: right;\">\n",
       "      <th></th>\n",
       "      <th>CLASS</th>\n",
       "    </tr>\n",
       "  </thead>\n",
       "  <tbody>\n",
       "    <tr>\n",
       "      <th>0</th>\n",
       "      <td>0</td>\n",
       "    </tr>\n",
       "    <tr>\n",
       "      <th>1</th>\n",
       "      <td>1</td>\n",
       "    </tr>\n",
       "  </tbody>\n",
       "</table>\n",
       "</div>"
      ],
      "text/plain": [
       "   CLASS\n",
       "0      0\n",
       "1      1"
      ]
     },
     "execution_count": 8,
     "metadata": {},
     "output_type": "execute_result"
    }
   ],
   "source": [
    "diabetes_train.distinct('CLASS').collect()"
   ]
  },
  {
   "cell_type": "markdown",
   "metadata": {},
   "source": [
    "Two classes are available, assuring that this is a binary classification problem."
   ]
  },
  {
   "cell_type": "markdown",
   "metadata": {},
   "source": [
    "#  Model Creation & Model Selection\n",
    "The lines below show the ease with which classification can be done.\n",
    "\n",
    "Set up the label column, use default feature set and create the model:"
   ]
  },
  {
   "cell_type": "code",
   "execution_count": 9,
   "metadata": {},
   "outputs": [],
   "source": [
    "cv_values = {}\n",
    "cv_values['learning_rate'] = [0.1, 0.4, 0.7, 1.0]\n",
    "cv_values['n_estimators'] = [4, 6, 8, 10]\n",
    "cv_values['split_threshold'] = [0.1, 0.4, 0.7, 1.0]\n",
    "hgc = UnifiedClassification(func='HybridGradientBoostingTree',\n",
    "                            param_search_strategy='grid',\n",
    "                            resampling_method='cv',\n",
    "                            evaluation_metric='error_rate',\n",
    "                            ref_metric=['auc'],\n",
    "                            fold_num=5,\n",
    "                            random_state=1,\n",
    "                            param_values=cv_values)\n",
    "hgc.fit(diabetes_train, key='ID', label='CLASS',\n",
    "        partition_method='stratified',\n",
    "        partition_random_state=1,\n",
    "        stratified_column='CLASS')"
   ]
  },
  {
   "cell_type": "code",
   "execution_count": 10,
   "metadata": {},
   "outputs": [],
   "source": [
    "from hana_ml.algorithms.pal.model_selection import GridSearchCV\n",
    "from hana_ml.algorithms.pal.model_selection import RandomSearchCV\n",
    "hgc2 = UnifiedClassification('HybridGradientBoostingTree')\n",
    "\n",
    "gscv = GridSearchCV(estimator=hgc2, \n",
    "                    param_grid={'learning_rate': [0.1, 0.4, 0.7, 1],\n",
    "                                'n_estimators': [4, 6, 8, 10],\n",
    "                                'split_threshold': [0.1, 0.4, 0.7, 1]},\n",
    "                    train_control=dict(fold_num=5,\n",
    "                                       resampling_method='cv',\n",
    "                                       random_state=1,\n",
    "                                       ref_metric=['auc']),\n",
    "                    scoring='error_rate')\n",
    "gscv.fit(data=diabetes_train, key= 'ID',\n",
    "         label='CLASS',\n",
    "         partition_method='stratified',\n",
    "         partition_random_state=1,\n",
    "         stratified_column='CLASS')"
   ]
  },
  {
   "cell_type": "markdown",
   "metadata": {},
   "source": [
    "# Evaluation\n",
    "\n",
    "Let us compare cross-validation accuracy and test accuracy:"
   ]
  },
  {
   "cell_type": "code",
   "execution_count": 11,
   "metadata": {},
   "outputs": [
    {
     "data": {
      "text/html": [
       "<div>\n",
       "<style scoped>\n",
       "    .dataframe tbody tr th:only-of-type {\n",
       "        vertical-align: middle;\n",
       "    }\n",
       "\n",
       "    .dataframe tbody tr th {\n",
       "        vertical-align: top;\n",
       "    }\n",
       "\n",
       "    .dataframe thead th {\n",
       "        text-align: right;\n",
       "    }\n",
       "</style>\n",
       "<table border=\"1\" class=\"dataframe\">\n",
       "  <thead>\n",
       "    <tr style=\"text-align: right;\">\n",
       "      <th></th>\n",
       "      <th>ACTUAL_CLASS</th>\n",
       "      <th>PREDICTED_CLASS</th>\n",
       "      <th>COUNT</th>\n",
       "    </tr>\n",
       "  </thead>\n",
       "  <tbody>\n",
       "    <tr>\n",
       "      <th>0</th>\n",
       "      <td>0</td>\n",
       "      <td>0</td>\n",
       "      <td>61</td>\n",
       "    </tr>\n",
       "    <tr>\n",
       "      <th>1</th>\n",
       "      <td>0</td>\n",
       "      <td>1</td>\n",
       "      <td>18</td>\n",
       "    </tr>\n",
       "    <tr>\n",
       "      <th>2</th>\n",
       "      <td>1</td>\n",
       "      <td>0</td>\n",
       "      <td>15</td>\n",
       "    </tr>\n",
       "    <tr>\n",
       "      <th>3</th>\n",
       "      <td>1</td>\n",
       "      <td>1</td>\n",
       "      <td>29</td>\n",
       "    </tr>\n",
       "  </tbody>\n",
       "</table>\n",
       "</div>"
      ],
      "text/plain": [
       "  ACTUAL_CLASS PREDICTED_CLASS  COUNT\n",
       "0            0               0     61\n",
       "1            0               1     18\n",
       "2            1               0     15\n",
       "3            1               1     29"
      ]
     },
     "execution_count": 11,
     "metadata": {},
     "output_type": "execute_result"
    }
   ],
   "source": [
    "cm = hgc.confusion_matrix_.collect()\n",
    "cm"
   ]
  },
  {
   "cell_type": "code",
   "execution_count": 12,
   "metadata": {},
   "outputs": [
    {
     "data": {
      "text/html": [
       "<div>\n",
       "<style scoped>\n",
       "    .dataframe tbody tr th:only-of-type {\n",
       "        vertical-align: middle;\n",
       "    }\n",
       "\n",
       "    .dataframe tbody tr th {\n",
       "        vertical-align: top;\n",
       "    }\n",
       "\n",
       "    .dataframe thead th {\n",
       "        text-align: right;\n",
       "    }\n",
       "</style>\n",
       "<table border=\"1\" class=\"dataframe\">\n",
       "  <thead>\n",
       "    <tr style=\"text-align: right;\">\n",
       "      <th></th>\n",
       "      <th>ACTUAL_CLASS</th>\n",
       "      <th>PREDICTED_CLASS</th>\n",
       "      <th>COUNT</th>\n",
       "    </tr>\n",
       "  </thead>\n",
       "  <tbody>\n",
       "    <tr>\n",
       "      <th>0</th>\n",
       "      <td>0</td>\n",
       "      <td>0</td>\n",
       "      <td>61</td>\n",
       "    </tr>\n",
       "    <tr>\n",
       "      <th>1</th>\n",
       "      <td>0</td>\n",
       "      <td>1</td>\n",
       "      <td>18</td>\n",
       "    </tr>\n",
       "    <tr>\n",
       "      <th>2</th>\n",
       "      <td>1</td>\n",
       "      <td>0</td>\n",
       "      <td>15</td>\n",
       "    </tr>\n",
       "    <tr>\n",
       "      <th>3</th>\n",
       "      <td>1</td>\n",
       "      <td>1</td>\n",
       "      <td>29</td>\n",
       "    </tr>\n",
       "  </tbody>\n",
       "</table>\n",
       "</div>"
      ],
      "text/plain": [
       "  ACTUAL_CLASS PREDICTED_CLASS  COUNT\n",
       "0            0               0     61\n",
       "1            0               1     18\n",
       "2            1               0     15\n",
       "3            1               1     29"
      ]
     },
     "execution_count": 12,
     "metadata": {},
     "output_type": "execute_result"
    }
   ],
   "source": [
    "gscv.estimator.confusion_matrix_.collect()"
   ]
  },
  {
   "cell_type": "code",
   "execution_count": 13,
   "metadata": {},
   "outputs": [
    {
     "data": {
      "text/plain": [
       "0.7317073170731707"
      ]
     },
     "execution_count": 13,
     "metadata": {},
     "output_type": "execute_result"
    }
   ],
   "source": [
    "train_accuracy = float(cm['COUNT'][cm['ACTUAL_CLASS']==cm['PREDICTED_CLASS']].sum())/cm['COUNT'].sum()\n",
    "train_accuracy"
   ]
  },
  {
   "cell_type": "code",
   "execution_count": 14,
   "metadata": {},
   "outputs": [
    {
     "name": "stdout",
     "output_type": "stream",
     "text": [
      "['PREGNANCIES', 'GLUCOSE', 'BLOODPRESSURE', 'SKINTHICKNESS', 'INSULIN', 'BMI', 'PEDIGREE', 'AGE']\n"
     ]
    }
   ],
   "source": [
    "features = diabetes_train.columns\n",
    "features.remove('CLASS')\n",
    "features.remove('ID')\n",
    "print(features)"
   ]
  },
  {
   "cell_type": "code",
   "execution_count": 15,
   "metadata": {},
   "outputs": [
    {
     "data": {
      "text/plain": [
       "[('ID', 'INT', 10, 10, 10, 0),\n",
       " ('SCORE', 'NVARCHAR', 256, 256, 256, 0),\n",
       " ('CONFIDENCE', 'DOUBLE', 15, 15, 15, 0),\n",
       " ('REASON_CODE', 'NCLOB', 2147483647, 2147483647, 2147483647, 0)]"
      ]
     },
     "execution_count": 15,
     "metadata": {},
     "output_type": "execute_result"
    }
   ],
   "source": [
    "pred_res = hgc.predict(diabetes_test, key='ID', features=features)\n",
    "pred_res.head(10).collect()\n",
    "pred_res.dtypes()"
   ]
  },
  {
   "cell_type": "code",
   "execution_count": 16,
   "metadata": {},
   "outputs": [],
   "source": [
    "ts = diabetes_test.rename_columns({'ID': 'TID'}) .cast('CLASS', 'NVARCHAR(256)')\n",
    "jsql = '{}.\"{}\"={}.\"{}\"'.format(pred_res.quoted_name, 'ID', ts.quoted_name, 'TID')\n",
    "results_df = pred_res.join(ts, jsql, how='inner')\n",
    "cm_df, classification_report_df = metrics.confusion_matrix(results_df, key='ID', label_true='CLASS', label_pred='SCORE') "
   ]
  },
  {
   "cell_type": "code",
   "execution_count": 17,
   "metadata": {},
   "outputs": [
    {
     "data": {
      "image/png": "[encoded data removed]",
      "text/plain": [
       "<Figure size 432x288 with 2 Axes>"
      ]
     },
     "metadata": {},
     "output_type": "display_data"
    }
   ],
   "source": [
    "import matplotlib.pyplot as plt\n",
    "from hana_ml.visualizers.metrics import MetricsVisualizer\n",
    "f, ax1 = plt.subplots(1,1)\n",
    "mv1 = MetricsVisualizer(ax1)\n",
    "ax1 = mv1.plot_confusion_matrix(cm_df, normalize=False)"
   ]
  },
  {
   "cell_type": "code",
   "execution_count": 18,
   "metadata": {},
   "outputs": [
    {
     "name": "stdout",
     "output_type": "stream",
     "text": [
      "Recall, Precision and F_measures.\n"
     ]
    },
    {
     "data": {
      "text/html": [
       "<div>\n",
       "<style scoped>\n",
       "    .dataframe tbody tr th:only-of-type {\n",
       "        vertical-align: middle;\n",
       "    }\n",
       "\n",
       "    .dataframe tbody tr th {\n",
       "        vertical-align: top;\n",
       "    }\n",
       "\n",
       "    .dataframe thead th {\n",
       "        text-align: right;\n",
       "    }\n",
       "</style>\n",
       "<table border=\"1\" class=\"dataframe\">\n",
       "  <thead>\n",
       "    <tr style=\"text-align: right;\">\n",
       "      <th></th>\n",
       "      <th>CLASS</th>\n",
       "      <th>RECALL</th>\n",
       "      <th>PRECISION</th>\n",
       "      <th>F_MEASURE</th>\n",
       "      <th>SUPPORT</th>\n",
       "    </tr>\n",
       "  </thead>\n",
       "  <tbody>\n",
       "    <tr>\n",
       "      <th>0</th>\n",
       "      <td>0</td>\n",
       "      <td>0.865385</td>\n",
       "      <td>0.789474</td>\n",
       "      <td>0.825688</td>\n",
       "      <td>52</td>\n",
       "    </tr>\n",
       "    <tr>\n",
       "      <th>1</th>\n",
       "      <td>1</td>\n",
       "      <td>0.500000</td>\n",
       "      <td>0.631579</td>\n",
       "      <td>0.558140</td>\n",
       "      <td>24</td>\n",
       "    </tr>\n",
       "  </tbody>\n",
       "</table>\n",
       "</div>"
      ],
      "text/plain": [
       "  CLASS    RECALL  PRECISION  F_MEASURE  SUPPORT\n",
       "0     0  0.865385   0.789474   0.825688       52\n",
       "1     1  0.500000   0.631579   0.558140       24"
      ]
     },
     "execution_count": 18,
     "metadata": {},
     "output_type": "execute_result"
    }
   ],
   "source": [
    "print(\"Recall, Precision and F_measures.\")\n",
    "classification_report_df.collect()"
   ]
  },
  {
   "cell_type": "code",
   "execution_count": 19,
   "metadata": {},
   "outputs": [
    {
     "data": {
      "text/html": [
       "<div>\n",
       "<style scoped>\n",
       "    .dataframe tbody tr th:only-of-type {\n",
       "        vertical-align: middle;\n",
       "    }\n",
       "\n",
       "    .dataframe tbody tr th {\n",
       "        vertical-align: top;\n",
       "    }\n",
       "\n",
       "    .dataframe thead th {\n",
       "        text-align: right;\n",
       "    }\n",
       "</style>\n",
       "<table border=\"1\" class=\"dataframe\">\n",
       "  <thead>\n",
       "    <tr style=\"text-align: right;\">\n",
       "      <th></th>\n",
       "      <th>NAME</th>\n",
       "      <th>X</th>\n",
       "      <th>Y</th>\n",
       "    </tr>\n",
       "  </thead>\n",
       "  <tbody>\n",
       "    <tr>\n",
       "      <th>0</th>\n",
       "      <td>RANDOM_CUMGAINS</td>\n",
       "      <td>0.000000</td>\n",
       "      <td>0.000000</td>\n",
       "    </tr>\n",
       "    <tr>\n",
       "      <th>1</th>\n",
       "      <td>RANDOM_CUMGAINS</td>\n",
       "      <td>1.000000</td>\n",
       "      <td>1.000000</td>\n",
       "    </tr>\n",
       "    <tr>\n",
       "      <th>2</th>\n",
       "      <td>RANDOM_LIFT</td>\n",
       "      <td>0.000000</td>\n",
       "      <td>1.000000</td>\n",
       "    </tr>\n",
       "    <tr>\n",
       "      <th>3</th>\n",
       "      <td>RANDOM_LIFT</td>\n",
       "      <td>1.000000</td>\n",
       "      <td>1.000000</td>\n",
       "    </tr>\n",
       "    <tr>\n",
       "      <th>4</th>\n",
       "      <td>RANDOM_CUMLIFT</td>\n",
       "      <td>0.000000</td>\n",
       "      <td>1.000000</td>\n",
       "    </tr>\n",
       "    <tr>\n",
       "      <th>...</th>\n",
       "      <td>...</td>\n",
       "      <td>...</td>\n",
       "      <td>...</td>\n",
       "    </tr>\n",
       "    <tr>\n",
       "      <th>337</th>\n",
       "      <td>CUMLIFT</td>\n",
       "      <td>0.789474</td>\n",
       "      <td>1.200000</td>\n",
       "    </tr>\n",
       "    <tr>\n",
       "      <th>338</th>\n",
       "      <td>CUMLIFT</td>\n",
       "      <td>0.842105</td>\n",
       "      <td>1.156250</td>\n",
       "    </tr>\n",
       "    <tr>\n",
       "      <th>339</th>\n",
       "      <td>CUMLIFT</td>\n",
       "      <td>0.894737</td>\n",
       "      <td>1.117647</td>\n",
       "    </tr>\n",
       "    <tr>\n",
       "      <th>340</th>\n",
       "      <td>CUMLIFT</td>\n",
       "      <td>0.947368</td>\n",
       "      <td>1.055556</td>\n",
       "    </tr>\n",
       "    <tr>\n",
       "      <th>341</th>\n",
       "      <td>CUMLIFT</td>\n",
       "      <td>1.000000</td>\n",
       "      <td>1.000000</td>\n",
       "    </tr>\n",
       "  </tbody>\n",
       "</table>\n",
       "<p>342 rows × 3 columns</p>\n",
       "</div>"
      ],
      "text/plain": [
       "                NAME         X         Y\n",
       "0    RANDOM_CUMGAINS  0.000000  0.000000\n",
       "1    RANDOM_CUMGAINS  1.000000  1.000000\n",
       "2        RANDOM_LIFT  0.000000  1.000000\n",
       "3        RANDOM_LIFT  1.000000  1.000000\n",
       "4     RANDOM_CUMLIFT  0.000000  1.000000\n",
       "..               ...       ...       ...\n",
       "337          CUMLIFT  0.789474  1.200000\n",
       "338          CUMLIFT  0.842105  1.156250\n",
       "339          CUMLIFT  0.894737  1.117647\n",
       "340          CUMLIFT  0.947368  1.055556\n",
       "341          CUMLIFT  1.000000  1.000000\n",
       "\n",
       "[342 rows x 3 columns]"
      ]
     },
     "execution_count": 19,
     "metadata": {},
     "output_type": "execute_result"
    }
   ],
   "source": [
    "_,_,_,metrics_res = hgc.score(data=diabetes_test, key='ID', label='CLASS')\n",
    "metrics_res.collect()"
   ]
  },
  {
   "cell_type": "code",
   "execution_count": 23,
   "metadata": {},
   "outputs": [
    {
     "data": {
      "text/html": [
       "<div>\n",
       "<style scoped>\n",
       "    .dataframe tbody tr th:only-of-type {\n",
       "        vertical-align: middle;\n",
       "    }\n",
       "\n",
       "    .dataframe tbody tr th {\n",
       "        vertical-align: top;\n",
       "    }\n",
       "\n",
       "    .dataframe thead th {\n",
       "        text-align: right;\n",
       "    }\n",
       "</style>\n",
       "<table border=\"1\" class=\"dataframe\">\n",
       "  <thead>\n",
       "    <tr style=\"text-align: right;\">\n",
       "      <th></th>\n",
       "      <th>NAME</th>\n",
       "      <th>VERSION</th>\n",
       "      <th>LIBRARY</th>\n",
       "      <th>CLASS</th>\n",
       "      <th>JSON</th>\n",
       "      <th>TIMESTAMP</th>\n",
       "      <th>MODEL_STORAGE_VER</th>\n",
       "    </tr>\n",
       "  </thead>\n",
       "  <tbody>\n",
       "    <tr>\n",
       "      <th>0</th>\n",
       "      <td>Model A</td>\n",
       "      <td>1</td>\n",
       "      <td>PAL</td>\n",
       "      <td>hana_ml.algorithms.pal.unified_classification....</td>\n",
       "      <td>{\"model_attributes\": {\"kwargs\": {\"param_search...</td>\n",
       "      <td>2020-08-13 13:33:50</td>\n",
       "      <td>1</td>\n",
       "    </tr>\n",
       "    <tr>\n",
       "      <th>1</th>\n",
       "      <td>Model A</td>\n",
       "      <td>2</td>\n",
       "      <td>PAL</td>\n",
       "      <td>hana_ml.algorithms.pal.trees.HybridGradientBoo...</td>\n",
       "      <td>{\"model_attributes\": {\"cross_validation_range\"...</td>\n",
       "      <td>2020-08-13 13:52:28</td>\n",
       "      <td>1</td>\n",
       "    </tr>\n",
       "    <tr>\n",
       "      <th>2</th>\n",
       "      <td>Model A</td>\n",
       "      <td>3</td>\n",
       "      <td>PAL</td>\n",
       "      <td>hana_ml.algorithms.pal.unified_classification....</td>\n",
       "      <td>{\"model_attributes\": {\"kwargs\": {\"param_search...</td>\n",
       "      <td>2020-08-13 13:53:19</td>\n",
       "      <td>1</td>\n",
       "    </tr>\n",
       "  </tbody>\n",
       "</table>\n",
       "</div>"
      ],
      "text/plain": [
       "      NAME  VERSION LIBRARY  \\\n",
       "0  Model A        1     PAL   \n",
       "1  Model A        2     PAL   \n",
       "2  Model A        3     PAL   \n",
       "\n",
       "                                               CLASS  \\\n",
       "0  hana_ml.algorithms.pal.unified_classification....   \n",
       "1  hana_ml.algorithms.pal.trees.HybridGradientBoo...   \n",
       "2  hana_ml.algorithms.pal.unified_classification....   \n",
       "\n",
       "                                                JSON           TIMESTAMP  \\\n",
       "0  {\"model_attributes\": {\"kwargs\": {\"param_search... 2020-08-13 13:33:50   \n",
       "1  {\"model_attributes\": {\"cross_validation_range\"... 2020-08-13 13:52:28   \n",
       "2  {\"model_attributes\": {\"kwargs\": {\"param_search... 2020-08-13 13:53:19   \n",
       "\n",
       "   MODEL_STORAGE_VER  \n",
       "0                  1  \n",
       "1                  1  \n",
       "2                  1  "
      ]
     },
     "execution_count": 23,
     "metadata": {},
     "output_type": "execute_result"
    }
   ],
   "source": [
    "from hana_ml.model_storage import ModelStorage\n",
    "from hana_ml.model_storage_services import ModelSavingServices\n",
    "\n",
    "model_storage = ModelStorage(connection_context=connection_context)\n",
    "\n",
    "# Saves the model\n",
    "gscv.estimator.name = 'Model A'  # The model name is mandatory\n",
    "gscv.estimator.version = 1\n",
    "model_storage.save_model(model=gscv.estimator)\n",
    "#need to increase version\n",
    "\n",
    "# Lists models\n",
    "model_storage.list_models()\n"
   ]
  },
  {
   "cell_type": "code",
   "execution_count": null,
   "metadata": {},
   "outputs": [],
   "source": []
  }
 ],
 "metadata": {
  "kernelspec": {
   "display_name": "Python 3",
   "language": "python",
   "name": "python3"
  },
  "language_info": {
   "codemirror_mode": {
    "name": "ipython",
    "version": 3
   },
   "file_extension": ".py",
   "mimetype": "text/x-python",
   "name": "python",
   "nbconvert_exporter": "python",
   "pygments_lexer": "ipython3",
   "version": "3.6.5"
  }
 },
 "nbformat": 4,
 "nbformat_minor": 4
}

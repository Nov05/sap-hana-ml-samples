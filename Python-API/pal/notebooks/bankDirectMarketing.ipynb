{
 "cells": [
  {
   "cell_type": "markdown",
   "source": [
    "# Logistic Regression Example\n",
    "## Bank dataset to determine if a customer would buy a CD\n",
    "The data is related with direct marketing campaigns of a Portuguese banking institution.  The marketing campaigns were based on phone calls.  A number of features such as age, kind of job, marital status, education level, credit default, existence of housing loan, etc. were considered.  The classification goal is to predict if the client will subscribe (yes/no) a term deposit.\n",
    "\n",
    "More information regarding the data set is at https://archive.ics.uci.edu/ml/datasets/bank+marketing#. For tutorials use only.\n",
    "\n",
    "<font color='blue'>__ The objective is to demonstrate the use of logistic regression and to tune hyperparameters enet_lamba and enet_alpha. __</font>\n",
    "\n",
    "## Attribute Information:\n",
    "\n",
    "### Input variables:\n",
    "#### Bank client data:\n",
    "1. age (numeric)\n",
    "2. job : type of job (categorical: 'admin.','blue-collar','entrepreneur','housemaid','management','retired','self-employed','services','student','technician','unemployed','unknown')\n",
    "3. marital : marital status (categorical: 'divorced','married','single','unknown'; note: 'divorced' means divorced or widowed)\n",
    "4. education (categorical: 'basic.4y','basic.6y','basic.9y','high.school','illiterate','professional.course','university.degree','unknown')\n",
    "5. default: has credit in default? (categorical: 'no','yes','unknown')\n",
    "6. housing: has housing loan? (categorical: 'no','yes','unknown')\n",
    "7. loan: has personal loan? (categorical: 'no','yes','unknown')\n",
    "\n",
    "#### Related with the last contact of the current campaign:\n",
    "8. contact: contact communication type (categorical: 'cellular','telephone') \n",
    "9. month: last contact month of year (categorical: 'jan', 'feb', 'mar', ..., 'nov', 'dec')\n",
    "10. day_of_week: last contact day of the week (categorical: 'mon','tue','wed','thu','fri')\n",
    "11. duration: last contact duration, in seconds (numeric). Important note: this attribute highly affects the output target (e.g., if duration=0 then y='no'). Yet, the duration is not known before a call is performed. Also, after the end of the call y is obviously known. Thus, this input should only be included for benchmark purposes and should be discarded if the intention is to have a realistic predictive model.\n",
    "\n",
    "#### Other attributes:\n",
    "12. campaign: number of contacts performed during this campaign and for this client (numeric, includes last contact)\n",
    "13. pdays: number of days that passed by after the client was last contacted from a previous campaign (numeric; 999 means client was not previously contacted)\n",
    "14. previous: number of contacts performed before this campaign and for this client (numeric)\n",
    "15. poutcome: outcome of the previous marketing campaign (categorical: 'failure','nonexistent','success')\n",
    "\n",
    "#### Social and economic context attributes:\n",
    "16. emp.var.rate: employment variation rate - quarterly indicator (numeric)\n",
    "17. cons.price.idx: consumer price index - monthly indicator (numeric) \n",
    "18. cons.conf.idx: consumer confidence index - monthly indicator (numeric) \n",
    "19. euribor3m: euribor 3 month rate - daily indicator (numeric)\n",
    "20. nr.employed: number of employees - quarterly indicator (numeric)\n",
    "\n",
    "### Output variable (desired target):\n",
    "21. y - has the client subscribed a term deposit? (binary: 'yes','no')\n"
   ],
   "metadata": {}
  },
  {
   "cell_type": "markdown",
   "source": [
    "# Initialization\n",
    "Set up the imports, logging, and loading of the data sets."
   ],
   "metadata": {}
  },
  {
   "cell_type": "code",
   "execution_count": null,
   "source": [
    "from hana_ml import dataframe\r\n",
    "from hana_ml.algorithms.pal import linear_model\r\n",
    "from hana_ml.algorithms.pal import clustering\r\n",
    "from hana_ml.algorithms.pal import trees\r\n",
    "import numpy as np\r\n",
    "import matplotlib.pyplot as plt\r\n",
    "import logging\r\n",
    "from IPython.core.display import Image, display"
   ],
   "outputs": [],
   "metadata": {}
  },
  {
   "cell_type": "markdown",
   "source": [
    "## Load data\r\n",
    "The data is loaded into 3 tables, one for the test set, another for the training set, and finally the validation set:\r\n",
    "<li>DBM2_RTEST_TBL</li>\r\n",
    "<li>DBM2_RTRAINING_TBL</li>\r\n",
    "<li>DBM2_RVALIDATION_TBL</li>\r\n",
    "\r\n",
    "To do that, a connection is created and passed to the loader.\r\n",
    "\r\n",
    "There is a config file, config/e2edata.ini that controls the connection parameters and whether or not to reload the data from scratch.  In case the data is already loaded, there would be no need to load the data.  A sample section is below.  If the config parameter, reload_data is true then the tables for test, training, and validation are (re-)created and data inserted into them.\r\n",
    "\r\n",
    "Although this ini file has other sections, please do not modify them. Only the [hana] section should be modified.\r\n",
    "\r\n",
    "#########################<br>\r\n",
    "[hana]<br>\r\n",
    "url=host.sjc.sap.corp<br>\r\n",
    "user=username<br>\r\n",
    "passwd=userpassword<br>\r\n",
    "port=3xx15<br>\r\n",
    "#########################<br>\r\n",
    "## Define Datasets - Training, validation, and test sets\r\n",
    "Data frames are used keep references to data so computation on large data sets in HANA can happen in HANA.  Trying to bring the entire data set into the client will likely result in out of memory exceptions.\r\n",
    "\r\n",
    "The original/full dataset is split into training, test and validation sets.  In the example below, they reside in different tables."
   ],
   "metadata": {}
  },
  {
   "cell_type": "code",
   "execution_count": null,
   "source": [
    "from hana_ml.algorithms.pal.utility import DataSets, Settings\r\n",
    "url, port, user, pwd = Settings.load_config(\"../../config/e2edata.ini\")\r\n",
    "connection_context = dataframe.ConnectionContext(url, port, user, pwd)\r\n",
    "full_set, training_set, validation_set, test_set = DataSets.load_bank_data(connection_context)"
   ],
   "outputs": [],
   "metadata": {}
  },
  {
   "cell_type": "markdown",
   "source": [
    "## Simple Exploration\n",
    "Let us look at the number of rows in the data set"
   ],
   "metadata": {}
  },
  {
   "cell_type": "code",
   "execution_count": null,
   "source": [
    "print('Number of rows in full set: {}'.format(full_set.count()))\r\n",
    "print('Number of rows in training set: {}'.format(training_set.count()))\r\n",
    "print('Number of rows in validation set: {}'.format(validation_set.count()))\r\n",
    "print('Number of rows in test set: {}'.format(test_set.count()))"
   ],
   "outputs": [],
   "metadata": {}
  },
  {
   "cell_type": "markdown",
   "source": [
    "Let's look at the columns"
   ],
   "metadata": {}
  },
  {
   "cell_type": "code",
   "execution_count": null,
   "source": [
    "print(full_set.columns)"
   ],
   "outputs": [],
   "metadata": {}
  },
  {
   "cell_type": "markdown",
   "source": [
    "Let's look at the data types"
   ],
   "metadata": {}
  },
  {
   "cell_type": "code",
   "execution_count": null,
   "source": [
    "full_set.dtypes()"
   ],
   "outputs": [],
   "metadata": {}
  },
  {
   "cell_type": "code",
   "execution_count": null,
   "source": [
    "features = ['AGE','JOB','MARITAL','EDUCATION','DBM_DEFAULT', 'HOUSING','LOAN','CONTACT','DBM_MONTH','DAY_OF_WEEK','DURATION','CAMPAIGN','PDAYS','PREVIOUS','POUTCOME','EMP_VAR_RATE','CONS_PRICE_IDX','CONS_CONF_IDX','EURIBOR3M','NREMPLOYED']\r\n",
    "label = \"LABEL\""
   ],
   "outputs": [],
   "metadata": {}
  },
  {
   "cell_type": "markdown",
   "source": [
    "### Let us look at some rows"
   ],
   "metadata": {}
  },
  {
   "cell_type": "code",
   "execution_count": null,
   "source": [
    "training_set.head(5).collect()"
   ],
   "outputs": [],
   "metadata": {}
  },
  {
   "cell_type": "code",
   "execution_count": null,
   "source": [
    "training_set.filter(\"\\\"LABEL\\\"='yes'\").head(5).collect()"
   ],
   "outputs": [],
   "metadata": {}
  },
  {
   "cell_type": "markdown",
   "source": [
    "# Create Model and Tune Hyperparameters\n",
    "Try different hyperparameters and see what parameter is best.\n",
    "The results are stored in a list called res which can then be used to visualize the results.\n",
    "\n",
    "_The variable \"quick\" is to run the tests for only a few values to avoid running the code below for a long time._\n"
   ],
   "metadata": {}
  },
  {
   "cell_type": "code",
   "execution_count": null,
   "source": [
    "quick = True\r\n",
    "enet_lambdas = np.linspace(0.01,0.02, endpoint=False, num=1) if quick else np.append(np.linspace(0.01,0.02, endpoint=False, num=4), np.linspace(0.02,0.02, num=5))\r\n",
    "enet_alphas = np.linspace(0, 1, num=4) if quick else np.linspace(0, 1, num=40)\r\n",
    "res = []\r\n",
    "for enet_alpha in enet_alphas:\r\n",
    "    for enet_lambda in enet_lambdas:\r\n",
    "        lr = linear_model.LogisticRegression(solver='Cyclical', tol=0.000001, max_iter=10000, \r\n",
    "                                               stat_inf=True,pmml_export='multi-row', enet_lambda=enet_lambda, enet_alpha=enet_alpha,\r\n",
    "                                               class_map0='no', class_map1='yes')\r\n",
    "        lr.fit(training_set, features=features, label=label)\r\n",
    "        accuracy_val = lr.score(validation_set, 'ID', features, label)\r\n",
    "        res.append((enet_alpha, enet_lambda, accuracy_val, lr.coef_))"
   ],
   "outputs": [],
   "metadata": {}
  },
  {
   "cell_type": "markdown",
   "source": [
    "## Graph the results\n",
    "Plot the accuracy on the validation set against the hyperparameters.\n",
    "\n",
    "This is only done if all the combinations are tried."
   ],
   "metadata": {}
  },
  {
   "cell_type": "code",
   "execution_count": null,
   "source": [
    "%matplotlib inline\n",
    "if not quick:\n",
    "    arry = np.asarray(res)\n",
    "    fig = plt.figure(figsize=(10,10))\n",
    "    plt.title(\"Validation accuracy for training set with different lambdas\")\n",
    "    ax = fig.add_subplot(111)\n",
    "    most_accurate_lambda = arry[np.argmax(arry[:,2]),1]\n",
    "    best_accuracy_arg = np.argmax(arry[:,2])\n",
    "    for lamda in enet_lambdas:\n",
    "        if lamda == most_accurate_lambda:\n",
    "            ax.plot(arry[arry[:,1]==lamda][:,0], arry[arry[:,1]==lamda][:,2], label=\"%.3f\" % round(lamda,3), linewidth=5, c='r')\n",
    "        else:\n",
    "            ax.plot(arry[arry[:,1]==lamda][:,0], arry[arry[:,1]==lamda][:,2], label=\"%.3f\" % round(lamda,3))\n",
    "    plt.legend(loc=1, title=\"Legend (Lambda)\", fancybox=True, fontsize=12)\n",
    "    ax.set_xlabel('Alpha', fontsize=12)\n",
    "    ax.set_ylabel('Accuracy', fontsize=12)\n",
    "    plt.xticks(fontsize=12)\n",
    "    plt.yticks(fontsize=12)\n",
    "    plt.grid()\n",
    "    plt.show()\n",
    "    print(\"Best accuracy: %.4f\" % (arry[best_accuracy_arg][2]))\n",
    "    print(\"Value of alpha for maximum accuracy: %.3f\\nValue of lambda for maximum accuracy: %.3f\\n\" % (arry[best_accuracy_arg][0], arry[best_accuracy_arg][1]))\n",
    "else:\n",
    "    display(Image('images/bank-data-hyperparameter-tuning.png', width=800, unconfined=True))\n",
    "    print(\"Best accuracy: 0.9148\")\n",
    "    print(\"Value of alpha for maximum accuracy: 0.769\")\n",
    "    print(\"Value of lambda for maximum accuracy: 0.010\")"
   ],
   "outputs": [],
   "metadata": {}
  },
  {
   "cell_type": "markdown",
   "source": [
    "# Predictions on test set\n",
    "Let us do the predictions on the test set using these values of alpha and lambda"
   ],
   "metadata": {}
  },
  {
   "cell_type": "code",
   "execution_count": null,
   "source": [
    "alpha = 0.769\n",
    "lamda = 0.01\n",
    "lr = linear_model.LogisticRegression(solver='Cyclical', tol=0.000001, max_iter=10000, \n",
    "                                       stat_inf=True,pmml_export='multi-row', enet_lambda=lamda, enet_alpha=alpha,\n",
    "                                       class_map0='no', class_map1='yes')\n",
    "lr.fit(training_set, features=features, label=label)"
   ],
   "outputs": [],
   "metadata": {}
  },
  {
   "cell_type": "markdown",
   "source": [
    "## Look at the coefficients\n",
    "The coefficients are again a data frame. So, we sort and get the top 5."
   ],
   "metadata": {}
  },
  {
   "cell_type": "code",
   "execution_count": null,
   "source": [
    "lr.coef_.sort(\"COEFFICIENT\", desc=True).head(5).collect()"
   ],
   "outputs": [],
   "metadata": {}
  },
  {
   "cell_type": "markdown",
   "source": [
    "## Look at the predictions"
   ],
   "metadata": {}
  },
  {
   "cell_type": "code",
   "execution_count": null,
   "source": [
    "result_df = lr.predict(test_set, 'ID')\n",
    "result_df.filter('\"CLASS\"=\\'no\\'').head(5).collect()"
   ],
   "outputs": [],
   "metadata": {}
  },
  {
   "cell_type": "code",
   "execution_count": null,
   "source": [
    "result_df.filter('\"CLASS\"=\\'yes\\'').head(5).collect()"
   ],
   "outputs": [],
   "metadata": {}
  },
  {
   "cell_type": "markdown",
   "source": [
    "## What about the final score?"
   ],
   "metadata": {}
  },
  {
   "cell_type": "code",
   "execution_count": null,
   "source": [
    "lr.score(test_set, 'ID')"
   ],
   "outputs": [],
   "metadata": {}
  },
  {
   "cell_type": "code",
   "execution_count": null,
   "source": [],
   "outputs": [],
   "metadata": {
    "collapsed": true,
    "jupyter": {
     "outputs_hidden": true
    }
   }
  }
 ],
 "metadata": {
  "kernelspec": {
   "name": "python3",
   "display_name": "Python 3.9.1 64-bit ('base': conda)"
  },
  "language_info": {
   "codemirror_mode": {
    "name": "ipython",
    "version": 3
   },
   "file_extension": ".py",
   "mimetype": "text/x-python",
   "name": "python",
   "nbconvert_exporter": "python",
   "pygments_lexer": "ipython3",
   "version": "3.9.1"
  },
  "interpreter": {
   "hash": "9e8e26eb492012ce43ec3ea98c3fc2503d5495ecd40107dd94395e1e0d860e85"
  }
 },
 "nbformat": 4,
 "nbformat_minor": 4
}
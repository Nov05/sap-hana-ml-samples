{
 "cells": [
  {
   "cell_type": "raw",
   "id": "7dce4fab",
   "metadata": {},
   "source": [
    "What's New and Changed in version 2.13.220511\n",
    "---------------------------------------------\n",
    "\n",
    "New functions:\n",
    "    - Added upsert/update streams data in dataframe function.\n",
    "    - Added get_temporary_tables and clean_up_temporary_tables functions.\n",
    "    - Added Pipeline class json outputs for auto-ml pipeline_fit.\n",
    "    - Added EDA for time series data.\n",
    "        - Added plot_pacf, plot_acf\n",
    "        - Added plot_moving_average\n",
    "        - Added plot_rolling_stddev\n",
    "        - Added seasonal_plot\n",
    "        - Added timeseries_box_plot\n",
    "        - Added plot_seasonal_decompose\n",
    "        - Added quarter_plot\n",
    "    - Added rolling window in generate_feature function.\n",
    "    - Added CrostonTSB function.\n",
    "    \n",
    "Enhancedment:\n",
    "    - Improved the performance of box_plot.\n",
    "    - Missing value handling integration for unified classification & unified regression.\n",
    "    - Added model type specification for GARCH.\n",
    "    - Added local interpretability for KNN.\n",
    "    - Enhanced the massive mode support of UninfiedClassification, UnifiedRegression, ARIMA, AutoARIMA, AdditiveModelForecast."
   ]
  },
  {
   "cell_type": "markdown",
   "id": "a53f6392",
   "metadata": {},
   "source": [
    "#### manage steams data"
   ]
  },
  {
   "cell_type": "code",
   "execution_count": 2,
   "id": "943ff665",
   "metadata": {},
   "outputs": [],
   "source": [
    "import pandas as pd\n",
    "from hana_ml import dataframe\n",
    "\n",
    "try:\n",
    "    import configparser\n",
    "except ImportError:\n",
    "    import ConfigParser as configparser\n",
    "\n",
    "settings = configparser.ConfigParser()\n",
    "settings.read(\"../../config/e2edata.ini\")\n",
    "\n",
    "url = settings.get(\"hana\", \"url\")\n",
    "port = settings.getint(\"hana\", \"port\")\n",
    "user = settings.get(\"hana\", \"user\")\n",
    "pwd = settings.get(\"hana\", \"passwd\")\n",
    "\n",
    "connection_context = dataframe.ConnectionContext(url, port, user, pwd)"
   ]
  },
  {
   "cell_type": "code",
   "execution_count": null,
   "id": "80764e5f",
   "metadata": {},
   "outputs": [],
   "source": [
    "connection_context.create_table(\"#LOB_STREAMING_TEST\", table_structure={\"id\": \"int\", \"img\": \"blob\", \"img2\": \"blob\"})"
   ]
  },
  {
   "cell_type": "code",
   "execution_count": null,
   "id": "ad139a0f",
   "metadata": {},
   "outputs": [],
   "source": [
    "\n",
    "with open('./images/Crime-Rate-and-Median-House-Prices.png', 'rb') as f:\n",
    "    img = f.read()\n",
    "with open('./images/Inflation_Adjusted_Housing_Prices_1890_2006.jpg', 'rb') as f:\n",
    "    img2 = f.read()\n",
    "connection_context.upsert_streams_data(table_name=\"#LOB_STREAMING_TEST\", key=\"id\", data={\"id\":1, \"img\":img, \"img2\":img2})"
   ]
  },
  {
   "cell_type": "code",
   "execution_count": null,
   "id": "0be10d29",
   "metadata": {},
   "outputs": [],
   "source": [
    "connection_context.table(\"#LOB_STREAMING_TEST\").collect()"
   ]
  },
  {
   "cell_type": "code",
   "execution_count": null,
   "id": "32b9daf4",
   "metadata": {},
   "outputs": [],
   "source": [
    "connection_context.update_streams_data(table_name=\"#LOB_STREAMING_TEST\", key=\"id\", data={\"id\":1, \"img\":img2, \"img2\":img})"
   ]
  },
  {
   "cell_type": "code",
   "execution_count": null,
   "id": "c505ed75",
   "metadata": {},
   "outputs": [],
   "source": [
    "connection_context.table(\"#LOB_STREAMING_TEST\").collect()"
   ]
  },
  {
   "cell_type": "code",
   "execution_count": null,
   "id": "9cfe49bd",
   "metadata": {},
   "outputs": [],
   "source": [
    "conn = connection_context.connection\n",
    "\n",
    "conn.setautocommit(True)\n",
    "cursor = conn.cursor()\n",
    "cursor.execute(\"select \\\"img\\\" from #LOB_STREAMING_TEST where \\\"id\\\" = :id\", {\"id\": 1}) \n",
    "out_blob = cursor.fetchone(True)[0]\n",
    "out_img = bytearray()\n",
    "while True:\n",
    "    data = out_blob.read(size=200)\n",
    "    if data is None:\n",
    "        print(\"Done.\")\n",
    "        break\n",
    "    else:\n",
    "        print(\"Reading more data...\")\n",
    "        out_img.extend(data.tobytes())"
   ]
  },
  {
   "cell_type": "code",
   "execution_count": null,
   "id": "a1aec776",
   "metadata": {},
   "outputs": [],
   "source": [
    "import PIL.Image as Image\n",
    "from io import BytesIO\n",
    "image = Image.open(BytesIO(out_img))"
   ]
  },
  {
   "cell_type": "code",
   "execution_count": null,
   "id": "63f7cbb4",
   "metadata": {},
   "outputs": [],
   "source": [
    "display(image)"
   ]
  },
  {
   "cell_type": "markdown",
   "id": "8ee6a3a8",
   "metadata": {},
   "source": [
    "#### manage temporary tables"
   ]
  },
  {
   "cell_type": "code",
   "execution_count": null,
   "id": "485ec846",
   "metadata": {},
   "outputs": [],
   "source": [
    "connection_context.get_temporary_tables(list_other_connections=False)"
   ]
  },
  {
   "cell_type": "code",
   "execution_count": null,
   "id": "ac954d8f",
   "metadata": {},
   "outputs": [],
   "source": [
    "connection_context.get_connection_id()"
   ]
  },
  {
   "cell_type": "code",
   "execution_count": null,
   "id": "51636685",
   "metadata": {},
   "outputs": [],
   "source": [
    "connection_context.clean_up_temporary_tables()\n",
    "connection_context.get_temporary_tables()"
   ]
  },
  {
   "cell_type": "markdown",
   "id": "3dc7b9ff",
   "metadata": {},
   "source": [
    "#### Manual Pipeline integration with auto-ml"
   ]
  },
  {
   "cell_type": "code",
   "execution_count": null,
   "id": "8c7118ea",
   "metadata": {},
   "outputs": [],
   "source": [
    "from hana_ml.algorithms.pal.pipeline import Pipeline\n",
    "from hana_ml.algorithms.pal.decomposition import PCA\n",
    "from hana_ml.algorithms.pal.preprocessing import Imputer\n",
    "from hana_ml.algorithms.pal.trees import HybridGradientBoostingClassifier\n",
    "from hana_ml.algorithms.pal.utility import DataSets, Settings\n",
    "my_pipeline = Pipeline([\n",
    "                    ('CATPCA', PCA(scaling=True, scores=True)),\n",
    "                    ('HGBT_Classifier', HybridGradientBoostingClassifier(\n",
    "                                            n_estimators=4, split_threshold=0,\n",
    "                                            learning_rate=0.5, fold_num=5,\n",
    "                                            max_depth=6))])"
   ]
  },
  {
   "cell_type": "code",
   "execution_count": null,
   "id": "dd8d9c3c",
   "metadata": {},
   "outputs": [],
   "source": [
    "diabetes_full, diabetes_train, diabetes_test, _ = DataSets.load_diabetes_data(connection_context)"
   ]
  },
  {
   "cell_type": "code",
   "execution_count": null,
   "id": "bea2a5c2",
   "metadata": {},
   "outputs": [],
   "source": [
    "param = {'CATPCA__key': 'ID', 'CATPCA__label': 'CLASS'}\n",
    "my_pipeline.fit(diabetes_train, fit_params=param, generate_json_pipeline=True)\n"
   ]
  },
  {
   "cell_type": "code",
   "execution_count": null,
   "id": "3dc2b9cb",
   "metadata": {},
   "outputs": [],
   "source": [
    "my_pipeline.pipeline"
   ]
  },
  {
   "cell_type": "code",
   "execution_count": null,
   "id": "151b2da3",
   "metadata": {},
   "outputs": [],
   "source": [
    "from hana_ml.algorithms.pal.auto_ml import AutomaticClassification\n",
    "\n",
    "auto_c = AutomaticClassification()"
   ]
  },
  {
   "cell_type": "code",
   "execution_count": null,
   "id": "6ea9ece3",
   "metadata": {},
   "outputs": [],
   "source": [
    "auto_c.disable_workload_class_check()\n",
    "auto_c.fit(diabetes_train, pipeline=my_pipeline.pipeline)"
   ]
  },
  {
   "cell_type": "markdown",
   "id": "05072e6f",
   "metadata": {},
   "source": [
    "#### EDA for time seires data"
   ]
  },
  {
   "cell_type": "code",
   "execution_count": null,
   "id": "163c3202",
   "metadata": {},
   "outputs": [],
   "source": [
    "import numpy as np\n",
    "import matplotlib.pyplot as plt\n",
    "from scipy.stats import norm\n",
    "from scipy.linalg import cholesky\n",
    "import numpy as np\n",
    "from numpy.random import rand\n",
    "\n",
    "num_samples = 600\n",
    "S1 = 12\n",
    "S2 = 100\n",
    "\n",
    "np.random.seed(seed=2334)\n",
    "\n",
    "x1 = norm.rvs(loc=0, scale=1, size=(1, num_samples))[0]\n",
    "x2 = norm.rvs(loc=0, scale=1, size=(1, num_samples))[0]\n",
    "x3 = norm.rvs(loc=0, scale=1, size=(1, num_samples))[0]\n",
    "x4 = norm.rvs(loc=0, scale=1, size=(1, num_samples))[0]\n",
    "\n",
    "std_m = np.array([\n",
    "    [6.8, 0, 0, 0],\n",
    "    [0, 1.4, 0, 0],\n",
    "    [0, 0, 1.4, 0],\n",
    "    [0, 0, 0, 2.9]\n",
    "])\n",
    "\n",
    "# specify desired correlation\n",
    "corr_m = np.array([\n",
    "    [1, .35, 0.33, 0.78],\n",
    "    [.35, 1, 0.90, 0.28],\n",
    "    [.33, 0.90, 1, 0.27],\n",
    "    [.78, 0.28, 0.27, 1]\n",
    "])\n",
    "\n",
    "# calc desired covariance (vc matrix)\n",
    "cov_m = np.dot(std_m, np.dot(corr_m, std_m))\n",
    "L = cholesky(cov_m, lower=True)\n",
    "corr_data = np.dot(L, [x1, x2, x3, x4]).T\n",
    "\n",
    "beta=np.array([-3.49, 13, 13, 0.0056])\n",
    "omega1 = 2*np.pi/S1\n",
    "omega2 = 2*np.pi/S2\n",
    "timestamp = np.array([i for i in range(num_samples)])\n",
    "y1 = np.multiply(50*rand(num_samples), 20*rand(1)*np.cos(omega1*timestamp)) \\\n",
    "+ np.multiply(32*rand(num_samples), 30*rand(1)*np.cos(3*omega1*timestamp)) \\\n",
    "+ np.multiply(rand(num_samples), rand(1)*np.sin(omega2*timestamp)) \n",
    "\n",
    "y2 = np.multiply(rand(num_samples), timestamp)\n",
    "y3 = corr_data.dot(beta.T)\n",
    "y = y1 + y2 + y3"
   ]
  },
  {
   "cell_type": "code",
   "execution_count": null,
   "id": "4ab581a6",
   "metadata": {},
   "outputs": [],
   "source": [
    "dates = pd.date_range('2018-01-01', '2019-08-23',freq='D')\n",
    "data_additive = {'ID':dates, 'Y':y, 'X1':corr_data[:,0], 'X2':corr_data[:,1], 'X3':corr_data[:,2], 'X4':corr_data[:,3]}\n",
    "data = pd.DataFrame(data_additive)\n",
    "df_acf =dataframe.create_dataframe_from_pandas(connection_context, data, table_name='#PAL_ACF_PLOT', force=True)"
   ]
  },
  {
   "cell_type": "code",
   "execution_count": null,
   "id": "fb86af0d",
   "metadata": {},
   "outputs": [],
   "source": [
    "from hana_ml.visualizers.eda import plot_acf, plot_pacf, plot_moving_average, quarter_plot\n",
    "from hana_ml.visualizers.eda import plot_rolling_stddev, seasonal_plot, timeseries_box_plot, plot_seasonal_decompose"
   ]
  },
  {
   "cell_type": "code",
   "execution_count": null,
   "id": "e8a041ca",
   "metadata": {},
   "outputs": [],
   "source": [
    "plot_acf(df_acf, key=\"ID\", col=\"Y\")"
   ]
  },
  {
   "cell_type": "code",
   "execution_count": null,
   "id": "36476b6e",
   "metadata": {},
   "outputs": [],
   "source": [
    "plot_pacf(df_acf.set_index(\"ID\"), col=\"X1\")"
   ]
  },
  {
   "cell_type": "code",
   "execution_count": null,
   "id": "3db38045",
   "metadata": {},
   "outputs": [],
   "source": [
    "fig, ax = plt.subplots(figsize=(15, 10))\n",
    "ax = plot_moving_average(df_acf.set_index(\"ID\"), col=\"Y\", rolling_window=-3, ax=ax)\n"
   ]
  },
  {
   "cell_type": "code",
   "execution_count": null,
   "id": "1c27b1b3",
   "metadata": {},
   "outputs": [],
   "source": [
    "fig, ax = plt.subplots(figsize=(15, 10))\n",
    "ax = plot_rolling_stddev(df_acf.set_index(\"ID\"), col=\"Y\", rolling_window=10, ax=ax)\n"
   ]
  },
  {
   "cell_type": "code",
   "execution_count": null,
   "id": "c5f8e221",
   "metadata": {},
   "outputs": [],
   "source": [
    "df_acf.generate_feature(targets=[\"Y\"], order_by=\"ID\", trans_func=\"AVG\", rolling_window=1).collect()"
   ]
  },
  {
   "cell_type": "code",
   "execution_count": null,
   "id": "b0810a85",
   "metadata": {},
   "outputs": [],
   "source": [
    "df_acf.generate_feature(targets=[\"Y\"], order_by=\"ID\", trans_func=\"STDDEV\", rolling_window=-3).collect()"
   ]
  },
  {
   "cell_type": "code",
   "execution_count": null,
   "id": "cc1716cb",
   "metadata": {},
   "outputs": [],
   "source": [
    "df_acf.generate_feature(targets=[\"Y\"], order_by=\"ID\", trans_func=\"STDDEV\", rolling_window=\"inf\").collect()"
   ]
  },
  {
   "cell_type": "code",
   "execution_count": null,
   "id": "7b70522b",
   "metadata": {
    "scrolled": true
   },
   "outputs": [],
   "source": [
    "df_acf.generate_feature(targets=[\"Y\"], order_by=\"ID\", trans_func=\"CORR\", second_targets=[\"X1\"], rolling_window=\"-Inf\").collect()"
   ]
  },
  {
   "cell_type": "code",
   "execution_count": null,
   "id": "5d0a1375",
   "metadata": {},
   "outputs": [],
   "source": [
    "df_acf.corr(\"Y\", \"X1\").collect()"
   ]
  },
  {
   "cell_type": "code",
   "execution_count": null,
   "id": "f6c4b3a1",
   "metadata": {},
   "outputs": [],
   "source": [
    "df_acf.collect()"
   ]
  },
  {
   "cell_type": "code",
   "execution_count": null,
   "id": "59da26fd",
   "metadata": {},
   "outputs": [],
   "source": [
    "seasonal_plot(df_acf.set_index(\"ID\"), col=\"Y\")"
   ]
  },
  {
   "cell_type": "code",
   "execution_count": null,
   "id": "a318701c",
   "metadata": {},
   "outputs": [],
   "source": [
    "timeseries_box_plot(df_acf, \"Y\", key=\"ID\", cycle=\"YEAR\")"
   ]
  },
  {
   "cell_type": "code",
   "execution_count": null,
   "id": "c5ebc5b6",
   "metadata": {},
   "outputs": [],
   "source": [
    "timeseries_box_plot(df_acf, \"Y\", key=\"ID\", cycle=\"MONTH\")"
   ]
  },
  {
   "cell_type": "code",
   "execution_count": null,
   "id": "b65d98e1",
   "metadata": {},
   "outputs": [],
   "source": [
    "fig, ax = plt.subplots(figsize=(15, 10))\n",
    "timeseries_box_plot(df_acf, \"Y\", key=\"ID\", cycle=\"QUARTER\", ax=ax)"
   ]
  },
  {
   "cell_type": "code",
   "execution_count": null,
   "id": "84edec99",
   "metadata": {},
   "outputs": [],
   "source": [
    "fig, axes = plt.subplots(3, 1, figsize=(12, 8))\n",
    "fig.suptitle('Seasonal Decompose', fontsize=16)\n",
    "plot_seasonal_decompose(df_acf, col=\"Y\", axes=axes)\n"
   ]
  },
  {
   "cell_type": "code",
   "execution_count": null,
   "id": "cf0cfc2a",
   "metadata": {},
   "outputs": [],
   "source": [
    "fig, ax = plt.subplots(figsize=(15, 10))\n",
    "fig.suptitle('Quarter Plot', fontsize=16)\n",
    "ax = quarter_plot(df_acf, col=\"Y\", key=\"ID\", ax=ax)\n"
   ]
  },
  {
   "cell_type": "markdown",
   "id": "0aa53a09",
   "metadata": {},
   "source": [
    "#### Missing Value Handling in Unified Interfaces"
   ]
  },
  {
   "cell_type": "code",
   "execution_count": 2,
   "id": "a92af103",
   "metadata": {},
   "outputs": [],
   "source": [
    "import pandas as pd\n",
    "iris = pd.read_csv('../datasets/iris.csv', header=None)\n",
    "iris.columns = ['V1', 'V2', 'V3', 'V4', 'CLASS']"
   ]
  },
  {
   "cell_type": "code",
   "execution_count": 3,
   "id": "72ed782b",
   "metadata": {},
   "outputs": [],
   "source": [
    "## Manually creating some missing values in iris data\n",
    "iris_dict = dict(ID=range(iris.shape[0]))\n",
    "import numpy as np\n",
    "for col in iris.columns[:-1]:\n",
    "    x = np.random.rand(iris.shape[0])\n",
    "    iris_dict[col] = [y if z > 0.1 else None for (y, z) in zip(iris[col], x)]\n",
    "iris_dict['CLASS'] = iris['CLASS']"
   ]
  },
  {
   "cell_type": "code",
   "execution_count": 4,
   "id": "bd97e516",
   "metadata": {},
   "outputs": [],
   "source": [
    "iris_data = pd.DataFrame(iris_dict)"
   ]
  },
  {
   "cell_type": "code",
   "execution_count": 5,
   "id": "483a95b7",
   "metadata": {},
   "outputs": [
    {
     "name": "stderr",
     "output_type": "stream",
     "text": [
      "100%|████████████████████████████████████████████| 1/1 [00:00<00:00,  1.97it/s]\n"
     ]
    }
   ],
   "source": [
    "from hana_ml.dataframe import create_dataframe_from_pandas\n",
    "iris_df = create_dataframe_from_pandas(connection_context, iris_data, 'IRIS_MISS_FULL', force=True)"
   ]
  },
  {
   "cell_type": "code",
   "execution_count": 6,
   "id": "55b0d255",
   "metadata": {},
   "outputs": [
    {
     "data": {
      "text/plain": [
       "<hana_ml.algorithms.pal.unified_classification.UnifiedClassification at 0x22eb61c2308>"
      ]
     },
     "execution_count": 6,
     "metadata": {},
     "output_type": "execute_result"
    }
   ],
   "source": [
    "from hana_ml.algorithms.pal.unified_classification import UnifiedClassification\n",
    "uc_mlogr = UnifiedClassification(func='LogisticRegression', multi_class=True)\n",
    "uc_mlogr.fit(iris_df, key='ID', impute=True, strategy='most_frequent-mean',\n",
    "             strategy_by_col=[('V2', 'median')])"
   ]
  },
  {
   "cell_type": "code",
   "execution_count": 7,
   "id": "8c8be800",
   "metadata": {},
   "outputs": [
    {
     "data": {
      "text/plain": [
       "(<hana_ml.dataframe.DataFrame at 0x22eb7598c48>,\n",
       " <hana_ml.dataframe.DataFrame at 0x22eb7598fc8>,\n",
       " <hana_ml.dataframe.DataFrame at 0x22eb68c55c8>,\n",
       " <hana_ml.dataframe.DataFrame at 0x22eb7593188>)"
      ]
     },
     "execution_count": 7,
     "metadata": {},
     "output_type": "execute_result"
    }
   ],
   "source": [
    "uc_mlogr.score(iris_df.head(50), key='ID', impute=True, strategy='most_frequent-mean',\n",
    "               strategy_by_col=[('V2', 'median')])#"
   ]
  },
  {
   "cell_type": "code",
   "execution_count": 8,
   "id": "7b5b55b7",
   "metadata": {},
   "outputs": [],
   "source": [
    "boston_housing = pd.read_csv('../datasets/boston-house-prices.csv', header=None)"
   ]
  },
  {
   "cell_type": "code",
   "execution_count": 9,
   "id": "9c2d4fe1",
   "metadata": {},
   "outputs": [],
   "source": [
    "boston_housing.columns = ['V' + str(i) for i in range(boston_housing.shape[1]-1)] + ['MEDV']"
   ]
  },
  {
   "cell_type": "code",
   "execution_count": 11,
   "id": "aadbe856",
   "metadata": {},
   "outputs": [],
   "source": [
    "rnd = np.random.rand(boston_housing.shape[0])\n",
    "boston_housing['V0'] = [y if z > 0.1 else None for y, z in zip(boston_housing['V0'], rnd)]"
   ]
  },
  {
   "cell_type": "code",
   "execution_count": 13,
   "id": "b7924418",
   "metadata": {},
   "outputs": [
    {
     "name": "stderr",
     "output_type": "stream",
     "text": [
      "100%|████████████████████████████████████████████| 1/1 [00:00<00:00,  1.67it/s]\n"
     ]
    }
   ],
   "source": [
    "boston_df = create_dataframe_from_pandas(connection_context,\n",
    "                                         boston_housing,\n",
    "                                         'BOSTON_HOUSE_MISS_FULL',\n",
    "                                         force=True)"
   ]
  },
  {
   "cell_type": "code",
   "execution_count": 14,
   "id": "1ec0c283",
   "metadata": {},
   "outputs": [
    {
     "data": {
      "text/plain": [
       "<hana_ml.algorithms.pal.unified_regression.UnifiedRegression at 0x22eb85a4488>"
      ]
     },
     "execution_count": 14,
     "metadata": {},
     "output_type": "execute_result"
    }
   ],
   "source": [
    "from hana_ml.algorithms.pal.unified_regression import UnifiedRegression\n",
    "ur_lr = UnifiedRegression(func='LinearRegression')\n",
    "ur_lr.fit(boston_df, label='MEDV', impute=True, strategy_by_col=[('V0', 'median')])"
   ]
  },
  {
   "cell_type": "code",
   "execution_count": 15,
   "id": "e8ad63c4",
   "metadata": {},
   "outputs": [
    {
     "data": {
      "text/plain": [
       "(<hana_ml.dataframe.DataFrame at 0x22eb85af188>,\n",
       " <hana_ml.dataframe.DataFrame at 0x22eb85adbc8>)"
      ]
     },
     "execution_count": 15,
     "metadata": {},
     "output_type": "execute_result"
    }
   ],
   "source": [
    "ur_lr.score(boston_df.head(50).add_id('ID'), key='ID', impute=True)"
   ]
  },
  {
   "cell_type": "markdown",
   "id": "187cbc31",
   "metadata": {},
   "source": [
    "#### GARCH Enhancement"
   ]
  },
  {
   "cell_type": "code",
   "execution_count": 4,
   "id": "02403ab0",
   "metadata": {},
   "outputs": [],
   "source": [
    "import numpy as np\n",
    "import pandas as pd\n",
    "npt = 20\n",
    "np.random.seed(2022)\n",
    "ts_data = pd.DataFrame(dict(TIME = range(npt),\n",
    "                            X = 2*(np.random.rand(npt) - 0.5)))"
   ]
  },
  {
   "cell_type": "code",
   "execution_count": 7,
   "id": "b94d6a9f",
   "metadata": {},
   "outputs": [
    {
     "name": "stderr",
     "output_type": "stream",
     "text": [
      "100%|████████████████████████████████████████████| 1/1 [00:00<00:00,  2.15it/s]\n"
     ]
    }
   ],
   "source": [
    "from hana_ml.dataframe import create_dataframe_from_pandas\n",
    "ts_df = create_dataframe_from_pandas(connection_context, ts_data, 'GARCH_TS_SIMU_DATA', force=True)"
   ]
  },
  {
   "cell_type": "code",
   "execution_count": 9,
   "id": "bb254c07",
   "metadata": {},
   "outputs": [],
   "source": [
    "from hana_ml.algorithms.pal.tsa.garch import GARCH"
   ]
  },
  {
   "cell_type": "code",
   "execution_count": 12,
   "id": "65596bf6",
   "metadata": {},
   "outputs": [],
   "source": [
    "gch = GARCH(model_type='igarch')#integrated GARCH\n",
    "gch.fit(data = ts_df, key='TIME')\n",
    "res = gch.predict(horizon=3)"
   ]
  },
  {
   "cell_type": "code",
   "execution_count": 14,
   "id": "8d52d362",
   "metadata": {},
   "outputs": [
    {
     "data": {
      "text/html": [
       "<div>\n",
       "<style scoped>\n",
       "    .dataframe tbody tr th:only-of-type {\n",
       "        vertical-align: middle;\n",
       "    }\n",
       "\n",
       "    .dataframe tbody tr th {\n",
       "        vertical-align: top;\n",
       "    }\n",
       "\n",
       "    .dataframe thead th {\n",
       "        text-align: right;\n",
       "    }\n",
       "</style>\n",
       "<table border=\"1\" class=\"dataframe\">\n",
       "  <thead>\n",
       "    <tr style=\"text-align: right;\">\n",
       "      <th></th>\n",
       "      <th>STEP</th>\n",
       "      <th>VARIANCE</th>\n",
       "      <th>RESIDUAL</th>\n",
       "    </tr>\n",
       "  </thead>\n",
       "  <tbody>\n",
       "    <tr>\n",
       "      <th>0</th>\n",
       "      <td>1</td>\n",
       "      <td>0.399849</td>\n",
       "      <td>None</td>\n",
       "    </tr>\n",
       "    <tr>\n",
       "      <th>1</th>\n",
       "      <td>2</td>\n",
       "      <td>0.399849</td>\n",
       "      <td>None</td>\n",
       "    </tr>\n",
       "    <tr>\n",
       "      <th>2</th>\n",
       "      <td>3</td>\n",
       "      <td>0.399849</td>\n",
       "      <td>None</td>\n",
       "    </tr>\n",
       "  </tbody>\n",
       "</table>\n",
       "</div>"
      ],
      "text/plain": [
       "   STEP  VARIANCE RESIDUAL\n",
       "0     1  0.399849     None\n",
       "1     2  0.399849     None\n",
       "2     3  0.399849     None"
      ]
     },
     "execution_count": 14,
     "metadata": {},
     "output_type": "execute_result"
    }
   ],
   "source": [
    "res[0].collect()"
   ]
  },
  {
   "cell_type": "code",
   "execution_count": 15,
   "id": "de391170",
   "metadata": {},
   "outputs": [],
   "source": [
    "gch = GARCH(model_type='tgarch')#threshold GARCH\n",
    "gch.fit(data = ts_df, key='TIME')\n",
    "res = gch.predict(horizon=3)"
   ]
  },
  {
   "cell_type": "code",
   "execution_count": 17,
   "id": "7fc4b9e7",
   "metadata": {},
   "outputs": [
    {
     "data": {
      "text/html": [
       "<div>\n",
       "<style scoped>\n",
       "    .dataframe tbody tr th:only-of-type {\n",
       "        vertical-align: middle;\n",
       "    }\n",
       "\n",
       "    .dataframe tbody tr th {\n",
       "        vertical-align: top;\n",
       "    }\n",
       "\n",
       "    .dataframe thead th {\n",
       "        text-align: right;\n",
       "    }\n",
       "</style>\n",
       "<table border=\"1\" class=\"dataframe\">\n",
       "  <thead>\n",
       "    <tr style=\"text-align: right;\">\n",
       "      <th></th>\n",
       "      <th>STEP</th>\n",
       "      <th>VARIANCE</th>\n",
       "      <th>RESIDUAL</th>\n",
       "    </tr>\n",
       "  </thead>\n",
       "  <tbody>\n",
       "    <tr>\n",
       "      <th>0</th>\n",
       "      <td>1</td>\n",
       "      <td>0.383388</td>\n",
       "      <td>None</td>\n",
       "    </tr>\n",
       "    <tr>\n",
       "      <th>1</th>\n",
       "      <td>2</td>\n",
       "      <td>0.407847</td>\n",
       "      <td>None</td>\n",
       "    </tr>\n",
       "    <tr>\n",
       "      <th>2</th>\n",
       "      <td>3</td>\n",
       "      <td>0.409407</td>\n",
       "      <td>None</td>\n",
       "    </tr>\n",
       "  </tbody>\n",
       "</table>\n",
       "</div>"
      ],
      "text/plain": [
       "   STEP  VARIANCE RESIDUAL\n",
       "0     1  0.383388     None\n",
       "1     2  0.407847     None\n",
       "2     3  0.409407     None"
      ]
     },
     "execution_count": 17,
     "metadata": {},
     "output_type": "execute_result"
    }
   ],
   "source": [
    "res[0].collect()"
   ]
  },
  {
   "cell_type": "code",
   "execution_count": 21,
   "id": "933ec7af",
   "metadata": {},
   "outputs": [
    {
     "data": {
      "text/plain": [
       "<hana_ml.algorithms.pal.tsa.garch.GARCH at 0x1b12af25d08>"
      ]
     },
     "execution_count": 21,
     "metadata": {},
     "output_type": "execute_result"
    }
   ],
   "source": [
    "gch = GARCH(model_type='egarch')#exponential GARCH\n",
    "gch.fit(data = ts_df, key='TIME')"
   ]
  },
  {
   "cell_type": "markdown",
   "id": "e74163a1",
   "metadata": {},
   "source": [
    "#### Local Intepretability for KNN"
   ]
  },
  {
   "cell_type": "code",
   "execution_count": 2,
   "id": "b478e528",
   "metadata": {},
   "outputs": [],
   "source": [
    "from hana_ml.algorithms.pal.utility import DataSets"
   ]
  },
  {
   "cell_type": "code",
   "execution_count": 8,
   "id": "aeea5868",
   "metadata": {},
   "outputs": [
    {
     "name": "stdout",
     "output_type": "stream",
     "text": [
      "Table IRIS_DATA_FULL_TBL exists.\n"
     ]
    }
   ],
   "source": [
    "iris_full,_,_,_ = DataSets.load_iris_data(connection_context)"
   ]
  },
  {
   "cell_type": "code",
   "execution_count": 10,
   "id": "5514f204",
   "metadata": {},
   "outputs": [],
   "source": [
    "from hana_ml.algorithms.pal.partition import train_test_val_split"
   ]
  },
  {
   "cell_type": "code",
   "execution_count": 22,
   "id": "4db5a2b2",
   "metadata": {},
   "outputs": [],
   "source": [
    "iris_train, iris_test, _ = train_test_val_split(iris_full,\n",
    "                                                id_column='ID',\n",
    "                                                random_seed=2022,\n",
    "                                                partition_method='stratified',\n",
    "                                                stratified_column='SPECIES',\n",
    "                                                training_percentage=0.8,\n",
    "                                                testing_percentage=0.2,\n",
    "                                                validation_percentage=0.0)"
   ]
  },
  {
   "cell_type": "code",
   "execution_count": 23,
   "id": "316845ad",
   "metadata": {},
   "outputs": [
    {
     "data": {
      "text/plain": [
       "<hana_ml.algorithms.pal.neighbors.KNNClassifier at 0x18d5598da88>"
      ]
     },
     "execution_count": 23,
     "metadata": {},
     "output_type": "execute_result"
    }
   ],
   "source": [
    "from hana_ml.algorithms.pal.neighbors import KNNClassifier\n",
    "knn = KNNClassifier(n_neighbors=3, metric='euclidean')\n",
    "knn.fit(iris_train, key='ID', label='SPECIES')"
   ]
  },
  {
   "cell_type": "code",
   "execution_count": 25,
   "id": "11b5b949",
   "metadata": {},
   "outputs": [],
   "source": [
    "res = knn.predict(iris_test, key='ID',\n",
    "                  features=iris_test.columns[1:-1],\n",
    "                  interpret=True)# set 'interpret' parameter to be True"
   ]
  },
  {
   "cell_type": "code",
   "execution_count": 27,
   "id": "3f7f00b1",
   "metadata": {},
   "outputs": [
    {
     "data": {
      "text/html": [
       "<div>\n",
       "<style scoped>\n",
       "    .dataframe tbody tr th:only-of-type {\n",
       "        vertical-align: middle;\n",
       "    }\n",
       "\n",
       "    .dataframe tbody tr th {\n",
       "        vertical-align: top;\n",
       "    }\n",
       "\n",
       "    .dataframe thead th {\n",
       "        text-align: right;\n",
       "    }\n",
       "</style>\n",
       "<table border=\"1\" class=\"dataframe\">\n",
       "  <thead>\n",
       "    <tr style=\"text-align: right;\">\n",
       "      <th></th>\n",
       "      <th>ID</th>\n",
       "      <th>TARGET</th>\n",
       "      <th>REASON_CODE</th>\n",
       "    </tr>\n",
       "  </thead>\n",
       "  <tbody>\n",
       "    <tr>\n",
       "      <th>0</th>\n",
       "      <td>5</td>\n",
       "      <td>Iris-setosa</td>\n",
       "      <td>[{\"attr\":\"PETALLENGTHCM\",\"val\":0.6080661302641...</td>\n",
       "    </tr>\n",
       "    <tr>\n",
       "      <th>1</th>\n",
       "      <td>6</td>\n",
       "      <td>Iris-setosa</td>\n",
       "      <td>[{\"attr\":\"PETALLENGTHCM\",\"val\":0.6366492571233...</td>\n",
       "    </tr>\n",
       "    <tr>\n",
       "      <th>2</th>\n",
       "      <td>8</td>\n",
       "      <td>Iris-setosa</td>\n",
       "      <td>[{\"attr\":\"PETALLENGTHCM\",\"val\":0.6387009267078...</td>\n",
       "    </tr>\n",
       "    <tr>\n",
       "      <th>3</th>\n",
       "      <td>17</td>\n",
       "      <td>Iris-setosa</td>\n",
       "      <td>[{\"attr\":\"PETALLENGTHCM\",\"val\":0.6366287059064...</td>\n",
       "    </tr>\n",
       "    <tr>\n",
       "      <th>4</th>\n",
       "      <td>20</td>\n",
       "      <td>Iris-setosa</td>\n",
       "      <td>[{\"attr\":\"PETALLENGTHCM\",\"val\":0.6100976898526...</td>\n",
       "    </tr>\n",
       "    <tr>\n",
       "      <th>5</th>\n",
       "      <td>22</td>\n",
       "      <td>Iris-setosa</td>\n",
       "      <td>[{\"attr\":\"PETALLENGTHCM\",\"val\":0.6329967936354...</td>\n",
       "    </tr>\n",
       "    <tr>\n",
       "      <th>6</th>\n",
       "      <td>23</td>\n",
       "      <td>Iris-setosa</td>\n",
       "      <td>[{\"attr\":\"PETALLENGTHCM\",\"val\":0.6101638094630...</td>\n",
       "    </tr>\n",
       "    <tr>\n",
       "      <th>7</th>\n",
       "      <td>27</td>\n",
       "      <td>Iris-setosa</td>\n",
       "      <td>[{\"attr\":\"PETALLENGTHCM\",\"val\":0.6339550745825...</td>\n",
       "    </tr>\n",
       "    <tr>\n",
       "      <th>8</th>\n",
       "      <td>28</td>\n",
       "      <td>Iris-setosa</td>\n",
       "      <td>[{\"attr\":\"PETALLENGTHCM\",\"val\":0.6366496435427...</td>\n",
       "    </tr>\n",
       "    <tr>\n",
       "      <th>9</th>\n",
       "      <td>32</td>\n",
       "      <td>Iris-setosa</td>\n",
       "      <td>[{\"attr\":\"PETALLENGTHCM\",\"val\":0.6239599876740...</td>\n",
       "    </tr>\n",
       "    <tr>\n",
       "      <th>10</th>\n",
       "      <td>63</td>\n",
       "      <td>Iris-versicolor</td>\n",
       "      <td>[{\"attr\":\"PETALLENGTHCM\",\"val\":0.4712962129732...</td>\n",
       "    </tr>\n",
       "    <tr>\n",
       "      <th>11</th>\n",
       "      <td>65</td>\n",
       "      <td>Iris-versicolor</td>\n",
       "      <td>[{\"attr\":\"PETALLENGTHCM\",\"val\":0.5533449537897...</td>\n",
       "    </tr>\n",
       "    <tr>\n",
       "      <th>12</th>\n",
       "      <td>68</td>\n",
       "      <td>Iris-versicolor</td>\n",
       "      <td>[{\"attr\":\"PETALLENGTHCM\",\"val\":0.4886856501650...</td>\n",
       "    </tr>\n",
       "    <tr>\n",
       "      <th>13</th>\n",
       "      <td>69</td>\n",
       "      <td>Iris-versicolor</td>\n",
       "      <td>[{\"attr\":\"PETALLENGTHCM\",\"val\":0.6160561558683...</td>\n",
       "    </tr>\n",
       "    <tr>\n",
       "      <th>14</th>\n",
       "      <td>75</td>\n",
       "      <td>Iris-versicolor</td>\n",
       "      <td>[{\"attr\":\"PETALLENGTHCM\",\"val\":0.5602411229107...</td>\n",
       "    </tr>\n",
       "    <tr>\n",
       "      <th>15</th>\n",
       "      <td>80</td>\n",
       "      <td>Iris-versicolor</td>\n",
       "      <td>[{\"attr\":\"PETALLENGTHCM\",\"val\":0.6263801875749...</td>\n",
       "    </tr>\n",
       "    <tr>\n",
       "      <th>16</th>\n",
       "      <td>84</td>\n",
       "      <td>Iris-versicolor</td>\n",
       "      <td>[{\"attr\":\"PETALLENGTHCM\",\"val\":0.5462417769208...</td>\n",
       "    </tr>\n",
       "    <tr>\n",
       "      <th>17</th>\n",
       "      <td>95</td>\n",
       "      <td>Iris-versicolor</td>\n",
       "      <td>[{\"attr\":\"PETALLENGTHCM\",\"val\":0.5882914936696...</td>\n",
       "    </tr>\n",
       "    <tr>\n",
       "      <th>18</th>\n",
       "      <td>96</td>\n",
       "      <td>Iris-versicolor</td>\n",
       "      <td>[{\"attr\":\"PETALLENGTHCM\",\"val\":0.5779132969354...</td>\n",
       "    </tr>\n",
       "    <tr>\n",
       "      <th>19</th>\n",
       "      <td>99</td>\n",
       "      <td>Iris-versicolor</td>\n",
       "      <td>[{\"attr\":\"PETALLENGTHCM\",\"val\":0.5873808547965...</td>\n",
       "    </tr>\n",
       "    <tr>\n",
       "      <th>20</th>\n",
       "      <td>102</td>\n",
       "      <td>Iris-virginica</td>\n",
       "      <td>[{\"attr\":\"PETALLENGTHCM\",\"val\":0.5604690433395...</td>\n",
       "    </tr>\n",
       "    <tr>\n",
       "      <th>21</th>\n",
       "      <td>105</td>\n",
       "      <td>Iris-virginica</td>\n",
       "      <td>[{\"attr\":\"PETALLENGTHCM\",\"val\":0.6267139619847...</td>\n",
       "    </tr>\n",
       "    <tr>\n",
       "      <th>22</th>\n",
       "      <td>109</td>\n",
       "      <td>Iris-virginica</td>\n",
       "      <td>[{\"attr\":\"PETALLENGTHCM\",\"val\":0.5224000227645...</td>\n",
       "    </tr>\n",
       "    <tr>\n",
       "      <th>23</th>\n",
       "      <td>111</td>\n",
       "      <td>Iris-virginica</td>\n",
       "      <td>[{\"attr\":\"PETALLENGTHCM\",\"val\":0.3968404703996...</td>\n",
       "    </tr>\n",
       "    <tr>\n",
       "      <th>24</th>\n",
       "      <td>118</td>\n",
       "      <td>Iris-virginica</td>\n",
       "      <td>[{\"attr\":\"PETALLENGTHCM\",\"val\":0.6071669392349...</td>\n",
       "    </tr>\n",
       "    <tr>\n",
       "      <th>25</th>\n",
       "      <td>123</td>\n",
       "      <td>Iris-virginica</td>\n",
       "      <td>[{\"attr\":\"PETALLENGTHCM\",\"val\":0.1656212152333...</td>\n",
       "    </tr>\n",
       "    <tr>\n",
       "      <th>26</th>\n",
       "      <td>125</td>\n",
       "      <td>Iris-virginica</td>\n",
       "      <td>[{\"attr\":\"PETALLENGTHCM\",\"val\":0.6202563498366...</td>\n",
       "    </tr>\n",
       "    <tr>\n",
       "      <th>27</th>\n",
       "      <td>126</td>\n",
       "      <td>Iris-virginica</td>\n",
       "      <td>[{\"attr\":\"PETALWIDTHCM\",\"val\":0.12847668578741...</td>\n",
       "    </tr>\n",
       "    <tr>\n",
       "      <th>28</th>\n",
       "      <td>142</td>\n",
       "      <td>Iris-virginica</td>\n",
       "      <td>[{\"attr\":\"PETALWIDTHCM\",\"val\":0.23267304252904...</td>\n",
       "    </tr>\n",
       "    <tr>\n",
       "      <th>29</th>\n",
       "      <td>145</td>\n",
       "      <td>Iris-virginica</td>\n",
       "      <td>[{\"attr\":\"PETALWIDTHCM\",\"val\":0.37086496334509...</td>\n",
       "    </tr>\n",
       "  </tbody>\n",
       "</table>\n",
       "</div>"
      ],
      "text/plain": [
       "     ID           TARGET                                        REASON_CODE\n",
       "0     5      Iris-setosa  [{\"attr\":\"PETALLENGTHCM\",\"val\":0.6080661302641...\n",
       "1     6      Iris-setosa  [{\"attr\":\"PETALLENGTHCM\",\"val\":0.6366492571233...\n",
       "2     8      Iris-setosa  [{\"attr\":\"PETALLENGTHCM\",\"val\":0.6387009267078...\n",
       "3    17      Iris-setosa  [{\"attr\":\"PETALLENGTHCM\",\"val\":0.6366287059064...\n",
       "4    20      Iris-setosa  [{\"attr\":\"PETALLENGTHCM\",\"val\":0.6100976898526...\n",
       "5    22      Iris-setosa  [{\"attr\":\"PETALLENGTHCM\",\"val\":0.6329967936354...\n",
       "6    23      Iris-setosa  [{\"attr\":\"PETALLENGTHCM\",\"val\":0.6101638094630...\n",
       "7    27      Iris-setosa  [{\"attr\":\"PETALLENGTHCM\",\"val\":0.6339550745825...\n",
       "8    28      Iris-setosa  [{\"attr\":\"PETALLENGTHCM\",\"val\":0.6366496435427...\n",
       "9    32      Iris-setosa  [{\"attr\":\"PETALLENGTHCM\",\"val\":0.6239599876740...\n",
       "10   63  Iris-versicolor  [{\"attr\":\"PETALLENGTHCM\",\"val\":0.4712962129732...\n",
       "11   65  Iris-versicolor  [{\"attr\":\"PETALLENGTHCM\",\"val\":0.5533449537897...\n",
       "12   68  Iris-versicolor  [{\"attr\":\"PETALLENGTHCM\",\"val\":0.4886856501650...\n",
       "13   69  Iris-versicolor  [{\"attr\":\"PETALLENGTHCM\",\"val\":0.6160561558683...\n",
       "14   75  Iris-versicolor  [{\"attr\":\"PETALLENGTHCM\",\"val\":0.5602411229107...\n",
       "15   80  Iris-versicolor  [{\"attr\":\"PETALLENGTHCM\",\"val\":0.6263801875749...\n",
       "16   84  Iris-versicolor  [{\"attr\":\"PETALLENGTHCM\",\"val\":0.5462417769208...\n",
       "17   95  Iris-versicolor  [{\"attr\":\"PETALLENGTHCM\",\"val\":0.5882914936696...\n",
       "18   96  Iris-versicolor  [{\"attr\":\"PETALLENGTHCM\",\"val\":0.5779132969354...\n",
       "19   99  Iris-versicolor  [{\"attr\":\"PETALLENGTHCM\",\"val\":0.5873808547965...\n",
       "20  102   Iris-virginica  [{\"attr\":\"PETALLENGTHCM\",\"val\":0.5604690433395...\n",
       "21  105   Iris-virginica  [{\"attr\":\"PETALLENGTHCM\",\"val\":0.6267139619847...\n",
       "22  109   Iris-virginica  [{\"attr\":\"PETALLENGTHCM\",\"val\":0.5224000227645...\n",
       "23  111   Iris-virginica  [{\"attr\":\"PETALLENGTHCM\",\"val\":0.3968404703996...\n",
       "24  118   Iris-virginica  [{\"attr\":\"PETALLENGTHCM\",\"val\":0.6071669392349...\n",
       "25  123   Iris-virginica  [{\"attr\":\"PETALLENGTHCM\",\"val\":0.1656212152333...\n",
       "26  125   Iris-virginica  [{\"attr\":\"PETALLENGTHCM\",\"val\":0.6202563498366...\n",
       "27  126   Iris-virginica  [{\"attr\":\"PETALWIDTHCM\",\"val\":0.12847668578741...\n",
       "28  142   Iris-virginica  [{\"attr\":\"PETALWIDTHCM\",\"val\":0.23267304252904...\n",
       "29  145   Iris-virginica  [{\"attr\":\"PETALWIDTHCM\",\"val\":0.37086496334509..."
      ]
     },
     "execution_count": 27,
     "metadata": {},
     "output_type": "execute_result"
    }
   ],
   "source": [
    "res[0].collect()#view prediction result together with local interpretability(reason code)"
   ]
  },
  {
   "cell_type": "markdown",
   "id": "097e21ad",
   "metadata": {},
   "source": [
    "#### Croston TSB\n",
    "\n",
    "- support both single and massive mode"
   ]
  },
  {
   "cell_type": "code",
   "execution_count": 3,
   "id": "d30d2804",
   "metadata": {},
   "outputs": [
    {
     "name": "stderr",
     "output_type": "stream",
     "text": [
      "100%|████████████████████████████████████████████████████████████████████████████████████| 1/1 [00:00<00:00,  1.67it/s]\n"
     ]
    },
    {
     "name": "stdout",
     "output_type": "stream",
     "text": [
      "   GROUP_ID  ID  OUTPUT_VALUE\n",
      "0       100  11          0.00\n",
      "1       200   2          0.00\n",
      "2       200   3          0.00\n",
      "3       200   4          5.30\n",
      "4       200   5          0.00\n",
      "5       200   6          0.00\n",
      "6       200   7          0.00\n",
      "7       200   8          0.00\n",
      "8       200   9          5.07\n",
      "9       200  10          0.00\n",
      "10      200  11          0.00\n",
      "   GROUP_ID  ID  OUTPUT_VALUE\n",
      "0       100  11          0.00\n",
      "1       200   2          0.00\n",
      "2       200   3          0.00\n",
      "3       200   4          5.30\n",
      "4       200   5          0.00\n",
      "5       200   6          0.00\n",
      "6       200   7          0.00\n",
      "7       200   8          0.00\n",
      "8       200   9          5.07\n",
      "9       200  10          0.00\n",
      "10      200  11          0.00\n",
      "  GROUP_ID STAT_NAME  STAT_VALUE\n",
      "0      100      MAPE    0.157651\n",
      "1      200       MSE    1.541656\n",
      "  GROUP_ID                  NAME     VALUE\n",
      "0      100       DEMAND_FORECAST  7.421425\n",
      "1      100  PROBABILITY_FORECAST  0.345845\n",
      "2      200       DEMAND_FORECAST  5.363000\n",
      "3      200  PROBABILITY_FORECAST  0.269056\n",
      "Empty DataFrame\n",
      "Columns: [GROUP_ID, ERROR_TIMESTAMP, ERRORCODE, MESSAGE]\n",
      "Index: []\n"
     ]
    }
   ],
   "source": [
    "from hana_ml.algorithms.pal.tsa.exponential_smoothing import CrostonTSB\n",
    "import pandas as pd\n",
    "from hana_ml.dataframe import create_dataframe_from_pandas\n",
    "data = [['100', 1,   3],\n",
    "        ['100', 2,   6],\n",
    "        ['100', 3,   4],\n",
    "        ['100', 4,   0],\n",
    "        ['100', 5,   0],\n",
    "        ['100', 6,   0],\n",
    "        ['100', 7,   0],\n",
    "        ['100', 8,   0],\n",
    "        ['100', 9,   0],\n",
    "        ['100', 10,  16],\n",
    "        ['200', 1,   5],\n",
    "        ['200', 2,   0],\n",
    "        ['200', 3,   0],\n",
    "        ['200', 4,   3],\n",
    "        ['200', 5,   0],\n",
    "        ['200', 6,   0],\n",
    "        ['200', 7,   0],\n",
    "        ['200', 8,   0],\n",
    "        ['200', 9,   8],\n",
    "        ['200', 10,  0]]\n",
    "col_name = [\"GROUP_ID\", \"ID\", \"y\"]\n",
    "df_m = pd.DataFrame(data=data, columns=col_name)\n",
    "df_m = create_dataframe_from_pandas(connection_context=connection_context, \n",
    "                                    pandas_df=df_m,\n",
    "                                    table_name='DATA_MASSIVE_CROSTON_NOTEBOOK', \n",
    "                                    force=True, \n",
    "                                    replace=True)\n",
    "mcr = CrostonTSB(massive=True,\n",
    "                 group_params= {'100': {'accuracy_measure':'MAPE', 'expost_flag' :False, 'forecast_num':1},\n",
    "                                '200': {'accuracy_measure':'MSE', 'expost_flag' :True, 'forecast_num':1}})\n",
    "res = mcr.fit_predict(df_m, key='ID', endog='y', group_key=\"GROUP_ID\")\n",
    "print(res.collect())\n",
    "print(mcr.forecast_.collect())\n",
    "print(mcr.stats_.collect())\n",
    "print(mcr.metrics_.collect())\n",
    "print(mcr.error_msg_.collect())"
   ]
  },
  {
   "cell_type": "markdown",
   "id": "124b561c",
   "metadata": {},
   "source": [
    "### Massive Mode Support Enhancement\n",
    "\n",
    "- supported in ARIMA, Auto ARIMA, Additive Model Forecast, UnifiedClassification, UnifiedRegression\n"
   ]
  },
  {
   "cell_type": "code",
   "execution_count": 7,
   "id": "563b6a23",
   "metadata": {},
   "outputs": [
    {
     "name": "stderr",
     "output_type": "stream",
     "text": [
      "100%|████████████████████████████████████████████████████████████████████████████████████| 1/1 [00:00<00:00,  1.35it/s]\n"
     ]
    }
   ],
   "source": [
    "# Take UnifiedClassification as an example\n",
    "data = [['1', 1, 'Sunny', 75, 70.0, 'Yes', 'Play'],\n",
    "        ['1', 2, 'Sunny', 80, 90.0, 'Yes', 'Do not Play'],\n",
    "        ['1', 3, 'Sunny', 85, 91.0, 'No', 'Do not Play'],\n",
    "        ['1', 4, 'Sunny', 72, 95.0, 'No', 'Do not Play'],\n",
    "        ['1', 5, 'Sunny', 73, 70.0, 'No', 'Play'],\n",
    "        ['1', 6, 'Overcast', 72.0, 90, 'Yes', 'Do not Play'],\n",
    "        ['1', 7, 'Overcast', 83.0, 78, 'No', 'Play'],\n",
    "        ['1', 8, 'Overcast', 64.0, 65, 'Yes', 'Do not Play'],\n",
    "        ['1', 9, 'Overcast', 81.0, 75, 'No', 'Play'],\n",
    "        ['1', 10, 'Rain', 71, 80.0, 'Yes', 'Play'],\n",
    "        ['1', 11, 'Rain', 65, 70.0, 'Yes', 'Do not Play'],\n",
    "        ['1', 12, 'Rain', 75, 80.0, 'No', 'Play'],\n",
    "        ['1', 13, 'Rain', 68, 80.0, 'No', 'Play'],\n",
    "        ['1', 14, 'Rain', 70, 96.0, 'No', 'Play'],\n",
    "        ['2', 1, 'Overcast', 68, 70.0, 'No', 'Play'],\n",
    "        ['2', 2, 'Overcast', 80, 90.0, 'No', 'Do not Play'],\n",
    "        ['2', 3, 'Overcast', 85, 91.0, 'Yes', 'Do not Play'],\n",
    "        ['2', 4, 'Overcast', 78, 95.0, 'Yes', 'Do not Play'],\n",
    "        ['2', 5, 'Overcast', 73, 70.0, 'Yes', 'Play'],\n",
    "        ['2', 6, 'Sunny', 68.0, 90, 'No', 'Do not Play'],\n",
    "        ['2', 7, 'Sunny', 83.0, 78, 'Yes', 'Play'],\n",
    "        ['2', 8, 'Sunny', 64.0, 65, 'Yes', 'Do not Play'],\n",
    "        ['2', 9, 'Sunny', 81.0, 75, 'No', 'Play'],\n",
    "        ['2', 10, 'Rain', 65, 80.0, 'No', 'Play'],\n",
    "        ['2', 11, 'Rain', 65, 70.0, 'No', 'Do not Play'],\n",
    "        ['2', 12, 'Rain', 85, 80.0, 'Yes', 'Play'],\n",
    "        ['2', 13, 'Rain', 68, 80.0, 'Yes', 'Play'],\n",
    "        ['2', 14, 'Rain', 70, 96.0, 'Yes', 'Play']]\n",
    "col_name = [\"GROUP_ID\", \"ID\", \"OUTLOOK\", \"TEMP\", \"HUMIDITY\", \"WINDY\", \"CLASS\"]\n",
    "df_m = pd.DataFrame(data=data,columns=col_name)\n",
    "df = create_dataframe_from_pandas(connection_context=connection_context, \n",
    "                                  pandas_df=df_m,\n",
    "                                  table_name='DATA_UNI_MASSIVE_TBL_NOTEBOOK', \n",
    "                                  force=True, \n",
    "                                  replace=True)"
   ]
  },
  {
   "cell_type": "code",
   "execution_count": 12,
   "id": "e1623bc8",
   "metadata": {},
   "outputs": [
    {
     "name": "stdout",
     "output_type": "stream",
     "text": [
      "  GROUP_ID  ID SCORE  CONFIDENCE REASON_CODE\n",
      "0        1  14  Play    0.606915        None\n",
      "1        1  13  Play    0.954580        None\n",
      "2        1  12  Play    0.988835        None\n",
      "Empty DataFrame\n",
      "Columns: [GROUP_ID, ERROR_TIMESTAMP, ERRORCODE, MESSAGE]\n",
      "Index: []\n",
      "  GROUP_ID  ID        SCORE  CONFIDENCE REASON_CODE\n",
      "0        1   1  Do not Play    0.623109        None\n",
      "1        1   2  Do not Play    0.962771        None\n",
      "2        1   3         Play    0.641685        None\n",
      "  GROUP_ID  STAT_NAME          STAT_VALUE   CLASS_NAME\n",
      "0        1        AUC  0.9132653061224489         None\n",
      "1        1     RECALL  0.6666666666666666  Do not Play\n",
      "2        1  PRECISION                 0.8  Do not Play\n",
      "  GROUP_ID ACTUAL_CLASS PREDICTED_CLASS  COUNT\n",
      "0        1  Do not Play     Do not Play      4\n",
      "1        1  Do not Play            Play      2\n",
      "2        1         Play     Do not Play      1\n",
      "  GROUP_ID             NAME    X    Y\n",
      "0        1  RANDOM_CUMGAINS  0.0  0.0\n",
      "1        1  RANDOM_CUMGAINS  1.0  1.0\n",
      "2        1      RANDOM_LIFT  0.0  1.0\n",
      "Empty DataFrame\n",
      "Columns: [GROUP_ID, ERROR_TIMESTAMP, ERRORCODE, MESSAGE]\n",
      "Index: []\n"
     ]
    }
   ],
   "source": [
    "from hana_ml.algorithms.pal.unified_classification import UnifiedClassification\n",
    "uc = UnifiedClassification(func='logisticregression',    \n",
    "                           multi_class=True,\n",
    "                           massive=True,\n",
    "                           max_iter=10,\n",
    "                           group_params={'1': {'solver': 'auto'}})\n",
    "uc.fit(data=df,\n",
    "       key='ID',\n",
    "       features=[\"OUTLOOK\" ,\"TEMP\", \"HUMIDITY\",\"WINDY\"],\n",
    "       label=\"CLASS\",\n",
    "       group_key=\"GROUP_ID\",\n",
    "       background_size=4,\n",
    "       group_params={'1': {'background_random_state':2}})\n",
    "\n",
    "res, error=uc.predict(df.deselect(\"CLASS\"), \n",
    "                      key='ID', \n",
    "                      group_key='GROUP_ID', \n",
    "                      features=[\"OUTLOOK\" ,\"TEMP\", \"HUMIDITY\",\"WINDY\"],                        \n",
    "                      verbose=True,\n",
    "                      group_params={'1': {'thread_ratio':1}})\n",
    "print(res.head(3).collect())\n",
    "print(error.collect())\n",
    "\n",
    "res = uc.score(df, \n",
    "               key='ID', \n",
    "               group_key='GROUP_ID', \n",
    "               features=[\"OUTLOOK\" ,\"TEMP\", \"HUMIDITY\",\"WINDY\"], \n",
    "               label= \"CLASS\",\n",
    "               thread_ratio=0.5,\n",
    "               group_params={'1': {'thread_ratio':1}})\n",
    "print(res[0].head(3).collect())\n",
    "print(res[1].head(3).collect())\n",
    "print(res[2].head(3).collect())\n",
    "print(res[3].head(3).collect())\n",
    "print(res[4].collect())"
   ]
  },
  {
   "cell_type": "code",
   "execution_count": null,
   "id": "d3c454fe",
   "metadata": {},
   "outputs": [],
   "source": [
    "full_set, training_set, validation_set, test_set = DataSets.load_boston_housing_data(connection_context)"
   ]
  },
  {
   "cell_type": "code",
   "execution_count": null,
   "id": "c95a03f0",
   "metadata": {},
   "outputs": [],
   "source": [
    "features=['CRIM', 'ZN', 'INDUS', 'CHAS', 'NOX', 'RM', 'AGE', 'DIS', 'RAD', 'TAX', 'PTRATIO', 'BLACK', 'LSTAT']\n",
    "label='MEDV'\n",
    "# Cast to correct types so PAL can consume it.\n",
    "dfts = training_set.cast(['CRIM', \"ZN\", \"INDUS\", \"NOX\", \"RM\", \"AGE\", \"DIS\", \"PTRATIO\", \"BLACK\", \"LSTAT\", \"MEDV\"], \"DOUBLE\")\n",
    "dfts = dfts.cast([\"CHAS\", \"RAD\", \"TAX\"], \"INTEGER\")\n",
    "dfts = dfts.to_head(\"ID\")\n",
    "dfts.head(5).collect()"
   ]
  },
  {
   "cell_type": "code",
   "execution_count": null,
   "id": "fcec64d1",
   "metadata": {},
   "outputs": [],
   "source": [
    "# Useful for multiple runs (only doing one run in this sample notebook)\n",
    "import mlflow\n",
    "df = dfts.select(features, label)\n",
    "model = UnifiedRegression(func='RandomForest')\n",
    "runid = None\n",
    "with mlflow.start_run() as run:\n",
    "    par_params = dict(partition_method='random',\n",
    "                      training_percent=0.7,\n",
    "                      partition_random_state=2,\n",
    "                      output_partition_result=True)\n",
    "    model.enable_mlflow_autologging()\n",
    "    model.fit(df, features=features, label=label, **par_params)\n",
    "    runid = run.info.run_id\n"
   ]
  },
  {
   "cell_type": "code",
   "execution_count": null,
   "id": "629500a6",
   "metadata": {},
   "outputs": [],
   "source": [
    "from hana_ml.model_storage import ModelStorage\n",
    "mymodel = ModelStorage.load_mlflow_model(connection_context=connection_context, model_uri='runs:/{}/model'.format(runid))\n",
    "mymodel"
   ]
  },
  {
   "cell_type": "code",
   "execution_count": null,
   "id": "114b9ecc",
   "metadata": {},
   "outputs": [],
   "source": []
  }
 ],
 "metadata": {
  "kernelspec": {
   "display_name": "Python 3 (ipykernel)",
   "language": "python",
   "name": "python3"
  },
  "language_info": {
   "codemirror_mode": {
    "name": "ipython",
    "version": 3
   },
   "file_extension": ".py",
   "mimetype": "text/x-python",
   "name": "python",
   "nbconvert_exporter": "python",
   "pygments_lexer": "ipython3",
   "version": "3.7.0"
  }
 },
 "nbformat": 4,
 "nbformat_minor": 5
}

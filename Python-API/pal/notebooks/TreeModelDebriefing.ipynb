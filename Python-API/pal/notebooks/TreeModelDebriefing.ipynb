{
 "cells": [
  {
   "cell_type": "code",
   "execution_count": null,
   "metadata": {},
   "outputs": [],
   "source": [
    "import pandas as pd\n",
    "import hana_ml\n",
    "from hana_ml import dataframe\n",
    "from data_load_utils import Settings\n",
    "from hana_ml.algorithms.pal.trees import DecisionTreeClassifier, RandomForestClassifier, HybridGradientBoostingClassifier\n",
    "\n",
    "url, port, user, pwd = Settings.load_config(\"../../config/e2edata.ini\")\n",
    "connection_context = dataframe.ConnectionContext(url, port, user, pwd)"
   ]
  },
  {
   "cell_type": "markdown",
   "metadata": {},
   "source": [
    "# Model Debriefing for Decision Tree"
   ]
  },
  {
   "cell_type": "markdown",
   "metadata": {},
   "source": [
    "## Create Table"
   ]
  },
  {
   "cell_type": "code",
   "execution_count": null,
   "metadata": {},
   "outputs": [],
   "source": [
    "table_name = '#PAL_VISUALIZE_DT_DATA_TBL'\n",
    "\n",
    "create_table_sql = '''CREATE LOCAL TEMPORARY TABLE {} (\n",
    "    \"OUTLOOK\" VARCHAR(20),\n",
    "    \"TEMP\" INTEGER,\n",
    "    \"HUMIDITY\" DOUBLE,\n",
    "    \"WINDY\" VARCHAR(10),\n",
    "    \"CLASS\" VARCHAR(20)\n",
    ");'''\n",
    "data = [('Sunny', 75, 70, 'Yes', 'Play'),\n",
    "       ('Sunny', 80, 90, 'Yes', 'Do not Play'),\n",
    "       ('Sunny', 85, 85, 'No', 'Do not Play'),\n",
    "       ('Sunny', 72, 95, 'No', 'Do not Play'),\n",
    "       ('Sunny', 69, 70, 'No', 'Play'),\n",
    "       ('Overcast', 72, 90, 'Yes', 'Play'),\n",
    "       ('Overcast', 83, 78, 'No', 'Play'),\n",
    "       ('Overcast', 64, 65, 'Yes', 'Play'),\n",
    "       ('Overcast', 81, 75, 'No', 'Play'),\n",
    "       ('Rain', 71, 80, 'Yes', 'Do not Play'),\n",
    "       ('Rain', 65, 70, 'Yes', 'Do not Play'),\n",
    "       ('Rain', 75, 80, 'No', 'Play'),\n",
    "       ('Rain', 68, 80, 'No', 'Play'),\n",
    "       ('Rain', 70, 96, 'No', 'Play')]"
   ]
  },
  {
   "cell_type": "code",
   "execution_count": null,
   "metadata": {},
   "outputs": [],
   "source": [
    "cursor = connection_context.connection.cursor()\n",
    "cursor.execute(create_table_sql.format(table_name))\n",
    "cursor.executemany(\"INSERT INTO {} VALUES ({})\".format(table_name,', '.join(['?']*len(data[0]))), data)"
   ]
  },
  {
   "cell_type": "markdown",
   "metadata": {},
   "source": [
    "## Create Data Frame"
   ]
  },
  {
   "cell_type": "code",
   "execution_count": null,
   "metadata": {},
   "outputs": [],
   "source": [
    "df = connection_context.table(table_name)\n",
    "df.head(6).collect()"
   ]
  },
  {
   "cell_type": "markdown",
   "metadata": {},
   "source": [
    "## Import TreeModelDebriefing Class"
   ]
  },
  {
   "cell_type": "code",
   "execution_count": null,
   "metadata": {},
   "outputs": [],
   "source": [
    "from hana_ml.visualizers.model_debriefing import TreeModelDebriefing"
   ]
  },
  {
   "cell_type": "markdown",
   "metadata": {},
   "source": [
    "## Generate Model"
   ]
  },
  {
   "cell_type": "code",
   "execution_count": null,
   "metadata": {},
   "outputs": [],
   "source": [
    "dtc = DecisionTreeClassifier(algorithm='c45',\n",
    "                       min_records_of_parent=2, min_records_of_leaf=1,\n",
    "                       thread_ratio=0.4, split_threshold=1e-5,\n",
    "                       model_format='json', output_rules=True)\n",
    "\n",
    "dtc.fit(data=df, features=['OUTLOOK', 'TEMP', 'HUMIDITY', 'WINDY'], label='CLASS')"
   ]
  },
  {
   "cell_type": "markdown",
   "metadata": {},
   "source": [
    "## Visualize Tree Model in JSON format"
   ]
  },
  {
   "cell_type": "code",
   "execution_count": null,
   "metadata": {},
   "outputs": [],
   "source": [
    "TreeModelDebriefing.tree_debrief(dtc.model_)"
   ]
  },
  {
   "cell_type": "markdown",
   "metadata": {},
   "source": [
    "## Export Tree Model as a HTML file[JSON format]"
   ]
  },
  {
   "cell_type": "code",
   "execution_count": null,
   "metadata": {},
   "outputs": [],
   "source": [
    "# TreeModelDebriefing.tree_export(dtc.model_, 'Test')"
   ]
  },
  {
   "cell_type": "markdown",
   "metadata": {},
   "source": [
    "## Visualize Tree Model in DOT format"
   ]
  },
  {
   "cell_type": "code",
   "execution_count": null,
   "metadata": {},
   "outputs": [],
   "source": [
    "TreeModelDebriefing.tree_parse(dtc.model_)"
   ]
  },
  {
   "cell_type": "code",
   "execution_count": null,
   "metadata": {},
   "outputs": [],
   "source": [
    "TreeModelDebriefing.tree_debrief_with_dot(dtc.model_,iframe_height=500)"
   ]
  },
  {
   "cell_type": "markdown",
   "metadata": {},
   "source": [
    "## Export Tree Model as a HTML file[DOT format]"
   ]
  },
  {
   "cell_type": "code",
   "execution_count": null,
   "metadata": {},
   "outputs": [],
   "source": [
    "# TreeModelDebriefing.tree_export_with_dot(dtc.model_, 'Test')"
   ]
  },
  {
   "cell_type": "markdown",
   "metadata": {},
   "source": [
    "# Model Debriefing for Random Decision Tree"
   ]
  },
  {
   "cell_type": "markdown",
   "metadata": {},
   "source": [
    "## Generate Model"
   ]
  },
  {
   "cell_type": "code",
   "execution_count": null,
   "metadata": {},
   "outputs": [],
   "source": [
    "rfc = RandomForestClassifier(n_estimators=3,\n",
    "                             max_features=3, random_state=2,\n",
    "                             split_threshold=0.00001,\n",
    "                             calculate_oob=True,\n",
    "                             min_samples_leaf=1, thread_ratio=1.0)\n",
    "\n",
    "rfc.fit(data=df, features=['OUTLOOK', 'TEMP', 'HUMIDITY', 'WINDY'], label='CLASS')"
   ]
  },
  {
   "cell_type": "code",
   "execution_count": null,
   "metadata": {},
   "outputs": [],
   "source": [
    "res = rfc.predict(data=df.add_id(\"ID\"), key=\"ID\", features=['OUTLOOK', 'TEMP', 'HUMIDITY', 'WINDY'], verbose=True)"
   ]
  },
  {
   "cell_type": "code",
   "execution_count": null,
   "metadata": {},
   "outputs": [],
   "source": [
    "res.head(6).collect()"
   ]
  },
  {
   "cell_type": "markdown",
   "metadata": {},
   "source": [
    "## Visualize Tree Model in XML format"
   ]
  },
  {
   "cell_type": "code",
   "execution_count": null,
   "metadata": {},
   "outputs": [],
   "source": [
    "TreeModelDebriefing.tree_debrief(rfc.model_)"
   ]
  },
  {
   "cell_type": "markdown",
   "metadata": {},
   "source": [
    "## Visualize Tree Model in DOT format"
   ]
  },
  {
   "cell_type": "code",
   "execution_count": null,
   "metadata": {},
   "outputs": [],
   "source": [
    "TreeModelDebriefing.tree_parse(rfc.model_)\n",
    "TreeModelDebriefing.tree_debrief_with_dot(rfc.model_)"
   ]
  },
  {
   "cell_type": "markdown",
   "metadata": {},
   "source": [
    "## Detele Table"
   ]
  },
  {
   "cell_type": "code",
   "execution_count": null,
   "metadata": {},
   "outputs": [],
   "source": [
    "delete_table_sql = 'DROP TABLE {}'\n",
    "cursor.execute(delete_table_sql.format(table_name))"
   ]
  },
  {
   "cell_type": "markdown",
   "metadata": {},
   "source": [
    "# Model Debriefing for Hybrid Gradient Boosting Tree"
   ]
  },
  {
   "cell_type": "markdown",
   "metadata": {},
   "source": [
    "## Create Table"
   ]
  },
  {
   "cell_type": "code",
   "execution_count": null,
   "metadata": {},
   "outputs": [],
   "source": [
    "table_name = 'PAL_VISUALIZE_HGBT_DATA_TBL'\n",
    "create_table_sql = '''CREATE COLUMN TABLE {} (\n",
    "    \"ATT1\" DOUBLE, \n",
    "    \"ATT2\" DOUBLE, \n",
    "    \"ATT3\" DOUBLE,\n",
    "    \"ATT4\" DOUBLE,\n",
    "    \"LABEL\" varchar(50)\n",
    ");'''\n",
    "data = [(1.0, 10.0, 100, 1.0, 'A'),\n",
    "       (1.1, 10.1, 100, 1.0, 'A'),\n",
    "       (1.2, 10.2, 100, 1.0, 'A'),\n",
    "       (1.3, 10.4, 100, 1.0, 'A'),\n",
    "       (1.2, 10.3, 100, 1.0, 'A'),\n",
    "       (4.0, 40.0, 400, 4.0, 'B'),\n",
    "       (4.1, 40.1, 400, 4.0, 'B'),\n",
    "       (4.2, 40.2, 400, 4.0, 'B'),\n",
    "       (4.3, 40.4, 400, 4.0, 'B'),\n",
    "       (4.2, 40.3, 400, 4.0, 'A'),\n",
    "       (9.0, 90.0, 900, 2.0, 'A'),\n",
    "       (9.1, 90.1, 900, 1.0, 'B'),\n",
    "       (9.2, 90.2, 900, 2.0, 'B'),\n",
    "       (9.3, 90.4, 900, 1.0, 'B'),\n",
    "       (9.2, 90.3, 900, 1.0, 'B')]"
   ]
  },
  {
   "cell_type": "code",
   "execution_count": null,
   "metadata": {},
   "outputs": [],
   "source": [
    "cursor = connection_context.connection.cursor()\n",
    "cursor.execute(create_table_sql.format(table_name))\n",
    "cursor.executemany(\"INSERT INTO {} VALUES ({})\".format(table_name,', '.join(['?']*len(data[0]))), data)"
   ]
  },
  {
   "cell_type": "markdown",
   "metadata": {},
   "source": [
    "## Create Data Frame"
   ]
  },
  {
   "cell_type": "code",
   "execution_count": null,
   "metadata": {},
   "outputs": [],
   "source": [
    "hgbt_df = connection_context.table(table_name)\n",
    "hgbt_df.head(6).collect()"
   ]
  },
  {
   "cell_type": "markdown",
   "metadata": {},
   "source": [
    "## Generate Model"
   ]
  },
  {
   "cell_type": "code",
   "execution_count": null,
   "metadata": {},
   "outputs": [],
   "source": [
    "hgbc = HybridGradientBoostingClassifier(\n",
    "          n_estimators = 4, split_threshold=0,\n",
    "          learning_rate=0.5, fold_num=5, max_depth=6,\n",
    "          evaluation_metric = 'error_rate', ref_metric=['auc'],\n",
    "          param_range=[('learning_rate',[0.1, 0.45, 1.0]),\n",
    "                       ('n_estimators', [4, 3, 10]),\n",
    "                       ('split_threshold', [0.1, 0.45, 1.0])])\n",
    "hgbc.fit(data=hgbt_df, features=['ATT1', 'ATT2', 'ATT3', 'ATT4'], label='LABEL')"
   ]
  },
  {
   "cell_type": "markdown",
   "metadata": {},
   "source": [
    "## Visualize Tree Model in JSON format"
   ]
  },
  {
   "cell_type": "code",
   "execution_count": null,
   "metadata": {},
   "outputs": [],
   "source": [
    "TreeModelDebriefing.tree_debrief(hgbc.model_)"
   ]
  },
  {
   "cell_type": "markdown",
   "metadata": {},
   "source": [
    "## Visualize Tree Model in DOT format"
   ]
  },
  {
   "cell_type": "code",
   "execution_count": null,
   "metadata": {},
   "outputs": [],
   "source": [
    "TreeModelDebriefing.tree_parse(hgbc.model_)\n",
    "TreeModelDebriefing.tree_debrief_with_dot(hgbc.model_)"
   ]
  },
  {
   "cell_type": "markdown",
   "metadata": {},
   "source": [
    "## Delete Table"
   ]
  },
  {
   "cell_type": "code",
   "execution_count": null,
   "metadata": {},
   "outputs": [],
   "source": [
    "delete_table_sql = 'DROP TABLE {}'\n",
    "cursor.execute(delete_table_sql.format(table_name))"
   ]
  }
 ],
 "metadata": {
  "kernelspec": {
   "display_name": "Python 3",
   "language": "python",
   "name": "python3"
  },
  "language_info": {
   "codemirror_mode": {
    "name": "ipython",
    "version": 3
   },
   "file_extension": ".py",
   "mimetype": "text/x-python",
   "name": "python",
   "nbconvert_exporter": "python",
   "pygments_lexer": "ipython3",
   "version": "3.7.4"
  },
  "varInspector": {
   "cols": {
    "lenName": 16,
    "lenType": 16,
    "lenVar": 40
   },
   "kernels_config": {
    "python": {
     "delete_cmd_postfix": "",
     "delete_cmd_prefix": "del ",
     "library": "var_list.py",
     "varRefreshCmd": "print(var_dic_list())"
    },
    "r": {
     "delete_cmd_postfix": ") ",
     "delete_cmd_prefix": "rm(",
     "library": "var_list.r",
     "varRefreshCmd": "cat(var_dic_list()) "
    }
   },
   "types_to_exclude": [
    "module",
    "function",
    "builtin_function_or_method",
    "instance",
    "_Feature"
   ],
   "window_display": false
  }
 },
 "nbformat": 4,
 "nbformat_minor": 4
}

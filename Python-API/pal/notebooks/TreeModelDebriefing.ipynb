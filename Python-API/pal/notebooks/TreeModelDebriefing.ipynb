{
 "cells": [
  {
   "cell_type": "code",
   "execution_count": 1,
   "metadata": {},
   "outputs": [],
   "source": [
    "import hana_ml\n",
    "from hana_ml import dataframe\n",
    "from data_load_utils import Settings\n",
    "from hana_ml.algorithms.pal.trees import DecisionTreeClassifier, RandomForestClassifier, HybridGradientBoostingClassifier\n",
    "from hana_ml.visualizers.model_debriefing import TreeModelDebriefing\n",
    "\n",
    "url, port, user, pwd = Settings.load_config(\"../../config/e2edata.ini\")\n",
    "connection_context = dataframe.ConnectionContext(url, port, user, pwd)"
   ]
  },
  {
   "cell_type": "markdown",
   "metadata": {},
   "source": [
    "# Model Debriefing for Decision Tree"
   ]
  },
  {
   "cell_type": "markdown",
   "metadata": {},
   "source": [
    "## Create Table"
   ]
  },
  {
   "cell_type": "code",
   "execution_count": 2,
   "metadata": {},
   "outputs": [],
   "source": [
    "table_name = 'PAL_VISUALIZE_DT_DATA_TBL'\n",
    "create_table_sql = '''CREATE COLUMN TABLE {} (\n",
    "    \"OUTLOOK\" VARCHAR(20),\n",
    "    \"TEMP\" INTEGER,\n",
    "    \"HUMIDITY\" DOUBLE,\n",
    "    \"WINDY\" VARCHAR(10),\n",
    "    \"CLASS\" VARCHAR(20)\n",
    ");'''\n",
    "data = [('Sunny', 75, 70, 'Yes', 'Play'),\n",
    "       ('Sunny', 80, 90, 'Yes', 'Do not Play'),\n",
    "       ('Sunny', 85, 85, 'No', 'Do not Play'),\n",
    "       ('Sunny', 72, 95, 'No', 'Do not Play'),\n",
    "       ('Sunny', 69, 70, 'No', 'Play'),\n",
    "       ('Overcast', 72, 90, 'Yes', 'Play'),\n",
    "       ('Overcast', 83, 78, 'No', 'Play'),\n",
    "       ('Overcast', 64, 65, 'Yes', 'Play'),\n",
    "       ('Overcast', 81, 75, 'No', 'Play'),\n",
    "       ('Rain', 71, 80, 'Yes', 'Do not Play'),\n",
    "       ('Rain', 65, 70, 'Yes', 'Do not Play'),\n",
    "       ('Rain', 75, 80, 'No', 'Play'),\n",
    "       ('Rain', 68, 80, 'No', 'Play'),\n",
    "       ('Rain', 70, 96, 'No', 'Play')]"
   ]
  },
  {
   "cell_type": "code",
   "execution_count": 3,
   "metadata": {},
   "outputs": [
    {
     "data": {
      "text/plain": [
       "(1, 1, 1, 1, 1, 1, 1, 1, 1, 1, 1, 1, 1, 1)"
      ]
     },
     "execution_count": 3,
     "metadata": {},
     "output_type": "execute_result"
    }
   ],
   "source": [
    "cursor = connection_context.connection.cursor()\n",
    "cursor.execute(create_table_sql.format(table_name))\n",
    "cursor.executemany(\"INSERT INTO {} VALUES ({})\".format(table_name,', '.join(['?']*len(data[0]))), data)"
   ]
  },
  {
   "cell_type": "markdown",
   "metadata": {},
   "source": [
    "## Create Data Frame"
   ]
  },
  {
   "cell_type": "code",
   "execution_count": 4,
   "metadata": {},
   "outputs": [
    {
     "data": {
      "text/html": [
       "<div>\n",
       "<style scoped>\n",
       "    .dataframe tbody tr th:only-of-type {\n",
       "        vertical-align: middle;\n",
       "    }\n",
       "\n",
       "    .dataframe tbody tr th {\n",
       "        vertical-align: top;\n",
       "    }\n",
       "\n",
       "    .dataframe thead th {\n",
       "        text-align: right;\n",
       "    }\n",
       "</style>\n",
       "<table border=\"1\" class=\"dataframe\">\n",
       "  <thead>\n",
       "    <tr style=\"text-align: right;\">\n",
       "      <th></th>\n",
       "      <th>OUTLOOK</th>\n",
       "      <th>TEMP</th>\n",
       "      <th>HUMIDITY</th>\n",
       "      <th>WINDY</th>\n",
       "      <th>CLASS</th>\n",
       "    </tr>\n",
       "  </thead>\n",
       "  <tbody>\n",
       "    <tr>\n",
       "      <th>0</th>\n",
       "      <td>Sunny</td>\n",
       "      <td>75</td>\n",
       "      <td>70.0</td>\n",
       "      <td>Yes</td>\n",
       "      <td>Play</td>\n",
       "    </tr>\n",
       "    <tr>\n",
       "      <th>1</th>\n",
       "      <td>Sunny</td>\n",
       "      <td>80</td>\n",
       "      <td>90.0</td>\n",
       "      <td>Yes</td>\n",
       "      <td>Do not Play</td>\n",
       "    </tr>\n",
       "    <tr>\n",
       "      <th>2</th>\n",
       "      <td>Sunny</td>\n",
       "      <td>85</td>\n",
       "      <td>85.0</td>\n",
       "      <td>No</td>\n",
       "      <td>Do not Play</td>\n",
       "    </tr>\n",
       "    <tr>\n",
       "      <th>3</th>\n",
       "      <td>Sunny</td>\n",
       "      <td>72</td>\n",
       "      <td>95.0</td>\n",
       "      <td>No</td>\n",
       "      <td>Do not Play</td>\n",
       "    </tr>\n",
       "    <tr>\n",
       "      <th>4</th>\n",
       "      <td>Sunny</td>\n",
       "      <td>69</td>\n",
       "      <td>70.0</td>\n",
       "      <td>No</td>\n",
       "      <td>Play</td>\n",
       "    </tr>\n",
       "    <tr>\n",
       "      <th>5</th>\n",
       "      <td>Overcast</td>\n",
       "      <td>72</td>\n",
       "      <td>90.0</td>\n",
       "      <td>Yes</td>\n",
       "      <td>Play</td>\n",
       "    </tr>\n",
       "  </tbody>\n",
       "</table>\n",
       "</div>"
      ],
      "text/plain": [
       "    OUTLOOK  TEMP  HUMIDITY WINDY        CLASS\n",
       "0     Sunny    75      70.0   Yes         Play\n",
       "1     Sunny    80      90.0   Yes  Do not Play\n",
       "2     Sunny    85      85.0    No  Do not Play\n",
       "3     Sunny    72      95.0    No  Do not Play\n",
       "4     Sunny    69      70.0    No         Play\n",
       "5  Overcast    72      90.0   Yes         Play"
      ]
     },
     "execution_count": 4,
     "metadata": {},
     "output_type": "execute_result"
    }
   ],
   "source": [
    "PAL_DT_DATA_TBL = connection_context.table(table_name)\n",
    "PAL_DT_DATA_TBL.head(6).collect()"
   ]
  },
  {
   "cell_type": "markdown",
   "metadata": {},
   "source": [
    "## Generate Model"
   ]
  },
  {
   "cell_type": "code",
   "execution_count": 5,
   "metadata": {},
   "outputs": [],
   "source": [
    "dtc = DecisionTreeClassifier(algorithm='c45',\n",
    "                       min_records_of_parent=2, min_records_of_leaf=1,\n",
    "                       thread_ratio=0.4, split_threshold=1e-5,\n",
    "                       model_format='json', output_rules=True)\n",
    "\n",
    "dtc.fit(data=PAL_DT_DATA_TBL, features=['OUTLOOK', 'TEMP', 'HUMIDITY', 'WINDY'], label='CLASS')"
   ]
  },
  {
   "cell_type": "code",
   "execution_count": 6,
   "metadata": {},
   "outputs": [],
   "source": [
    "PAL_DT_MODEL_TBL = dtc.model_"
   ]
  },
  {
   "cell_type": "markdown",
   "metadata": {},
   "source": [
    "## Create TreeModelDebriefing Instance"
   ]
  },
  {
   "cell_type": "code",
   "execution_count": 7,
   "metadata": {},
   "outputs": [],
   "source": [
    "treeModelDebriefing = TreeModelDebriefing()"
   ]
  },
  {
   "cell_type": "markdown",
   "metadata": {},
   "source": [
    "## Visualize Tree Model in JSON format"
   ]
  },
  {
   "cell_type": "code",
   "execution_count": 8,
   "metadata": {},
   "outputs": [
    {
     "data": {
      "application/json": {
       "CurrentVersion": "VERSION1.3",
       "DataDictionary": [
        {
         "DataType": "String",
         "ID": 0,
         "Name": "OUTLOOK",
         "OpType": "Categorical"
        },
        {
         "DataType": "Integer",
         "ID": 1,
         "Name": "TEMP",
         "OpType": "Continuous"
        },
        {
         "DataType": "Double",
         "ID": 2,
         "Name": "HUMIDITY",
         "OpType": "Continuous"
        },
        {
         "DataType": "String",
         "ID": 3,
         "Name": "WINDY",
         "OpType": "Categorical"
        },
        {
         "DataType": "String",
         "ID": 4,
         "Name": "CLASS",
         "OpType": "Categorical"
        }
       ],
       "Function": "Classification",
       "Transformation": [
        {
         "DerivedDataType": "Integer",
         "DerivedValues": [
          1,
          2,
          0
         ],
         "ID": 0,
         "OriginDataType": "String",
         "OriginValues": [
          "Overcast",
          "Rain",
          "Sunny"
         ],
         "TransformationType": "MapValues"
        },
        {
         "ID": 1,
         "Intervals": [
          84
         ],
         "TransformationType": "Discretize"
        },
        {
         "ID": 2,
         "Intervals": [
          82.5
         ],
         "TransformationType": "Discretize"
        },
        {
         "DerivedDataType": "Integer",
         "DerivedValues": [
          1,
          0
         ],
         "ID": 3,
         "OriginDataType": "String",
         "OriginValues": [
          "No",
          "Yes"
         ],
         "TransformationType": "MapValues"
        },
        {
         "DerivedDataType": "Integer",
         "DerivedValues": [
          1,
          0
         ],
         "ID": 4,
         "OriginDataType": "String",
         "OriginValues": [
          "Do not Play",
          "Play"
         ],
         "TransformationType": "MapValues"
        }
       ],
       "TreeModel": {
        "AlgorithmName": "C4.5",
        "Child": [
         {
          "Child": [
           {
            "Child": [
             {
              "RecordCount": 2,
              "Score": "Play",
              "ScoreDistribution": [
               [
                2,
                0
               ],
               [
                1,
                0
               ]
              ],
              "TreeNodePredicate": {
               "FieldPredID": 2,
               "FieldValue": 0,
               "Operator": "EQUAL",
               "PredicateType": "SimplePredicate"
              }
             },
             {
              "RecordCount": 2,
              "Score": "Do not Play",
              "ScoreDistribution": [
               [
                0,
                2
               ],
               [
                0,
                1
               ]
              ],
              "TreeNodePredicate": {
               "FieldPredID": 2,
               "FieldValue": 1,
               "Operator": "EQUAL",
               "PredicateType": "SimplePredicate"
              }
             }
            ],
            "RecordCount": 4,
            "Score": "Play",
            "ScoreDistribution": [
             [
              2,
              2
             ],
             [
              0.5000000000000001,
              0.5
             ]
            ],
            "TreeNodePredicate": {
             "FieldPredID": 0,
             "FieldValue": 0,
             "Operator": "EQUAL",
             "PredicateType": "SimplePredicate"
            }
           },
           {
            "RecordCount": 4,
            "Score": "Play",
            "ScoreDistribution": [
             [
              4,
              0
             ],
             [
              1,
              0
             ]
            ],
            "TreeNodePredicate": {
             "FieldPredID": 0,
             "FieldValue": 1,
             "Operator": "EQUAL",
             "PredicateType": "SimplePredicate"
            }
           },
           {
            "Child": [
             {
              "RecordCount": 2,
              "Score": "Do not Play",
              "ScoreDistribution": [
               [
                0,
                2
               ],
               [
                0,
                1
               ]
              ],
              "TreeNodePredicate": {
               "FieldPredID": 3,
               "FieldValue": 0,
               "Operator": "EQUAL",
               "PredicateType": "SimplePredicate"
              }
             },
             {
              "RecordCount": 3,
              "Score": "Play",
              "ScoreDistribution": [
               [
                3,
                0
               ],
               [
                1,
                0
               ]
              ],
              "TreeNodePredicate": {
               "FieldPredID": 3,
               "FieldValue": 1,
               "Operator": "EQUAL",
               "PredicateType": "SimplePredicate"
              }
             }
            ],
            "RecordCount": 5,
            "Score": "Play",
            "ScoreDistribution": [
             [
              3,
              2
             ],
             [
              0.6,
              0.4
             ]
            ],
            "TreeNodePredicate": {
             "FieldPredID": 0,
             "FieldValue": 2,
             "Operator": "EQUAL",
             "PredicateType": "SimplePredicate"
            }
           }
          ],
          "RecordCount": 13,
          "Score": "Play",
          "ScoreDistribution": [
           [
            9,
            4
           ],
           [
            0.6923076923076923,
            0.3076923076923077
           ]
          ],
          "TreeNodePredicate": {
           "FieldPredID": 1,
           "FieldValue": 0,
           "Operator": "EQUAL",
           "PredicateType": "SimplePredicate"
          }
         },
         {
          "RecordCount": 1,
          "Score": "Do not Play",
          "ScoreDistribution": [
           [
            0,
            1
           ],
           [
            0,
            1
           ]
          ],
          "TreeNodePredicate": {
           "FieldPredID": 1,
           "FieldValue": 1,
           "Operator": "EQUAL",
           "PredicateType": "SimplePredicate"
          }
         }
        ],
        "RecordCount": 14,
        "Score": "Play",
        "ScoreDistribution": [
         [
          9,
          5
         ],
         [
          0.6428571428571429,
          0.3571428571428572
         ]
        ],
        "TreeNodePredicate": {
         "PredicateType": "TruePredicate"
        }
       }
      },
      "text/plain": [
       "<IPython.core.display.JSON object>"
      ]
     },
     "execution_count": 8,
     "metadata": {
      "application/json": {
       "expanded": false,
       "root": "root"
      }
     },
     "output_type": "execute_result"
    }
   ],
   "source": [
    "treeModelDebriefing.tree_debrief(PAL_DT_MODEL_TBL)"
   ]
  },
  {
   "cell_type": "markdown",
   "metadata": {},
   "source": [
    "## Visualize Tree Model in DOT format"
   ]
  },
  {
   "cell_type": "code",
   "execution_count": 9,
   "metadata": {},
   "outputs": [
    {
     "data": {
      "image/svg+xml": [
       "<svg height=\"423pt\" viewBox=\"0.00 0.00 601.50 423.40\" width=\"602pt\" xmlns=\"http://www.w3.org/2000/svg\" xmlns:xlink=\"http://www.w3.org/1999/xlink\">\n",
       "<g class=\"graph\" id=\"graph0\" transform=\"scale(1 1) rotate(0) translate(4 419.4)\">\n",
       "<title>G</title>\n",
       "<polygon fill=\"white\" points=\"-4,4 -4,-419.4 597.5,-419.4 597.5,4 -4,4\" stroke=\"none\"/>\n",
       "<!-- 0 -->\n",
       "<g class=\"node\" id=\"node1\"><title>0</title>\n",
       "<path d=\"M419.5,-415.4C419.5,-415.4 307.5,-415.4 307.5,-415.4 301.5,-415.4 295.5,-409.4 295.5,-403.4 295.5,-403.4 295.5,-374.4 295.5,-374.4 295.5,-368.4 301.5,-362.4 307.5,-362.4 307.5,-362.4 419.5,-362.4 419.5,-362.4 425.5,-362.4 431.5,-368.4 431.5,-374.4 431.5,-374.4 431.5,-403.4 431.5,-403.4 431.5,-409.4 425.5,-415.4 419.5,-415.4\" fill=\"#b2dfee\" stroke=\"#b2dfee\"/>\n",
       "<text font-family=\"Helvetica,sans-Serif\" font-size=\"14.00\" text-anchor=\"start\" x=\"326.5\" y=\"-400.2\">Score=Play</text>\n",
       "<text font-family=\"Helvetica,sans-Serif\" font-size=\"14.00\" text-anchor=\"start\" x=\"332\" y=\"-385.2\">Count=14</text>\n",
       "<text font-family=\"Helvetica,sans-Serif\" font-size=\"14.00\" text-anchor=\"start\" x=\"303.5\" y=\"-370.2\">Percent=0.642857</text>\n",
       "</g>\n",
       "<!-- 1 -->\n",
       "<g class=\"node\" id=\"node2\"><title>1</title>\n",
       "<path d=\"M342.5,-326.3C342.5,-326.3 230.5,-326.3 230.5,-326.3 224.5,-326.3 218.5,-320.3 218.5,-314.3 218.5,-314.3 218.5,-253.7 218.5,-253.7 218.5,-247.7 224.5,-241.7 230.5,-241.7 230.5,-241.7 342.5,-241.7 342.5,-241.7 348.5,-241.7 354.5,-247.7 354.5,-253.7 354.5,-253.7 354.5,-314.3 354.5,-314.3 354.5,-320.3 348.5,-326.3 342.5,-326.3\" fill=\"#b2dfee\" stroke=\"#b2dfee\"/>\n",
       "<text font-family=\"Helvetica,sans-Serif\" font-size=\"14.00\" text-anchor=\"start\" x=\"250\" y=\"-311.2\">TEMP &lt; 84</text>\n",
       "<text font-family=\"Helvetica,sans-Serif\" font-size=\"14.00\" text-anchor=\"start\" x=\"249.5\" y=\"-279.4\">Score=Play</text>\n",
       "<text font-family=\"Helvetica,sans-Serif\" font-size=\"14.00\" text-anchor=\"start\" x=\"255\" y=\"-264.4\">Count=13</text>\n",
       "<text font-family=\"Helvetica,sans-Serif\" font-size=\"14.00\" text-anchor=\"start\" x=\"226.5\" y=\"-249.4\">Percent=0.692307</text>\n",
       "</g>\n",
       "<!-- 0&#45;&gt;1 -->\n",
       "<g class=\"edge\" id=\"edge8\"><title>0-&gt;1</title>\n",
       "<path d=\"M344.268,-362.199C337.935,-353.735 330.663,-344.018 323.464,-334.398\" fill=\"none\" stroke=\"black\"/>\n",
       "<polygon fill=\"black\" points=\"326.249,-332.278 317.456,-326.368 320.645,-336.472 326.249,-332.278\" stroke=\"black\"/>\n",
       "</g>\n",
       "<!-- 9 -->\n",
       "<g class=\"node\" id=\"node10\"><title>9</title>\n",
       "<path d=\"M496.5,-326.3C496.5,-326.3 384.5,-326.3 384.5,-326.3 378.5,-326.3 372.5,-320.3 372.5,-314.3 372.5,-314.3 372.5,-253.7 372.5,-253.7 372.5,-247.7 378.5,-241.7 384.5,-241.7 384.5,-241.7 496.5,-241.7 496.5,-241.7 502.5,-241.7 508.5,-247.7 508.5,-253.7 508.5,-253.7 508.5,-314.3 508.5,-314.3 508.5,-320.3 502.5,-326.3 496.5,-326.3\" fill=\"#b2dfee\" stroke=\"#b2dfee\"/>\n",
       "<text font-family=\"Helvetica,sans-Serif\" font-size=\"14.00\" text-anchor=\"start\" x=\"404.5\" y=\"-311.2\">TEMP ≥ 84</text>\n",
       "<text font-family=\"Helvetica,sans-Serif\" font-size=\"14.00\" text-anchor=\"start\" x=\"380.5\" y=\"-279.4\">Score=Do not Play</text>\n",
       "<text font-family=\"Helvetica,sans-Serif\" font-size=\"14.00\" text-anchor=\"start\" x=\"413\" y=\"-264.4\">Count=1</text>\n",
       "<text font-family=\"Helvetica,sans-Serif\" font-size=\"14.00\" text-anchor=\"start\" x=\"407\" y=\"-249.4\">Percent=1</text>\n",
       "</g>\n",
       "<!-- 0&#45;&gt;9 -->\n",
       "<g class=\"edge\" id=\"edge9\"><title>0-&gt;9</title>\n",
       "<path d=\"M382.732,-362.199C389.065,-353.735 396.337,-344.018 403.536,-334.398\" fill=\"none\" stroke=\"black\"/>\n",
       "<polygon fill=\"black\" points=\"406.355,-336.472 409.544,-326.368 400.751,-332.278 406.355,-336.472\" stroke=\"black\"/>\n",
       "</g>\n",
       "<!-- 2 -->\n",
       "<g class=\"node\" id=\"node3\"><title>2</title>\n",
       "<path d=\"M176.5,-205.5C176.5,-205.5 58.5,-205.5 58.5,-205.5 52.5,-205.5 46.5,-199.5 46.5,-193.5 46.5,-193.5 46.5,-132.9 46.5,-132.9 46.5,-126.9 52.5,-120.9 58.5,-120.9 58.5,-120.9 176.5,-120.9 176.5,-120.9 182.5,-120.9 188.5,-126.9 188.5,-132.9 188.5,-132.9 188.5,-193.5 188.5,-193.5 188.5,-199.5 182.5,-205.5 176.5,-205.5\" fill=\"#b2dfee\" stroke=\"#b2dfee\"/>\n",
       "<text font-family=\"Helvetica,sans-Serif\" font-size=\"14.00\" text-anchor=\"start\" x=\"54.5\" y=\"-190.4\">OUTLOOK = Sunny</text>\n",
       "<text font-family=\"Helvetica,sans-Serif\" font-size=\"14.00\" text-anchor=\"start\" x=\"80.5\" y=\"-158.6\">Score=Play</text>\n",
       "<text font-family=\"Helvetica,sans-Serif\" font-size=\"14.00\" text-anchor=\"start\" x=\"90\" y=\"-143.6\">Count=4</text>\n",
       "<text font-family=\"Helvetica,sans-Serif\" font-size=\"14.00\" text-anchor=\"start\" x=\"78\" y=\"-128.6\">Percent=0.5</text>\n",
       "</g>\n",
       "<!-- 1&#45;&gt;2 -->\n",
       "<g class=\"edge\" id=\"edge3\"><title>1-&gt;2</title>\n",
       "<path d=\"M227.392,-241.45C213.547,-231.717 198.7,-221.28 184.536,-211.324\" fill=\"none\" stroke=\"black\"/>\n",
       "<polygon fill=\"black\" points=\"186.483,-208.414 176.289,-205.526 182.457,-214.141 186.483,-208.414\" stroke=\"black\"/>\n",
       "</g>\n",
       "<!-- 5 -->\n",
       "<g class=\"node\" id=\"node6\"><title>5</title>\n",
       "<path d=\"M354.5,-205.5C354.5,-205.5 218.5,-205.5 218.5,-205.5 212.5,-205.5 206.5,-199.5 206.5,-193.5 206.5,-193.5 206.5,-132.9 206.5,-132.9 206.5,-126.9 212.5,-120.9 218.5,-120.9 218.5,-120.9 354.5,-120.9 354.5,-120.9 360.5,-120.9 366.5,-126.9 366.5,-132.9 366.5,-132.9 366.5,-193.5 366.5,-193.5 366.5,-199.5 360.5,-205.5 354.5,-205.5\" fill=\"#b2dfee\" stroke=\"#b2dfee\"/>\n",
       "<text font-family=\"Helvetica,sans-Serif\" font-size=\"14.00\" text-anchor=\"start\" x=\"214.5\" y=\"-190.4\">OUTLOOK = Overcast</text>\n",
       "<text font-family=\"Helvetica,sans-Serif\" font-size=\"14.00\" text-anchor=\"start\" x=\"249.5\" y=\"-158.6\">Score=Play</text>\n",
       "<text font-family=\"Helvetica,sans-Serif\" font-size=\"14.00\" text-anchor=\"start\" x=\"259\" y=\"-143.6\">Count=4</text>\n",
       "<text font-family=\"Helvetica,sans-Serif\" font-size=\"14.00\" text-anchor=\"start\" x=\"253\" y=\"-128.6\">Percent=1</text>\n",
       "</g>\n",
       "<!-- 1&#45;&gt;5 -->\n",
       "<g class=\"edge\" id=\"edge4\"><title>1-&gt;5</title>\n",
       "<path d=\"M286.5,-241.45C286.5,-233.081 286.5,-224.192 286.5,-215.536\" fill=\"none\" stroke=\"black\"/>\n",
       "<polygon fill=\"black\" points=\"290,-215.526 286.5,-205.526 283,-215.526 290,-215.526\" stroke=\"black\"/>\n",
       "</g>\n",
       "<!-- 6 -->\n",
       "<g class=\"node\" id=\"node7\"><title>6</title>\n",
       "<path d=\"M504,-205.5C504,-205.5 397,-205.5 397,-205.5 391,-205.5 385,-199.5 385,-193.5 385,-193.5 385,-132.9 385,-132.9 385,-126.9 391,-120.9 397,-120.9 397,-120.9 504,-120.9 504,-120.9 510,-120.9 516,-126.9 516,-132.9 516,-132.9 516,-193.5 516,-193.5 516,-199.5 510,-205.5 504,-205.5\" fill=\"#b2dfee\" stroke=\"#b2dfee\"/>\n",
       "<text font-family=\"Helvetica,sans-Serif\" font-size=\"14.00\" text-anchor=\"start\" x=\"393\" y=\"-190.4\">OUTLOOK = Rain</text>\n",
       "<text font-family=\"Helvetica,sans-Serif\" font-size=\"14.00\" text-anchor=\"start\" x=\"413.5\" y=\"-158.6\">Score=Play</text>\n",
       "<text font-family=\"Helvetica,sans-Serif\" font-size=\"14.00\" text-anchor=\"start\" x=\"423\" y=\"-143.6\">Count=5</text>\n",
       "<text font-family=\"Helvetica,sans-Serif\" font-size=\"14.00\" text-anchor=\"start\" x=\"411\" y=\"-128.6\">Percent=0.6</text>\n",
       "</g>\n",
       "<!-- 1&#45;&gt;6 -->\n",
       "<g class=\"edge\" id=\"edge7\"><title>1-&gt;6</title>\n",
       "<path d=\"M343.859,-241.45C357.169,-231.808 371.434,-221.475 385.061,-211.603\" fill=\"none\" stroke=\"black\"/>\n",
       "<polygon fill=\"black\" points=\"387.405,-214.227 393.45,-205.526 383.298,-208.558 387.405,-214.227\" stroke=\"black\"/>\n",
       "</g>\n",
       "<!-- 3 -->\n",
       "<g class=\"node\" id=\"node4\"><title>3</title>\n",
       "<path d=\"M117,-84.7002C117,-84.7002 12,-84.7002 12,-84.7002 6,-84.7002 0,-78.7002 0,-72.7002 0,-72.7002 0,-12.0998 0,-12.0998 0,-6.09976 6,-0.0997647 12,-0.0997647 12,-0.0997647 117,-0.0997647 117,-0.0997647 123,-0.0997647 129,-6.09976 129,-12.0998 129,-12.0998 129,-72.7002 129,-72.7002 129,-78.7002 123,-84.7002 117,-84.7002\" fill=\"#b2dfee\" stroke=\"#b2dfee\"/>\n",
       "<text font-family=\"Helvetica,sans-Serif\" font-size=\"14.00\" text-anchor=\"start\" x=\"8\" y=\"-69.6\">HUMIDITY &lt; 82.5</text>\n",
       "<text font-family=\"Helvetica,sans-Serif\" font-size=\"14.00\" text-anchor=\"start\" x=\"27.5\" y=\"-37.8\">Score=Play</text>\n",
       "<text font-family=\"Helvetica,sans-Serif\" font-size=\"14.00\" text-anchor=\"start\" x=\"37\" y=\"-22.8\">Count=2</text>\n",
       "<text font-family=\"Helvetica,sans-Serif\" font-size=\"14.00\" text-anchor=\"start\" x=\"31\" y=\"-7.8\">Percent=1</text>\n",
       "</g>\n",
       "<!-- 2&#45;&gt;3 -->\n",
       "<g class=\"edge\" id=\"edge1\"><title>2-&gt;3</title>\n",
       "<path d=\"M98.9632,-120.65C95.1082,-112.009 91.0054,-102.812 87.025,-93.89\" fill=\"none\" stroke=\"black\"/>\n",
       "<polygon fill=\"black\" points=\"90.2075,-92.4328 82.9369,-84.7264 83.8148,-95.2848 90.2075,-92.4328\" stroke=\"black\"/>\n",
       "</g>\n",
       "<!-- 4 -->\n",
       "<g class=\"node\" id=\"node5\"><title>4</title>\n",
       "<path d=\"M271.5,-84.7002C271.5,-84.7002 159.5,-84.7002 159.5,-84.7002 153.5,-84.7002 147.5,-78.7002 147.5,-72.7002 147.5,-72.7002 147.5,-12.0998 147.5,-12.0998 147.5,-6.09976 153.5,-0.0997647 159.5,-0.0997647 159.5,-0.0997647 271.5,-0.0997647 271.5,-0.0997647 277.5,-0.0997647 283.5,-6.09976 283.5,-12.0998 283.5,-12.0998 283.5,-72.7002 283.5,-72.7002 283.5,-78.7002 277.5,-84.7002 271.5,-84.7002\" fill=\"#b2dfee\" stroke=\"#b2dfee\"/>\n",
       "<text font-family=\"Helvetica,sans-Serif\" font-size=\"14.00\" text-anchor=\"start\" x=\"159.5\" y=\"-69.6\">HUMIDITY ≥ 82.5</text>\n",
       "<text font-family=\"Helvetica,sans-Serif\" font-size=\"14.00\" text-anchor=\"start\" x=\"155.5\" y=\"-37.8\">Score=Do not Play</text>\n",
       "<text font-family=\"Helvetica,sans-Serif\" font-size=\"14.00\" text-anchor=\"start\" x=\"188\" y=\"-22.8\">Count=2</text>\n",
       "<text font-family=\"Helvetica,sans-Serif\" font-size=\"14.00\" text-anchor=\"start\" x=\"182\" y=\"-7.8\">Percent=1</text>\n",
       "</g>\n",
       "<!-- 2&#45;&gt;4 -->\n",
       "<g class=\"edge\" id=\"edge2\"><title>2-&gt;4</title>\n",
       "<path d=\"M151.776,-120.65C159.279,-111.554 167.29,-101.842 175.01,-92.4837\" fill=\"none\" stroke=\"black\"/>\n",
       "<polygon fill=\"black\" points=\"177.746,-94.6677 181.409,-84.7264 172.346,-90.2133 177.746,-94.6677\" stroke=\"black\"/>\n",
       "</g>\n",
       "<!-- 7 -->\n",
       "<g class=\"node\" id=\"node8\"><title>7</title>\n",
       "<path d=\"M465.5,-84.7002C465.5,-84.7002 353.5,-84.7002 353.5,-84.7002 347.5,-84.7002 341.5,-78.7002 341.5,-72.7002 341.5,-72.7002 341.5,-12.0998 341.5,-12.0998 341.5,-6.09976 347.5,-0.0997647 353.5,-0.0997647 353.5,-0.0997647 465.5,-0.0997647 465.5,-0.0997647 471.5,-0.0997647 477.5,-6.09976 477.5,-12.0998 477.5,-12.0998 477.5,-72.7002 477.5,-72.7002 477.5,-78.7002 471.5,-84.7002 465.5,-84.7002\" fill=\"#b2dfee\" stroke=\"#b2dfee\"/>\n",
       "<text font-family=\"Helvetica,sans-Serif\" font-size=\"14.00\" text-anchor=\"start\" x=\"365\" y=\"-69.6\">WINDY = Yes</text>\n",
       "<text font-family=\"Helvetica,sans-Serif\" font-size=\"14.00\" text-anchor=\"start\" x=\"349.5\" y=\"-37.8\">Score=Do not Play</text>\n",
       "<text font-family=\"Helvetica,sans-Serif\" font-size=\"14.00\" text-anchor=\"start\" x=\"382\" y=\"-22.8\">Count=2</text>\n",
       "<text font-family=\"Helvetica,sans-Serif\" font-size=\"14.00\" text-anchor=\"start\" x=\"376\" y=\"-7.8\">Percent=1</text>\n",
       "</g>\n",
       "<!-- 6&#45;&gt;7 -->\n",
       "<g class=\"edge\" id=\"edge5\"><title>6-&gt;7</title>\n",
       "<path d=\"M436.16,-120.65C433.241,-112.19 430.138,-103.199 427.12,-94.4539\" fill=\"none\" stroke=\"black\"/>\n",
       "<polygon fill=\"black\" points=\"430.333,-93.0374 423.762,-84.7264 423.716,-95.3211 430.333,-93.0374\" stroke=\"black\"/>\n",
       "</g>\n",
       "<!-- 8 -->\n",
       "<g class=\"node\" id=\"node9\"><title>8</title>\n",
       "<path d=\"M581.5,-84.7002C581.5,-84.7002 507.5,-84.7002 507.5,-84.7002 501.5,-84.7002 495.5,-78.7002 495.5,-72.7002 495.5,-72.7002 495.5,-12.0998 495.5,-12.0998 495.5,-6.09976 501.5,-0.0997647 507.5,-0.0997647 507.5,-0.0997647 581.5,-0.0997647 581.5,-0.0997647 587.5,-0.0997647 593.5,-6.09976 593.5,-12.0998 593.5,-12.0998 593.5,-72.7002 593.5,-72.7002 593.5,-78.7002 587.5,-84.7002 581.5,-84.7002\" fill=\"#b2dfee\" stroke=\"#b2dfee\"/>\n",
       "<text font-family=\"Helvetica,sans-Serif\" font-size=\"14.00\" text-anchor=\"start\" x=\"503.5\" y=\"-69.6\">WINDY = No</text>\n",
       "<text font-family=\"Helvetica,sans-Serif\" font-size=\"14.00\" text-anchor=\"start\" x=\"507.5\" y=\"-37.8\">Score=Play</text>\n",
       "<text font-family=\"Helvetica,sans-Serif\" font-size=\"14.00\" text-anchor=\"start\" x=\"517\" y=\"-22.8\">Count=3</text>\n",
       "<text font-family=\"Helvetica,sans-Serif\" font-size=\"14.00\" text-anchor=\"start\" x=\"511\" y=\"-7.8\">Percent=1</text>\n",
       "</g>\n",
       "<!-- 6&#45;&gt;8 -->\n",
       "<g class=\"edge\" id=\"edge6\"><title>6-&gt;8</title>\n",
       "<path d=\"M483.377,-120.65C490.502,-111.645 498.104,-102.037 505.441,-92.7645\" fill=\"none\" stroke=\"black\"/>\n",
       "<polygon fill=\"black\" points=\"508.34,-94.7403 511.801,-84.7264 502.851,-90.3967 508.34,-94.7403\" stroke=\"black\"/>\n",
       "</g>\n",
       "</g>\n",
       "</svg>"
      ],
      "text/plain": [
       "<IPython.core.display.SVG object>"
      ]
     },
     "metadata": {},
     "output_type": "display_data"
    }
   ],
   "source": [
    "treeModelDebriefing.tree_parse(PAL_DT_MODEL_TBL)\n",
    "treeModelDebriefing.tree_debrief_with_dot(PAL_DT_MODEL_TBL)"
   ]
  },
  {
   "cell_type": "markdown",
   "metadata": {},
   "source": [
    "## Export Tree Model as a JSON file"
   ]
  },
  {
   "cell_type": "code",
   "execution_count": 13,
   "metadata": {},
   "outputs": [
    {
     "data": {
      "text/plain": [
       "interactive(children=(Text(value='', description='Model File:', placeholder='Enter Name...'), Button(descripti…"
      ]
     },
     "metadata": {},
     "output_type": "display_data"
    }
   ],
   "source": [
    "# treeModelDebriefing.tree_export(PAL_DT_MODEL_TBL)"
   ]
  },
  {
   "cell_type": "markdown",
   "metadata": {},
   "source": [
    "## Export Tree Model as a DOT file"
   ]
  },
  {
   "cell_type": "code",
   "execution_count": 12,
   "metadata": {},
   "outputs": [
    {
     "data": {
      "text/plain": [
       "interactive(children=(Text(value='', description='Model File:', placeholder='Enter Name...'), Button(descripti…"
      ]
     },
     "metadata": {},
     "output_type": "display_data"
    }
   ],
   "source": [
    "# treeModelDebriefing.tree_export_with_dot(PAL_DT_MODEL_TBL)"
   ]
  },
  {
   "cell_type": "markdown",
   "metadata": {},
   "source": [
    "## Visualize Tree Model by a JSON file"
   ]
  },
  {
   "cell_type": "code",
   "execution_count": 40,
   "metadata": {},
   "outputs": [
    {
     "data": {
      "text/plain": [
       "<IPython.core.display.JSON object>"
      ]
     },
     "execution_count": 40,
     "metadata": {
      "application/json": {
       "expanded": false,
       "root": "root"
      }
     },
     "output_type": "execute_result"
    }
   ],
   "source": [
    "# treeModelDebriefing.tree_debrief_from_file('./PAL_DT_MODEL_TBL.json')"
   ]
  },
  {
   "cell_type": "markdown",
   "metadata": {},
   "source": [
    "## Visualize Tree Model by a DOT file"
   ]
  },
  {
   "cell_type": "code",
   "execution_count": 14,
   "metadata": {},
   "outputs": [
    {
     "name": "stdout",
     "output_type": "stream",
     "text": [
      "\u001b[31mYou can also export the model as a DOT file and use the ZGRViewer tool to view the model.\n"
     ]
    },
    {
     "data": {
      "image/svg+xml": [
       "<svg height=\"423pt\" viewBox=\"0.00 0.00 601.50 423.40\" width=\"602pt\" xmlns=\"http://www.w3.org/2000/svg\" xmlns:xlink=\"http://www.w3.org/1999/xlink\">\n",
       "<g class=\"graph\" id=\"graph0\" transform=\"scale(1 1) rotate(0) translate(4 419.4)\">\n",
       "<title>G</title>\n",
       "<polygon fill=\"white\" points=\"-4,4 -4,-419.4 597.5,-419.4 597.5,4 -4,4\" stroke=\"none\"/>\n",
       "<!-- 0 -->\n",
       "<g class=\"node\" id=\"node1\"><title>0</title>\n",
       "<path d=\"M419.5,-415.4C419.5,-415.4 307.5,-415.4 307.5,-415.4 301.5,-415.4 295.5,-409.4 295.5,-403.4 295.5,-403.4 295.5,-374.4 295.5,-374.4 295.5,-368.4 301.5,-362.4 307.5,-362.4 307.5,-362.4 419.5,-362.4 419.5,-362.4 425.5,-362.4 431.5,-368.4 431.5,-374.4 431.5,-374.4 431.5,-403.4 431.5,-403.4 431.5,-409.4 425.5,-415.4 419.5,-415.4\" fill=\"#b2dfee\" stroke=\"#b2dfee\"/>\n",
       "<text font-family=\"Helvetica,sans-Serif\" font-size=\"14.00\" text-anchor=\"start\" x=\"326.5\" y=\"-400.2\">Score=Play</text>\n",
       "<text font-family=\"Helvetica,sans-Serif\" font-size=\"14.00\" text-anchor=\"start\" x=\"332\" y=\"-385.2\">Count=14</text>\n",
       "<text font-family=\"Helvetica,sans-Serif\" font-size=\"14.00\" text-anchor=\"start\" x=\"303.5\" y=\"-370.2\">Percent=0.642857</text>\n",
       "</g>\n",
       "<!-- 1 -->\n",
       "<g class=\"node\" id=\"node2\"><title>1</title>\n",
       "<path d=\"M342.5,-326.3C342.5,-326.3 230.5,-326.3 230.5,-326.3 224.5,-326.3 218.5,-320.3 218.5,-314.3 218.5,-314.3 218.5,-253.7 218.5,-253.7 218.5,-247.7 224.5,-241.7 230.5,-241.7 230.5,-241.7 342.5,-241.7 342.5,-241.7 348.5,-241.7 354.5,-247.7 354.5,-253.7 354.5,-253.7 354.5,-314.3 354.5,-314.3 354.5,-320.3 348.5,-326.3 342.5,-326.3\" fill=\"#b2dfee\" stroke=\"#b2dfee\"/>\n",
       "<text font-family=\"Helvetica,sans-Serif\" font-size=\"14.00\" text-anchor=\"start\" x=\"250\" y=\"-311.2\">TEMP &lt; 84</text>\n",
       "<text font-family=\"Helvetica,sans-Serif\" font-size=\"14.00\" text-anchor=\"start\" x=\"249.5\" y=\"-279.4\">Score=Play</text>\n",
       "<text font-family=\"Helvetica,sans-Serif\" font-size=\"14.00\" text-anchor=\"start\" x=\"255\" y=\"-264.4\">Count=13</text>\n",
       "<text font-family=\"Helvetica,sans-Serif\" font-size=\"14.00\" text-anchor=\"start\" x=\"226.5\" y=\"-249.4\">Percent=0.692307</text>\n",
       "</g>\n",
       "<!-- 0&#45;&gt;1 -->\n",
       "<g class=\"edge\" id=\"edge8\"><title>0-&gt;1</title>\n",
       "<path d=\"M344.268,-362.199C337.935,-353.735 330.663,-344.018 323.464,-334.398\" fill=\"none\" stroke=\"black\"/>\n",
       "<polygon fill=\"black\" points=\"326.249,-332.278 317.456,-326.368 320.645,-336.472 326.249,-332.278\" stroke=\"black\"/>\n",
       "</g>\n",
       "<!-- 9 -->\n",
       "<g class=\"node\" id=\"node10\"><title>9</title>\n",
       "<path d=\"M496.5,-326.3C496.5,-326.3 384.5,-326.3 384.5,-326.3 378.5,-326.3 372.5,-320.3 372.5,-314.3 372.5,-314.3 372.5,-253.7 372.5,-253.7 372.5,-247.7 378.5,-241.7 384.5,-241.7 384.5,-241.7 496.5,-241.7 496.5,-241.7 502.5,-241.7 508.5,-247.7 508.5,-253.7 508.5,-253.7 508.5,-314.3 508.5,-314.3 508.5,-320.3 502.5,-326.3 496.5,-326.3\" fill=\"#b2dfee\" stroke=\"#b2dfee\"/>\n",
       "<text font-family=\"Helvetica,sans-Serif\" font-size=\"14.00\" text-anchor=\"start\" x=\"404.5\" y=\"-311.2\">TEMP ≥ 84</text>\n",
       "<text font-family=\"Helvetica,sans-Serif\" font-size=\"14.00\" text-anchor=\"start\" x=\"380.5\" y=\"-279.4\">Score=Do not Play</text>\n",
       "<text font-family=\"Helvetica,sans-Serif\" font-size=\"14.00\" text-anchor=\"start\" x=\"413\" y=\"-264.4\">Count=1</text>\n",
       "<text font-family=\"Helvetica,sans-Serif\" font-size=\"14.00\" text-anchor=\"start\" x=\"407\" y=\"-249.4\">Percent=1</text>\n",
       "</g>\n",
       "<!-- 0&#45;&gt;9 -->\n",
       "<g class=\"edge\" id=\"edge9\"><title>0-&gt;9</title>\n",
       "<path d=\"M382.732,-362.199C389.065,-353.735 396.337,-344.018 403.536,-334.398\" fill=\"none\" stroke=\"black\"/>\n",
       "<polygon fill=\"black\" points=\"406.355,-336.472 409.544,-326.368 400.751,-332.278 406.355,-336.472\" stroke=\"black\"/>\n",
       "</g>\n",
       "<!-- 2 -->\n",
       "<g class=\"node\" id=\"node3\"><title>2</title>\n",
       "<path d=\"M176.5,-205.5C176.5,-205.5 58.5,-205.5 58.5,-205.5 52.5,-205.5 46.5,-199.5 46.5,-193.5 46.5,-193.5 46.5,-132.9 46.5,-132.9 46.5,-126.9 52.5,-120.9 58.5,-120.9 58.5,-120.9 176.5,-120.9 176.5,-120.9 182.5,-120.9 188.5,-126.9 188.5,-132.9 188.5,-132.9 188.5,-193.5 188.5,-193.5 188.5,-199.5 182.5,-205.5 176.5,-205.5\" fill=\"#b2dfee\" stroke=\"#b2dfee\"/>\n",
       "<text font-family=\"Helvetica,sans-Serif\" font-size=\"14.00\" text-anchor=\"start\" x=\"54.5\" y=\"-190.4\">OUTLOOK = Sunny</text>\n",
       "<text font-family=\"Helvetica,sans-Serif\" font-size=\"14.00\" text-anchor=\"start\" x=\"80.5\" y=\"-158.6\">Score=Play</text>\n",
       "<text font-family=\"Helvetica,sans-Serif\" font-size=\"14.00\" text-anchor=\"start\" x=\"90\" y=\"-143.6\">Count=4</text>\n",
       "<text font-family=\"Helvetica,sans-Serif\" font-size=\"14.00\" text-anchor=\"start\" x=\"78\" y=\"-128.6\">Percent=0.5</text>\n",
       "</g>\n",
       "<!-- 1&#45;&gt;2 -->\n",
       "<g class=\"edge\" id=\"edge3\"><title>1-&gt;2</title>\n",
       "<path d=\"M227.392,-241.45C213.547,-231.717 198.7,-221.28 184.536,-211.324\" fill=\"none\" stroke=\"black\"/>\n",
       "<polygon fill=\"black\" points=\"186.483,-208.414 176.289,-205.526 182.457,-214.141 186.483,-208.414\" stroke=\"black\"/>\n",
       "</g>\n",
       "<!-- 5 -->\n",
       "<g class=\"node\" id=\"node6\"><title>5</title>\n",
       "<path d=\"M354.5,-205.5C354.5,-205.5 218.5,-205.5 218.5,-205.5 212.5,-205.5 206.5,-199.5 206.5,-193.5 206.5,-193.5 206.5,-132.9 206.5,-132.9 206.5,-126.9 212.5,-120.9 218.5,-120.9 218.5,-120.9 354.5,-120.9 354.5,-120.9 360.5,-120.9 366.5,-126.9 366.5,-132.9 366.5,-132.9 366.5,-193.5 366.5,-193.5 366.5,-199.5 360.5,-205.5 354.5,-205.5\" fill=\"#b2dfee\" stroke=\"#b2dfee\"/>\n",
       "<text font-family=\"Helvetica,sans-Serif\" font-size=\"14.00\" text-anchor=\"start\" x=\"214.5\" y=\"-190.4\">OUTLOOK = Overcast</text>\n",
       "<text font-family=\"Helvetica,sans-Serif\" font-size=\"14.00\" text-anchor=\"start\" x=\"249.5\" y=\"-158.6\">Score=Play</text>\n",
       "<text font-family=\"Helvetica,sans-Serif\" font-size=\"14.00\" text-anchor=\"start\" x=\"259\" y=\"-143.6\">Count=4</text>\n",
       "<text font-family=\"Helvetica,sans-Serif\" font-size=\"14.00\" text-anchor=\"start\" x=\"253\" y=\"-128.6\">Percent=1</text>\n",
       "</g>\n",
       "<!-- 1&#45;&gt;5 -->\n",
       "<g class=\"edge\" id=\"edge4\"><title>1-&gt;5</title>\n",
       "<path d=\"M286.5,-241.45C286.5,-233.081 286.5,-224.192 286.5,-215.536\" fill=\"none\" stroke=\"black\"/>\n",
       "<polygon fill=\"black\" points=\"290,-215.526 286.5,-205.526 283,-215.526 290,-215.526\" stroke=\"black\"/>\n",
       "</g>\n",
       "<!-- 6 -->\n",
       "<g class=\"node\" id=\"node7\"><title>6</title>\n",
       "<path d=\"M504,-205.5C504,-205.5 397,-205.5 397,-205.5 391,-205.5 385,-199.5 385,-193.5 385,-193.5 385,-132.9 385,-132.9 385,-126.9 391,-120.9 397,-120.9 397,-120.9 504,-120.9 504,-120.9 510,-120.9 516,-126.9 516,-132.9 516,-132.9 516,-193.5 516,-193.5 516,-199.5 510,-205.5 504,-205.5\" fill=\"#b2dfee\" stroke=\"#b2dfee\"/>\n",
       "<text font-family=\"Helvetica,sans-Serif\" font-size=\"14.00\" text-anchor=\"start\" x=\"393\" y=\"-190.4\">OUTLOOK = Rain</text>\n",
       "<text font-family=\"Helvetica,sans-Serif\" font-size=\"14.00\" text-anchor=\"start\" x=\"413.5\" y=\"-158.6\">Score=Play</text>\n",
       "<text font-family=\"Helvetica,sans-Serif\" font-size=\"14.00\" text-anchor=\"start\" x=\"423\" y=\"-143.6\">Count=5</text>\n",
       "<text font-family=\"Helvetica,sans-Serif\" font-size=\"14.00\" text-anchor=\"start\" x=\"411\" y=\"-128.6\">Percent=0.6</text>\n",
       "</g>\n",
       "<!-- 1&#45;&gt;6 -->\n",
       "<g class=\"edge\" id=\"edge7\"><title>1-&gt;6</title>\n",
       "<path d=\"M343.859,-241.45C357.169,-231.808 371.434,-221.475 385.061,-211.603\" fill=\"none\" stroke=\"black\"/>\n",
       "<polygon fill=\"black\" points=\"387.405,-214.227 393.45,-205.526 383.298,-208.558 387.405,-214.227\" stroke=\"black\"/>\n",
       "</g>\n",
       "<!-- 3 -->\n",
       "<g class=\"node\" id=\"node4\"><title>3</title>\n",
       "<path d=\"M117,-84.7002C117,-84.7002 12,-84.7002 12,-84.7002 6,-84.7002 0,-78.7002 0,-72.7002 0,-72.7002 0,-12.0998 0,-12.0998 0,-6.09976 6,-0.0997647 12,-0.0997647 12,-0.0997647 117,-0.0997647 117,-0.0997647 123,-0.0997647 129,-6.09976 129,-12.0998 129,-12.0998 129,-72.7002 129,-72.7002 129,-78.7002 123,-84.7002 117,-84.7002\" fill=\"#b2dfee\" stroke=\"#b2dfee\"/>\n",
       "<text font-family=\"Helvetica,sans-Serif\" font-size=\"14.00\" text-anchor=\"start\" x=\"8\" y=\"-69.6\">HUMIDITY &lt; 82.5</text>\n",
       "<text font-family=\"Helvetica,sans-Serif\" font-size=\"14.00\" text-anchor=\"start\" x=\"27.5\" y=\"-37.8\">Score=Play</text>\n",
       "<text font-family=\"Helvetica,sans-Serif\" font-size=\"14.00\" text-anchor=\"start\" x=\"37\" y=\"-22.8\">Count=2</text>\n",
       "<text font-family=\"Helvetica,sans-Serif\" font-size=\"14.00\" text-anchor=\"start\" x=\"31\" y=\"-7.8\">Percent=1</text>\n",
       "</g>\n",
       "<!-- 2&#45;&gt;3 -->\n",
       "<g class=\"edge\" id=\"edge1\"><title>2-&gt;3</title>\n",
       "<path d=\"M98.9632,-120.65C95.1082,-112.009 91.0054,-102.812 87.025,-93.89\" fill=\"none\" stroke=\"black\"/>\n",
       "<polygon fill=\"black\" points=\"90.2075,-92.4328 82.9369,-84.7264 83.8148,-95.2848 90.2075,-92.4328\" stroke=\"black\"/>\n",
       "</g>\n",
       "<!-- 4 -->\n",
       "<g class=\"node\" id=\"node5\"><title>4</title>\n",
       "<path d=\"M271.5,-84.7002C271.5,-84.7002 159.5,-84.7002 159.5,-84.7002 153.5,-84.7002 147.5,-78.7002 147.5,-72.7002 147.5,-72.7002 147.5,-12.0998 147.5,-12.0998 147.5,-6.09976 153.5,-0.0997647 159.5,-0.0997647 159.5,-0.0997647 271.5,-0.0997647 271.5,-0.0997647 277.5,-0.0997647 283.5,-6.09976 283.5,-12.0998 283.5,-12.0998 283.5,-72.7002 283.5,-72.7002 283.5,-78.7002 277.5,-84.7002 271.5,-84.7002\" fill=\"#b2dfee\" stroke=\"#b2dfee\"/>\n",
       "<text font-family=\"Helvetica,sans-Serif\" font-size=\"14.00\" text-anchor=\"start\" x=\"159.5\" y=\"-69.6\">HUMIDITY ≥ 82.5</text>\n",
       "<text font-family=\"Helvetica,sans-Serif\" font-size=\"14.00\" text-anchor=\"start\" x=\"155.5\" y=\"-37.8\">Score=Do not Play</text>\n",
       "<text font-family=\"Helvetica,sans-Serif\" font-size=\"14.00\" text-anchor=\"start\" x=\"188\" y=\"-22.8\">Count=2</text>\n",
       "<text font-family=\"Helvetica,sans-Serif\" font-size=\"14.00\" text-anchor=\"start\" x=\"182\" y=\"-7.8\">Percent=1</text>\n",
       "</g>\n",
       "<!-- 2&#45;&gt;4 -->\n",
       "<g class=\"edge\" id=\"edge2\"><title>2-&gt;4</title>\n",
       "<path d=\"M151.776,-120.65C159.279,-111.554 167.29,-101.842 175.01,-92.4837\" fill=\"none\" stroke=\"black\"/>\n",
       "<polygon fill=\"black\" points=\"177.746,-94.6677 181.409,-84.7264 172.346,-90.2133 177.746,-94.6677\" stroke=\"black\"/>\n",
       "</g>\n",
       "<!-- 7 -->\n",
       "<g class=\"node\" id=\"node8\"><title>7</title>\n",
       "<path d=\"M465.5,-84.7002C465.5,-84.7002 353.5,-84.7002 353.5,-84.7002 347.5,-84.7002 341.5,-78.7002 341.5,-72.7002 341.5,-72.7002 341.5,-12.0998 341.5,-12.0998 341.5,-6.09976 347.5,-0.0997647 353.5,-0.0997647 353.5,-0.0997647 465.5,-0.0997647 465.5,-0.0997647 471.5,-0.0997647 477.5,-6.09976 477.5,-12.0998 477.5,-12.0998 477.5,-72.7002 477.5,-72.7002 477.5,-78.7002 471.5,-84.7002 465.5,-84.7002\" fill=\"#b2dfee\" stroke=\"#b2dfee\"/>\n",
       "<text font-family=\"Helvetica,sans-Serif\" font-size=\"14.00\" text-anchor=\"start\" x=\"365\" y=\"-69.6\">WINDY = Yes</text>\n",
       "<text font-family=\"Helvetica,sans-Serif\" font-size=\"14.00\" text-anchor=\"start\" x=\"349.5\" y=\"-37.8\">Score=Do not Play</text>\n",
       "<text font-family=\"Helvetica,sans-Serif\" font-size=\"14.00\" text-anchor=\"start\" x=\"382\" y=\"-22.8\">Count=2</text>\n",
       "<text font-family=\"Helvetica,sans-Serif\" font-size=\"14.00\" text-anchor=\"start\" x=\"376\" y=\"-7.8\">Percent=1</text>\n",
       "</g>\n",
       "<!-- 6&#45;&gt;7 -->\n",
       "<g class=\"edge\" id=\"edge5\"><title>6-&gt;7</title>\n",
       "<path d=\"M436.16,-120.65C433.241,-112.19 430.138,-103.199 427.12,-94.4539\" fill=\"none\" stroke=\"black\"/>\n",
       "<polygon fill=\"black\" points=\"430.333,-93.0374 423.762,-84.7264 423.716,-95.3211 430.333,-93.0374\" stroke=\"black\"/>\n",
       "</g>\n",
       "<!-- 8 -->\n",
       "<g class=\"node\" id=\"node9\"><title>8</title>\n",
       "<path d=\"M581.5,-84.7002C581.5,-84.7002 507.5,-84.7002 507.5,-84.7002 501.5,-84.7002 495.5,-78.7002 495.5,-72.7002 495.5,-72.7002 495.5,-12.0998 495.5,-12.0998 495.5,-6.09976 501.5,-0.0997647 507.5,-0.0997647 507.5,-0.0997647 581.5,-0.0997647 581.5,-0.0997647 587.5,-0.0997647 593.5,-6.09976 593.5,-12.0998 593.5,-12.0998 593.5,-72.7002 593.5,-72.7002 593.5,-78.7002 587.5,-84.7002 581.5,-84.7002\" fill=\"#b2dfee\" stroke=\"#b2dfee\"/>\n",
       "<text font-family=\"Helvetica,sans-Serif\" font-size=\"14.00\" text-anchor=\"start\" x=\"503.5\" y=\"-69.6\">WINDY = No</text>\n",
       "<text font-family=\"Helvetica,sans-Serif\" font-size=\"14.00\" text-anchor=\"start\" x=\"507.5\" y=\"-37.8\">Score=Play</text>\n",
       "<text font-family=\"Helvetica,sans-Serif\" font-size=\"14.00\" text-anchor=\"start\" x=\"517\" y=\"-22.8\">Count=3</text>\n",
       "<text font-family=\"Helvetica,sans-Serif\" font-size=\"14.00\" text-anchor=\"start\" x=\"511\" y=\"-7.8\">Percent=1</text>\n",
       "</g>\n",
       "<!-- 6&#45;&gt;8 -->\n",
       "<g class=\"edge\" id=\"edge6\"><title>6-&gt;8</title>\n",
       "<path d=\"M483.377,-120.65C490.502,-111.645 498.104,-102.037 505.441,-92.7645\" fill=\"none\" stroke=\"black\"/>\n",
       "<polygon fill=\"black\" points=\"508.34,-94.7403 511.801,-84.7264 502.851,-90.3967 508.34,-94.7403\" stroke=\"black\"/>\n",
       "</g>\n",
       "</g>\n",
       "</svg>"
      ],
      "text/plain": [
       "<IPython.core.display.SVG object>"
      ]
     },
     "metadata": {},
     "output_type": "display_data"
    }
   ],
   "source": [
    "# treeModelDebriefing.tree_debrief_from_file('./PAL_DT_MODEL_TBL.dot')"
   ]
  },
  {
   "cell_type": "markdown",
   "metadata": {},
   "source": [
    "# Model Debriefing for Random Decision Tree"
   ]
  },
  {
   "cell_type": "markdown",
   "metadata": {},
   "source": [
    "## Generate Model"
   ]
  },
  {
   "cell_type": "code",
   "execution_count": 10,
   "metadata": {},
   "outputs": [],
   "source": [
    "rfc = RandomForestClassifier(n_estimators=3,\n",
    "                             max_features=3, random_state=2,\n",
    "                             split_threshold=0.00001,\n",
    "                             calculate_oob=True,\n",
    "                             min_samples_leaf=1, thread_ratio=1.0)\n",
    "\n",
    "rfc.fit(data=PAL_DT_DATA_TBL, features=['OUTLOOK', 'TEMP', 'HUMIDITY', 'WINDY'], label='CLASS')"
   ]
  },
  {
   "cell_type": "code",
   "execution_count": 11,
   "metadata": {},
   "outputs": [],
   "source": [
    "PAL_RDT_MODEL_TBL = rfc.model_"
   ]
  },
  {
   "cell_type": "markdown",
   "metadata": {},
   "source": [
    "## Visualize Tree Model in XML format"
   ]
  },
  {
   "cell_type": "code",
   "execution_count": 12,
   "metadata": {},
   "outputs": [
    {
     "data": {
      "application/vnd.jupyter.widget-view+json": {
       "model_id": "83dd736bbe364a0e8e1c17c4d5d252a6",
       "version_major": 2,
       "version_minor": 0
      },
      "text/plain": [
       "interactive(children=(Text(value='0', description='Tree Index:', placeholder=''), Output()), _dom_classes=('wi…"
      ]
     },
     "metadata": {},
     "output_type": "display_data"
    }
   ],
   "source": [
    "treeModelDebriefing.tree_debrief(PAL_RDT_MODEL_TBL)"
   ]
  },
  {
   "cell_type": "markdown",
   "metadata": {},
   "source": [
    "## Visualize Tree Model in DOT format"
   ]
  },
  {
   "cell_type": "code",
   "execution_count": 13,
   "metadata": {},
   "outputs": [
    {
     "data": {
      "application/vnd.jupyter.widget-view+json": {
       "model_id": "072bd7fca5f543b0b3336c8295046367",
       "version_major": 2,
       "version_minor": 0
      },
      "text/plain": [
       "interactive(children=(Text(value='0', description='Tree Index:', placeholder=''), Output()), _dom_classes=('wi…"
      ]
     },
     "metadata": {},
     "output_type": "display_data"
    }
   ],
   "source": [
    "treeModelDebriefing.tree_parse(PAL_RDT_MODEL_TBL)\n",
    "treeModelDebriefing.tree_debrief_with_dot(PAL_RDT_MODEL_TBL)"
   ]
  },
  {
   "cell_type": "markdown",
   "metadata": {},
   "source": [
    "## Detele Table"
   ]
  },
  {
   "cell_type": "code",
   "execution_count": 14,
   "metadata": {},
   "outputs": [
    {
     "data": {
      "text/plain": [
       "True"
      ]
     },
     "execution_count": 14,
     "metadata": {},
     "output_type": "execute_result"
    }
   ],
   "source": [
    "delete_table_sql = 'DROP TABLE {}'\n",
    "cursor.execute(delete_table_sql.format(table_name))"
   ]
  },
  {
   "cell_type": "markdown",
   "metadata": {},
   "source": [
    "# Model Debriefing for Hybrid Gradient Boosting Tree"
   ]
  },
  {
   "cell_type": "markdown",
   "metadata": {},
   "source": [
    "## Create Table"
   ]
  },
  {
   "cell_type": "code",
   "execution_count": 15,
   "metadata": {},
   "outputs": [],
   "source": [
    "table_name = 'PAL_VISUALIZE_HGBT_DATA_TBL'\n",
    "create_table_sql = '''CREATE COLUMN TABLE {} (\n",
    "    \"ATT1\" DOUBLE, \n",
    "    \"ATT2\" DOUBLE, \n",
    "    \"ATT3\" DOUBLE,\n",
    "    \"ATT4\" DOUBLE,\n",
    "    \"LABEL\" varchar(50)\n",
    ");'''\n",
    "data = [(1.0, 10.0, 100, 1.0, 'A'),\n",
    "       (1.1, 10.1, 100, 1.0, 'A'),\n",
    "       (1.2, 10.2, 100, 1.0, 'A'),\n",
    "       (1.3, 10.4, 100, 1.0, 'A'),\n",
    "       (1.2, 10.3, 100, 1.0, 'A'),\n",
    "       (4.0, 40.0, 400, 4.0, 'B'),\n",
    "       (4.1, 40.1, 400, 4.0, 'B'),\n",
    "       (4.2, 40.2, 400, 4.0, 'B'),\n",
    "       (4.3, 40.4, 400, 4.0, 'B'),\n",
    "       (4.2, 40.3, 400, 4.0, 'A'),\n",
    "       (9.0, 90.0, 900, 2.0, 'A'),\n",
    "       (9.1, 90.1, 900, 1.0, 'B'),\n",
    "       (9.2, 90.2, 900, 2.0, 'B'),\n",
    "       (9.3, 90.4, 900, 1.0, 'B'),\n",
    "       (9.2, 90.3, 900, 1.0, 'B')]"
   ]
  },
  {
   "cell_type": "code",
   "execution_count": 16,
   "metadata": {},
   "outputs": [
    {
     "data": {
      "text/plain": [
       "(1, 1, 1, 1, 1, 1, 1, 1, 1, 1, 1, 1, 1, 1, 1)"
      ]
     },
     "execution_count": 16,
     "metadata": {},
     "output_type": "execute_result"
    }
   ],
   "source": [
    "cursor = connection_context.connection.cursor()\n",
    "cursor.execute(create_table_sql.format(table_name))\n",
    "cursor.executemany(\"INSERT INTO {} VALUES ({})\".format(table_name,', '.join(['?']*len(data[0]))), data)"
   ]
  },
  {
   "cell_type": "markdown",
   "metadata": {},
   "source": [
    "## Create Data Frame"
   ]
  },
  {
   "cell_type": "code",
   "execution_count": 17,
   "metadata": {},
   "outputs": [
    {
     "data": {
      "text/html": [
       "<div>\n",
       "<style scoped>\n",
       "    .dataframe tbody tr th:only-of-type {\n",
       "        vertical-align: middle;\n",
       "    }\n",
       "\n",
       "    .dataframe tbody tr th {\n",
       "        vertical-align: top;\n",
       "    }\n",
       "\n",
       "    .dataframe thead th {\n",
       "        text-align: right;\n",
       "    }\n",
       "</style>\n",
       "<table border=\"1\" class=\"dataframe\">\n",
       "  <thead>\n",
       "    <tr style=\"text-align: right;\">\n",
       "      <th></th>\n",
       "      <th>ATT1</th>\n",
       "      <th>ATT2</th>\n",
       "      <th>ATT3</th>\n",
       "      <th>ATT4</th>\n",
       "      <th>LABEL</th>\n",
       "    </tr>\n",
       "  </thead>\n",
       "  <tbody>\n",
       "    <tr>\n",
       "      <th>0</th>\n",
       "      <td>1.0</td>\n",
       "      <td>10.0</td>\n",
       "      <td>100.0</td>\n",
       "      <td>1.0</td>\n",
       "      <td>A</td>\n",
       "    </tr>\n",
       "    <tr>\n",
       "      <th>1</th>\n",
       "      <td>1.1</td>\n",
       "      <td>10.1</td>\n",
       "      <td>100.0</td>\n",
       "      <td>1.0</td>\n",
       "      <td>A</td>\n",
       "    </tr>\n",
       "    <tr>\n",
       "      <th>2</th>\n",
       "      <td>1.2</td>\n",
       "      <td>10.2</td>\n",
       "      <td>100.0</td>\n",
       "      <td>1.0</td>\n",
       "      <td>A</td>\n",
       "    </tr>\n",
       "    <tr>\n",
       "      <th>3</th>\n",
       "      <td>1.3</td>\n",
       "      <td>10.4</td>\n",
       "      <td>100.0</td>\n",
       "      <td>1.0</td>\n",
       "      <td>A</td>\n",
       "    </tr>\n",
       "    <tr>\n",
       "      <th>4</th>\n",
       "      <td>1.2</td>\n",
       "      <td>10.3</td>\n",
       "      <td>100.0</td>\n",
       "      <td>1.0</td>\n",
       "      <td>A</td>\n",
       "    </tr>\n",
       "    <tr>\n",
       "      <th>5</th>\n",
       "      <td>4.0</td>\n",
       "      <td>40.0</td>\n",
       "      <td>400.0</td>\n",
       "      <td>4.0</td>\n",
       "      <td>B</td>\n",
       "    </tr>\n",
       "  </tbody>\n",
       "</table>\n",
       "</div>"
      ],
      "text/plain": [
       "   ATT1  ATT2   ATT3  ATT4 LABEL\n",
       "0   1.0  10.0  100.0   1.0     A\n",
       "1   1.1  10.1  100.0   1.0     A\n",
       "2   1.2  10.2  100.0   1.0     A\n",
       "3   1.3  10.4  100.0   1.0     A\n",
       "4   1.2  10.3  100.0   1.0     A\n",
       "5   4.0  40.0  400.0   4.0     B"
      ]
     },
     "execution_count": 17,
     "metadata": {},
     "output_type": "execute_result"
    }
   ],
   "source": [
    "PAL_HGBT_DATA_TBL = connection_context.table(table_name)\n",
    "PAL_HGBT_DATA_TBL.head(6).collect()"
   ]
  },
  {
   "cell_type": "markdown",
   "metadata": {},
   "source": [
    "## Generate Model"
   ]
  },
  {
   "cell_type": "code",
   "execution_count": 18,
   "metadata": {},
   "outputs": [],
   "source": [
    "hgbt = HybridGradientBoostingClassifier(n_estimators = 4, split_threshold=0,\n",
    "            learning_rate=0.5, fold_num=5, max_depth=6,\n",
    "            cv_metric = 'error_rate', ref_metric=['auc'],\n",
    "            cross_validation_range=[('learning_rate',[0.1, 1.0, 3]),\n",
    "            ('n_estimators', [4, 10, 3]),\n",
    "            ('split_threshold', [0.1, 1.0, 3])])\n",
    "hgbt.fit(data=PAL_HGBT_DATA_TBL, features=['ATT1', 'ATT2', 'ATT3', 'ATT4'], label='LABEL')"
   ]
  },
  {
   "cell_type": "code",
   "execution_count": 19,
   "metadata": {},
   "outputs": [],
   "source": [
    "PAL_HGBT_MODEL_TBL = hgbt.model_"
   ]
  },
  {
   "cell_type": "markdown",
   "metadata": {},
   "source": [
    "## Visualize Tree Model in JSON format"
   ]
  },
  {
   "cell_type": "code",
   "execution_count": 20,
   "metadata": {},
   "outputs": [
    {
     "data": {
      "application/vnd.jupyter.widget-view+json": {
       "model_id": "34e794bcb88f41008ae7670aac3dade3",
       "version_major": 2,
       "version_minor": 0
      },
      "text/plain": [
       "interactive(children=(Text(value='0', description='Tree Index:', placeholder=''), Output()), _dom_classes=('wi…"
      ]
     },
     "metadata": {},
     "output_type": "display_data"
    }
   ],
   "source": [
    "treeModelDebriefing.tree_debrief(PAL_HGBT_MODEL_TBL)"
   ]
  },
  {
   "cell_type": "markdown",
   "metadata": {},
   "source": [
    "## Visualize Tree Model in DOT format"
   ]
  },
  {
   "cell_type": "code",
   "execution_count": 21,
   "metadata": {},
   "outputs": [
    {
     "data": {
      "application/vnd.jupyter.widget-view+json": {
       "model_id": "885322cba87c4ad9a47d9cd0bec27694",
       "version_major": 2,
       "version_minor": 0
      },
      "text/plain": [
       "interactive(children=(Text(value='0', description='Tree Index:', placeholder=''), Output()), _dom_classes=('wi…"
      ]
     },
     "metadata": {},
     "output_type": "display_data"
    }
   ],
   "source": [
    "treeModelDebriefing.tree_parse(PAL_HGBT_MODEL_TBL)\n",
    "treeModelDebriefing.tree_debrief_with_dot(PAL_HGBT_MODEL_TBL)"
   ]
  },
  {
   "cell_type": "markdown",
   "metadata": {},
   "source": [
    "## Delete Table"
   ]
  },
  {
   "cell_type": "code",
   "execution_count": 29,
   "metadata": {},
   "outputs": [
    {
     "data": {
      "text/plain": [
       "True"
      ]
     },
     "execution_count": 29,
     "metadata": {},
     "output_type": "execute_result"
    }
   ],
   "source": [
    "delete_table_sql = 'DROP TABLE {}'\n",
    "cursor.execute(delete_table_sql.format(table_name))"
   ]
  }
 ],
 "metadata": {
  "kernelspec": {
   "display_name": "Python 3",
   "language": "python",
   "name": "python3"
  },
  "language_info": {
   "codemirror_mode": {
    "name": "ipython",
    "version": 3
   },
   "file_extension": ".py",
   "mimetype": "text/x-python",
   "name": "python",
   "nbconvert_exporter": "python",
   "pygments_lexer": "ipython3",
   "version": "3.6.8"
  }
 },
 "nbformat": 4,
 "nbformat_minor": 4
}

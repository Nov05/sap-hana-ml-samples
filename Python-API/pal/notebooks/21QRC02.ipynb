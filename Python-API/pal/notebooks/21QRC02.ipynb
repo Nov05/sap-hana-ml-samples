{
 "cells": [
  {
   "cell_type": "markdown",
   "metadata": {},
   "source": [
    "What's New and Changed in version 2.9\n",
    "--------------------------------------------------------\n",
    "\n",
    "Enhancement:\n",
    "\n",
    "    - Constants for directions used in graph functions can be found in `hana_ml.graph.constants.DIRECTION_*`\n",
    "    - Following functions and objects are now available in `hana_ml.graph` for import\n",
    "        - `Graph` object\n",
    "        - `create_graph_from_dataframes` and `create_graph_from_hana_dataframes` factory methods\n",
    "        - `discover_graph_workspaces`\n",
    "        - `discover_graph_workspace`\n",
    "    - The geometries do not need to be to be specified when creating a DataFrame instance anymore. The geometries are analyzed automatically.\n",
    "    - Support list of targets and trans_param in feature_tool.\n",
    "    - Enhanced unified report for unified_regression to view feature importance.\n",
    "    - Enhanced join() to support list of DataFrame.\n",
    "    - Enhanced union() to support list of DataFrame.\n",
    "    - Streamlined the `create_dataframe_from_pandas` geo parameters. Now there is only one list of geo_cols, which supports column references as well as (lon, lat) tuples, and one SRID parameter for all columns\n",
    "    - When you 'create_dataframe_from_pandas' and pass a GeoPandas DataFrame, the geometry column will be detected automatically and processed as a geometry. You don't need to add it manually to `geo_cols`\n",
    "    - The `Graph` constructor is simplified. You can instantiate a graph simply by the workspace name.\n",
    "\n",
    "New functions:\n",
    "\n",
    "    - Introduced `hana_ml.graph.algorithms` which contains all graph algorithms in the future. The package provides a `AlgorithmBase` class which can be used to build additional algorithms for a graph.\n",
    "    - Add `hana_ml.graph.algorithms.ShortestPath`, which replaces `Graph.shortest_path`\n",
    "    - Add `hana_ml.graph.algorithms.Neighbors`, which replaces `Graph.neighbors`\n",
    "    - Add `hana_ml.graph.algorithms.NeighborsSubgraph`, which replaces `Graph.neighbors_with_edges`\n",
    "    - Add `hana_ml.graph.algorithms.KShortestPaths`\n",
    "    - Add `hana_ml.graph.algorithms.ShortestPathsOneToAll`\n",
    "    - Add `hana_ml.graph.discovery.discover_graph_workspace`, which reads the metadata of a graph\n",
    "    - Add `hana_ml.graph.create_graph_from_edges_dataframe`\n",
    "    - Add `hana_ml.graph.Graph.has_vertices`, to check if a list of vertices exist in a graph\n",
    "    - Add `hana_ml.graph.Graph.subgraph`, to create a vertices or edges induced subgraph\n",
    "    - Add `hana_ml.DataFrame.srids`, which returns the SRS of each geometry column\n",
    "    - Add `hana_ml.DataFrame.geometries`, which returns the geometry columns if there are any\n",
    "    - Add `hana_ml.spatial` package, that contains\n",
    "        - `create_predefined_srs`\n",
    "        - `is_srs_created`\n",
    "        - `get_created_srses`\n",
    "    - Add `hana_ml.docstore` package, that contains\n",
    "        - `create_collection_from_elements`\n",
    "    - Added BCPD() for bayesian change point detection.\n",
    "    - Added shape in dataframe.\n",
    "    - Added sort_values, sort_index in dataframe.\n",
    "    - Added scheduler for model renew in model_storage.\n",
    "    - Added min, max, mean, median, sum, value_counts in dataframe.\n",
    "    - Added SHAP support for unified regression.\n",
    "    - Added data lake support in model_storage.\n",
    "    - Added data lake support in dataframe functions.\n",
    "    - Added line plot for time seires forecast.\n",
    "    - Added split_column().\n",
    "    - Added concat_columns().\n",
    "    - Added outlier_detection_kmeans(), which detects outliers in datasets based on the result of k-means clustering.\n",
    "    - Added intermittent_forecast() for forecasting intermittent demand data(time-series).\n",
    "\n",
    "API change:\n",
    "\n",
    "    - Removed `geo_cols` from `dataframe.create_dataframe_from_shapefile`\n",
    "    - Removed `geo_cols` from `ConnectionContext.sql()`\n",
    "    - Removed `geo_cols` from `ConnectionContext.table()`\n",
    "    - Removed `Graph.neighbors` and `Graph.neighbors_with_edges`\n",
    "    - Removed `Graph.shortest_path`\n",
    "    - Removed `hana_ml.graph.Path`. This is not used anymore\n",
    "    - Removed `hana_ml.graph.create_hana_graph_from_existing_workspace`. This is replaced by a simplified `Graph` object constructor.\n",
    "    - Renamed `hana_ml.graph.create_hana_graph_from_vertex_and_edge_frames` to `create_graph_from_dataframes`\n",
    "    - Changed the type of `geo_cols` in `create_dataframe_from_pandas` to list, which supports direct column references or (lon, lat) tuples for generating POINT geometries\n",
    "\n",
    "Bug fixes:\n",
    "\n",
    "    - Fixed inflexible default locations of selected columns of input data, e.g. key, features and endog.\n",
    "    - Fixed accuracy_measure issue in AutoExponentialSmoothing.\n",
    "    - Fixed model report's feature importance when it has 0 importance.\n"
   ]
  },
  {
   "cell_type": "markdown",
   "metadata": {},
   "source": [
    "### HDL"
   ]
  },
  {
   "cell_type": "markdown",
   "metadata": {},
   "source": [
    "#### create dl table by create_table"
   ]
  },
  {
   "cell_type": "code",
   "execution_count": 1,
   "metadata": {},
   "outputs": [
    {
     "name": "stderr",
     "output_type": "stream",
     "text": [
      "ModuleNotFoundError: No module named 'shapely'\n"
     ]
    },
    {
     "name": "stdout",
     "output_type": "stream",
     "text": [
      "HANA DB User : MLLAB_DL1 Password : ········\n"
     ]
    }
   ],
   "source": [
    "from hana_ml.dataframe import ConnectionContext, create_dataframe_from_pandas\n",
    "\n",
    "conn = ConnectionContext(address=\"f98ad2fb-a57e-4bbb-8509-f31b59074da6.hana.canary-eu10.hanacloud.ondemand.com\",\n",
    "                         port=443,\n",
    "                         user=\"MLLAB_DL1\",\n",
    "                         encrypt='true',\n",
    "                         sslValidateCertificate='false')"
   ]
  },
  {
   "cell_type": "code",
   "execution_count": 2,
   "metadata": {},
   "outputs": [],
   "source": [
    "conn.drop_table(\"DL_TABLE\", data_lake=True)\n",
    "conn.create_table(table=\"DL_TABLE\", table_structure={\"A\":\"INT\"}, data_lake=True)"
   ]
  },
  {
   "cell_type": "markdown",
   "metadata": {},
   "source": [
    "#### create HANA virtual table"
   ]
  },
  {
   "cell_type": "code",
   "execution_count": 3,
   "metadata": {},
   "outputs": [],
   "source": [
    "conn.drop_table(\"DL_TABLE\")\n",
    "conn.create_virtual_table(table=\"DL_TABLE\", data_lake_table=\"DL_TABLE\")"
   ]
  },
  {
   "cell_type": "markdown",
   "metadata": {},
   "source": [
    "#### query virtual table"
   ]
  },
  {
   "cell_type": "code",
   "execution_count": 4,
   "metadata": {},
   "outputs": [
    {
     "data": {
      "text/html": [
       "<div>\n",
       "<style scoped>\n",
       "    .dataframe tbody tr th:only-of-type {\n",
       "        vertical-align: middle;\n",
       "    }\n",
       "\n",
       "    .dataframe tbody tr th {\n",
       "        vertical-align: top;\n",
       "    }\n",
       "\n",
       "    .dataframe thead th {\n",
       "        text-align: right;\n",
       "    }\n",
       "</style>\n",
       "<table border=\"1\" class=\"dataframe\">\n",
       "  <thead>\n",
       "    <tr style=\"text-align: right;\">\n",
       "      <th></th>\n",
       "      <th>A</th>\n",
       "    </tr>\n",
       "  </thead>\n",
       "  <tbody>\n",
       "  </tbody>\n",
       "</table>\n",
       "</div>"
      ],
      "text/plain": [
       "Empty DataFrame\n",
       "Columns: [A]\n",
       "Index: []"
      ]
     },
     "execution_count": 4,
     "metadata": {},
     "output_type": "execute_result"
    }
   ],
   "source": [
    "conn.sql(\"SELECT * FROM DL_TABLE\").collect()"
   ]
  },
  {
   "cell_type": "markdown",
   "metadata": {},
   "source": [
    "#### drop DL table & HANA virtual table"
   ]
  },
  {
   "cell_type": "code",
   "execution_count": 5,
   "metadata": {},
   "outputs": [],
   "source": [
    "conn.drop_table(\"DL_TABLE\", data_lake=True)\n",
    "conn.drop_table(\"DL_TABLE\")"
   ]
  },
  {
   "cell_type": "markdown",
   "metadata": {},
   "source": [
    "#### copy dataframe to data lake"
   ]
  },
  {
   "cell_type": "code",
   "execution_count": 6,
   "metadata": {},
   "outputs": [
    {
     "name": "stderr",
     "output_type": "stream",
     "text": [
      "100%|████████████████████████████████████████████████████████████████████████████████████| 1/1 [00:00<00:00,  2.69it/s]\n"
     ]
    }
   ],
   "source": [
    "import pandas as pd\n",
    "\n",
    "df = create_dataframe_from_pandas(conn, pandas_df=pd.DataFrame({\"A\": [1,2,3]}), table_name=\"MY_TABLE\", force=True)"
   ]
  },
  {
   "cell_type": "code",
   "execution_count": 12,
   "metadata": {},
   "outputs": [
    {
     "data": {
      "text/html": [
       "<div>\n",
       "<style scoped>\n",
       "    .dataframe tbody tr th:only-of-type {\n",
       "        vertical-align: middle;\n",
       "    }\n",
       "\n",
       "    .dataframe tbody tr th {\n",
       "        vertical-align: top;\n",
       "    }\n",
       "\n",
       "    .dataframe thead th {\n",
       "        text-align: right;\n",
       "    }\n",
       "</style>\n",
       "<table border=\"1\" class=\"dataframe\">\n",
       "  <thead>\n",
       "    <tr style=\"text-align: right;\">\n",
       "      <th></th>\n",
       "      <th>A</th>\n",
       "    </tr>\n",
       "  </thead>\n",
       "  <tbody>\n",
       "    <tr>\n",
       "      <th>0</th>\n",
       "      <td>1</td>\n",
       "    </tr>\n",
       "    <tr>\n",
       "      <th>1</th>\n",
       "      <td>2</td>\n",
       "    </tr>\n",
       "    <tr>\n",
       "      <th>2</th>\n",
       "      <td>3</td>\n",
       "    </tr>\n",
       "  </tbody>\n",
       "</table>\n",
       "</div>"
      ],
      "text/plain": [
       "   A\n",
       "0  1\n",
       "1  2\n",
       "2  3"
      ]
     },
     "execution_count": 12,
     "metadata": {},
     "output_type": "execute_result"
    }
   ],
   "source": [
    "df.collect()"
   ]
  },
  {
   "cell_type": "code",
   "execution_count": 13,
   "metadata": {},
   "outputs": [
    {
     "data": {
      "text/plain": [
       "<hana_ml.dataframe.DataFrame at 0x22f47f068d0>"
      ]
     },
     "execution_count": 13,
     "metadata": {},
     "output_type": "execute_result"
    }
   ],
   "source": [
    "df.save(\"DL_TABLE\", data_lake=True)"
   ]
  },
  {
   "cell_type": "code",
   "execution_count": 14,
   "metadata": {},
   "outputs": [
    {
     "data": {
      "text/html": [
       "<div>\n",
       "<style scoped>\n",
       "    .dataframe tbody tr th:only-of-type {\n",
       "        vertical-align: middle;\n",
       "    }\n",
       "\n",
       "    .dataframe tbody tr th {\n",
       "        vertical-align: top;\n",
       "    }\n",
       "\n",
       "    .dataframe thead th {\n",
       "        text-align: right;\n",
       "    }\n",
       "</style>\n",
       "<table border=\"1\" class=\"dataframe\">\n",
       "  <thead>\n",
       "    <tr style=\"text-align: right;\">\n",
       "      <th></th>\n",
       "      <th>A</th>\n",
       "    </tr>\n",
       "  </thead>\n",
       "  <tbody>\n",
       "    <tr>\n",
       "      <th>0</th>\n",
       "      <td>1</td>\n",
       "    </tr>\n",
       "    <tr>\n",
       "      <th>1</th>\n",
       "      <td>2</td>\n",
       "    </tr>\n",
       "    <tr>\n",
       "      <th>2</th>\n",
       "      <td>3</td>\n",
       "    </tr>\n",
       "  </tbody>\n",
       "</table>\n",
       "</div>"
      ],
      "text/plain": [
       "   A\n",
       "0  1\n",
       "1  2\n",
       "2  3"
      ]
     },
     "execution_count": 14,
     "metadata": {},
     "output_type": "execute_result"
    }
   ],
   "source": [
    "conn.sql(\"SELECT * FROM DL_TABLE\").collect()"
   ]
  },
  {
   "cell_type": "code",
   "execution_count": 15,
   "metadata": {},
   "outputs": [],
   "source": [
    "conn.drop_table(\"DL_TABLE\", data_lake=True)\n",
    "conn.drop_table(\"DL_TABLE\")"
   ]
  },
  {
   "cell_type": "code",
   "execution_count": 16,
   "metadata": {},
   "outputs": [],
   "source": [
    "conn.copy_to_data_lake(df, virtual_table=\"DL_TABLE\", data_lake_table=\"DL_TABLE\", append=False)"
   ]
  },
  {
   "cell_type": "code",
   "execution_count": 17,
   "metadata": {},
   "outputs": [
    {
     "data": {
      "text/html": [
       "<div>\n",
       "<style scoped>\n",
       "    .dataframe tbody tr th:only-of-type {\n",
       "        vertical-align: middle;\n",
       "    }\n",
       "\n",
       "    .dataframe tbody tr th {\n",
       "        vertical-align: top;\n",
       "    }\n",
       "\n",
       "    .dataframe thead th {\n",
       "        text-align: right;\n",
       "    }\n",
       "</style>\n",
       "<table border=\"1\" class=\"dataframe\">\n",
       "  <thead>\n",
       "    <tr style=\"text-align: right;\">\n",
       "      <th></th>\n",
       "      <th>A</th>\n",
       "    </tr>\n",
       "  </thead>\n",
       "  <tbody>\n",
       "    <tr>\n",
       "      <th>0</th>\n",
       "      <td>1</td>\n",
       "    </tr>\n",
       "    <tr>\n",
       "      <th>1</th>\n",
       "      <td>2</td>\n",
       "    </tr>\n",
       "    <tr>\n",
       "      <th>2</th>\n",
       "      <td>3</td>\n",
       "    </tr>\n",
       "  </tbody>\n",
       "</table>\n",
       "</div>"
      ],
      "text/plain": [
       "   A\n",
       "0  1\n",
       "1  2\n",
       "2  3"
      ]
     },
     "execution_count": 17,
     "metadata": {},
     "output_type": "execute_result"
    }
   ],
   "source": [
    "conn.sql(\"SELECT * FROM DL_TABLE\").collect()"
   ]
  },
  {
   "cell_type": "markdown",
   "metadata": {},
   "source": [
    "#### Model Storage in DL"
   ]
  },
  {
   "cell_type": "code",
   "execution_count": 2,
   "metadata": {},
   "outputs": [
    {
     "name": "stdout",
     "output_type": "stream",
     "text": [
      "Table PIMA_INDIANS_DIABETES_TBL exists and data exists\n"
     ]
    }
   ],
   "source": [
    "from data_load_utils import DataSets, Settings\n",
    "from hana_ml.algorithms.pal.model_selection import GridSearchCV\n",
    "from hana_ml.algorithms.pal.unified_classification import UnifiedClassification\n",
    "full_tbl, train_tbl, test_tbl, _ = DataSets.load_diabetes_data(conn)\n",
    "diabetes_train = conn.table(train_tbl)\n",
    "diabetes_test = conn.table(test_tbl)\n",
    "\n",
    "uc_hgbdt = UnifiedClassification('HybridGradientBoostingTree')\n",
    "\n",
    "gscv = GridSearchCV(estimator=uc_hgbdt, \n",
    "                    param_grid={'learning_rate': [0.1, 0.4, 0.7, 1],\n",
    "                                'n_estimators': [4, 6, 8, 10],\n",
    "                                'split_threshold': [0.1, 0.4, 0.7, 1]},\n",
    "                    train_control=dict(fold_num=5,\n",
    "                                       resampling_method='cv',\n",
    "                                       random_state=1,\n",
    "                                       ref_metric=['auc']),\n",
    "                    scoring='error_rate')\n",
    "gscv.fit(data=diabetes_train, key= 'ID',\n",
    "         label='CLASS',\n",
    "         partition_method='stratified',\n",
    "         partition_random_state=1,\n",
    "         stratified_column='CLASS',\n",
    "         build_report=True)\n",
    "features = diabetes_train.columns\n",
    "features.remove('CLASS')\n",
    "features.remove('ID')\n",
    "pred_res = gscv.predict(diabetes_test, key='ID', features=features)"
   ]
  },
  {
   "cell_type": "code",
   "execution_count": 6,
   "metadata": {},
   "outputs": [],
   "source": [
    "from hana_ml.model_storage import ModelStorage\n",
    "\n",
    "model_storage = ModelStorage(connection_context=conn)\n",
    "model_storage.clean_up()\n",
    "gscv.estimator.name = 'HGBT' \n",
    "gscv.estimator.version = 1\n",
    "model_storage.save_model(model=gscv.estimator, storage_type='HDL')"
   ]
  },
  {
   "cell_type": "code",
   "execution_count": 4,
   "metadata": {},
   "outputs": [
    {
     "data": {
      "text/html": [
       "<div>\n",
       "<style scoped>\n",
       "    .dataframe tbody tr th:only-of-type {\n",
       "        vertical-align: middle;\n",
       "    }\n",
       "\n",
       "    .dataframe tbody tr th {\n",
       "        vertical-align: top;\n",
       "    }\n",
       "\n",
       "    .dataframe thead th {\n",
       "        text-align: right;\n",
       "    }\n",
       "</style>\n",
       "<table border=\"1\" class=\"dataframe\">\n",
       "  <thead>\n",
       "    <tr style=\"text-align: right;\">\n",
       "      <th></th>\n",
       "      <th>NAME</th>\n",
       "      <th>VERSION</th>\n",
       "      <th>LIBRARY</th>\n",
       "      <th>CLASS</th>\n",
       "      <th>JSON</th>\n",
       "      <th>TIMESTAMP</th>\n",
       "      <th>STORAGE_TYPE</th>\n",
       "      <th>MODEL_STORAGE_VER</th>\n",
       "      <th>SCHEDULE</th>\n",
       "    </tr>\n",
       "  </thead>\n",
       "  <tbody>\n",
       "    <tr>\n",
       "      <th>0</th>\n",
       "      <td>HGBT</td>\n",
       "      <td>1</td>\n",
       "      <td>PAL</td>\n",
       "      <td>hana_ml.algorithms.pal.unified_classification....</td>\n",
       "      <td>{\"model_attributes\": {\"kwargs\": {\"param_search...</td>\n",
       "      <td>2021-04-14 11:33:39</td>\n",
       "      <td>HDL</td>\n",
       "      <td>1</td>\n",
       "      <td>{\"schedule\": {\"status\": \"inactive\", \"schedule_...</td>\n",
       "    </tr>\n",
       "  </tbody>\n",
       "</table>\n",
       "</div>"
      ],
      "text/plain": [
       "   NAME  VERSION LIBRARY                                              CLASS  \\\n",
       "0  HGBT        1     PAL  hana_ml.algorithms.pal.unified_classification....   \n",
       "\n",
       "                                                JSON           TIMESTAMP  \\\n",
       "0  {\"model_attributes\": {\"kwargs\": {\"param_search... 2021-04-14 11:33:39   \n",
       "\n",
       "  STORAGE_TYPE  MODEL_STORAGE_VER  \\\n",
       "0          HDL                  1   \n",
       "\n",
       "                                            SCHEDULE  \n",
       "0  {\"schedule\": {\"status\": \"inactive\", \"schedule_...  "
      ]
     },
     "execution_count": 4,
     "metadata": {},
     "output_type": "execute_result"
    }
   ],
   "source": [
    "model_storage.list_models()"
   ]
  },
  {
   "cell_type": "code",
   "execution_count": 5,
   "metadata": {},
   "outputs": [
    {
     "data": {
      "text/html": [
       "<div>\n",
       "<style scoped>\n",
       "    .dataframe tbody tr th:only-of-type {\n",
       "        vertical-align: middle;\n",
       "    }\n",
       "\n",
       "    .dataframe tbody tr th {\n",
       "        vertical-align: top;\n",
       "    }\n",
       "\n",
       "    .dataframe thead th {\n",
       "        text-align: right;\n",
       "    }\n",
       "</style>\n",
       "<table border=\"1\" class=\"dataframe\">\n",
       "  <thead>\n",
       "    <tr style=\"text-align: right;\">\n",
       "      <th></th>\n",
       "      <th>NAME</th>\n",
       "      <th>VERSION</th>\n",
       "      <th>LIBRARY</th>\n",
       "      <th>CLASS</th>\n",
       "      <th>JSON</th>\n",
       "      <th>TIMESTAMP</th>\n",
       "      <th>STORAGE_TYPE</th>\n",
       "      <th>MODEL_STORAGE_VER</th>\n",
       "      <th>SCHEDULE</th>\n",
       "    </tr>\n",
       "  </thead>\n",
       "  <tbody>\n",
       "  </tbody>\n",
       "</table>\n",
       "</div>"
      ],
      "text/plain": [
       "Empty DataFrame\n",
       "Columns: [NAME, VERSION, LIBRARY, CLASS, JSON, TIMESTAMP, STORAGE_TYPE, MODEL_STORAGE_VER, SCHEDULE]\n",
       "Index: []"
      ]
     },
     "execution_count": 5,
     "metadata": {},
     "output_type": "execute_result"
    }
   ],
   "source": [
    "model_storage.delete_model(\"HGBT\", 1)\n",
    "model_storage.list_models()"
   ]
  },
  {
   "cell_type": "markdown",
   "metadata": {},
   "source": [
    "### Scheduler"
   ]
  },
  {
   "cell_type": "code",
   "execution_count": null,
   "metadata": {},
   "outputs": [],
   "source": [
    "# plan the schedule\n",
    "\n",
    "model_storage.set_schedule(name='HGBT',\n",
    "                           version=1,\n",
    "                           schedule_time='every 3 minutes',\n",
    "                           connection_userkey='raymondyao',\n",
    "                           init_params={\"func\" : 'HybridGradientBoostingTree',\n",
    "                                        \"param_search_strategy\" : 'grid',\n",
    "                                        \"resampling_method\" : 'cv',\n",
    "                                        \"evaluation_metric\" : 'error_rate',\n",
    "                                        \"ref_metric\" : ['auc'],\n",
    "                                        \"fold_num\" : 5,\n",
    "                                        \"random_state\" : 1,\n",
    "                                        \"param_values\" : {'learning_rate': [0.1, 0.4, 0.7, 1],\n",
    "                                                          'n_estimators': [4, 6, 8, 10],\n",
    "                                                          'split_threshold': [0.1, 0.4, 0.7, 1]}},\n",
    "                           fit_params={\"key\" : 'ID',\n",
    "                                       \"label\" : 'CLASS',\n",
    "                                       \"partition_method\" : 'stratified',\n",
    "                                       \"partition_random_state\" : 1,\n",
    "                                       \"stratified_column\" : 'CLASS'},\n",
    "                           training_dataset_select_statement=\"SELECT * FROM PIMA_INDIANS_DIABETES_TRAIN_VALID_TBL\",\n",
    "                           storage_type='HDL',\n",
    "                           encrypt='true',\n",
    "                           sslValidateCertificate='false'\n",
    "                          )"
   ]
  },
  {
   "cell_type": "code",
   "execution_count": null,
   "metadata": {},
   "outputs": [],
   "source": [
    "model_storage.start_schedule('HGBT', 1)"
   ]
  },
  {
   "cell_type": "code",
   "execution_count": null,
   "metadata": {},
   "outputs": [],
   "source": [
    "model_storage.terminate_schedule('HGBT', 1)"
   ]
  },
  {
   "cell_type": "markdown",
   "metadata": {},
   "source": [
    "### Use dataframe index"
   ]
  },
  {
   "cell_type": "code",
   "execution_count": 29,
   "metadata": {},
   "outputs": [
    {
     "name": "stderr",
     "output_type": "stream",
     "text": [
      "100%|████████████████████████████████████████████████████████████████████████████████████| 1/1 [00:00<00:00,  2.65it/s]\n",
      "100%|████████████████████████████████████████████████████████████████████████████████████| 1/1 [00:00<00:00,  2.70it/s]\n",
      "100%|████████████████████████████████████████████████████████████████████████████████████| 1/1 [00:00<00:00,  2.59it/s]\n"
     ]
    },
    {
     "name": "stdout",
     "output_type": "stream",
     "text": [
      "   ID  ID2  V1  ID2  V2  ID2  V3  V4 V5\n",
      "0   1    1   2    1   2    1   2   3  a\n",
      "1   2    2   3    2   3    2   3   3  a\n"
     ]
    }
   ],
   "source": [
    "import pandas as pd\n",
    "df1 = create_dataframe_from_pandas(connection_context=conn,\n",
    "                                             pandas_df=pd.DataFrame({\"ID\": [1,2,3],\n",
    "                                                                     \"ID2\": [1,2,3],\n",
    "                                                                     \"V1\": [2,3,4]}),\n",
    "                                             table_name=\"#tt1\",\n",
    "                                             force=True)\n",
    "df2 = create_dataframe_from_pandas(connection_context=conn,\n",
    "                                             pandas_df=pd.DataFrame({\"ID\": [1,2],\n",
    "                                                                     \"ID2\": [1,2],\n",
    "                                                                     \"V2\": [2,3]}),\n",
    "                                             table_name=\"#tt2\",\n",
    "                                             force=True)\n",
    "df3 = create_dataframe_from_pandas(connection_context=conn,\n",
    "                                             pandas_df=pd.DataFrame({\"ID\": [1,2,5],\n",
    "                                                                     \"ID2\": [1,2,5],\n",
    "                                                                     \"V3\": [2,3,4],\n",
    "                                                                     \"V4\": [3,3,3],\n",
    "                                                                     \"V5\": ['a','a','b']}),\n",
    "                                             table_name=\"#tt3\",\n",
    "                                             force=True)\n",
    "dfs = [df1.set_index(\"ID\"), df2.set_index(\"ID\"), df3.set_index(\"ID\")]\n",
    "print(dfs[0].join(dfs[1:]).collect(geometries=False))"
   ]
  },
  {
   "cell_type": "code",
   "execution_count": 31,
   "metadata": {},
   "outputs": [
    {
     "data": {
      "text/html": [
       "<div>\n",
       "<style scoped>\n",
       "    .dataframe tbody tr th:only-of-type {\n",
       "        vertical-align: middle;\n",
       "    }\n",
       "\n",
       "    .dataframe tbody tr th {\n",
       "        vertical-align: top;\n",
       "    }\n",
       "\n",
       "    .dataframe thead th {\n",
       "        text-align: right;\n",
       "    }\n",
       "</style>\n",
       "<table border=\"1\" class=\"dataframe\">\n",
       "  <thead>\n",
       "    <tr style=\"text-align: right;\">\n",
       "      <th></th>\n",
       "      <th>ID</th>\n",
       "      <th>ID2</th>\n",
       "      <th>V1</th>\n",
       "    </tr>\n",
       "  </thead>\n",
       "  <tbody>\n",
       "    <tr>\n",
       "      <th>0</th>\n",
       "      <td>1</td>\n",
       "      <td>1</td>\n",
       "      <td>2</td>\n",
       "    </tr>\n",
       "    <tr>\n",
       "      <th>1</th>\n",
       "      <td>2</td>\n",
       "      <td>2</td>\n",
       "      <td>3</td>\n",
       "    </tr>\n",
       "    <tr>\n",
       "      <th>2</th>\n",
       "      <td>3</td>\n",
       "      <td>3</td>\n",
       "      <td>4</td>\n",
       "    </tr>\n",
       "  </tbody>\n",
       "</table>\n",
       "</div>"
      ],
      "text/plain": [
       "   ID  ID2  V1\n",
       "0   1    1   2\n",
       "1   2    2   3\n",
       "2   3    3   4"
      ]
     },
     "execution_count": 31,
     "metadata": {},
     "output_type": "execute_result"
    }
   ],
   "source": [
    "df1.sort_index().collect()"
   ]
  },
  {
   "cell_type": "code",
   "execution_count": 33,
   "metadata": {},
   "outputs": [
    {
     "data": {
      "text/html": [
       "<div>\n",
       "<style scoped>\n",
       "    .dataframe tbody tr th:only-of-type {\n",
       "        vertical-align: middle;\n",
       "    }\n",
       "\n",
       "    .dataframe tbody tr th {\n",
       "        vertical-align: top;\n",
       "    }\n",
       "\n",
       "    .dataframe thead th {\n",
       "        text-align: right;\n",
       "    }\n",
       "</style>\n",
       "<table border=\"1\" class=\"dataframe\">\n",
       "  <thead>\n",
       "    <tr style=\"text-align: right;\">\n",
       "      <th></th>\n",
       "      <th>VALUES</th>\n",
       "      <th>NUM_ID</th>\n",
       "      <th>NUM_ID2</th>\n",
       "      <th>NUM_V1</th>\n",
       "    </tr>\n",
       "  </thead>\n",
       "  <tbody>\n",
       "    <tr>\n",
       "      <th>0</th>\n",
       "      <td>1</td>\n",
       "      <td>1.0</td>\n",
       "      <td>1.0</td>\n",
       "      <td>NaN</td>\n",
       "    </tr>\n",
       "    <tr>\n",
       "      <th>1</th>\n",
       "      <td>2</td>\n",
       "      <td>1.0</td>\n",
       "      <td>1.0</td>\n",
       "      <td>1.0</td>\n",
       "    </tr>\n",
       "    <tr>\n",
       "      <th>2</th>\n",
       "      <td>3</td>\n",
       "      <td>1.0</td>\n",
       "      <td>1.0</td>\n",
       "      <td>1.0</td>\n",
       "    </tr>\n",
       "    <tr>\n",
       "      <th>3</th>\n",
       "      <td>4</td>\n",
       "      <td>NaN</td>\n",
       "      <td>NaN</td>\n",
       "      <td>1.0</td>\n",
       "    </tr>\n",
       "  </tbody>\n",
       "</table>\n",
       "</div>"
      ],
      "text/plain": [
       "  VALUES  NUM_ID  NUM_ID2  NUM_V1\n",
       "0      1     1.0      1.0     NaN\n",
       "1      2     1.0      1.0     1.0\n",
       "2      3     1.0      1.0     1.0\n",
       "3      4     NaN      NaN     1.0"
      ]
     },
     "execution_count": 33,
     "metadata": {},
     "output_type": "execute_result"
    }
   ],
   "source": [
    "df1.value_counts().collect()"
   ]
  },
  {
   "cell_type": "code",
   "execution_count": 7,
   "metadata": {},
   "outputs": [],
   "source": [
    "pred_res = gscv.predict(diabetes_test.set_index(\"ID\"), features=features)"
   ]
  },
  {
   "cell_type": "markdown",
   "metadata": {},
   "source": [
    "### Time Series Visualization"
   ]
  },
  {
   "cell_type": "code",
   "execution_count": 9,
   "metadata": {},
   "outputs": [],
   "source": [
    "import numpy as np\n",
    "\n",
    "def geometric_brownian_motion(T = 1, N = 2, mu = -0.01, sigma = 0.001, S0 = 2):        \n",
    "    dt = float(T)/N\n",
    "    t = np.linspace(0, T, N)\n",
    "    W = np.random.standard_normal(size = N) \n",
    "    W = np.cumsum(W)*np.sqrt(dt) ### standard brownian motion ###\n",
    "    X = (mu-0.5*sigma**2)*t + sigma*W \n",
    "    S = S0*np.exp(X) ### geometric brownian motion ###\n",
    "    return S\n",
    "\n",
    "dates = pd.date_range('2018-03-01', '2018-03-10',freq='H')\n",
    "T = (dates.max()-dates.min()).days / 365\n",
    "N = dates.size\n",
    "start_price = 1000\n",
    "y = pd.DataFrame()\n",
    "y['INDEX'] = dates\n",
    "y['Y'] = geometric_brownian_motion(T, N, sigma=0.1, S0=start_price)"
   ]
  },
  {
   "cell_type": "code",
   "execution_count": 11,
   "metadata": {},
   "outputs": [
    {
     "name": "stderr",
     "output_type": "stream",
     "text": [
      "100%|████████████████████████████████████████████████████████████████████████████████████| 1/1 [00:00<00:00,  2.56it/s]\n"
     ]
    }
   ],
   "source": [
    "df = create_dataframe_from_pandas(conn, y, '#AMF_TEST', force=True).sort(\"INDEX\")"
   ]
  },
  {
   "cell_type": "code",
   "execution_count": 12,
   "metadata": {},
   "outputs": [],
   "source": [
    "train_df = df.filter(\"DAYS_BETWEEN(INDEX, '2018-03-06') > 0\")\n",
    "test_df = df.filter(\"DAYS_BETWEEN(INDEX, '2018-03-06') <= 0\")"
   ]
  },
  {
   "cell_type": "code",
   "execution_count": 13,
   "metadata": {},
   "outputs": [],
   "source": [
    "from hana_ml.algorithms.pal.tsa.additive_model_forecast import AdditiveModelForecast\n",
    "\n",
    "amf = AdditiveModelForecast(growth='linear')\n",
    "amf.fit(data=train_df)\n",
    "pred_data = amf.predict(data=test_df)"
   ]
  },
  {
   "cell_type": "code",
   "execution_count": null,
   "metadata": {},
   "outputs": [],
   "source": [
    "# compare prophet"
   ]
  },
  {
   "cell_type": "code",
   "execution_count": 14,
   "metadata": {},
   "outputs": [
    {
     "data": {
      "image/png": "[encoded data removed]",
      "text/plain": [
       "<Figure size 1080x864 with 1 Axes>"
      ]
     },
     "metadata": {},
     "output_type": "display_data"
    }
   ],
   "source": [
    "%matplotlib inline\n",
    "\n",
    "from hana_ml.visualizers.visualizer_base import forecast_line_plot\n",
    "\n",
    "ax = forecast_line_plot(pred_data=pred_data.set_index(\"INDEX\"),\n",
    "                        actual_data=df.set_index(\"INDEX\"),\n",
    "                        confidence=(\"YHAT_LOWER\", \"YHAT_UPPER\"),\n",
    "                        max_xticklabels=10)\n"
   ]
  },
  {
   "cell_type": "markdown",
   "metadata": {},
   "source": [
    "### Intermittent Time Series Forecast"
   ]
  },
  {
   "cell_type": "code",
   "execution_count": 15,
   "metadata": {},
   "outputs": [],
   "source": [
    "from hana_ml.algorithms.pal.tsa.intermittent_forecast import intermittent_forecast\n",
    "output = intermittent_forecast(data=train_df.add_id(\"ID\").deselect(\"INDEX\").set_index(\"ID\"), p=3, forecast_num=3,\n",
    "                                optimizer='lbfgsb_grid', grid_size=20,\n",
    "                                optimize_step = 0.011, expost_flag=False,\n",
    "                                accuracy_measure='mse', ignore_zero=False,\n",
    "                                thread_ratio=0.5)"
   ]
  },
  {
   "cell_type": "code",
   "execution_count": 17,
   "metadata": {},
   "outputs": [
    {
     "data": {
      "text/html": [
       "<div>\n",
       "<style scoped>\n",
       "    .dataframe tbody tr th:only-of-type {\n",
       "        vertical-align: middle;\n",
       "    }\n",
       "\n",
       "    .dataframe tbody tr th {\n",
       "        vertical-align: top;\n",
       "    }\n",
       "\n",
       "    .dataframe thead th {\n",
       "        text-align: right;\n",
       "    }\n",
       "</style>\n",
       "<table border=\"1\" class=\"dataframe\">\n",
       "  <thead>\n",
       "    <tr style=\"text-align: right;\">\n",
       "      <th></th>\n",
       "      <th>ID</th>\n",
       "      <th>Y</th>\n",
       "    </tr>\n",
       "  </thead>\n",
       "  <tbody>\n",
       "    <tr>\n",
       "      <th>0</th>\n",
       "      <td>98</td>\n",
       "      <td>1012.498355</td>\n",
       "    </tr>\n",
       "    <tr>\n",
       "      <th>1</th>\n",
       "      <td>99</td>\n",
       "      <td>1012.498355</td>\n",
       "    </tr>\n",
       "    <tr>\n",
       "      <th>2</th>\n",
       "      <td>100</td>\n",
       "      <td>1012.498355</td>\n",
       "    </tr>\n",
       "  </tbody>\n",
       "</table>\n",
       "</div>"
      ],
      "text/plain": [
       "    ID            Y\n",
       "0   98  1012.498355\n",
       "1   99  1012.498355\n",
       "2  100  1012.498355"
      ]
     },
     "execution_count": 17,
     "metadata": {},
     "output_type": "execute_result"
    }
   ],
   "source": [
    "output[0].collect()"
   ]
  },
  {
   "cell_type": "markdown",
   "metadata": {},
   "source": [
    "### Bayesian Change Point Detection"
   ]
  },
  {
   "cell_type": "code",
   "execution_count": 23,
   "metadata": {},
   "outputs": [],
   "source": [
    "from hana_ml.algorithms.pal.tsa.changepoint import BCPD\n",
    "bcpd = BCPD(max_tcp=5, max_scp=5)\n",
    "tcp, scp, period, components = bcpd.fit_predict(data=train_df.add_id(\"ID\").deselect(\"INDEX\").set_index(\"ID\"), features=\"Y\")"
   ]
  },
  {
   "cell_type": "code",
   "execution_count": 27,
   "metadata": {},
   "outputs": [
    {
     "data": {
      "text/html": [
       "<div>\n",
       "<style scoped>\n",
       "    .dataframe tbody tr th:only-of-type {\n",
       "        vertical-align: middle;\n",
       "    }\n",
       "\n",
       "    .dataframe tbody tr th {\n",
       "        vertical-align: top;\n",
       "    }\n",
       "\n",
       "    .dataframe thead th {\n",
       "        text-align: right;\n",
       "    }\n",
       "</style>\n",
       "<table border=\"1\" class=\"dataframe\">\n",
       "  <thead>\n",
       "    <tr style=\"text-align: right;\">\n",
       "      <th></th>\n",
       "      <th>ID</th>\n",
       "      <th>SEASONAL</th>\n",
       "      <th>TREND</th>\n",
       "      <th>RANDOM</th>\n",
       "    </tr>\n",
       "  </thead>\n",
       "  <tbody>\n",
       "    <tr>\n",
       "      <th>0</th>\n",
       "      <td>0</td>\n",
       "      <td>0.0</td>\n",
       "      <td>1002.636025</td>\n",
       "      <td>-0.456698</td>\n",
       "    </tr>\n",
       "    <tr>\n",
       "      <th>1</th>\n",
       "      <td>1</td>\n",
       "      <td>0.0</td>\n",
       "      <td>1002.792839</td>\n",
       "      <td>0.067509</td>\n",
       "    </tr>\n",
       "    <tr>\n",
       "      <th>2</th>\n",
       "      <td>2</td>\n",
       "      <td>0.0</td>\n",
       "      <td>1002.949652</td>\n",
       "      <td>-0.633545</td>\n",
       "    </tr>\n",
       "    <tr>\n",
       "      <th>3</th>\n",
       "      <td>3</td>\n",
       "      <td>0.0</td>\n",
       "      <td>1003.106466</td>\n",
       "      <td>-1.061459</td>\n",
       "    </tr>\n",
       "    <tr>\n",
       "      <th>4</th>\n",
       "      <td>4</td>\n",
       "      <td>0.0</td>\n",
       "      <td>1003.263279</td>\n",
       "      <td>-2.240881</td>\n",
       "    </tr>\n",
       "    <tr>\n",
       "      <th>5</th>\n",
       "      <td>5</td>\n",
       "      <td>0.0</td>\n",
       "      <td>1003.420093</td>\n",
       "      <td>-0.984248</td>\n",
       "    </tr>\n",
       "    <tr>\n",
       "      <th>6</th>\n",
       "      <td>6</td>\n",
       "      <td>0.0</td>\n",
       "      <td>1003.576906</td>\n",
       "      <td>-2.191312</td>\n",
       "    </tr>\n",
       "    <tr>\n",
       "      <th>7</th>\n",
       "      <td>7</td>\n",
       "      <td>0.0</td>\n",
       "      <td>1003.733720</td>\n",
       "      <td>0.131751</td>\n",
       "    </tr>\n",
       "    <tr>\n",
       "      <th>8</th>\n",
       "      <td>8</td>\n",
       "      <td>0.0</td>\n",
       "      <td>1003.890533</td>\n",
       "      <td>-0.190053</td>\n",
       "    </tr>\n",
       "    <tr>\n",
       "      <th>9</th>\n",
       "      <td>9</td>\n",
       "      <td>0.0</td>\n",
       "      <td>1004.047347</td>\n",
       "      <td>0.150537</td>\n",
       "    </tr>\n",
       "  </tbody>\n",
       "</table>\n",
       "</div>"
      ],
      "text/plain": [
       "   ID  SEASONAL        TREND    RANDOM\n",
       "0   0       0.0  1002.636025 -0.456698\n",
       "1   1       0.0  1002.792839  0.067509\n",
       "2   2       0.0  1002.949652 -0.633545\n",
       "3   3       0.0  1003.106466 -1.061459\n",
       "4   4       0.0  1003.263279 -2.240881\n",
       "5   5       0.0  1003.420093 -0.984248\n",
       "6   6       0.0  1003.576906 -2.191312\n",
       "7   7       0.0  1003.733720  0.131751\n",
       "8   8       0.0  1003.890533 -0.190053\n",
       "9   9       0.0  1004.047347  0.150537"
      ]
     },
     "execution_count": 27,
     "metadata": {},
     "output_type": "execute_result"
    }
   ],
   "source": [
    "components.head(10).collect()"
   ]
  },
  {
   "cell_type": "code",
   "execution_count": null,
   "metadata": {},
   "outputs": [],
   "source": []
  }
 ],
 "metadata": {
  "kernelspec": {
   "display_name": "Python 3",
   "language": "python",
   "name": "python3"
  },
  "language_info": {
   "codemirror_mode": {
    "name": "ipython",
    "version": 3
   },
   "file_extension": ".py",
   "mimetype": "text/x-python",
   "name": "python",
   "nbconvert_exporter": "python",
   "pygments_lexer": "ipython3",
   "version": "3.6.5"
  }
 },
 "nbformat": 4,
 "nbformat_minor": 4
}

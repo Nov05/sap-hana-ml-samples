{
 "cells": [
  {
   "cell_type": "markdown",
   "source": [
    "## End-to-End Scenario: Scenario Survival Analysis\n",
    "Author: TI HA DB ML China - SAP HANA PAL Team\n",
    "\n",
    "Date: 2020/06/18\n",
    "\n",
    "In clinical trials or community trials, the effect of an intervention is assessed by measuring the number of subjects who have survived or are saved after that intervention over a period of time. We wish to measure the survival probability of Dukes’C colorectal cancer patients after treatment and evaluate statistically whether the patients who accept treatment can survive longer than those who are only controlled conservatively.\n"
   ],
   "metadata": {}
  },
  {
   "cell_type": "markdown",
   "source": [
    "## 1.  Setup the Connection to SAP HANA\n",
    "First, create a connetion to SAP HANA. To create a such connection, a config file, config/e2edata.ini is used to control the connection parameters.A sample section in the config file is shown below which includes HANA url, port, user and password information.<br>\n",
    "\n",
    "###################<br>\n",
    "[hana]<br>\n",
    "url=host-url<br>\n",
    "user=username<br>\n",
    "passwd=userpassword<br>\n",
    "port=3xx15<br>\n",
    "###################<br>"
   ],
   "metadata": {}
  },
  {
   "cell_type": "code",
   "execution_count": null,
   "source": [
    "from hana_ml.dataframe import ConnectionContext\r\n",
    "from hana_ml.algorithms.pal.utility import Settings\r\n",
    "url, port, user, pwd = Settings.load_config(\"../../../config/e2edata.ini\")\r\n",
    "connection_context = ConnectionContext(url, port, user, pwd)"
   ],
   "outputs": [],
   "metadata": {}
  },
  {
   "cell_type": "markdown",
   "source": [
    "Connection status:"
   ],
   "metadata": {}
  },
  {
   "cell_type": "code",
   "execution_count": null,
   "source": [
    "print(connection_context.connection.isconnected())"
   ],
   "outputs": [],
   "metadata": {}
  },
  {
   "cell_type": "markdown",
   "source": [
    "##  2. Dataset\n",
    "This scenarios describes a clinical trial of 49 patients for the treatment of Dukes’C colorectal cancer. The following data shows the survival time in 49 patients with Dukes’C colorectal cancer who are randomly assigned to either linoleic acid or control treatment.\n",
    "\n",
    "![](patient.png)\n",
    "\n",
    "The + sign indicates censored data. Until 6 months after treatment, there are no deaths. The effect of the censoring is to remove from the alive group those that are censored. At time 6 months two subjects have been censored so the number alive just before 6 months is 23. There are two deaths at 6 months. Thus,\n",
    "\n",
    "We now reduce the number alive (“at risk”) by two. The censored event at 9 months reduces the “at risk” set to 20. At 10 months there are two deaths. So the proportion surviving is 18/20 = 0.9, and the cumulative proportion surviving is 0.913*0.90 = 0.8217.\n",
    "\n",
    "## 3. Implementation Steps\n",
    "\n",
    "### Option 1: Kaplan-Meier Estimate\n",
    "**Technology Background**\n",
    "\n",
    "Kaplan-Meier estimate is one of the simplest way to measure the fraction of subjects living for a certain amount of time after treatment. The time starting from a defined point to the occurrence of a given event, for example death, is called as survival time.\n",
    "\n",
    "**Step 1**\n",
    "\n",
    "The trial data can then be loaded into table as follows:\n"
   ],
   "metadata": {}
  },
  {
   "cell_type": "code",
   "execution_count": null,
   "source": [
    "import pandas as pd\r\n",
    "from hana_ml.dataframe import create_dataframe_from_pandas\r\n",
    "\r\n",
    "data = {'TIME':  [1,5,6,6,9,10,10,10,12,12,13,15,16,20,24,24,27,32,34,36,44,3,6,8,12,12,15,16,18,20,22,24,28,30,30,33,42],\r\n",
    "        'STATUS': [0,0,1,1,0,1,1,0,1,0,0,0,0,0,1,0,0,1,0,0,0,0,1,1,1,0,0,0,0,1,0,1,0,0,1,0,1],\r\n",
    "        'OCCURRENCES': [1,1,1,1,1,1,1,1,4,1,1,1,1,1,1,1,1,1,1,2,1,1,4,2,2,1,1,1,2,1,1,1,3,1,1,1,1],\r\n",
    "        'GROUP': [\"linoleic acid\",\"linoleic acid\",\"linoleic acid\",\"linoleic acid\",\"linoleic acid\",\"linoleic acid\",\r\n",
    "                  \"linoleic acid\",\"linoleic acid\",\"linoleic acid\",\"linoleic acid\",\"linoleic acid\",\"linoleic acid\",\r\n",
    "                  \"linoleic acid\",\"linoleic acid\",\"linoleic acid\",\"linoleic acid\",\"linoleic acid\",\"linoleic acid\",\r\n",
    "                  \"linoleic acid\",\"linoleic acid\",\"linoleic acid\",\"control\",\"control\",\"control\",\"control\",\"control\",\r\n",
    "                  \"control\",\"control\",\"control\",\"control\",\"control\",\"control\",\"control\",\"control\",\"control\",\"control\",\r\n",
    "                  \"control\"] }\r\n",
    "\r\n",
    "trial = pd.DataFrame (data, columns = ['TIME','STATUS','OCCURRENCES', 'GROUP'])\r\n",
    "trial_df = create_dataframe_from_pandas(connection_context, pandas_df=trial, \r\n",
    "                                        table_name='PAL_TRIAL_DATA_TBL', force=True, replace=True)\r\n",
    "trial_df.head(5).collect()\r\n"
   ],
   "outputs": [],
   "metadata": {}
  },
  {
   "cell_type": "markdown",
   "source": [
    "**Step 2**\n",
    "\n",
    "Input customer data and use the Kaplan-Meier function to get the survival estimates and log-rank test statistics.\n",
    "\n",
    "To compare survival estimates produced from two groups, we use log-rank test. \n",
    "It is a hypothesis test to compare the survival distribution of two groups (some of the observations may be censored) \n",
    "and is used to test the null hypothesis that there is no difference between the populations (treatment group and control group)\n",
    "in the probability of an event (here a death) at any time point. The methods are nonparametric in \n",
    "that they do not make assumptions about the distributions of survival estimates. \n",
    "The analysis is based on the times of events (here deaths). For each such time \n",
    "we calculate the observed number of deaths in each group and the number expected \n",
    "if there were in reality no difference between the groups. It is widely used in clinical trials \n",
    "to establish the efficacy of a new treatment in comparison with a control treatment when the measurement \n",
    "is the time to event (such as the time from initial treatment to death).\n",
    "\n",
    "Because the log-rank test is purely a test of significance, it cannot provide an estimate of the size of the difference between the groups.\n",
    "\n"
   ],
   "metadata": {}
  },
  {
   "cell_type": "code",
   "execution_count": null,
   "source": [
    "from hana_ml.algorithms.pal.stats import kaplan_meier_survival_analysis\n",
    "result = kaplan_meier_survival_analysis(trial_df)\n",
    "print(result[0].collect())"
   ],
   "outputs": [],
   "metadata": {}
  },
  {
   "cell_type": "code",
   "execution_count": null,
   "source": [
    "print(result[1].collect())"
   ],
   "outputs": [],
   "metadata": {}
  },
  {
   "cell_type": "code",
   "execution_count": null,
   "source": [
    "print(result[2].collect())"
   ],
   "outputs": [],
   "metadata": {}
  },
  {
   "cell_type": "markdown",
   "source": [
    "###  Option 2: Weibull Distribution\n",
    "**Technology Background**\n",
    "\n",
    "Weibull distribution is often used for reliability and survival analysis. It is defined by 3 parameters: shape, scale, and location. Scale works as key to magnify or shrink the curve. Shape is the crucial factor to define how the curve looks like, as described below:\n",
    "\n",
    " - Shape = 1: The failure rate is constant over time, indicating random failure.\n",
    " \n",
    " - Shape < 1: The failure rate decreases over time.\n",
    " \n",
    " - Shape > 1: The failure rate increases over time.\n",
    "\n",
    "**Step 1**\n",
    "\n",
    "Get Weibull distribution and statistics from the linoleic acid treatment data:"
   ],
   "metadata": {}
  },
  {
   "cell_type": "code",
   "execution_count": null,
   "source": [
    "cursor = connection_context.connection.cursor()\n",
    "try:\n",
    "     cursor.execute(\"DROP TABLE PAL_LINO_ACID_TBL\")\n",
    "except:\n",
    "     pass\n",
    "\n",
    "cursor.execute('CREATE COLUMN TABLE PAL_LINO_ACID_TBL (\\\"LEFT\\\" DOUBLE, \\\"RIGHT\\\" DOUBLE);')\n",
    "values = [(1,None),\n",
    "          (5,None),\n",
    "          (6,6),\n",
    "          (6,6),\n",
    "          (9,None),\n",
    "          (10,10),\n",
    "          (10,10),\n",
    "          (10,None),\n",
    "          (12,12),\n",
    "          (12,12),\n",
    "          (12,12),\n",
    "          (12,12),\n",
    "          (12,None),\n",
    "          (13,None),\n",
    "          (15,None),\n",
    "          (16,None),\n",
    "          (20,None),\n",
    "          (24,24),\n",
    "          (24,None),\n",
    "          (27,None),\n",
    "          (32,32),\n",
    "          (34,None),\n",
    "          (36,None),\n",
    "          (36,None),\n",
    "          (44,None)]\n",
    "try:\n",
    "    cursor.executemany(\"INSERT INTO \" +\n",
    "                       \"{} VALUES ({})\".format('PAL_LINO_ACID_TBL',\n",
    "                       ', '.join(['?']*len(values[0]))), values)\n",
    "    connection_context.connection.commit()\n",
    "finally:\n",
    "    cursor.close()\n",
    "linoleic_acid_df = connection_context.table(\"PAL_LINO_ACID_TBL\")\n",
    "\n",
    "print(linoleic_acid_df.head(5).collect())"
   ],
   "outputs": [],
   "metadata": {}
  },
  {
   "cell_type": "markdown",
   "source": [
    "Call Weibull Distribution function and show the results:"
   ],
   "metadata": {}
  },
  {
   "cell_type": "code",
   "execution_count": null,
   "source": [
    "from hana_ml.algorithms.pal.stats import distribution_fit\n",
    "result = distribution_fit(linoleic_acid_df, distr_type = \"weibull\", optimal_method = \"maximum_likelihood\", censored=True)\n",
    "print(result[0].collect())"
   ],
   "outputs": [],
   "metadata": {}
  },
  {
   "cell_type": "code",
   "execution_count": null,
   "source": [
    "print(result[1].collect())"
   ],
   "outputs": [],
   "metadata": {}
  },
  {
   "cell_type": "markdown",
   "source": [
    "**Step 2**\n",
    "\n",
    "Get Weibull distribution and statistics from the control treatment data:"
   ],
   "metadata": {}
  },
  {
   "cell_type": "code",
   "execution_count": null,
   "source": [
    "cursor = connection_context.connection.cursor()\n",
    "try:\n",
    "    cursor.execute(\"DROP TABLE PAL_CONTROL_TBL\")\n",
    "except:\n",
    "    pass\n",
    "cursor.execute('CREATE COLUMN TABLE PAL_CONTROL_TBL (\\\"LEFT\\\" DOUBLE, \\\"RIGHT\\\" DOUBLE);')\n",
    "values = [(3,None),\n",
    "          (6,6),\n",
    "          (6,6),\n",
    "          (6,6),\n",
    "          (6,6),\n",
    "          (8,8),\n",
    "          (8,8),\n",
    "          (12,12),\n",
    "          (12,12),\n",
    "          (12,None),\n",
    "          (15,None),\n",
    "          (16,None),\n",
    "          (18,None),\n",
    "          (18,None),\n",
    "          (20,20),\n",
    "          (22,None),\n",
    "          (24,24),\n",
    "          (28,None),\n",
    "          (28,None),\n",
    "          (28,None),\n",
    "          (30,30),\n",
    "          (30,None),\n",
    "          (33,None),\n",
    "          (42,42)]\n",
    "try:\n",
    "    cursor.executemany(\"INSERT INTO \" +\n",
    "                       \"{} VALUES ({})\".format('PAL_CONTROL_TBL',\n",
    "                       ', '.join(['?']*len(values[0]))), values)\n",
    "    connection_context.connection.commit()\n",
    "finally:\n",
    "    cursor.close()\n",
    "control_df = connection_context.table(\"PAL_CONTROL_TBL\")\n",
    "\n",
    "print(control_df.head(5).collect())"
   ],
   "outputs": [],
   "metadata": {}
  },
  {
   "cell_type": "code",
   "execution_count": null,
   "source": [
    "result = distribution_fit(control_df, distr_type = \"weibull\", optimal_method = \"maximum_likelihood\", censored=True)\n",
    "print(result[0].collect())"
   ],
   "outputs": [],
   "metadata": {}
  },
  {
   "cell_type": "code",
   "execution_count": null,
   "source": [
    "print(result[1].collect())"
   ],
   "outputs": [],
   "metadata": {}
  },
  {
   "cell_type": "markdown",
   "source": [
    "**Step 3**\n",
    "\n",
    "Get the CDF (cumulative distribution function) of Weibull distribution for the linoleic acid treatment data:"
   ],
   "metadata": {}
  },
  {
   "cell_type": "code",
   "execution_count": null,
   "source": [
    "cursor = connection_context.connection.cursor()\n",
    "try:\n",
    "    cursor.execute(\"DROP TABLE PAL_DISTRPROB_DATA_TBL\")\n",
    "except:\n",
    "    pass\n",
    "cursor.execute('CREATE COLUMN TABLE PAL_DISTRPROB_DATA_TBL (\\\"DATACOL\\\" DOUBLE);')\n",
    "values = [(6,),(8,),(12,),(20,),(24,),(30,),(42,)]\n",
    "try:\n",
    "    cursor.executemany(\"INSERT INTO \" +\n",
    "                       \"{} VALUES ({})\".format('PAL_DISTRPROB_DATA_TBL',\n",
    "                       ', '.join(['?']*len(values[0]))), values)\n",
    "    connection_context.connection.commit()\n",
    "finally:\n",
    "    cursor.close()\n",
    "distri_prob_df = connection_context.table(\"PAL_DISTRPROB_DATA_TBL\")\n",
    "\n",
    "print(distri_prob_df.collect())"
   ],
   "outputs": [],
   "metadata": {}
  },
  {
   "cell_type": "markdown",
   "source": [
    "Invoke CDF and show the result:"
   ],
   "metadata": {}
  },
  {
   "cell_type": "code",
   "execution_count": null,
   "source": [
    "from hana_ml.algorithms.pal.stats import cdf\n",
    "distr_info = {'name' : 'weibull', 'shape' : 1.40528, 'scale': 36.3069}\n",
    "result = cdf(distri_prob_df, distr_info, complementary=False)\n",
    "print(result.collect())"
   ],
   "outputs": [],
   "metadata": {}
  },
  {
   "cell_type": "markdown",
   "source": [
    "**Step 4**\n",
    "\n",
    "Get the CDF (cumulative distribution function) of Weibull distribution for the control treatment data:"
   ],
   "metadata": {}
  },
  {
   "cell_type": "code",
   "execution_count": null,
   "source": [
    "cursor = connection_context.connection.cursor()\n",
    "try:\n",
    "    cursor.execute(\"DROP TABLE PAL_DISTRPROB_DATA_TBL\")\n",
    "except:\n",
    "    pass\n",
    "cursor.execute('CREATE COLUMN TABLE PAL_DISTRPROB_DATA_TBL (\\\"DATACOL\\\" DOUBLE);')\n",
    "values = [(6,),(10,),(12,),(24,),(32,)]\n",
    "try:\n",
    "    cursor.executemany(\"INSERT INTO \" +\n",
    "                       \"{} VALUES ({})\".format('PAL_DISTRPROB_DATA_TBL',\n",
    "                       ', '.join(['?']*len(values[0]))), values)\n",
    "    connection_context.connection.commit()\n",
    "finally:\n",
    "    cursor.close()\n",
    "distri_prob_df = connection_context.table(\"PAL_DISTRPROB_DATA_TBL\")\n",
    "\n",
    "print(distri_prob_df.collect())"
   ],
   "outputs": [],
   "metadata": {}
  },
  {
   "cell_type": "markdown",
   "source": [
    "Invoke CDF and show the result:"
   ],
   "metadata": {}
  },
  {
   "cell_type": "code",
   "execution_count": null,
   "source": [
    "distr_info = {'name' : 'weibull', 'shape' :  1.71902, 'scale': 20.444}\n",
    "result = cdf(distri_prob_df, distr_info, complementary=False)\n",
    "print(result.collect())"
   ],
   "outputs": [],
   "metadata": {}
  },
  {
   "cell_type": "markdown",
   "source": [
    "## Drop Tables and Close HANA Connection"
   ],
   "metadata": {}
  },
  {
   "cell_type": "code",
   "execution_count": null,
   "source": [
    "cursor = connection_context.connection.cursor()\n",
    "try:\n",
    "    cursor.execute(\"DROP TABLE PAL_TRIAL_DATA_TBL\")\n",
    "    cursor.execute(\"DROP TABLE PAL_DISTRPROB_DATA_TBL\")\n",
    "    cursor.execute(\"DROP TABLE PAL_LINO_ACID_TBL\")\n",
    "    cursor.execute(\"DROP TABLE PAL_CONTROL_TBL\")\n",
    "except:\n",
    "    pass\n",
    "connection_context.close()"
   ],
   "outputs": [],
   "metadata": {}
  }
 ],
 "metadata": {
  "kernelspec": {
   "display_name": "Python 3",
   "language": "python",
   "name": "python3"
  },
  "language_info": {
   "codemirror_mode": {
    "name": "ipython",
    "version": 3
   },
   "file_extension": ".py",
   "mimetype": "text/x-python",
   "name": "python",
   "nbconvert_exporter": "python",
   "pygments_lexer": "ipython3",
   "version": "3.7.6"
  }
 },
 "nbformat": 4,
 "nbformat_minor": 4
}
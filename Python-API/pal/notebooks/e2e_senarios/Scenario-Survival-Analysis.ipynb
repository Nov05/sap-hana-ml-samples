{
 "cells": [
  {
   "cell_type": "markdown",
   "metadata": {},
   "source": [
    "## End-to-End Scenario: Scenario Survival Analysis\n",
    "Author: TI HA DB ML China - SAP HANA PAL Team\n",
    "\n",
    "Date: 2020/06/18\n",
    "\n",
    "In clinical trials or community trials, the effect of an intervention is assessed by measuring the number of subjects who have survived or are saved after that intervention over a period of time. We wish to measure the survival probability of Dukes’C colorectal cancer patients after treatment and evaluate statistically whether the patients who accept treatment can survive longer than those who are only controlled conservatively.\n"
   ]
  },
  {
   "cell_type": "markdown",
   "metadata": {},
   "source": [
    "## 1.  Setup the Connection to SAP HANA\n",
    "First, create a connetion to SAP HANA. To create a such connection, a config file, config/e2edata.ini is used to control the connection parameters.A sample section in the config file is shown below which includes HANA url, port, user and password information.<br>\n",
    "\n",
    "###################<br>\n",
    "[hana]<br>\n",
    "url=host-url<br>\n",
    "user=username<br>\n",
    "passwd=userpassword<br>\n",
    "port=3xx15<br>\n",
    "###################<br>"
   ]
  },
  {
   "cell_type": "code",
   "execution_count": 1,
   "metadata": {},
   "outputs": [],
   "source": [
    "from hana_ml.dataframe import ConnectionContext\n",
    "from data_load_utils import DataSets, Settings\n",
    "url, port, user, pwd = Settings.load_config(\"../../../config/e2edata.ini\")\n",
    "connection_context = ConnectionContext(url, port, user, pwd)"
   ]
  },
  {
   "cell_type": "markdown",
   "metadata": {},
   "source": [
    "Connection status:"
   ]
  },
  {
   "cell_type": "code",
   "execution_count": 2,
   "metadata": {},
   "outputs": [
    {
     "name": "stdout",
     "output_type": "stream",
     "text": [
      "True\n"
     ]
    }
   ],
   "source": [
    "print(connection_context.connection.isconnected())"
   ]
  },
  {
   "cell_type": "markdown",
   "metadata": {},
   "source": [
    "##  2. Dataset\n",
    "This scenarios describes a clinical trial of 49 patients for the treatment of Dukes’C colorectal cancer. The following data shows the survival time in 49 patients with Dukes’C colorectal cancer who are randomly assigned to either linoleic acid or control treatment.\n",
    "\n",
    "![](patient.png)\n",
    "\n",
    "The + sign indicates censored data. Until 6 months after treatment, there are no deaths. The effect of the censoring is to remove from the alive group those that are censored. At time 6 months two subjects have been censored so the number alive just before 6 months is 23. There are two deaths at 6 months. Thus,\n",
    "\n",
    "We now reduce the number alive (“at risk”) by two. The censored event at 9 months reduces the “at risk” set to 20. At 10 months there are two deaths. So the proportion surviving is 18/20 = 0.9, and the cumulative proportion surviving is 0.913*0.90 = 0.8217.\n",
    "\n",
    "## 3. Implementation Steps\n",
    "\n",
    "### Option 1: Kaplan-Meier Estimate\n",
    "**Technology Background**\n",
    "\n",
    "Kaplan-Meier estimate is one of the simplest way to measure the fraction of subjects living for a certain amount of time after treatment. The time starting from a defined point to the occurrence of a given event, for example death, is called as survival time.\n",
    "\n",
    "**Step 1**\n",
    "\n",
    "The trial data can then be loaded into table as follows:\n"
   ]
  },
  {
   "cell_type": "code",
   "execution_count": 3,
   "metadata": {},
   "outputs": [
    {
     "data": {
      "text/html": [
       "<div>\n",
       "<style scoped>\n",
       "    .dataframe tbody tr th:only-of-type {\n",
       "        vertical-align: middle;\n",
       "    }\n",
       "\n",
       "    .dataframe tbody tr th {\n",
       "        vertical-align: top;\n",
       "    }\n",
       "\n",
       "    .dataframe thead th {\n",
       "        text-align: right;\n",
       "    }\n",
       "</style>\n",
       "<table border=\"1\" class=\"dataframe\">\n",
       "  <thead>\n",
       "    <tr style=\"text-align: right;\">\n",
       "      <th></th>\n",
       "      <th>TIME</th>\n",
       "      <th>STATUS</th>\n",
       "      <th>OCCURRENCES</th>\n",
       "      <th>GROUP</th>\n",
       "    </tr>\n",
       "  </thead>\n",
       "  <tbody>\n",
       "    <tr>\n",
       "      <th>0</th>\n",
       "      <td>1</td>\n",
       "      <td>0</td>\n",
       "      <td>1</td>\n",
       "      <td>linoleic acid</td>\n",
       "    </tr>\n",
       "    <tr>\n",
       "      <th>1</th>\n",
       "      <td>5</td>\n",
       "      <td>0</td>\n",
       "      <td>1</td>\n",
       "      <td>linoleic acid</td>\n",
       "    </tr>\n",
       "    <tr>\n",
       "      <th>2</th>\n",
       "      <td>6</td>\n",
       "      <td>1</td>\n",
       "      <td>1</td>\n",
       "      <td>linoleic acid</td>\n",
       "    </tr>\n",
       "    <tr>\n",
       "      <th>3</th>\n",
       "      <td>6</td>\n",
       "      <td>1</td>\n",
       "      <td>1</td>\n",
       "      <td>linoleic acid</td>\n",
       "    </tr>\n",
       "    <tr>\n",
       "      <th>4</th>\n",
       "      <td>9</td>\n",
       "      <td>0</td>\n",
       "      <td>1</td>\n",
       "      <td>linoleic acid</td>\n",
       "    </tr>\n",
       "  </tbody>\n",
       "</table>\n",
       "</div>"
      ],
      "text/plain": [
       "   TIME  STATUS  OCCURRENCES          GROUP\n",
       "0     1       0            1  linoleic acid\n",
       "1     5       0            1  linoleic acid\n",
       "2     6       1            1  linoleic acid\n",
       "3     6       1            1  linoleic acid\n",
       "4     9       0            1  linoleic acid"
      ]
     },
     "execution_count": 3,
     "metadata": {},
     "output_type": "execute_result"
    }
   ],
   "source": [
    "import pandas as pd\n",
    "from hana_ml.dataframe import create_dataframe_from_pandas\n",
    "\n",
    "data = {'TIME':  [1,5,6,6,9,10,10,10,12,12,13,15,16,20,24,24,27,32,34,36,44,3,6,8,12,12,15,16,18,20,22,24,28,30,30,33,42],\n",
    "        'STATUS': [0,0,1,1,0,1,1,0,1,0,0,0,0,0,1,0,0,1,0,0,0,0,1,1,1,0,0,0,0,1,0,1,0,0,1,0,1],\n",
    "        'OCCURRENCES': [1,1,1,1,1,1,1,1,4,1,1,1,1,1,1,1,1,1,1,2,1,1,4,2,2,1,1,1,2,1,1,1,3,1,1,1,1],\n",
    "        'GROUP': [\"linoleic acid\",\"linoleic acid\",\"linoleic acid\",\"linoleic acid\",\"linoleic acid\",\"linoleic acid\",\n",
    "                  \"linoleic acid\",\"linoleic acid\",\"linoleic acid\",\"linoleic acid\",\"linoleic acid\",\"linoleic acid\",\n",
    "                  \"linoleic acid\",\"linoleic acid\",\"linoleic acid\",\"linoleic acid\",\"linoleic acid\",\"linoleic acid\",\n",
    "                  \"linoleic acid\",\"linoleic acid\",\"linoleic acid\",\"control\",\"control\",\"control\",\"control\",\"control\",\n",
    "                  \"control\",\"control\",\"control\",\"control\",\"control\",\"control\",\"control\",\"control\",\"control\",\"control\",\n",
    "                  \"control\"] }\n",
    "\n",
    "trial = pd.DataFrame (data, columns = ['TIME','STATUS','OCCURRENCES', 'GROUP'])\n",
    "trial_df = create_dataframe_from_pandas(connection_context, pandas_df=trial, \n",
    "                                        table_name='PAL_TRIAL_DATA_TBL', force=True, replace=True)\n",
    "trial_df.head(5).collect()\n"
   ]
  },
  {
   "cell_type": "markdown",
   "metadata": {},
   "source": [
    "**Step 2**\n",
    "\n",
    "Input customer data and use the Kaplan-Meier function to get the survival estimates and log-rank test statistics.\n",
    "\n",
    "To compare survival estimates produced from two groups, we use log-rank test. \n",
    "It is a hypothesis test to compare the survival distribution of two groups (some of the observations may be censored) \n",
    "and is used to test the null hypothesis that there is no difference between the populations (treatment group and control group)\n",
    "in the probability of an event (here a death) at any time point. The methods are nonparametric in \n",
    "that they do not make assumptions about the distributions of survival estimates. \n",
    "The analysis is based on the times of events (here deaths). For each such time \n",
    "we calculate the observed number of deaths in each group and the number expected \n",
    "if there were in reality no difference between the groups. It is widely used in clinical trials \n",
    "to establish the efficacy of a new treatment in comparison with a control treatment when the measurement \n",
    "is the time to event (such as the time from initial treatment to death).\n",
    "\n",
    "Because the log-rank test is purely a test of significance, it cannot provide an estimate of the size of the difference between the groups.\n",
    "\n"
   ]
  },
  {
   "cell_type": "code",
   "execution_count": 4,
   "metadata": {},
   "outputs": [
    {
     "name": "stdout",
     "output_type": "stream",
     "text": [
      "            GROUP  TIME  RISK_NUMBER  EVENT_NUMBER  PROBABILITY        SE  \\\n",
      "0         control   6.0           23             4     0.826087  0.079034   \n",
      "1         control   8.0           19             2     0.739130  0.091561   \n",
      "2         control  12.0           17             2     0.652174  0.099311   \n",
      "3         control  20.0           10             1     0.586957  0.108705   \n",
      "4         control  24.0            8             1     0.513587  0.117292   \n",
      "5         control  30.0            4             1     0.385190  0.141785   \n",
      "6         control  42.0            1             1     0.000000       NaN   \n",
      "7   linoleic acid   6.0           23             2     0.913043  0.058753   \n",
      "8   linoleic acid  10.0           20             2     0.821739  0.080917   \n",
      "9   linoleic acid  12.0           17             4     0.628389  0.104766   \n",
      "10  linoleic acid  24.0            8             1     0.549840  0.117482   \n",
      "11  linoleic acid  32.0            5             1     0.439872  0.136043   \n",
      "\n",
      "    CI_LOWER  CI_UPPER  \n",
      "0   0.600610  0.930904  \n",
      "1   0.509209  0.873376  \n",
      "2   0.423479  0.808450  \n",
      "3   0.348877  0.763698  \n",
      "4   0.271318  0.711505  \n",
      "5   0.131041  0.638998  \n",
      "6        NaN       NaN  \n",
      "7   0.694948  0.977516  \n",
      "8   0.591734  0.929170  \n",
      "9   0.391133  0.794579  \n",
      "10  0.299795  0.743060  \n",
      "11  0.179415  0.675307  \n"
     ]
    }
   ],
   "source": [
    "from hana_ml.algorithms.pal.stats import kaplan_meier_survival_analysis\n",
    "result = kaplan_meier_survival_analysis(trial_df)\n",
    "print(result[0].collect())"
   ]
  },
  {
   "cell_type": "code",
   "execution_count": 5,
   "metadata": {},
   "outputs": [
    {
     "name": "stdout",
     "output_type": "stream",
     "text": [
      "           GROUP  TOTAL_RISK  OBSERVED   EXPECTED  LOGRANK_STAT\n",
      "0        control          24        12  10.714679      0.328949\n",
      "1  linoleic acid          25        10  11.285321      0.328949\n"
     ]
    }
   ],
   "source": [
    "print(result[1].collect())"
   ]
  },
  {
   "cell_type": "code",
   "execution_count": 6,
   "metadata": {},
   "outputs": [
    {
     "name": "stdout",
     "output_type": "stream",
     "text": [
      "  STAT_NAME  STAT_VALUE\n",
      "0    chiSqr    0.328949\n",
      "1        df    1.000000\n",
      "2   p-value    0.566278\n"
     ]
    }
   ],
   "source": [
    "print(result[2].collect())"
   ]
  },
  {
   "cell_type": "markdown",
   "metadata": {},
   "source": [
    "###  Option 2: Weibull Distribution\n",
    "**Technology Background**\n",
    "\n",
    "Weibull distribution is often used for reliability and survival analysis. It is defined by 3 parameters: shape, scale, and location. Scale works as key to magnify or shrink the curve. Shape is the crucial factor to define how the curve looks like, as described below:\n",
    "\n",
    " - Shape = 1: The failure rate is constant over time, indicating random failure.\n",
    " \n",
    " - Shape < 1: The failure rate decreases over time.\n",
    " \n",
    " - Shape > 1: The failure rate increases over time.\n",
    "\n",
    "**Step 1**\n",
    "\n",
    "Get Weibull distribution and statistics from the linoleic acid treatment data:"
   ]
  },
  {
   "cell_type": "code",
   "execution_count": 7,
   "metadata": {},
   "outputs": [
    {
     "name": "stdout",
     "output_type": "stream",
     "text": [
      "   LEFT  RIGHT\n",
      "0   1.0    NaN\n",
      "1   5.0    NaN\n",
      "2   6.0    6.0\n",
      "3   6.0    6.0\n",
      "4   9.0    NaN\n"
     ]
    }
   ],
   "source": [
    "cursor = connection_context.connection.cursor()\n",
    "try:\n",
    "     cursor.execute(\"DROP TABLE PAL_LINO_ACID_TBL\")\n",
    "except:\n",
    "     pass\n",
    "\n",
    "cursor.execute('CREATE COLUMN TABLE PAL_LINO_ACID_TBL (\\\"LEFT\\\" DOUBLE, \\\"RIGHT\\\" DOUBLE);')\n",
    "values = [(1,None),\n",
    "          (5,None),\n",
    "          (6,6),\n",
    "          (6,6),\n",
    "          (9,None),\n",
    "          (10,10),\n",
    "          (10,10),\n",
    "          (10,None),\n",
    "          (12,12),\n",
    "          (12,12),\n",
    "          (12,12),\n",
    "          (12,12),\n",
    "          (12,None),\n",
    "          (13,None),\n",
    "          (15,None),\n",
    "          (16,None),\n",
    "          (20,None),\n",
    "          (24,24),\n",
    "          (24,None),\n",
    "          (27,None),\n",
    "          (32,32),\n",
    "          (34,None),\n",
    "          (36,None),\n",
    "          (36,None),\n",
    "          (44,None)]\n",
    "try:\n",
    "    cursor.executemany(\"INSERT INTO \" +\n",
    "                       \"{} VALUES ({})\".format('PAL_LINO_ACID_TBL',\n",
    "                       ', '.join(['?']*len(values[0]))), values)\n",
    "    connection_context.connection.commit()\n",
    "finally:\n",
    "    cursor.close()\n",
    "linoleic_acid_df = connection_context.table(\"PAL_LINO_ACID_TBL\")\n",
    "\n",
    "print(linoleic_acid_df.head(5).collect())"
   ]
  },
  {
   "cell_type": "markdown",
   "metadata": {},
   "source": [
    "Call Weibull Distribution function and show the results:"
   ]
  },
  {
   "cell_type": "code",
   "execution_count": 8,
   "metadata": {},
   "outputs": [
    {
     "name": "stdout",
     "output_type": "stream",
     "text": [
      "               NAME    VALUE\n",
      "0  DISTRIBUTIONNAME  WEIBULL\n",
      "1             SCALE  36.3069\n",
      "2             SHAPE  1.40528\n"
     ]
    }
   ],
   "source": [
    "from hana_ml.algorithms.pal.stats import distribution_fit\n",
    "result = distribution_fit(linoleic_acid_df, distr_type = \"weibull\", optimal_method = \"maximum_likelihood\", censored=True)\n",
    "print(result[0].collect())"
   ]
  },
  {
   "cell_type": "code",
   "execution_count": 9,
   "metadata": {},
   "outputs": [
    {
     "name": "stdout",
     "output_type": "stream",
     "text": [
      "       STAT_NAME  STAT_VALUE\n",
      "0  LOGLIKELIHOOD  -47.035827\n"
     ]
    }
   ],
   "source": [
    "print(result[1].collect())"
   ]
  },
  {
   "cell_type": "markdown",
   "metadata": {},
   "source": [
    "**Step 2**\n",
    "\n",
    "Get Weibull distribution and statistics from the control treatment data:"
   ]
  },
  {
   "cell_type": "code",
   "execution_count": 10,
   "metadata": {},
   "outputs": [
    {
     "name": "stdout",
     "output_type": "stream",
     "text": [
      "   LEFT  RIGHT\n",
      "0   3.0    NaN\n",
      "1   6.0    6.0\n",
      "2   6.0    6.0\n",
      "3   6.0    6.0\n",
      "4   6.0    6.0\n"
     ]
    }
   ],
   "source": [
    "cursor = connection_context.connection.cursor()\n",
    "try:\n",
    "    cursor.execute(\"DROP TABLE PAL_CONTROL_TBL\")\n",
    "except:\n",
    "    pass\n",
    "cursor.execute('CREATE COLUMN TABLE PAL_CONTROL_TBL (\\\"LEFT\\\" DOUBLE, \\\"RIGHT\\\" DOUBLE);')\n",
    "values = [(3,None),\n",
    "          (6,6),\n",
    "          (6,6),\n",
    "          (6,6),\n",
    "          (6,6),\n",
    "          (8,8),\n",
    "          (8,8),\n",
    "          (12,12),\n",
    "          (12,12),\n",
    "          (12,None),\n",
    "          (15,None),\n",
    "          (16,None),\n",
    "          (18,None),\n",
    "          (18,None),\n",
    "          (20,20),\n",
    "          (22,None),\n",
    "          (24,24),\n",
    "          (28,None),\n",
    "          (28,None),\n",
    "          (28,None),\n",
    "          (30,30),\n",
    "          (30,None),\n",
    "          (33,None),\n",
    "          (42,42)]\n",
    "try:\n",
    "    cursor.executemany(\"INSERT INTO \" +\n",
    "                       \"{} VALUES ({})\".format('PAL_CONTROL_TBL',\n",
    "                       ', '.join(['?']*len(values[0]))), values)\n",
    "    connection_context.connection.commit()\n",
    "finally:\n",
    "    cursor.close()\n",
    "control_df = connection_context.table(\"PAL_CONTROL_TBL\")\n",
    "\n",
    "print(control_df.head(5).collect())"
   ]
  },
  {
   "cell_type": "code",
   "execution_count": 11,
   "metadata": {},
   "outputs": [
    {
     "name": "stdout",
     "output_type": "stream",
     "text": [
      "               NAME    VALUE\n",
      "0  DISTRIBUTIONNAME  WEIBULL\n",
      "1             SCALE  31.2021\n",
      "2             SHAPE  1.43217\n"
     ]
    }
   ],
   "source": [
    "result = distribution_fit(control_df, distr_type = \"weibull\", optimal_method = \"maximum_likelihood\", censored=True)\n",
    "print(result[0].collect())"
   ]
  },
  {
   "cell_type": "code",
   "execution_count": 12,
   "metadata": {},
   "outputs": [
    {
     "name": "stdout",
     "output_type": "stream",
     "text": [
      "       STAT_NAME  STAT_VALUE\n",
      "0  LOGLIKELIHOOD  -54.022223\n"
     ]
    }
   ],
   "source": [
    "print(result[1].collect())"
   ]
  },
  {
   "cell_type": "markdown",
   "metadata": {},
   "source": [
    "**Step 3**\n",
    "\n",
    "Get the CDF (cumulative distribution function) of Weibull distribution for the linoleic acid treatment data:"
   ]
  },
  {
   "cell_type": "code",
   "execution_count": 13,
   "metadata": {},
   "outputs": [
    {
     "name": "stdout",
     "output_type": "stream",
     "text": [
      "   DATACOL\n",
      "0      6.0\n",
      "1      8.0\n",
      "2     12.0\n",
      "3     20.0\n",
      "4     24.0\n",
      "5     30.0\n",
      "6     42.0\n"
     ]
    }
   ],
   "source": [
    "cursor = connection_context.connection.cursor()\n",
    "try:\n",
    "    cursor.execute(\"DROP TABLE PAL_DISTRPROB_DATA_TBL\")\n",
    "except:\n",
    "    pass\n",
    "cursor.execute('CREATE COLUMN TABLE PAL_DISTRPROB_DATA_TBL (\\\"DATACOL\\\" DOUBLE);')\n",
    "values = [(6,),(8,),(12,),(20,),(24,),(30,),(42,)]\n",
    "try:\n",
    "    cursor.executemany(\"INSERT INTO \" +\n",
    "                       \"{} VALUES ({})\".format('PAL_DISTRPROB_DATA_TBL',\n",
    "                       ', '.join(['?']*len(values[0]))), values)\n",
    "    connection_context.connection.commit()\n",
    "finally:\n",
    "    cursor.close()\n",
    "distri_prob_df = connection_context.table(\"PAL_DISTRPROB_DATA_TBL\")\n",
    "\n",
    "print(distri_prob_df.collect())"
   ]
  },
  {
   "cell_type": "markdown",
   "metadata": {},
   "source": [
    "Invoke CDF and show the result:"
   ]
  },
  {
   "cell_type": "code",
   "execution_count": 14,
   "metadata": {},
   "outputs": [
    {
     "name": "stdout",
     "output_type": "stream",
     "text": [
      "   DATACOL  PROBABILITY\n",
      "0      6.0     0.076580\n",
      "1      8.0     0.112515\n",
      "2     12.0     0.190245\n",
      "3     20.0     0.351182\n",
      "4     24.0     0.428183\n",
      "5     30.0     0.534573\n",
      "6     42.0     0.706874\n"
     ]
    }
   ],
   "source": [
    "from hana_ml.algorithms.pal.stats import cdf\n",
    "distr_info = {'name' : 'weibull', 'shape' : 1.40528, 'scale': 36.3069}\n",
    "result = cdf(distri_prob_df, distr_info, complementary=False)\n",
    "print(result.collect())"
   ]
  },
  {
   "cell_type": "markdown",
   "metadata": {},
   "source": [
    "**Step 4**\n",
    "\n",
    "Get the CDF (cumulative distribution function) of Weibull distribution for the control treatment data:"
   ]
  },
  {
   "cell_type": "code",
   "execution_count": 15,
   "metadata": {},
   "outputs": [
    {
     "name": "stdout",
     "output_type": "stream",
     "text": [
      "   DATACOL\n",
      "0      6.0\n",
      "1     10.0\n",
      "2     12.0\n",
      "3     24.0\n",
      "4     32.0\n"
     ]
    }
   ],
   "source": [
    "cursor = connection_context.connection.cursor()\n",
    "try:\n",
    "    cursor.execute(\"DROP TABLE PAL_DISTRPROB_DATA_TBL\")\n",
    "except:\n",
    "    pass\n",
    "cursor.execute('CREATE COLUMN TABLE PAL_DISTRPROB_DATA_TBL (\\\"DATACOL\\\" DOUBLE);')\n",
    "values = [(6,),(10,),(12,),(24,),(32,)]\n",
    "try:\n",
    "    cursor.executemany(\"INSERT INTO \" +\n",
    "                       \"{} VALUES ({})\".format('PAL_DISTRPROB_DATA_TBL',\n",
    "                       ', '.join(['?']*len(values[0]))), values)\n",
    "    connection_context.connection.commit()\n",
    "finally:\n",
    "    cursor.close()\n",
    "distri_prob_df = connection_context.table(\"PAL_DISTRPROB_DATA_TBL\")\n",
    "\n",
    "print(distri_prob_df.collect())"
   ]
  },
  {
   "cell_type": "markdown",
   "metadata": {},
   "source": [
    "Invoke CDF and show the result:"
   ]
  },
  {
   "cell_type": "code",
   "execution_count": 16,
   "metadata": {},
   "outputs": [
    {
     "name": "stdout",
     "output_type": "stream",
     "text": [
      "   DATACOL  PROBABILITY\n",
      "0      6.0     0.114457\n",
      "1     10.0     0.253607\n",
      "2     12.0     0.329794\n",
      "3     24.0     0.732173\n",
      "4     32.0     0.884698\n"
     ]
    }
   ],
   "source": [
    "distr_info = {'name' : 'weibull', 'shape' :  1.71902, 'scale': 20.444}\n",
    "result = cdf(distri_prob_df, distr_info, complementary=False)\n",
    "print(result.collect())"
   ]
  },
  {
   "cell_type": "markdown",
   "metadata": {},
   "source": [
    "## Drop Tables and Close HANA Connection"
   ]
  },
  {
   "cell_type": "code",
   "execution_count": 17,
   "metadata": {},
   "outputs": [],
   "source": [
    "cursor = connection_context.connection.cursor()\n",
    "try:\n",
    "    cursor.execute(\"DROP TABLE PAL_TRIAL_DATA_TBL\")\n",
    "    cursor.execute(\"DROP TABLE PAL_DISTRPROB_DATA_TBL\")\n",
    "    cursor.execute(\"DROP TABLE PAL_LINO_ACID_TBL\")\n",
    "    cursor.execute(\"DROP TABLE PAL_CONTROL_TBL\")\n",
    "except:\n",
    "    pass\n",
    "connection_context.close()"
   ]
  }
 ],
 "metadata": {
  "kernelspec": {
   "display_name": "Python 3",
   "language": "python",
   "name": "python3"
  },
  "language_info": {
   "codemirror_mode": {
    "name": "ipython",
    "version": 3
   },
   "file_extension": ".py",
   "mimetype": "text/x-python",
   "name": "python",
   "nbconvert_exporter": "python",
   "pygments_lexer": "ipython3",
   "version": "3.7.6"
  }
 },
 "nbformat": 4,
 "nbformat_minor": 4
}

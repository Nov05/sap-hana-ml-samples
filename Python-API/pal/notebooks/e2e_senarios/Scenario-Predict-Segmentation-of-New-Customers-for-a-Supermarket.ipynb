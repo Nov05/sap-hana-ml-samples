{
 "cells": [
  {
   "cell_type": "markdown",
   "source": [
    "## End-to-End Scenario: Predict Segmentation of New Customers for a Supermarket\n",
    "\n",
    "Author: TI HA DB ML China - SAP HANA PAL Team\n",
    "\n",
    "Date: 2020/06/18\n",
    "\n",
    "In this end-to-end scenario, We shown how to predict the segmentation/cluster of new customers for a supermarket. Firstly, we use the K-means function to cluster existing customers of the supermarket. Then, the output can be used as the training data for the C4.5 Decision Tree function to predict new customers’ segmentation/cluster.\n",
    "\n",
    "### 1. Technology Background\n",
    "K-means clustering is a method of cluster analysis whereby the algorithm partitions N observations or records into K clusters, in which each observation belongs to the cluster with the nearest center. It is one of the most commonly used algorithms in clustering method.\n",
    "\n",
    "Decision trees are powerful and popular tools for classification and prediction. Decision tree learning, used in statistics, data mining, and machine learning uses a decision tree as a predictive model which maps the observations about an item to the conclusions about the item’s target value.\n",
    "\n",
    "### 2. Implementation Steps\n",
    "\n",
    "**Setup the Connection to SAP HANA**\n",
    "\n",
    "First, create a connetion to SAP HANA. To create a such connection, a config file, config/e2edata.ini is used to control the connection parameters.A sample section in the config file is shown below which includes HANA url, port, user and password information.<br>\n",
    "\n",
    "###################<br>\n",
    "[hana]<br>\n",
    "url=host-url<br>\n",
    "user=username<br>\n",
    "passwd=userpassword<br>\n",
    "port=3xx15<br>\n",
    "###################<br>\n"
   ],
   "metadata": {}
  },
  {
   "cell_type": "code",
   "execution_count": null,
   "source": [
    "from hana_ml.dataframe import ConnectionContext\r\n",
    "from hana_ml.algorithms.pal.utility import Settings\r\n",
    "url, port, user, pwd = Settings.load_config(\"../../../config/e2edata.ini\")\r\n",
    "connection_context = ConnectionContext(url, port, user, pwd)"
   ],
   "outputs": [],
   "metadata": {}
  },
  {
   "cell_type": "markdown",
   "source": [
    "Connection status:"
   ],
   "metadata": {}
  },
  {
   "cell_type": "code",
   "execution_count": null,
   "source": [
    "print(connection_context.connection.isconnected())"
   ],
   "outputs": [],
   "metadata": {}
  },
  {
   "cell_type": "markdown",
   "source": [
    "**Step 1: Invoke K-means**\n",
    "\n",
    "Input customer data and use the K-means function to partition the data set into K clusters. In this example, nine rows of data will be input. K equals 3, which means the customers will be partitioned into three levels.\n",
    "\n",
    "Generate the customer dataset with ID, AGE, INCOME:"
   ],
   "metadata": {}
  },
  {
   "cell_type": "code",
   "execution_count": null,
   "source": [
    "import pandas as pd\r\n",
    "from hana_ml.dataframe import create_dataframe_from_pandas\r\n",
    "\r\n",
    "data = {'ID':  [1,2,3,4,5,6,7,8,9],\r\n",
    "        'AGE': [20, 21, 22, 30, 31, 32, 40, 41, 42],\r\n",
    "        'INCOME': [100000, 101000, 102000, 200000, 201000, 202000, 400000, 401000, 402000]}\r\n",
    "customer = pd.DataFrame (data, columns = ['ID','AGE','INCOME'])\r\n",
    "customer_df = create_dataframe_from_pandas(connection_context, pandas_df=customer, \r\n",
    "                                        table_name='CUSTOMER_TBL', force=True, replace=True)\r\n",
    "customer_df.collect()\r\n"
   ],
   "outputs": [],
   "metadata": {}
  },
  {
   "cell_type": "markdown",
   "source": [
    "Call KMeans to cluster the customers:"
   ],
   "metadata": {}
  },
  {
   "cell_type": "code",
   "execution_count": null,
   "source": [
    "from hana_ml.algorithms.pal.clustering import KMeans\r\n",
    "kmeans = KMeans(n_clusters=3, init='first_k', max_iter=100,\r\n",
    "                tol=1.0E-6, distance_level='Euclidean',\r\n",
    "                normalization='no')\r\n",
    "\r\n",
    "kmeans.fit(customer_df, 'ID', ['AGE', 'INCOME'])\r\n",
    "print(kmeans.labels_.collect())"
   ],
   "outputs": [],
   "metadata": {}
  },
  {
   "cell_type": "markdown",
   "source": [
    "Join the customer_df with the result column of kmeans.labels_ for next step:"
   ],
   "metadata": {}
  },
  {
   "cell_type": "code",
   "execution_count": null,
   "source": [
    "result = kmeans.labels_.select(\"ID\", \"CLUSTER_ID\").rename_columns([\"ID_R\", \"CLUSTER_ID\"])    \r\n",
    "    \r\n",
    "data_cluster = customer_df.join(result, condition=\"ID = ID_R\")\r\n",
    "\r\n",
    "# select the necessary columns for modeling in the next step\r\n",
    "data_cluster = data_cluster.select(['AGE', 'INCOME', 'CLUSTER_ID'])\r\n",
    "\r\n",
    "# rename the  column 'CLUSTER_ID' to be 'LEVEL'\r\n",
    "data_cluster = data_cluster.rename_columns(['AGE', 'INCOME', 'LEVEL'])\r\n",
    "print(data_cluster.collect())"
   ],
   "outputs": [],
   "metadata": {}
  },
  {
   "cell_type": "markdown",
   "source": [
    "**Step 2: Invoke C4.5 Decision Tree**\n",
    "\n",
    "\n",
    "Use the above output data.cluster as the training data of C4.5 Decision Tree. The C4.5 Decision Tree function will generate a tree model which maps the observations about an item to the conclusions about the item’s target value."
   ],
   "metadata": {}
  },
  {
   "cell_type": "code",
   "execution_count": null,
   "source": [
    "from hana_ml.algorithms.pal.trees import DecisionTreeClassifier\n",
    "# convert data type of column LEVEL to be VARCHAR(10)\n",
    "data_cluster = data_cluster.cast('LEVEL', 'VARCHAR (10)')\n",
    "\n",
    "dt = DecisionTreeClassifier(algorithm = 'c45',\n",
    "                            percentage = 1.0,\n",
    "                            model_format = 'pmml')\n",
    "dt.fit(data_cluster)\n",
    "\n",
    "# have a look at the result decision.rules\n",
    "print(dt.decision_rules_.collect())"
   ],
   "outputs": [],
   "metadata": {}
  },
  {
   "cell_type": "markdown",
   "source": [
    "**Step 3 : Prediction with Tree Model**\n",
    "\n",
    "Use the above tree model to map each new customer to the corresponding level he or she belongs to:"
   ],
   "metadata": {}
  },
  {
   "cell_type": "code",
   "execution_count": null,
   "source": [
    "data = {'ID':  [10, 11, 12],\n",
    "        'AGE': [20, 30, 40],\n",
    "        'INCOME': [100003, 200003, 400003]}\n",
    "new_data = pd.DataFrame (data, columns = ['ID','AGE','INCOME'])\n",
    "new_data_df = create_dataframe_from_pandas(connection_context, \n",
    "                                           pandas_df=new_data, \n",
    "                                           table_name='NEW_CUSTOMER_TBL', \n",
    "                                           force=True, replace=True)\n",
    "\n",
    "result = dt.predict(new_data_df, key=\"ID\")\n",
    "print(result.collect())"
   ],
   "outputs": [],
   "metadata": {}
  },
  {
   "cell_type": "markdown",
   "source": [
    "## Drop Tables and Close HANA Connection"
   ],
   "metadata": {}
  },
  {
   "cell_type": "code",
   "execution_count": null,
   "source": [
    "cursor = connection_context.connection.cursor()\n",
    "cursor.execute(\"DROP TABLE CUSTOMER_TBL\")\n",
    "cursor.execute(\"DROP TABLE NEW_CUSTOMER_TBL\")\n",
    "connection_context.close()"
   ],
   "outputs": [],
   "metadata": {}
  }
 ],
 "metadata": {
  "kernelspec": {
   "display_name": "Python 3",
   "language": "python",
   "name": "python3"
  },
  "language_info": {
   "codemirror_mode": {
    "name": "ipython",
    "version": 3
   },
   "file_extension": ".py",
   "mimetype": "text/x-python",
   "name": "python",
   "nbconvert_exporter": "python",
   "pygments_lexer": "ipython3",
   "version": "3.7.6"
  }
 },
 "nbformat": 4,
 "nbformat_minor": 4
}
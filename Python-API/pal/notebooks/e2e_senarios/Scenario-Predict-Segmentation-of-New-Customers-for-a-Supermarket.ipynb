{
 "cells": [
  {
   "cell_type": "markdown",
   "metadata": {},
   "source": [
    "## End-to-End Scenario: Predict Segmentation of New Customers for a Supermarket\n",
    "\n",
    "Author: TI HA DB ML China - SAP HANA PAL Team\n",
    "\n",
    "Date: 2020/06/18\n",
    "\n",
    "In this end-to-end scenario, We shown how to predict the segmentation/cluster of new customers for a supermarket. Firstly, we use the K-means function to cluster existing customers of the supermarket. Then, the output can be used as the training data for the C4.5 Decision Tree function to predict new customers’ segmentation/cluster.\n",
    "\n",
    "### 1. Technology Background\n",
    "K-means clustering is a method of cluster analysis whereby the algorithm partitions N observations or records into K clusters, in which each observation belongs to the cluster with the nearest center. It is one of the most commonly used algorithms in clustering method.\n",
    "\n",
    "Decision trees are powerful and popular tools for classification and prediction. Decision tree learning, used in statistics, data mining, and machine learning uses a decision tree as a predictive model which maps the observations about an item to the conclusions about the item’s target value.\n",
    "\n",
    "### 2. Implementation Steps\n",
    "\n",
    "**Setup the Connection to SAP HANA**\n",
    "\n",
    "First, create a connetion to SAP HANA. To create a such connection, a config file, config/e2edata.ini is used to control the connection parameters.A sample section in the config file is shown below which includes HANA url, port, user and password information.<br>\n",
    "\n",
    "###################<br>\n",
    "[hana]<br>\n",
    "url=host-url<br>\n",
    "user=username<br>\n",
    "passwd=userpassword<br>\n",
    "port=3xx15<br>\n",
    "###################<br>\n"
   ]
  },
  {
   "cell_type": "code",
   "execution_count": 1,
   "metadata": {},
   "outputs": [],
   "source": [
    "from hana_ml.dataframe import ConnectionContext\n",
    "from data_load_utils import DataSets, Settings\n",
    "url, port, user, pwd = Settings.load_config(\"../../../config/e2edata.ini\")\n",
    "connection_context = ConnectionContext(url, port, user, pwd)"
   ]
  },
  {
   "cell_type": "markdown",
   "metadata": {},
   "source": [
    "Connection status:"
   ]
  },
  {
   "cell_type": "code",
   "execution_count": 2,
   "metadata": {},
   "outputs": [
    {
     "name": "stdout",
     "output_type": "stream",
     "text": [
      "True\n"
     ]
    }
   ],
   "source": [
    "print(connection_context.connection.isconnected())"
   ]
  },
  {
   "cell_type": "markdown",
   "metadata": {},
   "source": [
    "**Step 1: Invoke K-means**\n",
    "\n",
    "Input customer data and use the K-means function to partition the data set into K clusters. In this example, nine rows of data will be input. K equals 3, which means the customers will be partitioned into three levels.\n",
    "\n",
    "Generate the customer dataset with ID, AGE, INCOME:"
   ]
  },
  {
   "cell_type": "code",
   "execution_count": 3,
   "metadata": {},
   "outputs": [
    {
     "data": {
      "text/html": [
       "<div>\n",
       "<style scoped>\n",
       "    .dataframe tbody tr th:only-of-type {\n",
       "        vertical-align: middle;\n",
       "    }\n",
       "\n",
       "    .dataframe tbody tr th {\n",
       "        vertical-align: top;\n",
       "    }\n",
       "\n",
       "    .dataframe thead th {\n",
       "        text-align: right;\n",
       "    }\n",
       "</style>\n",
       "<table border=\"1\" class=\"dataframe\">\n",
       "  <thead>\n",
       "    <tr style=\"text-align: right;\">\n",
       "      <th></th>\n",
       "      <th>ID</th>\n",
       "      <th>AGE</th>\n",
       "      <th>INCOME</th>\n",
       "    </tr>\n",
       "  </thead>\n",
       "  <tbody>\n",
       "    <tr>\n",
       "      <th>0</th>\n",
       "      <td>1</td>\n",
       "      <td>20</td>\n",
       "      <td>100000</td>\n",
       "    </tr>\n",
       "    <tr>\n",
       "      <th>1</th>\n",
       "      <td>2</td>\n",
       "      <td>21</td>\n",
       "      <td>101000</td>\n",
       "    </tr>\n",
       "    <tr>\n",
       "      <th>2</th>\n",
       "      <td>3</td>\n",
       "      <td>22</td>\n",
       "      <td>102000</td>\n",
       "    </tr>\n",
       "    <tr>\n",
       "      <th>3</th>\n",
       "      <td>4</td>\n",
       "      <td>30</td>\n",
       "      <td>200000</td>\n",
       "    </tr>\n",
       "    <tr>\n",
       "      <th>4</th>\n",
       "      <td>5</td>\n",
       "      <td>31</td>\n",
       "      <td>201000</td>\n",
       "    </tr>\n",
       "    <tr>\n",
       "      <th>5</th>\n",
       "      <td>6</td>\n",
       "      <td>32</td>\n",
       "      <td>202000</td>\n",
       "    </tr>\n",
       "    <tr>\n",
       "      <th>6</th>\n",
       "      <td>7</td>\n",
       "      <td>40</td>\n",
       "      <td>400000</td>\n",
       "    </tr>\n",
       "    <tr>\n",
       "      <th>7</th>\n",
       "      <td>8</td>\n",
       "      <td>41</td>\n",
       "      <td>401000</td>\n",
       "    </tr>\n",
       "    <tr>\n",
       "      <th>8</th>\n",
       "      <td>9</td>\n",
       "      <td>42</td>\n",
       "      <td>402000</td>\n",
       "    </tr>\n",
       "  </tbody>\n",
       "</table>\n",
       "</div>"
      ],
      "text/plain": [
       "   ID  AGE  INCOME\n",
       "0   1   20  100000\n",
       "1   2   21  101000\n",
       "2   3   22  102000\n",
       "3   4   30  200000\n",
       "4   5   31  201000\n",
       "5   6   32  202000\n",
       "6   7   40  400000\n",
       "7   8   41  401000\n",
       "8   9   42  402000"
      ]
     },
     "execution_count": 3,
     "metadata": {},
     "output_type": "execute_result"
    }
   ],
   "source": [
    "import pandas as pd\n",
    "from hana_ml.dataframe import create_dataframe_from_pandas\n",
    "\n",
    "data = {'ID':  [1,2,3,4,5,6,7,8,9],\n",
    "        'AGE': [20, 21, 22, 30, 31, 32, 40, 41, 42],\n",
    "        'INCOME': [100000, 101000, 102000, 200000, 201000, 202000, 400000, 401000, 402000]}\n",
    "customer = pd.DataFrame (data, columns = ['ID','AGE','INCOME'])\n",
    "customer_df = create_dataframe_from_pandas(connection_context, pandas_df=customer, \n",
    "                                        table_name='CUSTOMER_TBL', force=True, replace=True)\n",
    "customer_df.collect()\n"
   ]
  },
  {
   "cell_type": "markdown",
   "metadata": {},
   "source": [
    "Call KMeans to cluster the customers:"
   ]
  },
  {
   "cell_type": "code",
   "execution_count": 4,
   "metadata": {},
   "outputs": [
    {
     "name": "stdout",
     "output_type": "stream",
     "text": [
      "   ID  CLUSTER_ID   DISTANCE  SLIGHT_SILHOUETTE\n",
      "0   1           0  1000.0005           0.990099\n",
      "1   2           0     0.0000           1.000000\n",
      "2   3           0  1000.0005           0.989899\n",
      "3   4           1  1000.0005           0.989899\n",
      "4   5           1     0.0000           1.000000\n",
      "5   6           1  1000.0005           0.990099\n",
      "6   7           2  1000.0005           0.994975\n",
      "7   8           2     0.0000           1.000000\n",
      "8   9           2  1000.0005           0.995025\n"
     ]
    }
   ],
   "source": [
    "from hana_ml.algorithms.pal.clustering import KMeans\n",
    "kmeans = KMeans(n_clusters=3, init='first_k', max_iter=100,\n",
    "                tol=1.0E-6, distance_level='Euclidean',\n",
    "                normalization='no')\n",
    "\n",
    "kmeans.fit(customer_df, 'ID', ['AGE', 'INCOME'])\n",
    "print(kmeans.labels_.collect())"
   ]
  },
  {
   "cell_type": "markdown",
   "metadata": {},
   "source": [
    "Join the customer_df with the result column of kmeans.labels_ for next step:"
   ]
  },
  {
   "cell_type": "code",
   "execution_count": 5,
   "metadata": {},
   "outputs": [
    {
     "name": "stdout",
     "output_type": "stream",
     "text": [
      "   AGE  INCOME  LEVEL\n",
      "0   20  100000      0\n",
      "1   21  101000      0\n",
      "2   22  102000      0\n",
      "3   30  200000      1\n",
      "4   31  201000      1\n",
      "5   32  202000      1\n",
      "6   40  400000      2\n",
      "7   41  401000      2\n",
      "8   42  402000      2\n"
     ]
    }
   ],
   "source": [
    "result = kmeans.labels_.select(\"ID\", \"CLUSTER_ID\").rename_columns([\"ID_R\", \"CLUSTER_ID\"])    \n",
    "    \n",
    "data_cluster = customer_df.join(result, condition=\"ID = ID_R\")\n",
    "\n",
    "# select the necessary columns for modeling in the next step\n",
    "data_cluster = data_cluster.select(['AGE', 'INCOME', 'CLUSTER_ID'])\n",
    "\n",
    "# rename the  column 'CLUSTER_ID' to be 'LEVEL'\n",
    "data_cluster = data_cluster.rename_columns(['AGE', 'INCOME', 'LEVEL'])\n",
    "print(data_cluster.collect())"
   ]
  },
  {
   "cell_type": "markdown",
   "metadata": {},
   "source": [
    "**Step 2: Invoke C4.5 Decision Tree**\n",
    "\n",
    "\n",
    "Use the above output data.cluster as the training data of C4.5 Decision Tree. The C4.5 Decision Tree function will generate a tree model which maps the observations about an item to the conclusions about the item’s target value."
   ]
  },
  {
   "cell_type": "code",
   "execution_count": 6,
   "metadata": {},
   "outputs": [
    {
     "name": "stdout",
     "output_type": "stream",
     "text": [
      "   ROW_INDEX     RULES_CONTENT\n",
      "0          0     (AGE<26) => 0\n",
      "1          1  26=<AGE<36) => 1\n",
      "2          2    (AGE>=36) => 2\n"
     ]
    }
   ],
   "source": [
    "from hana_ml.algorithms.pal.trees import DecisionTreeClassifier\n",
    "# convert data type of column LEVEL to be VARCHAR(10)\n",
    "data_cluster = data_cluster.cast('LEVEL', 'VARCHAR (10)')\n",
    "\n",
    "dt = DecisionTreeClassifier(algorithm = 'c45',\n",
    "                            percentage = 1.0,\n",
    "                            model_format = 'pmml')\n",
    "dt.fit(data_cluster)\n",
    "\n",
    "# have a look at the result decision.rules\n",
    "print(dt.decision_rules_.collect())"
   ]
  },
  {
   "cell_type": "markdown",
   "metadata": {},
   "source": [
    "**Step 3 : Prediction with Tree Model**\n",
    "\n",
    "Use the above tree model to map each new customer to the corresponding level he or she belongs to:"
   ]
  },
  {
   "cell_type": "code",
   "execution_count": 7,
   "metadata": {},
   "outputs": [
    {
     "name": "stdout",
     "output_type": "stream",
     "text": [
      "   ID SCORE  CONFIDENCE\n",
      "0  10     0         1.0\n",
      "1  11     1         1.0\n",
      "2  12     2         1.0\n"
     ]
    }
   ],
   "source": [
    "data = {'ID':  [10, 11, 12],\n",
    "        'AGE': [20, 30, 40],\n",
    "        'INCOME': [100003, 200003, 400003]}\n",
    "new_data = pd.DataFrame (data, columns = ['ID','AGE','INCOME'])\n",
    "new_data_df = create_dataframe_from_pandas(connection_context, \n",
    "                                           pandas_df=new_data, \n",
    "                                           table_name='NEW_CUSTOMER_TBL', \n",
    "                                           force=True, replace=True)\n",
    "\n",
    "result = dt.predict(new_data_df, key=\"ID\")\n",
    "print(result.collect())"
   ]
  },
  {
   "cell_type": "markdown",
   "metadata": {},
   "source": [
    "## Drop Tables and Close HANA Connection"
   ]
  },
  {
   "cell_type": "code",
   "execution_count": 8,
   "metadata": {},
   "outputs": [],
   "source": [
    "cursor = connection_context.connection.cursor()\n",
    "cursor.execute(\"DROP TABLE CUSTOMER_TBL\")\n",
    "cursor.execute(\"DROP TABLE NEW_CUSTOMER_TBL\")\n",
    "connection_context.close()"
   ]
  }
 ],
 "metadata": {
  "kernelspec": {
   "display_name": "Python 3",
   "language": "python",
   "name": "python3"
  },
  "language_info": {
   "codemirror_mode": {
    "name": "ipython",
    "version": 3
   },
   "file_extension": ".py",
   "mimetype": "text/x-python",
   "name": "python",
   "nbconvert_exporter": "python",
   "pygments_lexer": "ipython3",
   "version": "3.7.6"
  }
 },
 "nbformat": 4,
 "nbformat_minor": 4
}

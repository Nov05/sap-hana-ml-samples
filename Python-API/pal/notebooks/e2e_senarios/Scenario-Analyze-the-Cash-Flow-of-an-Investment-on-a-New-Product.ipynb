{
 "cells": [
  {
   "cell_type": "markdown",
   "metadata": {},
   "source": [
    "## End-to-End Scenario: Analyze the Cash Flow of an Investment on a New Product\n",
    "\n",
    "TI HA DB ML China - SAP HANA PAL Team\n",
    "\n",
    "2020/06/18\n",
    "\n",
    "In this end-to-end scenario, we wish to do an analysis of the cash flow of an investment required to create a new product. Projected estimates are given for the product revenue, product costs, overheads, and capital investment for each year of the analysis, from which the cash flow can be calculated. For capital investment appraisal the cash flows are summed for each year and discounted for future values, in other words the net present value of the cash flow is derived as a single value measuring the benefit of the investment.\n",
    "\n",
    "The projected estimates are single point estimates of each data point and the analysis provides a single point value of project net present value (NPV). This is referred to as deterministic modeling, which is in contrast to probabilistic modeling whereby we examine the probability of outcomes, for example, what is the probability of a NPV greater than zero. Probabilistic modeling is also called Monte Carlo Simulation.\n",
    "\n",
    "Monte Carlo Simulation is used in our example to estimate the net present value (NPV) of the investment. The equations used in the simulation are:\n",
    "\n",
    "For each year i=0, 1, …, k\n",
    "\n",
    "Product margin(i) = product revenue(i) – product cost(i)\n",
    "\n",
    "Total profit(i) = product margin(i) – overhead(i)\n",
    "\n",
    "Cash flow(i) = total profit(i) – capital investment(i)\n",
    "\n",
    "Suppose the simulation covers k years’ time periods and the discount rate is r, the net present value of the investment is defined as:\n",
    "\n",
    "![](npv.png)\n",
    "\n",
    "## 1. Technology Background\n",
    "Monte Carlo Simulation is a computational algorithm that repeatedly generates random samples to compute numerical results based on a formula or model in order to obtain the unknown probability distribution of an event or outcome.\n",
    "\n",
    "In hana_ml, the Random Distribution Sampling, Distribution Fitting, and Cumulative Distribution algorithms may be used for Monte Carlo Simulation.\n",
    "\n",
    "## 2. Implementation Steps\n",
    "\n",
    "**Setup the Connection to SAP HANA**\n",
    "\n",
    "First, create a connetion to SAP HANA. To create a such connection, a config file, config/e2edata.ini is used to control the connection parameters.A sample section in the config file is shown below which includes HANA url, port, user and password information.<br>\n",
    "\n",
    "###################<br>\n",
    "[hana]<br>\n",
    "url=host-url<br>\n",
    "user=username<br>\n",
    "passwd=userpassword<br>\n",
    "port=3xx15<br>\n",
    "###################<br>\n"
   ]
  },
  {
   "cell_type": "code",
   "execution_count": 1,
   "metadata": {},
   "outputs": [],
   "source": [
    "from hana_ml.dataframe import ConnectionContext\n",
    "from data_load_utils import DataSets, Settings\n",
    "url, port, user, pwd = Settings.load_config(\"../../../config/e2edata.ini\")\n",
    "connection_context = ConnectionContext(url, port, user, pwd)"
   ]
  },
  {
   "cell_type": "markdown",
   "metadata": {},
   "source": [
    "Connection functions samples:"
   ]
  },
  {
   "cell_type": "code",
   "execution_count": 2,
   "metadata": {},
   "outputs": [
    {
     "name": "stdout",
     "output_type": "stream",
     "text": [
      "True\n"
     ]
    }
   ],
   "source": [
    "print(connection_context.connection.isconnected())"
   ]
  },
  {
   "cell_type": "markdown",
   "metadata": {},
   "source": [
    "### Step 2: Dataset Generation\n",
    "\n",
    "Input the given estimates (single point deterministic values) for product revenue, product costs, overheads, and capital investment. In this example, the time periods are 5 (from year 1 to year 5).\n",
    "\n",
    "The probability distribution for each variable is assumed as follows:\n",
    "\n",
    "Product Revenue:\n",
    "Normal distribution and the mean and standard deviation are listed in the following table.\n",
    "\n",
    "Product Costs:\n",
    "Normal distribution and the mean and standard deviation are listed in the following table.\n",
    "\n",
    "Overheads:\n",
    "Uniform distribution and min and max values are listed in the following table.\n",
    "\n",
    "Capital Investment (for year 1 and year 2)\n",
    "Gamma distribution and shape and scale values are listed in the following table.\n",
    "\n",
    "![](table.png)\n",
    "\n",
    " \t \t \n",
    "Run the Random Distribution Sampling algorithm for each variable and generate 5,000 sample sets. The number of sample sets is a choice for the analysis. The larger the value then the more smooth the output distribution and the closer it will be to a normal distribution.\n",
    "\n",
    "**The first year**"
   ]
  },
  {
   "cell_type": "code",
   "execution_count": 3,
   "metadata": {},
   "outputs": [
    {
     "name": "stdout",
     "output_type": "stream",
     "text": [
      "   ID    RANDOM\n",
      "0   0  0.005976\n",
      "1   1  0.000452\n",
      "2   2  0.012107\n",
      "3   3 -0.017637\n",
      "4   4 -0.000094\n",
      "   ID       RANDOM\n",
      "0   0  1038.289180\n",
      "1   1   994.094209\n",
      "2   2  1003.130800\n",
      "3   3   965.289417\n",
      "4   4   987.492783\n",
      "   ID       RANDOM\n",
      "0   0  1425.969854\n",
      "1   1  1457.127484\n",
      "2   2  1494.819263\n",
      "3   3  1494.324943\n",
      "4   4  1483.085394\n",
      "   ID        RANDOM\n",
      "0   0  10399.285527\n",
      "1   1  10125.758445\n",
      "2   2   9236.914859\n",
      "3   3   9406.319724\n",
      "4   4  10185.189483\n",
      "   ID          CASH\n",
      "0   0 -12863.538585\n",
      "1   1 -12576.979685\n",
      "2   2 -11734.852815\n",
      "3   3 -11865.951721\n",
      "4   4 -12655.767755\n"
     ]
    }
   ],
   "source": [
    "from hana_ml.algorithms.pal.random import normal, uniform\n",
    "cursor = connection_context.connection.cursor()\n",
    "\n",
    "number = 10\n",
    "    \n",
    "# Product Revenue:\n",
    "revenue_1 = normal (connection_context, num_random = number, mean = 0, sigma = 0.01, seed = 0)\n",
    "revenue_1 = revenue_1.rename_columns(['ID', 'RANDOM'])\n",
    "try:\n",
    "     cursor.execute(\"DROP TABLE REVENUE_1_TBL;\")\n",
    "except:\n",
    "     pass\n",
    "revenue_1.save('REVENUE_1_TBL')\n",
    "\n",
    "# Product Costs:\n",
    "cost_1 = normal (connection_context, num_random = number, mean = 1000, sigma = 75, seed = 0)\n",
    "cost_1 = cost_1.rename_columns(['ID', 'RANDOM'])\n",
    "try:\n",
    "    cursor.execute(\"DROP TABLE COST_1_TBL;\")\n",
    "except:\n",
    "     pass    \n",
    "cost_1.save('COST_1_TBL')\n",
    "\n",
    "# Overheads:\n",
    "overheads_1 = uniform(connection_context, num_random = number, low = 1400, high = 1500, seed = 0)\n",
    "overheads_1 = overheads_1.rename_columns(['ID', 'RANDOM'])\n",
    "try:\n",
    "    cursor.execute(\"DROP TABLE OVERHEAD_1_TBL;\")\n",
    "except:\n",
    "     pass\n",
    "overheads_1.save('OVERHEAD_1_TBL')\n",
    "\n",
    "# Capital Investment (for year 1 and year 2)\n",
    "investment_1 = normal (connection_context, num_random = number, mean = 10000, sigma = 500, seed = 0)\n",
    "investment_1 = investment_1.rename_columns(['ID', 'RANDOM'])\n",
    "try:\n",
    "    cursor.execute(\"DROP TABLE INVESTMENT_1_TBL;\")\n",
    "except:\n",
    "     pass\n",
    "investment_1.save('INVESTMENT_1_TBL')\n",
    "\n",
    "try:\n",
    "    cursor.execute(\"DROP TABLE PAL_CASHFLOW_YEAR1;\")\n",
    "except:\n",
    "     pass\n",
    "cursor.execute(\"CREATE COLUMN TABLE PAL_CASHFLOW_YEAR1(ID INTEGER, CASH DOUBLE);\")\n",
    "sql = \"INSERT INTO PAL_CASHFLOW_YEAR1\" + \" SELECT REVENUE_1_TBL.ID, REVENUE_1_TBL.RANDOM - COST_1_TBL.RANDOM - OVERHEAD_1_TBL.RANDOM - INVESTMENT_1_TBL.RANDOM FROM REVENUE_1_TBL\" + \" LEFT JOIN COST_1_TBL ON REVENUE_1_TBL.ID = COST_1_TBL.ID\" +\" LEFT JOIN OVERHEAD_1_TBL ON REVENUE_1_TBL.ID = OVERHEAD_1_TBL.ID \" + \" LEFT JOIN INVESTMENT_1_TBL ON REVENUE_1_TBL.ID = INVESTMENT_1_TBL.ID;\"\n",
    "cursor.execute(sql) \n",
    "\n",
    "\n",
    "print(connection_context.table('REVENUE_1_TBL').head(5).collect())\n",
    "print(connection_context.table('COST_1_TBL').head(5).collect())\n",
    "print(connection_context.table('OVERHEAD_1_TBL').head(5).collect())\n",
    "print(connection_context.table('INVESTMENT_1_TBL').head(5).collect())\n",
    "print(connection_context.table('PAL_CASHFLOW_YEAR1').head(5).collect())"
   ]
  },
  {
   "cell_type": "markdown",
   "metadata": {},
   "source": [
    "**The second year**"
   ]
  },
  {
   "cell_type": "code",
   "execution_count": 4,
   "metadata": {},
   "outputs": [
    {
     "name": "stdout",
     "output_type": "stream",
     "text": [
      "   ID       RANDOM\n",
      "0   0  2967.787623\n",
      "1   1  3255.519785\n",
      "2   2  3420.841457\n",
      "3   3  2691.810959\n",
      "4   4  3742.806297\n",
      "   ID       RANDOM\n",
      "0   0  1103.005351\n",
      "1   1  1048.113816\n",
      "2   2   973.622158\n",
      "3   3  1056.386341\n",
      "4   4   861.784867\n",
      "   ID       RANDOM\n",
      "0   0  2048.992476\n",
      "1   1  1957.551586\n",
      "2   2  1873.104600\n",
      "3   3  1905.176876\n",
      "4   4  2005.144344\n",
      "   ID       RANDOM\n",
      "0   0  2083.617975\n",
      "1   1  1949.410487\n",
      "2   2  1981.076111\n",
      "3   3  2038.069940\n",
      "4   4  2140.957695\n",
      "   ID         CASH\n",
      "0   0 -2267.828179\n",
      "1   1 -1699.556103\n",
      "2   2 -1406.961412\n",
      "3   3 -2307.822197\n",
      "4   4 -1265.080610\n"
     ]
    }
   ],
   "source": [
    "# Product Revenue:\n",
    "revenue_2 = normal (connection_context, num_random = number, mean = 3000, sigma = 300, seed = 0)\n",
    "revenue_2 = revenue_2.rename_columns(['ID', 'RANDOM'])\n",
    "try:\n",
    "     cursor.execute(\"DROP TABLE REVENUE_2_TBL;\")\n",
    "except:\n",
    "     pass\n",
    "revenue_2.save('REVENUE_2_TBL')\n",
    "\n",
    "# Product Costs:\n",
    "cost_2 = normal (connection_context, num_random = number, mean = 1000, sigma = 75, seed = 0)\n",
    "cost_2 = cost_2.rename_columns(['ID', 'RANDOM'])\n",
    "try:\n",
    "    cursor.execute(\"DROP TABLE COST_2_TBL;\")\n",
    "except:\n",
    "     pass    \n",
    "cost_2.save('COST_2_TBL')\n",
    "\n",
    "# Overheads:\n",
    "overheads_2 = uniform(connection_context, num_random = number, low = 1800, high = 2200, seed = 0)\n",
    "overheads_2 = overheads_2.rename_columns(['ID', 'RANDOM'])\n",
    "try:\n",
    "    cursor.execute(\"DROP TABLE OVERHEAD_2_TBL;\")\n",
    "except:\n",
    "     pass\n",
    "overheads_2.save('OVERHEAD_2_TBL')\n",
    "\n",
    "# Capital Investment (for year 1 and year 2)\n",
    "investment_2 = normal (connection_context, num_random = number, mean = 2000, sigma = 100, seed = 0)\n",
    "investment_2 = investment_2.rename_columns(['ID', 'RANDOM'])\n",
    "try:\n",
    "    cursor.execute(\"DROP TABLE INVESTMENT_2_TBL;\")\n",
    "except:\n",
    "     pass\n",
    "investment_2.save('INVESTMENT_2_TBL')\n",
    "\n",
    "try:\n",
    "    cursor.execute(\"DROP TABLE PAL_CASHFLOW_YEAR2;\")\n",
    "except:\n",
    "     pass\n",
    "cursor.execute(\"CREATE COLUMN TABLE PAL_CASHFLOW_YEAR2(ID INTEGER, CASH DOUBLE);\")\n",
    "sql = \"INSERT INTO PAL_CASHFLOW_YEAR2\" + \" SELECT REVENUE_2_TBL.ID, REVENUE_2_TBL.RANDOM - COST_2_TBL.RANDOM - OVERHEAD_2_TBL.RANDOM - INVESTMENT_2_TBL.RANDOM FROM REVENUE_2_TBL\" + \" LEFT JOIN COST_2_TBL ON REVENUE_2_TBL.ID = COST_2_TBL.ID\" +\" LEFT JOIN OVERHEAD_2_TBL ON REVENUE_2_TBL.ID = OVERHEAD_2_TBL.ID \" + \" LEFT JOIN INVESTMENT_2_TBL ON REVENUE_2_TBL.ID = INVESTMENT_2_TBL.ID;\"\n",
    "cursor.execute(sql) \n",
    "\n",
    "\n",
    "print(connection_context.table('REVENUE_2_TBL').head(5).collect())\n",
    "print(connection_context.table('COST_2_TBL').head(5).collect())\n",
    "print(connection_context.table('OVERHEAD_2_TBL').head(5).collect())\n",
    "print(connection_context.table('INVESTMENT_2_TBL').head(5).collect())\n",
    "print(connection_context.table('PAL_CASHFLOW_YEAR2').head(5).collect())\n"
   ]
  },
  {
   "cell_type": "code",
   "execution_count": 5,
   "metadata": {},
   "outputs": [
    {
     "name": "stdout",
     "output_type": "stream",
     "text": [
      "   ID       RANDOM\n",
      "0   0  6914.307850\n",
      "1   1  8970.024402\n",
      "2   2  7593.986092\n",
      "3   3  6989.392793\n",
      "4   4  8372.586885\n",
      "   ID       RANDOM\n",
      "0   0  2620.160412\n",
      "1   1  2212.172621\n",
      "2   2  2458.370254\n",
      "3   3  2538.706752\n",
      "4   4  2934.264779\n",
      "   ID       RANDOM\n",
      "0   0  2406.405287\n",
      "1   1  2554.676226\n",
      "2   2  2703.902219\n",
      "3   3  2626.532762\n",
      "4   4  2252.874482\n",
      "   ID         CASH\n",
      "0   0  1887.742150\n",
      "1   1  4203.175554\n",
      "2   2  2431.713619\n",
      "3   3  1824.153280\n",
      "4   4  3185.447624\n"
     ]
    }
   ],
   "source": [
    "# Product Revenue:\n",
    "revenue_3 = normal (connection_context, num_random = number, mean = 8000, sigma = 800, seed = 0)\n",
    "revenue_3 = revenue_3.rename_columns(['ID', 'RANDOM'])\n",
    "try:\n",
    "     cursor.execute(\"DROP TABLE REVENUE_3_TBL;\")\n",
    "except:\n",
    "     pass\n",
    "revenue_3.save('REVENUE_3_TBL')\n",
    "\n",
    "# Product Costs:\n",
    "cost_3 = normal (connection_context, num_random = number, mean = 2500, sigma = 187.5, seed = 0)\n",
    "cost_3 = cost_3.rename_columns(['ID', 'RANDOM'])\n",
    "try:\n",
    "    cursor.execute(\"DROP TABLE COST_3_TBL;\")\n",
    "except:\n",
    "     pass    \n",
    "cost_3.save('COST_3_TBL')\n",
    "\n",
    "# Overheads:\n",
    "overheads_3 = uniform(connection_context, num_random = number, low = 2200, high = 2800, seed = 0)\n",
    "overheads_3 = overheads_3.rename_columns(['ID', 'RANDOM'])\n",
    "try:\n",
    "    cursor.execute(\"DROP TABLE OVERHEAD_3_TBL;\")\n",
    "except:\n",
    "     pass\n",
    "overheads_3.save('OVERHEAD_3_TBL')\n",
    "\n",
    "try:\n",
    "    cursor.execute(\"DROP TABLE PAL_CASHFLOW_YEAR3;\")\n",
    "except:\n",
    "     pass\n",
    "cursor.execute(\"CREATE COLUMN TABLE PAL_CASHFLOW_YEAR3(ID INTEGER, CASH DOUBLE);\")\n",
    "sql = \"INSERT INTO PAL_CASHFLOW_YEAR3\" + \" SELECT REVENUE_3_TBL.ID, REVENUE_3_TBL.RANDOM - COST_3_TBL.RANDOM - OVERHEAD_3_TBL.RANDOM FROM REVENUE_3_TBL\" + \" LEFT JOIN COST_3_TBL ON REVENUE_3_TBL.ID = COST_3_TBL.ID\" + \" LEFT JOIN OVERHEAD_3_TBL ON REVENUE_3_TBL.ID = OVERHEAD_3_TBL.ID \"\n",
    "cursor.execute(sql) \n",
    "\n",
    "\n",
    "print(connection_context.table('REVENUE_3_TBL').head(5).collect())\n",
    "print(connection_context.table('COST_3_TBL').head(5).collect())\n",
    "print(connection_context.table('OVERHEAD_3_TBL').head(5).collect())\n",
    "print(connection_context.table('PAL_CASHFLOW_YEAR3').head(5).collect())"
   ]
  },
  {
   "cell_type": "code",
   "execution_count": 6,
   "metadata": {},
   "outputs": [
    {
     "name": "stdout",
     "output_type": "stream",
     "text": [
      "   ID        RANDOM\n",
      "0   0  19212.494045\n",
      "1   1  15638.115383\n",
      "2   2  16845.266011\n",
      "3   3  15444.631018\n",
      "4   4  18990.935703\n",
      "   ID       RANDOM\n",
      "0   0  6391.882188\n",
      "1   1  6591.103373\n",
      "2   2  6603.359224\n",
      "3   3  5844.732202\n",
      "4   4  7219.391239\n",
      "   ID       RANDOM\n",
      "0   0  2990.001897\n",
      "1   1  2977.473511\n",
      "2   2  3223.420432\n",
      "3   3  3396.357636\n",
      "4   4  2685.482724\n",
      "   ID         CASH\n",
      "0   0  9830.609960\n",
      "1   1  6069.538498\n",
      "2   2  7018.486355\n",
      "3   3  6203.541179\n",
      "4   4  9086.061739\n"
     ]
    }
   ],
   "source": [
    "# Product Revenue:\n",
    "revenue_4 = normal (connection_context, num_random = number, mean = 18000, sigma = 1800, seed = 0)\n",
    "revenue_4 = revenue_4.rename_columns(['ID', 'RANDOM'])\n",
    "try:\n",
    "     cursor.execute(\"DROP TABLE REVENUE_4_TBL;\")\n",
    "except:\n",
    "     pass\n",
    "revenue_4.save('REVENUE_4_TBL')\n",
    "\n",
    "# Product Costs:\n",
    "cost_4 = normal (connection_context, num_random = number, mean = 7000, sigma = 525, seed = 0)\n",
    "cost_4 = cost_4.rename_columns(['ID', 'RANDOM'])\n",
    "try:\n",
    "    cursor.execute(\"DROP TABLE COST_4_TBL;\")\n",
    "except:\n",
    "     pass    \n",
    "cost_4.save('COST_4_TBL')\n",
    "\n",
    "# Overheads:\n",
    "overheads_4 = uniform(connection_context, num_random = number, low = 2600, high = 3400, seed = 0)\n",
    "overheads_4 = overheads_4.rename_columns(['ID', 'RANDOM'])\n",
    "try:\n",
    "    cursor.execute(\"DROP TABLE OVERHEAD_4_TBL;\")\n",
    "except:\n",
    "     pass\n",
    "overheads_4.save('OVERHEAD_4_TBL')\n",
    "\n",
    "try:\n",
    "    cursor.execute(\"DROP TABLE PAL_CASHFLOW_YEAR4;\")\n",
    "except:\n",
    "     pass\n",
    "cursor.execute(\"CREATE COLUMN TABLE PAL_CASHFLOW_YEAR4(ID INTEGER, CASH DOUBLE);\")\n",
    "sql = \"INSERT INTO PAL_CASHFLOW_YEAR4\" + \" SELECT REVENUE_4_TBL.ID, REVENUE_4_TBL.RANDOM - COST_4_TBL.RANDOM - OVERHEAD_4_TBL.RANDOM FROM REVENUE_4_TBL\" + \" LEFT JOIN COST_4_TBL ON REVENUE_4_TBL.ID = COST_4_TBL.ID\" +\" LEFT JOIN OVERHEAD_4_TBL ON REVENUE_4_TBL.ID = OVERHEAD_4_TBL.ID \"\n",
    "cursor.execute(sql) \n",
    "\n",
    "\n",
    "print(connection_context.table('REVENUE_4_TBL').head(5).collect())\n",
    "print(connection_context.table('COST_4_TBL').head(5).collect())\n",
    "print(connection_context.table('OVERHEAD_4_TBL').head(5).collect())\n",
    "print(connection_context.table('PAL_CASHFLOW_YEAR4').head(5).collect())"
   ]
  },
  {
   "cell_type": "code",
   "execution_count": 7,
   "metadata": {},
   "outputs": [
    {
     "name": "stdout",
     "output_type": "stream",
     "text": [
      "   ID        RANDOM\n",
      "0   0  30428.578260\n",
      "1   1  29588.289558\n",
      "2   2  30750.024634\n",
      "3   3  26861.146832\n",
      "4   4  35505.480118\n",
      "   ID       RANDOM\n",
      "0   0  5186.104834\n",
      "1   1  6411.205412\n",
      "2   2  4033.152210\n",
      "3   3  5632.883417\n",
      "4   4  5598.619139\n",
      "   ID       RANDOM\n",
      "0   0  3568.675504\n",
      "1   1  3067.879681\n",
      "2   2  3268.247887\n",
      "3   3  3117.757690\n",
      "4   4  3126.424580\n",
      "   ID          CASH\n",
      "0   0  21673.797922\n",
      "1   1  20109.204465\n",
      "2   2  23448.624537\n",
      "3   3  18110.505724\n",
      "4   4  26780.436399\n"
     ]
    }
   ],
   "source": [
    "# Product Revenue:\n",
    "revenue_5 = normal (connection_context, num_random = number, mean = 30000, sigma = 3000, seed = 0)\n",
    "revenue_5 = revenue_5.rename_columns(['ID', 'RANDOM'])\n",
    "try:\n",
    "     cursor.execute(\"DROP TABLE REVENUE_5_TBL;\")\n",
    "except:\n",
    "     pass\n",
    "revenue_5.save('REVENUE_5_TBL')\n",
    "\n",
    "# Product Costs:\n",
    "cost_5 = normal (connection_context, num_random = number, mean = 5000, sigma = 750, seed = 0)\n",
    "cost_5 = cost_5.rename_columns(['ID', 'RANDOM'])\n",
    "try:\n",
    "    cursor.execute(\"DROP TABLE COST_5_TBL;\")\n",
    "except:\n",
    "     pass    \n",
    "cost_5.save('COST_5_TBL')\n",
    "\n",
    "# Overheads:\n",
    "overheads_5 = uniform(connection_context, num_random = number, low = 3000, high = 4000, seed = 0)\n",
    "overheads_5 = overheads_5.rename_columns(['ID', 'RANDOM'])\n",
    "try:\n",
    "    cursor.execute(\"DROP TABLE OVERHEAD_5_TBL;\")\n",
    "except:\n",
    "     pass\n",
    "overheads_5.save('OVERHEAD_5_TBL')\n",
    "\n",
    "try:\n",
    "    cursor.execute(\"DROP TABLE PAL_CASHFLOW_YEAR5;\")\n",
    "except:\n",
    "     pass\n",
    "cursor.execute(\"CREATE COLUMN TABLE PAL_CASHFLOW_YEAR5(ID INTEGER, CASH DOUBLE);\")\n",
    "sql = \"INSERT INTO PAL_CASHFLOW_YEAR5\" + \" SELECT REVENUE_5_TBL.ID, REVENUE_5_TBL.RANDOM - COST_5_TBL.RANDOM - OVERHEAD_5_TBL.RANDOM FROM REVENUE_5_TBL\" + \" LEFT JOIN COST_5_TBL ON REVENUE_5_TBL.ID = COST_5_TBL.ID\" +\" LEFT JOIN OVERHEAD_5_TBL ON REVENUE_5_TBL.ID = OVERHEAD_5_TBL.ID \"\n",
    "cursor.execute(sql) \n",
    "\n",
    "\n",
    "print(connection_context.table('REVENUE_5_TBL').head(5).collect())\n",
    "print(connection_context.table('COST_5_TBL').head(5).collect())\n",
    "print(connection_context.table('OVERHEAD_5_TBL').head(5).collect())\n",
    "print(connection_context.table('PAL_CASHFLOW_YEAR5').head(5).collect())"
   ]
  },
  {
   "cell_type": "markdown",
   "metadata": {},
   "source": [
    "### Step 3: Net Present Value Calculation\n",
    "\n",
    "Calculate the net present value of the investment by the following equation for each sampling."
   ]
  },
  {
   "cell_type": "code",
   "execution_count": 8,
   "metadata": {},
   "outputs": [
    {
     "name": "stdout",
     "output_type": "stream",
     "text": [
      "        NPVALUE\n",
      "0  13012.000521\n",
      "1  11403.787425\n",
      "2  14484.893706\n",
      "3   7849.093168\n",
      "4  18909.901521\n"
     ]
    }
   ],
   "source": [
    "try:\n",
    "    cursor.execute(\"DROP TABLE NPV;\")\n",
    "except:\n",
    "    pass\n",
    "cursor.execute(\"CREATE COLUMN TABLE NPV ( NPVALUE DOUBLE);\")\n",
    "cursor.execute(\"INSERT INTO NPV SELECT PAL_CASHFLOW_YEAR1.CASH + PAL_CASHFLOW_YEAR2.CASH/1.05 + PAL_CASHFLOW_YEAR3.CASH/POWER(1.05,2) +  PAL_CASHFLOW_YEAR4.CASH/POWER(1.05,3) + PAL_CASHFLOW_YEAR5.CASH/POWER(1.05,4) FROM PAL_CASHFLOW_YEAR1 LEFT JOIN PAL_CASHFLOW_YEAR2 ON PAL_CASHFLOW_YEAR1.ID = PAL_CASHFLOW_YEAR2.ID LEFT JOIN PAL_CASHFLOW_YEAR3 ON PAL_CASHFLOW_YEAR1.ID = PAL_CASHFLOW_YEAR3.ID LEFT JOIN PAL_CASHFLOW_YEAR4 ON PAL_CASHFLOW_YEAR1.ID = PAL_CASHFLOW_YEAR4.ID LEFT JOIN PAL_CASHFLOW_YEAR5 ON PAL_CASHFLOW_YEAR1.ID = PAL_CASHFLOW_YEAR5.ID;\")\n",
    "\n",
    "print(connection_context.table('NPV').head(5).collect())"
   ]
  },
  {
   "cell_type": "markdown",
   "metadata": {},
   "source": [
    "### Step 4: Model Fitting\n",
    "\n",
    "Plot the distribution of the net present value of the investment and run Distribution Fitting to fit a normal distribution to the NPV of the investment as. (The Central Limit theorem states that the output distribution will be a normal distribution.)"
   ]
  },
  {
   "cell_type": "code",
   "execution_count": 9,
   "metadata": {},
   "outputs": [
    {
     "name": "stdout",
     "output_type": "stream",
     "text": [
      "               NAME    VALUE\n",
      "0  DISTRIBUTIONNAME   NORMAL\n",
      "1              MEAN  11755.5\n",
      "2                SD  3184.34\n",
      "       STAT_NAME  STAT_VALUE\n",
      "0  LOGLIKELIHOOD  -94.849396\n"
     ]
    }
   ],
   "source": [
    "from hana_ml.algorithms.pal.stats import distribution_fit\n",
    "npv = connection_context.table('NPV')\n",
    "result_npv = distribution_fit(data = npv, \n",
    "                              distr_type = \"normal\",\n",
    "                              optimal_method = \"maximum_likelihood\", \n",
    "                              censored=False)\n",
    "print(result_npv[0].collect())\n",
    "print(result_npv[1].collect())"
   ]
  },
  {
   "cell_type": "markdown",
   "metadata": {},
   "source": [
    "### Step 5: CDF  \n",
    "\n",
    "According to the fitted model, run the Cumulative Distribution function to obtain the probability of having an NPV of investment smaller than or equal to a given NPV of the investment.\n",
    "\n",
    "Prepare the data:"
   ]
  },
  {
   "cell_type": "code",
   "execution_count": 11,
   "metadata": {},
   "outputs": [
    {
     "name": "stdout",
     "output_type": "stream",
     "text": [
      "   DATACOL\n",
      "0   7000.0\n",
      "1   8000.0\n",
      "2   9000.0\n",
      "3  10000.0\n",
      "4  11000.0\n"
     ]
    }
   ],
   "source": [
    "cursor = connection_context.connection.cursor()\n",
    "try:\n",
    "    cursor.execute(\"DROP TABLE PAL_DISTRPROB_DATA_TBL\")\n",
    "except:\n",
    "    pass\n",
    "cursor.execute('CREATE COLUMN TABLE PAL_DISTRPROB_DATA_TBL (\\\"DATACOL\\\" DOUBLE);')\n",
    "values = [(7000,),(8000,),(9000,),(10000,),(11000,)]\n",
    "try:\n",
    "    cursor.executemany(\"INSERT INTO \" +\n",
    "                       \"{} VALUES ({})\".format('PAL_DISTRPROB_DATA_TBL',\n",
    "                       ', '.join(['?']*len(values[0]))), values)\n",
    "    connection_context.connection.commit()\n",
    "finally:\n",
    "    cursor.close()\n",
    "distri_prob_df = connection_context.table(\"PAL_DISTRPROB_DATA_TBL\")\n",
    "\n",
    "print(distri_prob_df.collect())"
   ]
  },
  {
   "cell_type": "markdown",
   "metadata": {},
   "source": [
    "Invoke CDF and fetch the mean and variance from result.npv:"
   ]
  },
  {
   "cell_type": "code",
   "execution_count": 12,
   "metadata": {},
   "outputs": [
    {
     "name": "stdout",
     "output_type": "stream",
     "text": [
      "   DATACOL  PROBABILITY\n",
      "0   7000.0     0.067666\n",
      "1   8000.0     0.119126\n",
      "2   9000.0     0.193429\n",
      "3  10000.0     0.290717\n",
      "4  11000.0     0.406230\n"
     ]
    }
   ],
   "source": [
    "from hana_ml.algorithms.pal.stats import cdf\n",
    "mean = float(result_npv[0].collect()['VALUE'][1])\n",
    "sd = float(result_npv[0].collect()['VALUE'][2])\n",
    "variance = sd*sd\n",
    "distr_info = {'name' : 'normal', 'mean' :  mean, 'variance': variance}\n",
    "result = cdf(distri_prob_df, distr_info, complementary=False)\n",
    "print(result.collect())"
   ]
  },
  {
   "cell_type": "markdown",
   "metadata": {},
   "source": [
    "## Close HANA Connection"
   ]
  },
  {
   "cell_type": "code",
   "execution_count": 15,
   "metadata": {},
   "outputs": [],
   "source": [
    "tbls = (\"REVENUE_1_TBL\",\"REVENUE_2_TBL\", \"REVENUE_3_TBL\", \n",
    "             \"REVENUE_4_TBL\", \"REVENUE_5_TBL\",\n",
    "             \"COST_1_TBL\",\"COST_2_TBL\", \"COST_3_TBL\", \n",
    "             \"COST_4_TBL\", \"COST_5_TBL\",\n",
    "             \"OVERHEADS_1_TBL\",\"OVERHEADS_2_TBL\", \"OVERHEADS_3_TBL\", \n",
    "             \"OVERHEADS_4_TBL\", \"OVERHEADS_5_TBL\",\n",
    "             \"INVESTMENT_1_TBL\",\"INVESTMENT_2_TBL\",\n",
    "             \"PAL_CASHFLOW_YEAR1\",\"PAL_CASHFLOW_YEAR2\", \"PAL_CASHFLOW_YEAR3\", \n",
    "             \"PAL_CASHFLOW_YEAR4\", \"PAL_CASHFLOW_YEAR5\",\n",
    "             \"NPV\", \"PAL_DISTRPROB_DATA_TBL\")\n",
    "for table in tbls:\n",
    "    try:\n",
    "        cursor.execute(table) \n",
    "    except:\n",
    "        pass\n",
    "connection_context.close()"
   ]
  }
 ],
 "metadata": {
  "kernelspec": {
   "display_name": "Python 3",
   "language": "python",
   "name": "python3"
  },
  "language_info": {
   "codemirror_mode": {
    "name": "ipython",
    "version": 3
   },
   "file_extension": ".py",
   "mimetype": "text/x-python",
   "name": "python",
   "nbconvert_exporter": "python",
   "pygments_lexer": "ipython3",
   "version": "3.7.6"
  }
 },
 "nbformat": 4,
 "nbformat_minor": 4
}

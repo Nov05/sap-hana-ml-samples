{
 "cells": [
  {
   "cell_type": "markdown",
   "metadata": {},
   "source": [
    "### HDL "
   ]
  },
  {
   "cell_type": "markdown",
   "metadata": {},
   "source": [
    "#### create dl table by create_table"
   ]
  },
  {
   "cell_type": "code",
   "execution_count": null,
   "metadata": {},
   "outputs": [],
   "source": [
    "from hana_ml.dataframe import ConnectionContext\n",
    "\n",
    "conn = ConnectionContext(address=\"f98ad2fb-a57e-4bbb-8509-f31b59074da6.hana.canary-eu10.hanacloud.ondemand.com\",\n",
    "                         port=443,\n",
    "                         user=\"MLLAB_DL1\",\n",
    "                         encrypt='true',\n",
    "                         sslValidateCertificate='false')"
   ]
  },
  {
   "cell_type": "code",
   "execution_count": null,
   "metadata": {},
   "outputs": [],
   "source": [
    "conn.drop_table(\"DL_TABLE\", data_lake=True)\n",
    "conn.create_table(table=\"DL_TABLE\", table_structure={\"A\":\"INT\"}, data_lake=True)"
   ]
  },
  {
   "cell_type": "markdown",
   "metadata": {},
   "source": [
    "#### create HANA virtual table"
   ]
  },
  {
   "cell_type": "code",
   "execution_count": null,
   "metadata": {},
   "outputs": [],
   "source": [
    "conn.drop_table(\"DL_TABLE\")\n",
    "conn.create_virtual_table(table=\"DL_TABLE\", data_lake_table=\"DL_TABLE\")"
   ]
  },
  {
   "cell_type": "markdown",
   "metadata": {},
   "source": [
    "#### query virtual table"
   ]
  },
  {
   "cell_type": "code",
   "execution_count": null,
   "metadata": {},
   "outputs": [],
   "source": [
    "conn.sql(\"SELECT * FROM DL_TABLE\").collect()"
   ]
  },
  {
   "cell_type": "markdown",
   "metadata": {},
   "source": [
    "#### drop DL table & HANA virtual table"
   ]
  },
  {
   "cell_type": "code",
   "execution_count": null,
   "metadata": {},
   "outputs": [],
   "source": [
    "conn.drop_table(\"DL_TABLE\", data_lake=True)\n",
    "conn.drop_table(\"DL_TABLE\")"
   ]
  },
  {
   "cell_type": "markdown",
   "metadata": {},
   "source": [
    "#### copy dataframe to data lake"
   ]
  },
  {
   "cell_type": "code",
   "execution_count": null,
   "metadata": {},
   "outputs": [],
   "source": [
    "import pandas as pd\n",
    "from hana_ml.dataframe import create_dataframe_from_pandas\n",
    "\n",
    "df = create_dataframe_from_pandas(conn, pandas_df=pd.DataFrame({\"A\": [1,2,3]}), table_name=\"MY_TABLE\", force=True)"
   ]
  },
  {
   "cell_type": "code",
   "execution_count": null,
   "metadata": {},
   "outputs": [],
   "source": [
    "df.collect()"
   ]
  },
  {
   "cell_type": "code",
   "execution_count": null,
   "metadata": {},
   "outputs": [],
   "source": [
    "df.save(\"DL_TABLE\", data_lake=True)"
   ]
  },
  {
   "cell_type": "code",
   "execution_count": null,
   "metadata": {},
   "outputs": [],
   "source": [
    "conn.sql(\"SELECT * FROM DL_TABLE\").collect()"
   ]
  },
  {
   "cell_type": "code",
   "execution_count": null,
   "metadata": {},
   "outputs": [],
   "source": [
    "conn.drop_table(\"DL_TABLE\", data_lake=True)\n",
    "conn.drop_table(\"DL_TABLE\")"
   ]
  },
  {
   "cell_type": "code",
   "execution_count": null,
   "metadata": {},
   "outputs": [],
   "source": [
    "conn.copy_to_data_lake(df, virtual_table=\"DL_TABLE\", data_lake_table=\"DL_TABLE\", append=False)"
   ]
  },
  {
   "cell_type": "code",
   "execution_count": null,
   "metadata": {},
   "outputs": [],
   "source": [
    "conn.sql(\"SELECT * FROM DL_TABLE\").collect()"
   ]
  },
  {
   "cell_type": "markdown",
   "metadata": {},
   "source": [
    "#### Model Storage in DL"
   ]
  },
  {
   "cell_type": "code",
   "execution_count": null,
   "metadata": {},
   "outputs": [],
   "source": [
    "from data_load_utils import DataSets, Settings\n",
    "from hana_ml.algorithms.pal.model_selection import GridSearchCV\n",
    "from hana_ml.algorithms.pal.unified_classification import UnifiedClassification\n",
    "full_tbl, train_tbl, test_tbl, _ = DataSets.load_diabetes_data(conn)\n",
    "diabetes_train = conn.table(train_tbl)\n",
    "diabetes_test = conn.table(test_tbl)\n",
    "\n",
    "uc_hgbdt = UnifiedClassification('HybridGradientBoostingTree')\n",
    "\n",
    "gscv = GridSearchCV(estimator=uc_hgbdt, \n",
    "                    param_grid={'learning_rate': [0.1, 0.4, 0.7, 1],\n",
    "                                'n_estimators': [4, 6, 8, 10],\n",
    "                                'split_threshold': [0.1, 0.4, 0.7, 1]},\n",
    "                    train_control=dict(fold_num=5,\n",
    "                                       resampling_method='cv',\n",
    "                                       random_state=1,\n",
    "                                       ref_metric=['auc']),\n",
    "                    scoring='error_rate')\n",
    "gscv.fit(data=diabetes_train, key= 'ID',\n",
    "         label='CLASS',\n",
    "         partition_method='stratified',\n",
    "         partition_random_state=1,\n",
    "         stratified_column='CLASS',\n",
    "         build_report=True)\n",
    "features = diabetes_train.columns\n",
    "features.remove('CLASS')\n",
    "features.remove('ID')\n",
    "pred_res = gscv.predict(diabetes_test, key='ID', features=features)"
   ]
  },
  {
   "cell_type": "code",
   "execution_count": null,
   "metadata": {},
   "outputs": [],
   "source": [
    "from hana_ml.model_storage import ModelStorage\n",
    "\n",
    "model_storage = ModelStorage(connection_context=conn)\n",
    "gscv.estimator.name = 'HGBT' \n",
    "gscv.estimator.version = 1\n",
    "model_storage.save_model(model=gscv.estimator, storage_type='HDL')"
   ]
  },
  {
   "cell_type": "code",
   "execution_count": null,
   "metadata": {},
   "outputs": [],
   "source": [
    "model_storage.list_models()"
   ]
  },
  {
   "cell_type": "code",
   "execution_count": null,
   "metadata": {},
   "outputs": [],
   "source": [
    "model_storage.delete_model(\"HGBT\", 1)\n",
    "model_storage.list_models()"
   ]
  }
 ],
 "metadata": {
  "kernelspec": {
   "display_name": "Python 3",
   "language": "python",
   "name": "python3"
  },
  "language_info": {
   "codemirror_mode": {
    "name": "ipython",
    "version": 3
   },
   "file_extension": ".py",
   "mimetype": "text/x-python",
   "name": "python",
   "nbconvert_exporter": "python",
   "pygments_lexer": "ipython3",
   "version": "3.9.5"
  }
 },
 "nbformat": 4,
 "nbformat_minor": 4
}

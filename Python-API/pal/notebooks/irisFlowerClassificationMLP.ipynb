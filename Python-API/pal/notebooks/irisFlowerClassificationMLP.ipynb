{
 "cells": [
  {
   "cell_type": "markdown",
   "metadata": {},
   "source": [
    "# MultiLayer Perceptron Classification Example\n"
   ]
  },
  {
   "cell_type": "markdown",
   "metadata": {},
   "source": [
    "A data set that identifies different types of Iris's is used to demonstrate the use of multi layer perceptron in SAP HANA.  This data set is also used in a clustering example where the objective was to cluster the flowers into three clusters and the intuition was that the three clusters would correspond to the three types of Iris's in the data set.  Since we know the labels (i.e. the types of Iris's), we can use classification to create a model to predict the type of flower based on features or characteristics that are explained below.\n",
    "\n",
    "## Iris Data Set\n",
    "The data set used is from University of California, Irvine (https://archive.ics.uci.edu/ml/datasets/iris). For tutorials use only.  This data set contains attributes of a plant iris.  There are three species of Iris plants.\n",
    "<table>\n",
    "<tr><td>Iris Setosa</td><td><img src=\"images/Iris_setosa.jpg\" title=\"Iris Sertosa\" style=\"float:left;\" width=\"300\" height=\"50\" /></td>\n",
    "<td>Iris Versicolor</td><td><img src=\"images/Iris_versicolor.jpg\" title=\"Iris Versicolor\" style=\"float:left;\" width=\"300\" height=\"50\" /></td>\n",
    "<td>Iris Virginica</td><td><img src=\"images/Iris_virginica.jpg\" title=\"Iris Virginica\" style=\"float:left;\" width=\"300\" height=\"50\" /></td></tr>\n",
    "</table>\n",
    "\n",
    "The data contains the following attributes for various flowers:\n",
    "<table align=\"left\"><tr><td>\n",
    "<li align=\"top\">sepal length in cm</li>\n",
    "<li align=\"left\">sepal width in cm</li>\n",
    "<li align=\"left\">petal length in cm</li>\n",
    "<li align=\"left\">petal width in cm</li>\n",
    "</td><td><img src=\"images/sepal_petal.jpg\" style=\"float:left;\" width=\"200\" height=\"40\" /></td></tr></table>\n",
    "\n",
    "Although the flower is identified in the data set, we will cluster the data set into 3 clusters since we know there are three different flowers.  The hope is that the cluster will correspond to each of the flowers.\n",
    "\n",
    "A different notebook will use a classification algorithm to predict the type of flower based on the sepal and petal dimensions."
   ]
  },
  {
   "cell_type": "code",
   "execution_count": 1,
   "metadata": {},
   "outputs": [],
   "source": [
    "%matplotlib inline\n",
    "from hana_ml import dataframe\n",
    "from hana_ml.algorithms.pal.neural_network import MLPClassifier, MLPRegressor\n",
    "from hana_ml.algorithms.pal import metrics"
   ]
  },
  {
   "cell_type": "markdown",
   "metadata": {},
   "source": [
    "## Load data\n",
    "The data is loaded into 4 tables - full set, test set, training set, and the validation set:\n",
    "<li>IRIS_DATA_FULL_TBL</li>\n",
    "<li>IRIS_DATA_TRAIN_TBL</li>\n",
    "<li>IRIS_DATA_TEST_TBL</li>\n",
    "<li>IRIS_DATA_VALIDATION_TBL</li>\n",
    "\n",
    "To do that, a connection is created and passed to the loader.\n",
    "\n",
    "There is a config file, <b>config/e2edata.ini</b> that controls the connection parameters and whether or not to reload the data from scratch.  In case the data is already loaded, there would be no need to load the data.  A sample section is below.  If the config parameter, reload_data is true then the tables for test, training, and validation are (re-)created and data inserted into them.\n",
    "\n",
    "#########################<br>\n",
    "[hana]<br>\n",
    "url=host.sjc.sap.corp<br>\n",
    "user=username<br>\n",
    "passwd=userpassword<br>\n",
    "port=3xx15<br>\n",
    "<br>\n",
    "\n",
    "#########################<br>"
   ]
  },
  {
   "cell_type": "code",
   "execution_count": 2,
   "metadata": {},
   "outputs": [
    {
     "name": "stdout",
     "output_type": "stream",
     "text": [
      "Table IRIS_DATA_FULL_TBL exists and data exists\n"
     ]
    }
   ],
   "source": [
    "from data_load_utils import DataSets, Settings\n",
    "import plotting_utils\n",
    "url, port, user, pwd = Settings.load_config(\"../../config/e2edata.ini\")\n",
    "connection_context = dataframe.ConnectionContext(url, port, user, pwd)\n",
    "full_tbl, training_tbl, validation_tbl, test_tbl = DataSets.load_iris_data(connection_context)"
   ]
  },
  {
   "cell_type": "markdown",
   "metadata": {},
   "source": [
    "# Create Data Frames\n",
    "Create the data frames for the full, test, training, and validation sets.\n",
    "\n",
    "Let us also do some data exploration."
   ]
  },
  {
   "cell_type": "markdown",
   "metadata": {},
   "source": [
    "## Define Datasets - Training, validation, and test sets\n",
    "Data frames are used keep references to data so computation on large data sets in HANA can happen in HANA.  Trying to bring the entire data set into the client will likely result in out of memory exceptions.\n",
    "\n",
    "The original/full dataset is split into training, test and validation sets.  In the example below, they reside in different tables."
   ]
  },
  {
   "cell_type": "code",
   "execution_count": 3,
   "metadata": {},
   "outputs": [],
   "source": [
    "full_set = connection_context.table(full_tbl)\n",
    "training_set = connection_context.table(training_tbl)\n",
    "validation_set = connection_context.table(validation_tbl)\n",
    "test_set = connection_context.table(test_tbl)"
   ]
  },
  {
   "cell_type": "markdown",
   "metadata": {},
   "source": [
    "## Simple Exploration\n",
    "Let us look at the number of rows in the data set"
   ]
  },
  {
   "cell_type": "code",
   "execution_count": 4,
   "metadata": {},
   "outputs": [
    {
     "name": "stdout",
     "output_type": "stream",
     "text": [
      "Number of rows in full set: 150\n",
      "Number of rows in training set: 75\n",
      "Number of rows in validation set: 60\n",
      "Number of rows in test set: 15\n"
     ]
    }
   ],
   "source": [
    "print('Number of rows in full set: {}'.format(full_set.count()))\n",
    "print('Number of rows in training set: {}'.format(training_set.count()))\n",
    "print('Number of rows in validation set: {}'.format(validation_set.count()))\n",
    "print('Number of rows in test set: {}'.format(test_set.count()))"
   ]
  },
  {
   "cell_type": "markdown",
   "metadata": {},
   "source": [
    "### Let's look at the columns"
   ]
  },
  {
   "cell_type": "code",
   "execution_count": 5,
   "metadata": {},
   "outputs": [
    {
     "name": "stdout",
     "output_type": "stream",
     "text": [
      "['ID', 'SEPALLENGTHCM', 'SEPALWIDTHCM', 'PETALLENGTHCM', 'PETALWIDTHCM', 'SPECIES']\n"
     ]
    }
   ],
   "source": [
    "print(full_set.columns)"
   ]
  },
  {
   "cell_type": "markdown",
   "metadata": {},
   "source": [
    "### Let us look at some rows"
   ]
  },
  {
   "cell_type": "code",
   "execution_count": 6,
   "metadata": {},
   "outputs": [
    {
     "data": {
      "text/html": [
       "<div>\n",
       "<style scoped>\n",
       "    .dataframe tbody tr th:only-of-type {\n",
       "        vertical-align: middle;\n",
       "    }\n",
       "\n",
       "    .dataframe tbody tr th {\n",
       "        vertical-align: top;\n",
       "    }\n",
       "\n",
       "    .dataframe thead th {\n",
       "        text-align: right;\n",
       "    }\n",
       "</style>\n",
       "<table border=\"1\" class=\"dataframe\">\n",
       "  <thead>\n",
       "    <tr style=\"text-align: right;\">\n",
       "      <th></th>\n",
       "      <th>ID</th>\n",
       "      <th>SEPALLENGTHCM</th>\n",
       "      <th>SEPALWIDTHCM</th>\n",
       "      <th>PETALLENGTHCM</th>\n",
       "      <th>PETALWIDTHCM</th>\n",
       "      <th>SPECIES</th>\n",
       "    </tr>\n",
       "  </thead>\n",
       "  <tbody>\n",
       "    <tr>\n",
       "      <th>0</th>\n",
       "      <td>1</td>\n",
       "      <td>4.3</td>\n",
       "      <td>3.0</td>\n",
       "      <td>1.1</td>\n",
       "      <td>0.1</td>\n",
       "      <td>Iris-setosa</td>\n",
       "    </tr>\n",
       "    <tr>\n",
       "      <th>1</th>\n",
       "      <td>2</td>\n",
       "      <td>6.3</td>\n",
       "      <td>3.4</td>\n",
       "      <td>5.6</td>\n",
       "      <td>2.4</td>\n",
       "      <td>Iris-virginica</td>\n",
       "    </tr>\n",
       "    <tr>\n",
       "      <th>2</th>\n",
       "      <td>3</td>\n",
       "      <td>6.1</td>\n",
       "      <td>3.0</td>\n",
       "      <td>4.6</td>\n",
       "      <td>1.4</td>\n",
       "      <td>Iris-versicolor</td>\n",
       "    </tr>\n",
       "    <tr>\n",
       "      <th>3</th>\n",
       "      <td>4</td>\n",
       "      <td>6.4</td>\n",
       "      <td>3.2</td>\n",
       "      <td>4.5</td>\n",
       "      <td>1.5</td>\n",
       "      <td>Iris-versicolor</td>\n",
       "    </tr>\n",
       "    <tr>\n",
       "      <th>4</th>\n",
       "      <td>5</td>\n",
       "      <td>6.2</td>\n",
       "      <td>2.9</td>\n",
       "      <td>4.3</td>\n",
       "      <td>1.3</td>\n",
       "      <td>Iris-versicolor</td>\n",
       "    </tr>\n",
       "  </tbody>\n",
       "</table>\n",
       "</div>"
      ],
      "text/plain": [
       "   ID  SEPALLENGTHCM  SEPALWIDTHCM  PETALLENGTHCM  PETALWIDTHCM  \\\n",
       "0   1            4.3           3.0            1.1           0.1   \n",
       "1   2            6.3           3.4            5.6           2.4   \n",
       "2   3            6.1           3.0            4.6           1.4   \n",
       "3   4            6.4           3.2            4.5           1.5   \n",
       "4   5            6.2           2.9            4.3           1.3   \n",
       "\n",
       "           SPECIES  \n",
       "0      Iris-setosa  \n",
       "1   Iris-virginica  \n",
       "2  Iris-versicolor  \n",
       "3  Iris-versicolor  \n",
       "4  Iris-versicolor  "
      ]
     },
     "execution_count": 6,
     "metadata": {},
     "output_type": "execute_result"
    }
   ],
   "source": [
    "full_set.head(5).collect()"
   ]
  },
  {
   "cell_type": "markdown",
   "metadata": {},
   "source": [
    "### Let's look at the data types"
   ]
  },
  {
   "cell_type": "code",
   "execution_count": 7,
   "metadata": {},
   "outputs": [
    {
     "data": {
      "text/plain": [
       "[('ID', 'INT', 10, 10, 10, 0),\n",
       " ('SEPALLENGTHCM', 'DOUBLE', 15, 15, 15, 0),\n",
       " ('SEPALWIDTHCM', 'DOUBLE', 15, 15, 15, 0),\n",
       " ('PETALLENGTHCM', 'DOUBLE', 15, 15, 15, 0),\n",
       " ('PETALWIDTHCM', 'DOUBLE', 15, 15, 15, 0),\n",
       " ('SPECIES', 'NVARCHAR', 15, 15, 15, 0)]"
      ]
     },
     "execution_count": 7,
     "metadata": {},
     "output_type": "execute_result"
    }
   ],
   "source": [
    "full_set.dtypes()"
   ]
  },
  {
   "cell_type": "markdown",
   "metadata": {},
   "source": [
    "### Let's check how many SPECIES are in the data set."
   ]
  },
  {
   "cell_type": "code",
   "execution_count": 8,
   "metadata": {},
   "outputs": [
    {
     "data": {
      "text/html": [
       "<div>\n",
       "<style scoped>\n",
       "    .dataframe tbody tr th:only-of-type {\n",
       "        vertical-align: middle;\n",
       "    }\n",
       "\n",
       "    .dataframe tbody tr th {\n",
       "        vertical-align: top;\n",
       "    }\n",
       "\n",
       "    .dataframe thead th {\n",
       "        text-align: right;\n",
       "    }\n",
       "</style>\n",
       "<table border=\"1\" class=\"dataframe\">\n",
       "  <thead>\n",
       "    <tr style=\"text-align: right;\">\n",
       "      <th></th>\n",
       "      <th>SPECIES</th>\n",
       "    </tr>\n",
       "  </thead>\n",
       "  <tbody>\n",
       "    <tr>\n",
       "      <th>0</th>\n",
       "      <td>Iris-setosa</td>\n",
       "    </tr>\n",
       "    <tr>\n",
       "      <th>1</th>\n",
       "      <td>Iris-versicolor</td>\n",
       "    </tr>\n",
       "    <tr>\n",
       "      <th>2</th>\n",
       "      <td>Iris-virginica</td>\n",
       "    </tr>\n",
       "  </tbody>\n",
       "</table>\n",
       "</div>"
      ],
      "text/plain": [
       "           SPECIES\n",
       "0      Iris-setosa\n",
       "1  Iris-versicolor\n",
       "2   Iris-virginica"
      ]
     },
     "execution_count": 8,
     "metadata": {},
     "output_type": "execute_result"
    }
   ],
   "source": [
    "full_set.distinct(\"SPECIES\").collect()"
   ]
  },
  {
   "cell_type": "markdown",
   "metadata": {},
   "source": [
    "## Create Model\n",
    "The lines below show the ease with which clustering can be done."
   ]
  },
  {
   "cell_type": "markdown",
   "metadata": {},
   "source": [
    "Set up the features and labels for the model and create the model"
   ]
  },
  {
   "cell_type": "code",
   "execution_count": 9,
   "metadata": {},
   "outputs": [],
   "source": [
    "%matplotlib inline\n",
    "from plotting_utils import DrawNN\n",
    "features = ['SEPALLENGTHCM','SEPALWIDTHCM','PETALLENGTHCM','PETALWIDTHCM']\n",
    "label = 'SPECIES'"
   ]
  },
  {
   "cell_type": "markdown",
   "metadata": {},
   "source": [
    "### Neural Network Architecture"
   ]
  },
  {
   "cell_type": "code",
   "execution_count": 10,
   "metadata": {},
   "outputs": [
    {
     "data": {
      "text/plain": [
       "<Figure size 432x288 with 0 Axes>"
      ]
     },
     "metadata": {},
     "output_type": "display_data"
    },
    {
     "data": {
      "text/plain": [
       "<Figure size 432x288 with 0 Axes>"
      ]
     },
     "metadata": {},
     "output_type": "display_data"
    },
    {
     "data": {
      "image/png": "[encoded data removed]",
      "text/plain": [
       "<Figure size 432x288 with 1 Axes>"
      ]
     },
     "metadata": {
      "needs_background": "light"
     },
     "output_type": "display_data"
    }
   ],
   "source": [
    "network = DrawNN( [1, 10, 1] )\n",
    "network.draw(False)"
   ]
  },
  {
   "cell_type": "markdown",
   "metadata": {},
   "source": [
    "### Model Creation"
   ]
  },
  {
   "cell_type": "code",
   "execution_count": 11,
   "metadata": {},
   "outputs": [
    {
     "data": {
      "text/plain": [
       "<hana_ml.algorithms.pal.neural_network.MLPClassifier at 0x26593b37f10>"
      ]
     },
     "execution_count": 11,
     "metadata": {},
     "output_type": "execute_result"
    }
   ],
   "source": [
    "mlpc = MLPClassifier(hidden_layer_size=(10,), activation='TANH', output_activation='TANH',\n",
    "                     training_style='batch', max_iter=100, normalization='z-transform',\n",
    "                     weight_init='uniform', thread_ratio=1)\n",
    "mlpc.fit(training_set, 'ID', features, label)"
   ]
  },
  {
   "cell_type": "markdown",
   "metadata": {},
   "source": [
    "### Model Storage"
   ]
  },
  {
   "cell_type": "code",
   "execution_count": 12,
   "metadata": {},
   "outputs": [
    {
     "data": {
      "text/html": [
       "<div>\n",
       "<style scoped>\n",
       "    .dataframe tbody tr th:only-of-type {\n",
       "        vertical-align: middle;\n",
       "    }\n",
       "\n",
       "    .dataframe tbody tr th {\n",
       "        vertical-align: top;\n",
       "    }\n",
       "\n",
       "    .dataframe thead th {\n",
       "        text-align: right;\n",
       "    }\n",
       "</style>\n",
       "<table border=\"1\" class=\"dataframe\">\n",
       "  <thead>\n",
       "    <tr style=\"text-align: right;\">\n",
       "      <th></th>\n",
       "      <th>NAME</th>\n",
       "      <th>VERSION</th>\n",
       "      <th>LIBRARY</th>\n",
       "      <th>CLASS</th>\n",
       "      <th>JSON</th>\n",
       "      <th>TIMESTAMP</th>\n",
       "      <th>STORAGE_TYPE</th>\n",
       "      <th>MODEL_STORAGE_VER</th>\n",
       "      <th>SCHEDULE</th>\n",
       "    </tr>\n",
       "  </thead>\n",
       "  <tbody>\n",
       "    <tr>\n",
       "      <th>0</th>\n",
       "      <td>OnlineLR_fit</td>\n",
       "      <td>1</td>\n",
       "      <td>PAL</td>\n",
       "      <td>hana_ml.algorithms.pal.linear_model.OnlineLine...</td>\n",
       "      <td>{\"model_attributes\": {\"tol\": 1e-06, \"max_iter\"...</td>\n",
       "      <td>2021-07-02 09:44:55</td>\n",
       "      <td>default</td>\n",
       "      <td>1</td>\n",
       "      <td>{\"schedule\": {\"status\": \"inactive\", \"schedule_...</td>\n",
       "    </tr>\n",
       "    <tr>\n",
       "      <th>1</th>\n",
       "      <td>OnlineLR_predict</td>\n",
       "      <td>1</td>\n",
       "      <td>PAL</td>\n",
       "      <td>hana_ml.algorithms.pal.linear_model.OnlineLine...</td>\n",
       "      <td>{\"model_attributes\": {\"tol\": 1e-06, \"max_iter\"...</td>\n",
       "      <td>2021-07-02 09:45:09</td>\n",
       "      <td>default</td>\n",
       "      <td>1</td>\n",
       "      <td>{\"schedule\": {\"status\": \"inactive\", \"schedule_...</td>\n",
       "    </tr>\n",
       "    <tr>\n",
       "      <th>2</th>\n",
       "      <td>Model A</td>\n",
       "      <td>1</td>\n",
       "      <td>PAL</td>\n",
       "      <td>hana_ml.algorithms.pal.linear_model.LogisticRe...</td>\n",
       "      <td>{\"model_attributes\": {\"multi_class\": false, \"m...</td>\n",
       "      <td>2021-07-06 10:25:12</td>\n",
       "      <td>default</td>\n",
       "      <td>1</td>\n",
       "      <td>{\"schedule\": {\"status\": \"inactive\", \"schedule_...</td>\n",
       "    </tr>\n",
       "    <tr>\n",
       "      <th>3</th>\n",
       "      <td>Model A</td>\n",
       "      <td>2</td>\n",
       "      <td>PAL</td>\n",
       "      <td>hana_ml.algorithms.pal.linear_model.LogisticRe...</td>\n",
       "      <td>{\"model_attributes\": {\"multi_class\": false, \"m...</td>\n",
       "      <td>2021-07-06 16:24:16</td>\n",
       "      <td>default</td>\n",
       "      <td>1</td>\n",
       "      <td>{\"schedule\": {\"status\": \"inactive\", \"schedule_...</td>\n",
       "    </tr>\n",
       "    <tr>\n",
       "      <th>4</th>\n",
       "      <td>Model A</td>\n",
       "      <td>3</td>\n",
       "      <td>PAL</td>\n",
       "      <td>hana_ml.algorithms.pal.linear_model.LogisticRe...</td>\n",
       "      <td>{\"model_attributes\": {\"multi_class\": false, \"m...</td>\n",
       "      <td>2021-07-06 16:39:03</td>\n",
       "      <td>default</td>\n",
       "      <td>1</td>\n",
       "      <td>{\"schedule\": {\"status\": \"inactive\", \"schedule_...</td>\n",
       "    </tr>\n",
       "    <tr>\n",
       "      <th>5</th>\n",
       "      <td>HGBT</td>\n",
       "      <td>1</td>\n",
       "      <td>PAL</td>\n",
       "      <td>hana_ml.algorithms.pal.unified_classification....</td>\n",
       "      <td>{\"model_attributes\": {\"func\": \"hybridgradientb...</td>\n",
       "      <td>2021-07-06 23:10:58</td>\n",
       "      <td>default</td>\n",
       "      <td>1</td>\n",
       "      <td>{\"schedule\": {\"status\": \"inactive\", \"schedule_...</td>\n",
       "    </tr>\n",
       "    <tr>\n",
       "      <th>6</th>\n",
       "      <td>ARIMA model</td>\n",
       "      <td>1</td>\n",
       "      <td>PAL</td>\n",
       "      <td>hana_ml.algorithms.pal.tsa.auto_arima.AutoARIMA</td>\n",
       "      <td>{\"model_attributes\": {\"seasonal_period\": null,...</td>\n",
       "      <td>2021-07-06 23:12:26</td>\n",
       "      <td>default</td>\n",
       "      <td>1</td>\n",
       "      <td>{\"schedule\": {\"status\": \"inactive\", \"schedule_...</td>\n",
       "    </tr>\n",
       "    <tr>\n",
       "      <th>7</th>\n",
       "      <td>HGBT</td>\n",
       "      <td>2</td>\n",
       "      <td>PAL</td>\n",
       "      <td>hana_ml.algorithms.pal.unified_classification....</td>\n",
       "      <td>{\"model_attributes\": {\"func\": \"hybridgradientb...</td>\n",
       "      <td>2021-07-07 08:45:42</td>\n",
       "      <td>default</td>\n",
       "      <td>1</td>\n",
       "      <td>{\"schedule\": {\"status\": \"inactive\", \"schedule_...</td>\n",
       "    </tr>\n",
       "    <tr>\n",
       "      <th>8</th>\n",
       "      <td>MLPC</td>\n",
       "      <td>1</td>\n",
       "      <td>PAL</td>\n",
       "      <td>hana_ml.algorithms.pal.neural_network.MLPClass...</td>\n",
       "      <td>{\"model_attributes\": {\"activation\": \"TANH\", \"a...</td>\n",
       "      <td>2021-07-07 11:36:58</td>\n",
       "      <td>default</td>\n",
       "      <td>1</td>\n",
       "      <td>{\"schedule\": {\"status\": \"inactive\", \"schedule_...</td>\n",
       "    </tr>\n",
       "  </tbody>\n",
       "</table>\n",
       "</div>"
      ],
      "text/plain": [
       "               NAME  VERSION LIBRARY  \\\n",
       "0      OnlineLR_fit        1     PAL   \n",
       "1  OnlineLR_predict        1     PAL   \n",
       "2           Model A        1     PAL   \n",
       "3           Model A        2     PAL   \n",
       "4           Model A        3     PAL   \n",
       "5              HGBT        1     PAL   \n",
       "6       ARIMA model        1     PAL   \n",
       "7              HGBT        2     PAL   \n",
       "8              MLPC        1     PAL   \n",
       "\n",
       "                                               CLASS  \\\n",
       "0  hana_ml.algorithms.pal.linear_model.OnlineLine...   \n",
       "1  hana_ml.algorithms.pal.linear_model.OnlineLine...   \n",
       "2  hana_ml.algorithms.pal.linear_model.LogisticRe...   \n",
       "3  hana_ml.algorithms.pal.linear_model.LogisticRe...   \n",
       "4  hana_ml.algorithms.pal.linear_model.LogisticRe...   \n",
       "5  hana_ml.algorithms.pal.unified_classification....   \n",
       "6    hana_ml.algorithms.pal.tsa.auto_arima.AutoARIMA   \n",
       "7  hana_ml.algorithms.pal.unified_classification....   \n",
       "8  hana_ml.algorithms.pal.neural_network.MLPClass...   \n",
       "\n",
       "                                                JSON           TIMESTAMP  \\\n",
       "0  {\"model_attributes\": {\"tol\": 1e-06, \"max_iter\"... 2021-07-02 09:44:55   \n",
       "1  {\"model_attributes\": {\"tol\": 1e-06, \"max_iter\"... 2021-07-02 09:45:09   \n",
       "2  {\"model_attributes\": {\"multi_class\": false, \"m... 2021-07-06 10:25:12   \n",
       "3  {\"model_attributes\": {\"multi_class\": false, \"m... 2021-07-06 16:24:16   \n",
       "4  {\"model_attributes\": {\"multi_class\": false, \"m... 2021-07-06 16:39:03   \n",
       "5  {\"model_attributes\": {\"func\": \"hybridgradientb... 2021-07-06 23:10:58   \n",
       "6  {\"model_attributes\": {\"seasonal_period\": null,... 2021-07-06 23:12:26   \n",
       "7  {\"model_attributes\": {\"func\": \"hybridgradientb... 2021-07-07 08:45:42   \n",
       "8  {\"model_attributes\": {\"activation\": \"TANH\", \"a... 2021-07-07 11:36:58   \n",
       "\n",
       "  STORAGE_TYPE  MODEL_STORAGE_VER  \\\n",
       "0      default                  1   \n",
       "1      default                  1   \n",
       "2      default                  1   \n",
       "3      default                  1   \n",
       "4      default                  1   \n",
       "5      default                  1   \n",
       "6      default                  1   \n",
       "7      default                  1   \n",
       "8      default                  1   \n",
       "\n",
       "                                            SCHEDULE  \n",
       "0  {\"schedule\": {\"status\": \"inactive\", \"schedule_...  \n",
       "1  {\"schedule\": {\"status\": \"inactive\", \"schedule_...  \n",
       "2  {\"schedule\": {\"status\": \"inactive\", \"schedule_...  \n",
       "3  {\"schedule\": {\"status\": \"inactive\", \"schedule_...  \n",
       "4  {\"schedule\": {\"status\": \"inactive\", \"schedule_...  \n",
       "5  {\"schedule\": {\"status\": \"inactive\", \"schedule_...  \n",
       "6  {\"schedule\": {\"status\": \"inactive\", \"schedule_...  \n",
       "7  {\"schedule\": {\"status\": \"inactive\", \"schedule_...  \n",
       "8  {\"schedule\": {\"status\": \"inactive\", \"schedule_...  "
      ]
     },
     "execution_count": 12,
     "metadata": {},
     "output_type": "execute_result"
    }
   ],
   "source": [
    "from hana_ml.model_storage import ModelStorage\n",
    "model_storage = ModelStorage(connection_context)\n",
    "\n",
    "mlpc.name = 'MLPC'  # The model name is mandatory\n",
    "mlpc.version = 1\n",
    "model_storage.save_model(model=mlpc)\n",
    "#need to increase version\n",
    "\n",
    "# Lists models\n",
    "model_storage.list_models()"
   ]
  },
  {
   "cell_type": "code",
   "execution_count": 13,
   "metadata": {},
   "outputs": [
    {
     "data": {
      "text/plain": [
       "'{\"model_attributes\": {\"tol\": 1e-06, \"max_iter\": 1200, \"enet_alpha\": 0.5, \"enet_lambda\": 0.1}, \"artifacts\": {\"schema\": \"PAL_TEST\", \"model_tables\": [\"HANAML_ONLINELR_FIT_1_CLASS_HANA_ML_ALGORITHMS_PAL_LINEAR_MODEL_ONLINELINEARREGRESSION_MODELS_0\", \"HANAML_ONLINELR_FIT_1_CLASS_HANA_ML_ALGORITHMS_PAL_LINEAR_MODEL_ONLINELINEARREGRESSION_MODELS_1\"], \"library\": \"PAL\"}}'"
      ]
     },
     "execution_count": 13,
     "metadata": {},
     "output_type": "execute_result"
    }
   ],
   "source": [
    "model_storage.list_models()['JSON'].iloc[0]"
   ]
  },
  {
   "cell_type": "code",
   "execution_count": 14,
   "metadata": {},
   "outputs": [],
   "source": [
    "model = model_storage.load_model(name='MLPC', version=1)"
   ]
  },
  {
   "cell_type": "code",
   "execution_count": 15,
   "metadata": {},
   "outputs": [
    {
     "data": {
      "text/html": [
       "<div>\n",
       "<style scoped>\n",
       "    .dataframe tbody tr th:only-of-type {\n",
       "        vertical-align: middle;\n",
       "    }\n",
       "\n",
       "    .dataframe tbody tr th {\n",
       "        vertical-align: top;\n",
       "    }\n",
       "\n",
       "    .dataframe thead th {\n",
       "        text-align: right;\n",
       "    }\n",
       "</style>\n",
       "<table border=\"1\" class=\"dataframe\">\n",
       "  <thead>\n",
       "    <tr style=\"text-align: right;\">\n",
       "      <th></th>\n",
       "      <th>ID</th>\n",
       "      <th>TARGET</th>\n",
       "      <th>VALUE</th>\n",
       "    </tr>\n",
       "  </thead>\n",
       "  <tbody>\n",
       "    <tr>\n",
       "      <th>0</th>\n",
       "      <td>1</td>\n",
       "      <td>Iris-versicolor</td>\n",
       "      <td>0.596027</td>\n",
       "    </tr>\n",
       "    <tr>\n",
       "      <th>1</th>\n",
       "      <td>2</td>\n",
       "      <td>Iris-versicolor</td>\n",
       "      <td>0.402452</td>\n",
       "    </tr>\n",
       "    <tr>\n",
       "      <th>2</th>\n",
       "      <td>3</td>\n",
       "      <td>Iris-versicolor</td>\n",
       "      <td>0.489394</td>\n",
       "    </tr>\n",
       "    <tr>\n",
       "      <th>3</th>\n",
       "      <td>4</td>\n",
       "      <td>Iris-setosa</td>\n",
       "      <td>0.552653</td>\n",
       "    </tr>\n",
       "    <tr>\n",
       "      <th>4</th>\n",
       "      <td>5</td>\n",
       "      <td>Iris-versicolor</td>\n",
       "      <td>0.601689</td>\n",
       "    </tr>\n",
       "    <tr>\n",
       "      <th>5</th>\n",
       "      <td>6</td>\n",
       "      <td>Iris-virginica</td>\n",
       "      <td>0.591105</td>\n",
       "    </tr>\n",
       "    <tr>\n",
       "      <th>6</th>\n",
       "      <td>7</td>\n",
       "      <td>Iris-setosa</td>\n",
       "      <td>0.542716</td>\n",
       "    </tr>\n",
       "    <tr>\n",
       "      <th>7</th>\n",
       "      <td>8</td>\n",
       "      <td>Iris-setosa</td>\n",
       "      <td>0.570198</td>\n",
       "    </tr>\n",
       "    <tr>\n",
       "      <th>8</th>\n",
       "      <td>9</td>\n",
       "      <td>Iris-setosa</td>\n",
       "      <td>0.524020</td>\n",
       "    </tr>\n",
       "    <tr>\n",
       "      <th>9</th>\n",
       "      <td>10</td>\n",
       "      <td>Iris-setosa</td>\n",
       "      <td>0.572785</td>\n",
       "    </tr>\n",
       "    <tr>\n",
       "      <th>10</th>\n",
       "      <td>11</td>\n",
       "      <td>Iris-virginica</td>\n",
       "      <td>0.604859</td>\n",
       "    </tr>\n",
       "    <tr>\n",
       "      <th>11</th>\n",
       "      <td>12</td>\n",
       "      <td>Iris-virginica</td>\n",
       "      <td>0.591437</td>\n",
       "    </tr>\n",
       "    <tr>\n",
       "      <th>12</th>\n",
       "      <td>13</td>\n",
       "      <td>Iris-setosa</td>\n",
       "      <td>0.545596</td>\n",
       "    </tr>\n",
       "    <tr>\n",
       "      <th>13</th>\n",
       "      <td>14</td>\n",
       "      <td>Iris-virginica</td>\n",
       "      <td>0.426632</td>\n",
       "    </tr>\n",
       "    <tr>\n",
       "      <th>14</th>\n",
       "      <td>15</td>\n",
       "      <td>Iris-versicolor</td>\n",
       "      <td>0.562300</td>\n",
       "    </tr>\n",
       "  </tbody>\n",
       "</table>\n",
       "</div>"
      ],
      "text/plain": [
       "    ID           TARGET     VALUE\n",
       "0    1  Iris-versicolor  0.596027\n",
       "1    2  Iris-versicolor  0.402452\n",
       "2    3  Iris-versicolor  0.489394\n",
       "3    4      Iris-setosa  0.552653\n",
       "4    5  Iris-versicolor  0.601689\n",
       "5    6   Iris-virginica  0.591105\n",
       "6    7      Iris-setosa  0.542716\n",
       "7    8      Iris-setosa  0.570198\n",
       "8    9      Iris-setosa  0.524020\n",
       "9   10      Iris-setosa  0.572785\n",
       "10  11   Iris-virginica  0.604859\n",
       "11  12   Iris-virginica  0.591437\n",
       "12  13      Iris-setosa  0.545596\n",
       "13  14   Iris-virginica  0.426632\n",
       "14  15  Iris-versicolor  0.562300"
      ]
     },
     "execution_count": 15,
     "metadata": {},
     "output_type": "execute_result"
    }
   ],
   "source": [
    "model.predict(data=test_set, key='ID', features=features)[0].collect()"
   ]
  },
  {
   "cell_type": "markdown",
   "metadata": {},
   "source": [
    "Model can be deleted in SAP HANA DB accoridng to model name and version:"
   ]
  },
  {
   "cell_type": "code",
   "execution_count": 16,
   "metadata": {},
   "outputs": [
    {
     "data": {
      "text/html": [
       "<div>\n",
       "<style scoped>\n",
       "    .dataframe tbody tr th:only-of-type {\n",
       "        vertical-align: middle;\n",
       "    }\n",
       "\n",
       "    .dataframe tbody tr th {\n",
       "        vertical-align: top;\n",
       "    }\n",
       "\n",
       "    .dataframe thead th {\n",
       "        text-align: right;\n",
       "    }\n",
       "</style>\n",
       "<table border=\"1\" class=\"dataframe\">\n",
       "  <thead>\n",
       "    <tr style=\"text-align: right;\">\n",
       "      <th></th>\n",
       "      <th>NAME</th>\n",
       "      <th>VERSION</th>\n",
       "      <th>LIBRARY</th>\n",
       "      <th>CLASS</th>\n",
       "      <th>JSON</th>\n",
       "      <th>TIMESTAMP</th>\n",
       "      <th>STORAGE_TYPE</th>\n",
       "      <th>MODEL_STORAGE_VER</th>\n",
       "      <th>SCHEDULE</th>\n",
       "    </tr>\n",
       "  </thead>\n",
       "  <tbody>\n",
       "    <tr>\n",
       "      <th>0</th>\n",
       "      <td>OnlineLR_fit</td>\n",
       "      <td>1</td>\n",
       "      <td>PAL</td>\n",
       "      <td>hana_ml.algorithms.pal.linear_model.OnlineLine...</td>\n",
       "      <td>{\"model_attributes\": {\"tol\": 1e-06, \"max_iter\"...</td>\n",
       "      <td>2021-07-02 09:44:55</td>\n",
       "      <td>default</td>\n",
       "      <td>1</td>\n",
       "      <td>{\"schedule\": {\"status\": \"inactive\", \"schedule_...</td>\n",
       "    </tr>\n",
       "    <tr>\n",
       "      <th>1</th>\n",
       "      <td>OnlineLR_predict</td>\n",
       "      <td>1</td>\n",
       "      <td>PAL</td>\n",
       "      <td>hana_ml.algorithms.pal.linear_model.OnlineLine...</td>\n",
       "      <td>{\"model_attributes\": {\"tol\": 1e-06, \"max_iter\"...</td>\n",
       "      <td>2021-07-02 09:45:09</td>\n",
       "      <td>default</td>\n",
       "      <td>1</td>\n",
       "      <td>{\"schedule\": {\"status\": \"inactive\", \"schedule_...</td>\n",
       "    </tr>\n",
       "    <tr>\n",
       "      <th>2</th>\n",
       "      <td>Model A</td>\n",
       "      <td>1</td>\n",
       "      <td>PAL</td>\n",
       "      <td>hana_ml.algorithms.pal.linear_model.LogisticRe...</td>\n",
       "      <td>{\"model_attributes\": {\"multi_class\": false, \"m...</td>\n",
       "      <td>2021-07-06 10:25:12</td>\n",
       "      <td>default</td>\n",
       "      <td>1</td>\n",
       "      <td>{\"schedule\": {\"status\": \"inactive\", \"schedule_...</td>\n",
       "    </tr>\n",
       "    <tr>\n",
       "      <th>3</th>\n",
       "      <td>Model A</td>\n",
       "      <td>2</td>\n",
       "      <td>PAL</td>\n",
       "      <td>hana_ml.algorithms.pal.linear_model.LogisticRe...</td>\n",
       "      <td>{\"model_attributes\": {\"multi_class\": false, \"m...</td>\n",
       "      <td>2021-07-06 16:24:16</td>\n",
       "      <td>default</td>\n",
       "      <td>1</td>\n",
       "      <td>{\"schedule\": {\"status\": \"inactive\", \"schedule_...</td>\n",
       "    </tr>\n",
       "    <tr>\n",
       "      <th>4</th>\n",
       "      <td>Model A</td>\n",
       "      <td>3</td>\n",
       "      <td>PAL</td>\n",
       "      <td>hana_ml.algorithms.pal.linear_model.LogisticRe...</td>\n",
       "      <td>{\"model_attributes\": {\"multi_class\": false, \"m...</td>\n",
       "      <td>2021-07-06 16:39:03</td>\n",
       "      <td>default</td>\n",
       "      <td>1</td>\n",
       "      <td>{\"schedule\": {\"status\": \"inactive\", \"schedule_...</td>\n",
       "    </tr>\n",
       "    <tr>\n",
       "      <th>5</th>\n",
       "      <td>HGBT</td>\n",
       "      <td>1</td>\n",
       "      <td>PAL</td>\n",
       "      <td>hana_ml.algorithms.pal.unified_classification....</td>\n",
       "      <td>{\"model_attributes\": {\"func\": \"hybridgradientb...</td>\n",
       "      <td>2021-07-06 23:10:58</td>\n",
       "      <td>default</td>\n",
       "      <td>1</td>\n",
       "      <td>{\"schedule\": {\"status\": \"inactive\", \"schedule_...</td>\n",
       "    </tr>\n",
       "    <tr>\n",
       "      <th>6</th>\n",
       "      <td>ARIMA model</td>\n",
       "      <td>1</td>\n",
       "      <td>PAL</td>\n",
       "      <td>hana_ml.algorithms.pal.tsa.auto_arima.AutoARIMA</td>\n",
       "      <td>{\"model_attributes\": {\"seasonal_period\": null,...</td>\n",
       "      <td>2021-07-06 23:12:26</td>\n",
       "      <td>default</td>\n",
       "      <td>1</td>\n",
       "      <td>{\"schedule\": {\"status\": \"inactive\", \"schedule_...</td>\n",
       "    </tr>\n",
       "    <tr>\n",
       "      <th>7</th>\n",
       "      <td>HGBT</td>\n",
       "      <td>2</td>\n",
       "      <td>PAL</td>\n",
       "      <td>hana_ml.algorithms.pal.unified_classification....</td>\n",
       "      <td>{\"model_attributes\": {\"func\": \"hybridgradientb...</td>\n",
       "      <td>2021-07-07 08:45:42</td>\n",
       "      <td>default</td>\n",
       "      <td>1</td>\n",
       "      <td>{\"schedule\": {\"status\": \"inactive\", \"schedule_...</td>\n",
       "    </tr>\n",
       "  </tbody>\n",
       "</table>\n",
       "</div>"
      ],
      "text/plain": [
       "               NAME  VERSION LIBRARY  \\\n",
       "0      OnlineLR_fit        1     PAL   \n",
       "1  OnlineLR_predict        1     PAL   \n",
       "2           Model A        1     PAL   \n",
       "3           Model A        2     PAL   \n",
       "4           Model A        3     PAL   \n",
       "5              HGBT        1     PAL   \n",
       "6       ARIMA model        1     PAL   \n",
       "7              HGBT        2     PAL   \n",
       "\n",
       "                                               CLASS  \\\n",
       "0  hana_ml.algorithms.pal.linear_model.OnlineLine...   \n",
       "1  hana_ml.algorithms.pal.linear_model.OnlineLine...   \n",
       "2  hana_ml.algorithms.pal.linear_model.LogisticRe...   \n",
       "3  hana_ml.algorithms.pal.linear_model.LogisticRe...   \n",
       "4  hana_ml.algorithms.pal.linear_model.LogisticRe...   \n",
       "5  hana_ml.algorithms.pal.unified_classification....   \n",
       "6    hana_ml.algorithms.pal.tsa.auto_arima.AutoARIMA   \n",
       "7  hana_ml.algorithms.pal.unified_classification....   \n",
       "\n",
       "                                                JSON           TIMESTAMP  \\\n",
       "0  {\"model_attributes\": {\"tol\": 1e-06, \"max_iter\"... 2021-07-02 09:44:55   \n",
       "1  {\"model_attributes\": {\"tol\": 1e-06, \"max_iter\"... 2021-07-02 09:45:09   \n",
       "2  {\"model_attributes\": {\"multi_class\": false, \"m... 2021-07-06 10:25:12   \n",
       "3  {\"model_attributes\": {\"multi_class\": false, \"m... 2021-07-06 16:24:16   \n",
       "4  {\"model_attributes\": {\"multi_class\": false, \"m... 2021-07-06 16:39:03   \n",
       "5  {\"model_attributes\": {\"func\": \"hybridgradientb... 2021-07-06 23:10:58   \n",
       "6  {\"model_attributes\": {\"seasonal_period\": null,... 2021-07-06 23:12:26   \n",
       "7  {\"model_attributes\": {\"func\": \"hybridgradientb... 2021-07-07 08:45:42   \n",
       "\n",
       "  STORAGE_TYPE  MODEL_STORAGE_VER  \\\n",
       "0      default                  1   \n",
       "1      default                  1   \n",
       "2      default                  1   \n",
       "3      default                  1   \n",
       "4      default                  1   \n",
       "5      default                  1   \n",
       "6      default                  1   \n",
       "7      default                  1   \n",
       "\n",
       "                                            SCHEDULE  \n",
       "0  {\"schedule\": {\"status\": \"inactive\", \"schedule_...  \n",
       "1  {\"schedule\": {\"status\": \"inactive\", \"schedule_...  \n",
       "2  {\"schedule\": {\"status\": \"inactive\", \"schedule_...  \n",
       "3  {\"schedule\": {\"status\": \"inactive\", \"schedule_...  \n",
       "4  {\"schedule\": {\"status\": \"inactive\", \"schedule_...  \n",
       "5  {\"schedule\": {\"status\": \"inactive\", \"schedule_...  \n",
       "6  {\"schedule\": {\"status\": \"inactive\", \"schedule_...  \n",
       "7  {\"schedule\": {\"status\": \"inactive\", \"schedule_...  "
      ]
     },
     "execution_count": 16,
     "metadata": {},
     "output_type": "execute_result"
    }
   ],
   "source": [
    "model_storage.delete_model('MLPC', 1)\n",
    "model_storage.list_models()"
   ]
  },
  {
   "cell_type": "markdown",
   "metadata": {},
   "source": [
    "## Evaluation"
   ]
  },
  {
   "cell_type": "markdown",
   "metadata": {},
   "source": [
    "### Accuracy\n",
    "Let us compute the accuracy on our training and test sets"
   ]
  },
  {
   "cell_type": "code",
   "execution_count": 17,
   "metadata": {},
   "outputs": [
    {
     "name": "stdout",
     "output_type": "stream",
     "text": [
      "Training set accuracy: 1.000000\n",
      "Test set accuracy: 0.866666\n"
     ]
    }
   ],
   "source": [
    "accuracy = mlpc.score(training_set, 'ID', features, label)\n",
    "print(\"Training set accuracy: %f\" % accuracy)\n",
    "print(\"Test set accuracy: %f\" % mlpc.score(test_set, 'ID', features, label))"
   ]
  },
  {
   "cell_type": "markdown",
   "metadata": {},
   "source": [
    "### Precision, Recall, Confusion Matrix\n",
    "Accuracy is usually not a good metric to evaluate a model.  Above, we see that we do pretty well for both the training and test sets.\n",
    "Let us look at another metric.\n",
    "\n",
    "To do that we first inspect the results of our test_set predictions"
   ]
  },
  {
   "cell_type": "code",
   "execution_count": 18,
   "metadata": {},
   "outputs": [
    {
     "name": "stdout",
     "output_type": "stream",
     "text": [
      "   ID            CLASS  SOFTMAX_VALUE\n",
      "0   1      Iris-setosa       0.206655\n",
      "1   1   Iris-virginica       0.197318\n",
      "2   1  Iris-versicolor       0.596027\n",
      "3   2      Iris-setosa       0.220687\n",
      "4   2   Iris-virginica       0.376861\n"
     ]
    }
   ],
   "source": [
    "predictions_df, soft_max_df = mlpc.predict(test_set, 'ID', features)\n",
    "print(soft_max_df.head(5).collect())"
   ]
  },
  {
   "cell_type": "markdown",
   "metadata": {},
   "source": [
    "The function to get the confusion matrix takes in a single data frame with the true label and the predicted label.\n",
    "So, let us construct this data frame by joining on the ID column."
   ]
  },
  {
   "cell_type": "code",
   "execution_count": 19,
   "metadata": {},
   "outputs": [],
   "source": [
    "ts = test_set.rename_columns({'ID': 'TID'}) #.cast('SPECIES', 'NVARCHAR(256)')\n",
    "jsql = '{}.\"{}\"={}.\"{}\"'.format(predictions_df.quoted_name, 'ID', ts.quoted_name, 'TID')\n",
    "results_df = predictions_df.join(ts, jsql, how='inner')\n",
    "cm_df, classification_report_df = metrics.confusion_matrix(results_df, key='ID', label_true='SPECIES', label_pred='TARGET') "
   ]
  },
  {
   "cell_type": "code",
   "execution_count": 20,
   "metadata": {},
   "outputs": [
    {
     "name": "stdout",
     "output_type": "stream",
     "text": [
      "Confusion Matrix\n"
     ]
    },
    {
     "data": {
      "text/html": [
       "<div>\n",
       "<style scoped>\n",
       "    .dataframe tbody tr th:only-of-type {\n",
       "        vertical-align: middle;\n",
       "    }\n",
       "\n",
       "    .dataframe tbody tr th {\n",
       "        vertical-align: top;\n",
       "    }\n",
       "\n",
       "    .dataframe thead th {\n",
       "        text-align: right;\n",
       "    }\n",
       "</style>\n",
       "<table border=\"1\" class=\"dataframe\">\n",
       "  <thead>\n",
       "    <tr style=\"text-align: right;\">\n",
       "      <th></th>\n",
       "      <th>SPECIES</th>\n",
       "      <th>TARGET</th>\n",
       "      <th>COUNT</th>\n",
       "    </tr>\n",
       "  </thead>\n",
       "  <tbody>\n",
       "    <tr>\n",
       "      <th>0</th>\n",
       "      <td>Iris-virginica</td>\n",
       "      <td>Iris-virginica</td>\n",
       "      <td>3</td>\n",
       "    </tr>\n",
       "    <tr>\n",
       "      <th>1</th>\n",
       "      <td>Iris-virginica</td>\n",
       "      <td>Iris-versicolor</td>\n",
       "      <td>1</td>\n",
       "    </tr>\n",
       "    <tr>\n",
       "      <th>2</th>\n",
       "      <td>Iris-virginica</td>\n",
       "      <td>Iris-setosa</td>\n",
       "      <td>0</td>\n",
       "    </tr>\n",
       "    <tr>\n",
       "      <th>3</th>\n",
       "      <td>Iris-versicolor</td>\n",
       "      <td>Iris-virginica</td>\n",
       "      <td>1</td>\n",
       "    </tr>\n",
       "    <tr>\n",
       "      <th>4</th>\n",
       "      <td>Iris-versicolor</td>\n",
       "      <td>Iris-versicolor</td>\n",
       "      <td>4</td>\n",
       "    </tr>\n",
       "    <tr>\n",
       "      <th>5</th>\n",
       "      <td>Iris-versicolor</td>\n",
       "      <td>Iris-setosa</td>\n",
       "      <td>0</td>\n",
       "    </tr>\n",
       "    <tr>\n",
       "      <th>6</th>\n",
       "      <td>Iris-setosa</td>\n",
       "      <td>Iris-virginica</td>\n",
       "      <td>0</td>\n",
       "    </tr>\n",
       "    <tr>\n",
       "      <th>7</th>\n",
       "      <td>Iris-setosa</td>\n",
       "      <td>Iris-versicolor</td>\n",
       "      <td>0</td>\n",
       "    </tr>\n",
       "    <tr>\n",
       "      <th>8</th>\n",
       "      <td>Iris-setosa</td>\n",
       "      <td>Iris-setosa</td>\n",
       "      <td>6</td>\n",
       "    </tr>\n",
       "  </tbody>\n",
       "</table>\n",
       "</div>"
      ],
      "text/plain": [
       "           SPECIES           TARGET  COUNT\n",
       "0   Iris-virginica   Iris-virginica      3\n",
       "1   Iris-virginica  Iris-versicolor      1\n",
       "2   Iris-virginica      Iris-setosa      0\n",
       "3  Iris-versicolor   Iris-virginica      1\n",
       "4  Iris-versicolor  Iris-versicolor      4\n",
       "5  Iris-versicolor      Iris-setosa      0\n",
       "6      Iris-setosa   Iris-virginica      0\n",
       "7      Iris-setosa  Iris-versicolor      0\n",
       "8      Iris-setosa      Iris-setosa      6"
      ]
     },
     "execution_count": 20,
     "metadata": {},
     "output_type": "execute_result"
    }
   ],
   "source": [
    "print(\"Confusion Matrix\")\n",
    "cm_df.collect()"
   ]
  },
  {
   "cell_type": "code",
   "execution_count": 21,
   "metadata": {},
   "outputs": [
    {
     "data": {
      "image/png": "[encoded data removed]",
      "text/plain": [
       "<Figure size 432x288 with 2 Axes>"
      ]
     },
     "metadata": {
      "needs_background": "light"
     },
     "output_type": "display_data"
    }
   ],
   "source": [
    "import matplotlib.pyplot as plt\n",
    "from hana_ml.visualizers.metrics import MetricsVisualizer\n",
    "f, ax1 = plt.subplots(1,1)\n",
    "mv1 = MetricsVisualizer(ax1)\n",
    "ax1 = mv1.plot_confusion_matrix(cm_df, normalize=False)"
   ]
  },
  {
   "cell_type": "code",
   "execution_count": 22,
   "metadata": {},
   "outputs": [
    {
     "name": "stdout",
     "output_type": "stream",
     "text": [
      "Recall, precision, and F-measures\n"
     ]
    },
    {
     "data": {
      "text/html": [
       "<div>\n",
       "<style scoped>\n",
       "    .dataframe tbody tr th:only-of-type {\n",
       "        vertical-align: middle;\n",
       "    }\n",
       "\n",
       "    .dataframe tbody tr th {\n",
       "        vertical-align: top;\n",
       "    }\n",
       "\n",
       "    .dataframe thead th {\n",
       "        text-align: right;\n",
       "    }\n",
       "</style>\n",
       "<table border=\"1\" class=\"dataframe\">\n",
       "  <thead>\n",
       "    <tr style=\"text-align: right;\">\n",
       "      <th></th>\n",
       "      <th>CLASS</th>\n",
       "      <th>RECALL</th>\n",
       "      <th>PRECISION</th>\n",
       "      <th>F_MEASURE</th>\n",
       "      <th>SUPPORT</th>\n",
       "    </tr>\n",
       "  </thead>\n",
       "  <tbody>\n",
       "    <tr>\n",
       "      <th>0</th>\n",
       "      <td>Iris-setosa</td>\n",
       "      <td>1.00</td>\n",
       "      <td>1.00</td>\n",
       "      <td>1.00</td>\n",
       "      <td>6</td>\n",
       "    </tr>\n",
       "    <tr>\n",
       "      <th>1</th>\n",
       "      <td>Iris-versicolor</td>\n",
       "      <td>0.80</td>\n",
       "      <td>0.80</td>\n",
       "      <td>0.80</td>\n",
       "      <td>5</td>\n",
       "    </tr>\n",
       "    <tr>\n",
       "      <th>2</th>\n",
       "      <td>Iris-virginica</td>\n",
       "      <td>0.75</td>\n",
       "      <td>0.75</td>\n",
       "      <td>0.75</td>\n",
       "      <td>4</td>\n",
       "    </tr>\n",
       "  </tbody>\n",
       "</table>\n",
       "</div>"
      ],
      "text/plain": [
       "             CLASS  RECALL  PRECISION  F_MEASURE  SUPPORT\n",
       "0      Iris-setosa    1.00       1.00       1.00        6\n",
       "1  Iris-versicolor    0.80       0.80       0.80        5\n",
       "2   Iris-virginica    0.75       0.75       0.75        4"
      ]
     },
     "execution_count": 22,
     "metadata": {},
     "output_type": "execute_result"
    }
   ],
   "source": [
    "print(\"Recall, precision, and F-measures\")\n",
    "classification_report_df.collect()"
   ]
  },
  {
   "cell_type": "code",
   "execution_count": 23,
   "metadata": {},
   "outputs": [],
   "source": [
    "connection_context.close()"
   ]
  },
  {
   "cell_type": "code",
   "execution_count": null,
   "metadata": {},
   "outputs": [],
   "source": []
  }
 ],
 "metadata": {
  "kernelspec": {
   "display_name": "Python 3",
   "language": "python",
   "name": "python3"
  },
  "language_info": {
   "codemirror_mode": {
    "name": "ipython",
    "version": 3
   },
   "file_extension": ".py",
   "mimetype": "text/x-python",
   "name": "python",
   "nbconvert_exporter": "python",
   "pygments_lexer": "ipython3",
   "version": "3.9.5"
  }
 },
 "nbformat": 4,
 "nbformat_minor": 4
}

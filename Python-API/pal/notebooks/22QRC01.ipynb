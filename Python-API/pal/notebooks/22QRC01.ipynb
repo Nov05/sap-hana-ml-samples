{
 "cells": [
  {
   "cell_type": "raw",
   "id": "0d11bd65",
   "metadata": {},
   "source": [
    "What's New and Changed in version 2.12.220325\n",
    "---------------------------------------------\n",
    "\n",
    "New functions:\n",
    "    - Added isolation forest.\n",
    "    - Added automatic classification and regression.\n",
    "    - Added progress monitor for auto-ml.\n",
    "    - Added best pipeline report for auto-ml.\n",
    "    - Added to_datetime function.\n",
    "    - Added to_tail function in dataframe.\n",
    "    - Added AFL state for unified API.\n",
    "\n",
    "Enhancement:\n",
    "    - Added validation procedure for n_components in CATPCA.\n",
    "    - Improved display name in pivot_table.\n",
    "    - Added compression and thresholding in wavelet transform.\n",
    "    - Moved generate_feature to dataframe function.\n",
    "    - Enhanced create_dataframe_from_pandas with upsert option.\n",
    "    - Added ignore_scatter_matrix option in dataset report.\n",
    "    - Expose APL variable selection parameters.\n",
    "    - Enhanced text mining with German support.\n",
    "    - Support more loss functions in HybridGradientBoostingClassifier and HybridGradientBoostingRegressor.\n",
    "    - Enhanced white_noise_test() with an option: the degree of freedom, model_df.\n",
    "    - Enhanced Attention with the explaining of model.\n",
    "    - Ehhanced integer index support for TimeSeriesExplainer.explain_arima_model() for ARIMA and AutoARIMA.\n",
    "    - Added procomputed affinity for AgglomerateHierarchicalClustering.\n",
    "    - Added model compression related parameters for HybridGradientBoostingClassifier and HybridGradientBoostingRegressor.\n",
    "\n",
    "Bug Fixes:\n",
    "    - Fix M4 sampling with lowercase column name.\n",
    "    - Fix inconsistent IDs assigned to solvers between LOGR and M_LOGR.\n",
    "    - Fix a parameter naming error in fft(): flattop_model -> flattop_mode.\n",
    "    - Fix a validation error for endog parameter in Attention predict().\n",
    "\n",
    "API change:\n",
    "    - Added 'model_df' in the white_noise_test() for selecting the degree of freedom.\n",
    "    - Added 'explain_mode' in predict() of GRUAttention for selecting the mechanism for generating the reason code for inference results.\n"
   ]
  },
  {
   "cell_type": "code",
   "execution_count": null,
   "id": "8b8b6953",
   "metadata": {},
   "outputs": [],
   "source": [
    "# Connection\n",
    "import pandas as pd\n",
    "from hana_ml import dataframe\n",
    "\n",
    "try:\n",
    "    import configparser\n",
    "except ImportError:\n",
    "    import ConfigParser as configparser\n",
    "\n",
    "settings = configparser.ConfigParser()\n",
    "settings.read(\"../../config/e2edata.ini\")\n"
   ]
  },
  {
   "cell_type": "markdown",
   "id": "2563a240",
   "metadata": {},
   "source": [
    "#### Isolation Forest"
   ]
  },
  {
   "cell_type": "code",
   "execution_count": null,
   "id": "9c652527",
   "metadata": {},
   "outputs": [],
   "source": [
    "url = settings.get(\"hana\", \"url\")\n",
    "port = settings.getint(\"hana\", \"port\")\n",
    "user = settings.get(\"hana\", \"user\")\n",
    "pwd = settings.get(\"hana\", \"passwd\")\n",
    "\n",
    "connection_context = dataframe.ConnectionContext(url, port, user, pwd)"
   ]
  },
  {
   "cell_type": "code",
   "execution_count": null,
   "id": "ce73020d",
   "metadata": {},
   "outputs": [],
   "source": [
    "\n",
    "# https://help.sap.com/viewer/DRAFT/319d36de4fd64ac3afbf91b1fb3ce8de/2021_4_QRC/en-US/11345d90db35416e94de653248ac2184.html\n",
    "    \n",
    "from hana_ml.algorithms.pal.preprocessing import IsolationForest\n",
    "\n",
    "df = dataframe.create_dataframe_from_pandas(connection_context,\n",
    "                                            pandas_df=pd.DataFrame({\"ID\": [0, 1, 2 ,3, 4, 5, 6, 7],\n",
    "                                                                    \"V000\": [-2, -1, -1, 1, 1, 2, 6, -4],\n",
    "                                                                    \"V001\": [-1, -1, -2, 1, 2, 1, 3, 7]}),\n",
    "                                            table_name=\"#IF_DEMO\",\n",
    "                                            force=True)\n",
    "\n",
    "clf = IsolationForest(random_state=2,\n",
    "                      thread_ratio=0)\n",
    "\n",
    "res = clf.fit_predict(data=df,\n",
    "                      key=\"ID\",\n",
    "                      contamination=0.25)"
   ]
  },
  {
   "cell_type": "code",
   "execution_count": null,
   "id": "462643bc",
   "metadata": {},
   "outputs": [],
   "source": [
    "# -1 for outliers and 1 for inliers.\n",
    "print(res.collect())\n",
    "connection_context"
   ]
  },
  {
   "cell_type": "markdown",
   "id": "70c7bed9",
   "metadata": {},
   "source": [
    "#### automl"
   ]
  },
  {
   "cell_type": "code",
   "execution_count": null,
   "id": "be390bb8",
   "metadata": {},
   "outputs": [],
   "source": [
    "url = settings.get(\"automl\", \"url\")\n",
    "port = settings.getint(\"automl\", \"port\")\n",
    "user = settings.get(\"automl\", \"user\")\n",
    "pwd = settings.get(\"automl\", \"passwd\")\n",
    "\n",
    "conn_dev3 = dataframe.ConnectionContext(url, port, user, pwd)"
   ]
  },
  {
   "cell_type": "code",
   "execution_count": null,
   "id": "1a0acf92",
   "metadata": {},
   "outputs": [],
   "source": [
    "df = dataframe.create_dataframe_from_pandas(conn_dev3,\n",
    "                                            pd.read_csv(\"../datasets/digits.csv\"),\n",
    "                                            table_name=\"#demo_automl_tbl\",\n",
    "                                            force=True).deselect(\"Unnamed: 0\")\n",
    "df = df.rename_columns({\"ID\": \"LABEL\"}).dropna().cast({\"LABEL\": \"VARCHAR(500)\"})"
   ]
  },
  {
   "cell_type": "code",
   "execution_count": null,
   "id": "8580bdd1",
   "metadata": {},
   "outputs": [],
   "source": [
    "import uuid\n",
    "from hana_ml.algorithms.pal.auto_ml import AutomaticClassification\n",
    "\n",
    "progress_id = \"automl_{}\".format(uuid.uuid1())\n",
    "auto_c = AutomaticClassification(generations=2, \n",
    "                                 population_size=5,\n",
    "                                 offspring_size=5,\n",
    "                                 elite_number=2,\n",
    "                                 mutation_rate=0.1,\n",
    "                                 progress_indicator_id=progress_id)"
   ]
  },
  {
   "cell_type": "code",
   "execution_count": null,
   "id": "615194e3",
   "metadata": {},
   "outputs": [],
   "source": [
    "from hana_ml.visualizers.automl_progress import PipelineProgressStatusMonitor\n",
    "\n",
    "progress_status_monitor = PipelineProgressStatusMonitor(connection_context=dataframe.ConnectionContext(url, port, user, pwd), automatic_obj=auto_c)\n",
    "\n",
    "progress_status_monitor.start()\n",
    "auto_c.enable_workload_class(\"PAL_AUTOML_WORKLOAD\")\n",
    "auto_c.fit(df)"
   ]
  },
  {
   "cell_type": "code",
   "execution_count": null,
   "id": "d4c0953a",
   "metadata": {},
   "outputs": [],
   "source": [
    "from hana_ml.visualizers.automl_report import BestPipelineReport\n",
    "BestPipelineReport(auto_c).generate_notebook_iframe()"
   ]
  },
  {
   "cell_type": "code",
   "execution_count": null,
   "id": "f2cdca12",
   "metadata": {},
   "outputs": [],
   "source": [
    "df_test = df.head(10).deselect(\"LABEL\")\n",
    "res = auto_c.predict(df_test)\n",
    "print(res.collect())"
   ]
  },
  {
   "cell_type": "code",
   "execution_count": null,
   "id": "31f55445",
   "metadata": {},
   "outputs": [],
   "source": [
    "pipeline = auto_c.best_pipeline_.collect().iat[0, 1]\n",
    "\n",
    "auto_c.fit(df, pipeline=pipeline)\n",
    "\n",
    "res = auto_c.predict(df_test)\n",
    "print(res.collect())"
   ]
  },
  {
   "cell_type": "code",
   "execution_count": null,
   "id": "3304e064",
   "metadata": {},
   "outputs": [],
   "source": [
    "conn_dev3.close()"
   ]
  },
  {
   "cell_type": "markdown",
   "id": "4b8d48f5",
   "metadata": {},
   "source": [
    "#### create model state"
   ]
  },
  {
   "cell_type": "code",
   "execution_count": null,
   "id": "2c0ba7bb",
   "metadata": {},
   "outputs": [],
   "source": [
    "from hana_ml.algorithms.pal.utility import DataSets\n",
    "full_set, diabetes_train, diabetes_test, _ = DataSets.load_diabetes_data(connection_context)"
   ]
  },
  {
   "cell_type": "code",
   "execution_count": null,
   "id": "94acec30",
   "metadata": {},
   "outputs": [],
   "source": [
    "from hana_ml.algorithms.pal.unified_classification import UnifiedClassification\n",
    "cv_values = {}\n",
    "cv_values['learning_rate'] = [0.1, 0.4, 0.7, 1.0]\n",
    "cv_values['n_estimators'] = [4, 6, 8, 10]\n",
    "cv_values['split_threshold'] = [0.1, 0.4, 0.7, 1.0]\n",
    "hgc = UnifiedClassification(func='HybridGradientBoostingTree',\n",
    "                            param_search_strategy='grid',\n",
    "                            resampling_method='cv',\n",
    "                            evaluation_metric='error_rate',\n",
    "                            ref_metric=['auc'],\n",
    "                            fold_num=5,\n",
    "                            random_state=1,\n",
    "                            param_values=cv_values)\n",
    "hgc.fit(diabetes_train, key='ID', label='CLASS',\n",
    "        partition_method='stratified',\n",
    "        partition_random_state=1,\n",
    "        stratified_column='CLASS')"
   ]
  },
  {
   "cell_type": "code",
   "execution_count": null,
   "id": "e930d4be",
   "metadata": {},
   "outputs": [],
   "source": [
    "hgc.create_model_state()"
   ]
  },
  {
   "cell_type": "code",
   "execution_count": null,
   "id": "cc88d192",
   "metadata": {},
   "outputs": [],
   "source": [
    "print(hgc.state.collect())"
   ]
  },
  {
   "cell_type": "code",
   "execution_count": null,
   "id": "851fd9c5",
   "metadata": {},
   "outputs": [],
   "source": [
    "features = diabetes_train.columns\n",
    "features.remove('CLASS')\n",
    "features.remove('ID')\n",
    "pred_res = hgc.predict(diabetes_test, key='ID', features=features)\n"
   ]
  },
  {
   "cell_type": "code",
   "execution_count": null,
   "id": "91058c9f",
   "metadata": {},
   "outputs": [],
   "source": [
    "print(hgc.get_predict_execute_statement())"
   ]
  },
  {
   "cell_type": "markdown",
   "id": "49f5bef7",
   "metadata": {},
   "source": [
    "#### dataframe functions"
   ]
  },
  {
   "cell_type": "markdown",
   "id": "282f0929",
   "metadata": {},
   "source": [
    "##### to_datetime"
   ]
  },
  {
   "cell_type": "code",
   "execution_count": null,
   "id": "10e30bbb",
   "metadata": {},
   "outputs": [],
   "source": [
    "\n",
    "\n",
    "df_datetime = dataframe.create_dataframe_from_pandas(connection_context,\n",
    "                                                     pandas_df=pd.DataFrame({\"datetime\": [\"12/01/2022 23:11:24\"]}),\n",
    "                                                     table_name=\"#to_datetime_demo\",\n",
    "                                                     table_structure={\"datetime\": \"VARCHAR(50)\"},\n",
    "                                                     force=True)"
   ]
  },
  {
   "cell_type": "code",
   "execution_count": null,
   "id": "28f309dc",
   "metadata": {},
   "outputs": [],
   "source": [
    "df_datetime.get_table_structure()"
   ]
  },
  {
   "cell_type": "code",
   "execution_count": null,
   "id": "dc8e29f2",
   "metadata": {},
   "outputs": [],
   "source": [
    "print(df_datetime.to_datetime({\"datetime\": \"MM/DD/YYYY HH24:MI:SS\"}).get_table_structure())\n",
    "print(df_datetime.to_datetime({\"datetime\": \"MM/DD/YYYY HH24:MI:SS\"}).collect())"
   ]
  },
  {
   "cell_type": "markdown",
   "id": "d02f6ddc",
   "metadata": {},
   "source": [
    "##### to_tail"
   ]
  },
  {
   "cell_type": "code",
   "execution_count": null,
   "id": "7cea5595",
   "metadata": {},
   "outputs": [],
   "source": [
    "df_to_tail = dataframe.create_dataframe_from_pandas(connection_context,\n",
    "                                                    pandas_df=pd.DataFrame({\"LABEL\": [\"1\"], \"FEATURE\": [2], \"ID\": [3]}),\n",
    "                                                    table_name=\"#to_tail_demo\",\n",
    "                                                    force=True)\n",
    "print(df_to_tail.collect())"
   ]
  },
  {
   "cell_type": "code",
   "execution_count": null,
   "id": "905f9c51",
   "metadata": {},
   "outputs": [],
   "source": [
    "print(df_to_tail.to_tail(\"LABEL\").to_head(\"ID\").collect())"
   ]
  },
  {
   "cell_type": "markdown",
   "id": "9aaecfd5",
   "metadata": {},
   "source": [
    "##### tail"
   ]
  },
  {
   "cell_type": "code",
   "execution_count": null,
   "id": "74fc6e18",
   "metadata": {},
   "outputs": [],
   "source": [
    "full_set, training_set, validation_set, test_set = DataSets.load_iris_data(connection_context)"
   ]
  },
  {
   "cell_type": "code",
   "execution_count": null,
   "id": "85680f4a",
   "metadata": {},
   "outputs": [],
   "source": [
    "print(full_set.tail(10, ref_col=\"ID\").collect())"
   ]
  },
  {
   "cell_type": "markdown",
   "id": "6eb68cc0",
   "metadata": {},
   "source": [
    "##### generate_feature"
   ]
  },
  {
   "cell_type": "code",
   "execution_count": null,
   "id": "71ec1a01",
   "metadata": {},
   "outputs": [],
   "source": [
    "full_set.generate_feature(targets=[\"SEPALLENGTHCM\", \"SEPALWIDTHCM\"],\n",
    "                          group_by=\"SPECIES\",\n",
    "                          trans_func=\"LAG\",\n",
    "                          order_by=\"ID\",\n",
    "                          trans_param=[[1, 3], [1, 4]]).head(10).collect()"
   ]
  },
  {
   "cell_type": "markdown",
   "id": "e175f753",
   "metadata": {},
   "source": [
    "##### upsert and append option in create_dataframe_from_pandas"
   ]
  },
  {
   "cell_type": "code",
   "execution_count": null,
   "id": "54510713",
   "metadata": {},
   "outputs": [],
   "source": [
    "df_upsert = dataframe.create_dataframe_from_pandas(connection_context,\n",
    "                                                   pandas_df=pd.DataFrame({\"ID\": [1, 2], \"FEATURE\": [2, 3], \"LABEL\": [\"3\", \"4\"]}),\n",
    "                                                   table_name=\"#upsert_demo\",\n",
    "                                                   primary_key=\"ID\",\n",
    "                                                   force=True)"
   ]
  },
  {
   "cell_type": "code",
   "execution_count": null,
   "id": "11c35b3d",
   "metadata": {},
   "outputs": [],
   "source": [
    "print(df_upsert.collect())"
   ]
  },
  {
   "cell_type": "code",
   "execution_count": null,
   "id": "407279c1",
   "metadata": {},
   "outputs": [],
   "source": [
    "df_upsert = dataframe.create_dataframe_from_pandas(connection_context,\n",
    "                                                   pandas_df=pd.DataFrame({\"ID\": [2], \"FEATURE\": [10], \"LABEL\": [None]}),\n",
    "                                                   table_name=\"#upsert_demo\",\n",
    "                                                   primary_key=\"ID\",\n",
    "                                                   upsert=True)"
   ]
  },
  {
   "cell_type": "code",
   "execution_count": null,
   "id": "231fdb32",
   "metadata": {},
   "outputs": [],
   "source": [
    "print(df_upsert.collect())"
   ]
  },
  {
   "cell_type": "code",
   "execution_count": null,
   "id": "018df1b2",
   "metadata": {},
   "outputs": [],
   "source": [
    "df_upsert = dataframe.create_dataframe_from_pandas(connection_context,\n",
    "                                                   pandas_df=pd.DataFrame({\"ID\": [3], \"FEATURE\": [10], \"LABEL\": [None]}),\n",
    "                                                   table_name=\"#upsert_demo\",\n",
    "                                                   primary_key=\"ID\",\n",
    "                                                   append=True)"
   ]
  },
  {
   "cell_type": "code",
   "execution_count": null,
   "id": "952740c2",
   "metadata": {},
   "outputs": [],
   "source": [
    "print(df_upsert.collect())"
   ]
  },
  {
   "cell_type": "code",
   "execution_count": null,
   "id": "2047fe39",
   "metadata": {},
   "outputs": [],
   "source": []
  }
 ],
 "metadata": {
  "kernelspec": {
   "display_name": "Python 3",
   "language": "python",
   "name": "python3"
  },
  "language_info": {
   "codemirror_mode": {
    "name": "ipython",
    "version": 3
   },
   "file_extension": ".py",
   "mimetype": "text/x-python",
   "name": "python",
   "nbconvert_exporter": "python",
   "pygments_lexer": "ipython3",
   "version": "3.9.1"
  }
 },
 "nbformat": 4,
 "nbformat_minor": 5
}

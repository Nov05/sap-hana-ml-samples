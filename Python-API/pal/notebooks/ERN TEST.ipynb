{
 "cells": [
  {
   "cell_type": "code",
   "execution_count": null,
   "id": "1853fa38",
   "metadata": {},
   "outputs": [],
   "source": [
    "import pandas as pd\n",
    "from hana_ml import dataframe\n",
    "from hana_ml.algorithms.pal.utility import DataSets, Settings\n",
    "url, port, user, pwd = Settings.load_config(\"../../config/e2edata.ini\")\n",
    "\n",
    "connection_context = dataframe.ConnectionContext(url, port, user, pwd)\n",
    "\n",
    "\n"
   ]
  },
  {
   "cell_type": "markdown",
   "id": "37ab8e64",
   "metadata": {},
   "source": [
    "#### ERN support\n",
    "\n",
    "set_scale_out\n",
    "\n",
    "- route_to : str, optional\n",
    "    - Routes the query to the specified volume ID or service type.\n",
    "- no_route_to : str or list of str, optional\n",
    "    - Avoids query routing to a specified volume ID or service type.\n",
    "- route_by : str, optional\n",
    "    - Routes the query to the hosts related to the base table(s) of the specified projection view(s).\n",
    "- route_by_cardinality : str or list of str, optional\n",
    "    - Routes the query to the hosts related to the base table(s) of the specified projection view(s) with the highest cardinality from the input list.\n",
    "- data_transfer_cost : int, optional\n",
    "    - Guides the optimizer to use the weighting factor for the data transfer cost. The value 0 ignores the data transfer cost.\n",
    "- route_optimization_level : {'mininal', 'all'}, optional\n",
    "    - Guides the optimizer to compile with ROUTE_OPTIMIZATION_LEVEL (MINIMAL) or to default to ROUTE_OPTIMIZATION_LEVEL.\n",
    "      If the MINIMAL compiled plan is cached, then it compiles once more using the default optimization level during the first execution.\n",
    "      This hint is primarily used to shorten statement routing decisions during the initial compilation.\n",
    "- workload_class, str, optional\n",
    "    - Routes the query via workload class. ROUTE_TO() statement hint has higher precedence than WORKLOAD_CLASS() statement hint.\n",
    "    \n",
    "https://wiki.wdf.sap.corp/wiki/display/ngdb/ERN+routing+via+Workload+Class"
   ]
  },
  {
   "cell_type": "raw",
   "id": "18d18897",
   "metadata": {},
   "source": [
    "ALTER SYSTEM ALTER CONFIGURATION('nameserver.ini', 'SYSTEM') SET ('landscape', 'computeserver_allowed_without_hostrole') = 'true' WITH RECONFIGURE;\n",
    "ALTER DATABASE API ADD 'computeserver'\n",
    "ALTER SYSTEM ALTER TABLE PLACEMENT LOCATION ern1 SET (INCLUDE => '1024', EXCLUDE => '') WITH RECONFIGURE;\n",
    "CREATE WORKLOAD CLASS wc1 SET 'ROUTING LOCATION HINT'='ern1', 'RESULT LAG HINT'='HANA_ATR';\n",
    "--CREATE WORKLOAD MAPPING wm1 WORKLOAD CLASS wc1 set 'SCHEMA NAME' = '_SYS_AFL', 'OBJECT NAME' = 'PAL'\n",
    "                              "
   ]
  },
  {
   "cell_type": "raw",
   "id": "c72ed8d2",
   "metadata": {},
   "source": [
    "Dataset\tType\t    Shape\t    Test Function\t               ComputeNode Runtime\tScriptServer Runtime\n",
    "ETTm1\tLocal Env\t[69680, 8]\tFeatureSelection (CSO) seed=1  3116s\t            3101s\n",
    "\t\t\t                    2 Client, same Volume ID\t   3894s, 3683s\t        N/A\n",
    "ETTh1\tLocal Env\t[17420, 8]\tFeatureSelection (CSO) seed=1  227s\t                226s\n",
    "ETTh2\tLocal Env\t[17420, 8]\tFeatureSelection (CSO) seed=1  229s\t                229s\n",
    "ETTm2\tLocal Env\t[69680, 8]\tFeatureSelection (CSO) seed=1  3171s\t            3163s\n"
   ]
  },
  {
   "cell_type": "code",
   "execution_count": null,
   "id": "36bc6fc6",
   "metadata": {},
   "outputs": [],
   "source": [
    "from hana_ml.algorithms.pal.preprocessing import FeatureSelection\n",
    "\n",
    "fs = FeatureSelection(fs_method='CSO', seed=1)\n",
    "fs.set_scale_out(workload_class='ern1', route_optimization_level='all')\n",
    "fs_df = fs.fit_transform(df, label='Y')\n",
    "print(fs.execute_statement)"
   ]
  },
  {
   "cell_type": "code",
   "execution_count": null,
   "id": "da9cb9bb",
   "metadata": {},
   "outputs": [],
   "source": [
    "fs = FeatureSelection(fs_method='CSO', seed=1)\n",
    "fs.set_scale_out(route_to=\"\\'scriptserver\\'\", route_optimization_level='all')\n",
    "print(fs.execute_statement)"
   ]
  }
 ],
 "metadata": {
  "kernelspec": {
   "display_name": "Python 3",
   "language": "python",
   "name": "python3"
  },
  "language_info": {
   "codemirror_mode": {
    "name": "ipython",
    "version": 3
   },
   "file_extension": ".py",
   "mimetype": "text/x-python",
   "name": "python",
   "nbconvert_exporter": "python",
   "pygments_lexer": "ipython3",
   "version": "3.8.5"
  }
 },
 "nbformat": 4,
 "nbformat_minor": 5
}

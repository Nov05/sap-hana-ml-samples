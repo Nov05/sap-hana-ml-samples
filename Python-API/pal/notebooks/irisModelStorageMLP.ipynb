{
 "cells": [
  {
   "cell_type": "code",
   "execution_count": 1,
   "metadata": {},
   "outputs": [],
   "source": [
    "from hana_ml import dataframe\n",
    "from hana_ml.algorithms.pal.neural_network import MLPClassifier, MLPRegressor\n",
    "\n",
    "from data_load_utils import Settings\n",
    "from hana_ml.dataframe import create_dataframe_from_pandas\n",
    "\n",
    "import numpy as np\n",
    "import pandas as pd\n",
    "from sklearn.datasets import load_iris\n",
    "\n",
    "# save load_iris() sklearn dataset to iris\n",
    "# if you'd like to check dataset type use: type(load_iris())\n",
    "# if you'd like to view list of attributes use: dir(load_iris())\n",
    "iris = load_iris()\n",
    "\n",
    "# np.c_ is the numpy concatenate function\n",
    "# which is used to concat iris['data'] and iris['target'] arrays \n",
    "# for pandas column argument: concat iris['feature_names'] list\n",
    "# and string list (in this case one string); you can make this anything you'd like..  \n",
    "# the original dataset would probably call this ['Species']\n",
    "data = pd.DataFrame(data= np.c_[iris['data'], iris['target']],\n",
    "                     columns= iris['feature_names'] + ['target'])\n",
    "\n",
    "url, port, user, pwd = Settings.load_config(\"../../config/e2edata.ini\")\n",
    "connection_context = dataframe.ConnectionContext(url, port, user, pwd)\n",
    "hana_df = create_dataframe_from_pandas(connection_context, data, 'IRIS', force=True)"
   ]
  },
  {
   "cell_type": "code",
   "execution_count": 2,
   "metadata": {},
   "outputs": [
    {
     "data": {
      "text/html": [
       "<div>\n",
       "<style scoped>\n",
       "    .dataframe tbody tr th:only-of-type {\n",
       "        vertical-align: middle;\n",
       "    }\n",
       "\n",
       "    .dataframe tbody tr th {\n",
       "        vertical-align: top;\n",
       "    }\n",
       "\n",
       "    .dataframe thead th {\n",
       "        text-align: right;\n",
       "    }\n",
       "</style>\n",
       "<table border=\"1\" class=\"dataframe\">\n",
       "  <thead>\n",
       "    <tr style=\"text-align: right;\">\n",
       "      <th></th>\n",
       "      <th>sepal length (cm)</th>\n",
       "      <th>sepal width (cm)</th>\n",
       "      <th>petal length (cm)</th>\n",
       "      <th>petal width (cm)</th>\n",
       "      <th>target</th>\n",
       "    </tr>\n",
       "  </thead>\n",
       "  <tbody>\n",
       "    <tr>\n",
       "      <th>0</th>\n",
       "      <td>5.1</td>\n",
       "      <td>3.5</td>\n",
       "      <td>1.4</td>\n",
       "      <td>0.2</td>\n",
       "      <td>0.0</td>\n",
       "    </tr>\n",
       "    <tr>\n",
       "      <th>1</th>\n",
       "      <td>4.9</td>\n",
       "      <td>3.0</td>\n",
       "      <td>1.4</td>\n",
       "      <td>0.2</td>\n",
       "      <td>0.0</td>\n",
       "    </tr>\n",
       "    <tr>\n",
       "      <th>2</th>\n",
       "      <td>4.7</td>\n",
       "      <td>3.2</td>\n",
       "      <td>1.3</td>\n",
       "      <td>0.2</td>\n",
       "      <td>0.0</td>\n",
       "    </tr>\n",
       "    <tr>\n",
       "      <th>3</th>\n",
       "      <td>4.6</td>\n",
       "      <td>3.1</td>\n",
       "      <td>1.5</td>\n",
       "      <td>0.2</td>\n",
       "      <td>0.0</td>\n",
       "    </tr>\n",
       "    <tr>\n",
       "      <th>4</th>\n",
       "      <td>5.0</td>\n",
       "      <td>3.6</td>\n",
       "      <td>1.4</td>\n",
       "      <td>0.2</td>\n",
       "      <td>0.0</td>\n",
       "    </tr>\n",
       "    <tr>\n",
       "      <th>5</th>\n",
       "      <td>5.4</td>\n",
       "      <td>3.9</td>\n",
       "      <td>1.7</td>\n",
       "      <td>0.4</td>\n",
       "      <td>0.0</td>\n",
       "    </tr>\n",
       "    <tr>\n",
       "      <th>6</th>\n",
       "      <td>4.6</td>\n",
       "      <td>3.4</td>\n",
       "      <td>1.4</td>\n",
       "      <td>0.3</td>\n",
       "      <td>0.0</td>\n",
       "    </tr>\n",
       "    <tr>\n",
       "      <th>7</th>\n",
       "      <td>5.0</td>\n",
       "      <td>3.4</td>\n",
       "      <td>1.5</td>\n",
       "      <td>0.2</td>\n",
       "      <td>0.0</td>\n",
       "    </tr>\n",
       "    <tr>\n",
       "      <th>8</th>\n",
       "      <td>4.4</td>\n",
       "      <td>2.9</td>\n",
       "      <td>1.4</td>\n",
       "      <td>0.2</td>\n",
       "      <td>0.0</td>\n",
       "    </tr>\n",
       "    <tr>\n",
       "      <th>9</th>\n",
       "      <td>4.9</td>\n",
       "      <td>3.1</td>\n",
       "      <td>1.5</td>\n",
       "      <td>0.1</td>\n",
       "      <td>0.0</td>\n",
       "    </tr>\n",
       "  </tbody>\n",
       "</table>\n",
       "</div>"
      ],
      "text/plain": [
       "   sepal length (cm)  sepal width (cm)  petal length (cm)  petal width (cm)  \\\n",
       "0                5.1               3.5                1.4               0.2   \n",
       "1                4.9               3.0                1.4               0.2   \n",
       "2                4.7               3.2                1.3               0.2   \n",
       "3                4.6               3.1                1.5               0.2   \n",
       "4                5.0               3.6                1.4               0.2   \n",
       "5                5.4               3.9                1.7               0.4   \n",
       "6                4.6               3.4                1.4               0.3   \n",
       "7                5.0               3.4                1.5               0.2   \n",
       "8                4.4               2.9                1.4               0.2   \n",
       "9                4.9               3.1                1.5               0.1   \n",
       "\n",
       "   target  \n",
       "0     0.0  \n",
       "1     0.0  \n",
       "2     0.0  \n",
       "3     0.0  \n",
       "4     0.0  \n",
       "5     0.0  \n",
       "6     0.0  \n",
       "7     0.0  \n",
       "8     0.0  \n",
       "9     0.0  "
      ]
     },
     "execution_count": 2,
     "metadata": {},
     "output_type": "execute_result"
    }
   ],
   "source": [
    "hana_df.head(10).collect()"
   ]
  },
  {
   "cell_type": "code",
   "execution_count": 4,
   "metadata": {},
   "outputs": [
    {
     "data": {
      "text/html": [
       "<div>\n",
       "<style scoped>\n",
       "    .dataframe tbody tr th:only-of-type {\n",
       "        vertical-align: middle;\n",
       "    }\n",
       "\n",
       "    .dataframe tbody tr th {\n",
       "        vertical-align: top;\n",
       "    }\n",
       "\n",
       "    .dataframe thead th {\n",
       "        text-align: right;\n",
       "    }\n",
       "</style>\n",
       "<table border=\"1\" class=\"dataframe\">\n",
       "  <thead>\n",
       "    <tr style=\"text-align: right;\">\n",
       "      <th></th>\n",
       "      <th>NAME</th>\n",
       "      <th>VERSION</th>\n",
       "      <th>LIBRARY</th>\n",
       "      <th>CLASS</th>\n",
       "      <th>JSON</th>\n",
       "      <th>TIMESTAMP</th>\n",
       "      <th>MODEL_STORAGE_VER</th>\n",
       "    </tr>\n",
       "  </thead>\n",
       "  <tbody>\n",
       "    <tr>\n",
       "      <th>0</th>\n",
       "      <td>Model A</td>\n",
       "      <td>1</td>\n",
       "      <td>PAL</td>\n",
       "      <td>hana_ml.algorithms.pal.neural_network.MLPRegre...</td>\n",
       "      <td>{\"model_attributes\": {\"activation\": \"TANH\", \"a...</td>\n",
       "      <td>2020-08-23 12:34:16</td>\n",
       "      <td>1</td>\n",
       "    </tr>\n",
       "  </tbody>\n",
       "</table>\n",
       "</div>"
      ],
      "text/plain": [
       "      NAME  VERSION LIBRARY  \\\n",
       "0  Model A        1     PAL   \n",
       "\n",
       "                                               CLASS  \\\n",
       "0  hana_ml.algorithms.pal.neural_network.MLPRegre...   \n",
       "\n",
       "                                                JSON           TIMESTAMP  \\\n",
       "0  {\"model_attributes\": {\"activation\": \"TANH\", \"a... 2020-08-23 12:34:16   \n",
       "\n",
       "   MODEL_STORAGE_VER  \n",
       "0                  1  "
      ]
     },
     "execution_count": 4,
     "metadata": {},
     "output_type": "execute_result"
    }
   ],
   "source": [
    "from hana_ml.model_storage import ModelStorage\n",
    "from hana_ml.model_storage_services import ModelSavingServices\n",
    "\n",
    "\n",
    "model = MLPRegressor(hidden_layer_size=[10,], \\\n",
    "                     activation='TANH', output_activation='TANH', learning_rate=0.01, momentum=0.001)\n",
    "model.fit(hana_df, label='target')\n",
    "\n",
    "# Creates an object model_storage\n",
    "\n",
    "# model storage must use the same connection than the model\n",
    "model_storage = ModelStorage(connection_context=connection_context)\n",
    "\n",
    "# Saves the model\n",
    "model.name = 'Model A'  # The model name is mandatory\n",
    "model.version = 1\n",
    "model_storage.save_model(model=model)\n",
    "#need to increase version\n",
    "\n",
    "# Lists models\n",
    "model_storage.list_models()\n"
   ]
  },
  {
   "cell_type": "code",
   "execution_count": 16,
   "metadata": {},
   "outputs": [],
   "source": [
    "model_storage.enable_persistent_memory('Model A', 1)"
   ]
  },
  {
   "cell_type": "code",
   "execution_count": 17,
   "metadata": {},
   "outputs": [
    {
     "data": {
      "text/html": [
       "<div>\n",
       "<style scoped>\n",
       "    .dataframe tbody tr th:only-of-type {\n",
       "        vertical-align: middle;\n",
       "    }\n",
       "\n",
       "    .dataframe tbody tr th {\n",
       "        vertical-align: top;\n",
       "    }\n",
       "\n",
       "    .dataframe thead th {\n",
       "        text-align: right;\n",
       "    }\n",
       "</style>\n",
       "<table border=\"1\" class=\"dataframe\">\n",
       "  <thead>\n",
       "    <tr style=\"text-align: right;\">\n",
       "      <th></th>\n",
       "      <th>TABLE_NAME</th>\n",
       "      <th>LOADED</th>\n",
       "      <th>PERSISTENT_MEMORY</th>\n",
       "    </tr>\n",
       "  </thead>\n",
       "  <tbody>\n",
       "    <tr>\n",
       "      <th>0</th>\n",
       "      <td>HANAML_MODEL_A_1_CLASS_HANA_ML_ALGORITHMS_PAL_...</td>\n",
       "      <td>FULL</td>\n",
       "      <td>TRUE</td>\n",
       "    </tr>\n",
       "  </tbody>\n",
       "</table>\n",
       "</div>"
      ],
      "text/plain": [
       "                                          TABLE_NAME LOADED PERSISTENT_MEMORY\n",
       "0  HANAML_MODEL_A_1_CLASS_HANA_ML_ALGORITHMS_PAL_...   FULL              TRUE"
      ]
     },
     "execution_count": 17,
     "metadata": {},
     "output_type": "execute_result"
    }
   ],
   "source": [
    "import json\n",
    "\n",
    "connection_context.sql(\"SELECT TABLE_NAME, LOADED, PERSISTENT_MEMORY FROM M_CS_TABLES WHERE TABLE_NAME='{}'\".format(json.loads(model_storage.list_models()[\"JSON\"][0])[\"artifacts\"][\"model_tables\"])).collect()\n"
   ]
  },
  {
   "cell_type": "code",
   "execution_count": 18,
   "metadata": {},
   "outputs": [],
   "source": [
    "model_storage.unload_from_memory(\"Model A\", 1, persistent_memory='retain')"
   ]
  },
  {
   "cell_type": "code",
   "execution_count": 19,
   "metadata": {},
   "outputs": [
    {
     "data": {
      "text/html": [
       "<div>\n",
       "<style scoped>\n",
       "    .dataframe tbody tr th:only-of-type {\n",
       "        vertical-align: middle;\n",
       "    }\n",
       "\n",
       "    .dataframe tbody tr th {\n",
       "        vertical-align: top;\n",
       "    }\n",
       "\n",
       "    .dataframe thead th {\n",
       "        text-align: right;\n",
       "    }\n",
       "</style>\n",
       "<table border=\"1\" class=\"dataframe\">\n",
       "  <thead>\n",
       "    <tr style=\"text-align: right;\">\n",
       "      <th></th>\n",
       "      <th>TABLE_NAME</th>\n",
       "      <th>LOADED</th>\n",
       "      <th>PERSISTENT_MEMORY</th>\n",
       "    </tr>\n",
       "  </thead>\n",
       "  <tbody>\n",
       "    <tr>\n",
       "      <th>0</th>\n",
       "      <td>HANAML_MODEL_A_1_CLASS_HANA_ML_ALGORITHMS_PAL_...</td>\n",
       "      <td>NO</td>\n",
       "      <td>TRUE</td>\n",
       "    </tr>\n",
       "  </tbody>\n",
       "</table>\n",
       "</div>"
      ],
      "text/plain": [
       "                                          TABLE_NAME LOADED PERSISTENT_MEMORY\n",
       "0  HANAML_MODEL_A_1_CLASS_HANA_ML_ALGORITHMS_PAL_...     NO              TRUE"
      ]
     },
     "execution_count": 19,
     "metadata": {},
     "output_type": "execute_result"
    }
   ],
   "source": [
    "connection_context.sql(\"SELECT TABLE_NAME, LOADED, PERSISTENT_MEMORY FROM M_CS_TABLES WHERE TABLE_NAME='{}'\".format(json.loads(model_storage.list_models()[\"JSON\"][0])[\"artifacts\"][\"model_tables\"])).collect()\n"
   ]
  },
  {
   "cell_type": "code",
   "execution_count": 20,
   "metadata": {},
   "outputs": [],
   "source": [
    "model_storage.disable_persistent_memory('Model A', 1)"
   ]
  },
  {
   "cell_type": "code",
   "execution_count": 21,
   "metadata": {},
   "outputs": [
    {
     "data": {
      "text/html": [
       "<div>\n",
       "<style scoped>\n",
       "    .dataframe tbody tr th:only-of-type {\n",
       "        vertical-align: middle;\n",
       "    }\n",
       "\n",
       "    .dataframe tbody tr th {\n",
       "        vertical-align: top;\n",
       "    }\n",
       "\n",
       "    .dataframe thead th {\n",
       "        text-align: right;\n",
       "    }\n",
       "</style>\n",
       "<table border=\"1\" class=\"dataframe\">\n",
       "  <thead>\n",
       "    <tr style=\"text-align: right;\">\n",
       "      <th></th>\n",
       "      <th>TABLE_NAME</th>\n",
       "      <th>LOADED</th>\n",
       "      <th>PERSISTENT_MEMORY</th>\n",
       "    </tr>\n",
       "  </thead>\n",
       "  <tbody>\n",
       "    <tr>\n",
       "      <th>0</th>\n",
       "      <td>HANAML_MODEL_A_1_CLASS_HANA_ML_ALGORITHMS_PAL_...</td>\n",
       "      <td>PARTIALLY</td>\n",
       "      <td>FALSE</td>\n",
       "    </tr>\n",
       "  </tbody>\n",
       "</table>\n",
       "</div>"
      ],
      "text/plain": [
       "                                          TABLE_NAME     LOADED  \\\n",
       "0  HANAML_MODEL_A_1_CLASS_HANA_ML_ALGORITHMS_PAL_...  PARTIALLY   \n",
       "\n",
       "  PERSISTENT_MEMORY  \n",
       "0             FALSE  "
      ]
     },
     "execution_count": 21,
     "metadata": {},
     "output_type": "execute_result"
    }
   ],
   "source": [
    "connection_context.sql(\"SELECT TABLE_NAME, LOADED, PERSISTENT_MEMORY FROM M_CS_TABLES WHERE TABLE_NAME='{}'\".format(json.loads(model_storage.list_models()[\"JSON\"][0])[\"artifacts\"][\"model_tables\"])).collect()\n"
   ]
  },
  {
   "cell_type": "code",
   "execution_count": 7,
   "metadata": {},
   "outputs": [],
   "source": [
    "model_storage.load_into_memory(\"Model A\", 1)"
   ]
  },
  {
   "cell_type": "code",
   "execution_count": null,
   "metadata": {},
   "outputs": [],
   "source": [
    "model_storage.delete_model('Model A', 2)"
   ]
  },
  {
   "cell_type": "code",
   "execution_count": 7,
   "metadata": {},
   "outputs": [
    {
     "data": {
      "text/html": [
       "<div>\n",
       "<style scoped>\n",
       "    .dataframe tbody tr th:only-of-type {\n",
       "        vertical-align: middle;\n",
       "    }\n",
       "\n",
       "    .dataframe tbody tr th {\n",
       "        vertical-align: top;\n",
       "    }\n",
       "\n",
       "    .dataframe thead th {\n",
       "        text-align: right;\n",
       "    }\n",
       "</style>\n",
       "<table border=\"1\" class=\"dataframe\">\n",
       "  <thead>\n",
       "    <tr style=\"text-align: right;\">\n",
       "      <th></th>\n",
       "      <th>NAME</th>\n",
       "      <th>VERSION</th>\n",
       "      <th>LIBRARY</th>\n",
       "      <th>CLASS</th>\n",
       "      <th>JSON</th>\n",
       "      <th>TIMESTMP</th>\n",
       "      <th>MODEL_STORAGE_VER</th>\n",
       "    </tr>\n",
       "  </thead>\n",
       "  <tbody>\n",
       "    <tr>\n",
       "      <th>0</th>\n",
       "      <td>Model A</td>\n",
       "      <td>1</td>\n",
       "      <td>PAL</td>\n",
       "      <td>hana_ml.algorithms.pal.neural_network.MLPRegre...</td>\n",
       "      <td>{\"model_attributes\": {\"thread_ratio\": null, \"p...</td>\n",
       "      <td>2019-07-28 06:49:48</td>\n",
       "      <td>1</td>\n",
       "    </tr>\n",
       "  </tbody>\n",
       "</table>\n",
       "</div>"
      ],
      "text/plain": [
       "      NAME  VERSION LIBRARY  \\\n",
       "0  Model A        1     PAL   \n",
       "\n",
       "                                               CLASS  \\\n",
       "0  hana_ml.algorithms.pal.neural_network.MLPRegre...   \n",
       "\n",
       "                                                JSON            TIMESTMP  \\\n",
       "0  {\"model_attributes\": {\"thread_ratio\": null, \"p... 2019-07-28 06:49:48   \n",
       "\n",
       "   MODEL_STORAGE_VER  \n",
       "0                  1  "
      ]
     },
     "execution_count": 7,
     "metadata": {},
     "output_type": "execute_result"
    }
   ],
   "source": [
    "model_storage.list_models()"
   ]
  },
  {
   "cell_type": "code",
   "execution_count": 6,
   "metadata": {},
   "outputs": [],
   "source": [
    "df = model_storage.list_models(name='Model A')"
   ]
  },
  {
   "cell_type": "code",
   "execution_count": null,
   "metadata": {},
   "outputs": [],
   "source": [
    "model_storage.delete_models('Model B')"
   ]
  },
  {
   "cell_type": "code",
   "execution_count": 15,
   "metadata": {},
   "outputs": [
    {
     "name": "stdout",
     "output_type": "stream",
     "text": [
      "mod_name: hana_ml.algorithms.pal.neural_network\n",
      "mod_name: hana_ml.algorithms.pal.neural_network\n"
     ]
    },
    {
     "data": {
      "text/html": [
       "<div>\n",
       "<style scoped>\n",
       "    .dataframe tbody tr th:only-of-type {\n",
       "        vertical-align: middle;\n",
       "    }\n",
       "\n",
       "    .dataframe tbody tr th {\n",
       "        vertical-align: top;\n",
       "    }\n",
       "\n",
       "    .dataframe thead th {\n",
       "        text-align: right;\n",
       "    }\n",
       "</style>\n",
       "<table border=\"1\" class=\"dataframe\">\n",
       "  <thead>\n",
       "    <tr style=\"text-align: right;\">\n",
       "      <th></th>\n",
       "      <th>NAME</th>\n",
       "      <th>VERSION</th>\n",
       "      <th>LIBRARY</th>\n",
       "      <th>CLASS</th>\n",
       "      <th>JSON</th>\n",
       "      <th>TIMESTAMP</th>\n",
       "      <th>MODEL_STORAGE_VER</th>\n",
       "    </tr>\n",
       "  </thead>\n",
       "  <tbody>\n",
       "    <tr>\n",
       "      <th>0</th>\n",
       "      <td>Model A</td>\n",
       "      <td>3</td>\n",
       "      <td>PAL</td>\n",
       "      <td>hana_ml.algorithms.pal.neural_network.MLPRegre...</td>\n",
       "      <td>{\"model_attributes\": {\"thread_ratio\": null, \"p...</td>\n",
       "      <td>2019-07-29 10:26:48</td>\n",
       "      <td>1</td>\n",
       "    </tr>\n",
       "  </tbody>\n",
       "</table>\n",
       "</div>"
      ],
      "text/plain": [
       "      NAME  VERSION LIBRARY  \\\n",
       "0  Model A        3     PAL   \n",
       "\n",
       "                                               CLASS  \\\n",
       "0  hana_ml.algorithms.pal.neural_network.MLPRegre...   \n",
       "\n",
       "                                                JSON           TIMESTAMP  \\\n",
       "0  {\"model_attributes\": {\"thread_ratio\": null, \"p... 2019-07-29 10:26:48   \n",
       "\n",
       "   MODEL_STORAGE_VER  \n",
       "0                  1  "
      ]
     },
     "execution_count": 15,
     "metadata": {},
     "output_type": "execute_result"
    }
   ],
   "source": [
    "start_time = '2019-07-27 07:49:48'\n",
    "end_time = '2019-07-29 10:26:47'\n",
    "model_storage.delete_models('Model A', start_time=start_time, end_time=end_time)\n",
    "model_storage.list_models()"
   ]
  },
  {
   "cell_type": "code",
   "execution_count": 8,
   "metadata": {},
   "outputs": [
    {
     "data": {
      "text/plain": [
       "'{\"model_attributes\": {\"thread_ratio\": null, \"param_range\": null, \"param_values\": null, \"progress_indicator_id\": null, \"timeout\": null, \"random_state\": null, \"random_search_times\": null, \"search_strategy\": null, \"repeat_times\": null, \"fold_num\": null, \"evaluation_metric\": null, \"resampling_method\": null, \"categorical_variable\": null, \"weight_init\": null, \"normalization\": null, \"batch_size\": null, \"momentum\": 0.001, \"learning_rate\": 0.01, \"training_style\": \"stochastic\", \"max_iter\": null, \"hidden_layer_size_options\": null, \"hidden_layer_size\": [10], \"output_activation_options\": null, \"output_activation\": \"TANH\", \"activation_options\": null, \"activation\": \"TANH\"}, \"artifacts\": {\"schema\": \"STORAGE\", \"model_tables\": {\"model_\": \"HANAML_MODEL_A_1_CLASS_HANA_ML_ALGORITHMS_PAL_NEURAL_NETWORK_MLPREGRESSOR_MODELS\"}, \"library\": \"PAL\"}}'"
      ]
     },
     "execution_count": 8,
     "metadata": {},
     "output_type": "execute_result"
    }
   ],
   "source": [
    "model_storage.list_models()['JSON'].iloc[0]"
   ]
  },
  {
   "cell_type": "code",
   "execution_count": 9,
   "metadata": {},
   "outputs": [
    {
     "name": "stdout",
     "output_type": "stream",
     "text": [
      "mod_name: hana_ml.algorithms.pal.neural_network\n"
     ]
    }
   ],
   "source": [
    "\n",
    "model = model_storage.load_model(name='Model A', version=1)"
   ]
  },
  {
   "cell_type": "code",
   "execution_count": 10,
   "metadata": {},
   "outputs": [
    {
     "data": {
      "text/plain": [
       "'SELECT * FROM \"STORAGE\".\"HANAML_MODEL_A_1_CLASS_HANA_ML_ALGORITHMS_PAL_NEURAL_NETWORK_MLPREGRESSOR_MODELS\"'"
      ]
     },
     "execution_count": 10,
     "metadata": {},
     "output_type": "execute_result"
    }
   ],
   "source": [
    "model.model_.select_statement"
   ]
  },
  {
   "cell_type": "code",
   "execution_count": 11,
   "metadata": {},
   "outputs": [
    {
     "data": {
      "text/html": [
       "<div>\n",
       "<style scoped>\n",
       "    .dataframe tbody tr th:only-of-type {\n",
       "        vertical-align: middle;\n",
       "    }\n",
       "\n",
       "    .dataframe tbody tr th {\n",
       "        vertical-align: top;\n",
       "    }\n",
       "\n",
       "    .dataframe thead th {\n",
       "        text-align: right;\n",
       "    }\n",
       "</style>\n",
       "<table border=\"1\" class=\"dataframe\">\n",
       "  <thead>\n",
       "    <tr style=\"text-align: right;\">\n",
       "      <th></th>\n",
       "      <th>id</th>\n",
       "      <th>TARGET</th>\n",
       "      <th>VALUE</th>\n",
       "    </tr>\n",
       "  </thead>\n",
       "  <tbody>\n",
       "    <tr>\n",
       "      <th>0</th>\n",
       "      <td>1</td>\n",
       "      <td>target</td>\n",
       "      <td>0.0</td>\n",
       "    </tr>\n",
       "  </tbody>\n",
       "</table>\n",
       "</div>"
      ],
      "text/plain": [
       "   id  TARGET  VALUE\n",
       "0   1  target    0.0"
      ]
     },
     "execution_count": 11,
     "metadata": {},
     "output_type": "execute_result"
    }
   ],
   "source": [
    "test = pd.DataFrame()\n",
    "test['id'] = [1]\n",
    "test['sepal length (cm)'] = [4.2]\n",
    "test['sepal width (cm)'] = [3.2]\n",
    "test['petal length (cm)'] = [1.2]\n",
    "test['petal width (cm)'] = [0.2]\n",
    "\n",
    "test_df = create_dataframe_from_pandas(connection_context, test, 'IRIS_TEST', force=True)\n",
    "model.predict(test_df, key='id').collect()"
   ]
  },
  {
   "cell_type": "code",
   "execution_count": null,
   "metadata": {},
   "outputs": [],
   "source": []
  }
 ],
 "metadata": {
  "kernelspec": {
   "display_name": "Python 3",
   "language": "python",
   "name": "python3"
  },
  "language_info": {
   "codemirror_mode": {
    "name": "ipython",
    "version": 3
   },
   "file_extension": ".py",
   "mimetype": "text/x-python",
   "name": "python",
   "nbconvert_exporter": "python",
   "pygments_lexer": "ipython3",
   "version": "3.7.4"
  }
 },
 "nbformat": 4,
 "nbformat_minor": 4
}

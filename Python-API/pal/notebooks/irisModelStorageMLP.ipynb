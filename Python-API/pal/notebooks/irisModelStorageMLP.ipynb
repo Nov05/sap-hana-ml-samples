{
 "cells": [
  {
   "cell_type": "code",
   "execution_count": 1,
   "metadata": {},
   "outputs": [
    {
     "name": "stderr",
     "output_type": "stream",
     "text": [
      "100%|████████████████████████████████████████████████████████████████████████████████████| 1/1 [00:00<00:00,  1.70it/s]\n"
     ]
    },
    {
     "data": {
      "text/html": [
       "<div>\n",
       "<style scoped>\n",
       "    .dataframe tbody tr th:only-of-type {\n",
       "        vertical-align: middle;\n",
       "    }\n",
       "\n",
       "    .dataframe tbody tr th {\n",
       "        vertical-align: top;\n",
       "    }\n",
       "\n",
       "    .dataframe thead th {\n",
       "        text-align: right;\n",
       "    }\n",
       "</style>\n",
       "<table border=\"1\" class=\"dataframe\">\n",
       "  <thead>\n",
       "    <tr style=\"text-align: right;\">\n",
       "      <th></th>\n",
       "      <th>sepal length (cm)</th>\n",
       "      <th>sepal width (cm)</th>\n",
       "      <th>petal length (cm)</th>\n",
       "      <th>petal width (cm)</th>\n",
       "      <th>target</th>\n",
       "    </tr>\n",
       "  </thead>\n",
       "  <tbody>\n",
       "    <tr>\n",
       "      <th>0</th>\n",
       "      <td>5.1</td>\n",
       "      <td>3.5</td>\n",
       "      <td>1.4</td>\n",
       "      <td>0.2</td>\n",
       "      <td>0.0</td>\n",
       "    </tr>\n",
       "    <tr>\n",
       "      <th>1</th>\n",
       "      <td>4.9</td>\n",
       "      <td>3.0</td>\n",
       "      <td>1.4</td>\n",
       "      <td>0.2</td>\n",
       "      <td>0.0</td>\n",
       "    </tr>\n",
       "    <tr>\n",
       "      <th>2</th>\n",
       "      <td>4.7</td>\n",
       "      <td>3.2</td>\n",
       "      <td>1.3</td>\n",
       "      <td>0.2</td>\n",
       "      <td>0.0</td>\n",
       "    </tr>\n",
       "    <tr>\n",
       "      <th>3</th>\n",
       "      <td>4.6</td>\n",
       "      <td>3.1</td>\n",
       "      <td>1.5</td>\n",
       "      <td>0.2</td>\n",
       "      <td>0.0</td>\n",
       "    </tr>\n",
       "    <tr>\n",
       "      <th>4</th>\n",
       "      <td>5.0</td>\n",
       "      <td>3.6</td>\n",
       "      <td>1.4</td>\n",
       "      <td>0.2</td>\n",
       "      <td>0.0</td>\n",
       "    </tr>\n",
       "    <tr>\n",
       "      <th>5</th>\n",
       "      <td>5.4</td>\n",
       "      <td>3.9</td>\n",
       "      <td>1.7</td>\n",
       "      <td>0.4</td>\n",
       "      <td>0.0</td>\n",
       "    </tr>\n",
       "    <tr>\n",
       "      <th>6</th>\n",
       "      <td>4.6</td>\n",
       "      <td>3.4</td>\n",
       "      <td>1.4</td>\n",
       "      <td>0.3</td>\n",
       "      <td>0.0</td>\n",
       "    </tr>\n",
       "    <tr>\n",
       "      <th>7</th>\n",
       "      <td>5.0</td>\n",
       "      <td>3.4</td>\n",
       "      <td>1.5</td>\n",
       "      <td>0.2</td>\n",
       "      <td>0.0</td>\n",
       "    </tr>\n",
       "    <tr>\n",
       "      <th>8</th>\n",
       "      <td>4.4</td>\n",
       "      <td>2.9</td>\n",
       "      <td>1.4</td>\n",
       "      <td>0.2</td>\n",
       "      <td>0.0</td>\n",
       "    </tr>\n",
       "    <tr>\n",
       "      <th>9</th>\n",
       "      <td>4.9</td>\n",
       "      <td>3.1</td>\n",
       "      <td>1.5</td>\n",
       "      <td>0.1</td>\n",
       "      <td>0.0</td>\n",
       "    </tr>\n",
       "  </tbody>\n",
       "</table>\n",
       "</div>"
      ],
      "text/plain": [
       "   sepal length (cm)  sepal width (cm)  petal length (cm)  petal width (cm)  \\\n",
       "0                5.1               3.5                1.4               0.2   \n",
       "1                4.9               3.0                1.4               0.2   \n",
       "2                4.7               3.2                1.3               0.2   \n",
       "3                4.6               3.1                1.5               0.2   \n",
       "4                5.0               3.6                1.4               0.2   \n",
       "5                5.4               3.9                1.7               0.4   \n",
       "6                4.6               3.4                1.4               0.3   \n",
       "7                5.0               3.4                1.5               0.2   \n",
       "8                4.4               2.9                1.4               0.2   \n",
       "9                4.9               3.1                1.5               0.1   \n",
       "\n",
       "   target  \n",
       "0     0.0  \n",
       "1     0.0  \n",
       "2     0.0  \n",
       "3     0.0  \n",
       "4     0.0  \n",
       "5     0.0  \n",
       "6     0.0  \n",
       "7     0.0  \n",
       "8     0.0  \n",
       "9     0.0  "
      ]
     },
     "execution_count": 1,
     "metadata": {},
     "output_type": "execute_result"
    }
   ],
   "source": [
    "# Dataset and Connection to SAP HANA \n",
    "\n",
    "from hana_ml import dataframe\n",
    "from hana_ml.algorithms.pal.neural_network import MLPClassifier, MLPRegressor\n",
    "from data_load_utils import Settings\n",
    "from hana_ml.dataframe import create_dataframe_from_pandas\n",
    "import numpy as np\n",
    "import pandas as pd\n",
    "from sklearn.datasets import load_iris\n",
    "\n",
    "# save load_iris() sklearn dataset to iris\n",
    "# if you'd like to check dataset type use: type(load_iris())\n",
    "# if you'd like to view list of attributes use: dir(load_iris())\n",
    "iris = load_iris()\n",
    "\n",
    "# np.c_ is the numpy concatenate function\n",
    "# which is used to concat iris['data'] and iris['target'] arrays \n",
    "# for pandas column argument: concat iris['feature_names'] list\n",
    "# and string list (in this case one string); you can make this anything you'd like..  \n",
    "# the original dataset would probably call this ['Species']\n",
    "data = pd.DataFrame(data= np.c_[iris['data'], iris['target']],\n",
    "                     columns= iris['feature_names'] + ['target'])\n",
    "\n",
    "url, port, user, pwd = Settings.load_config(\"../../config/e2edata.ini\")\n",
    "connection_context = dataframe.ConnectionContext(url, port, user, pwd)\n",
    "hana_df = create_dataframe_from_pandas(connection_context, data, 'IRIS', force=True)\n",
    "\n",
    "hana_df.head(10).collect()"
   ]
  },
  {
   "cell_type": "code",
   "execution_count": 2,
   "metadata": {},
   "outputs": [
    {
     "data": {
      "text/html": [
       "<div>\n",
       "<style scoped>\n",
       "    .dataframe tbody tr th:only-of-type {\n",
       "        vertical-align: middle;\n",
       "    }\n",
       "\n",
       "    .dataframe tbody tr th {\n",
       "        vertical-align: top;\n",
       "    }\n",
       "\n",
       "    .dataframe thead th {\n",
       "        text-align: right;\n",
       "    }\n",
       "</style>\n",
       "<table border=\"1\" class=\"dataframe\">\n",
       "  <thead>\n",
       "    <tr style=\"text-align: right;\">\n",
       "      <th></th>\n",
       "      <th>NAME</th>\n",
       "      <th>VERSION</th>\n",
       "      <th>LIBRARY</th>\n",
       "      <th>CLASS</th>\n",
       "      <th>JSON</th>\n",
       "      <th>TIMESTAMP</th>\n",
       "      <th>STORAGE_TYPE</th>\n",
       "      <th>MODEL_STORAGE_VER</th>\n",
       "      <th>SCHEDULE</th>\n",
       "    </tr>\n",
       "  </thead>\n",
       "  <tbody>\n",
       "    <tr>\n",
       "      <th>0</th>\n",
       "      <td>Model A</td>\n",
       "      <td>1</td>\n",
       "      <td>PAL</td>\n",
       "      <td>hana_ml.algorithms.pal.neural_network.MLPRegre...</td>\n",
       "      <td>{\"model_attributes\": {\"activation\": \"TANH\", \"a...</td>\n",
       "      <td>2021-07-07 11:56:01</td>\n",
       "      <td>default</td>\n",
       "      <td>1</td>\n",
       "      <td>{\"schedule\": {\"status\": \"inactive\", \"schedule_...</td>\n",
       "    </tr>\n",
       "  </tbody>\n",
       "</table>\n",
       "</div>"
      ],
      "text/plain": [
       "      NAME  VERSION LIBRARY  \\\n",
       "0  Model A        1     PAL   \n",
       "\n",
       "                                               CLASS  \\\n",
       "0  hana_ml.algorithms.pal.neural_network.MLPRegre...   \n",
       "\n",
       "                                                JSON           TIMESTAMP  \\\n",
       "0  {\"model_attributes\": {\"activation\": \"TANH\", \"a... 2021-07-07 11:56:01   \n",
       "\n",
       "  STORAGE_TYPE  MODEL_STORAGE_VER  \\\n",
       "0      default                  1   \n",
       "\n",
       "                                            SCHEDULE  \n",
       "0  {\"schedule\": {\"status\": \"inactive\", \"schedule_...  "
      ]
     },
     "execution_count": 2,
     "metadata": {},
     "output_type": "execute_result"
    }
   ],
   "source": [
    "from hana_ml.model_storage import ModelStorage\n",
    "#from hana_ml.model_storage_services import ModelSavingServices\n",
    "\n",
    "model = MLPRegressor(hidden_layer_size=[10,], \n",
    "                     activation='TANH', \n",
    "                     output_activation='TANH', \n",
    "                     learning_rate=0.01, \n",
    "                     momentum=0.001)\n",
    "model.fit(hana_df, label='target')\n",
    "\n",
    "# Creates an object called model_storage which must use the same connection with the model\n",
    "model_storage = ModelStorage(connection_context=connection_context)\n",
    "model_storage.clean_up()\n",
    "# Saves the model for the first time\n",
    "model.name = 'Model A'  # The model name is mandatory\n",
    "model.version = 1\n",
    "model_storage.save_model(model=model)\n",
    "\n",
    "# Lists models\n",
    "model_storage.list_models()"
   ]
  },
  {
   "cell_type": "code",
   "execution_count": 3,
   "metadata": {},
   "outputs": [
    {
     "data": {
      "text/html": [
       "<div>\n",
       "<style scoped>\n",
       "    .dataframe tbody tr th:only-of-type {\n",
       "        vertical-align: middle;\n",
       "    }\n",
       "\n",
       "    .dataframe tbody tr th {\n",
       "        vertical-align: top;\n",
       "    }\n",
       "\n",
       "    .dataframe thead th {\n",
       "        text-align: right;\n",
       "    }\n",
       "</style>\n",
       "<table border=\"1\" class=\"dataframe\">\n",
       "  <thead>\n",
       "    <tr style=\"text-align: right;\">\n",
       "      <th></th>\n",
       "      <th>NAME</th>\n",
       "      <th>VERSION</th>\n",
       "      <th>LIBRARY</th>\n",
       "      <th>CLASS</th>\n",
       "      <th>JSON</th>\n",
       "      <th>TIMESTAMP</th>\n",
       "      <th>STORAGE_TYPE</th>\n",
       "      <th>MODEL_STORAGE_VER</th>\n",
       "      <th>SCHEDULE</th>\n",
       "    </tr>\n",
       "  </thead>\n",
       "  <tbody>\n",
       "    <tr>\n",
       "      <th>0</th>\n",
       "      <td>Model A</td>\n",
       "      <td>1</td>\n",
       "      <td>PAL</td>\n",
       "      <td>hana_ml.algorithms.pal.neural_network.MLPRegre...</td>\n",
       "      <td>{\"model_attributes\": {\"activation\": \"TANH\", \"a...</td>\n",
       "      <td>2021-07-07 11:56:09</td>\n",
       "      <td>default</td>\n",
       "      <td>1</td>\n",
       "      <td>{\"schedule\": {\"status\": \"inactive\", \"schedule_...</td>\n",
       "    </tr>\n",
       "  </tbody>\n",
       "</table>\n",
       "</div>"
      ],
      "text/plain": [
       "      NAME  VERSION LIBRARY  \\\n",
       "0  Model A        1     PAL   \n",
       "\n",
       "                                               CLASS  \\\n",
       "0  hana_ml.algorithms.pal.neural_network.MLPRegre...   \n",
       "\n",
       "                                                JSON           TIMESTAMP  \\\n",
       "0  {\"model_attributes\": {\"activation\": \"TANH\", \"a... 2021-07-07 11:56:09   \n",
       "\n",
       "  STORAGE_TYPE  MODEL_STORAGE_VER  \\\n",
       "0      default                  1   \n",
       "\n",
       "                                            SCHEDULE  \n",
       "0  {\"schedule\": {\"status\": \"inactive\", \"schedule_...  "
      ]
     },
     "execution_count": 3,
     "metadata": {},
     "output_type": "execute_result"
    }
   ],
   "source": [
    "# save the model for the second time with 'replace' option and expect to have a model called 'Model A' and version is 1\n",
    "model_storage.save_model(model=model, if_exists='replace')\n",
    "model_storage.list_models()"
   ]
  },
  {
   "cell_type": "code",
   "execution_count": 4,
   "metadata": {},
   "outputs": [
    {
     "name": "stdout",
     "output_type": "stream",
     "text": [
      "2\n"
     ]
    },
    {
     "data": {
      "text/html": [
       "<div>\n",
       "<style scoped>\n",
       "    .dataframe tbody tr th:only-of-type {\n",
       "        vertical-align: middle;\n",
       "    }\n",
       "\n",
       "    .dataframe tbody tr th {\n",
       "        vertical-align: top;\n",
       "    }\n",
       "\n",
       "    .dataframe thead th {\n",
       "        text-align: right;\n",
       "    }\n",
       "</style>\n",
       "<table border=\"1\" class=\"dataframe\">\n",
       "  <thead>\n",
       "    <tr style=\"text-align: right;\">\n",
       "      <th></th>\n",
       "      <th>NAME</th>\n",
       "      <th>VERSION</th>\n",
       "      <th>LIBRARY</th>\n",
       "      <th>CLASS</th>\n",
       "      <th>JSON</th>\n",
       "      <th>TIMESTAMP</th>\n",
       "      <th>STORAGE_TYPE</th>\n",
       "      <th>MODEL_STORAGE_VER</th>\n",
       "      <th>SCHEDULE</th>\n",
       "    </tr>\n",
       "  </thead>\n",
       "  <tbody>\n",
       "    <tr>\n",
       "      <th>0</th>\n",
       "      <td>Model A</td>\n",
       "      <td>1</td>\n",
       "      <td>PAL</td>\n",
       "      <td>hana_ml.algorithms.pal.neural_network.MLPRegre...</td>\n",
       "      <td>{\"model_attributes\": {\"activation\": \"TANH\", \"a...</td>\n",
       "      <td>2021-07-07 11:56:09</td>\n",
       "      <td>default</td>\n",
       "      <td>1</td>\n",
       "      <td>{\"schedule\": {\"status\": \"inactive\", \"schedule_...</td>\n",
       "    </tr>\n",
       "    <tr>\n",
       "      <th>1</th>\n",
       "      <td>Model A</td>\n",
       "      <td>2</td>\n",
       "      <td>PAL</td>\n",
       "      <td>hana_ml.algorithms.pal.neural_network.MLPRegre...</td>\n",
       "      <td>{\"model_attributes\": {\"activation\": \"TANH\", \"a...</td>\n",
       "      <td>2021-07-07 11:56:15</td>\n",
       "      <td>default</td>\n",
       "      <td>1</td>\n",
       "      <td>{\"schedule\": {\"status\": \"inactive\", \"schedule_...</td>\n",
       "    </tr>\n",
       "  </tbody>\n",
       "</table>\n",
       "</div>"
      ],
      "text/plain": [
       "      NAME  VERSION LIBRARY  \\\n",
       "0  Model A        1     PAL   \n",
       "1  Model A        2     PAL   \n",
       "\n",
       "                                               CLASS  \\\n",
       "0  hana_ml.algorithms.pal.neural_network.MLPRegre...   \n",
       "1  hana_ml.algorithms.pal.neural_network.MLPRegre...   \n",
       "\n",
       "                                                JSON           TIMESTAMP  \\\n",
       "0  {\"model_attributes\": {\"activation\": \"TANH\", \"a... 2021-07-07 11:56:09   \n",
       "1  {\"model_attributes\": {\"activation\": \"TANH\", \"a... 2021-07-07 11:56:15   \n",
       "\n",
       "  STORAGE_TYPE  MODEL_STORAGE_VER  \\\n",
       "0      default                  1   \n",
       "1      default                  1   \n",
       "\n",
       "                                            SCHEDULE  \n",
       "0  {\"schedule\": {\"status\": \"inactive\", \"schedule_...  \n",
       "1  {\"schedule\": {\"status\": \"inactive\", \"schedule_...  "
      ]
     },
     "execution_count": 4,
     "metadata": {},
     "output_type": "execute_result"
    }
   ],
   "source": [
    "# save the model for the second time with 'upgrade' option and expect to have two model called 'Model A' \n",
    "# and version is 1 and 2\n",
    "model_storage.save_model(model=model, if_exists='upgrade')\n",
    "print(model.version)\n",
    "model_storage.list_models()"
   ]
  },
  {
   "cell_type": "code",
   "execution_count": 5,
   "metadata": {},
   "outputs": [
    {
     "data": {
      "text/plain": [
       "'{\"model_attributes\": {\"activation\": \"TANH\", \"activation_options\": null, \"output_activation\": \"TANH\", \"output_activation_options\": null, \"hidden_layer_size\": [10], \"hidden_layer_size_options\": null, \"max_iter\": null, \"training_style\": \"stochastic\", \"learning_rate\": 0.01, \"momentum\": 0.001, \"batch_size\": null, \"normalization\": null, \"weight_init\": null, \"categorical_variable\": null, \"resampling_method\": null, \"evaluation_metric\": null, \"fold_num\": null, \"repeat_times\": null, \"search_strategy\": null, \"random_search_times\": null, \"random_state\": null, \"timeout\": null, \"progress_indicator_id\": null, \"thread_ratio\": null, \"param_range\": null, \"param_values\": null}, \"artifacts\": {\"schema\": \"PAL_TEST\", \"model_tables\": \"HANAML_MODEL_A_2_CLASS_HANA_ML_ALGORITHMS_PAL_NEURAL_NETWORK_MLPREGRESSOR_MODELS\", \"library\": \"PAL\"}}'"
      ]
     },
     "execution_count": 5,
     "metadata": {},
     "output_type": "execute_result"
    }
   ],
   "source": [
    "# See the detail of model\n",
    "model_storage.list_models('Model A', 2)['JSON'].iloc[0]"
   ]
  },
  {
   "cell_type": "code",
   "execution_count": 6,
   "metadata": {},
   "outputs": [
    {
     "name": "stderr",
     "output_type": "stream",
     "text": [
      "100%|████████████████████████████████████████████████████████████████████████████████████| 1/1 [00:00<00:00,  1.75it/s]\n"
     ]
    },
    {
     "data": {
      "text/html": [
       "<div>\n",
       "<style scoped>\n",
       "    .dataframe tbody tr th:only-of-type {\n",
       "        vertical-align: middle;\n",
       "    }\n",
       "\n",
       "    .dataframe tbody tr th {\n",
       "        vertical-align: top;\n",
       "    }\n",
       "\n",
       "    .dataframe thead th {\n",
       "        text-align: right;\n",
       "    }\n",
       "</style>\n",
       "<table border=\"1\" class=\"dataframe\">\n",
       "  <thead>\n",
       "    <tr style=\"text-align: right;\">\n",
       "      <th></th>\n",
       "      <th>id</th>\n",
       "      <th>TARGET</th>\n",
       "      <th>VALUE</th>\n",
       "    </tr>\n",
       "  </thead>\n",
       "  <tbody>\n",
       "    <tr>\n",
       "      <th>0</th>\n",
       "      <td>1</td>\n",
       "      <td>target</td>\n",
       "      <td>0.0</td>\n",
       "    </tr>\n",
       "  </tbody>\n",
       "</table>\n",
       "</div>"
      ],
      "text/plain": [
       "   id  TARGET  VALUE\n",
       "0   1  target    0.0"
      ]
     },
     "execution_count": 6,
     "metadata": {},
     "output_type": "execute_result"
    }
   ],
   "source": [
    "# Load the model\n",
    "new_model = model_storage.load_model(name='Model A', version=1)\n",
    "\n",
    "# Predict with the loaded model\n",
    "test = pd.DataFrame()\n",
    "test['id'] = [1]\n",
    "test['sepal length (cm)'] = [4.2]\n",
    "test['sepal width (cm)'] = [3.2]\n",
    "test['petal length (cm)'] = [1.2]\n",
    "test['petal width (cm)'] = [0.2]\n",
    "\n",
    "test_df = create_dataframe_from_pandas(connection_context, test, 'IRIS_TEST', force=True)\n",
    "new_model.predict(test_df, key='id').collect()"
   ]
  },
  {
   "cell_type": "code",
   "execution_count": 7,
   "metadata": {},
   "outputs": [
    {
     "data": {
      "text/plain": [
       "'SELECT * FROM \"PAL_TEST\".\"HANAML_MODEL_A_1_CLASS_HANA_ML_ALGORITHMS_PAL_NEURAL_NETWORK_MLPREGRESSOR_MODELS\"'"
      ]
     },
     "execution_count": 7,
     "metadata": {},
     "output_type": "execute_result"
    }
   ],
   "source": [
    "new_model.model_.select_statement"
   ]
  },
  {
   "cell_type": "code",
   "execution_count": 8,
   "metadata": {},
   "outputs": [],
   "source": [
    "# enable persistent memory of a model 'Model A' with version 1\n",
    "model_storage.enable_persistent_memory('Model A', 1)"
   ]
  },
  {
   "cell_type": "code",
   "execution_count": 9,
   "metadata": {},
   "outputs": [
    {
     "data": {
      "text/html": [
       "<div>\n",
       "<style scoped>\n",
       "    .dataframe tbody tr th:only-of-type {\n",
       "        vertical-align: middle;\n",
       "    }\n",
       "\n",
       "    .dataframe tbody tr th {\n",
       "        vertical-align: top;\n",
       "    }\n",
       "\n",
       "    .dataframe thead th {\n",
       "        text-align: right;\n",
       "    }\n",
       "</style>\n",
       "<table border=\"1\" class=\"dataframe\">\n",
       "  <thead>\n",
       "    <tr style=\"text-align: right;\">\n",
       "      <th></th>\n",
       "      <th>TABLE_NAME</th>\n",
       "      <th>LOADED</th>\n",
       "      <th>PERSISTENT_MEMORY</th>\n",
       "    </tr>\n",
       "  </thead>\n",
       "  <tbody>\n",
       "    <tr>\n",
       "      <th>0</th>\n",
       "      <td>HANAML_MODEL_A_1_CLASS_HANA_ML_ALGORITHMS_PAL_...</td>\n",
       "      <td>PARTIALLY</td>\n",
       "      <td>TRUE</td>\n",
       "    </tr>\n",
       "  </tbody>\n",
       "</table>\n",
       "</div>"
      ],
      "text/plain": [
       "                                          TABLE_NAME     LOADED  \\\n",
       "0  HANAML_MODEL_A_1_CLASS_HANA_ML_ALGORITHMS_PAL_...  PARTIALLY   \n",
       "\n",
       "  PERSISTENT_MEMORY  \n",
       "0              TRUE  "
      ]
     },
     "execution_count": 9,
     "metadata": {},
     "output_type": "execute_result"
    }
   ],
   "source": [
    "# see the Runtime data of column tables M_CS_TABLES\n",
    "# LOADED: If the table is loaded in memory\n",
    "# PERSISTENT_MEMORY: Flag to indicate that new main part will be written to disk during table delta merge unless requested differently\n",
    "import json\n",
    "connection_context.sql(\"SELECT TABLE_NAME, LOADED, PERSISTENT_MEMORY FROM M_CS_TABLES WHERE TABLE_NAME='{}'\".format(json.loads(model_storage.list_models('Model A',1)[\"JSON\"][0])[\"artifacts\"][\"model_tables\"])).collect()"
   ]
  },
  {
   "cell_type": "code",
   "execution_count": 10,
   "metadata": {},
   "outputs": [],
   "source": [
    "# Unload from the memory\n",
    "model_storage.unload_from_memory(\"Model A\", 1, persistent_memory='retain')"
   ]
  },
  {
   "cell_type": "code",
   "execution_count": 11,
   "metadata": {},
   "outputs": [
    {
     "data": {
      "text/html": [
       "<div>\n",
       "<style scoped>\n",
       "    .dataframe tbody tr th:only-of-type {\n",
       "        vertical-align: middle;\n",
       "    }\n",
       "\n",
       "    .dataframe tbody tr th {\n",
       "        vertical-align: top;\n",
       "    }\n",
       "\n",
       "    .dataframe thead th {\n",
       "        text-align: right;\n",
       "    }\n",
       "</style>\n",
       "<table border=\"1\" class=\"dataframe\">\n",
       "  <thead>\n",
       "    <tr style=\"text-align: right;\">\n",
       "      <th></th>\n",
       "      <th>TABLE_NAME</th>\n",
       "      <th>LOADED</th>\n",
       "      <th>PERSISTENT_MEMORY</th>\n",
       "    </tr>\n",
       "  </thead>\n",
       "  <tbody>\n",
       "    <tr>\n",
       "      <th>0</th>\n",
       "      <td>HANAML_MODEL_A_1_CLASS_HANA_ML_ALGORITHMS_PAL_...</td>\n",
       "      <td>NO</td>\n",
       "      <td>TRUE</td>\n",
       "    </tr>\n",
       "  </tbody>\n",
       "</table>\n",
       "</div>"
      ],
      "text/plain": [
       "                                          TABLE_NAME LOADED PERSISTENT_MEMORY\n",
       "0  HANAML_MODEL_A_1_CLASS_HANA_ML_ALGORITHMS_PAL_...     NO              TRUE"
      ]
     },
     "execution_count": 11,
     "metadata": {},
     "output_type": "execute_result"
    }
   ],
   "source": [
    "# see the Runtime data of column tables M_CS_TABLES\n",
    "connection_context.sql(\"SELECT TABLE_NAME, LOADED, PERSISTENT_MEMORY FROM M_CS_TABLES WHERE TABLE_NAME='{}'\".format(json.loads(model_storage.list_models('Model A',1)[\"JSON\"][0])[\"artifacts\"][\"model_tables\"])).collect()"
   ]
  },
  {
   "cell_type": "code",
   "execution_count": 12,
   "metadata": {},
   "outputs": [],
   "source": [
    "model_storage.disable_persistent_memory('Model A', 1)"
   ]
  },
  {
   "cell_type": "code",
   "execution_count": 13,
   "metadata": {},
   "outputs": [
    {
     "data": {
      "text/html": [
       "<div>\n",
       "<style scoped>\n",
       "    .dataframe tbody tr th:only-of-type {\n",
       "        vertical-align: middle;\n",
       "    }\n",
       "\n",
       "    .dataframe tbody tr th {\n",
       "        vertical-align: top;\n",
       "    }\n",
       "\n",
       "    .dataframe thead th {\n",
       "        text-align: right;\n",
       "    }\n",
       "</style>\n",
       "<table border=\"1\" class=\"dataframe\">\n",
       "  <thead>\n",
       "    <tr style=\"text-align: right;\">\n",
       "      <th></th>\n",
       "      <th>TABLE_NAME</th>\n",
       "      <th>LOADED</th>\n",
       "      <th>PERSISTENT_MEMORY</th>\n",
       "    </tr>\n",
       "  </thead>\n",
       "  <tbody>\n",
       "    <tr>\n",
       "      <th>0</th>\n",
       "      <td>HANAML_MODEL_A_1_CLASS_HANA_ML_ALGORITHMS_PAL_...</td>\n",
       "      <td>PARTIALLY</td>\n",
       "      <td>FALSE</td>\n",
       "    </tr>\n",
       "  </tbody>\n",
       "</table>\n",
       "</div>"
      ],
      "text/plain": [
       "                                          TABLE_NAME     LOADED  \\\n",
       "0  HANAML_MODEL_A_1_CLASS_HANA_ML_ALGORITHMS_PAL_...  PARTIALLY   \n",
       "\n",
       "  PERSISTENT_MEMORY  \n",
       "0             FALSE  "
      ]
     },
     "execution_count": 13,
     "metadata": {},
     "output_type": "execute_result"
    }
   ],
   "source": [
    "connection_context.sql(\"SELECT TABLE_NAME, LOADED, PERSISTENT_MEMORY FROM M_CS_TABLES WHERE TABLE_NAME='{}'\".format(json.loads(model_storage.list_models('Model A',1)[\"JSON\"][0])[\"artifacts\"][\"model_tables\"])).collect()"
   ]
  },
  {
   "cell_type": "code",
   "execution_count": 14,
   "metadata": {},
   "outputs": [],
   "source": [
    "model_storage.load_into_memory(\"Model A\", 1)"
   ]
  },
  {
   "cell_type": "code",
   "execution_count": 15,
   "metadata": {},
   "outputs": [
    {
     "data": {
      "text/html": [
       "<div>\n",
       "<style scoped>\n",
       "    .dataframe tbody tr th:only-of-type {\n",
       "        vertical-align: middle;\n",
       "    }\n",
       "\n",
       "    .dataframe tbody tr th {\n",
       "        vertical-align: top;\n",
       "    }\n",
       "\n",
       "    .dataframe thead th {\n",
       "        text-align: right;\n",
       "    }\n",
       "</style>\n",
       "<table border=\"1\" class=\"dataframe\">\n",
       "  <thead>\n",
       "    <tr style=\"text-align: right;\">\n",
       "      <th></th>\n",
       "      <th>TABLE_NAME</th>\n",
       "      <th>LOADED</th>\n",
       "      <th>PERSISTENT_MEMORY</th>\n",
       "    </tr>\n",
       "  </thead>\n",
       "  <tbody>\n",
       "    <tr>\n",
       "      <th>0</th>\n",
       "      <td>HANAML_MODEL_A_1_CLASS_HANA_ML_ALGORITHMS_PAL_...</td>\n",
       "      <td>FULL</td>\n",
       "      <td>FALSE</td>\n",
       "    </tr>\n",
       "  </tbody>\n",
       "</table>\n",
       "</div>"
      ],
      "text/plain": [
       "                                          TABLE_NAME LOADED PERSISTENT_MEMORY\n",
       "0  HANAML_MODEL_A_1_CLASS_HANA_ML_ALGORITHMS_PAL_...   FULL             FALSE"
      ]
     },
     "execution_count": 15,
     "metadata": {},
     "output_type": "execute_result"
    }
   ],
   "source": [
    "connection_context.sql(\"SELECT TABLE_NAME, LOADED, PERSISTENT_MEMORY FROM M_CS_TABLES WHERE TABLE_NAME='{}'\".format(json.loads(model_storage.list_models('Model A',1)[\"JSON\"][0])[\"artifacts\"][\"model_tables\"])).collect()"
   ]
  },
  {
   "cell_type": "code",
   "execution_count": 16,
   "metadata": {},
   "outputs": [],
   "source": [
    "# Delete a model\n",
    "model_storage.delete_model('Model A', 1)"
   ]
  },
  {
   "cell_type": "code",
   "execution_count": 17,
   "metadata": {},
   "outputs": [
    {
     "data": {
      "text/html": [
       "<div>\n",
       "<style scoped>\n",
       "    .dataframe tbody tr th:only-of-type {\n",
       "        vertical-align: middle;\n",
       "    }\n",
       "\n",
       "    .dataframe tbody tr th {\n",
       "        vertical-align: top;\n",
       "    }\n",
       "\n",
       "    .dataframe thead th {\n",
       "        text-align: right;\n",
       "    }\n",
       "</style>\n",
       "<table border=\"1\" class=\"dataframe\">\n",
       "  <thead>\n",
       "    <tr style=\"text-align: right;\">\n",
       "      <th></th>\n",
       "      <th>NAME</th>\n",
       "      <th>VERSION</th>\n",
       "      <th>LIBRARY</th>\n",
       "      <th>CLASS</th>\n",
       "      <th>JSON</th>\n",
       "      <th>TIMESTAMP</th>\n",
       "      <th>STORAGE_TYPE</th>\n",
       "      <th>MODEL_STORAGE_VER</th>\n",
       "      <th>SCHEDULE</th>\n",
       "    </tr>\n",
       "  </thead>\n",
       "  <tbody>\n",
       "    <tr>\n",
       "      <th>0</th>\n",
       "      <td>Model A</td>\n",
       "      <td>2</td>\n",
       "      <td>PAL</td>\n",
       "      <td>hana_ml.algorithms.pal.neural_network.MLPRegre...</td>\n",
       "      <td>{\"model_attributes\": {\"activation\": \"TANH\", \"a...</td>\n",
       "      <td>2021-07-07 11:56:15</td>\n",
       "      <td>default</td>\n",
       "      <td>1</td>\n",
       "      <td>{\"schedule\": {\"status\": \"inactive\", \"schedule_...</td>\n",
       "    </tr>\n",
       "  </tbody>\n",
       "</table>\n",
       "</div>"
      ],
      "text/plain": [
       "      NAME  VERSION LIBRARY  \\\n",
       "0  Model A        2     PAL   \n",
       "\n",
       "                                               CLASS  \\\n",
       "0  hana_ml.algorithms.pal.neural_network.MLPRegre...   \n",
       "\n",
       "                                                JSON           TIMESTAMP  \\\n",
       "0  {\"model_attributes\": {\"activation\": \"TANH\", \"a... 2021-07-07 11:56:15   \n",
       "\n",
       "  STORAGE_TYPE  MODEL_STORAGE_VER  \\\n",
       "0      default                  1   \n",
       "\n",
       "                                            SCHEDULE  \n",
       "0  {\"schedule\": {\"status\": \"inactive\", \"schedule_...  "
      ]
     },
     "execution_count": 17,
     "metadata": {},
     "output_type": "execute_result"
    }
   ],
   "source": [
    "model_storage.list_models()"
   ]
  },
  {
   "cell_type": "code",
   "execution_count": 18,
   "metadata": {},
   "outputs": [
    {
     "data": {
      "text/html": [
       "<div>\n",
       "<style scoped>\n",
       "    .dataframe tbody tr th:only-of-type {\n",
       "        vertical-align: middle;\n",
       "    }\n",
       "\n",
       "    .dataframe tbody tr th {\n",
       "        vertical-align: top;\n",
       "    }\n",
       "\n",
       "    .dataframe thead th {\n",
       "        text-align: right;\n",
       "    }\n",
       "</style>\n",
       "<table border=\"1\" class=\"dataframe\">\n",
       "  <thead>\n",
       "    <tr style=\"text-align: right;\">\n",
       "      <th></th>\n",
       "      <th>NAME</th>\n",
       "      <th>VERSION</th>\n",
       "      <th>LIBRARY</th>\n",
       "      <th>CLASS</th>\n",
       "      <th>JSON</th>\n",
       "      <th>TIMESTAMP</th>\n",
       "      <th>STORAGE_TYPE</th>\n",
       "      <th>MODEL_STORAGE_VER</th>\n",
       "      <th>SCHEDULE</th>\n",
       "    </tr>\n",
       "  </thead>\n",
       "  <tbody>\n",
       "    <tr>\n",
       "      <th>0</th>\n",
       "      <td>Model A</td>\n",
       "      <td>2</td>\n",
       "      <td>PAL</td>\n",
       "      <td>hana_ml.algorithms.pal.neural_network.MLPRegre...</td>\n",
       "      <td>{\"model_attributes\": {\"activation\": \"TANH\", \"a...</td>\n",
       "      <td>2021-07-07 11:56:15</td>\n",
       "      <td>default</td>\n",
       "      <td>1</td>\n",
       "      <td>{\"schedule\": {\"status\": \"inactive\", \"schedule_...</td>\n",
       "    </tr>\n",
       "  </tbody>\n",
       "</table>\n",
       "</div>"
      ],
      "text/plain": [
       "      NAME  VERSION LIBRARY  \\\n",
       "0  Model A        2     PAL   \n",
       "\n",
       "                                               CLASS  \\\n",
       "0  hana_ml.algorithms.pal.neural_network.MLPRegre...   \n",
       "\n",
       "                                                JSON           TIMESTAMP  \\\n",
       "0  {\"model_attributes\": {\"activation\": \"TANH\", \"a... 2021-07-07 11:56:15   \n",
       "\n",
       "  STORAGE_TYPE  MODEL_STORAGE_VER  \\\n",
       "0      default                  1   \n",
       "\n",
       "                                            SCHEDULE  \n",
       "0  {\"schedule\": {\"status\": \"inactive\", \"schedule_...  "
      ]
     },
     "execution_count": 18,
     "metadata": {},
     "output_type": "execute_result"
    }
   ],
   "source": [
    "model_storage.list_models(name='Model A')"
   ]
  },
  {
   "cell_type": "code",
   "execution_count": 19,
   "metadata": {},
   "outputs": [
    {
     "data": {
      "text/html": [
       "<div>\n",
       "<style scoped>\n",
       "    .dataframe tbody tr th:only-of-type {\n",
       "        vertical-align: middle;\n",
       "    }\n",
       "\n",
       "    .dataframe tbody tr th {\n",
       "        vertical-align: top;\n",
       "    }\n",
       "\n",
       "    .dataframe thead th {\n",
       "        text-align: right;\n",
       "    }\n",
       "</style>\n",
       "<table border=\"1\" class=\"dataframe\">\n",
       "  <thead>\n",
       "    <tr style=\"text-align: right;\">\n",
       "      <th></th>\n",
       "      <th>NAME</th>\n",
       "      <th>VERSION</th>\n",
       "      <th>LIBRARY</th>\n",
       "      <th>CLASS</th>\n",
       "      <th>JSON</th>\n",
       "      <th>TIMESTAMP</th>\n",
       "      <th>STORAGE_TYPE</th>\n",
       "      <th>MODEL_STORAGE_VER</th>\n",
       "      <th>SCHEDULE</th>\n",
       "    </tr>\n",
       "  </thead>\n",
       "  <tbody>\n",
       "  </tbody>\n",
       "</table>\n",
       "</div>"
      ],
      "text/plain": [
       "Empty DataFrame\n",
       "Columns: [NAME, VERSION, LIBRARY, CLASS, JSON, TIMESTAMP, STORAGE_TYPE, MODEL_STORAGE_VER, SCHEDULE]\n",
       "Index: []"
      ]
     },
     "execution_count": 19,
     "metadata": {},
     "output_type": "execute_result"
    }
   ],
   "source": [
    "# Detele models with specified name and a specified range of time\n",
    "start_time = '2019-07-27 07:49:48'\n",
    "end_time = '2021-07-29 10:26:47'\n",
    "model_storage.delete_models('Model A', start_time=start_time, end_time=end_time)\n",
    "model_storage.list_models()"
   ]
  },
  {
   "cell_type": "code",
   "execution_count": 20,
   "metadata": {},
   "outputs": [],
   "source": [
    "# Clean up all models at once\n",
    "model_storage.clean_up()"
   ]
  },
  {
   "cell_type": "code",
   "execution_count": 21,
   "metadata": {},
   "outputs": [],
   "source": [
    "# Close the connection to SAP HANA\n",
    "connection_context.close()"
   ]
  }
 ],
 "metadata": {
  "kernelspec": {
   "display_name": "Python 3",
   "language": "python",
   "name": "python3"
  },
  "language_info": {
   "codemirror_mode": {
    "name": "ipython",
    "version": 3
   },
   "file_extension": ".py",
   "mimetype": "text/x-python",
   "name": "python",
   "nbconvert_exporter": "python",
   "pygments_lexer": "ipython3",
   "version": "3.9.5"
  }
 },
 "nbformat": 4,
 "nbformat_minor": 4
}

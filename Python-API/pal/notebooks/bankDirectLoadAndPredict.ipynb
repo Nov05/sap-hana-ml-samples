{
 "cells": [
  {
   "cell_type": "markdown",
   "source": [
    "# Bank Marketing Data Set\n",
    "\n",
    "## Load a saved model and predict\n",
    "\n",
    "The data is related with direct marketing campaigns of a Portuguese banking institution.  The marketing campaigns were based on phone calls.  A number of features such as age, kind of job, marital status, education level, credit default, existence of housing loan, etc. were considered.  The classification goal is to predict if the client will subscribe (yes/no) a term deposit.\n",
    "\n",
    "More information regarding the data set is at https://archive.ics.uci.edu/ml/datasets/bank+marketing#.  For tutorials use only.\n",
    "\n",
    "<font color=blue>__ _The objective is to show the need for storing a model.  A rudimentary hack to load the model is implemented._ __</font>\n",
    "\n",
    "## Attribute Information:\n",
    "\n",
    "### Input variables:\n",
    "#### Bank client data:\n",
    "1. age (numeric)\n",
    "2. job : type of job (categorical: 'admin.','blue-collar','entrepreneur','housemaid','management','retired','self-employed','services','student','technician','unemployed','unknown')\n",
    "3. marital : marital status (categorical: 'divorced','married','single','unknown'; note: 'divorced' means divorced or widowed)\n",
    "4. education (categorical: 'basic.4y','basic.6y','basic.9y','high.school','illiterate','professional.course','university.degree','unknown')\n",
    "5. default: has credit in default? (categorical: 'no','yes','unknown')\n",
    "6. housing: has housing loan? (categorical: 'no','yes','unknown')\n",
    "7. loan: has personal loan? (categorical: 'no','yes','unknown')\n",
    "\n",
    "#### Related with the last contact of the current campaign:\n",
    "8. contact: contact communication type (categorical: 'cellular','telephone') \n",
    "9. month: last contact month of year (categorical: 'jan', 'feb', 'mar', ..., 'nov', 'dec')\n",
    "10. day_of_week: last contact day of the week (categorical: 'mon','tue','wed','thu','fri')\n",
    "11. duration: last contact duration, in seconds (numeric). Important note: this attribute highly affects the output target (e.g., if duration=0 then y='no'). Yet, the duration is not known before a call is performed. Also, after the end of the call y is obviously known. Thus, this input should only be included for benchmark purposes and should be discarded if the intention is to have a realistic predictive model.\n",
    "\n",
    "#### Other attributes:\n",
    "12. campaign: number of contacts performed during this campaign and for this client (numeric, includes last contact)\n",
    "13. pdays: number of days that passed by after the client was last contacted from a previous campaign (numeric; 999 means client was not previously contacted)\n",
    "14. previous: number of contacts performed before this campaign and for this client (numeric)\n",
    "15. poutcome: outcome of the previous marketing campaign (categorical: 'failure','nonexistent','success')\n",
    "\n",
    "#### Social and economic context attributes:\n",
    "16. emp.var.rate: employment variation rate - quarterly indicator (numeric)\n",
    "17. cons.price.idx: consumer price index - monthly indicator (numeric) \n",
    "18. cons.conf.idx: consumer confidence index - monthly indicator (numeric) \n",
    "19. euribor3m: euribor 3 month rate - daily indicator (numeric)\n",
    "20. nr.employed: number of employees - quarterly indicator (numeric)\n",
    "\n",
    "### Output variable (desired target):\n",
    "21. y - has the client subscribed a term deposit? (binary: 'yes','no')\n",
    "\n",
    "## Import packages"
   ],
   "metadata": {}
  },
  {
   "cell_type": "code",
   "execution_count": null,
   "source": [
    "from hana_ml import dataframe\r\n",
    "from hana_ml.algorithms.pal import linear_model\r\n",
    "from hana_ml.algorithms.pal import clustering\r\n",
    "from hdbcli import dbapi\r\n",
    "import numpy as np\r\n",
    "import matplotlib.pyplot as plt\r\n",
    "import logging"
   ],
   "outputs": [],
   "metadata": {}
  },
  {
   "cell_type": "markdown",
   "source": [
    "## Setup logging"
   ],
   "metadata": {}
  },
  {
   "cell_type": "code",
   "execution_count": null,
   "source": [
    "logging.basicConfig()\r\n",
    "logger = logging.getLogger('hana_ml.ml_base')\r\n",
    "logger.setLevel(logging.ERROR)\r\n",
    "logger.addHandler(logging.NullHandler())"
   ],
   "outputs": [],
   "metadata": {}
  },
  {
   "cell_type": "markdown",
   "source": [
    "## Setup connection and data sets\n",
    "The data is loaded into 4 tables - full set, test set, training set, and the validation set:\n",
    "<li>DBM2_RFULL_TBL</li>\n",
    "<li>DBM2_RTEST_TBL</li>\n",
    "<li>DBM2_RTRAINING_TBL</li>\n",
    "<li>DBM2_RVALIDATION_TBL</li>\n",
    "\n",
    "To do that, a connection is created and passed to the loader.\n",
    "\n",
    "There is a config file, <b>config/e2edata.ini</b> that controls the connection parameters and whether or not to reload the data from scratch.  In case the data is already loaded, there would be no need to load the data.  A sample section is below.  If the config parameter, reload_data is true then the tables for test, training, and validation are (re-)created and data inserted into them.\n",
    "\n",
    "#########################<br>\n",
    "[hana]<br>\n",
    "url=host.sjc.sap.corp<br>\n",
    "user=username<br>\n",
    "passwd=userpassword<br>\n",
    "port=3xx15<br>\n",
    "<br>\n",
    "\n",
    "#########################<br>"
   ],
   "metadata": {}
  },
  {
   "cell_type": "code",
   "execution_count": null,
   "source": [
    "from hana_ml.algorithms.pal.utility import DataSets, Settings\r\n",
    "url, port, user, pwd = Settings.load_config(\"../../config/e2edata.ini\")\r\n",
    "connection_context = dataframe.ConnectionContext(url, port, user, pwd)\r\n",
    "full_set, training_set, validation_set, test_set = DataSets.load_bank_data(connection_context)\r\n",
    "features = ['AGE','JOB','MARITAL','EDUCATION','DBM_DEFAULT', 'HOUSING','LOAN','CONTACT','DBM_MONTH','DAY_OF_WEEK','DURATION','CAMPAIGN','PDAYS','PREVIOUS','POUTCOME','EMP_VAR_RATE','CONS_PRICE_IDX','CONS_CONF_IDX','EURIBOR3M','NREMPLOYED']\r\n",
    "label = \"LABEL\""
   ],
   "outputs": [],
   "metadata": {}
  },
  {
   "cell_type": "markdown",
   "source": [
    "# Load the model\n",
    "__ _lr = model_persistence.load(connection_context, 'nk_lr', 'DEVUSER')_ __"
   ],
   "metadata": {}
  },
  {
   "cell_type": "code",
   "execution_count": null,
   "source": [
    "lr = linear_model.LogisticRegression(solver='newton',\r\n",
    "                                thread_ratio=0.1, max_iter=1000, pmml_export='single-row',\r\n",
    "                                stat_inf=True, tol=0.000001, class_map0='no', class_map1='yes')"
   ],
   "outputs": [],
   "metadata": {}
  },
  {
   "cell_type": "code",
   "execution_count": null,
   "source": [
    "lr.result_ = connection_context.table(\"MYMODEL\")"
   ],
   "outputs": [],
   "metadata": {}
  },
  {
   "cell_type": "markdown",
   "source": [
    "## Load the model by model storage service"
   ],
   "metadata": {}
  },
  {
   "cell_type": "code",
   "execution_count": null,
   "source": [
    "from hana_ml.model_storage import ModelStorage\r\n",
    "\r\n",
    "#MODEL_SCHEMA='STORAGE'\r\n",
    "# model storage must use the same connection than the model\r\n",
    "model_storage = ModelStorage(connection_context=connection_context,\r\n",
    "                             #schema=MODEL_SCHEMA\r\n",
    "                            )\r\n",
    "lr = model_storage.load_model(name='Model A', version=1)"
   ],
   "outputs": [],
   "metadata": {}
  },
  {
   "cell_type": "markdown",
   "source": [
    "# Scoring\n",
    "Do the scoring on the validation and test sets"
   ],
   "metadata": {}
  },
  {
   "cell_type": "code",
   "execution_count": null,
   "source": [
    "validation_accuracy_val = lr.score(validation_set, 'ID', features, label, class_map0='no', class_map1='yes')\r\n",
    "print('Validation accuracy=%f' %(validation_accuracy_val))"
   ],
   "outputs": [],
   "metadata": {}
  },
  {
   "cell_type": "code",
   "execution_count": null,
   "source": [
    "test_accuracy_val = lr.score(test_set, 'ID', features, label)\r\n",
    "print('Test accuracy=%f' %(test_accuracy_val))"
   ],
   "outputs": [],
   "metadata": {}
  },
  {
   "cell_type": "code",
   "execution_count": null,
   "source": [
    "predict_on_train_data = lr.predict(training_set, 'ID', features)\r\n",
    "print(predict_on_train_data.head(2).collect())"
   ],
   "outputs": [],
   "metadata": {}
  },
  {
   "cell_type": "markdown",
   "source": [
    "### Define a simple predict function"
   ],
   "metadata": {}
  },
  {
   "cell_type": "code",
   "execution_count": null,
   "source": [
    "def predict(connection_context, lr, age, job, marital_status, education, dbm_default, housing, loan, contact, dbm_month, day_of_week, duration, campaign, pdays, previous, poutcome, emp_var_rate, cons_price_idx, cons_conf_idx, euribor3m, nremployed):\r\n",
    "    #sql = 'create local temporary table #t(\"ID\" INTEGER CS_INT, \\\r\n",
    "    dt = 'drop table #t'\r\n",
    "    sql = 'create local temporary table #t(\"ID\" INTEGER CS_INT,\\\r\n",
    "           \"AGE\" INTEGER CS_INT,\\\r\n",
    "           \"JOB\" VARCHAR(256),\\\r\n",
    "           \"MARITAL\" VARCHAR(100),\\\r\n",
    "           \"EDUCATION\" VARCHAR(256),\\\r\n",
    "           \"DBM_DEFAULT\" VARCHAR(100),\\\r\n",
    "           \"HOUSING\" VARCHAR(100),\\\r\n",
    "           \"LOAN\" VARCHAR(100),\\\r\n",
    "           \"CONTACT\" VARCHAR(100),\\\r\n",
    "           \"DBM_MONTH\" VARCHAR(100),\\\r\n",
    "           \"DAY_OF_WEEK\" VARCHAR(100),\\\r\n",
    "           \"DURATION\" DOUBLE CS_DOUBLE,\\\r\n",
    "           \"CAMPAIGN\" INTEGER CS_INT,\\\r\n",
    "           \"PDAYS\" INTEGER CS_INT,\\\r\n",
    "           \"PREVIOUS\" INTEGER CS_INT,\\\r\n",
    "           \"POUTCOME\" VARCHAR(100),\\\r\n",
    "           \"EMP_VAR_RATE\" DOUBLE CS_DOUBLE,\\\r\n",
    "           \"CONS_PRICE_IDX\" DOUBLE CS_DOUBLE,\\\r\n",
    "           \"CONS_CONF_IDX\" DOUBLE CS_DOUBLE,\\\r\n",
    "           \"EURIBOR3M\" DOUBLE CS_DOUBLE,\\\r\n",
    "           \"NREMPLOYED\" INTEGER CS_INT)'\r\n",
    "    insert = 'insert into #t values(?,?,?,?,?,?,?,?,?,?,?,?,?,?,?,?,?,?,?,?,?)'\r\n",
    "    with connection_context.connection.cursor() as cur:\r\n",
    "        try:\r\n",
    "            print('11111')\r\n",
    "            cur.execute(dt)\r\n",
    "        except:\r\n",
    "            print('1111')\r\n",
    "            pass\r\n",
    "        print('1211')\r\n",
    "        print(sql)\r\n",
    "        ret = cur.execute(sql)\r\n",
    "        if ret == True:\r\n",
    "            ret = cur.execute(insert, [99999, age, job, marital_status, education, dbm_default, housing, loan, contact, dbm_month, day_of_week, duration, campaign, pdays, previous, poutcome, emp_var_rate, cons_price_idx, cons_conf_idx, euribor3m, nremployed])\r\n",
    "    df = dataframe.DataFrame(connection_context, 'select * from #t')\r\n",
    "    prediction = lr.predict(df, 'ID', ['AGE','JOB','MARITAL','EDUCATION','DBM_DEFAULT', 'HOUSING','LOAN','CONTACT','DBM_MONTH','DAY_OF_WEEK','DURATION','CAMPAIGN','PDAYS','PREVIOUS','POUTCOME','EMP_VAR_RATE','CONS_PRICE_IDX','CONS_CONF_IDX','EURIBOR3M','NREMPLOYED'])\r\n",
    "    return prediction"
   ],
   "outputs": [],
   "metadata": {}
  },
  {
   "cell_type": "code",
   "execution_count": null,
   "source": [
    "p = predict(connection_context, lr, 56, \"housemaid\",\"married\",\"basic.4y\",\"no\",\"no\",\"no\",\"telephone\",\"may\",\"mon\",261,1,999,0,\"nonexistent\",1.1,93.994,-36.4,4.857,5191)"
   ],
   "outputs": [],
   "metadata": {}
  },
  {
   "cell_type": "code",
   "execution_count": null,
   "source": [
    "p.collect()"
   ],
   "outputs": [],
   "metadata": {}
  },
  {
   "cell_type": "code",
   "execution_count": null,
   "source": [
    "p2 = predict(connection_context, lr, 49,\"entrepreneur\",\"married\",\"university.degree\",\"unknown\",\"yes\",\"no\",\"telephone\",\"may\",\"mon\",1042,1,999,0,\"nonexistent\",1.1,93.994,-36.4,4.857,5191)"
   ],
   "outputs": [],
   "metadata": {}
  },
  {
   "cell_type": "code",
   "execution_count": null,
   "source": [
    "p2.collect()"
   ],
   "outputs": [],
   "metadata": {}
  },
  {
   "cell_type": "code",
   "execution_count": null,
   "source": [
    "predict_on_train_data.filter(\"CLASS='yes'\").head(5).collect()"
   ],
   "outputs": [],
   "metadata": {}
  },
  {
   "cell_type": "code",
   "execution_count": null,
   "source": [
    "p3 = predict(connection_context, lr, 32,\"admin.\",\"married\",\"university.degree\",\"no\",\"yes\",\"no\",\"cellular\",\"aug\",\"fri\",1366,1,999,0,\"nonexistent\",1.4,93.444,-36.1,4.964,5228.1)"
   ],
   "outputs": [],
   "metadata": {}
  },
  {
   "cell_type": "code",
   "execution_count": null,
   "source": [
    "p3.collect()"
   ],
   "outputs": [],
   "metadata": {}
  },
  {
   "cell_type": "code",
   "execution_count": null,
   "source": [],
   "outputs": [],
   "metadata": {
    "collapsed": true,
    "jupyter": {
     "outputs_hidden": true
    }
   }
  }
 ],
 "metadata": {
  "kernelspec": {
   "name": "python3",
   "display_name": "Python 3.9.1 64-bit ('base': conda)"
  },
  "language_info": {
   "codemirror_mode": {
    "name": "ipython",
    "version": 3
   },
   "file_extension": ".py",
   "mimetype": "text/x-python",
   "name": "python",
   "nbconvert_exporter": "python",
   "pygments_lexer": "ipython3",
   "version": "3.9.1"
  },
  "interpreter": {
   "hash": "9e8e26eb492012ce43ec3ea98c3fc2503d5495ecd40107dd94395e1e0d860e85"
  }
 },
 "nbformat": 4,
 "nbformat_minor": 4
}
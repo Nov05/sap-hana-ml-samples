{
 "cells": [
  {
   "cell_type": "markdown",
   "metadata": {},
   "source": [
    "# Bank Marketing Data Set\n",
    "\n",
    "## Load a saved model and predict\n",
    "\n",
    "The data is related with direct marketing campaigns of a Portuguese banking institution.  The marketing campaigns were based on phone calls.  A number of features such as age, kind of job, marital status, education level, credit default, existence of housing loan, etc. were considered.  The classification goal is to predict if the client will subscribe (yes/no) a term deposit.\n",
    "\n",
    "More information regarding the data set is at https://archive.ics.uci.edu/ml/datasets/bank+marketing#.  For tutorials use only.\n",
    "\n",
    "<font color=blue>__ _The objective is to show the need for storing a model.  A rudimentary hack to load the model is implemented._ __</font>\n",
    "\n",
    "## Attribute Information:\n",
    "\n",
    "### Input variables:\n",
    "#### Bank client data:\n",
    "1. age (numeric)\n",
    "2. job : type of job (categorical: 'admin.','blue-collar','entrepreneur','housemaid','management','retired','self-employed','services','student','technician','unemployed','unknown')\n",
    "3. marital : marital status (categorical: 'divorced','married','single','unknown'; note: 'divorced' means divorced or widowed)\n",
    "4. education (categorical: 'basic.4y','basic.6y','basic.9y','high.school','illiterate','professional.course','university.degree','unknown')\n",
    "5. default: has credit in default? (categorical: 'no','yes','unknown')\n",
    "6. housing: has housing loan? (categorical: 'no','yes','unknown')\n",
    "7. loan: has personal loan? (categorical: 'no','yes','unknown')\n",
    "\n",
    "#### Related with the last contact of the current campaign:\n",
    "8. contact: contact communication type (categorical: 'cellular','telephone') \n",
    "9. month: last contact month of year (categorical: 'jan', 'feb', 'mar', ..., 'nov', 'dec')\n",
    "10. day_of_week: last contact day of the week (categorical: 'mon','tue','wed','thu','fri')\n",
    "11. duration: last contact duration, in seconds (numeric). Important note: this attribute highly affects the output target (e.g., if duration=0 then y='no'). Yet, the duration is not known before a call is performed. Also, after the end of the call y is obviously known. Thus, this input should only be included for benchmark purposes and should be discarded if the intention is to have a realistic predictive model.\n",
    "\n",
    "#### Other attributes:\n",
    "12. campaign: number of contacts performed during this campaign and for this client (numeric, includes last contact)\n",
    "13. pdays: number of days that passed by after the client was last contacted from a previous campaign (numeric; 999 means client was not previously contacted)\n",
    "14. previous: number of contacts performed before this campaign and for this client (numeric)\n",
    "15. poutcome: outcome of the previous marketing campaign (categorical: 'failure','nonexistent','success')\n",
    "\n",
    "#### Social and economic context attributes:\n",
    "16. emp.var.rate: employment variation rate - quarterly indicator (numeric)\n",
    "17. cons.price.idx: consumer price index - monthly indicator (numeric) \n",
    "18. cons.conf.idx: consumer confidence index - monthly indicator (numeric) \n",
    "19. euribor3m: euribor 3 month rate - daily indicator (numeric)\n",
    "20. nr.employed: number of employees - quarterly indicator (numeric)\n",
    "\n",
    "### Output variable (desired target):\n",
    "21. y - has the client subscribed a term deposit? (binary: 'yes','no')\n",
    "\n",
    "## Import packages"
   ]
  },
  {
   "cell_type": "code",
   "execution_count": 1,
   "metadata": {},
   "outputs": [],
   "source": [
    "from hana_ml import dataframe\n",
    "from hana_ml.algorithms.pal import linear_model\n",
    "from hana_ml.algorithms.pal import clustering\n",
    "from hdbcli import dbapi\n",
    "import numpy as np\n",
    "import matplotlib.pyplot as plt\n",
    "import logging"
   ]
  },
  {
   "cell_type": "markdown",
   "metadata": {},
   "source": [
    "## Setup logging"
   ]
  },
  {
   "cell_type": "code",
   "execution_count": 2,
   "metadata": {},
   "outputs": [],
   "source": [
    "logging.basicConfig()\n",
    "logger = logging.getLogger('hana_ml.ml_base')\n",
    "logger.setLevel(logging.ERROR)\n",
    "logger.addHandler(logging.NullHandler())"
   ]
  },
  {
   "cell_type": "markdown",
   "metadata": {},
   "source": [
    "## Setup connection and data sets\n",
    "The data is loaded into 4 tables - full set, test set, training set, and the validation set:\n",
    "<li>DBM2_RFULL_TBL</li>\n",
    "<li>DBM2_RTEST_TBL</li>\n",
    "<li>DBM2_RTRAINING_TBL</li>\n",
    "<li>DBM2_RVALIDATION_TBL</li>\n",
    "\n",
    "To do that, a connection is created and passed to the loader.\n",
    "\n",
    "There is a config file, <b>config/e2edata.ini</b> that controls the connection parameters and whether or not to reload the data from scratch.  In case the data is already loaded, there would be no need to load the data.  A sample section is below.  If the config parameter, reload_data is true then the tables for test, training, and validation are (re-)created and data inserted into them.\n",
    "\n",
    "#########################<br>\n",
    "[hana]<br>\n",
    "url=host.sjc.sap.corp<br>\n",
    "user=username<br>\n",
    "passwd=userpassword<br>\n",
    "port=3xx15<br>\n",
    "<br>\n",
    "\n",
    "#########################<br>"
   ]
  },
  {
   "cell_type": "code",
   "execution_count": 3,
   "metadata": {},
   "outputs": [
    {
     "name": "stdout",
     "output_type": "stream",
     "text": [
      "Table DBM2_RFULL_TBL exists and data exists\n"
     ]
    }
   ],
   "source": [
    "from data_load_utils import DataSets, Settings\n",
    "url, port, user, pwd = Settings.load_config(\"../../config/e2edata.ini\")\n",
    "connection_context = dataframe.ConnectionContext(url, port, user, pwd)\n",
    "full_tbl, training_tbl, validation_tbl, test_tbl = DataSets.load_bank_data(connection_context)\n",
    "training_set = connection_context.table(training_tbl)\n",
    "validation_set = connection_context.table(validation_tbl)\n",
    "test_set = connection_context.table(test_tbl)\n",
    "features = ['AGE','JOB','MARITAL','EDUCATION','DBM_DEFAULT', 'HOUSING','LOAN','CONTACT','DBM_MONTH','DAY_OF_WEEK','DURATION','CAMPAIGN','PDAYS','PREVIOUS','POUTCOME','EMP_VAR_RATE','CONS_PRICE_IDX','CONS_CONF_IDX','EURIBOR3M','NREMPLOYED']\n",
    "label = \"LABEL\""
   ]
  },
  {
   "cell_type": "markdown",
   "metadata": {},
   "source": [
    "# Load the model\n",
    "__ _lr = model_persistence.load(connection_context, 'nk_lr', 'DEVUSER')_ __"
   ]
  },
  {
   "cell_type": "code",
   "execution_count": 4,
   "metadata": {},
   "outputs": [],
   "source": [
    "lr = linear_model.LogisticRegression(solver='newton',\n",
    "                                thread_ratio=0.1, max_iter=1000, pmml_export='single-row',\n",
    "                                stat_inf=True, tol=0.000001, class_map0='no', class_map1='yes')"
   ]
  },
  {
   "cell_type": "code",
   "execution_count": 5,
   "metadata": {},
   "outputs": [],
   "source": [
    "lr.result_ = connection_context.table(\"MYMODEL\")"
   ]
  },
  {
   "cell_type": "markdown",
   "metadata": {},
   "source": [
    "## Load the model by model storage service"
   ]
  },
  {
   "cell_type": "code",
   "execution_count": 6,
   "metadata": {},
   "outputs": [],
   "source": [
    "from hana_ml.model_storage import ModelStorage\n",
    "\n",
    "#MODEL_SCHEMA='STORAGE'\n",
    "# model storage must use the same connection than the model\n",
    "model_storage = ModelStorage(connection_context=connection_context,\n",
    "                             #schema=MODEL_SCHEMA\n",
    "                            )\n",
    "lr = model_storage.load_model(name='Model A', version=1)"
   ]
  },
  {
   "cell_type": "markdown",
   "metadata": {},
   "source": [
    "# Scoring\n",
    "Do the scoring on the validation and test sets"
   ]
  },
  {
   "cell_type": "code",
   "execution_count": 7,
   "metadata": {},
   "outputs": [
    {
     "name": "stdout",
     "output_type": "stream",
     "text": [
      "Validation accuracy=0.911077\n"
     ]
    }
   ],
   "source": [
    "validation_accuracy_val = lr.score(validation_set, 'ID', features, label, class_map0='no', class_map1='yes')\n",
    "print('Validation accuracy=%f' %(validation_accuracy_val))"
   ]
  },
  {
   "cell_type": "code",
   "execution_count": 8,
   "metadata": {},
   "outputs": [
    {
     "name": "stdout",
     "output_type": "stream",
     "text": [
      "Test accuracy=0.918912\n"
     ]
    }
   ],
   "source": [
    "test_accuracy_val = lr.score(test_set, 'ID', features, label)\n",
    "print('Test accuracy=%f' %(test_accuracy_val))"
   ]
  },
  {
   "cell_type": "code",
   "execution_count": 9,
   "metadata": {},
   "outputs": [
    {
     "name": "stdout",
     "output_type": "stream",
     "text": [
      "     ID CLASS  PROBABILITY\n",
      "0  8746    no     0.032104\n",
      "1  8041    no     0.025851\n"
     ]
    }
   ],
   "source": [
    "predict_on_train_data = lr.predict(training_set, 'ID', features)\n",
    "print(predict_on_train_data.head(2).collect())"
   ]
  },
  {
   "cell_type": "markdown",
   "metadata": {},
   "source": [
    "### Define a simple predict function"
   ]
  },
  {
   "cell_type": "code",
   "execution_count": 19,
   "metadata": {},
   "outputs": [],
   "source": [
    "def predict(connection_context, lr, age, job, marital_status, education, dbm_default, housing, loan, contact, dbm_month, day_of_week, duration, campaign, pdays, previous, poutcome, emp_var_rate, cons_price_idx, cons_conf_idx, euribor3m, nremployed):\n",
    "    #sql = 'create local temporary table #t(\"ID\" INTEGER CS_INT, \\\n",
    "    dt = 'drop table #t'\n",
    "    sql = 'create local temporary table #t(\"ID\" INTEGER CS_INT,\\\n",
    "           \"AGE\" INTEGER CS_INT,\\\n",
    "           \"JOB\" VARCHAR(256),\\\n",
    "           \"MARITAL\" VARCHAR(100),\\\n",
    "           \"EDUCATION\" VARCHAR(256),\\\n",
    "           \"DBM_DEFAULT\" VARCHAR(100),\\\n",
    "           \"HOUSING\" VARCHAR(100),\\\n",
    "           \"LOAN\" VARCHAR(100),\\\n",
    "           \"CONTACT\" VARCHAR(100),\\\n",
    "           \"DBM_MONTH\" VARCHAR(100),\\\n",
    "           \"DAY_OF_WEEK\" VARCHAR(100),\\\n",
    "           \"DURATION\" DOUBLE CS_DOUBLE,\\\n",
    "           \"CAMPAIGN\" INTEGER CS_INT,\\\n",
    "           \"PDAYS\" INTEGER CS_INT,\\\n",
    "           \"PREVIOUS\" INTEGER CS_INT,\\\n",
    "           \"POUTCOME\" VARCHAR(100),\\\n",
    "           \"EMP_VAR_RATE\" DOUBLE CS_DOUBLE,\\\n",
    "           \"CONS_PRICE_IDX\" DOUBLE CS_DOUBLE,\\\n",
    "           \"CONS_CONF_IDX\" DOUBLE CS_DOUBLE,\\\n",
    "           \"EURIBOR3M\" DOUBLE CS_DOUBLE,\\\n",
    "           \"NREMPLOYED\" INTEGER CS_INT)'\n",
    "    insert = 'insert into #t values(?,?,?,?,?,?,?,?,?,?,?,?,?,?,?,?,?,?,?,?,?)'\n",
    "    with connection_context.connection.cursor() as cur:\n",
    "        try:\n",
    "            print('11111')\n",
    "            cur.execute(dt)\n",
    "        except:\n",
    "            print('1111')\n",
    "            pass\n",
    "        print('1211')\n",
    "        print(sql)\n",
    "        ret = cur.execute(sql)\n",
    "        if ret == True:\n",
    "            ret = cur.execute(insert, [99999, age, job, marital_status, education, dbm_default, housing, loan, contact, dbm_month, day_of_week, duration, campaign, pdays, previous, poutcome, emp_var_rate, cons_price_idx, cons_conf_idx, euribor3m, nremployed])\n",
    "    df = dataframe.DataFrame(connection_context, 'select * from #t')\n",
    "    prediction = lr.predict(df, 'ID', ['AGE','JOB','MARITAL','EDUCATION','DBM_DEFAULT', 'HOUSING','LOAN','CONTACT','DBM_MONTH','DAY_OF_WEEK','DURATION','CAMPAIGN','PDAYS','PREVIOUS','POUTCOME','EMP_VAR_RATE','CONS_PRICE_IDX','CONS_CONF_IDX','EURIBOR3M','NREMPLOYED'])\n",
    "    return prediction"
   ]
  },
  {
   "cell_type": "code",
   "execution_count": 20,
   "metadata": {},
   "outputs": [
    {
     "name": "stdout",
     "output_type": "stream",
     "text": [
      "11111\n",
      "1111\n",
      "1211\n",
      "create local temporary table #t(\"ID\" INTEGER CS_INT,           \"AGE\" INTEGER CS_INT,           \"JOB\" VARCHAR(256),           \"MARITAL\" VARCHAR(100),           \"EDUCATION\" VARCHAR(256),           \"DBM_DEFAULT\" VARCHAR(100),           \"HOUSING\" VARCHAR(100),           \"LOAN\" VARCHAR(100),           \"CONTACT\" VARCHAR(100),           \"DBM_MONTH\" VARCHAR(100),           \"DAY_OF_WEEK\" VARCHAR(100),           \"DURATION\" DOUBLE CS_DOUBLE,           \"CAMPAIGN\" INTEGER CS_INT,           \"PDAYS\" INTEGER CS_INT,           \"PREVIOUS\" INTEGER CS_INT,           \"POUTCOME\" VARCHAR(100),           \"EMP_VAR_RATE\" DOUBLE CS_DOUBLE,           \"CONS_PRICE_IDX\" DOUBLE CS_DOUBLE,           \"CONS_CONF_IDX\" DOUBLE CS_DOUBLE,           \"EURIBOR3M\" DOUBLE CS_DOUBLE,           \"NREMPLOYED\" INTEGER CS_INT)\n"
     ]
    },
    {
     "ename": "ProgrammingError",
     "evalue": "(257, 'sql syntax error: incorrect syntax near: line 1 col 46 (at pos 46)')",
     "output_type": "error",
     "traceback": [
      "\u001b[1;31m---------------------------------------------------------------------------\u001b[0m",
      "\u001b[1;31mProgrammingError\u001b[0m                          Traceback (most recent call last)",
      "\u001b[1;32m~\\AppData\\Local\\Temp/ipykernel_11092/344224652.py\u001b[0m in \u001b[0;36m<module>\u001b[1;34m\u001b[0m\n\u001b[1;32m----> 1\u001b[1;33m \u001b[0mp\u001b[0m \u001b[1;33m=\u001b[0m \u001b[0mpredict\u001b[0m\u001b[1;33m(\u001b[0m\u001b[0mconnection_context\u001b[0m\u001b[1;33m,\u001b[0m \u001b[0mlr\u001b[0m\u001b[1;33m,\u001b[0m \u001b[1;36m56\u001b[0m\u001b[1;33m,\u001b[0m \u001b[1;34m\"housemaid\"\u001b[0m\u001b[1;33m,\u001b[0m\u001b[1;34m\"married\"\u001b[0m\u001b[1;33m,\u001b[0m\u001b[1;34m\"basic.4y\"\u001b[0m\u001b[1;33m,\u001b[0m\u001b[1;34m\"no\"\u001b[0m\u001b[1;33m,\u001b[0m\u001b[1;34m\"no\"\u001b[0m\u001b[1;33m,\u001b[0m\u001b[1;34m\"no\"\u001b[0m\u001b[1;33m,\u001b[0m\u001b[1;34m\"telephone\"\u001b[0m\u001b[1;33m,\u001b[0m\u001b[1;34m\"may\"\u001b[0m\u001b[1;33m,\u001b[0m\u001b[1;34m\"mon\"\u001b[0m\u001b[1;33m,\u001b[0m\u001b[1;36m261\u001b[0m\u001b[1;33m,\u001b[0m\u001b[1;36m1\u001b[0m\u001b[1;33m,\u001b[0m\u001b[1;36m999\u001b[0m\u001b[1;33m,\u001b[0m\u001b[1;36m0\u001b[0m\u001b[1;33m,\u001b[0m\u001b[1;34m\"nonexistent\"\u001b[0m\u001b[1;33m,\u001b[0m\u001b[1;36m1.1\u001b[0m\u001b[1;33m,\u001b[0m\u001b[1;36m93.994\u001b[0m\u001b[1;33m,\u001b[0m\u001b[1;33m-\u001b[0m\u001b[1;36m36.4\u001b[0m\u001b[1;33m,\u001b[0m\u001b[1;36m4.857\u001b[0m\u001b[1;33m,\u001b[0m\u001b[1;36m5191\u001b[0m\u001b[1;33m)\u001b[0m\u001b[1;33m\u001b[0m\u001b[1;33m\u001b[0m\u001b[0m\n\u001b[0m",
      "\u001b[1;32m~\\AppData\\Local\\Temp/ipykernel_11092/2960785717.py\u001b[0m in \u001b[0;36mpredict\u001b[1;34m(connection_context, lr, age, job, marital_status, education, dbm_default, housing, loan, contact, dbm_month, day_of_week, duration, campaign, pdays, previous, poutcome, emp_var_rate, cons_price_idx, cons_conf_idx, euribor3m, nremployed)\u001b[0m\n\u001b[0;32m     33\u001b[0m         \u001b[0mprint\u001b[0m\u001b[1;33m(\u001b[0m\u001b[1;34m'1211'\u001b[0m\u001b[1;33m)\u001b[0m\u001b[1;33m\u001b[0m\u001b[1;33m\u001b[0m\u001b[0m\n\u001b[0;32m     34\u001b[0m         \u001b[0mprint\u001b[0m\u001b[1;33m(\u001b[0m\u001b[0msql\u001b[0m\u001b[1;33m)\u001b[0m\u001b[1;33m\u001b[0m\u001b[1;33m\u001b[0m\u001b[0m\n\u001b[1;32m---> 35\u001b[1;33m         \u001b[0mret\u001b[0m \u001b[1;33m=\u001b[0m \u001b[0mcur\u001b[0m\u001b[1;33m.\u001b[0m\u001b[0mexecute\u001b[0m\u001b[1;33m(\u001b[0m\u001b[0msql\u001b[0m\u001b[1;33m)\u001b[0m\u001b[1;33m\u001b[0m\u001b[1;33m\u001b[0m\u001b[0m\n\u001b[0m\u001b[0;32m     36\u001b[0m         \u001b[1;32mif\u001b[0m \u001b[0mret\u001b[0m \u001b[1;33m==\u001b[0m \u001b[1;32mTrue\u001b[0m\u001b[1;33m:\u001b[0m\u001b[1;33m\u001b[0m\u001b[1;33m\u001b[0m\u001b[0m\n\u001b[0;32m     37\u001b[0m             \u001b[0mret\u001b[0m \u001b[1;33m=\u001b[0m \u001b[0mcur\u001b[0m\u001b[1;33m.\u001b[0m\u001b[0mexecute\u001b[0m\u001b[1;33m(\u001b[0m\u001b[0minsert\u001b[0m\u001b[1;33m,\u001b[0m \u001b[1;33m[\u001b[0m\u001b[1;36m99999\u001b[0m\u001b[1;33m,\u001b[0m \u001b[0mage\u001b[0m\u001b[1;33m,\u001b[0m \u001b[0mjob\u001b[0m\u001b[1;33m,\u001b[0m \u001b[0mmarital_status\u001b[0m\u001b[1;33m,\u001b[0m \u001b[0meducation\u001b[0m\u001b[1;33m,\u001b[0m \u001b[0mdbm_default\u001b[0m\u001b[1;33m,\u001b[0m \u001b[0mhousing\u001b[0m\u001b[1;33m,\u001b[0m \u001b[0mloan\u001b[0m\u001b[1;33m,\u001b[0m \u001b[0mcontact\u001b[0m\u001b[1;33m,\u001b[0m \u001b[0mdbm_month\u001b[0m\u001b[1;33m,\u001b[0m \u001b[0mday_of_week\u001b[0m\u001b[1;33m,\u001b[0m \u001b[0mduration\u001b[0m\u001b[1;33m,\u001b[0m \u001b[0mcampaign\u001b[0m\u001b[1;33m,\u001b[0m \u001b[0mpdays\u001b[0m\u001b[1;33m,\u001b[0m \u001b[0mprevious\u001b[0m\u001b[1;33m,\u001b[0m \u001b[0mpoutcome\u001b[0m\u001b[1;33m,\u001b[0m \u001b[0memp_var_rate\u001b[0m\u001b[1;33m,\u001b[0m \u001b[0mcons_price_idx\u001b[0m\u001b[1;33m,\u001b[0m \u001b[0mcons_conf_idx\u001b[0m\u001b[1;33m,\u001b[0m \u001b[0meuribor3m\u001b[0m\u001b[1;33m,\u001b[0m \u001b[0mnremployed\u001b[0m\u001b[1;33m]\u001b[0m\u001b[1;33m)\u001b[0m\u001b[1;33m\u001b[0m\u001b[1;33m\u001b[0m\u001b[0m\n",
      "\u001b[1;31mProgrammingError\u001b[0m: (257, 'sql syntax error: incorrect syntax near: line 1 col 46 (at pos 46)')"
     ]
    }
   ],
   "source": [
    "p = predict(connection_context, lr, 56, \"housemaid\",\"married\",\"basic.4y\",\"no\",\"no\",\"no\",\"telephone\",\"may\",\"mon\",261,1,999,0,\"nonexistent\",1.1,93.994,-36.4,4.857,5191)"
   ]
  },
  {
   "cell_type": "code",
   "execution_count": 12,
   "metadata": {},
   "outputs": [
    {
     "ename": "NameError",
     "evalue": "name 'p' is not defined",
     "output_type": "error",
     "traceback": [
      "\u001b[1;31m---------------------------------------------------------------------------\u001b[0m",
      "\u001b[1;31mNameError\u001b[0m                                 Traceback (most recent call last)",
      "\u001b[1;32m~\\AppData\\Local\\Temp/ipykernel_11092/2175009145.py\u001b[0m in \u001b[0;36m<module>\u001b[1;34m\u001b[0m\n\u001b[1;32m----> 1\u001b[1;33m \u001b[0mp\u001b[0m\u001b[1;33m.\u001b[0m\u001b[0mcollect\u001b[0m\u001b[1;33m(\u001b[0m\u001b[1;33m)\u001b[0m\u001b[1;33m\u001b[0m\u001b[1;33m\u001b[0m\u001b[0m\n\u001b[0m",
      "\u001b[1;31mNameError\u001b[0m: name 'p' is not defined"
     ]
    }
   ],
   "source": [
    "p.collect()"
   ]
  },
  {
   "cell_type": "code",
   "execution_count": null,
   "metadata": {},
   "outputs": [],
   "source": [
    "p2 = predict(connection_context, lr, 49,\"entrepreneur\",\"married\",\"university.degree\",\"unknown\",\"yes\",\"no\",\"telephone\",\"may\",\"mon\",1042,1,999,0,\"nonexistent\",1.1,93.994,-36.4,4.857,5191)"
   ]
  },
  {
   "cell_type": "code",
   "execution_count": null,
   "metadata": {},
   "outputs": [],
   "source": [
    "p2.collect()"
   ]
  },
  {
   "cell_type": "code",
   "execution_count": null,
   "metadata": {},
   "outputs": [],
   "source": [
    "predict_on_train_data.filter(\"CLASS='yes'\").head(5).collect()"
   ]
  },
  {
   "cell_type": "code",
   "execution_count": null,
   "metadata": {},
   "outputs": [],
   "source": [
    "p3 = predict(connection_context, lr, 32,\"admin.\",\"married\",\"university.degree\",\"no\",\"yes\",\"no\",\"cellular\",\"aug\",\"fri\",1366,1,999,0,\"nonexistent\",1.4,93.444,-36.1,4.964,5228.1)"
   ]
  },
  {
   "cell_type": "code",
   "execution_count": null,
   "metadata": {},
   "outputs": [],
   "source": [
    "p3.collect()"
   ]
  },
  {
   "cell_type": "code",
   "execution_count": null,
   "metadata": {
    "collapsed": true,
    "jupyter": {
     "outputs_hidden": true
    }
   },
   "outputs": [],
   "source": []
  }
 ],
 "metadata": {
  "kernelspec": {
   "display_name": "Python 3 (ipykernel)",
   "language": "python",
   "name": "python3"
  },
  "language_info": {
   "codemirror_mode": {
    "name": "ipython",
    "version": 3
   },
   "file_extension": ".py",
   "mimetype": "text/x-python",
   "name": "python",
   "nbconvert_exporter": "python",
   "pygments_lexer": "ipython3",
   "version": "3.9.5"
  }
 },
 "nbformat": 4,
 "nbformat_minor": 4
}

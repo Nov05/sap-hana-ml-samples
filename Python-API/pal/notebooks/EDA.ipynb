{
 "cells": [
  {
   "cell_type": "markdown",
   "source": [
    "# Exploratory Data Analysis\n",
    "\n",
    "**Arun Godwin Patel**\n",
    "\n",
    "Exploratory Data Analysis (EDA) is an essential tool in the Data Science toolbox. It is the process of understanding your dataset using statistical techniques and visualizations. The insight that you gain from EDA can help you to uncover issues, dra\n",
    "\n",
    "## Titanic Dataset\n",
    "This dataset is from https://github.com/awesomedata/awesome-public-datasets/tree/master/Datasets"
   ],
   "metadata": {}
  },
  {
   "cell_type": "code",
   "execution_count": null,
   "source": [
    "from hana_ml import dataframe\r\n",
    "from hana_ml.algorithms.pal import trees\r\n",
    "from hana_ml.visualizers.eda import EDAVisualizer as eda\r\n",
    "import pandas as pd\r\n",
    "import matplotlib.pyplot as plt\r\n",
    "import time\r\n",
    "from hana_ml.visualizers.eda import EDAVisualizer, hist, kdeplot"
   ],
   "outputs": [],
   "metadata": {}
  },
  {
   "cell_type": "code",
   "execution_count": null,
   "source": [
    "from hana_ml.algorithms.pal.utility import DataSets, Settings\r\n",
    "url, port, user, pwd = Settings.load_config(\"../../config/e2edata.ini\")\r\n",
    "connection_context = dataframe.ConnectionContext(url, port, user, pwd)\r\n",
    "full_set, training_set, validation_set, test_set = DataSets.load_titanic_data(connection_context, force=False, chunk_size=50000)"
   ],
   "outputs": [],
   "metadata": {}
  },
  {
   "cell_type": "code",
   "execution_count": null,
   "source": [
    "# Create the HANA Dataframe (df_train) and point to the training table.\r\n",
    "data = full_set\r\n",
    "data.head(5).collect()"
   ],
   "outputs": [],
   "metadata": {}
  },
  {
   "cell_type": "markdown",
   "source": [
    "In our dataset we have 12 columns:\n",
    "- **PassengerId** - Unique ID assigned to each passenger.\n",
    "- **Pclass** - Class of ticket purchased (1 = 1st class, 2 = 2nd class, 3 = 3rd class).\n",
    "- **Name** - Full name and title of the passenger.\n",
    "- **Sex** - Gender of the passenger.\n",
    "- **Age** - The Age of the passenger in years.\n",
    "- **SibSp** - Number of siblings and spouses associated with the passenger aboard.\n",
    "- **Parch** - Number of parents and children associated with the passenger aboard.\n",
    "- **Ticket** - Ticket number.\n",
    "- **Fare** - The fare of the ticket purchased by the passenger.\n",
    "- **Cabin** - The Cabin number that the passenger was assigned to. If NaN, this means they had no cabin and perhaps were not assigned one due to the cost of their ticket.\n",
    "- **Embarked** - Port of embarkation (S = Southampton, C = Cherbourg, Q = Queenstown).\n",
    "- **Survived** - Survival flag of passenger."
   ],
   "metadata": {}
  },
  {
   "cell_type": "code",
   "execution_count": null,
   "source": [
    "data.describe().collect()"
   ],
   "outputs": [],
   "metadata": {}
  },
  {
   "cell_type": "markdown",
   "source": [
    "This description is useful to first understand some basic statistics over a dataset. We are presented with:\n",
    "- **Column**: Name of the column\n",
    "- **Count**: Count of rows for this column\n",
    "- **Unique**: Distinct count of this column\n",
    "- **Nulls**: Total rows with null values for this column\n",
    "- **Mean**: Sum of the column divided by the count\n",
    "- **Std**: Standard deviation, a quantity expressing by how much the members of a group differ from the mean value for the group\n",
    "- **Min**: Minimum value of the column\n",
    "- **Max**: Maximum value of the column\n",
    "- **Median**: The 50th percentile value (percentiles explained below)\n",
    "- **25, 50 & 75 percentiles**: A percentile is the value that represents a division of the ordered dataset by a certain %. For example, the 10th percentile is the value that when the dataset is ordered, splits the bottom 10% from the remaining 90%. e.g. you have numbers:\n",
    "\n",
    "### 1, 2, 3, 4, 5, 6, 7, 8, 9, 10, 11, 12, 13, 14, 15, 16, 17, 18, 19, 20\n",
    "\n",
    "**What is the 10th percentile? The dataset is already ordered, now we must simply split the data after 10% of the values.**\n",
    "\n",
    "### 1 2   |   3 4 5 6 7 8 9 10 11 12 13 14 15 16 17 18 19 20\n",
    "\n",
    "Hence, it equals 2.\n",
    "\n",
    "Percentiles are useful to understand the lower (25%), middle (50% AKA median) and upper (75%) quartiles. This is useful when calculating the inter-quartile range, which is a way of understanding the spread (dispersion) of values within data. It is calculated by the difference between the upper and lower quartile. The IQR also gives you an indication of the spread of the middle 50% of values within your column."
   ],
   "metadata": {}
  },
  {
   "cell_type": "markdown",
   "source": [
    "### Distribution plot\n",
    "\n",
    "- Displaying the distribution shows us how the values of a column are spread in regards to frequency.\n",
    "- By looking at the x axis bins, we can see the range of values that occured for the column.\n",
    "- Looking at a distribution can give you an indication on how skewed your column is from the normal distribution. This is important to know because highly positive or negatively skewed data can cause a predictive model to overfit to extreme values.\n",
    "- Extreme values are large values that could be considered as outliers, and may skew results of a Machine Learning model."
   ],
   "metadata": {}
  },
  {
   "cell_type": "code",
   "execution_count": null,
   "source": [
    "f = plt.figure(figsize=(35, 10))\r\n",
    "\r\n",
    "ax1 = f.add_subplot(111)\r\n",
    "eda = EDAVisualizer(ax1)\r\n",
    "ax1, dist_data = eda.distribution_plot(data=data, column=\"FARE\", bins=100, title=\"Distribution of FARE\")\r\n",
    "\r\n",
    "plt.show()"
   ],
   "outputs": [],
   "metadata": {}
  },
  {
   "cell_type": "markdown",
   "source": [
    "### Distribution plot for AGE between survivors and non-survivors\n",
    "\n",
    "- The distributions of age for survivors and non-survivors follow a very similar distribution. \n",
    "- This tells us that the column 'AGE' may not be a highly significant factor in predicting survival, because it follows a very similar pattern for survivors/non-survivors."
   ],
   "metadata": {}
  },
  {
   "cell_type": "code",
   "execution_count": null,
   "source": [
    "f = plt.figure(figsize=(18, 6))\r\n",
    "\r\n",
    "ax1 = f.add_subplot(121)\r\n",
    "eda = EDAVisualizer(ax1)\r\n",
    "ax1, dist_data = eda.distribution_plot(data=data.filter(\"SURVIVED = 0\"), column=\"AGE\", bins=20, title=\"Distribution of AGE for non-survivors\")\r\n",
    "\r\n",
    "ax1 = f.add_subplot(122)\r\n",
    "eda = EDAVisualizer(ax1)\r\n",
    "ax1, dist_data = eda.distribution_plot(data=data.filter(\"SURVIVED = 1\"), column=\"AGE\", bins=20, title=\"Distribution of AGE for survivors\")\r\n",
    "\r\n",
    "plt.show()"
   ],
   "outputs": [],
   "metadata": {}
  },
  {
   "cell_type": "code",
   "execution_count": null,
   "source": [
    "f = plt.figure(figsize=(19, 10))\r\n",
    "\r\n",
    "ax = kdeplot(data, key=\"PASSENGER_ID\", features=[\"AGE\"])\r\n",
    "ax.grid()\r\n",
    "plt.show()"
   ],
   "outputs": [],
   "metadata": {}
  },
  {
   "cell_type": "code",
   "execution_count": null,
   "source": [
    "f = plt.figure(figsize=(19, 10))\r\n",
    "\r\n",
    "ax, surf = kdeplot(data, key=\"PASSENGER_ID\", features=[\"AGE\", \"FARE\"])\r\n",
    "ax.grid()\r\n",
    "plt.show()"
   ],
   "outputs": [],
   "metadata": {}
  },
  {
   "cell_type": "markdown",
   "source": [
    "### Pie plot\n",
    "\n",
    "- A pie plot shows us the distribution of values between categories as a percentage.\n",
    "- These are particulalrly useful for categorical columns.\n",
    "- Each coloured portion of the pie plot is labelled to represent a different value within the column.\n",
    "- The size of the coloured portion is proportional to the percentage of occurences this value takes."
   ],
   "metadata": {}
  },
  {
   "cell_type": "code",
   "execution_count": null,
   "source": [
    "f = plt.figure(figsize=(8, 8))\r\n",
    "\r\n",
    "ax1 = f.add_subplot(111)\r\n",
    "eda = EDAVisualizer(ax1)\r\n",
    "ax1, pie_data = eda.pie_plot(data, column=\"PCLASS\", title=\"% of passengers in each cabin\")\r\n",
    "\r\n",
    "plt.show()"
   ],
   "outputs": [],
   "metadata": {}
  },
  {
   "cell_type": "markdown",
   "source": [
    "### Pie plot for PCLASS distribution between survivors and non-survivors\n",
    "\n",
    "- We can see that the percentage of survivors and non-survivors varied quite largely between cabins, for example the percentage of non-survivors in the 1st class cabin was 14.4% but the percentage of survivors that were in 1st class was 44.4%.\n",
    "- It shows us that the largest majority of non-survivors came from 3rd class, and the largest majority of survivors came from 1st class."
   ],
   "metadata": {}
  },
  {
   "cell_type": "code",
   "execution_count": null,
   "source": [
    "f = plt.figure(figsize=(15, 8))\r\n",
    "\r\n",
    "ax1 = f.add_subplot(121)\r\n",
    "eda = EDAVisualizer(ax1)\r\n",
    "ax1, pie_data = eda.pie_plot(data=data.filter(\"SURVIVED = 0\"), column=\"PCLASS\", title=\"% of non-survivors in each cabin\")\r\n",
    "ax1.legend(loc='best') # User has control over axis aesthetics\r\n",
    "\r\n",
    "ax1 = f.add_subplot(122)\r\n",
    "eda = EDAVisualizer(ax1)\r\n",
    "ax1, pie_data = eda.pie_plot(data=data.filter(\"SURVIVED = 1\"), column=\"PCLASS\", title=\"% of survivors in each cabin\")\r\n",
    "ax1.legend(loc='best') # User has control over axis aesthetics\r\n",
    "\r\n",
    "plt.show()"
   ],
   "outputs": [],
   "metadata": {}
  },
  {
   "cell_type": "markdown",
   "source": [
    "### Correlation plot\n",
    "\n",
    "- A nice way to understand the linear relationship between multiple variables is by using a correlation matrix.\n",
    "- The values shown in the matrix range from -1 to 1 and are calculations of Pearson's correlation coefficient (r). The 'r' value tells us the extent to which the variance of 2 columns follow a linear relationship. For example:\n",
    "    - If r = -1 for FARE and AGE, this tells me that as FARE increases, AGE proportionally decreases.\n",
    "    - If r = 1 for FARE and AGE, this tells me that as FARE increases, AGE also proportionally increases.\n",
    "    - A correlation of 1 or -1 would be very suspicious and would indicate that these columns may contain similar information.\n",
    "    - If r = 0 for FARE and AGE, this tells me that FARE and AGE have no linear relationship and are in fact, independant.\n",
    "- We can see here that 'PARCH' and 'SIBSP' are the highest correlating numeric features. With Machine Learning, we ideally want a set of independant variables, highly correlating variables can cause multicolinearity, which causes skewed results due to leaker variables."
   ],
   "metadata": {}
  },
  {
   "cell_type": "code",
   "execution_count": null,
   "source": [
    "f = plt.figure(figsize=(10,10))\r\n",
    "\r\n",
    "ax1 = f.add_subplot(111)\r\n",
    "eda = EDAVisualizer(ax1)\r\n",
    "ax1, corr = eda.correlation_plot(data=data, corr_cols=['PCLASS', 'AGE', 'SIBSP', 'PARCH', 'FARE'], cmap=\"Blues\")\r\n",
    "\r\n",
    "plt.show()"
   ],
   "outputs": [],
   "metadata": {}
  },
  {
   "cell_type": "markdown",
   "source": [
    "### Histograms"
   ],
   "metadata": {}
  },
  {
   "cell_type": "code",
   "execution_count": null,
   "source": [
    "hist(data=data, columns=['PCLASS', 'AGE', 'SIBSP', 'PARCH', 'FARE'], default_bins=20, bins={\"AGE\": 10})"
   ],
   "outputs": [],
   "metadata": {}
  },
  {
   "cell_type": "markdown",
   "source": [
    "### Scatter plot"
   ],
   "metadata": {}
  },
  {
   "cell_type": "code",
   "execution_count": null,
   "source": [
    "f = plt.figure(figsize=(10,10))\r\n",
    "ax1 = f.add_subplot(111)\r\n",
    "eda = EDAVisualizer(ax1)\r\n",
    "ax1, corr = eda.scatter_plot(data=data, x=\"AGE\", y=\"SIBSP\", x_bins=5, y_bins=5)\r\n",
    "plt.show()"
   ],
   "outputs": [],
   "metadata": {}
  },
  {
   "cell_type": "code",
   "execution_count": null,
   "source": [
    "f = plt.figure(figsize=(10,10))\r\n",
    "ax2 = f.add_subplot(111)\r\n",
    "eda = EDAVisualizer(ax2)\r\n",
    "ax2 = eda.scatter_plot(data=data, x=\"AGE\", y=\"SIBSP\", sample_frac=0.8, s=10, marker='o')\r\n",
    "plt.show()"
   ],
   "outputs": [],
   "metadata": {}
  },
  {
   "cell_type": "markdown",
   "source": [
    "### Box plot"
   ],
   "metadata": {}
  },
  {
   "cell_type": "code",
   "execution_count": null,
   "source": [
    "f = plt.figure(figsize=(10,10))\r\n",
    "\r\n",
    "ax1 = f.add_subplot(111)\r\n",
    "eda = EDAVisualizer(ax1)\r\n",
    "ax1, corr = eda.box_plot(data=data, column=\"AGE\")\r\n",
    "plt.show()"
   ],
   "outputs": [],
   "metadata": {}
  },
  {
   "cell_type": "code",
   "execution_count": null,
   "source": [
    "f = plt.figure(figsize=(10,10))\r\n",
    "\r\n",
    "ax1 = f.add_subplot(111)\r\n",
    "eda = EDAVisualizer(ax1)\r\n",
    "ax1, corr = eda.box_plot(data=data, column=\"AGE\", groupby=\"SEX\")\r\n",
    "plt.show()"
   ],
   "outputs": [],
   "metadata": {}
  },
  {
   "cell_type": "code",
   "execution_count": null,
   "source": [
    "# Close the connection to SAP HANA\r\n",
    "connection_context.close()"
   ],
   "outputs": [],
   "metadata": {}
  },
  {
   "cell_type": "code",
   "execution_count": null,
   "source": [],
   "outputs": [],
   "metadata": {}
  }
 ],
 "metadata": {
  "kernelspec": {
   "name": "python3",
   "display_name": "Python 3.9.1 64-bit ('base': conda)"
  },
  "language_info": {
   "codemirror_mode": {
    "name": "ipython",
    "version": 3
   },
   "file_extension": ".py",
   "mimetype": "text/x-python",
   "name": "python",
   "nbconvert_exporter": "python",
   "pygments_lexer": "ipython3",
   "version": "3.9.1"
  },
  "interpreter": {
   "hash": "9e8e26eb492012ce43ec3ea98c3fc2503d5495ecd40107dd94395e1e0d860e85"
  }
 },
 "nbformat": 4,
 "nbformat_minor": 4
}
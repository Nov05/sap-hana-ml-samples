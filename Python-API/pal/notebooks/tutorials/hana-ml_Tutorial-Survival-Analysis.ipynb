{
 "cells": [
  {
   "cell_type": "markdown",
   "metadata": {},
   "source": [
    "## End-to-End Scenario: Scenario Survival Analysis\n",
    "\n",
    "Author: TI HDA DB HANA Core CN\n",
    "\n",
    "In clinical trials or community trials, the effect of an intervention is assessed by measuring the number of subjects who have survived or are saved after that intervention over a period of time. We wish to measure the survival probability of Dukes’C colorectal cancer patients after treatment and evaluate statistically whether the patients who accept treatment can survive longer than those who are only controlled conservatively.\n"
   ]
  },
  {
   "cell_type": "markdown",
   "metadata": {},
   "source": [
    "## 1.  Setup the Connection to SAP HANA\n",
    "\n",
    "First, you need to create a connetion to a SAP HANA instance. In the following cell, we use a config file, config/e2edata.ini to control the connection parameters. \n",
    "\n",
    "In your case, please update the following url, port, user, pwd with your HANA instance information. "
   ]
  },
  {
   "cell_type": "code",
   "execution_count": null,
   "metadata": {},
   "outputs": [],
   "source": [
    "from hana_ml.dataframe import ConnectionContext\n",
    "from hana_ml.algorithms.pal.utility import Settings\n",
    "\n",
    "# please update the following url, port, user, pwd with your HANA instance information\n",
    "connection_context = ConnectionContext(url, port, user, pwd)"
   ]
  },
  {
   "cell_type": "markdown",
   "metadata": {},
   "source": [
    "Connection status:"
   ]
  },
  {
   "cell_type": "code",
   "execution_count": null,
   "metadata": {},
   "outputs": [],
   "source": [
    "print(connection_context.connection.isconnected())"
   ]
  },
  {
   "cell_type": "markdown",
   "metadata": {},
   "source": [
    "##  2. Dataset\n",
    "\n",
    "This scenario describes a clinical trial of 49 patients for the treatment of Dukes’ C colorectal cancer. The following data shows the survival time in 49 patients with Dukes’ C colorectal cancer who are randomly assigned to either linoleic acid or control treatment.\n",
    "\n",
    "\n",
    "| Treatment            | Survival Time(months) |\n",
    "| -------------------  | --------------------------------------------------------|\n",
    "| Linoleic acid(n=25)  | 1+, 5+, 6, 6, 9+, 10, 10, 10+, 12, 12, 12, 12, 12+, 13+, 15+, 16+, 20+, 24, 24+, 27+, 32, 34+, 36+, 36+,44+         |\n",
    "| Control(n=24)        | 3+, 6, 6, 6, 6, 8, 8, 12, 12, 12+, 15+, 16+, 18+, 18+, 20, 22+, 24, 28+, 28+, 28+, 30, 30+, 33+, 42       |\n",
    "\n",
    "\n",
    "The + sign indicates censored data. Until 6 months after treatment, there are no deaths. The effect of the censoring is to remove from the alive group those that are censored. At time 6 months two subjects have been censored so the number alive just before 6 months is 23. There are two deaths at 6 months. Thus, We now reduce the number alive (“at risk”) by two. The censored event at 9 months reduces the “at risk” set to 20. At 10 months there are two deaths. So the proportion surviving is 18/20 = 0.9, and the cumulative proportion surviving is 0.913*0.90 = 0.8217.\n",
    "\n",
    "## 3. Implementation Steps\n",
    "\n",
    "### Option 1: Kaplan-Meier Estimate\n",
    "\n",
    "**Technology Background**\n",
    "\n",
    "Kaplan-Meier estimate is one of the simplest way to measure the fraction of subjects living for a certain amount of time after treatment. The time starting from a defined point to the occurrence of a given event, for example death, is called as survival time.\n",
    "\n",
    "**Step 1**\n",
    "\n",
    "The trial data can then be loaded into table as follows:\n"
   ]
  },
  {
   "cell_type": "code",
   "execution_count": null,
   "metadata": {},
   "outputs": [],
   "source": [
    "import pandas as pd\n",
    "from hana_ml.dataframe import create_dataframe_from_pandas\n",
    "\n",
    "data = {'TIME':  [1,5,6,6,9,10,10,10,12,12,13,15,16,20,24,24,27,32,34,36,44,3,6,8,12,12,15,16,18,20,22,24,28,30,30,33,42],\n",
    "        'STATUS': [0,0,1,1,0,1,1,0,1,0,0,0,0,0,1,0,0,1,0,0,0,0,1,1,1,0,0,0,0,1,0,1,0,0,1,0,1],\n",
    "        'OCCURRENCES': [1,1,1,1,1,1,1,1,4,1,1,1,1,1,1,1,1,1,1,2,1,1,4,2,2,1,1,1,2,1,1,1,3,1,1,1,1],\n",
    "        'GROUP': [\"linoleic acid\",\"linoleic acid\",\"linoleic acid\",\"linoleic acid\",\"linoleic acid\",\"linoleic acid\",\n",
    "                  \"linoleic acid\",\"linoleic acid\",\"linoleic acid\",\"linoleic acid\",\"linoleic acid\",\"linoleic acid\",\n",
    "                  \"linoleic acid\",\"linoleic acid\",\"linoleic acid\",\"linoleic acid\",\"linoleic acid\",\"linoleic acid\",\n",
    "                  \"linoleic acid\",\"linoleic acid\",\"linoleic acid\",\"control\",\"control\",\"control\",\"control\",\"control\",\n",
    "                  \"control\",\"control\",\"control\",\"control\",\"control\",\"control\",\"control\",\"control\",\"control\",\"control\",\n",
    "                  \"control\"] }\n",
    "\n",
    "trial = pd.DataFrame(data=data, \n",
    "                     columns=['TIME','STATUS','OCCURRENCES', 'GROUP'])\n",
    "\n",
    "trial_df = create_dataframe_from_pandas(connection_context=connection_context, \n",
    "                                        pandas_df=trial, \n",
    "                                        table_name='PAL_TRIAL_DATA_TBL', \n",
    "                                        force=True, \n",
    "                                        replace=True)\n",
    "trial_df.head(5).collect()\n"
   ]
  },
  {
   "cell_type": "markdown",
   "metadata": {},
   "source": [
    "**Step 2**\n",
    "\n",
    "Input customer data and use the Kaplan-Meier function to get the survival estimates and log-rank test statistics.\n",
    "\n",
    "To compare survival estimates produced from two groups, we use log-rank test. \n",
    "It is a hypothesis test to compare the survival distribution of two groups (some of the observations may be censored) \n",
    "and is used to test the null hypothesis that there is no difference between the populations (treatment group and control group)\n",
    "in the probability of an event (here a death) at any time point. The methods are nonparametric in \n",
    "that they do not make assumptions about the distributions of survival estimates. \n",
    "The analysis is based on the times of events (here deaths). For each such time \n",
    "we calculate the observed number of deaths in each group and the number expected \n",
    "if there were in reality no difference between the groups. It is widely used in clinical trials \n",
    "to establish the efficacy of a new treatment in comparison with a control treatment when the measurement \n",
    "is the time to event (such as the time from initial treatment to death).\n",
    "\n",
    "Because the log-rank test is purely a test of significance, it cannot provide an estimate of the size of the difference between the groups.\n",
    "\n"
   ]
  },
  {
   "cell_type": "code",
   "execution_count": null,
   "metadata": {},
   "outputs": [],
   "source": [
    "from hana_ml.algorithms.pal.stats import kaplan_meier_survival_analysis\n",
    "\n",
    "result = kaplan_meier_survival_analysis(trial_df)\n",
    "print(result[0].collect())"
   ]
  },
  {
   "cell_type": "code",
   "execution_count": null,
   "metadata": {},
   "outputs": [],
   "source": [
    "print(result[1].collect())"
   ]
  },
  {
   "cell_type": "code",
   "execution_count": null,
   "metadata": {},
   "outputs": [],
   "source": [
    "print(result[2].collect())"
   ]
  },
  {
   "cell_type": "markdown",
   "metadata": {},
   "source": [
    "###  Option 2: Weibull Distribution\n",
    "**Technology Background**\n",
    "\n",
    "Weibull distribution is often used for reliability and survival analysis. It is defined by 3 parameters: shape, scale, and location. Scale works as key to magnify or shrink the curve. Shape is the crucial factor to define how the curve looks like, as described below:\n",
    "\n",
    " - Shape = 1: The failure rate is constant over time, indicating random failure.\n",
    " \n",
    " - Shape < 1: The failure rate decreases over time.\n",
    " \n",
    " - Shape > 1: The failure rate increases over time.\n",
    "\n",
    "**Step 1**\n",
    "\n",
    "Get the Weibull distribution and statistics from the linoleic acid treatment data:"
   ]
  },
  {
   "cell_type": "code",
   "execution_count": null,
   "metadata": {},
   "outputs": [],
   "source": [
    "# drop the table to ensure no table with same name\n",
    "try:\n",
    "    connection_context.drop_table(table=\"PAL_LINO_ACID_TBL\")\n",
    "except:\n",
    "    pass\n",
    "\n",
    "# create a new table with structure\n",
    "connection_context.create_table(table=\"PAL_LINO_ACID_TBL\", \n",
    "                                table_structure={\"LEFT\": \"DOUBLE\", \"RIGHT\": \"DOUBLE\"})\n",
    "\n",
    "# insert the data into the table\n",
    "cursor = connection_context.connection.cursor()\n",
    "values = [(1,None), (5,None), (6,6), (6,6), (9,None), (10,10), (10,10), (10,None),\n",
    "          (12,12), (12,12), (12,12), (12,12), (12,None), (13,None), (15,None),\n",
    "          (16,None), (20,None), (24,24), (24,None), (27,None), (32,32), (34,None),\n",
    "          (36,None), (36,None), (44,None)]\n",
    "try:\n",
    "    cursor.executemany(\"INSERT INTO \" +\n",
    "                       \"{} VALUES ({})\".format('PAL_LINO_ACID_TBL',\n",
    "                       ', '.join(['?']*len(values[0]))), values)\n",
    "    connection_context.connection.commit()\n",
    "finally:\n",
    "    cursor.close()\n",
    "    \n",
    "# look at the data in the table    \n",
    "linoleic_acid_df = connection_context.table(\"PAL_LINO_ACID_TBL\")\n",
    "print(linoleic_acid_df.head(5).collect())"
   ]
  },
  {
   "cell_type": "markdown",
   "metadata": {},
   "source": [
    "Call Weibull Distribution function and show the results:"
   ]
  },
  {
   "cell_type": "code",
   "execution_count": null,
   "metadata": {},
   "outputs": [],
   "source": [
    "from hana_ml.algorithms.pal.stats import distribution_fit\n",
    "\n",
    "result = distribution_fit(data=linoleic_acid_df, \n",
    "                          distr_type=\"weibull\", \n",
    "                          optimal_method=\"maximum_likelihood\", \n",
    "                          censored=True)\n",
    "\n",
    "print(result[0].collect())"
   ]
  },
  {
   "cell_type": "code",
   "execution_count": null,
   "metadata": {},
   "outputs": [],
   "source": [
    "print(result[1].collect())"
   ]
  },
  {
   "cell_type": "markdown",
   "metadata": {},
   "source": [
    "**Step 2**\n",
    "\n",
    "Similary, get the Weibull distribution and statistics from the control treatment data:"
   ]
  },
  {
   "cell_type": "code",
   "execution_count": null,
   "metadata": {},
   "outputs": [],
   "source": [
    "# drop the table to ensure no table with same name\n",
    "try:\n",
    "    connection_context.drop_table(table=\"PAL_CONTROL_TBL\")\n",
    "except:\n",
    "    pass\n",
    "\n",
    "# create a new table with structure\n",
    "connection_context.create_table(table=\"PAL_CONTROL_TBL\", \n",
    "                                table_structure={\"LEFT\": \"DOUBLE\", \"RIGHT\": \"DOUBLE\"})\n",
    "\n",
    "# insert the data into the table\n",
    "cursor = connection_context.connection.cursor()\n",
    "values = [(3,None), (6,6), (6,6), (6,6), (6,6), (8,8), (8,8), (12,12), (12,12), (12,None),\n",
    "          (15,None), (16,None), (18,None), (18,None), (20,20), (22,None), (24,24), (28,None),\n",
    "          (28,None), (28,None), (30,30), (30,None), (33,None), (42,42)]\n",
    "try:\n",
    "    cursor.executemany(\"INSERT INTO \" +\n",
    "                       \"{} VALUES ({})\".format('PAL_CONTROL_TBL',\n",
    "                       ', '.join(['?']*len(values[0]))), values)\n",
    "    connection_context.connection.commit()\n",
    "finally:\n",
    "    cursor.close()\n",
    "\n",
    "# look at the data in the table \n",
    "control_df = connection_context.table(\"PAL_CONTROL_TBL\")\n",
    "print(control_df.head(5).collect())"
   ]
  },
  {
   "cell_type": "code",
   "execution_count": null,
   "metadata": {},
   "outputs": [],
   "source": [
    "result = distribution_fit(data=control_df, \n",
    "                          distr_type=\"weibull\", \n",
    "                          optimal_method=\"maximum_likelihood\", \n",
    "                          censored=True)\n",
    "print(result[0].collect())"
   ]
  },
  {
   "cell_type": "code",
   "execution_count": null,
   "metadata": {},
   "outputs": [],
   "source": [
    "print(result[1].collect())"
   ]
  },
  {
   "cell_type": "markdown",
   "metadata": {},
   "source": [
    "**Step 3**\n",
    "\n",
    "Get the CDF (cumulative distribution function) of Weibull distribution for the linoleic acid treatment data:"
   ]
  },
  {
   "cell_type": "code",
   "execution_count": null,
   "metadata": {},
   "outputs": [],
   "source": [
    "# drop the table to ensure no table with same name\n",
    "try:\n",
    "    connection_context.drop_table(table=\"PAL_DISTRPROB_DATA_TBL\")\n",
    "except:\n",
    "    pass\n",
    "\n",
    "# create a new table with structure\n",
    "connection_context.create_table(table=\"PAL_DISTRPROB_DATA_TBL\", \n",
    "                                table_structure={\"DATACOL\": \"DOUBLE\"})\n",
    "\n",
    "# insert the data into the table\n",
    "cursor = connection_context.connection.cursor()\n",
    "values = [(6,),(8,),(12,),(20,),(24,),(30,),(42,)]\n",
    "try:\n",
    "    cursor.executemany(\"INSERT INTO \" +\n",
    "                       \"{} VALUES ({})\".format('PAL_DISTRPROB_DATA_TBL',\n",
    "                       ', '.join(['?']*len(values[0]))), values)\n",
    "    connection_context.connection.commit()\n",
    "finally:\n",
    "    cursor.close()\n",
    "    \n",
    "# look at the data in the table  \n",
    "distri_prob_df = connection_context.table(\"PAL_DISTRPROB_DATA_TBL\")\n",
    "print(distri_prob_df.collect())"
   ]
  },
  {
   "cell_type": "markdown",
   "metadata": {},
   "source": [
    "Invoke CDF and show the result:"
   ]
  },
  {
   "cell_type": "code",
   "execution_count": null,
   "metadata": {},
   "outputs": [],
   "source": [
    "from hana_ml.algorithms.pal.stats import cdf\n",
    "\n",
    "distr_info = {'name' : 'weibull', 'shape' : 1.40528, 'scale': 36.3069}\n",
    "result = cdf(data=distri_prob_df,\n",
    "             distr_info=distr_info, \n",
    "             complementary=False)\n",
    "print(result.collect())"
   ]
  },
  {
   "cell_type": "markdown",
   "metadata": {},
   "source": [
    "**Step 4**\n",
    "\n",
    "Get the CDF (cumulative distribution function) of Weibull distribution for the control treatment data:"
   ]
  },
  {
   "cell_type": "code",
   "execution_count": null,
   "metadata": {},
   "outputs": [],
   "source": [
    "# drop the table to ensure no table with same name\n",
    "try:\n",
    "    connection_context.drop_table(table=\"PAL_CONTROL_DISTRPROB_DATA_TBL\")\n",
    "except:\n",
    "    pass\n",
    "\n",
    "# create a new table with structure\n",
    "connection_context.create_table(table=\"PAL_CONTROL_DISTRPROB_DATA_TBL\", \n",
    "                                table_structure={\"DATACOL\": \"DOUBLE\"})\n",
    "\n",
    "# insert the data into the table\n",
    "cursor = connection_context.connection.cursor()\n",
    "values = [(6,),(10,),(12,),(24,),(32,)]\n",
    "try:\n",
    "    cursor.executemany(\"INSERT INTO \" +\n",
    "                       \"{} VALUES ({})\".format('PAL_CONTROL_DISTRPROB_DATA_TBL',\n",
    "                       ', '.join(['?']*len(values[0]))), values)\n",
    "    connection_context.connection.commit()\n",
    "finally:\n",
    "    cursor.close()\n",
    "\n",
    "control_distri_prob_df = connection_context.table(\"PAL_CONTROL_DISTRPROB_DATA_TBL\")\n",
    "print(control_distri_prob_df.collect())"
   ]
  },
  {
   "cell_type": "markdown",
   "metadata": {},
   "source": [
    "Invoke CDF and show the result:"
   ]
  },
  {
   "cell_type": "code",
   "execution_count": null,
   "metadata": {},
   "outputs": [],
   "source": [
    "distr_info = {'name' : 'weibull', 'shape' :  1.71902, 'scale': 20.444}\n",
    "result = cdf(data=control_distri_prob_df, \n",
    "             distr_info=distr_info, \n",
    "             complementary=False)\n",
    "print(result.collect())"
   ]
  },
  {
   "cell_type": "markdown",
   "metadata": {},
   "source": [
    "## 4. Drop Tables and Close the HANA Connection"
   ]
  },
  {
   "cell_type": "code",
   "execution_count": null,
   "metadata": {},
   "outputs": [],
   "source": [
    "connection_context.drop_table(table=\"PAL_TRIAL_DATA_TBL\")\n",
    "connection_context.drop_table(table=\"PAL_DISTRPROB_DATA_TBL\")\n",
    "connection_context.drop_table(table=\"PAL_CONTROL_DISTRPROB_DATA_TBL\")\n",
    "connection_context.drop_table(table=\"PAL_LINO_ACID_TBL\")\n",
    "connection_context.drop_table(table=\"PAL_CONTROL_TBL\")\n",
    "connection_context.close()"
   ]
  }
 ],
 "metadata": {
  "kernelspec": {
   "display_name": "Python 3 (ipykernel)",
   "language": "python",
   "name": "python3"
  },
  "language_info": {
   "codemirror_mode": {
    "name": "ipython",
    "version": 3
   },
   "file_extension": ".py",
   "mimetype": "text/x-python",
   "name": "python",
   "nbconvert_exporter": "python",
   "pygments_lexer": "ipython3",
   "version": "3.7.0"
  }
 },
 "nbformat": 4,
 "nbformat_minor": 4
}

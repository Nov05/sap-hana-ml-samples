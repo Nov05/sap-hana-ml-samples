{
 "cells": [
  {
   "cell_type": "markdown",
   "metadata": {
    "slideshow": {
     "slide_type": "slide"
    }
   },
   "source": [
    "# hana-ml Tutorial - Classification\n",
    "\n",
    "**Author: TI HDA DB HANA Core CN**\n",
    "\n",
    "In this tutorial, we will show you how to use functions in hana-ml to preprocess data and train a classification model with a public Diabetes dataset. We also display many useful functions of model storage, dataset & model report and model explainations. \n",
    "\n",
    "## Import necessary libraries and functions"
   ]
  },
  {
   "cell_type": "code",
   "execution_count": null,
   "metadata": {
    "slideshow": {
     "slide_type": "slide"
    }
   },
   "outputs": [],
   "source": [
    "from hana_ml import dataframe\n",
    "from hana_ml.dataframe import ConnectionContext\n",
    "from hana_ml.algorithms.pal.utility import DataSets, Settings\n",
    "from hana_ml.algorithms.pal.partition import train_test_val_split\n",
    "from hana_ml.algorithms.pal.unified_classification import UnifiedClassification\n",
    "from hana_ml.algorithms.pal.model_selection import GridSearchCV\n",
    "from hana_ml.model_storage import ModelStorage\n",
    "from IPython.core.display import HTML\n",
    "from hana_ml.visualizers.shap import ShapleyExplainer\n",
    "from hana_ml.visualizers.unified_report import UnifiedReport\n",
    "import matplotlib.pyplot as plt\n",
    "import pandas as pd\n",
    "import numpy as np\n",
    "import time\n",
    "import json\n",
    "%matplotlib inline"
   ]
  },
  {
   "cell_type": "markdown",
   "metadata": {},
   "source": [
    "## Create a connection to a SAP HANA instance\n",
    "\n",
    "First, you need to create a connetion to a SAP HANA instance. In the following cell, we use a config file, config/e2edata.ini to control the connection parameters. \n",
    "\n",
    "In your case, please update the following url, port, user, pwd with your HANA instance information for setting up the connection. "
   ]
  },
  {
   "cell_type": "code",
   "execution_count": null,
   "metadata": {
    "slideshow": {
     "slide_type": "slide"
    }
   },
   "outputs": [],
   "source": [
    "# Please replace url, port, user, pwd with your HANA instance information\n",
    "connection_context = ConnectionContext(url, port, user, pwd)"
   ]
  },
  {
   "cell_type": "markdown",
   "metadata": {
    "slideshow": {
     "slide_type": "slide"
    }
   },
   "source": [
    "## Load the dataset\n",
    "\n",
    "Diabetes dataset is originally from the National Institute of Diabetes and Digestive and Kidney Diseases. The objective is to predict based on diagnostic measurements whether a patient has diabetes. The meaning of each column is below:\n",
    "\n",
    "1. **PREGNANCIES**: Number of times pregnant\n",
    "2. **GLUCOSE**: Plasma glucose concentration a 2 hours in an oral glucose tolerance test\n",
    "3. **BLOODPRESSURE**: Diastolic blood pressure (mm Hg)\n",
    "4. **SKINTHICKNESS**: Triceps skin fold thickness (mm)\n",
    "5. **INSULIN**: 2-Hour serum insulin (mu U/ml)\n",
    "6. **BMI**: Body mass index (weight in kg/(height in m)^2)\n",
    "7. **PEDIGREE**: Diabetes pedigree function\n",
    "8. **AGE**: Age (years)\n",
    "9. **CLASS**: Class variable (0 or 1),  **target varaible**.\n",
    "\n",
    "In hana-ml, we provide a class called DataSets which contains several public datasets. You could use load_diabetes_data to load the diabetes dataset."
   ]
  },
  {
   "cell_type": "markdown",
   "metadata": {},
   "source": [
    "**Load the data**"
   ]
  },
  {
   "cell_type": "code",
   "execution_count": null,
   "metadata": {
    "slideshow": {
     "slide_type": "slide"
    }
   },
   "outputs": [],
   "source": [
    "diabetes_dataset, _, _, _ = DataSets.load_diabetes_data(connection_context)\n",
    "# number of rows and number of columns\n",
    "print(\"Shape of diabetes datset: {}\".format(diabetes_dataset.shape))\n",
    "# columns\n",
    "print(diabetes_dataset.columns)\n",
    "# types of each column\n",
    "print(diabetes_dataset.dtypes())"
   ]
  },
  {
   "cell_type": "markdown",
   "metadata": {},
   "source": [
    "**Generate a Dataset Report**"
   ]
  },
  {
   "cell_type": "code",
   "execution_count": null,
   "metadata": {},
   "outputs": [],
   "source": [
    "UnifiedReport(diabetes_dataset).build().display()"
   ]
  },
  {
   "cell_type": "markdown",
   "metadata": {},
   "source": [
    "**Split the dataset**"
   ]
  },
  {
   "cell_type": "code",
   "execution_count": null,
   "metadata": {
    "slideshow": {
     "slide_type": "slide"
    }
   },
   "outputs": [],
   "source": [
    "df_diabetes_train, df_diabetes_test, _ = train_test_val_split(data=diabetes_dataset, \n",
    "                                                              random_seed=2,\n",
    "                                                              training_percentage=0.8,\n",
    "                                                              testing_percentage=0.2,\n",
    "                                                              validation_percentage=0,\n",
    "                                                              id_column='ID',\n",
    "                                                              partition_method='stratified',\n",
    "                                                              stratified_column='CLASS')\n",
    "\n",
    "print(\"Number of training samples: {}\".format(df_diabetes_train.count()))\n",
    "print(\"Number of test samples: {}\".format(df_diabetes_test.count()))\n",
    "df_diabetes_test = df_diabetes_test.deselect('CLASS')"
   ]
  },
  {
   "cell_type": "markdown",
   "metadata": {},
   "source": [
    "**Look at the first three row of data**"
   ]
  },
  {
   "cell_type": "code",
   "execution_count": null,
   "metadata": {
    "slideshow": {
     "slide_type": "slide"
    }
   },
   "outputs": [],
   "source": [
    "print(df_diabetes_train.head(3).collect())\n",
    "print(df_diabetes_test.head(3).collect())"
   ]
  },
  {
   "cell_type": "markdown",
   "metadata": {},
   "source": [
    "## Model training with CV\n",
    "\n",
    "UnifiedClassification offers a varity of classfication algorithm and we select HybridGradientBoostingTree for training.\n",
    "Other options are: \n",
    "\n",
    "- 'DecisionTree'\n",
    "- 'HybridGradientBoostingTree'\n",
    "- 'LogisticRegression'\n",
    "- 'MLP'\n",
    "- 'NaiveBayes'\n",
    "- 'RandomDecisionTree'\n",
    "- 'SVM'"
   ]
  },
  {
   "cell_type": "code",
   "execution_count": null,
   "metadata": {
    "slideshow": {
     "slide_type": "slide"
    }
   },
   "outputs": [],
   "source": [
    "uc_hgbt = UnifiedClassification(func='HybridGradientBoostingTree')\n",
    "\n",
    "gscv = GridSearchCV(estimator=uc_hgbt, \n",
    "                    param_grid={'learning_rate': [0.001, 0.01, 0.1],\n",
    "                                'n_estimators': [5, 10, 20, 50],\n",
    "                                'split_threshold': [0.1, 0.5, 1]},\n",
    "                    train_control=dict(fold_num=3,\n",
    "                                       resampling_method='cv',\n",
    "                                       random_state=1,\n",
    "                                       ref_metric=['auc']),\n",
    "                    scoring='error_rate')\n",
    "\n",
    "gscv.fit(data=df_diabetes_train, \n",
    "         key= 'ID',\n",
    "         label='CLASS',\n",
    "         partition_method='stratified',\n",
    "         partition_random_state=1,\n",
    "         stratified_column='CLASS',\n",
    "         build_report=False)"
   ]
  },
  {
   "cell_type": "markdown",
   "metadata": {},
   "source": [
    "**Look at the model**"
   ]
  },
  {
   "cell_type": "code",
   "execution_count": null,
   "metadata": {},
   "outputs": [],
   "source": [
    "# Model table\n",
    "print(gscv.estimator.model_[0].head(5).collect())\n",
    "# Statistic \n",
    "print(gscv.estimator.model_[1].collect())"
   ]
  },
  {
   "cell_type": "markdown",
   "metadata": {},
   "source": [
    "**Generate a model report**"
   ]
  },
  {
   "cell_type": "code",
   "execution_count": null,
   "metadata": {
    "slideshow": {
     "slide_type": "slide"
    }
   },
   "outputs": [],
   "source": [
    "UnifiedReport(gscv.estimator).build().display()"
   ]
  },
  {
   "cell_type": "markdown",
   "metadata": {},
   "source": [
    "**Save the model**"
   ]
  },
  {
   "cell_type": "code",
   "execution_count": null,
   "metadata": {},
   "outputs": [],
   "source": [
    "model_storage = ModelStorage(connection_context=connection_context)\n",
    "model_storage.clean_up()\n",
    "\n",
    "# Saves the model for the first time\n",
    "uc_hgbt.name = 'HGBT model'  # The model name is mandatory\n",
    "uc_hgbt.version = 1\n",
    "model_storage.save_model(model=uc_hgbt)\n",
    "\n",
    "# Lists models\n",
    "model_storage.list_models()"
   ]
  },
  {
   "cell_type": "markdown",
   "metadata": {},
   "source": [
    "## Model prediction"
   ]
  },
  {
   "cell_type": "code",
   "execution_count": null,
   "metadata": {
    "slideshow": {
     "slide_type": "slide"
    }
   },
   "outputs": [],
   "source": [
    "# Prediction with explaining of model\n",
    "features = df_diabetes_test.columns\n",
    "features.remove('ID')\n",
    "pred_res = gscv.predict(data=df_diabetes_test, \n",
    "                        attribution_method='tree-shap',\n",
    "                        key='ID', \n",
    "                        features=features)\n",
    "\n",
    "pred_res.head(10).collect()"
   ]
  },
  {
   "cell_type": "code",
   "execution_count": null,
   "metadata": {
    "slideshow": {
     "slide_type": "slide"
    }
   },
   "outputs": [],
   "source": [
    "# Look at the detail of first test instance\n",
    "rc = pred_res.head(1).select(\"ID\", \"SCORE\", \"REASON_CODE\").head(1).collect()\n",
    "HTML(rc.to_html())"
   ]
  },
  {
   "cell_type": "markdown",
   "metadata": {},
   "source": [
    "## Model Explainability"
   ]
  },
  {
   "cell_type": "code",
   "execution_count": null,
   "metadata": {
    "slideshow": {
     "slide_type": "slide"
    }
   },
   "outputs": [],
   "source": [
    "shapley_explainer = ShapleyExplainer(feature_data=df_diabetes_test.select(features), \n",
    "                                     reason_code_data=pred_res.select('REASON_CODE'))\n",
    "shapley_explainer.summary_plot()"
   ]
  },
  {
   "cell_type": "markdown",
   "metadata": {},
   "source": [
    "## Close the connection"
   ]
  },
  {
   "cell_type": "code",
   "execution_count": null,
   "metadata": {},
   "outputs": [],
   "source": [
    "connection_context.close()"
   ]
  },
  {
   "cell_type": "markdown",
   "metadata": {
    "slideshow": {
     "slide_type": "slide"
    }
   },
   "source": [
    "## Thank you!"
   ]
  }
 ],
 "metadata": {
  "kernelspec": {
   "display_name": "Python 3 (ipykernel)",
   "language": "python",
   "name": "python3"
  },
  "language_info": {
   "codemirror_mode": {
    "name": "ipython",
    "version": 3
   },
   "file_extension": ".py",
   "mimetype": "text/x-python",
   "name": "python",
   "nbconvert_exporter": "python",
   "pygments_lexer": "ipython3",
   "version": "3.7.0"
  },
  "latex_envs": {
   "LaTeX_envs_menu_present": true,
   "autoclose": false,
   "autocomplete": true,
   "bibliofile": "biblio.bib",
   "cite_by": "apalike",
   "current_citInitial": 1,
   "eqLabelWithNumbers": true,
   "eqNumInitial": 1,
   "hotkeys": {
    "equation": "Ctrl-E",
    "itemize": "Ctrl-I"
   },
   "labels_anchors": false,
   "latex_user_defs": false,
   "report_style_numbering": false,
   "user_envs_cfg": false
  }
 },
 "nbformat": 4,
 "nbformat_minor": 4
}

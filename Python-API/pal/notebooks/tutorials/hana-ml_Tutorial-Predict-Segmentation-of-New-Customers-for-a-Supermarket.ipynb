{
 "cells": [
  {
   "cell_type": "markdown",
   "metadata": {},
   "source": [
    "## End-to-End Scenario: Predict Segmentation of New Customers for a Supermarket\n",
    "\n",
    "Author: TI HDA DB HANA Core CN\n",
    "\n",
    "In this end-to-end scenario, We will show how to predict the segmentation/cluster of new customers for a supermarket. Firstly, we use a K-means function to cluster existing customers of the supermarket. Then, the output can be used as the training data for the C4.5 Decision Tree function to predict new customers’ segmentation/cluster.\n",
    "\n",
    "### 1. Technology Background\n",
    "\n",
    "K-means clustering is a method of cluster analysis whereby the algorithm partitions N observations or records into K clusters, in which each observation belongs to the cluster with the nearest center. It is one of the most commonly used algorithms in clustering method.\n",
    "\n",
    "Decision trees are powerful and popular tools for classification and prediction. Decision tree learning, used in statistics, data mining, and machine learning uses a decision tree as a predictive model which maps the observations about an item to the conclusions about the item’s target value.\n",
    "\n",
    "### 2. Implementation Steps\n",
    "\n",
    "**Setup the Connection to SAP HANA**\n",
    "\n",
    "First, you need to create a connetion to a SAP HANA instance. In the following cell, we use a config file, config/e2edata.ini to control the connection parameters. \n",
    "\n",
    "In your case, please update the following url, port, user, pwd with your HANA instance information. "
   ]
  },
  {
   "cell_type": "code",
   "execution_count": null,
   "metadata": {},
   "outputs": [],
   "source": [
    "from hana_ml.dataframe import ConnectionContext\n",
    "from hana_ml.algorithms.pal.utility import Settings\n",
    "\n",
    "# please update the following url, port, user, pwd with your HANA instance information\n",
    "connection_context = ConnectionContext(url, port, user, pwd)"
   ]
  },
  {
   "cell_type": "markdown",
   "metadata": {},
   "source": [
    "Connection status:"
   ]
  },
  {
   "cell_type": "code",
   "execution_count": null,
   "metadata": {},
   "outputs": [],
   "source": [
    "print(connection_context.connection.isconnected())"
   ]
  },
  {
   "cell_type": "markdown",
   "metadata": {},
   "source": [
    "**Step 1: Invoke K-means**\n",
    "\n",
    "Input customer data and use the K-means function to partition the data set into K clusters. In this example, nine rows of data will be as the input. K equals 3, which means the customers will be partitioned into three levels.\n",
    "\n",
    "Generate the customer dataframe with ID, AGE, INCOME:"
   ]
  },
  {
   "cell_type": "code",
   "execution_count": null,
   "metadata": {},
   "outputs": [],
   "source": [
    "import pandas as pd\n",
    "from hana_ml.dataframe import create_dataframe_from_pandas\n",
    "\n",
    "data = {'ID':  [1,2,3,4,5,6,7,8,9],\n",
    "        'AGE': [20, 21, 22, 30, 31, 32, 40, 41, 42],\n",
    "        'INCOME': [100000, 101000, 102000, 200000, 201000, 202000, 400000, 401000, 402000]}\n",
    "customer = pd.DataFrame (data, columns = ['ID','AGE','INCOME'])\n",
    "customer_df = create_dataframe_from_pandas(connection_context=connection_context, \n",
    "                                           pandas_df=customer, \n",
    "                                           table_name='CUSTOMER_TBL', \n",
    "                                           force=True, \n",
    "                                           replace=True)\n",
    "customer_df.collect()"
   ]
  },
  {
   "cell_type": "markdown",
   "metadata": {},
   "source": [
    "Call KMeans to cluster the customers:"
   ]
  },
  {
   "cell_type": "code",
   "execution_count": null,
   "metadata": {},
   "outputs": [],
   "source": [
    "from hana_ml.algorithms.pal.clustering import KMeans\n",
    "\n",
    "kmeans = KMeans(n_clusters=3, \n",
    "                init='first_k', \n",
    "                max_iter=100,\n",
    "                tol=1.0E-6, \n",
    "                distance_level='Euclidean',\n",
    "                normalization='no')\n",
    "\n",
    "kmeans.fit(data=customer_df, key='ID', features=['AGE', 'INCOME'])\n",
    "print(kmeans.labels_.collect())"
   ]
  },
  {
   "cell_type": "markdown",
   "metadata": {},
   "source": [
    "Join the customer_df with the result column of kmeans.labels_ for next step:"
   ]
  },
  {
   "cell_type": "code",
   "execution_count": null,
   "metadata": {},
   "outputs": [],
   "source": [
    "result = kmeans.labels_.select(\"ID\", \"CLUSTER_ID\").rename_columns(names=[\"ID_R\", \"CLUSTER_ID\"])    \n",
    "    \n",
    "data_cluster = customer_df.join(other=result, condition=\"ID = ID_R\")\n",
    "\n",
    "# select the necessary columns for modeling in the next step\n",
    "data_cluster = data_cluster.select(['AGE', 'INCOME', 'CLUSTER_ID'])\n",
    "\n",
    "# rename the  column 'CLUSTER_ID' to be 'LEVEL'\n",
    "data_cluster = data_cluster.rename_columns(names=['AGE', 'INCOME', 'LEVEL'])\n",
    "print(data_cluster.collect())"
   ]
  },
  {
   "cell_type": "markdown",
   "metadata": {},
   "source": [
    "**Step 2: Invoke C4.5 Decision Tree**\n",
    "\n",
    "\n",
    "Use the above output dataframe data_cluster as the training data of C4.5 Decision Tree. The C4.5 Decision Tree function will generate a tree model which maps the observations about an item to the conclusions about the item’s target value."
   ]
  },
  {
   "cell_type": "code",
   "execution_count": null,
   "metadata": {},
   "outputs": [],
   "source": [
    "from hana_ml.algorithms.pal.trees import DecisionTreeClassifier\n",
    "\n",
    "# convert data type of column LEVEL to be VARCHAR(10)\n",
    "data_cluster = data_cluster.cast(cols='LEVEL', new_type='VARCHAR (10)')\n",
    "\n",
    "dt = DecisionTreeClassifier(algorithm='c45',\n",
    "                            percentage=1.0,\n",
    "                            model_format='pmml')\n",
    "dt.fit(data_cluster)\n",
    "\n",
    "# have a look at the result decision.rules\n",
    "print(dt.decision_rules_.collect())"
   ]
  },
  {
   "cell_type": "markdown",
   "metadata": {},
   "source": [
    "**Step 3 : Prediction with Tree Model**\n",
    "\n",
    "Use the above tree model to map each new customer to the corresponding level he or she belongs to:"
   ]
  },
  {
   "cell_type": "code",
   "execution_count": null,
   "metadata": {},
   "outputs": [],
   "source": [
    "data = {'ID':  [10, 11, 12],\n",
    "        'AGE': [20, 30, 40],\n",
    "        'INCOME': [100003, 200003, 400003]}\n",
    "new_data = pd.DataFrame(data, columns = ['ID', 'AGE', 'INCOME'])\n",
    "new_data_df = create_dataframe_from_pandas(connection_context=connection_context, \n",
    "                                           pandas_df=new_data, \n",
    "                                           table_name='NEW_CUSTOMER_TBL', \n",
    "                                           force=True, \n",
    "                                           replace=True)\n",
    "\n",
    "result = dt.predict(data=new_data_df, key=\"ID\")\n",
    "print(result.collect())"
   ]
  },
  {
   "cell_type": "markdown",
   "metadata": {},
   "source": [
    "### 3. Drop Tables and Close the HANA Connection"
   ]
  },
  {
   "cell_type": "code",
   "execution_count": null,
   "metadata": {},
   "outputs": [],
   "source": [
    "connection_context.drop_table(table=\"CUSTOMER_TBL\")\n",
    "connection_context.drop_table(table=\"NEW_CUSTOMER_TBL\")\n",
    "connection_context.close()"
   ]
  }
 ],
 "metadata": {
  "kernelspec": {
   "display_name": "Python 3 (ipykernel)",
   "language": "python",
   "name": "python3"
  },
  "language_info": {
   "codemirror_mode": {
    "name": "ipython",
    "version": 3
   },
   "file_extension": ".py",
   "mimetype": "text/x-python",
   "name": "python",
   "nbconvert_exporter": "python",
   "pygments_lexer": "ipython3",
   "version": "3.7.0"
  }
 },
 "nbformat": 4,
 "nbformat_minor": 4
}

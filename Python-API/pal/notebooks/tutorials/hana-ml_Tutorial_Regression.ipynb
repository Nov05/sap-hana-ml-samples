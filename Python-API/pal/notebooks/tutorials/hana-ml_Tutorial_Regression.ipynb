{
 "cells": [
  {
   "cell_type": "markdown",
   "metadata": {
    "slideshow": {
     "slide_type": "slide"
    }
   },
   "source": [
    "# hana-ml Tutorial - Regression\n",
    "\n",
    "**Author: TI HDA DB HANA Core CN**\n",
    "\n",
    "In this tutorial, we will show you how to use functions in hana-ml to preprocess data and train a regression model with a public bike dataset. We also display many useful functions of model storage, dataset & model report and model explainations. \n",
    "\n",
    "## Import necessary libraries and functions"
   ]
  },
  {
   "cell_type": "code",
   "execution_count": null,
   "metadata": {
    "slideshow": {
     "slide_type": "slide"
    }
   },
   "outputs": [],
   "source": [
    "from hana_ml import dataframe\n",
    "from hana_ml.dataframe import ConnectionContext\n",
    "from hana_ml.algorithms.pal.utility import DataSets, Settings\n",
    "from hana_ml.algorithms.pal.partition import train_test_val_split\n",
    "from hana_ml.algorithms.pal.unified_regression import UnifiedRegression\n",
    "from hana_ml.algorithms.pal.model_selection import GridSearchCV\n",
    "from hana_ml.model_storage import ModelStorage\n",
    "from IPython.core.display import HTML\n",
    "from hana_ml.visualizers.shap import ShapleyExplainer\n",
    "from hana_ml.visualizers.unified_report import UnifiedReport\n",
    "import matplotlib.pyplot as plt\n",
    "import pandas as pd\n",
    "import numpy as np\n",
    "import time\n",
    "import json\n",
    "%matplotlib inline"
   ]
  },
  {
   "cell_type": "markdown",
   "metadata": {},
   "source": [
    "## Create a connection to a SAP HANA instance\n",
    "\n",
    "First, you need to create a connetion to a SAP HANA instance. In the following cell, we use a config file, config/e2edata.ini to control the connection parameters. \n",
    "\n",
    "In your case, please update the following url, port, user, pwd with your HANA instance information for setting up the connection. "
   ]
  },
  {
   "cell_type": "code",
   "execution_count": null,
   "metadata": {
    "slideshow": {
     "slide_type": "slide"
    }
   },
   "outputs": [],
   "source": [
    "# Please replace url, port, user, pwd with your HANA instance information\n",
    "connection_context = ConnectionContext(url, port, user, pwd)"
   ]
  },
  {
   "cell_type": "markdown",
   "metadata": {
    "slideshow": {
     "slide_type": "slide"
    }
   },
   "source": [
    "## Load the dataset\n",
    "\n",
    "In hana-ml, we provide a class called DataSets which contains several public datasets. You could use load_bike_data() to load the bike dataset."
   ]
  },
  {
   "cell_type": "markdown",
   "metadata": {},
   "source": [
    "**Load the data**"
   ]
  },
  {
   "cell_type": "code",
   "execution_count": null,
   "metadata": {
    "slideshow": {
     "slide_type": "slide"
    }
   },
   "outputs": [],
   "source": [
    "# load the dataset\n",
    "df_bike = DataSets.load_bike_data(connection_context)\n",
    "\n",
    "# Add a ID column for AutomaticRegression, the last column is the label\n",
    "df_bike = df_bike.add_id('ID', ref_col='days_since_2011')\n",
    "df_bike = df_bike.cast('yr', new_type=\"NVARCHAR\")\n",
    "\n",
    "# Split the dataset into training and test dataset\n",
    "cols = df_bike.columns\n",
    "cols.remove('cnt')\n",
    "df_bike = df_bike[cols + ['cnt']]\n",
    "\n",
    "# number of rows and number of columns\n",
    "print(\"Shape of bike datset: {}\".format(df_bike.shape))\n",
    "# columns\n",
    "print(df_bike.columns)\n",
    "# types of each column\n",
    "print(df_bike.dtypes())\n"
   ]
  },
  {
   "cell_type": "markdown",
   "metadata": {},
   "source": [
    "**Generate a Dataset Report**"
   ]
  },
  {
   "cell_type": "code",
   "execution_count": null,
   "metadata": {},
   "outputs": [],
   "source": [
    "UnifiedReport(df_bike).build().display()"
   ]
  },
  {
   "cell_type": "markdown",
   "metadata": {},
   "source": [
    "**Split the dataset**"
   ]
  },
  {
   "cell_type": "code",
   "execution_count": null,
   "metadata": {
    "slideshow": {
     "slide_type": "slide"
    }
   },
   "outputs": [],
   "source": [
    "df_bike_train, df_bike_test, _ = train_test_val_split(data=df_bike, \n",
    "                                                      random_seed=2,\n",
    "                                                      training_percentage=0.75,\n",
    "                                                      testing_percentage=0.25,\n",
    "                                                      validation_percentage=0)\n",
    "\n",
    "print(\"Number of training samples: {}\".format(df_bike_train.count()))\n",
    "print(\"Number of test samples: {}\".format(df_bike_test.count()))\n",
    "df_bike_test = df_bike_test.deselect('cnt')"
   ]
  },
  {
   "cell_type": "markdown",
   "metadata": {},
   "source": [
    "**Look at the first three row of data**"
   ]
  },
  {
   "cell_type": "code",
   "execution_count": null,
   "metadata": {
    "slideshow": {
     "slide_type": "slide"
    }
   },
   "outputs": [],
   "source": [
    "print(df_bike_train.head(3).collect())\n",
    "print(df_bike_test.head(3).collect())"
   ]
  },
  {
   "cell_type": "markdown",
   "metadata": {},
   "source": [
    "## Model training with CV\n",
    "\n",
    "UnifiedRegression offers a varity of regression algorithm and we select HybridGradientBoostingTree for training.\n",
    "Other options are: \n",
    "\n",
    "- 'DecisionTree'\n",
    "- 'HybridGradientBoostingTree'\n",
    "- 'LinearRegression'\n",
    "- 'RandomDecisionTree'\n",
    "- 'MLP'\n",
    "- 'SVM'\n",
    "- 'GLM'\n",
    "- 'GeometricRegression'\n",
    "- 'PolynomialRegression'\n",
    "- 'ExponentialRegression'\n",
    "- 'LogarithmicRegression'"
   ]
  },
  {
   "cell_type": "code",
   "execution_count": null,
   "metadata": {
    "slideshow": {
     "slide_type": "slide"
    }
   },
   "outputs": [],
   "source": [
    "ur_hgbt = UnifiedRegression(func='HybridGradientBoostingTree')\n",
    "\n",
    "gscv = GridSearchCV(estimator=ur_hgbt, \n",
    "                    param_grid={'learning_rate': [0.001, 0.01, 0.1],\n",
    "                                'n_estimators': [5, 10, 20, 50],\n",
    "                                'split_threshold': [0.1, 0.5, 1]},\n",
    "                    train_control=dict(fold_num=3,\n",
    "                                       resampling_method='cv',\n",
    "                                       random_state=1,\n",
    "                                       ref_metric=['rmse']),\n",
    "                    scoring='rmse')\n",
    "\n",
    "gscv.fit(data=df_bike_train, \n",
    "         key= 'ID',\n",
    "         label='cnt',\n",
    "         build_report=False)"
   ]
  },
  {
   "cell_type": "markdown",
   "metadata": {},
   "source": [
    "**Look at the model**"
   ]
  },
  {
   "cell_type": "code",
   "execution_count": null,
   "metadata": {},
   "outputs": [],
   "source": [
    "# Model table\n",
    "print(gscv.estimator.model_[0].head(5).collect())\n",
    "# Statistic \n",
    "print(gscv.estimator.model_[1].collect())\n",
    "#752.918, 727.203, 654.585"
   ]
  },
  {
   "cell_type": "markdown",
   "metadata": {},
   "source": [
    "**Generate a model report**"
   ]
  },
  {
   "cell_type": "code",
   "execution_count": null,
   "metadata": {
    "slideshow": {
     "slide_type": "slide"
    }
   },
   "outputs": [],
   "source": [
    "UnifiedReport(gscv.estimator).build().display()"
   ]
  },
  {
   "cell_type": "markdown",
   "metadata": {},
   "source": [
    "**Save the model**"
   ]
  },
  {
   "cell_type": "code",
   "execution_count": null,
   "metadata": {},
   "outputs": [],
   "source": [
    "model_storage = ModelStorage(connection_context=connection_context)\n",
    "model_storage.clean_up()\n",
    "\n",
    "# Saves the model for the first time\n",
    "ur_hgbt.name = 'HGBT model'  # The model name is mandatory\n",
    "ur_hgbt.version = 1\n",
    "model_storage.save_model(model=ur_hgbt)\n",
    "\n",
    "# Lists models\n",
    "model_storage.list_models()"
   ]
  },
  {
   "cell_type": "markdown",
   "metadata": {},
   "source": [
    "## Model prediction"
   ]
  },
  {
   "cell_type": "code",
   "execution_count": null,
   "metadata": {
    "slideshow": {
     "slide_type": "slide"
    }
   },
   "outputs": [],
   "source": [
    "# Prediction with explaining of model\n",
    "features = df_bike_test.columns\n",
    "features.remove('ID')\n",
    "pred_res = gscv.predict(data=df_bike_test, \n",
    "                        attribution_method='tree-shap',\n",
    "                        key='ID', \n",
    "                        features=features)\n",
    "\n",
    "pred_res.head(10).collect()"
   ]
  },
  {
   "cell_type": "code",
   "execution_count": null,
   "metadata": {
    "slideshow": {
     "slide_type": "slide"
    }
   },
   "outputs": [],
   "source": [
    "# Look at the detail of first test instance\n",
    "rc = pred_res.head(1).select(\"ID\", \"SCORE\", \"REASON\").head(1).collect()\n",
    "HTML(rc.to_html())"
   ]
  },
  {
   "cell_type": "markdown",
   "metadata": {},
   "source": [
    "## Model Explainability"
   ]
  },
  {
   "cell_type": "code",
   "execution_count": null,
   "metadata": {
    "slideshow": {
     "slide_type": "slide"
    }
   },
   "outputs": [],
   "source": [
    "shapley_explainer = ShapleyExplainer(feature_data=df_bike_test.select(features), \n",
    "                                     reason_code_data=pred_res.select('REASON'))\n",
    "shapley_explainer.summary_plot()"
   ]
  },
  {
   "cell_type": "markdown",
   "metadata": {},
   "source": [
    "## Close the connection"
   ]
  },
  {
   "cell_type": "code",
   "execution_count": null,
   "metadata": {},
   "outputs": [],
   "source": [
    "connection_context.close()"
   ]
  },
  {
   "cell_type": "markdown",
   "metadata": {
    "slideshow": {
     "slide_type": "slide"
    }
   },
   "source": [
    "## Thank you!"
   ]
  }
 ],
 "metadata": {
  "kernelspec": {
   "display_name": "Python 3 (ipykernel)",
   "language": "python",
   "name": "python3"
  },
  "language_info": {
   "codemirror_mode": {
    "name": "ipython",
    "version": 3
   },
   "file_extension": ".py",
   "mimetype": "text/x-python",
   "name": "python",
   "nbconvert_exporter": "python",
   "pygments_lexer": "ipython3",
   "version": "3.7.0"
  },
  "latex_envs": {
   "LaTeX_envs_menu_present": true,
   "autoclose": false,
   "autocomplete": true,
   "bibliofile": "biblio.bib",
   "cite_by": "apalike",
   "current_citInitial": 1,
   "eqLabelWithNumbers": true,
   "eqNumInitial": 1,
   "hotkeys": {
    "equation": "Ctrl-E",
    "itemize": "Ctrl-I"
   },
   "labels_anchors": false,
   "latex_user_defs": false,
   "report_style_numbering": false,
   "user_envs_cfg": false
  }
 },
 "nbformat": 4,
 "nbformat_minor": 4
}

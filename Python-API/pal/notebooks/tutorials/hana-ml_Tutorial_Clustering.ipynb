{
 "cells": [
  {
   "cell_type": "markdown",
   "metadata": {},
   "source": [
    "# hana-ml Tutorial - Clustering \n",
    "\n",
    "**Author: TI HDA DB HANA Core CN**\n",
    "\n",
    "In this tutorial, we will show you how to use clustering functions in hana-ml to preprocess data and train a model with a public Iris dataset.  \n",
    "\n",
    "## Import necessary libraries and functions"
   ]
  },
  {
   "cell_type": "code",
   "execution_count": null,
   "metadata": {},
   "outputs": [],
   "source": [
    "from hana_ml.dataframe import ConnectionContext\n",
    "from hana_ml.algorithms.pal import clustering\n",
    "from hana_ml.algorithms.pal.utility import DataSets, Settings\n",
    "from hana_ml.visualizers.unified_report import UnifiedReport\n",
    "from hana_ml.algorithms.pal.partition import train_test_val_split\n",
    "import numpy as np\n",
    "import pandas as pd"
   ]
  },
  {
   "cell_type": "markdown",
   "metadata": {},
   "source": [
    "## Create a connection to a SAP HANA instance\n",
    "\n",
    "First, you need to create a connetion to a SAP HANA instance. In the following cell, we use a config file, config/e2edata.ini to control the connection parameters. \n",
    "\n",
    "In your case, please update the following url, port, user, pwd with your HANA instance information for setting up the connection. "
   ]
  },
  {
   "cell_type": "code",
   "execution_count": null,
   "metadata": {},
   "outputs": [],
   "source": [
    "# Please replace url, port, user, pwd with your HANA instance information\n",
    "connection_context = ConnectionContext(url, port, user, pwd)"
   ]
  },
  {
   "cell_type": "markdown",
   "metadata": {},
   "source": [
    "## Load the dataset\n",
    "\n",
    "The Iris data set used is from University of California, Irvine (https://archive.ics.uci.edu/ml/datasets/iris, for tutorials use only).  This data set contains attributes of a plant iris.  There are three species of Iris plants.\n",
    "The data contains the following attributes for various flowers:\n",
    "\n",
    "- sepal length in cm\n",
    "- sepal width in cm\n",
    "- petal length in cm\n",
    "- petal width in cm\n",
    "\n",
    "Although the flower is identified in the dataset, we will cluster the data set into 3 clusters since we know there are three different flowers. The hope is that the cluster will correspond to each of the flowers.\n",
    "\n",
    "In hana-ml, we provide a class called DataSets which contains several public datasets. You could use load_iris_data() to load the Iris dataset."
   ]
  },
  {
   "cell_type": "code",
   "execution_count": null,
   "metadata": {},
   "outputs": [],
   "source": [
    "# load the dataset\n",
    "iris_df, _, _, _ = DataSets.load_iris_data(connection_context)\n",
    "\n",
    "# number of rows and number of columns\n",
    "print(\"Shape of Iris datset: {}\".format(iris_df.shape))\n",
    "# columns\n",
    "print(iris_df.columns)\n",
    "# types of each column\n",
    "print(iris_df.dtypes())\n",
    "# check how many SPECIES are in the data set\n",
    "print(iris_df.distinct(\"SPECIES\").collect())"
   ]
  },
  {
   "cell_type": "markdown",
   "metadata": {},
   "source": [
    "**Generate a Dataset Report**"
   ]
  },
  {
   "cell_type": "code",
   "execution_count": null,
   "metadata": {
    "scrolled": true
   },
   "outputs": [],
   "source": [
    "UnifiedReport(iris_df).build().display()"
   ]
  },
  {
   "cell_type": "markdown",
   "metadata": {},
   "source": [
    "**Split the dataset**"
   ]
  },
  {
   "cell_type": "code",
   "execution_count": null,
   "metadata": {},
   "outputs": [],
   "source": [
    "df_iris_train, df_iris_test, _ = train_test_val_split(data=iris_df, \n",
    "                                                      random_seed=2,\n",
    "                                                      training_percentage=0.8,\n",
    "                                                      testing_percentage=0.2,\n",
    "                                                      validation_percentage=0,\n",
    "                                                      id_column='ID',\n",
    "                                                      partition_method='stratified',\n",
    "                                                      stratified_column='SPECIES')\n",
    "\n",
    "print(\"Number of training samples: {}\".format(df_iris_train.count()))\n",
    "print(\"Number of test samples: {}\".format(df_iris_test.count()))"
   ]
  },
  {
   "cell_type": "markdown",
   "metadata": {},
   "source": [
    "# Model Training"
   ]
  },
  {
   "cell_type": "code",
   "execution_count": null,
   "metadata": {},
   "outputs": [],
   "source": [
    "features = ['SEPALLENGTHCM','SEPALWIDTHCM','PETALLENGTHCM','PETALWIDTHCM']\n",
    "kmeans = clustering.KMeans(thread_ratio=0.2, \n",
    "                           n_clusters=3, \n",
    "                           distance_level='euclidean', \n",
    "                           max_iter=100, \n",
    "                           tol=1.0E-6, \n",
    "                           category_weights=0.5, \n",
    "                           normalization='min_max')\n",
    "km = kmeans.fit(data=df_iris_train, key='ID', features=features)\n",
    "print(km.labels_.collect())"
   ]
  },
  {
   "cell_type": "markdown",
   "metadata": {},
   "source": [
    "## Prediction"
   ]
  },
  {
   "cell_type": "code",
   "execution_count": null,
   "metadata": {},
   "outputs": [],
   "source": [
    "res = km.predict(data=df_iris_test, key='ID', features=features)\n",
    "print(res.collect())"
   ]
  },
  {
   "cell_type": "markdown",
   "metadata": {},
   "source": [
    "## Close the connection"
   ]
  },
  {
   "cell_type": "code",
   "execution_count": null,
   "metadata": {},
   "outputs": [],
   "source": [
    "connection_context.close()"
   ]
  },
  {
   "cell_type": "markdown",
   "metadata": {},
   "source": [
    "## Thank you!"
   ]
  }
 ],
 "metadata": {
  "interpreter": {
   "hash": "9e8e26eb492012ce43ec3ea98c3fc2503d5495ecd40107dd94395e1e0d860e85"
  },
  "kernelspec": {
   "display_name": "Python 3 (ipykernel)",
   "language": "python",
   "name": "python3"
  },
  "language_info": {
   "codemirror_mode": {
    "name": "ipython",
    "version": 3
   },
   "file_extension": ".py",
   "mimetype": "text/x-python",
   "name": "python",
   "nbconvert_exporter": "python",
   "pygments_lexer": "ipython3",
   "version": "3.7.0"
  }
 },
 "nbformat": 4,
 "nbformat_minor": 4
}

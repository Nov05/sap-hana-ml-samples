{
 "cells": [
  {
   "cell_type": "markdown",
   "metadata": {},
   "source": [
    "# Examples of DataFrame usage"
   ]
  },
  {
   "cell_type": "code",
   "execution_count": 1,
   "metadata": {},
   "outputs": [],
   "source": [
    "from hana_ml import dataframe\n",
    "import numpy as np\n",
    "import logging"
   ]
  },
  {
   "cell_type": "markdown",
   "metadata": {},
   "source": [
    "## Setup connection and data sets\n",
    "Let us load some data into HAAN table.  The data is loaded into 4 tables - full set, test set, training set, and the validation set:\n",
    "<li>DBM2_RFULL_TBL</li>\n",
    "<li>DBM2_RTEST_TBL</li>\n",
    "<li>DBM2_RTRAINING_TBL</li>\n",
    "<li>DBM2_RVALIDATION_TBL</li>\n",
    "\n",
    "To do that, a connection is created and passed to the loader.\n",
    "\n",
    "There is a config file, <b>config/e2edata.ini</b> that controls the connection parameters and whether or not to reload the data from scratch.  In case the data is already loaded, there would be no need to load the data.  A sample section is below.  If the config parameter, reload_data is true then the tables for test, training, and validation are (re-)created and data inserted into them.\n",
    "\n",
    "#########################<br>\n",
    "[hana]<br>\n",
    "url=host.sjc.sap.corp<br>\n",
    "user=username<br>\n",
    "passwd=userpassword<br>\n",
    "port=3xx15<br>\n",
    "<br>\n",
    "\n",
    "#########################<br>"
   ]
  },
  {
   "cell_type": "code",
   "execution_count": 2,
   "metadata": {},
   "outputs": [
    {
     "name": "stdout",
     "output_type": "stream",
     "text": [
      "Table DBM2_RFULL_TBL exists and data exists\n"
     ]
    }
   ],
   "source": [
    "from data_load_utils import DataSets, Settings\n",
    "url, port, user, pwd = Settings.load_config(\"../../config/e2edata.ini\")\n",
    "connection_context = dataframe.ConnectionContext(url, port, user, pwd)\n",
    "full_tbl, training_tbl, validation_tbl, test_tbl = DataSets.load_bank_data(connection_context)"
   ]
  },
  {
   "cell_type": "markdown",
   "metadata": {},
   "source": [
    "### Simple DataFrame"
   ]
  },
  {
   "cell_type": "code",
   "execution_count": 3,
   "metadata": {},
   "outputs": [
    {
     "name": "stdout",
     "output_type": "stream",
     "text": [
      "SELECT * FROM \"DBM2_RTRAINING_TBL\"\n"
     ]
    }
   ],
   "source": [
    "dataset1 = connection_context.table(training_tbl)\n",
    "# Alternatively, it could be any SELECT\n",
    "#dataset1 = connection_context.sql('SELECT * FROM \"{0}\"'.format(training_tbl))\n",
    "print(dataset1.select_statement)"
   ]
  },
  {
   "cell_type": "code",
   "execution_count": 4,
   "metadata": {},
   "outputs": [
    {
     "name": "stdout",
     "output_type": "stream",
     "text": [
      "<hana_ml.dataframe.DataFrame object at 0x000001F789BCE670>\n"
     ]
    }
   ],
   "source": [
    "print(dataset1)"
   ]
  },
  {
   "cell_type": "markdown",
   "metadata": {},
   "source": [
    "### Drop duplicates"
   ]
  },
  {
   "cell_type": "code",
   "execution_count": 5,
   "metadata": {},
   "outputs": [
    {
     "name": "stdout",
     "output_type": "stream",
     "text": [
      "SELECT DISTINCT * FROM (SELECT * FROM \"DBM2_RTRAINING_TBL\") AS \"DT_3\"\n"
     ]
    }
   ],
   "source": [
    "dataset2 = dataset1.drop_duplicates()\n",
    "print(dataset2.select_statement)"
   ]
  },
  {
   "cell_type": "code",
   "execution_count": 6,
   "metadata": {},
   "outputs": [
    {
     "name": "stdout",
     "output_type": "stream",
     "text": [
      "['ID', 'AGE', 'JOB', 'MARITAL', 'EDUCATION', 'DBM_DEFAULT', 'HOUSING', 'LOAN', 'CONTACT', 'DBM_MONTH', 'DAY_OF_WEEK', 'DURATION', 'CAMPAIGN', 'PDAYS', 'PREVIOUS', 'POUTCOME', 'EMP_VAR_RATE', 'CONS_PRICE_IDX', 'CONS_CONF_IDX', 'EURIBOR3M', 'NREMPLOYED', 'LABEL']\n"
     ]
    }
   ],
   "source": [
    "print(dataset2.columns)"
   ]
  },
  {
   "cell_type": "markdown",
   "metadata": {},
   "source": [
    "### Drop a column"
   ]
  },
  {
   "cell_type": "code",
   "execution_count": 7,
   "metadata": {},
   "outputs": [
    {
     "name": "stdout",
     "output_type": "stream",
     "text": [
      "SELECT \"ID\", \"AGE\", \"JOB\", \"MARITAL\", \"EDUCATION\", \"DBM_DEFAULT\", \"HOUSING\", \"LOAN\", \"CONTACT\", \"DBM_MONTH\", \"DAY_OF_WEEK\", \"DURATION\", \"CAMPAIGN\", \"PDAYS\", \"PREVIOUS\", \"POUTCOME\", \"EMP_VAR_RATE\", \"CONS_PRICE_IDX\", \"CONS_CONF_IDX\", \"EURIBOR3M\", \"NREMPLOYED\" FROM (SELECT DISTINCT * FROM (SELECT * FROM \"DBM2_RTRAINING_TBL\") AS \"DT_3\") AS \"DT_5\"\n"
     ]
    }
   ],
   "source": [
    "dataset3 = dataset2.drop([\"LABEL\"])\n",
    "print(dataset3.select_statement)"
   ]
  },
  {
   "cell_type": "markdown",
   "metadata": {},
   "source": [
    "### Take null values and substitute with a specific value"
   ]
  },
  {
   "cell_type": "code",
   "execution_count": 8,
   "metadata": {},
   "outputs": [
    {
     "name": "stdout",
     "output_type": "stream",
     "text": [
      "SELECT \"ID\", COALESCE(\"AGE\", 25) AS \"AGE\", \"JOB\", \"MARITAL\", \"EDUCATION\", \"DBM_DEFAULT\", \"HOUSING\", \"LOAN\", \"CONTACT\", \"DBM_MONTH\", \"DAY_OF_WEEK\", \"DURATION\", \"CAMPAIGN\", \"PDAYS\", \"PREVIOUS\", \"POUTCOME\", \"EMP_VAR_RATE\", \"CONS_PRICE_IDX\", \"CONS_CONF_IDX\", \"EURIBOR3M\", \"NREMPLOYED\", \"LABEL\" FROM (SELECT DISTINCT * FROM (SELECT * FROM \"DBM2_RTRAINING_TBL\") AS \"DT_3\") dt\n"
     ]
    }
   ],
   "source": [
    "dataset4 = dataset2.fillna(25, [\"AGE\"])\n",
    "print(dataset4.select_statement)"
   ]
  },
  {
   "cell_type": "markdown",
   "metadata": {},
   "source": [
    "### Fetch 5 rows into client"
   ]
  },
  {
   "cell_type": "code",
   "execution_count": 9,
   "metadata": {},
   "outputs": [
    {
     "name": "stdout",
     "output_type": "stream",
     "text": [
      "      ID  AGE         JOB   MARITAL          EDUCATION DBM_DEFAULT HOUSING  \\\n",
      "0   2647   27  technician    single        high.school     unknown      no   \n",
      "1  31297   34  technician    single  university.degree          no     yes   \n",
      "2  17777   36      admin.   married  university.degree     unknown      no   \n",
      "3  29285   55  management   married  university.degree          no     yes   \n",
      "4  38811   80     retired  divorced            unknown          no     yes   \n",
      "\n",
      "  LOAN    CONTACT DBM_MONTH  ... CAMPAIGN  PDAYS  PREVIOUS     POUTCOME  \\\n",
      "0  yes  telephone       may  ...        2    999         0  nonexistent   \n",
      "1   no  telephone       may  ...        3    999         0  nonexistent   \n",
      "2   no   cellular       jul  ...        1    999         0  nonexistent   \n",
      "3   no   cellular       apr  ...        2    999         0  nonexistent   \n",
      "4  yes   cellular       nov  ...        2      3         1      success   \n",
      "\n",
      "   EMP_VAR_RATE CONS_PRICE_IDX  CONS_CONF_IDX  EURIBOR3M  NREMPLOYED  LABEL  \n",
      "0           1.1         93.994          -36.4      4.856        5191     no  \n",
      "1          -1.8         92.893          -46.2      1.334        5099     no  \n",
      "2           1.4         93.918          -42.7      4.961        5228     no  \n",
      "3          -1.8         93.075          -47.1      1.405        5099    yes  \n",
      "4          -3.4         92.649          -30.1      0.714        5017    yes  \n",
      "\n",
      "[5 rows x 22 columns]\n"
     ]
    }
   ],
   "source": [
    "print(dataset4.head(5).collect())"
   ]
  },
  {
   "cell_type": "markdown",
   "metadata": {},
   "source": [
    "### Fetch columns in a DataFrame"
   ]
  },
  {
   "cell_type": "code",
   "execution_count": 10,
   "metadata": {},
   "outputs": [
    {
     "name": "stdout",
     "output_type": "stream",
     "text": [
      "['ID', 'AGE', 'JOB', 'MARITAL', 'EDUCATION', 'DBM_DEFAULT', 'HOUSING', 'LOAN', 'CONTACT', 'DBM_MONTH', 'DAY_OF_WEEK', 'DURATION', 'CAMPAIGN', 'PDAYS', 'PREVIOUS', 'POUTCOME', 'EMP_VAR_RATE', 'CONS_PRICE_IDX', 'CONS_CONF_IDX', 'EURIBOR3M', 'NREMPLOYED', 'LABEL']\n"
     ]
    }
   ],
   "source": [
    "print(dataset4.columns)"
   ]
  },
  {
   "cell_type": "code",
   "execution_count": 11,
   "metadata": {},
   "outputs": [
    {
     "name": "stdout",
     "output_type": "stream",
     "text": [
      "      ID  AGE          JOB   MARITAL            EDUCATION DBM_DEFAULT HOUSING  \\\n",
      "0   2647   27   technician    single          high.school     unknown      no   \n",
      "1  31297   34   technician    single    university.degree          no     yes   \n",
      "2  17777   36       admin.   married    university.degree     unknown      no   \n",
      "3  29285   55   management   married    university.degree          no     yes   \n",
      "4  38811   80      retired  divorced              unknown          no     yes   \n",
      "5   7814   43   unemployed   married    university.degree     unknown      no   \n",
      "6  31733   33       admin.    single    university.degree          no     yes   \n",
      "7  37085   51   management  divorced    university.degree          no      no   \n",
      "8  18363   46   technician  divorced  professional.course          no     yes   \n",
      "9  21398   44  blue-collar   married             basic.6y          no      no   \n",
      "\n",
      "  LOAN    CONTACT DBM_MONTH  ... CAMPAIGN  PDAYS  PREVIOUS     POUTCOME  \\\n",
      "0  yes  telephone       may  ...        2    999         0  nonexistent   \n",
      "1   no  telephone       may  ...        3    999         0  nonexistent   \n",
      "2   no   cellular       jul  ...        1    999         0  nonexistent   \n",
      "3   no   cellular       apr  ...        2    999         0  nonexistent   \n",
      "4  yes   cellular       nov  ...        2      3         1      success   \n",
      "5   no  telephone       jun  ...        1    999         0  nonexistent   \n",
      "6   no   cellular       may  ...        1    999         0  nonexistent   \n",
      "7   no   cellular       jul  ...        7    999         1      failure   \n",
      "8   no   cellular       jul  ...        3    999         0  nonexistent   \n",
      "9  yes   cellular       aug  ...        5    999         0  nonexistent   \n",
      "\n",
      "   EMP_VAR_RATE CONS_PRICE_IDX  CONS_CONF_IDX  EURIBOR3M  NREMPLOYED  LABEL  \n",
      "0           1.1         93.994          -36.4      4.856        5191     no  \n",
      "1          -1.8         92.893          -46.2      1.334        5099     no  \n",
      "2           1.4         93.918          -42.7      4.961        5228     no  \n",
      "3          -1.8         93.075          -47.1      1.405        5099    yes  \n",
      "4          -3.4         92.649          -30.1      0.714        5017    yes  \n",
      "5           1.4         94.465          -41.8      4.865        5228     no  \n",
      "6          -1.8         92.893          -46.2      1.327        5099     no  \n",
      "7          -2.9         92.469          -33.6      0.979        5076     no  \n",
      "8           1.4         93.918          -42.7      4.968        5228     no  \n",
      "9           1.4         93.444          -36.1      4.963        5228     no  \n",
      "\n",
      "[10 rows x 22 columns]\n"
     ]
    }
   ],
   "source": [
    "print(dataset4.head(10).collect())"
   ]
  },
  {
   "cell_type": "code",
   "execution_count": 12,
   "metadata": {
    "scrolled": true
   },
   "outputs": [
    {
     "name": "stdout",
     "output_type": "stream",
     "text": [
      "      ID  AGE        JOB   MARITAL            EDUCATION DBM_DEFAULT HOUSING  \\\n",
      "0  29830   69    retired  divorced             basic.4y          no      no   \n",
      "1  36021   61    unknown    single             basic.4y          no     yes   \n",
      "2  30030   64    retired   married    university.degree          no     yes   \n",
      "3  28514   61    retired   married    university.degree          no     yes   \n",
      "4  28726   69    retired   married              unknown          no      no   \n",
      "5  30134   79    retired   married             basic.9y          no     yes   \n",
      "6  30391   71    retired  divorced             basic.4y          no     yes   \n",
      "7  35862   66  housemaid   married          high.school          no     yes   \n",
      "8  30242   81    retired   married  professional.course          no      no   \n",
      "9  35962   61    retired   married             basic.9y          no      no   \n",
      "\n",
      "  LOAN    CONTACT DBM_MONTH  ... CAMPAIGN  PDAYS  PREVIOUS     POUTCOME  \\\n",
      "0   no   cellular       apr  ...        1    999         0  nonexistent   \n",
      "1   no   cellular       may  ...        1    999         0  nonexistent   \n",
      "2   no   cellular       apr  ...        1    999         0  nonexistent   \n",
      "3   no   cellular       apr  ...        1    999         0  nonexistent   \n",
      "4   no   cellular       apr  ...        1    999         0  nonexistent   \n",
      "5   no   cellular       apr  ...        1    999         0  nonexistent   \n",
      "6   no  telephone       apr  ...        1    999         0  nonexistent   \n",
      "7   no   cellular       may  ...        1    999         0  nonexistent   \n",
      "8   no   cellular       apr  ...        1    999         0  nonexistent   \n",
      "9   no   cellular       may  ...        1    999         0  nonexistent   \n",
      "\n",
      "   EMP_VAR_RATE CONS_PRICE_IDX  CONS_CONF_IDX  EURIBOR3M  NREMPLOYED  LABEL  \n",
      "0          -1.8         93.075          -47.1      1.405        5099     no  \n",
      "1          -1.8         92.893          -46.2      1.266        5099     no  \n",
      "2          -1.8         93.075          -47.1      1.405        5099     no  \n",
      "3          -1.8         93.075          -47.1      1.423        5099    yes  \n",
      "4          -1.8         93.075          -47.1      1.410        5099     no  \n",
      "5          -1.8         93.075          -47.1      1.365        5099    yes  \n",
      "6          -1.8         93.075          -47.1      1.365        5099     no  \n",
      "7          -1.8         92.893          -46.2      1.259        5099     no  \n",
      "8          -1.8         93.075          -47.1      1.365        5099     no  \n",
      "9          -1.8         92.893          -46.2      1.264        5099     no  \n",
      "\n",
      "[10 rows x 22 columns]\n"
     ]
    }
   ],
   "source": [
    "print(dataset4.filter('AGE > 60').head(10).collect())"
   ]
  },
  {
   "cell_type": "code",
   "execution_count": 13,
   "metadata": {},
   "outputs": [],
   "source": [
    "pd1 = dataset4.filter('AGE>60').head(10).collect()"
   ]
  },
  {
   "cell_type": "code",
   "execution_count": 14,
   "metadata": {},
   "outputs": [
    {
     "name": "stdout",
     "output_type": "stream",
     "text": [
      "<class 'pandas.core.frame.DataFrame'>\n"
     ]
    }
   ],
   "source": [
    "print(type(pd1))"
   ]
  },
  {
   "cell_type": "code",
   "execution_count": 15,
   "metadata": {},
   "outputs": [
    {
     "data": {
      "text/plain": [
       "<hana_ml.dataframe.DataFrame at 0x1f789c2a430>"
      ]
     },
     "execution_count": 15,
     "metadata": {},
     "output_type": "execute_result"
    }
   ],
   "source": [
    "dataset4.filter('AGE>60').sort(['AGE'])"
   ]
  },
  {
   "cell_type": "code",
   "execution_count": 16,
   "metadata": {},
   "outputs": [
    {
     "name": "stdout",
     "output_type": "stream",
     "text": [
      "      ID  AGE        JOB  MARITAL EDUCATION DBM_DEFAULT HOUSING LOAN  \\\n",
      "0  41000   61  housemaid  married  basic.4y          no     yes   no   \n",
      "\n",
      "     CONTACT DBM_MONTH  ... CAMPAIGN  PDAYS  PREVIOUS  POUTCOME  EMP_VAR_RATE  \\\n",
      "0  telephone       oct  ...        2    999         2   failure          -1.1   \n",
      "\n",
      "  CONS_PRICE_IDX  CONS_CONF_IDX  EURIBOR3M  NREMPLOYED  LABEL  \n",
      "0         94.601          -49.5      1.016        4963     no  \n",
      "\n",
      "[1 rows x 22 columns]\n"
     ]
    }
   ],
   "source": [
    "print(dataset4.filter('AGE>60').sort(['AGE']).head(1).collect())"
   ]
  },
  {
   "cell_type": "code",
   "execution_count": 17,
   "metadata": {},
   "outputs": [],
   "source": [
    "condition = '{}.\"ID\"={}.\"ID\"'.format(dataset4.quoted_name, dataset2.quoted_name)\n",
    "dataset5 = dataset4.join(dataset2, condition)"
   ]
  },
  {
   "cell_type": "code",
   "execution_count": 18,
   "metadata": {},
   "outputs": [
    {
     "name": "stdout",
     "output_type": "stream",
     "text": [
      "     ID  AGE     JOB  MARITAL    EDUCATION DBM_DEFAULT HOUSING LOAN  \\\n",
      "0  8746   54  admin.  married  high.school          no     yes   no   \n",
      "\n",
      "     CONTACT DBM_MONTH  ... CAMPAIGN  PDAYS  PREVIOUS     POUTCOME  \\\n",
      "0  telephone       jun  ...        1    999         0  nonexistent   \n",
      "\n",
      "   EMP_VAR_RATE CONS_PRICE_IDX  CONS_CONF_IDX  EURIBOR3M  NREMPLOYED  LABEL  \n",
      "0           1.4         94.465          -41.8      4.866        5228     no  \n",
      "\n",
      "[1 rows x 44 columns]\n"
     ]
    }
   ],
   "source": [
    "print(dataset5.head(1).collect())"
   ]
  },
  {
   "cell_type": "code",
   "execution_count": 19,
   "metadata": {},
   "outputs": [],
   "source": [
    "dataset6 = dataset4.select(\"ID\", \"AGE\", \"JOB\")"
   ]
  },
  {
   "cell_type": "code",
   "execution_count": 20,
   "metadata": {},
   "outputs": [
    {
     "name": "stdout",
     "output_type": "stream",
     "text": [
      "     ID  AGE     JOB\n",
      "0  8746   54  admin.\n"
     ]
    }
   ],
   "source": [
    "print(dataset6.head().collect())"
   ]
  },
  {
   "cell_type": "code",
   "execution_count": 21,
   "metadata": {},
   "outputs": [],
   "source": [
    "dataset7 = dataset4.select(\"ID\", \"AGE\", \"JOB\", ('\"AGE\"*2', \"TWICE_AGE\"))"
   ]
  },
  {
   "cell_type": "code",
   "execution_count": 22,
   "metadata": {},
   "outputs": [
    {
     "name": "stdout",
     "output_type": "stream",
     "text": [
      "     ID  AGE     JOB  TWICE_AGE\n",
      "0  8746   54  admin.        108\n"
     ]
    }
   ],
   "source": [
    "print(dataset7.head().collect())"
   ]
  },
  {
   "cell_type": "code",
   "execution_count": 23,
   "metadata": {},
   "outputs": [
    {
     "data": {
      "text/plain": [
       "<hana_ml.dataframe.DataFrame at 0x1f789c2af70>"
      ]
     },
     "execution_count": 23,
     "metadata": {},
     "output_type": "execute_result"
    }
   ],
   "source": [
    "dataset7.save(\"#MYTEST\")"
   ]
  },
  {
   "cell_type": "code",
   "execution_count": 24,
   "metadata": {},
   "outputs": [],
   "source": [
    "dataset8 = connection_context.table(\"#MYTEST\")"
   ]
  },
  {
   "cell_type": "code",
   "execution_count": 25,
   "metadata": {},
   "outputs": [
    {
     "ename": "ProgrammingError",
     "evalue": "(259, 'invalid table name:  Could not find table/view #MYTEST in schema PAL_TEST: line 1 col 36 (at pos 35)')",
     "output_type": "error",
     "traceback": [
      "\u001b[1;31m---------------------------------------------------------------------------\u001b[0m",
      "\u001b[1;31mProgrammingError\u001b[0m                          Traceback (most recent call last)",
      "\u001b[1;32m<ipython-input-25-78441aa3d128>\u001b[0m in \u001b[0;36m<module>\u001b[1;34m\u001b[0m\n\u001b[1;32m----> 1\u001b[1;33m \u001b[0mprint\u001b[0m\u001b[1;33m(\u001b[0m\u001b[0mdataset8\u001b[0m\u001b[1;33m.\u001b[0m\u001b[0mhead\u001b[0m\u001b[1;33m(\u001b[0m\u001b[1;33m)\u001b[0m\u001b[1;33m.\u001b[0m\u001b[0mcollect\u001b[0m\u001b[1;33m(\u001b[0m\u001b[1;33m)\u001b[0m\u001b[1;33m)\u001b[0m\u001b[1;33m\u001b[0m\u001b[1;33m\u001b[0m\u001b[0m\n\u001b[0m",
      "\u001b[1;32mc:\\users\\i319826\\documents\\github\\hanamlapi\\src\\hana_ml\\dataframe.py\u001b[0m in \u001b[0;36mcollect\u001b[1;34m(self, fetch_size, geometries, convert_geo_to_shapely)\u001b[0m\n\u001b[0;32m   2677\u001b[0m         \u001b[0mselect_statement\u001b[0m \u001b[1;33m=\u001b[0m \u001b[0mself\u001b[0m\u001b[1;33m.\u001b[0m\u001b[0mselect_statement\u001b[0m\u001b[1;33m\u001b[0m\u001b[1;33m\u001b[0m\u001b[0m\n\u001b[0;32m   2678\u001b[0m         \u001b[1;32mif\u001b[0m \u001b[0mgeometries\u001b[0m\u001b[1;33m:\u001b[0m\u001b[1;33m\u001b[0m\u001b[1;33m\u001b[0m\u001b[0m\n\u001b[1;32m-> 2679\u001b[1;33m             \u001b[0mgeo_cols\u001b[0m \u001b[1;33m=\u001b[0m \u001b[0mself\u001b[0m\u001b[1;33m.\u001b[0m\u001b[0mgeometries\u001b[0m\u001b[1;33m\u001b[0m\u001b[1;33m\u001b[0m\u001b[0m\n\u001b[0m\u001b[0;32m   2680\u001b[0m             \u001b[1;32mif\u001b[0m \u001b[0mlen\u001b[0m\u001b[1;33m(\u001b[0m\u001b[0mgeo_cols\u001b[0m\u001b[1;33m)\u001b[0m \u001b[1;33m==\u001b[0m \u001b[1;36m0\u001b[0m\u001b[1;33m:\u001b[0m\u001b[1;33m\u001b[0m\u001b[1;33m\u001b[0m\u001b[0m\n\u001b[0;32m   2681\u001b[0m                 \u001b[0mselect_statement\u001b[0m \u001b[1;33m=\u001b[0m \u001b[0mself\u001b[0m\u001b[1;33m.\u001b[0m\u001b[0mselect_statement\u001b[0m\u001b[1;33m\u001b[0m\u001b[1;33m\u001b[0m\u001b[0m\n",
      "\u001b[1;32mc:\\users\\i319826\\documents\\github\\hanamlapi\\src\\hana_ml\\dataframe.py\u001b[0m in \u001b[0;36mgeometries\u001b[1;34m(self)\u001b[0m\n\u001b[0;32m   2732\u001b[0m             \u001b[0mList\u001b[0m \u001b[1;32mwith\u001b[0m \u001b[0mgeometry\u001b[0m \u001b[0mcolumns\u001b[0m\u001b[1;33m\u001b[0m\u001b[1;33m\u001b[0m\u001b[0m\n\u001b[0;32m   2733\u001b[0m         \"\"\"\n\u001b[1;32m-> 2734\u001b[1;33m         \u001b[1;32mreturn\u001b[0m \u001b[1;33m[\u001b[0m\u001b[0mcol\u001b[0m\u001b[1;33m[\u001b[0m\u001b[1;36m0\u001b[0m\u001b[1;33m]\u001b[0m \u001b[1;32mfor\u001b[0m \u001b[0mcol\u001b[0m \u001b[1;32min\u001b[0m \u001b[0mself\u001b[0m\u001b[1;33m.\u001b[0m\u001b[0mdtypes\u001b[0m\u001b[1;33m(\u001b[0m\u001b[1;33m)\u001b[0m \u001b[1;32mif\u001b[0m \u001b[0mcol\u001b[0m\u001b[1;33m[\u001b[0m\u001b[1;36m1\u001b[0m\u001b[1;33m]\u001b[0m \u001b[1;32min\u001b[0m \u001b[1;33m[\u001b[0m\u001b[1;34m\"GEOMETRY\"\u001b[0m\u001b[1;33m,\u001b[0m \u001b[1;34m\"POINT\"\u001b[0m\u001b[1;33m]\u001b[0m\u001b[1;33m]\u001b[0m\u001b[1;33m\u001b[0m\u001b[1;33m\u001b[0m\u001b[0m\n\u001b[0m\u001b[0;32m   2735\u001b[0m \u001b[1;33m\u001b[0m\u001b[0m\n\u001b[0;32m   2736\u001b[0m     \u001b[1;33m@\u001b[0m\u001b[0mproperty\u001b[0m\u001b[1;33m\u001b[0m\u001b[1;33m\u001b[0m\u001b[0m\n",
      "\u001b[1;32mc:\\users\\i319826\\documents\\github\\hanamlapi\\src\\hana_ml\\dataframe.py\u001b[0m in \u001b[0;36mdtypes\u001b[1;34m(self, subset)\u001b[0m\n\u001b[0;32m   1683\u001b[0m         \u001b[1;32mif\u001b[0m \u001b[0mself\u001b[0m\u001b[1;33m.\u001b[0m\u001b[0m_dtypes\u001b[0m \u001b[1;32mis\u001b[0m \u001b[1;32mNone\u001b[0m\u001b[1;33m:\u001b[0m\u001b[1;33m\u001b[0m\u001b[1;33m\u001b[0m\u001b[0m\n\u001b[0;32m   1684\u001b[0m             \u001b[1;32mwith\u001b[0m \u001b[0mself\u001b[0m\u001b[1;33m.\u001b[0m\u001b[0mconnection_context\u001b[0m\u001b[1;33m.\u001b[0m\u001b[0mconnection\u001b[0m\u001b[1;33m.\u001b[0m\u001b[0mcursor\u001b[0m\u001b[1;33m(\u001b[0m\u001b[1;33m)\u001b[0m \u001b[1;32mas\u001b[0m \u001b[0mcur\u001b[0m\u001b[1;33m:\u001b[0m\u001b[1;33m\u001b[0m\u001b[1;33m\u001b[0m\u001b[0m\n\u001b[1;32m-> 1685\u001b[1;33m                 \u001b[0mcur\u001b[0m\u001b[1;33m.\u001b[0m\u001b[0mexecute\u001b[0m\u001b[1;33m(\u001b[0m\u001b[0mself\u001b[0m\u001b[1;33m.\u001b[0m\u001b[0mselect_statement\u001b[0m\u001b[1;33m)\u001b[0m\u001b[1;33m\u001b[0m\u001b[1;33m\u001b[0m\u001b[0m\n\u001b[0m\u001b[0;32m   1686\u001b[0m                 \u001b[0mself\u001b[0m\u001b[1;33m.\u001b[0m\u001b[0m_dtypes\u001b[0m \u001b[1;33m=\u001b[0m \u001b[1;33m[\u001b[0m\u001b[1;33m(\u001b[0m\u001b[0mc\u001b[0m\u001b[1;33m[\u001b[0m\u001b[1;36m0\u001b[0m\u001b[1;33m]\u001b[0m\u001b[1;33m,\u001b[0m \u001b[0mTYPE_CODES\u001b[0m\u001b[1;33m[\u001b[0m\u001b[0mc\u001b[0m\u001b[1;33m[\u001b[0m\u001b[1;36m1\u001b[0m\u001b[1;33m]\u001b[0m\u001b[1;33m]\u001b[0m\u001b[1;33m,\u001b[0m \u001b[0mc\u001b[0m\u001b[1;33m[\u001b[0m\u001b[1;36m2\u001b[0m\u001b[1;33m]\u001b[0m\u001b[1;33m,\u001b[0m \u001b[0mc\u001b[0m\u001b[1;33m[\u001b[0m\u001b[1;36m3\u001b[0m\u001b[1;33m]\u001b[0m\u001b[1;33m,\u001b[0m \u001b[0mc\u001b[0m\u001b[1;33m[\u001b[0m\u001b[1;36m4\u001b[0m\u001b[1;33m]\u001b[0m\u001b[1;33m,\u001b[0m \u001b[0mc\u001b[0m\u001b[1;33m[\u001b[0m\u001b[1;36m5\u001b[0m\u001b[1;33m]\u001b[0m\u001b[1;33m)\u001b[0m \u001b[1;32mfor\u001b[0m \u001b[0mc\u001b[0m \u001b[1;32min\u001b[0m \u001b[0mcur\u001b[0m\u001b[1;33m.\u001b[0m\u001b[0mdescription\u001b[0m\u001b[1;33m]\u001b[0m\u001b[1;33m\u001b[0m\u001b[1;33m\u001b[0m\u001b[0m\n\u001b[0;32m   1687\u001b[0m         \u001b[1;32mif\u001b[0m \u001b[0msubset\u001b[0m \u001b[1;32mis\u001b[0m \u001b[1;32mNone\u001b[0m\u001b[1;33m:\u001b[0m\u001b[1;33m\u001b[0m\u001b[1;33m\u001b[0m\u001b[0m\n",
      "\u001b[1;31mProgrammingError\u001b[0m: (259, 'invalid table name:  Could not find table/view #MYTEST in schema PAL_TEST: line 1 col 36 (at pos 35)')"
     ]
    }
   ],
   "source": [
    "print(dataset8.head().collect())"
   ]
  },
  {
   "cell_type": "code",
   "execution_count": null,
   "metadata": {
    "collapsed": true,
    "jupyter": {
     "outputs_hidden": true
    }
   },
   "outputs": [],
   "source": []
  }
 ],
 "metadata": {
  "kernelspec": {
   "display_name": "Python 3",
   "language": "python",
   "name": "python3"
  },
  "language_info": {
   "codemirror_mode": {
    "name": "ipython",
    "version": 3
   },
   "file_extension": ".py",
   "mimetype": "text/x-python",
   "name": "python",
   "nbconvert_exporter": "python",
   "pygments_lexer": "ipython3",
   "version": "3.9.5"
  }
 },
 "nbformat": 4,
 "nbformat_minor": 4
}

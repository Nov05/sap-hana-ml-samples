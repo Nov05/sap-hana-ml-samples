{
 "cells": [
  {
   "cell_type": "markdown",
   "metadata": {},
   "source": [
    "# Python HANA ML APL"
   ]
  },
  {
   "cell_type": "markdown",
   "metadata": {},
   "source": [
    "<div class=\"alert alert-block alert-info\">\n",
    "<b>Reports on cashflow time series model.</b> <br>\n",
    "</div>"
   ]
  },
  {
   "cell_type": "markdown",
   "metadata": {
    "slideshow": {
     "slide_type": "fragment"
    }
   },
   "source": [
    "### Create an HANA Dataframe for the actual series"
   ]
  },
  {
   "cell_type": "code",
   "execution_count": 1,
   "metadata": {},
   "outputs": [],
   "source": [
    "from hana_ml import dataframe as hd\n",
    "conn = hd.ConnectionContext(userkey='MLMDA_KEY')\n",
    "sql_cmd = 'SELECT \"Date\", \"Cash\", \"MondayMonthInd\", \"FridayMonthInd\" FROM \"APL_SAMPLES\".\"CASHFLOWS_FULL\" ORDER BY 1'\n",
    "series_in = hd.DataFrame(conn, sql_cmd)"
   ]
  },
  {
   "cell_type": "code",
   "execution_count": 2,
   "metadata": {},
   "outputs": [
    {
     "data": {
      "text/html": [
       "<div>\n",
       "<style scoped>\n",
       "    .dataframe tbody tr th:only-of-type {\n",
       "        vertical-align: middle;\n",
       "    }\n",
       "\n",
       "    .dataframe tbody tr th {\n",
       "        vertical-align: top;\n",
       "    }\n",
       "\n",
       "    .dataframe thead th {\n",
       "        text-align: right;\n",
       "    }\n",
       "</style>\n",
       "<table border=\"1\" class=\"dataframe\">\n",
       "  <thead>\n",
       "    <tr style=\"text-align: right;\">\n",
       "      <th></th>\n",
       "      <th>Date</th>\n",
       "      <th>Cash</th>\n",
       "      <th>MondayMonthInd</th>\n",
       "      <th>FridayMonthInd</th>\n",
       "    </tr>\n",
       "  </thead>\n",
       "  <tbody>\n",
       "    <tr>\n",
       "      <th>0</th>\n",
       "      <td>2001-01-02</td>\n",
       "      <td>4586.144145</td>\n",
       "      <td>0</td>\n",
       "      <td>0</td>\n",
       "    </tr>\n",
       "    <tr>\n",
       "      <th>1</th>\n",
       "      <td>2001-01-03</td>\n",
       "      <td>3750.2201</td>\n",
       "      <td>0</td>\n",
       "      <td>0</td>\n",
       "    </tr>\n",
       "    <tr>\n",
       "      <th>2</th>\n",
       "      <td>2001-01-04</td>\n",
       "      <td>4978.993643</td>\n",
       "      <td>0</td>\n",
       "      <td>0</td>\n",
       "    </tr>\n",
       "    <tr>\n",
       "      <th>3</th>\n",
       "      <td>2001-01-05</td>\n",
       "      <td>5803.562791</td>\n",
       "      <td>0</td>\n",
       "      <td>1</td>\n",
       "    </tr>\n",
       "    <tr>\n",
       "      <th>4</th>\n",
       "      <td>2001-01-08</td>\n",
       "      <td>5711.32164</td>\n",
       "      <td>1</td>\n",
       "      <td>0</td>\n",
       "    </tr>\n",
       "  </tbody>\n",
       "</table>\n",
       "</div>"
      ],
      "text/plain": [
       "         Date         Cash  MondayMonthInd  FridayMonthInd\n",
       "0  2001-01-02  4586.144145               0               0\n",
       "1  2001-01-03    3750.2201               0               0\n",
       "2  2001-01-04  4978.993643               0               0\n",
       "3  2001-01-05  5803.562791               0               1\n",
       "4  2001-01-08   5711.32164               1               0"
      ]
     },
     "execution_count": 2,
     "metadata": {},
     "output_type": "execute_result"
    }
   ],
   "source": [
    "series_in.head(5).collect()"
   ]
  },
  {
   "cell_type": "markdown",
   "metadata": {},
   "source": [
    "### Fit with APL"
   ]
  },
  {
   "cell_type": "markdown",
   "metadata": {},
   "source": [
    "#### Modeling"
   ]
  },
  {
   "cell_type": "code",
   "execution_count": 3,
   "metadata": {},
   "outputs": [],
   "source": [
    "from hana_ml.algorithms.apl.time_series import AutoTimeSeries\n",
    "apl_model = AutoTimeSeries(time_column_name= 'Date', target= 'Cash', horizon= 21)\n",
    "apl_model.set_params(\n",
    "    other_params = {'force_positive_forecast': True},\n",
    "    other_train_apl_aliases = {'APL/DecomposeInfluencers':'true'})\n",
    "apl_model.fit(data = series_in)"
   ]
  },
  {
   "cell_type": "markdown",
   "metadata": {},
   "source": [
    " #### Reports"
   ]
  },
  {
   "cell_type": "code",
   "execution_count": 4,
   "metadata": {},
   "outputs": [
    {
     "data": {
      "text/html": [
       "<style  type=\"text/css\" >\n",
       "</style><table id=\"T_181654bb_67f4_11ec_83ee_f875a435d11a\" ><thead>    <tr>        <th class=\"col_heading level0 col0\" >Target Variable</th>        <th class=\"col_heading level0 col1\" >First Date</th>        <th class=\"col_heading level0 col2\" >Last Date</th>        <th class=\"col_heading level0 col3\" >Horizon</th>        <th class=\"col_heading level0 col4\" >Granularity</th>    </tr></thead><tbody>\n",
       "                <tr>\n",
       "                                <td id=\"T_181654bb_67f4_11ec_83ee_f875a435d11arow0_col0\" class=\"data row0 col0\" >Cash</td>\n",
       "                        <td id=\"T_181654bb_67f4_11ec_83ee_f875a435d11arow0_col1\" class=\"data row0 col1\" >2001-01-02</td>\n",
       "                        <td id=\"T_181654bb_67f4_11ec_83ee_f875a435d11arow0_col2\" class=\"data row0 col2\" >2001-12-28</td>\n",
       "                        <td id=\"T_181654bb_67f4_11ec_83ee_f875a435d11arow0_col3\" class=\"data row0 col3\" >21</td>\n",
       "                        <td id=\"T_181654bb_67f4_11ec_83ee_f875a435d11arow0_col4\" class=\"data row0 col4\" >dayAmplitude</td>\n",
       "            </tr>\n",
       "    </tbody></table>"
      ],
      "text/plain": [
       "<pandas.io.formats.style.Styler at 0x25e60034250>"
      ]
     },
     "execution_count": 4,
     "metadata": {},
     "output_type": "execute_result"
    }
   ],
   "source": [
    "df = apl_model.get_debrief_report('TimeSeries_ModelOverview').collect()\n",
    "df = df[['Target Variable','First Date','Last Date','Horizon','Granularity']]\n",
    "df.style.hide_index()"
   ]
  },
  {
   "cell_type": "code",
   "execution_count": 5,
   "metadata": {},
   "outputs": [
    {
     "data": {
      "text/html": [
       "<style  type=\"text/css\" >\n",
       "</style><table id=\"T_183a6dbb_67f4_11ec_bf79_f875a435d11a\" ><thead>    <tr>        <th class=\"col_heading level0 col0\" >Partition</th>        <th class=\"col_heading level0 col1\" >MAE</th>        <th class=\"col_heading level0 col2\" >MAPE</th>        <th class=\"col_heading level0 col3\" >RMSE</th>    </tr></thead><tbody>\n",
       "                <tr>\n",
       "                                <td id=\"T_183a6dbb_67f4_11ec_bf79_f875a435d11arow0_col0\" class=\"data row0 col0\" >Validation</td>\n",
       "                        <td id=\"T_183a6dbb_67f4_11ec_bf79_f875a435d11arow0_col1\" class=\"data row0 col1\" >936.118</td>\n",
       "                        <td id=\"T_183a6dbb_67f4_11ec_bf79_f875a435d11arow0_col2\" class=\"data row0 col2\" >14.3%</td>\n",
       "                        <td id=\"T_183a6dbb_67f4_11ec_bf79_f875a435d11arow0_col3\" class=\"data row0 col3\" >1,301.372</td>\n",
       "            </tr>\n",
       "    </tbody></table>"
      ],
      "text/plain": [
       "<pandas.io.formats.style.Styler at 0x25e61aaff70>"
      ]
     },
     "execution_count": 5,
     "metadata": {},
     "output_type": "execute_result"
    }
   ],
   "source": [
    "my_filter = \"\\\"Partition\\\"='Validation'\"\n",
    "df = apl_model.get_debrief_report('TimeSeries_Performance').filter(my_filter).collect()\n",
    "df = df[['Partition','MAE','MAPE','RMSE']]\n",
    "format_dict = {'MAE':'{:,.3f}','MAPE':'{:,.1f}%','RMSE':'{:,.3f}'}\n",
    "df.style.format(format_dict).hide_index()"
   ]
  },
  {
   "cell_type": "code",
   "execution_count": 6,
   "metadata": {},
   "outputs": [
    {
     "data": {
      "text/html": [
       "<style  type=\"text/css\" >\n",
       "</style><table id=\"T_185ed602_67f4_11ec_b6c8_f875a435d11a\" ><thead>    <tr>        <th class=\"col_heading level0 col0\" >Component Type</th>        <th class=\"col_heading level0 col1\" >Component Value</th>    </tr></thead><tbody>\n",
       "                <tr>\n",
       "                                <td id=\"T_185ed602_67f4_11ec_b6c8_f875a435d11arow0_col0\" class=\"data row0 col0\" >Trend</td>\n",
       "                        <td id=\"T_185ed602_67f4_11ec_b6c8_f875a435d11arow0_col1\" class=\"data row0 col1\" >Polynom( Date)</td>\n",
       "            </tr>\n",
       "            <tr>\n",
       "                                <td id=\"T_185ed602_67f4_11ec_b6c8_f875a435d11arow1_col0\" class=\"data row1 col0\" >Cycles</td>\n",
       "                        <td id=\"T_185ed602_67f4_11ec_b6c8_f875a435d11arow1_col1\" class=\"data row1 col1\" >Sum(PeriodicExtrasPred_MondayMonthInd)</td>\n",
       "            </tr>\n",
       "            <tr>\n",
       "                                <td id=\"T_185ed602_67f4_11ec_b6c8_f875a435d11arow2_col0\" class=\"data row2 col0\" >Fluctuations</td>\n",
       "                        <td id=\"T_185ed602_67f4_11ec_b6c8_f875a435d11arow2_col1\" class=\"data row2 col1\" >None</td>\n",
       "            </tr>\n",
       "    </tbody></table>"
      ],
      "text/plain": [
       "<pandas.io.formats.style.Styler at 0x25e60034a00>"
      ]
     },
     "execution_count": 6,
     "metadata": {},
     "output_type": "execute_result"
    }
   ],
   "source": [
    "df = apl_model.get_debrief_report('TimeSeries_Components').collect()\n",
    "df = df[['Component Type','Component Value']]\n",
    "df.style.hide_index()"
   ]
  },
  {
   "cell_type": "code",
   "execution_count": 7,
   "metadata": {},
   "outputs": [
    {
     "data": {
      "text/html": [
       "<style  type=\"text/css\" >\n",
       "</style><table id=\"T_187cd6ec_67f4_11ec_a2c3_f875a435d11a\" ><thead>    <tr>        <th class=\"col_heading level0 col0\" >Row</th>        <th class=\"col_heading level0 col1\" >Type</th>        <th class=\"col_heading level0 col2\" >Item</th>        <th class=\"col_heading level0 col3\" >Relative Impact</th>    </tr></thead><tbody>\n",
       "                <tr>\n",
       "                                <td id=\"T_187cd6ec_67f4_11ec_a2c3_f875a435d11arow0_col0\" class=\"data row0 col0\" >1</td>\n",
       "                        <td id=\"T_187cd6ec_67f4_11ec_a2c3_f875a435d11arow0_col1\" class=\"data row0 col1\" >Trend</td>\n",
       "                        <td id=\"T_187cd6ec_67f4_11ec_a2c3_f875a435d11arow0_col2\" class=\"data row0 col2\" >Quadratic</td>\n",
       "                        <td id=\"T_187cd6ec_67f4_11ec_a2c3_f875a435d11arow0_col3\" class=\"data row0 col3\" >0.840</td>\n",
       "            </tr>\n",
       "            <tr>\n",
       "                                <td id=\"T_187cd6ec_67f4_11ec_a2c3_f875a435d11arow1_col0\" class=\"data row1 col0\" >2</td>\n",
       "                        <td id=\"T_187cd6ec_67f4_11ec_a2c3_f875a435d11arow1_col1\" class=\"data row1 col1\" >Cycles</td>\n",
       "                        <td id=\"T_187cd6ec_67f4_11ec_a2c3_f875a435d11arow1_col2\" class=\"data row1 col2\" >None</td>\n",
       "                        <td id=\"T_187cd6ec_67f4_11ec_a2c3_f875a435d11arow1_col3\" class=\"data row1 col3\" >0.000</td>\n",
       "            </tr>\n",
       "            <tr>\n",
       "                                <td id=\"T_187cd6ec_67f4_11ec_a2c3_f875a435d11arow2_col0\" class=\"data row2 col0\" >3</td>\n",
       "                        <td id=\"T_187cd6ec_67f4_11ec_a2c3_f875a435d11arow2_col1\" class=\"data row2 col1\" >Influencers</td>\n",
       "                        <td id=\"T_187cd6ec_67f4_11ec_a2c3_f875a435d11arow2_col2\" class=\"data row2 col2\" >MondayMonthInd</td>\n",
       "                        <td id=\"T_187cd6ec_67f4_11ec_a2c3_f875a435d11arow2_col3\" class=\"data row2 col3\" >0.075</td>\n",
       "            </tr>\n",
       "            <tr>\n",
       "                                <td id=\"T_187cd6ec_67f4_11ec_a2c3_f875a435d11arow3_col0\" class=\"data row3 col0\" >4</td>\n",
       "                        <td id=\"T_187cd6ec_67f4_11ec_a2c3_f875a435d11arow3_col1\" class=\"data row3 col1\" >Fluctuations</td>\n",
       "                        <td id=\"T_187cd6ec_67f4_11ec_a2c3_f875a435d11arow3_col2\" class=\"data row3 col2\" >None</td>\n",
       "                        <td id=\"T_187cd6ec_67f4_11ec_a2c3_f875a435d11arow3_col3\" class=\"data row3 col3\" >0.000</td>\n",
       "            </tr>\n",
       "            <tr>\n",
       "                                <td id=\"T_187cd6ec_67f4_11ec_a2c3_f875a435d11arow4_col0\" class=\"data row4 col0\" >5</td>\n",
       "                        <td id=\"T_187cd6ec_67f4_11ec_a2c3_f875a435d11arow4_col1\" class=\"data row4 col1\" >Residuals</td>\n",
       "                        <td id=\"T_187cd6ec_67f4_11ec_a2c3_f875a435d11arow4_col2\" class=\"data row4 col2\" >None</td>\n",
       "                        <td id=\"T_187cd6ec_67f4_11ec_a2c3_f875a435d11arow4_col3\" class=\"data row4 col3\" >0.085</td>\n",
       "            </tr>\n",
       "    </tbody></table>"
      ],
      "text/plain": [
       "<pandas.io.formats.style.Styler at 0x25e61aaf070>"
      ]
     },
     "execution_count": 7,
     "metadata": {},
     "output_type": "execute_result"
    }
   ],
   "source": [
    "df = apl_model.get_debrief_report('TimeSeries_Decomposition').collect()\n",
    "df = df[['Row','Type','Item','Relative Impact']]\n",
    "df = df.sort_values(by=['Row'])\n",
    "format_dict = {'Relative Impact':'{:,.3f}'}\n",
    "df.style.format(format_dict).hide_index()"
   ]
  },
  {
   "cell_type": "code",
   "execution_count": 8,
   "metadata": {},
   "outputs": [
    {
     "data": {
      "text/html": [
       "<style  type=\"text/css\" >\n",
       "</style><table id=\"T_189e523b_67f4_11ec_b496_f875a435d11a\" ><thead>    <tr>        <th class=\"col_heading level0 col0\" >Partition</th>        <th class=\"col_heading level0 col1\" >Date</th>        <th class=\"col_heading level0 col2\" >Signal</th>        <th class=\"col_heading level0 col3\" >Forecast</th>    </tr></thead><tbody>\n",
       "                <tr>\n",
       "                                <td id=\"T_189e523b_67f4_11ec_b496_f875a435d11arow0_col0\" class=\"data row0 col0\" >Estimation</td>\n",
       "                        <td id=\"T_189e523b_67f4_11ec_b496_f875a435d11arow0_col1\" class=\"data row0 col1\" >2001-02-16</td>\n",
       "                        <td id=\"T_189e523b_67f4_11ec_b496_f875a435d11arow0_col2\" class=\"data row0 col2\" >8888.033000</td>\n",
       "                        <td id=\"T_189e523b_67f4_11ec_b496_f875a435d11arow0_col3\" class=\"data row0 col3\" >4376.910000</td>\n",
       "            </tr>\n",
       "            <tr>\n",
       "                                <td id=\"T_189e523b_67f4_11ec_b496_f875a435d11arow1_col0\" class=\"data row1 col0\" >Estimation</td>\n",
       "                        <td id=\"T_189e523b_67f4_11ec_b496_f875a435d11arow1_col1\" class=\"data row1 col1\" >2001-02-19</td>\n",
       "                        <td id=\"T_189e523b_67f4_11ec_b496_f875a435d11arow1_col2\" class=\"data row1 col2\" >24659.179000</td>\n",
       "                        <td id=\"T_189e523b_67f4_11ec_b496_f875a435d11arow1_col3\" class=\"data row1 col3\" >19248.851000</td>\n",
       "            </tr>\n",
       "            <tr>\n",
       "                                <td id=\"T_189e523b_67f4_11ec_b496_f875a435d11arow2_col0\" class=\"data row2 col0\" >Estimation</td>\n",
       "                        <td id=\"T_189e523b_67f4_11ec_b496_f875a435d11arow2_col1\" class=\"data row2 col1\" >2001-04-24</td>\n",
       "                        <td id=\"T_189e523b_67f4_11ec_b496_f875a435d11arow2_col2\" class=\"data row2 col2\" >8096.141000</td>\n",
       "                        <td id=\"T_189e523b_67f4_11ec_b496_f875a435d11arow2_col3\" class=\"data row2 col3\" >3965.624000</td>\n",
       "            </tr>\n",
       "            <tr>\n",
       "                                <td id=\"T_189e523b_67f4_11ec_b496_f875a435d11arow3_col0\" class=\"data row3 col0\" >Estimation</td>\n",
       "                        <td id=\"T_189e523b_67f4_11ec_b496_f875a435d11arow3_col1\" class=\"data row3 col1\" >2001-08-20</td>\n",
       "                        <td id=\"T_189e523b_67f4_11ec_b496_f875a435d11arow3_col2\" class=\"data row3 col2\" >14552.070000</td>\n",
       "                        <td id=\"T_189e523b_67f4_11ec_b496_f875a435d11arow3_col3\" class=\"data row3 col3\" >19446.136000</td>\n",
       "            </tr>\n",
       "            <tr>\n",
       "                                <td id=\"T_189e523b_67f4_11ec_b496_f875a435d11arow4_col0\" class=\"data row4 col0\" >Validation</td>\n",
       "                        <td id=\"T_189e523b_67f4_11ec_b496_f875a435d11arow4_col1\" class=\"data row4 col1\" >2001-12-14</td>\n",
       "                        <td id=\"T_189e523b_67f4_11ec_b496_f875a435d11arow4_col2\" class=\"data row4 col2\" >11464.127000</td>\n",
       "                        <td id=\"T_189e523b_67f4_11ec_b496_f875a435d11arow4_col3\" class=\"data row4 col3\" >6733.448000</td>\n",
       "            </tr>\n",
       "    </tbody></table>"
      ],
      "text/plain": [
       "<pandas.io.formats.style.Styler at 0x25e625bac70>"
      ]
     },
     "execution_count": 8,
     "metadata": {},
     "output_type": "execute_result"
    }
   ],
   "source": [
    "df = apl_model.get_debrief_report('TimeSeries_Outliers').collect()\n",
    "df = df[['Partition','Date','Signal','Forecast']]\n",
    "df.style.hide_index()"
   ]
  },
  {
   "cell_type": "markdown",
   "metadata": {},
   "source": [
    "### Predict with APL"
   ]
  },
  {
   "cell_type": "code",
   "execution_count": 9,
   "metadata": {},
   "outputs": [],
   "source": [
    "apl_model.set_params(\n",
    "    extra_applyout_settings = {'APL/ApplyExtraMode': 'First Forecast with Stable Components and Residues and Error Bars'})\n",
    "series_out = apl_model.predict(data = series_in)\n",
    "df_out = series_out.collect()"
   ]
  },
  {
   "cell_type": "code",
   "execution_count": 10,
   "metadata": {},
   "outputs": [
    {
     "data": {
      "text/html": [
       "<div>\n",
       "<style scoped>\n",
       "    .dataframe tbody tr th:only-of-type {\n",
       "        vertical-align: middle;\n",
       "    }\n",
       "\n",
       "    .dataframe tbody tr th {\n",
       "        vertical-align: top;\n",
       "    }\n",
       "\n",
       "    .dataframe thead th {\n",
       "        text-align: right;\n",
       "    }\n",
       "</style>\n",
       "<table border=\"1\" class=\"dataframe\">\n",
       "  <thead>\n",
       "    <tr style=\"text-align: right;\">\n",
       "      <th></th>\n",
       "      <th>Date</th>\n",
       "      <th>ACTUAL</th>\n",
       "      <th>LOWER_INT_95PCT</th>\n",
       "      <th>UPPER_INT_95PCT</th>\n",
       "      <th>PREDICTED_1</th>\n",
       "      <th>Trend_1</th>\n",
       "      <th>Cycles_1</th>\n",
       "      <th>ExtraPreds_1</th>\n",
       "      <th>Fluctuations_1</th>\n",
       "      <th>Residues_1</th>\n",
       "    </tr>\n",
       "  </thead>\n",
       "  <tbody>\n",
       "    <tr>\n",
       "      <th>265</th>\n",
       "      <td>2002-01-23</td>\n",
       "      <td>None</td>\n",
       "      <td>5,310.1</td>\n",
       "      <td>10,411.5</td>\n",
       "      <td>7,860.8</td>\n",
       "      <td>7,797.4</td>\n",
       "      <td>0.0</td>\n",
       "      <td>63.4</td>\n",
       "      <td>0.0</td>\n",
       "      <td>nan</td>\n",
       "    </tr>\n",
       "    <tr>\n",
       "      <th>266</th>\n",
       "      <td>2002-01-24</td>\n",
       "      <td>None</td>\n",
       "      <td>5,340.7</td>\n",
       "      <td>10,442.1</td>\n",
       "      <td>7,891.4</td>\n",
       "      <td>7,828.0</td>\n",
       "      <td>0.0</td>\n",
       "      <td>63.4</td>\n",
       "      <td>0.0</td>\n",
       "      <td>nan</td>\n",
       "    </tr>\n",
       "    <tr>\n",
       "      <th>267</th>\n",
       "      <td>2002-01-25</td>\n",
       "      <td>None</td>\n",
       "      <td>5,371.5</td>\n",
       "      <td>10,472.9</td>\n",
       "      <td>7,922.2</td>\n",
       "      <td>7,858.8</td>\n",
       "      <td>0.0</td>\n",
       "      <td>63.4</td>\n",
       "      <td>0.0</td>\n",
       "      <td>nan</td>\n",
       "    </tr>\n",
       "    <tr>\n",
       "      <th>268</th>\n",
       "      <td>2002-01-28</td>\n",
       "      <td>None</td>\n",
       "      <td>4,885.4</td>\n",
       "      <td>9,986.7</td>\n",
       "      <td>7,436.0</td>\n",
       "      <td>7,951.8</td>\n",
       "      <td>0.0</td>\n",
       "      <td>-515.7</td>\n",
       "      <td>0.0</td>\n",
       "      <td>nan</td>\n",
       "    </tr>\n",
       "    <tr>\n",
       "      <th>269</th>\n",
       "      <td>2002-01-29</td>\n",
       "      <td>None</td>\n",
       "      <td>5,495.7</td>\n",
       "      <td>10,597.1</td>\n",
       "      <td>8,046.4</td>\n",
       "      <td>7,983.0</td>\n",
       "      <td>0.0</td>\n",
       "      <td>63.4</td>\n",
       "      <td>0.0</td>\n",
       "      <td>nan</td>\n",
       "    </tr>\n",
       "    <tr>\n",
       "      <th>270</th>\n",
       "      <td>2002-01-30</td>\n",
       "      <td>None</td>\n",
       "      <td>5,527.0</td>\n",
       "      <td>10,628.4</td>\n",
       "      <td>8,077.7</td>\n",
       "      <td>8,014.3</td>\n",
       "      <td>0.0</td>\n",
       "      <td>63.4</td>\n",
       "      <td>0.0</td>\n",
       "      <td>nan</td>\n",
       "    </tr>\n",
       "    <tr>\n",
       "      <th>271</th>\n",
       "      <td>2002-01-31</td>\n",
       "      <td>None</td>\n",
       "      <td>5,558.5</td>\n",
       "      <td>10,659.9</td>\n",
       "      <td>8,109.2</td>\n",
       "      <td>8,045.8</td>\n",
       "      <td>0.0</td>\n",
       "      <td>63.4</td>\n",
       "      <td>0.0</td>\n",
       "      <td>nan</td>\n",
       "    </tr>\n",
       "  </tbody>\n",
       "</table>\n",
       "</div>"
      ],
      "text/plain": [
       "           Date ACTUAL  LOWER_INT_95PCT  UPPER_INT_95PCT  PREDICTED_1  \\\n",
       "265  2002-01-23   None          5,310.1         10,411.5      7,860.8   \n",
       "266  2002-01-24   None          5,340.7         10,442.1      7,891.4   \n",
       "267  2002-01-25   None          5,371.5         10,472.9      7,922.2   \n",
       "268  2002-01-28   None          4,885.4          9,986.7      7,436.0   \n",
       "269  2002-01-29   None          5,495.7         10,597.1      8,046.4   \n",
       "270  2002-01-30   None          5,527.0         10,628.4      8,077.7   \n",
       "271  2002-01-31   None          5,558.5         10,659.9      8,109.2   \n",
       "\n",
       "     Trend_1  Cycles_1  ExtraPreds_1  Fluctuations_1  Residues_1  \n",
       "265  7,797.4       0.0          63.4             0.0         nan  \n",
       "266  7,828.0       0.0          63.4             0.0         nan  \n",
       "267  7,858.8       0.0          63.4             0.0         nan  \n",
       "268  7,951.8       0.0        -515.7             0.0         nan  \n",
       "269  7,983.0       0.0          63.4             0.0         nan  \n",
       "270  8,014.3       0.0          63.4             0.0         nan  \n",
       "271  8,045.8       0.0          63.4             0.0         nan  "
      ]
     },
     "metadata": {},
     "output_type": "display_data"
    }
   ],
   "source": [
    "import pandas as pd\n",
    "with pd.option_context('display.float_format', '{:,.1f}'.format):\n",
    "    display(df_out.tail(7))"
   ]
  },
  {
   "cell_type": "code",
   "execution_count": null,
   "metadata": {},
   "outputs": [],
   "source": []
  }
 ],
 "metadata": {
  "kernelspec": {
   "display_name": "Python 3",
   "language": "python",
   "name": "python3"
  },
  "language_info": {
   "codemirror_mode": {
    "name": "ipython",
    "version": 3
   },
   "file_extension": ".py",
   "mimetype": "text/x-python",
   "name": "python",
   "nbconvert_exporter": "python",
   "pygments_lexer": "ipython3",
   "version": "3.8.7"
  }
 },
 "nbformat": 4,
 "nbformat_minor": 4
}

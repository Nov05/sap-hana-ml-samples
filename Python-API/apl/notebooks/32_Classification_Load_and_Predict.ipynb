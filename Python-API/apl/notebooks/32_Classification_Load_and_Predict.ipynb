{
 "cells": [
  {
   "cell_type": "markdown",
   "metadata": {},
   "source": [
    "# Python HANA ML APL"
   ]
  },
  {
   "cell_type": "markdown",
   "metadata": {},
   "source": [
    "<div class=\"alert alert-block alert-info\">\n",
    "<b>Predicting Car Insurance Fraud.</b> <br>\n",
    "</div>"
   ]
  },
  {
   "cell_type": "markdown",
   "metadata": {},
   "source": [
    "### Create an HANA Dataframe containing historical Insurance Claims"
   ]
  },
  {
   "cell_type": "code",
   "execution_count": 1,
   "metadata": {
    "scrolled": true
   },
   "outputs": [],
   "source": [
    "from hana_ml import dataframe as hd\n",
    "conn = hd.ConnectionContext(userkey='MLMDA_KEY')\n",
    "hdf_new = conn.table('AUTO_CLAIMS_NEW', schema='APL_SAMPLES')"
   ]
  },
  {
   "cell_type": "code",
   "execution_count": 2,
   "metadata": {},
   "outputs": [
    {
     "data": {
      "text/html": [
       "<div>\n",
       "<style scoped>\n",
       "    .dataframe tbody tr th:only-of-type {\n",
       "        vertical-align: middle;\n",
       "    }\n",
       "\n",
       "    .dataframe tbody tr th {\n",
       "        vertical-align: top;\n",
       "    }\n",
       "\n",
       "    .dataframe thead th {\n",
       "        text-align: right;\n",
       "    }\n",
       "</style>\n",
       "<table border=\"1\" class=\"dataframe\">\n",
       "  <thead>\n",
       "    <tr style=\"text-align: right;\">\n",
       "      <th></th>\n",
       "      <th>CLAIM_ID</th>\n",
       "      <th>DAYS_TO_REPORT</th>\n",
       "      <th>BODILY_INJURY_AMOUNT</th>\n",
       "      <th>PROPERTY_DAMAGE</th>\n",
       "      <th>PREVIOUS_CLAIMS</th>\n",
       "      <th>PAYMENT_METHOD</th>\n",
       "      <th>IS_REAR_END_COLLISION</th>\n",
       "      <th>PREM_AMOUNT</th>\n",
       "      <th>AGE</th>\n",
       "      <th>GENDER</th>\n",
       "      <th>MARITAL_STATUS</th>\n",
       "      <th>INCOME_ESTIMATE</th>\n",
       "      <th>INCOME_CATEGORY</th>\n",
       "      <th>POLICY_HOLDER</th>\n",
       "    </tr>\n",
       "  </thead>\n",
       "  <tbody>\n",
       "    <tr>\n",
       "      <th>0</th>\n",
       "      <td>CL_0959524</td>\n",
       "      <td>6</td>\n",
       "      <td>0</td>\n",
       "      <td>1066</td>\n",
       "      <td>0</td>\n",
       "      <td>CH</td>\n",
       "      <td>Yes</td>\n",
       "      <td>Standard</td>\n",
       "      <td>97</td>\n",
       "      <td>Male</td>\n",
       "      <td>Single</td>\n",
       "      <td>62903.3</td>\n",
       "      <td>50</td>\n",
       "      <td>N</td>\n",
       "    </tr>\n",
       "    <tr>\n",
       "      <th>1</th>\n",
       "      <td>CL_0959946</td>\n",
       "      <td>0</td>\n",
       "      <td>0</td>\n",
       "      <td>432</td>\n",
       "      <td>0</td>\n",
       "      <td>CH</td>\n",
       "      <td>Yes</td>\n",
       "      <td>Standard</td>\n",
       "      <td>90</td>\n",
       "      <td>Female</td>\n",
       "      <td>Single</td>\n",
       "      <td>42504.3</td>\n",
       "      <td>35</td>\n",
       "      <td>N</td>\n",
       "    </tr>\n",
       "    <tr>\n",
       "      <th>2</th>\n",
       "      <td>CL_0960121</td>\n",
       "      <td>5</td>\n",
       "      <td>0</td>\n",
       "      <td>2714</td>\n",
       "      <td>0</td>\n",
       "      <td>CC</td>\n",
       "      <td>No</td>\n",
       "      <td>Standard</td>\n",
       "      <td>23</td>\n",
       "      <td>Male</td>\n",
       "      <td>Married</td>\n",
       "      <td>22767.0</td>\n",
       "      <td>15</td>\n",
       "      <td>Y</td>\n",
       "    </tr>\n",
       "  </tbody>\n",
       "</table>\n",
       "</div>"
      ],
      "text/plain": [
       "     CLAIM_ID  DAYS_TO_REPORT  BODILY_INJURY_AMOUNT  PROPERTY_DAMAGE  \\\n",
       "0  CL_0959524               6                     0             1066   \n",
       "1  CL_0959946               0                     0              432   \n",
       "2  CL_0960121               5                     0             2714   \n",
       "\n",
       "   PREVIOUS_CLAIMS PAYMENT_METHOD IS_REAR_END_COLLISION PREM_AMOUNT  AGE  \\\n",
       "0                0             CH                   Yes    Standard   97   \n",
       "1                0             CH                   Yes    Standard   90   \n",
       "2                0             CC                    No    Standard   23   \n",
       "\n",
       "   GENDER MARITAL_STATUS  INCOME_ESTIMATE  INCOME_CATEGORY POLICY_HOLDER  \n",
       "0    Male         Single          62903.3               50             N  \n",
       "1  Female         Single          42504.3               35             N  \n",
       "2    Male        Married          22767.0               15             Y  "
      ]
     },
     "execution_count": 2,
     "metadata": {},
     "output_type": "execute_result"
    }
   ],
   "source": [
    "hdf_new.head(3).collect()"
   ]
  },
  {
   "cell_type": "markdown",
   "metadata": {},
   "source": [
    "### Load Trained Model"
   ]
  },
  {
   "cell_type": "code",
   "execution_count": 3,
   "metadata": {},
   "outputs": [
    {
     "data": {
      "text/plain": [
       "[<hana_ml.dataframe.DataFrame at 0x2d1ea043f40>,\n",
       " <hana_ml.dataframe.DataFrame at 0x2d1ea043df0>,\n",
       " <hana_ml.dataframe.DataFrame at 0x2d1ea043d60>,\n",
       " <hana_ml.dataframe.DataFrame at 0x2d1ea043f10>,\n",
       " <hana_ml.dataframe.DataFrame at 0x2d1ea043f70>]"
      ]
     },
     "execution_count": 3,
     "metadata": {},
     "output_type": "execute_result"
    }
   ],
   "source": [
    "from hana_ml.model_storage import ModelStorage\n",
    "model_storage = ModelStorage(connection_context=conn, schema='USER_APL')\n",
    "apl_model = model_storage.load_model(name='My Fraud Model')\n",
    "apl_model.get_model_info()"
   ]
  },
  {
   "cell_type": "code",
   "execution_count": 4,
   "metadata": {},
   "outputs": [
    {
     "data": {
      "text/html": [
       "<style  type=\"text/css\" >\n",
       "</style><table id=\"T_91d7cc9e_67f7_11ec_8809_f875a435d11a\" ><thead>    <tr>        <th class=\"col_heading level0 col0\" >Property</th>        <th class=\"col_heading level0 col1\" >Value</th>    </tr></thead><tbody>\n",
       "                <tr>\n",
       "                                <td id=\"T_91d7cc9e_67f7_11ec_8809_f875a435d11arow0_col0\" class=\"data row0 col0\" >Variable Count</td>\n",
       "                        <td id=\"T_91d7cc9e_67f7_11ec_8809_f875a435d11arow0_col1\" class=\"data row0 col1\" >15</td>\n",
       "            </tr>\n",
       "            <tr>\n",
       "                                <td id=\"T_91d7cc9e_67f7_11ec_8809_f875a435d11arow1_col0\" class=\"data row1 col0\" >Selected Variable Count</td>\n",
       "                        <td id=\"T_91d7cc9e_67f7_11ec_8809_f875a435d11arow1_col1\" class=\"data row1 col1\" >13</td>\n",
       "            </tr>\n",
       "            <tr>\n",
       "                                <td id=\"T_91d7cc9e_67f7_11ec_8809_f875a435d11arow2_col0\" class=\"data row2 col0\" >Record Count</td>\n",
       "                        <td id=\"T_91d7cc9e_67f7_11ec_8809_f875a435d11arow2_col1\" class=\"data row2 col1\" >2000</td>\n",
       "            </tr>\n",
       "            <tr>\n",
       "                                <td id=\"T_91d7cc9e_67f7_11ec_8809_f875a435d11arow3_col0\" class=\"data row3 col0\" >Build Date</td>\n",
       "                        <td id=\"T_91d7cc9e_67f7_11ec_8809_f875a435d11arow3_col1\" class=\"data row3 col1\" >2021-12-28 15:41:38</td>\n",
       "            </tr>\n",
       "    </tbody></table>"
      ],
      "text/plain": [
       "<pandas.io.formats.style.Styler at 0x2d1e93899a0>"
      ]
     },
     "execution_count": 4,
     "metadata": {},
     "output_type": "execute_result"
    }
   ],
   "source": [
    "df = apl_model.get_summary().filter(\"KEY in ('ModelVariableCount', 'ModelSelectedVariableCount', 'ModelRecordCount', 'ModelBuildDate')\").collect()\n",
    "df['KEY'] = df['KEY'].str.replace('Model', '').str.replace('Selected', 'Selected ')\n",
    "df['KEY'] = df['KEY'].str.replace('Count', ' Count').str.replace('Date', ' Date')\n",
    "df = df[['KEY','VALUE']]\n",
    "df.columns = ['Property', 'Value']\n",
    "df.style.hide_index()"
   ]
  },
  {
   "cell_type": "markdown",
   "metadata": {},
   "source": [
    "### Make Predictions on New Claims"
   ]
  },
  {
   "cell_type": "code",
   "execution_count": 5,
   "metadata": {},
   "outputs": [],
   "source": [
    "apl_model.set_params(extra_applyout_settings=\n",
    "{ 'APL/ApplyExtraMode': 'Advanced Apply Settings', \n",
    "  'APL/ApplyPredictedValue': 'true', \n",
    "  'APL/ApplyProbability': 'true', \n",
    "  'APL/ApplyDecision': 'true', \n",
    "  'APL/ApplyReasonCode/TopCount': '3', \n",
    "  'APL/ApplyReasonCode/ShowStrengthValue': 'false', \n",
    "  'APL/ApplyReasonCode/ShowStrengthIndicator': 'false' }\n",
    ")\n",
    "df = apl_model.predict(hdf_new).collect()"
   ]
  },
  {
   "cell_type": "code",
   "execution_count": 6,
   "metadata": {},
   "outputs": [
    {
     "data": {
      "text/html": [
       "<style  type=\"text/css\" >\n",
       "</style><table id=\"T_93638b17_67f7_11ec_a210_f875a435d11a\" ><thead>    <tr>        <th class=\"col_heading level0 col0\" >CLAIM_ID</th>        <th class=\"col_heading level0 col1\" >Target Predicted</th>        <th class=\"col_heading level0 col2\" >Score</th>        <th class=\"col_heading level0 col3\" >Probability</th>        <th class=\"col_heading level0 col4\" >reason_top_1_name</th>        <th class=\"col_heading level0 col5\" >reason_top_1_value</th>        <th class=\"col_heading level0 col6\" >reason_top_2_name</th>        <th class=\"col_heading level0 col7\" >reason_top_2_value</th>        <th class=\"col_heading level0 col8\" >reason_top_3_name</th>        <th class=\"col_heading level0 col9\" >reason_top_3_value</th>    </tr></thead><tbody>\n",
       "                <tr>\n",
       "                                <td id=\"T_93638b17_67f7_11ec_a210_f875a435d11arow0_col0\" class=\"data row0 col0\" >CL_0959524</td>\n",
       "                        <td id=\"T_93638b17_67f7_11ec_a210_f875a435d11arow0_col1\" class=\"data row0 col1\" >No</td>\n",
       "                        <td id=\"T_93638b17_67f7_11ec_a210_f875a435d11arow0_col2\" class=\"data row0 col2\" >-1.53</td>\n",
       "                        <td id=\"T_93638b17_67f7_11ec_a210_f875a435d11arow0_col3\" class=\"data row0 col3\" >17.8%</td>\n",
       "                        <td id=\"T_93638b17_67f7_11ec_a210_f875a435d11arow0_col4\" class=\"data row0 col4\" >BODILY_INJURY_AMOUNT</td>\n",
       "                        <td id=\"T_93638b17_67f7_11ec_a210_f875a435d11arow0_col5\" class=\"data row0 col5\" >0</td>\n",
       "                        <td id=\"T_93638b17_67f7_11ec_a210_f875a435d11arow0_col6\" class=\"data row0 col6\" >DAYS_TO_REPORT</td>\n",
       "                        <td id=\"T_93638b17_67f7_11ec_a210_f875a435d11arow0_col7\" class=\"data row0 col7\" >6</td>\n",
       "                        <td id=\"T_93638b17_67f7_11ec_a210_f875a435d11arow0_col8\" class=\"data row0 col8\" >GENDER</td>\n",
       "                        <td id=\"T_93638b17_67f7_11ec_a210_f875a435d11arow0_col9\" class=\"data row0 col9\" >Male</td>\n",
       "            </tr>\n",
       "            <tr>\n",
       "                                <td id=\"T_93638b17_67f7_11ec_a210_f875a435d11arow1_col0\" class=\"data row1 col0\" >CL_0959946</td>\n",
       "                        <td id=\"T_93638b17_67f7_11ec_a210_f875a435d11arow1_col1\" class=\"data row1 col1\" >No</td>\n",
       "                        <td id=\"T_93638b17_67f7_11ec_a210_f875a435d11arow1_col2\" class=\"data row1 col2\" >-4.31</td>\n",
       "                        <td id=\"T_93638b17_67f7_11ec_a210_f875a435d11arow1_col3\" class=\"data row1 col3\" >1.3%</td>\n",
       "                        <td id=\"T_93638b17_67f7_11ec_a210_f875a435d11arow1_col4\" class=\"data row1 col4\" >BODILY_INJURY_AMOUNT</td>\n",
       "                        <td id=\"T_93638b17_67f7_11ec_a210_f875a435d11arow1_col5\" class=\"data row1 col5\" >0</td>\n",
       "                        <td id=\"T_93638b17_67f7_11ec_a210_f875a435d11arow1_col6\" class=\"data row1 col6\" >PROPERTY_DAMAGE</td>\n",
       "                        <td id=\"T_93638b17_67f7_11ec_a210_f875a435d11arow1_col7\" class=\"data row1 col7\" >432</td>\n",
       "                        <td id=\"T_93638b17_67f7_11ec_a210_f875a435d11arow1_col8\" class=\"data row1 col8\" >GENDER</td>\n",
       "                        <td id=\"T_93638b17_67f7_11ec_a210_f875a435d11arow1_col9\" class=\"data row1 col9\" >Female</td>\n",
       "            </tr>\n",
       "            <tr>\n",
       "                                <td id=\"T_93638b17_67f7_11ec_a210_f875a435d11arow2_col0\" class=\"data row2 col0\" >CL_0960121</td>\n",
       "                        <td id=\"T_93638b17_67f7_11ec_a210_f875a435d11arow2_col1\" class=\"data row2 col1\" >No</td>\n",
       "                        <td id=\"T_93638b17_67f7_11ec_a210_f875a435d11arow2_col2\" class=\"data row2 col2\" >-1.04</td>\n",
       "                        <td id=\"T_93638b17_67f7_11ec_a210_f875a435d11arow2_col3\" class=\"data row2 col3\" >26.0%</td>\n",
       "                        <td id=\"T_93638b17_67f7_11ec_a210_f875a435d11arow2_col4\" class=\"data row2 col4\" >AGE</td>\n",
       "                        <td id=\"T_93638b17_67f7_11ec_a210_f875a435d11arow2_col5\" class=\"data row2 col5\" >23</td>\n",
       "                        <td id=\"T_93638b17_67f7_11ec_a210_f875a435d11arow2_col6\" class=\"data row2 col6\" >INCOME_ESTIMATE</td>\n",
       "                        <td id=\"T_93638b17_67f7_11ec_a210_f875a435d11arow2_col7\" class=\"data row2 col7\" >22767</td>\n",
       "                        <td id=\"T_93638b17_67f7_11ec_a210_f875a435d11arow2_col8\" class=\"data row2 col8\" >BODILY_INJURY_AMOUNT</td>\n",
       "                        <td id=\"T_93638b17_67f7_11ec_a210_f875a435d11arow2_col9\" class=\"data row2 col9\" >0</td>\n",
       "            </tr>\n",
       "            <tr>\n",
       "                                <td id=\"T_93638b17_67f7_11ec_a210_f875a435d11arow3_col0\" class=\"data row3 col0\" >CL_0960195</td>\n",
       "                        <td id=\"T_93638b17_67f7_11ec_a210_f875a435d11arow3_col1\" class=\"data row3 col1\" >No</td>\n",
       "                        <td id=\"T_93638b17_67f7_11ec_a210_f875a435d11arow3_col2\" class=\"data row3 col2\" >-1.03</td>\n",
       "                        <td id=\"T_93638b17_67f7_11ec_a210_f875a435d11arow3_col3\" class=\"data row3 col3\" >26.4%</td>\n",
       "                        <td id=\"T_93638b17_67f7_11ec_a210_f875a435d11arow3_col4\" class=\"data row3 col4\" >INCOME_ESTIMATE</td>\n",
       "                        <td id=\"T_93638b17_67f7_11ec_a210_f875a435d11arow3_col5\" class=\"data row3 col5\" >95489.399999999994</td>\n",
       "                        <td id=\"T_93638b17_67f7_11ec_a210_f875a435d11arow3_col6\" class=\"data row3 col6\" >GENDER</td>\n",
       "                        <td id=\"T_93638b17_67f7_11ec_a210_f875a435d11arow3_col7\" class=\"data row3 col7\" >Male</td>\n",
       "                        <td id=\"T_93638b17_67f7_11ec_a210_f875a435d11arow3_col8\" class=\"data row3 col8\" >BODILY_INJURY_AMOUNT</td>\n",
       "                        <td id=\"T_93638b17_67f7_11ec_a210_f875a435d11arow3_col9\" class=\"data row3 col9\" >0</td>\n",
       "            </tr>\n",
       "            <tr>\n",
       "                                <td id=\"T_93638b17_67f7_11ec_a210_f875a435d11arow4_col0\" class=\"data row4 col0\" >CL_0960294</td>\n",
       "                        <td id=\"T_93638b17_67f7_11ec_a210_f875a435d11arow4_col1\" class=\"data row4 col1\" >Yes</td>\n",
       "                        <td id=\"T_93638b17_67f7_11ec_a210_f875a435d11arow4_col2\" class=\"data row4 col2\" >-0.28</td>\n",
       "                        <td id=\"T_93638b17_67f7_11ec_a210_f875a435d11arow4_col3\" class=\"data row4 col3\" >43.1%</td>\n",
       "                        <td id=\"T_93638b17_67f7_11ec_a210_f875a435d11arow4_col4\" class=\"data row4 col4\" >BODILY_INJURY_AMOUNT</td>\n",
       "                        <td id=\"T_93638b17_67f7_11ec_a210_f875a435d11arow4_col5\" class=\"data row4 col5\" >23385</td>\n",
       "                        <td id=\"T_93638b17_67f7_11ec_a210_f875a435d11arow4_col6\" class=\"data row4 col6\" >GENDER</td>\n",
       "                        <td id=\"T_93638b17_67f7_11ec_a210_f875a435d11arow4_col7\" class=\"data row4 col7\" >Female</td>\n",
       "                        <td id=\"T_93638b17_67f7_11ec_a210_f875a435d11arow4_col8\" class=\"data row4 col8\" >DAYS_TO_REPORT</td>\n",
       "                        <td id=\"T_93638b17_67f7_11ec_a210_f875a435d11arow4_col9\" class=\"data row4 col9\" >15</td>\n",
       "            </tr>\n",
       "            <tr>\n",
       "                                <td id=\"T_93638b17_67f7_11ec_a210_f875a435d11arow5_col0\" class=\"data row5 col0\" >CL_0960379</td>\n",
       "                        <td id=\"T_93638b17_67f7_11ec_a210_f875a435d11arow5_col1\" class=\"data row5 col1\" >Yes</td>\n",
       "                        <td id=\"T_93638b17_67f7_11ec_a210_f875a435d11arow5_col2\" class=\"data row5 col2\" >1.12</td>\n",
       "                        <td id=\"T_93638b17_67f7_11ec_a210_f875a435d11arow5_col3\" class=\"data row5 col3\" >75.4%</td>\n",
       "                        <td id=\"T_93638b17_67f7_11ec_a210_f875a435d11arow5_col4\" class=\"data row5 col4\" >BODILY_INJURY_AMOUNT</td>\n",
       "                        <td id=\"T_93638b17_67f7_11ec_a210_f875a435d11arow5_col5\" class=\"data row5 col5\" >14718</td>\n",
       "                        <td id=\"T_93638b17_67f7_11ec_a210_f875a435d11arow5_col6\" class=\"data row5 col6\" >INCOME_ESTIMATE</td>\n",
       "                        <td id=\"T_93638b17_67f7_11ec_a210_f875a435d11arow5_col7\" class=\"data row5 col7\" >7673.4700000000003</td>\n",
       "                        <td id=\"T_93638b17_67f7_11ec_a210_f875a435d11arow5_col8\" class=\"data row5 col8\" >GENDER</td>\n",
       "                        <td id=\"T_93638b17_67f7_11ec_a210_f875a435d11arow5_col9\" class=\"data row5 col9\" >Female</td>\n",
       "            </tr>\n",
       "            <tr>\n",
       "                                <td id=\"T_93638b17_67f7_11ec_a210_f875a435d11arow6_col0\" class=\"data row6 col0\" >CL_0960411</td>\n",
       "                        <td id=\"T_93638b17_67f7_11ec_a210_f875a435d11arow6_col1\" class=\"data row6 col1\" >No</td>\n",
       "                        <td id=\"T_93638b17_67f7_11ec_a210_f875a435d11arow6_col2\" class=\"data row6 col2\" >-2.71</td>\n",
       "                        <td id=\"T_93638b17_67f7_11ec_a210_f875a435d11arow6_col3\" class=\"data row6 col3\" >6.2%</td>\n",
       "                        <td id=\"T_93638b17_67f7_11ec_a210_f875a435d11arow6_col4\" class=\"data row6 col4\" >BODILY_INJURY_AMOUNT</td>\n",
       "                        <td id=\"T_93638b17_67f7_11ec_a210_f875a435d11arow6_col5\" class=\"data row6 col5\" >0</td>\n",
       "                        <td id=\"T_93638b17_67f7_11ec_a210_f875a435d11arow6_col6\" class=\"data row6 col6\" >PROPERTY_DAMAGE</td>\n",
       "                        <td id=\"T_93638b17_67f7_11ec_a210_f875a435d11arow6_col7\" class=\"data row6 col7\" >46</td>\n",
       "                        <td id=\"T_93638b17_67f7_11ec_a210_f875a435d11arow6_col8\" class=\"data row6 col8\" >PAYMENT_METHOD</td>\n",
       "                        <td id=\"T_93638b17_67f7_11ec_a210_f875a435d11arow6_col9\" class=\"data row6 col9\" >CH</td>\n",
       "            </tr>\n",
       "    </tbody></table>"
      ],
      "text/plain": [
       "<pandas.io.formats.style.Styler at 0x2d1ea093730>"
      ]
     },
     "execution_count": 6,
     "metadata": {},
     "output_type": "execute_result"
    }
   ],
   "source": [
    "col_dict = {'PREDICTED': 'Target Predicted', \n",
    "        'gb_score_IS_FRAUD': 'Score', \n",
    "        'gb_proba_IS_FRAUD': 'Probability'}\n",
    "df.rename(columns=col_dict, inplace=True)\n",
    "df.columns = [hdr.replace(\"gb_\", \"\") for hdr in df.columns]\n",
    "format_dict = {'Probability': '{:,.1%}','Score':'{0:,.2f}'}\n",
    "df.head(7).style.format(format_dict).hide_index()"
   ]
  },
  {
   "cell_type": "code",
   "execution_count": null,
   "metadata": {},
   "outputs": [],
   "source": []
  }
 ],
 "metadata": {
  "kernelspec": {
   "display_name": "Python 3",
   "language": "python",
   "name": "python3"
  },
  "language_info": {
   "codemirror_mode": {
    "name": "ipython",
    "version": 3
   },
   "file_extension": ".py",
   "mimetype": "text/x-python",
   "name": "python",
   "nbconvert_exporter": "python",
   "pygments_lexer": "ipython3",
   "version": "3.8.7"
  }
 },
 "nbformat": 4,
 "nbformat_minor": 2
}

{
 "cells": [
  {
   "cell_type": "markdown",
   "metadata": {},
   "source": [
    "# Python HANA ML API"
   ]
  },
  {
   "cell_type": "markdown",
   "metadata": {},
   "source": [
    "<div class=\"alert alert-block alert-info\">\n",
    "<b>Train a model and show the confusion matrix.</b> <br>\n",
    "</div>"
   ]
  },
  {
   "cell_type": "markdown",
   "metadata": {},
   "source": [
    "## Train the model"
   ]
  },
  {
   "cell_type": "markdown",
   "metadata": {},
   "source": [
    "### Create an HANA Dataframe for the training data"
   ]
  },
  {
   "cell_type": "code",
   "execution_count": 1,
   "metadata": {},
   "outputs": [],
   "source": [
    "import pandas as pd \n",
    "# Connect using the HANA secure user store\n",
    "from hana_ml import dataframe as hd\n",
    "conn = hd.ConnectionContext(userkey='MLMDA_KEY')\n",
    "# Get Training Data\n",
    "sql_cmd = 'SELECT * FROM \"APL_SAMPLES\".\"AUTO_CLAIMS_FRAUD\" ORDER BY CLAIM_ID'\n",
    "training_data = hd.DataFrame(conn, sql_cmd)"
   ]
  },
  {
   "cell_type": "markdown",
   "metadata": {},
   "source": [
    "### Put a subset of the data in a Pandas Dataframe and display it"
   ]
  },
  {
   "cell_type": "code",
   "execution_count": 2,
   "metadata": {},
   "outputs": [
    {
     "data": {
      "text/html": [
       "<div>\n",
       "<style scoped>\n",
       "    .dataframe tbody tr th:only-of-type {\n",
       "        vertical-align: middle;\n",
       "    }\n",
       "\n",
       "    .dataframe tbody tr th {\n",
       "        vertical-align: top;\n",
       "    }\n",
       "\n",
       "    .dataframe thead th {\n",
       "        text-align: right;\n",
       "    }\n",
       "</style>\n",
       "<table border=\"1\" class=\"dataframe\">\n",
       "  <thead>\n",
       "    <tr style=\"text-align: right;\">\n",
       "      <th></th>\n",
       "      <th>CLAIM_ID</th>\n",
       "      <th>DAYS_TO_REPORT</th>\n",
       "      <th>BODILY_INJURY_AMOUNT</th>\n",
       "      <th>PROPERTY_DAMAGE</th>\n",
       "      <th>PREVIOUS_CLAIMS</th>\n",
       "      <th>PAYMENT_METHOD</th>\n",
       "      <th>IS_REAR_END_COLLISION</th>\n",
       "      <th>PREM_AMOUNT</th>\n",
       "      <th>AGE</th>\n",
       "      <th>GENDER</th>\n",
       "      <th>MARITAL_STATUS</th>\n",
       "      <th>INCOME_ESTIMATE</th>\n",
       "      <th>INCOME_CATEGORY</th>\n",
       "      <th>POLICY_HOLDER</th>\n",
       "      <th>IS_FRAUD</th>\n",
       "    </tr>\n",
       "  </thead>\n",
       "  <tbody>\n",
       "    <tr>\n",
       "      <td>0</td>\n",
       "      <td>CL_0000765</td>\n",
       "      <td>8</td>\n",
       "      <td>0</td>\n",
       "      <td>1957</td>\n",
       "      <td>0</td>\n",
       "      <td>CC</td>\n",
       "      <td>No</td>\n",
       "      <td>Safedriving_discount</td>\n",
       "      <td>52</td>\n",
       "      <td>Male</td>\n",
       "      <td>Single</td>\n",
       "      <td>15906.0</td>\n",
       "      <td>15</td>\n",
       "      <td>Y</td>\n",
       "      <td>No</td>\n",
       "    </tr>\n",
       "    <tr>\n",
       "      <td>1</td>\n",
       "      <td>CL_0000832</td>\n",
       "      <td>30</td>\n",
       "      <td>2541</td>\n",
       "      <td>3843</td>\n",
       "      <td>0</td>\n",
       "      <td>CC</td>\n",
       "      <td>No</td>\n",
       "      <td>Safedriving_discount</td>\n",
       "      <td>85</td>\n",
       "      <td>Female</td>\n",
       "      <td>Single</td>\n",
       "      <td>91100.6</td>\n",
       "      <td>75</td>\n",
       "      <td>N</td>\n",
       "      <td>No</td>\n",
       "    </tr>\n",
       "    <tr>\n",
       "      <td>2</td>\n",
       "      <td>CL_0002015</td>\n",
       "      <td>4</td>\n",
       "      <td>0</td>\n",
       "      <td>25719</td>\n",
       "      <td>0</td>\n",
       "      <td>CC</td>\n",
       "      <td>No</td>\n",
       "      <td>Standard</td>\n",
       "      <td>45</td>\n",
       "      <td>Male</td>\n",
       "      <td>Married</td>\n",
       "      <td>67085.4</td>\n",
       "      <td>50</td>\n",
       "      <td>N</td>\n",
       "      <td>No</td>\n",
       "    </tr>\n",
       "    <tr>\n",
       "      <td>3</td>\n",
       "      <td>CL_0002854</td>\n",
       "      <td>0</td>\n",
       "      <td>0</td>\n",
       "      <td>83</td>\n",
       "      <td>1</td>\n",
       "      <td>Auto</td>\n",
       "      <td>No</td>\n",
       "      <td>Standard</td>\n",
       "      <td>75</td>\n",
       "      <td>Male</td>\n",
       "      <td>Married</td>\n",
       "      <td>49561.0</td>\n",
       "      <td>35</td>\n",
       "      <td>N</td>\n",
       "      <td>No</td>\n",
       "    </tr>\n",
       "    <tr>\n",
       "      <td>4</td>\n",
       "      <td>CL_0002869</td>\n",
       "      <td>22</td>\n",
       "      <td>0</td>\n",
       "      <td>1264</td>\n",
       "      <td>0</td>\n",
       "      <td>CC</td>\n",
       "      <td>Yes</td>\n",
       "      <td>Standard</td>\n",
       "      <td>48</td>\n",
       "      <td>Female</td>\n",
       "      <td>Married</td>\n",
       "      <td>39598.7</td>\n",
       "      <td>35</td>\n",
       "      <td>N</td>\n",
       "      <td>No</td>\n",
       "    </tr>\n",
       "  </tbody>\n",
       "</table>\n",
       "</div>"
      ],
      "text/plain": [
       "     CLAIM_ID  DAYS_TO_REPORT  BODILY_INJURY_AMOUNT  PROPERTY_DAMAGE  \\\n",
       "0  CL_0000765               8                     0             1957   \n",
       "1  CL_0000832              30                  2541             3843   \n",
       "2  CL_0002015               4                     0            25719   \n",
       "3  CL_0002854               0                     0               83   \n",
       "4  CL_0002869              22                     0             1264   \n",
       "\n",
       "   PREVIOUS_CLAIMS PAYMENT_METHOD IS_REAR_END_COLLISION           PREM_AMOUNT  \\\n",
       "0                0             CC                    No  Safedriving_discount   \n",
       "1                0             CC                    No  Safedriving_discount   \n",
       "2                0             CC                    No              Standard   \n",
       "3                1           Auto                    No              Standard   \n",
       "4                0             CC                   Yes              Standard   \n",
       "\n",
       "   AGE  GENDER MARITAL_STATUS  INCOME_ESTIMATE  INCOME_CATEGORY POLICY_HOLDER  \\\n",
       "0   52    Male         Single          15906.0               15             Y   \n",
       "1   85  Female         Single          91100.6               75             N   \n",
       "2   45    Male        Married          67085.4               50             N   \n",
       "3   75    Male        Married          49561.0               35             N   \n",
       "4   48  Female        Married          39598.7               35             N   \n",
       "\n",
       "  IS_FRAUD  \n",
       "0       No  \n",
       "1       No  \n",
       "2       No  \n",
       "3       No  \n",
       "4       No  "
      ]
     },
     "execution_count": 2,
     "metadata": {},
     "output_type": "execute_result"
    }
   ],
   "source": [
    "training_data.head(5).collect()"
   ]
  },
  {
   "cell_type": "markdown",
   "metadata": {},
   "source": [
    "### Build a Classification model with APL Ridge Regression"
   ]
  },
  {
   "cell_type": "code",
   "execution_count": 3,
   "metadata": {},
   "outputs": [],
   "source": [
    "# Create the model\n",
    "from hana_ml.algorithms.apl.classification import AutoClassifier\n",
    "model = AutoClassifier(conn_context=conn)\n",
    "# Train the model\n",
    "model.fit(training_data, label='IS_FRAUD', key='CLAIM_ID')"
   ]
  },
  {
   "cell_type": "markdown",
   "metadata": {},
   "source": [
    "## Confusion Matrix"
   ]
  },
  {
   "cell_type": "markdown",
   "metadata": {},
   "source": [
    "### Define Functions"
   ]
  },
  {
   "cell_type": "code",
   "execution_count": 4,
   "metadata": {},
   "outputs": [],
   "source": [
    "indicators_table_name = None\n",
    "for table_name in model._artifact_tables:\n",
    "    if table_name.startswith('#INDICATORS_'):\n",
    "        indicators_table_name = table_name"
   ]
  },
  {
   "cell_type": "code",
   "execution_count": 5,
   "metadata": {},
   "outputs": [],
   "source": [
    "def create_artifact_table(conn, table_name, table_spec):\n",
    "    conn = model.conn_context.connection\n",
    "    cursor = conn.cursor()\n",
    "    try:\n",
    "        cursor.execute(f'drop table {table_name}')\n",
    "    except:\n",
    "        pass\n",
    "    cursor.execute(f'create local temporary table {table_name} {table_spec}')"
   ]
  },
  {
   "cell_type": "code",
   "execution_count": 6,
   "metadata": {},
   "outputs": [],
   "source": [
    "def get_confusion_matrix():\n",
    "    conn = model.conn_context.connection\n",
    "    cursor = conn.cursor()\n",
    "\n",
    "    model_table_name = model.model_table_.name  # the temp table where the model is saved\n",
    "\n",
    "    # --- Create temp tables for input / output\n",
    "    create_artifact_table(conn=conn,\n",
    "                         table_name='#FUNC_HEADER',\n",
    "                         table_spec='(KEY NVARCHAR(50), VALUE NVARCHAR(255))')\n",
    "\n",
    "    create_artifact_table(conn=conn,\n",
    "                         table_name='#OPERATION_CONFIG',\n",
    "                         table_spec='(KEY NVARCHAR(1000), VALUE NCLOB, CONTEXT NVARCHAR(100))')\n",
    "\n",
    "    create_artifact_table(conn=conn,\n",
    "                         table_name='#SUMMARY',\n",
    "                         table_spec='(OID NVARCHAR(50), KEY NVARCHAR(100), VALUE NVARCHAR(100))')\n",
    "\n",
    "    create_artifact_table(conn=conn,\n",
    "                         table_name='#CONF_MATRIX',\n",
    "                         table_spec='(OID VARCHAR(50),VARIABLE VARCHAR(255),TARGET VARCHAR(255),KEY VARCHAR(100),'\n",
    "                          'VALUE NCLOB,DETAIL NCLOB)')\n",
    "\n",
    "    # Call APL\n",
    "    sql = 'call \"SAP_PA_APL\".\"sap.pa.apl.base::COMPUTE_CONFUSION_MATRIX\"(#FUNC_HEADER, #OPERATION_CONFIG,  {indicators_input}, #CONF_MATRIX) with overview'\n",
    "    sql = sql.format(indicators_input=indicators_table_name)\n",
    "    cursor.execute(sql)"
   ]
  },
  {
   "cell_type": "markdown",
   "metadata": {},
   "source": [
    "### Calling COMPUTE_CONFUSION_MATRIX"
   ]
  },
  {
   "cell_type": "code",
   "execution_count": 7,
   "metadata": {},
   "outputs": [],
   "source": [
    "get_confusion_matrix()"
   ]
  },
  {
   "cell_type": "markdown",
   "metadata": {},
   "source": [
    "### Put indicators data in a Pandas Dataframe"
   ]
  },
  {
   "cell_type": "code",
   "execution_count": 8,
   "metadata": {},
   "outputs": [],
   "source": [
    "sql_cmd = 'SELECT * FROM #CONF_MATRIX'\n",
    "hf = hd.DataFrame(conn, sql_cmd)\n",
    "indicators_df = hf.collect()\n",
    "indicators_df = indicators_df[['KEY','VALUE']]"
   ]
  },
  {
   "cell_type": "markdown",
   "metadata": {},
   "source": [
    "### Matrix In Absolute Values"
   ]
  },
  {
   "cell_type": "code",
   "execution_count": 9,
   "metadata": {},
   "outputs": [
    {
     "data": {
      "text/html": [
       "<div>\n",
       "<style scoped>\n",
       "    .dataframe tbody tr th:only-of-type {\n",
       "        vertical-align: middle;\n",
       "    }\n",
       "\n",
       "    .dataframe tbody tr th {\n",
       "        vertical-align: top;\n",
       "    }\n",
       "\n",
       "    .dataframe thead tr th {\n",
       "        text-align: left;\n",
       "    }\n",
       "\n",
       "    .dataframe thead tr:last-of-type th {\n",
       "        text-align: right;\n",
       "    }\n",
       "</style>\n",
       "<table border=\"1\" class=\"dataframe\">\n",
       "  <thead>\n",
       "    <tr>\n",
       "      <th></th>\n",
       "      <th colspan=\"2\" halign=\"left\">Nb of Cases</th>\n",
       "    </tr>\n",
       "    <tr>\n",
       "      <th>Predicted</th>\n",
       "      <th>No</th>\n",
       "      <th>Yes</th>\n",
       "    </tr>\n",
       "    <tr>\n",
       "      <th>Actual</th>\n",
       "      <th></th>\n",
       "      <th></th>\n",
       "    </tr>\n",
       "  </thead>\n",
       "  <tbody>\n",
       "    <tr>\n",
       "      <td>No</td>\n",
       "      <td>1240</td>\n",
       "      <td>39</td>\n",
       "    </tr>\n",
       "    <tr>\n",
       "      <td>Yes</td>\n",
       "      <td>125</td>\n",
       "      <td>44</td>\n",
       "    </tr>\n",
       "  </tbody>\n",
       "</table>\n",
       "</div>"
      ],
      "text/plain": [
       "          Nb of Cases    \n",
       "Predicted          No Yes\n",
       "Actual                   \n",
       "No               1240  39\n",
       "Yes               125  44"
      ]
     },
     "execution_count": 9,
     "metadata": {},
     "output_type": "execute_result"
    }
   ],
   "source": [
    "df = indicators_df[indicators_df.KEY.isin(['True_Positive', 'True_Negative', 'False_Negative', 'False_Positive'])].copy()\n",
    "df['VALUE'] = df['VALUE'].astype(int)\n",
    "df['KEY'] = df['KEY'].str.replace('True_Positive', 'Yes Yes')\n",
    "df['KEY'] = df['KEY'].str.replace('True_Negative', 'No No')\n",
    "df['KEY'] = df['KEY'].str.replace('False_Negative', 'Yes No')\n",
    "df['KEY'] = df['KEY'].str.replace('False_Positive', 'No Yes')\n",
    "df[['Actual', 'Predicted']] = df.KEY.str.split(expand=True)\n",
    "df.drop('KEY', axis=1, inplace=True)\n",
    "df.columns = ['Nb of Cases', 'Actual', 'Predicted']\n",
    "pd.pivot_table(df,index=[\"Actual\"], values=[\"Nb of Cases\"], columns=[\"Predicted\"])"
   ]
  },
  {
   "cell_type": "markdown",
   "metadata": {},
   "source": [
    "### Matrix In Percentage"
   ]
  },
  {
   "cell_type": "code",
   "execution_count": 10,
   "metadata": {},
   "outputs": [
    {
     "data": {
      "text/html": [
       "<div>\n",
       "<style scoped>\n",
       "    .dataframe tbody tr th:only-of-type {\n",
       "        vertical-align: middle;\n",
       "    }\n",
       "\n",
       "    .dataframe tbody tr th {\n",
       "        vertical-align: top;\n",
       "    }\n",
       "\n",
       "    .dataframe thead tr th {\n",
       "        text-align: left;\n",
       "    }\n",
       "\n",
       "    .dataframe thead tr:last-of-type th {\n",
       "        text-align: right;\n",
       "    }\n",
       "</style>\n",
       "<table border=\"1\" class=\"dataframe\">\n",
       "  <thead>\n",
       "    <tr>\n",
       "      <th></th>\n",
       "      <th colspan=\"2\" halign=\"left\">% Cases</th>\n",
       "    </tr>\n",
       "    <tr>\n",
       "      <th>Predicted</th>\n",
       "      <th>No</th>\n",
       "      <th>Yes</th>\n",
       "    </tr>\n",
       "    <tr>\n",
       "      <th>Actual</th>\n",
       "      <th></th>\n",
       "      <th></th>\n",
       "    </tr>\n",
       "  </thead>\n",
       "  <tbody>\n",
       "    <tr>\n",
       "      <td>No</td>\n",
       "      <td>85.64</td>\n",
       "      <td>2.69</td>\n",
       "    </tr>\n",
       "    <tr>\n",
       "      <td>Yes</td>\n",
       "      <td>8.63</td>\n",
       "      <td>3.04</td>\n",
       "    </tr>\n",
       "  </tbody>\n",
       "</table>\n",
       "</div>"
      ],
      "text/plain": [
       "          % Cases      \n",
       "Predicted      No   Yes\n",
       "Actual                 \n",
       "No          85.64  2.69\n",
       "Yes          8.63  3.04"
      ]
     },
     "execution_count": 10,
     "metadata": {},
     "output_type": "execute_result"
    }
   ],
   "source": [
    "df = indicators_df[indicators_df.KEY.isin(['Percent_True_Positive', 'Percent_True_Negative', 'Percent_False_Negative', 'Percent_False_Positive'])].copy()\n",
    "df['VALUE'] = df['VALUE'].astype(float).round(2)\n",
    "df['KEY'] = df['KEY'].str.replace('Percent_True_Positive', 'Yes Yes')\n",
    "df['KEY'] = df['KEY'].str.replace('Percent_True_Negative', 'No No')\n",
    "df['KEY'] = df['KEY'].str.replace('Percent_False_Negative', 'Yes No')\n",
    "df['KEY'] = df['KEY'].str.replace('Percent_False_Positive', 'No Yes')\n",
    "df[['Actual', 'Predicted']] = df.KEY.str.split(expand=True)\n",
    "df.drop('KEY', axis=1, inplace=True)\n",
    "df.columns = ['% Cases', 'Actual', 'Predicted']\n",
    "pd.pivot_table(df,index=[\"Actual\"], values=[\"% Cases\"], columns=[\"Predicted\"])"
   ]
  },
  {
   "cell_type": "markdown",
   "metadata": {},
   "source": [
    "### Confusion Matrix Indicators"
   ]
  },
  {
   "cell_type": "code",
   "execution_count": 11,
   "metadata": {},
   "outputs": [
    {
     "data": {
      "text/html": [
       "<style  type=\"text/css\" >\n",
       "</style><table id=\"T_2542af06_1d1a_11eb_8983_f875a435d11a\" ><thead>    <tr>        <th class=\"col_heading level0 col0\" >Indicator</th>        <th class=\"col_heading level0 col1\" >Value</th>    </tr></thead><tbody>\n",
       "                <tr>\n",
       "                                <td id=\"T_2542af06_1d1a_11eb_8983_f875a435d11arow0_col0\" class=\"data row0 col0\" >Accuracy</td>\n",
       "                        <td id=\"T_2542af06_1d1a_11eb_8983_f875a435d11arow0_col1\" class=\"data row0 col1\" >0.8867</td>\n",
       "            </tr>\n",
       "            <tr>\n",
       "                                <td id=\"T_2542af06_1d1a_11eb_8983_f875a435d11arow1_col0\" class=\"data row1 col0\" >Sensitivity</td>\n",
       "                        <td id=\"T_2542af06_1d1a_11eb_8983_f875a435d11arow1_col1\" class=\"data row1 col1\" >0.2604</td>\n",
       "            </tr>\n",
       "            <tr>\n",
       "                                <td id=\"T_2542af06_1d1a_11eb_8983_f875a435d11arow2_col0\" class=\"data row2 col0\" >Specificity</td>\n",
       "                        <td id=\"T_2542af06_1d1a_11eb_8983_f875a435d11arow2_col1\" class=\"data row2 col1\" >0.9695</td>\n",
       "            </tr>\n",
       "            <tr>\n",
       "                                <td id=\"T_2542af06_1d1a_11eb_8983_f875a435d11arow3_col0\" class=\"data row3 col0\" >Precision</td>\n",
       "                        <td id=\"T_2542af06_1d1a_11eb_8983_f875a435d11arow3_col1\" class=\"data row3 col1\" >0.5301</td>\n",
       "            </tr>\n",
       "            <tr>\n",
       "                                <td id=\"T_2542af06_1d1a_11eb_8983_f875a435d11arow4_col0\" class=\"data row4 col0\" >F1_Score</td>\n",
       "                        <td id=\"T_2542af06_1d1a_11eb_8983_f875a435d11arow4_col1\" class=\"data row4 col1\" >0.3492</td>\n",
       "            </tr>\n",
       "    </tbody></table>"
      ],
      "text/plain": [
       "<pandas.io.formats.style.Styler at 0x1e606777a08>"
      ]
     },
     "execution_count": 11,
     "metadata": {},
     "output_type": "execute_result"
    }
   ],
   "source": [
    "df = indicators_df[indicators_df.KEY.isin(['Accuracy', 'Sensitivity', 'Specificity', 'Precision', 'F1_Score'])].copy()\n",
    "df['VALUE'] = df['VALUE'].astype(float).round(4)\n",
    "df.columns = ['Indicator', 'Value']\n",
    "df.style.hide_index()"
   ]
  },
  {
   "cell_type": "code",
   "execution_count": null,
   "metadata": {},
   "outputs": [],
   "source": []
  }
 ],
 "metadata": {
  "kernelspec": {
   "display_name": "Python 3",
   "language": "python",
   "name": "python3"
  },
  "language_info": {
   "codemirror_mode": {
    "name": "ipython",
    "version": 3
   },
   "file_extension": ".py",
   "mimetype": "text/x-python",
   "name": "python",
   "nbconvert_exporter": "python",
   "pygments_lexer": "ipython3",
   "version": "3.7.4"
  }
 },
 "nbformat": 4,
 "nbformat_minor": 2
}

{
 "cells": [
  {
   "cell_type": "markdown",
   "metadata": {},
   "source": [
    "# Python HANA ML APL"
   ]
  },
  {
   "cell_type": "markdown",
   "metadata": {},
   "source": [
    "<div class=\"alert alert-block alert-info\">\n",
    "<b>Predicting a continuous target (regression case).</b> <br>\n",
    "</div>"
   ]
  },
  {
   "cell_type": "markdown",
   "metadata": {},
   "source": [
    "## Train"
   ]
  },
  {
   "cell_type": "markdown",
   "metadata": {},
   "source": [
    "### Create an HANA Dataframe for the training data"
   ]
  },
  {
   "cell_type": "code",
   "execution_count": 1,
   "metadata": {},
   "outputs": [],
   "source": [
    "from hana_ml import dataframe as hd\n",
    "conn = hd.ConnectionContext(userkey='MLMDA_KEY')\n",
    "sql_cmd = 'SELECT * FROM \"APL_SAMPLES\".\"CENSUS\" order by \"id\"'\n",
    "hdf_train = hd.DataFrame(conn, sql_cmd)"
   ]
  },
  {
   "cell_type": "code",
   "execution_count": 2,
   "metadata": {},
   "outputs": [
    {
     "data": {
      "text/html": [
       "<div>\n",
       "<style scoped>\n",
       "    .dataframe tbody tr th:only-of-type {\n",
       "        vertical-align: middle;\n",
       "    }\n",
       "\n",
       "    .dataframe tbody tr th {\n",
       "        vertical-align: top;\n",
       "    }\n",
       "\n",
       "    .dataframe thead th {\n",
       "        text-align: right;\n",
       "    }\n",
       "</style>\n",
       "<table border=\"1\" class=\"dataframe\">\n",
       "  <thead>\n",
       "    <tr style=\"text-align: right;\">\n",
       "      <th></th>\n",
       "      <th>id</th>\n",
       "      <th>age</th>\n",
       "      <th>workclass</th>\n",
       "      <th>fnlwgt</th>\n",
       "      <th>education</th>\n",
       "      <th>education-num</th>\n",
       "      <th>marital-status</th>\n",
       "      <th>occupation</th>\n",
       "      <th>relationship</th>\n",
       "      <th>race</th>\n",
       "      <th>sex</th>\n",
       "      <th>capital-gain</th>\n",
       "      <th>capital-loss</th>\n",
       "      <th>hours-per-week</th>\n",
       "      <th>native-country</th>\n",
       "      <th>class</th>\n",
       "    </tr>\n",
       "  </thead>\n",
       "  <tbody>\n",
       "    <tr>\n",
       "      <th>0</th>\n",
       "      <td>1</td>\n",
       "      <td>39</td>\n",
       "      <td>State-gov</td>\n",
       "      <td>77516</td>\n",
       "      <td>Bachelors</td>\n",
       "      <td>13</td>\n",
       "      <td>Never-married</td>\n",
       "      <td>Adm-clerical</td>\n",
       "      <td>Not-in-family</td>\n",
       "      <td>White</td>\n",
       "      <td>Male</td>\n",
       "      <td>2174</td>\n",
       "      <td>0</td>\n",
       "      <td>40</td>\n",
       "      <td>United-States</td>\n",
       "      <td>0</td>\n",
       "    </tr>\n",
       "    <tr>\n",
       "      <th>1</th>\n",
       "      <td>2</td>\n",
       "      <td>50</td>\n",
       "      <td>Self-emp-not-inc</td>\n",
       "      <td>83311</td>\n",
       "      <td>Bachelors</td>\n",
       "      <td>13</td>\n",
       "      <td>Married-civ-spouse</td>\n",
       "      <td>Exec-managerial</td>\n",
       "      <td>Husband</td>\n",
       "      <td>White</td>\n",
       "      <td>Male</td>\n",
       "      <td>0</td>\n",
       "      <td>0</td>\n",
       "      <td>13</td>\n",
       "      <td>United-States</td>\n",
       "      <td>0</td>\n",
       "    </tr>\n",
       "    <tr>\n",
       "      <th>2</th>\n",
       "      <td>3</td>\n",
       "      <td>38</td>\n",
       "      <td>Private</td>\n",
       "      <td>215646</td>\n",
       "      <td>HS-grad</td>\n",
       "      <td>9</td>\n",
       "      <td>Divorced</td>\n",
       "      <td>Handlers-cleaners</td>\n",
       "      <td>Not-in-family</td>\n",
       "      <td>White</td>\n",
       "      <td>Male</td>\n",
       "      <td>0</td>\n",
       "      <td>0</td>\n",
       "      <td>40</td>\n",
       "      <td>United-States</td>\n",
       "      <td>0</td>\n",
       "    </tr>\n",
       "    <tr>\n",
       "      <th>3</th>\n",
       "      <td>4</td>\n",
       "      <td>53</td>\n",
       "      <td>Private</td>\n",
       "      <td>234721</td>\n",
       "      <td>11th</td>\n",
       "      <td>7</td>\n",
       "      <td>Married-civ-spouse</td>\n",
       "      <td>Handlers-cleaners</td>\n",
       "      <td>Husband</td>\n",
       "      <td>Black</td>\n",
       "      <td>Male</td>\n",
       "      <td>0</td>\n",
       "      <td>0</td>\n",
       "      <td>40</td>\n",
       "      <td>United-States</td>\n",
       "      <td>0</td>\n",
       "    </tr>\n",
       "    <tr>\n",
       "      <th>4</th>\n",
       "      <td>5</td>\n",
       "      <td>28</td>\n",
       "      <td>Private</td>\n",
       "      <td>338409</td>\n",
       "      <td>Bachelors</td>\n",
       "      <td>13</td>\n",
       "      <td>Married-civ-spouse</td>\n",
       "      <td>Prof-specialty</td>\n",
       "      <td>Wife</td>\n",
       "      <td>Black</td>\n",
       "      <td>Female</td>\n",
       "      <td>0</td>\n",
       "      <td>0</td>\n",
       "      <td>40</td>\n",
       "      <td>Cuba</td>\n",
       "      <td>0</td>\n",
       "    </tr>\n",
       "    <tr>\n",
       "      <th>5</th>\n",
       "      <td>6</td>\n",
       "      <td>37</td>\n",
       "      <td>Private</td>\n",
       "      <td>284582</td>\n",
       "      <td>Masters</td>\n",
       "      <td>14</td>\n",
       "      <td>Married-civ-spouse</td>\n",
       "      <td>Exec-managerial</td>\n",
       "      <td>Wife</td>\n",
       "      <td>White</td>\n",
       "      <td>Female</td>\n",
       "      <td>0</td>\n",
       "      <td>0</td>\n",
       "      <td>40</td>\n",
       "      <td>United-States</td>\n",
       "      <td>0</td>\n",
       "    </tr>\n",
       "  </tbody>\n",
       "</table>\n",
       "</div>"
      ],
      "text/plain": [
       "   id  age         workclass  fnlwgt  education  education-num  \\\n",
       "0   1   39         State-gov   77516  Bachelors             13   \n",
       "1   2   50  Self-emp-not-inc   83311  Bachelors             13   \n",
       "2   3   38           Private  215646    HS-grad              9   \n",
       "3   4   53           Private  234721       11th              7   \n",
       "4   5   28           Private  338409  Bachelors             13   \n",
       "5   6   37           Private  284582    Masters             14   \n",
       "\n",
       "       marital-status         occupation   relationship   race     sex  \\\n",
       "0       Never-married       Adm-clerical  Not-in-family  White    Male   \n",
       "1  Married-civ-spouse    Exec-managerial        Husband  White    Male   \n",
       "2            Divorced  Handlers-cleaners  Not-in-family  White    Male   \n",
       "3  Married-civ-spouse  Handlers-cleaners        Husband  Black    Male   \n",
       "4  Married-civ-spouse     Prof-specialty           Wife  Black  Female   \n",
       "5  Married-civ-spouse    Exec-managerial           Wife  White  Female   \n",
       "\n",
       "   capital-gain  capital-loss  hours-per-week native-country  class  \n",
       "0          2174             0              40  United-States      0  \n",
       "1             0             0              13  United-States      0  \n",
       "2             0             0              40  United-States      0  \n",
       "3             0             0              40  United-States      0  \n",
       "4             0             0              40           Cuba      0  \n",
       "5             0             0              40  United-States      0  "
      ]
     },
     "execution_count": 2,
     "metadata": {},
     "output_type": "execute_result"
    }
   ],
   "source": [
    "hdf_train.head(6).collect()"
   ]
  },
  {
   "cell_type": "markdown",
   "metadata": {},
   "source": [
    "### Fit with APL Gradient Boosting"
   ]
  },
  {
   "cell_type": "code",
   "execution_count": 3,
   "metadata": {},
   "outputs": [],
   "source": [
    "from hana_ml.algorithms.apl.gradient_boosting_regression import GradientBoostingRegressor\n",
    "apl_model = GradientBoostingRegressor(eval_metric='MAE', variable_auto_selection = True)\n",
    "apl_model.fit(hdf_train, label='age', key='id')"
   ]
  },
  {
   "cell_type": "markdown",
   "metadata": {},
   "source": [
    "##### Model Reports"
   ]
  },
  {
   "cell_type": "code",
   "execution_count": 4,
   "metadata": {
    "scrolled": true
   },
   "outputs": [
    {
     "data": {
      "text/html": [
       "<style  type=\"text/css\" >\n",
       "</style><table id=\"T_2e463894_67f8_11ec_b0d2_f875a435d11a\" ><thead>    <tr>        <th class=\"col_heading level0 col0\" >Variable</th>        <th class=\"col_heading level0 col1\" >Contribution</th>        <th class=\"col_heading level0 col2\" >Cumulative</th>    </tr></thead><tbody>\n",
       "                <tr>\n",
       "                                <td id=\"T_2e463894_67f8_11ec_b0d2_f875a435d11arow0_col0\" class=\"data row0 col0\" >marital-status</td>\n",
       "                        <td id=\"T_2e463894_67f8_11ec_b0d2_f875a435d11arow0_col1\" class=\"data row0 col1\" >37.90%</td>\n",
       "                        <td id=\"T_2e463894_67f8_11ec_b0d2_f875a435d11arow0_col2\" class=\"data row0 col2\" >37.90%</td>\n",
       "            </tr>\n",
       "            <tr>\n",
       "                                <td id=\"T_2e463894_67f8_11ec_b0d2_f875a435d11arow1_col0\" class=\"data row1 col0\" >relationship</td>\n",
       "                        <td id=\"T_2e463894_67f8_11ec_b0d2_f875a435d11arow1_col1\" class=\"data row1 col1\" >16.20%</td>\n",
       "                        <td id=\"T_2e463894_67f8_11ec_b0d2_f875a435d11arow1_col2\" class=\"data row1 col2\" >54.00%</td>\n",
       "            </tr>\n",
       "            <tr>\n",
       "                                <td id=\"T_2e463894_67f8_11ec_b0d2_f875a435d11arow2_col0\" class=\"data row2 col0\" >workclass</td>\n",
       "                        <td id=\"T_2e463894_67f8_11ec_b0d2_f875a435d11arow2_col1\" class=\"data row2 col1\" >10.20%</td>\n",
       "                        <td id=\"T_2e463894_67f8_11ec_b0d2_f875a435d11arow2_col2\" class=\"data row2 col2\" >64.20%</td>\n",
       "            </tr>\n",
       "            <tr>\n",
       "                                <td id=\"T_2e463894_67f8_11ec_b0d2_f875a435d11arow3_col0\" class=\"data row3 col0\" >class</td>\n",
       "                        <td id=\"T_2e463894_67f8_11ec_b0d2_f875a435d11arow3_col1\" class=\"data row3 col1\" >7.40%</td>\n",
       "                        <td id=\"T_2e463894_67f8_11ec_b0d2_f875a435d11arow3_col2\" class=\"data row3 col2\" >71.60%</td>\n",
       "            </tr>\n",
       "            <tr>\n",
       "                                <td id=\"T_2e463894_67f8_11ec_b0d2_f875a435d11arow4_col0\" class=\"data row4 col0\" >education-num</td>\n",
       "                        <td id=\"T_2e463894_67f8_11ec_b0d2_f875a435d11arow4_col1\" class=\"data row4 col1\" >6.90%</td>\n",
       "                        <td id=\"T_2e463894_67f8_11ec_b0d2_f875a435d11arow4_col2\" class=\"data row4 col2\" >78.50%</td>\n",
       "            </tr>\n",
       "            <tr>\n",
       "                                <td id=\"T_2e463894_67f8_11ec_b0d2_f875a435d11arow5_col0\" class=\"data row5 col0\" >hours-per-week</td>\n",
       "                        <td id=\"T_2e463894_67f8_11ec_b0d2_f875a435d11arow5_col1\" class=\"data row5 col1\" >6.60%</td>\n",
       "                        <td id=\"T_2e463894_67f8_11ec_b0d2_f875a435d11arow5_col2\" class=\"data row5 col2\" >85.10%</td>\n",
       "            </tr>\n",
       "            <tr>\n",
       "                                <td id=\"T_2e463894_67f8_11ec_b0d2_f875a435d11arow6_col0\" class=\"data row6 col0\" >fnlwgt</td>\n",
       "                        <td id=\"T_2e463894_67f8_11ec_b0d2_f875a435d11arow6_col1\" class=\"data row6 col1\" >5.90%</td>\n",
       "                        <td id=\"T_2e463894_67f8_11ec_b0d2_f875a435d11arow6_col2\" class=\"data row6 col2\" >91.00%</td>\n",
       "            </tr>\n",
       "            <tr>\n",
       "                                <td id=\"T_2e463894_67f8_11ec_b0d2_f875a435d11arow7_col0\" class=\"data row7 col0\" >occupation</td>\n",
       "                        <td id=\"T_2e463894_67f8_11ec_b0d2_f875a435d11arow7_col1\" class=\"data row7 col1\" >4.00%</td>\n",
       "                        <td id=\"T_2e463894_67f8_11ec_b0d2_f875a435d11arow7_col2\" class=\"data row7 col2\" >95.00%</td>\n",
       "            </tr>\n",
       "            <tr>\n",
       "                                <td id=\"T_2e463894_67f8_11ec_b0d2_f875a435d11arow8_col0\" class=\"data row8 col0\" >education</td>\n",
       "                        <td id=\"T_2e463894_67f8_11ec_b0d2_f875a435d11arow8_col1\" class=\"data row8 col1\" >2.50%</td>\n",
       "                        <td id=\"T_2e463894_67f8_11ec_b0d2_f875a435d11arow8_col2\" class=\"data row8 col2\" >97.50%</td>\n",
       "            </tr>\n",
       "            <tr>\n",
       "                                <td id=\"T_2e463894_67f8_11ec_b0d2_f875a435d11arow9_col0\" class=\"data row9 col0\" >capital-gain</td>\n",
       "                        <td id=\"T_2e463894_67f8_11ec_b0d2_f875a435d11arow9_col1\" class=\"data row9 col1\" >2.50%</td>\n",
       "                        <td id=\"T_2e463894_67f8_11ec_b0d2_f875a435d11arow9_col2\" class=\"data row9 col2\" >100.00%</td>\n",
       "            </tr>\n",
       "    </tbody></table>"
      ],
      "text/plain": [
       "<pandas.io.formats.style.Styler at 0x24265757a60>"
      ]
     },
     "execution_count": 4,
     "metadata": {},
     "output_type": "execute_result"
    }
   ],
   "source": [
    "df = apl_model.get_debrief_report('ClassificationRegression_VariablesContribution').collect()\n",
    "df = df.sort_values(by=['Rank'])\n",
    "df.drop({'Oid','Method','Rank'}, axis=1, inplace=True)\n",
    "df.drop(df[df.Contribution <=0].index, inplace=True)\n",
    "format_dict = {'Contribution':'{:,.2%}','Cumulative':'{:,.2%}'}\n",
    "df.style.format(format_dict).hide_index()"
   ]
  },
  {
   "cell_type": "code",
   "execution_count": 5,
   "metadata": {},
   "outputs": [
    {
     "data": {
      "text/html": [
       "<style  type=\"text/css\" >\n",
       "</style><table id=\"T_2e9f7236_67f8_11ec_afa6_f875a435d11a\" ><thead>    <tr>        <th class=\"col_heading level0 col0\" >Target</th>        <th class=\"col_heading level0 col1\" >Partition</th>        <th class=\"col_heading level0 col2\" >Indicator</th>        <th class=\"col_heading level0 col3\" >Value</th>    </tr></thead><tbody>\n",
       "                <tr>\n",
       "                                <td id=\"T_2e9f7236_67f8_11ec_afa6_f875a435d11arow0_col0\" class=\"data row0 col0\" >age</td>\n",
       "                        <td id=\"T_2e9f7236_67f8_11ec_afa6_f875a435d11arow0_col1\" class=\"data row0 col1\" >Validation</td>\n",
       "                        <td id=\"T_2e9f7236_67f8_11ec_afa6_f875a435d11arow0_col2\" class=\"data row0 col2\" >RMSE</td>\n",
       "                        <td id=\"T_2e9f7236_67f8_11ec_afa6_f875a435d11arow0_col3\" class=\"data row0 col3\" >9.800</td>\n",
       "            </tr>\n",
       "            <tr>\n",
       "                                <td id=\"T_2e9f7236_67f8_11ec_afa6_f875a435d11arow1_col0\" class=\"data row1 col0\" >age</td>\n",
       "                        <td id=\"T_2e9f7236_67f8_11ec_afa6_f875a435d11arow1_col1\" class=\"data row1 col1\" >Validation</td>\n",
       "                        <td id=\"T_2e9f7236_67f8_11ec_afa6_f875a435d11arow1_col2\" class=\"data row1 col2\" >MAPE</td>\n",
       "                        <td id=\"T_2e9f7236_67f8_11ec_afa6_f875a435d11arow1_col3\" class=\"data row1 col3\" >0.209</td>\n",
       "            </tr>\n",
       "    </tbody></table>"
      ],
      "text/plain": [
       "<pandas.io.formats.style.Styler at 0x24267d41ac0>"
      ]
     },
     "execution_count": 5,
     "metadata": {},
     "output_type": "execute_result"
    }
   ],
   "source": [
    "my_filter = \"\\\"Partition\\\" = 'Validation' and \\\"Indicator\\\" in ('MAPE','RMSE')\"\n",
    "df = apl_model.get_debrief_report('ClassificationRegression_Performance').filter(my_filter).collect()\n",
    "df.drop('Oid', axis=1, inplace=True)\n",
    "format_dict = {'Value':'{:,.3f}'}\n",
    "df.style.format(format_dict).hide_index()"
   ]
  },
  {
   "cell_type": "markdown",
   "metadata": {},
   "source": [
    "## Make Predictions"
   ]
  },
  {
   "cell_type": "code",
   "execution_count": 6,
   "metadata": {},
   "outputs": [
    {
     "data": {
      "text/html": [
       "<div>\n",
       "<style scoped>\n",
       "    .dataframe tbody tr th:only-of-type {\n",
       "        vertical-align: middle;\n",
       "    }\n",
       "\n",
       "    .dataframe tbody tr th {\n",
       "        vertical-align: top;\n",
       "    }\n",
       "\n",
       "    .dataframe thead th {\n",
       "        text-align: right;\n",
       "    }\n",
       "</style>\n",
       "<table border=\"1\" class=\"dataframe\">\n",
       "  <thead>\n",
       "    <tr style=\"text-align: right;\">\n",
       "      <th></th>\n",
       "      <th>id</th>\n",
       "      <th>Actual</th>\n",
       "      <th>Prediction</th>\n",
       "    </tr>\n",
       "  </thead>\n",
       "  <tbody>\n",
       "    <tr>\n",
       "      <th>0</th>\n",
       "      <td>30</td>\n",
       "      <td>49</td>\n",
       "      <td>40</td>\n",
       "    </tr>\n",
       "    <tr>\n",
       "      <th>1</th>\n",
       "      <td>63</td>\n",
       "      <td>48</td>\n",
       "      <td>42</td>\n",
       "    </tr>\n",
       "    <tr>\n",
       "      <th>2</th>\n",
       "      <td>66</td>\n",
       "      <td>36</td>\n",
       "      <td>41</td>\n",
       "    </tr>\n",
       "    <tr>\n",
       "      <th>3</th>\n",
       "      <td>110</td>\n",
       "      <td>42</td>\n",
       "      <td>40</td>\n",
       "    </tr>\n",
       "    <tr>\n",
       "      <th>4</th>\n",
       "      <td>335</td>\n",
       "      <td>53</td>\n",
       "      <td>40</td>\n",
       "    </tr>\n",
       "    <tr>\n",
       "      <th>5</th>\n",
       "      <td>352</td>\n",
       "      <td>26</td>\n",
       "      <td>40</td>\n",
       "    </tr>\n",
       "    <tr>\n",
       "      <th>6</th>\n",
       "      <td>366</td>\n",
       "      <td>28</td>\n",
       "      <td>41</td>\n",
       "    </tr>\n",
       "    <tr>\n",
       "      <th>7</th>\n",
       "      <td>407</td>\n",
       "      <td>28</td>\n",
       "      <td>41</td>\n",
       "    </tr>\n",
       "  </tbody>\n",
       "</table>\n",
       "</div>"
      ],
      "text/plain": [
       "    id  Actual  Prediction\n",
       "0   30      49          40\n",
       "1   63      48          42\n",
       "2   66      36          41\n",
       "3  110      42          40\n",
       "4  335      53          40\n",
       "5  352      26          40\n",
       "6  366      28          41\n",
       "7  407      28          41"
      ]
     },
     "execution_count": 6,
     "metadata": {},
     "output_type": "execute_result"
    }
   ],
   "source": [
    "sql_cmd = 'SELECT * FROM \"APL_SAMPLES\".\"CENSUS\" LIMIT 100'\n",
    "hdf_apply = hd.DataFrame(conn, sql_cmd)\n",
    "df = apl_model.predict(hdf_apply).collect()\n",
    "df.columns = ['id', 'Actual','Prediction']\n",
    "df.head(8)"
   ]
  },
  {
   "cell_type": "code",
   "execution_count": null,
   "metadata": {},
   "outputs": [],
   "source": []
  }
 ],
 "metadata": {
  "kernelspec": {
   "display_name": "Python 3",
   "language": "python",
   "name": "python3"
  },
  "language_info": {
   "codemirror_mode": {
    "name": "ipython",
    "version": 3
   },
   "file_extension": ".py",
   "mimetype": "text/x-python",
   "name": "python",
   "nbconvert_exporter": "python",
   "pygments_lexer": "ipython3",
   "version": "3.8.7"
  }
 },
 "nbformat": 4,
 "nbformat_minor": 4
}

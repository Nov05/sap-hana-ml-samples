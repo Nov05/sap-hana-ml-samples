{
 "cells": [
  {
   "cell_type": "markdown",
   "metadata": {},
   "source": [
    "# Python HANA ML APL"
   ]
  },
  {
   "cell_type": "markdown",
   "metadata": {},
   "source": [
    "<div class=\"alert alert-block alert-info\">\n",
    "<b>Get JSON code of predictive model for standalone apply.</b> <br>\n",
    "</div>"
   ]
  },
  {
   "cell_type": "markdown",
   "metadata": {},
   "source": [
    "## Learn from historical data"
   ]
  },
  {
   "cell_type": "markdown",
   "metadata": {},
   "source": [
    "### Create an HANA Dataframe for the training data"
   ]
  },
  {
   "cell_type": "code",
   "execution_count": 1,
   "metadata": {},
   "outputs": [],
   "source": [
    "from hana_ml import dataframe as hd\n",
    "conn = hd.ConnectionContext(userkey='MLMDA_KEY')\n",
    "sql_cmd = 'SELECT * FROM \"APL_SAMPLES\".\"AUTO_CLAIMS_FRAUD\" ORDER BY CLAIM_ID'\n",
    "hdf_train = hd.DataFrame(conn, sql_cmd)"
   ]
  },
  {
   "cell_type": "code",
   "execution_count": 2,
   "metadata": {},
   "outputs": [
    {
     "data": {
      "text/html": [
       "<div>\n",
       "<style scoped>\n",
       "    .dataframe tbody tr th:only-of-type {\n",
       "        vertical-align: middle;\n",
       "    }\n",
       "\n",
       "    .dataframe tbody tr th {\n",
       "        vertical-align: top;\n",
       "    }\n",
       "\n",
       "    .dataframe thead th {\n",
       "        text-align: right;\n",
       "    }\n",
       "</style>\n",
       "<table border=\"1\" class=\"dataframe\">\n",
       "  <thead>\n",
       "    <tr style=\"text-align: right;\">\n",
       "      <th></th>\n",
       "      <th>CLAIM_ID</th>\n",
       "      <th>DAYS_TO_REPORT</th>\n",
       "      <th>BODILY_INJURY_AMOUNT</th>\n",
       "      <th>PROPERTY_DAMAGE</th>\n",
       "      <th>PREVIOUS_CLAIMS</th>\n",
       "      <th>PAYMENT_METHOD</th>\n",
       "      <th>IS_REAR_END_COLLISION</th>\n",
       "      <th>PREM_AMOUNT</th>\n",
       "      <th>AGE</th>\n",
       "      <th>GENDER</th>\n",
       "      <th>MARITAL_STATUS</th>\n",
       "      <th>INCOME_ESTIMATE</th>\n",
       "      <th>INCOME_CATEGORY</th>\n",
       "      <th>POLICY_HOLDER</th>\n",
       "      <th>IS_FRAUD</th>\n",
       "    </tr>\n",
       "  </thead>\n",
       "  <tbody>\n",
       "    <tr>\n",
       "      <th>0</th>\n",
       "      <td>CL_0000765</td>\n",
       "      <td>8</td>\n",
       "      <td>0</td>\n",
       "      <td>1957</td>\n",
       "      <td>0</td>\n",
       "      <td>CC</td>\n",
       "      <td>No</td>\n",
       "      <td>Safedriving_discount</td>\n",
       "      <td>52</td>\n",
       "      <td>Male</td>\n",
       "      <td>Single</td>\n",
       "      <td>15906.0</td>\n",
       "      <td>15</td>\n",
       "      <td>Y</td>\n",
       "      <td>No</td>\n",
       "    </tr>\n",
       "    <tr>\n",
       "      <th>1</th>\n",
       "      <td>CL_0000832</td>\n",
       "      <td>30</td>\n",
       "      <td>2541</td>\n",
       "      <td>3843</td>\n",
       "      <td>0</td>\n",
       "      <td>CC</td>\n",
       "      <td>No</td>\n",
       "      <td>Safedriving_discount</td>\n",
       "      <td>85</td>\n",
       "      <td>Female</td>\n",
       "      <td>Single</td>\n",
       "      <td>91100.6</td>\n",
       "      <td>75</td>\n",
       "      <td>N</td>\n",
       "      <td>No</td>\n",
       "    </tr>\n",
       "    <tr>\n",
       "      <th>2</th>\n",
       "      <td>CL_0002015</td>\n",
       "      <td>4</td>\n",
       "      <td>0</td>\n",
       "      <td>25719</td>\n",
       "      <td>0</td>\n",
       "      <td>CC</td>\n",
       "      <td>No</td>\n",
       "      <td>Standard</td>\n",
       "      <td>45</td>\n",
       "      <td>Male</td>\n",
       "      <td>Married</td>\n",
       "      <td>67085.4</td>\n",
       "      <td>50</td>\n",
       "      <td>N</td>\n",
       "      <td>No</td>\n",
       "    </tr>\n",
       "    <tr>\n",
       "      <th>3</th>\n",
       "      <td>CL_0002854</td>\n",
       "      <td>0</td>\n",
       "      <td>0</td>\n",
       "      <td>83</td>\n",
       "      <td>1</td>\n",
       "      <td>Auto</td>\n",
       "      <td>No</td>\n",
       "      <td>Standard</td>\n",
       "      <td>75</td>\n",
       "      <td>Male</td>\n",
       "      <td>Married</td>\n",
       "      <td>49561.0</td>\n",
       "      <td>35</td>\n",
       "      <td>N</td>\n",
       "      <td>No</td>\n",
       "    </tr>\n",
       "    <tr>\n",
       "      <th>4</th>\n",
       "      <td>CL_0002869</td>\n",
       "      <td>22</td>\n",
       "      <td>0</td>\n",
       "      <td>1264</td>\n",
       "      <td>0</td>\n",
       "      <td>CC</td>\n",
       "      <td>Yes</td>\n",
       "      <td>Standard</td>\n",
       "      <td>48</td>\n",
       "      <td>Female</td>\n",
       "      <td>Married</td>\n",
       "      <td>39598.7</td>\n",
       "      <td>35</td>\n",
       "      <td>N</td>\n",
       "      <td>No</td>\n",
       "    </tr>\n",
       "    <tr>\n",
       "      <th>5</th>\n",
       "      <td>CL_0003400</td>\n",
       "      <td>3</td>\n",
       "      <td>9903</td>\n",
       "      <td>7333</td>\n",
       "      <td>0</td>\n",
       "      <td>Auto</td>\n",
       "      <td>No</td>\n",
       "      <td>Safedriving_discount</td>\n",
       "      <td>41</td>\n",
       "      <td>Male</td>\n",
       "      <td>Single</td>\n",
       "      <td>48271.8</td>\n",
       "      <td>35</td>\n",
       "      <td>N</td>\n",
       "      <td>Yes</td>\n",
       "    </tr>\n",
       "  </tbody>\n",
       "</table>\n",
       "</div>"
      ],
      "text/plain": [
       "     CLAIM_ID  DAYS_TO_REPORT  BODILY_INJURY_AMOUNT  PROPERTY_DAMAGE  \\\n",
       "0  CL_0000765               8                     0             1957   \n",
       "1  CL_0000832              30                  2541             3843   \n",
       "2  CL_0002015               4                     0            25719   \n",
       "3  CL_0002854               0                     0               83   \n",
       "4  CL_0002869              22                     0             1264   \n",
       "5  CL_0003400               3                  9903             7333   \n",
       "\n",
       "   PREVIOUS_CLAIMS PAYMENT_METHOD IS_REAR_END_COLLISION           PREM_AMOUNT  \\\n",
       "0                0             CC                    No  Safedriving_discount   \n",
       "1                0             CC                    No  Safedriving_discount   \n",
       "2                0             CC                    No              Standard   \n",
       "3                1           Auto                    No              Standard   \n",
       "4                0             CC                   Yes              Standard   \n",
       "5                0           Auto                    No  Safedriving_discount   \n",
       "\n",
       "   AGE  GENDER MARITAL_STATUS  INCOME_ESTIMATE  INCOME_CATEGORY POLICY_HOLDER  \\\n",
       "0   52    Male         Single          15906.0               15             Y   \n",
       "1   85  Female         Single          91100.6               75             N   \n",
       "2   45    Male        Married          67085.4               50             N   \n",
       "3   75    Male        Married          49561.0               35             N   \n",
       "4   48  Female        Married          39598.7               35             N   \n",
       "5   41    Male         Single          48271.8               35             N   \n",
       "\n",
       "  IS_FRAUD  \n",
       "0       No  \n",
       "1       No  \n",
       "2       No  \n",
       "3       No  \n",
       "4       No  \n",
       "5      Yes  "
      ]
     },
     "execution_count": 2,
     "metadata": {},
     "output_type": "execute_result"
    }
   ],
   "source": [
    "hdf_train.head(6).collect()"
   ]
  },
  {
   "cell_type": "markdown",
   "metadata": {},
   "source": [
    "### Fit with APL Gradient Boosting"
   ]
  },
  {
   "cell_type": "code",
   "execution_count": 3,
   "metadata": {},
   "outputs": [],
   "source": [
    "from hana_ml.algorithms.apl.gradient_boosting_classification import GradientBoostingBinaryClassifier\n",
    "apl_model = GradientBoostingBinaryClassifier()\n",
    "apl_model.set_params(other_train_apl_aliases={'APL/VariableAutoSelection':'true'})\n",
    "apl_model.fit(hdf_train, label='IS_FRAUD', key='CLAIM_ID')"
   ]
  },
  {
   "cell_type": "code",
   "execution_count": 4,
   "metadata": {},
   "outputs": [
    {
     "data": {
      "text/html": [
       "<style  type=\"text/css\" >\n",
       "</style><table id=\"T_81d360fb_67f8_11ec_a0a5_f875a435d11a\" ><thead>    <tr>        <th class=\"col_heading level0 col0\" >Target</th>        <th class=\"col_heading level0 col1\" >Partition</th>        <th class=\"col_heading level0 col2\" >Indicator</th>        <th class=\"col_heading level0 col3\" >Value</th>    </tr></thead><tbody>\n",
       "                <tr>\n",
       "                                <td id=\"T_81d360fb_67f8_11ec_a0a5_f875a435d11arow0_col0\" class=\"data row0 col0\" >IS_FRAUD</td>\n",
       "                        <td id=\"T_81d360fb_67f8_11ec_a0a5_f875a435d11arow0_col1\" class=\"data row0 col1\" >Validation</td>\n",
       "                        <td id=\"T_81d360fb_67f8_11ec_a0a5_f875a435d11arow0_col2\" class=\"data row0 col2\" >F1 Score</td>\n",
       "                        <td id=\"T_81d360fb_67f8_11ec_a0a5_f875a435d11arow0_col3\" class=\"data row0 col3\" >0.595</td>\n",
       "            </tr>\n",
       "            <tr>\n",
       "                                <td id=\"T_81d360fb_67f8_11ec_a0a5_f875a435d11arow1_col0\" class=\"data row1 col0\" >IS_FRAUD</td>\n",
       "                        <td id=\"T_81d360fb_67f8_11ec_a0a5_f875a435d11arow1_col1\" class=\"data row1 col1\" >Validation</td>\n",
       "                        <td id=\"T_81d360fb_67f8_11ec_a0a5_f875a435d11arow1_col2\" class=\"data row1 col2\" >AUC</td>\n",
       "                        <td id=\"T_81d360fb_67f8_11ec_a0a5_f875a435d11arow1_col3\" class=\"data row1 col3\" >0.923</td>\n",
       "            </tr>\n",
       "            <tr>\n",
       "                                <td id=\"T_81d360fb_67f8_11ec_a0a5_f875a435d11arow2_col0\" class=\"data row2 col0\" >IS_FRAUD</td>\n",
       "                        <td id=\"T_81d360fb_67f8_11ec_a0a5_f875a435d11arow2_col1\" class=\"data row2 col1\" >Validation</td>\n",
       "                        <td id=\"T_81d360fb_67f8_11ec_a0a5_f875a435d11arow2_col2\" class=\"data row2 col2\" >Cohen's kappa</td>\n",
       "                        <td id=\"T_81d360fb_67f8_11ec_a0a5_f875a435d11arow2_col3\" class=\"data row2 col3\" >0.543</td>\n",
       "            </tr>\n",
       "    </tbody></table>"
      ],
      "text/plain": [
       "<pandas.io.formats.style.Styler at 0x17c6dcf01f0>"
      ]
     },
     "execution_count": 4,
     "metadata": {},
     "output_type": "execute_result"
    }
   ],
   "source": [
    "my_filter = \"\\\"Partition\\\" = 'Validation' and \\\"Indicator\\\" in ('AUC','F1 Score','Cohen''s kappa')\"\n",
    "df = apl_model.get_debrief_report('ClassificationRegression_Performance').filter(my_filter).collect()\n",
    "df.drop('Oid', axis=1, inplace=True)\n",
    "format_dict = {'Value':'{:,.3f}'}\n",
    "df.style.format(format_dict).hide_index()"
   ]
  },
  {
   "cell_type": "markdown",
   "metadata": {},
   "source": [
    "### Export Apply Code"
   ]
  },
  {
   "cell_type": "code",
   "execution_count": 5,
   "metadata": {},
   "outputs": [],
   "source": [
    "apl_scoring_equation = apl_model.export_apply_code(code_type='JSON')"
   ]
  },
  {
   "cell_type": "code",
   "execution_count": 6,
   "metadata": {},
   "outputs": [],
   "source": [
    "text_file = open(\"apl_model.json\", \"w\")\n",
    "text_file.write(apl_scoring_equation)\n",
    "text_file.close()"
   ]
  },
  {
   "cell_type": "code",
   "execution_count": null,
   "metadata": {},
   "outputs": [],
   "source": []
  }
 ],
 "metadata": {
  "kernelspec": {
   "display_name": "Python 3",
   "language": "python",
   "name": "python3"
  },
  "language_info": {
   "codemirror_mode": {
    "name": "ipython",
    "version": 3
   },
   "file_extension": ".py",
   "mimetype": "text/x-python",
   "name": "python",
   "nbconvert_exporter": "python",
   "pygments_lexer": "ipython3",
   "version": "3.8.7"
  }
 },
 "nbformat": 4,
 "nbformat_minor": 4
}

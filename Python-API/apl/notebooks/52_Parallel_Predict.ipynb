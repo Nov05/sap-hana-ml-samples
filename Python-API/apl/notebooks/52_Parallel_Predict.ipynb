{
 "cells": [
  {
   "cell_type": "markdown",
   "metadata": {},
   "source": [
    "# Python HANA ML APL"
   ]
  },
  {
   "cell_type": "markdown",
   "metadata": {},
   "source": [
    "<div class=\"alert alert-block alert-info\">\n",
    "<b>Parallel Predict.</b> <br>\n",
    "</div>"
   ]
  },
  {
   "cell_type": "markdown",
   "metadata": {},
   "source": [
    "## Fit"
   ]
  },
  {
   "cell_type": "code",
   "execution_count": 1,
   "metadata": {},
   "outputs": [],
   "source": [
    "from hana_ml import dataframe as hd\n",
    "conn = hd.ConnectionContext(userkey='MLMDA_KEY')\n",
    "sql_cmd =  \"select * from APL_SAMPLES.CENSUS order by 1\"\n",
    "hdf_train = hd.DataFrame(conn, sql_cmd)"
   ]
  },
  {
   "cell_type": "code",
   "execution_count": 2,
   "metadata": {},
   "outputs": [],
   "source": [
    "from hana_ml.algorithms.apl.gradient_boosting_classification import GradientBoostingBinaryClassifier\n",
    "apl_model = GradientBoostingBinaryClassifier(variable_auto_selection = True)\n",
    "apl_model.fit(hdf_train, label='class', key='id')"
   ]
  },
  {
   "cell_type": "markdown",
   "metadata": {},
   "source": [
    "## Predict in Parallel"
   ]
  },
  {
   "cell_type": "code",
   "execution_count": 3,
   "metadata": {},
   "outputs": [],
   "source": [
    "apl_model.set_params(extra_applyout_settings=\n",
    "{ 'APL/ApplyExtraMode': 'Advanced Apply Settings', \n",
    "  'APL/ApplyPredictedValue': 'true', \n",
    "  'APL/ApplyProbability': 'true', \n",
    "  'APL/ApplyDecision': 'true' }\n",
    ")\n",
    "apl_model.set_params(max_tasks=4)  #  TASKS FOR EXECUTION IN PARALLEL\n",
    "\n",
    "hdf_apply_out = apl_model.predict(hdf_train)"
   ]
  },
  {
   "cell_type": "code",
   "execution_count": 4,
   "metadata": {},
   "outputs": [
    {
     "data": {
      "text/html": [
       "<style type=\"text/css\">\n",
       "</style>\n",
       "<table id=\"T_fa071\">\n",
       "  <thead>\n",
       "    <tr>\n",
       "      <th id=\"T_fa071_level0_col0\" class=\"col_heading level0 col0\" >id</th>\n",
       "      <th id=\"T_fa071_level0_col1\" class=\"col_heading level0 col1\" >TRUE_LABEL</th>\n",
       "      <th id=\"T_fa071_level0_col2\" class=\"col_heading level0 col2\" >PREDICTED</th>\n",
       "      <th id=\"T_fa071_level0_col3\" class=\"col_heading level0 col3\" >gb_score_class</th>\n",
       "      <th id=\"T_fa071_level0_col4\" class=\"col_heading level0 col4\" >gb_proba_class</th>\n",
       "    </tr>\n",
       "  </thead>\n",
       "  <tbody>\n",
       "    <tr>\n",
       "      <td id=\"T_fa071_row0_col0\" class=\"data row0 col0\" >1</td>\n",
       "      <td id=\"T_fa071_row0_col1\" class=\"data row0 col1\" >0</td>\n",
       "      <td id=\"T_fa071_row0_col2\" class=\"data row0 col2\" >0</td>\n",
       "      <td id=\"T_fa071_row0_col3\" class=\"data row0 col3\" >-4.116368</td>\n",
       "      <td id=\"T_fa071_row0_col4\" class=\"data row0 col4\" >0.016042</td>\n",
       "    </tr>\n",
       "    <tr>\n",
       "      <td id=\"T_fa071_row1_col0\" class=\"data row1 col0\" >2</td>\n",
       "      <td id=\"T_fa071_row1_col1\" class=\"data row1 col1\" >0</td>\n",
       "      <td id=\"T_fa071_row1_col2\" class=\"data row1 col2\" >0</td>\n",
       "      <td id=\"T_fa071_row1_col3\" class=\"data row1 col3\" >-0.578038</td>\n",
       "      <td id=\"T_fa071_row1_col4\" class=\"data row1 col4\" >0.359384</td>\n",
       "    </tr>\n",
       "    <tr>\n",
       "      <td id=\"T_fa071_row2_col0\" class=\"data row2 col0\" >3</td>\n",
       "      <td id=\"T_fa071_row2_col1\" class=\"data row2 col1\" >0</td>\n",
       "      <td id=\"T_fa071_row2_col2\" class=\"data row2 col2\" >0</td>\n",
       "      <td id=\"T_fa071_row2_col3\" class=\"data row2 col3\" >-3.589874</td>\n",
       "      <td id=\"T_fa071_row2_col4\" class=\"data row2 col4\" >0.026860</td>\n",
       "    </tr>\n",
       "  </tbody>\n",
       "</table>\n"
      ],
      "text/plain": [
       "<pandas.io.formats.style.Styler at 0x1e1bdf68040>"
      ]
     },
     "execution_count": 4,
     "metadata": {},
     "output_type": "execute_result"
    }
   ],
   "source": [
    "hdf_apply_out.head(3).collect().style.hide(axis='index')"
   ]
  },
  {
   "cell_type": "code",
   "execution_count": null,
   "metadata": {},
   "outputs": [],
   "source": []
  }
 ],
 "metadata": {
  "kernelspec": {
   "display_name": "Python 3 (ipykernel)",
   "language": "python",
   "name": "python3"
  },
  "language_info": {
   "codemirror_mode": {
    "name": "ipython",
    "version": 3
   },
   "file_extension": ".py",
   "mimetype": "text/x-python",
   "name": "python",
   "nbconvert_exporter": "python",
   "pygments_lexer": "ipython3",
   "version": "3.10.4"
  }
 },
 "nbformat": 4,
 "nbformat_minor": 4
}

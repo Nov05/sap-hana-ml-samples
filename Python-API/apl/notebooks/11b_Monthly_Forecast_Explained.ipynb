{
 "cells": [
  {
   "cell_type": "markdown",
   "metadata": {},
   "source": [
    "# Python HANA ML APL"
   ]
  },
  {
   "cell_type": "markdown",
   "metadata": {},
   "source": [
    "<div class=\"alert alert-block alert-info\">\n",
    "<b>Reports on ozone rate time series model.</b> <br>\n",
    "</div>"
   ]
  },
  {
   "cell_type": "markdown",
   "metadata": {
    "slideshow": {
     "slide_type": "fragment"
    }
   },
   "source": [
    "### Create an HANA Dataframe for the actual series"
   ]
  },
  {
   "cell_type": "code",
   "execution_count": 1,
   "metadata": {},
   "outputs": [],
   "source": [
    "from hana_ml import dataframe as hd\n",
    "conn = hd.ConnectionContext(userkey='MLMDA_KEY')\n",
    "sql_cmd = 'SELECT * FROM \"APL_SAMPLES\".\"OZONE_RATE_LA\" ORDER BY \"Date\"'\n",
    "series_in = hd.DataFrame(conn, sql_cmd)"
   ]
  },
  {
   "cell_type": "code",
   "execution_count": 2,
   "metadata": {},
   "outputs": [
    {
     "data": {
      "text/html": [
       "<div>\n",
       "<style scoped>\n",
       "    .dataframe tbody tr th:only-of-type {\n",
       "        vertical-align: middle;\n",
       "    }\n",
       "\n",
       "    .dataframe tbody tr th {\n",
       "        vertical-align: top;\n",
       "    }\n",
       "\n",
       "    .dataframe thead th {\n",
       "        text-align: right;\n",
       "    }\n",
       "</style>\n",
       "<table border=\"1\" class=\"dataframe\">\n",
       "  <thead>\n",
       "    <tr style=\"text-align: right;\">\n",
       "      <th></th>\n",
       "      <th>Date</th>\n",
       "      <th>OzoneRateLA</th>\n",
       "    </tr>\n",
       "  </thead>\n",
       "  <tbody>\n",
       "    <tr>\n",
       "      <th>0</th>\n",
       "      <td>1955-01-28</td>\n",
       "      <td>2.63</td>\n",
       "    </tr>\n",
       "    <tr>\n",
       "      <th>1</th>\n",
       "      <td>1955-02-28</td>\n",
       "      <td>1.94</td>\n",
       "    </tr>\n",
       "    <tr>\n",
       "      <th>2</th>\n",
       "      <td>1955-03-28</td>\n",
       "      <td>3.38</td>\n",
       "    </tr>\n",
       "    <tr>\n",
       "      <th>3</th>\n",
       "      <td>1955-04-28</td>\n",
       "      <td>4.92</td>\n",
       "    </tr>\n",
       "    <tr>\n",
       "      <th>4</th>\n",
       "      <td>1955-05-28</td>\n",
       "      <td>6.29</td>\n",
       "    </tr>\n",
       "  </tbody>\n",
       "</table>\n",
       "</div>"
      ],
      "text/plain": [
       "         Date OzoneRateLA\n",
       "0  1955-01-28        2.63\n",
       "1  1955-02-28        1.94\n",
       "2  1955-03-28        3.38\n",
       "3  1955-04-28        4.92\n",
       "4  1955-05-28        6.29"
      ]
     },
     "execution_count": 2,
     "metadata": {},
     "output_type": "execute_result"
    }
   ],
   "source": [
    "series_in.head(5).collect()"
   ]
  },
  {
   "cell_type": "markdown",
   "metadata": {},
   "source": [
    "### Fit with APL"
   ]
  },
  {
   "cell_type": "markdown",
   "metadata": {},
   "source": [
    "#### Modeling"
   ]
  },
  {
   "cell_type": "code",
   "execution_count": 3,
   "metadata": {},
   "outputs": [],
   "source": [
    "from hana_ml.algorithms.apl.time_series import AutoTimeSeries\n",
    "apl_model = AutoTimeSeries(time_column_name= 'Date', target= 'OzoneRateLA', horizon= 12)\n",
    "apl_model.set_params(\n",
    "    other_params = {'force_positive_forecast': True},\n",
    "    other_train_apl_aliases = {'APL/DecomposeInfluencers':'true'})\n",
    "apl_model.fit(data = series_in)"
   ]
  },
  {
   "cell_type": "markdown",
   "metadata": {},
   "source": [
    " #### Reports"
   ]
  },
  {
   "cell_type": "code",
   "execution_count": 4,
   "metadata": {},
   "outputs": [
    {
     "data": {
      "text/html": [
       "<style  type=\"text/css\" >\n",
       "</style><table id=\"T_d6602f1d_67f3_11ec_b00c_f875a435d11a\" ><thead>    <tr>        <th class=\"col_heading level0 col0\" >Target Variable</th>        <th class=\"col_heading level0 col1\" >First Date</th>        <th class=\"col_heading level0 col2\" >Last Date</th>        <th class=\"col_heading level0 col3\" >Horizon</th>        <th class=\"col_heading level0 col4\" >Granularity</th>    </tr></thead><tbody>\n",
       "                <tr>\n",
       "                                <td id=\"T_d6602f1d_67f3_11ec_b00c_f875a435d11arow0_col0\" class=\"data row0 col0\" >OzoneRateLA</td>\n",
       "                        <td id=\"T_d6602f1d_67f3_11ec_b00c_f875a435d11arow0_col1\" class=\"data row0 col1\" >1955-01-28</td>\n",
       "                        <td id=\"T_d6602f1d_67f3_11ec_b00c_f875a435d11arow0_col2\" class=\"data row0 col2\" >1971-12-28</td>\n",
       "                        <td id=\"T_d6602f1d_67f3_11ec_b00c_f875a435d11arow0_col3\" class=\"data row0 col3\" >12</td>\n",
       "                        <td id=\"T_d6602f1d_67f3_11ec_b00c_f875a435d11arow0_col4\" class=\"data row0 col4\" >monthAmplitude</td>\n",
       "            </tr>\n",
       "    </tbody></table>"
      ],
      "text/plain": [
       "<pandas.io.formats.style.Styler at 0x244a8554bb0>"
      ]
     },
     "execution_count": 4,
     "metadata": {},
     "output_type": "execute_result"
    }
   ],
   "source": [
    "df = apl_model.get_debrief_report('TimeSeries_ModelOverview').collect()\n",
    "df = df[['Target Variable','First Date','Last Date','Horizon','Granularity']]\n",
    "df.style.hide_index()"
   ]
  },
  {
   "cell_type": "code",
   "execution_count": 5,
   "metadata": {},
   "outputs": [
    {
     "data": {
      "text/html": [
       "<style  type=\"text/css\" >\n",
       "</style><table id=\"T_d68db1b1_67f3_11ec_93ad_f875a435d11a\" ><thead>    <tr>        <th class=\"col_heading level0 col0\" >Partition</th>        <th class=\"col_heading level0 col1\" >MAE</th>        <th class=\"col_heading level0 col2\" >MAPE</th>        <th class=\"col_heading level0 col3\" >RMSE</th>    </tr></thead><tbody>\n",
       "                <tr>\n",
       "                                <td id=\"T_d68db1b1_67f3_11ec_93ad_f875a435d11arow0_col0\" class=\"data row0 col0\" >Validation</td>\n",
       "                        <td id=\"T_d68db1b1_67f3_11ec_93ad_f875a435d11arow0_col1\" class=\"data row0 col1\" >0.431</td>\n",
       "                        <td id=\"T_d68db1b1_67f3_11ec_93ad_f875a435d11arow0_col2\" class=\"data row0 col2\" >15.6%</td>\n",
       "                        <td id=\"T_d68db1b1_67f3_11ec_93ad_f875a435d11arow0_col3\" class=\"data row0 col3\" >0.536</td>\n",
       "            </tr>\n",
       "    </tbody></table>"
      ],
      "text/plain": [
       "<pandas.io.formats.style.Styler at 0x244a8564c40>"
      ]
     },
     "execution_count": 5,
     "metadata": {},
     "output_type": "execute_result"
    }
   ],
   "source": [
    "my_filter = \"\\\"Partition\\\"='Validation'\"\n",
    "df = apl_model.get_debrief_report('TimeSeries_Performance').filter(my_filter).collect()\n",
    "df = df[['Partition','MAE','MAPE','RMSE']]\n",
    "format_dict = {'MAE':'{:,.3f}','MAPE':'{:,.1f}%','RMSE':'{:,.3f}'}\n",
    "df.style.format(format_dict).hide_index()"
   ]
  },
  {
   "cell_type": "code",
   "execution_count": 6,
   "metadata": {},
   "outputs": [
    {
     "data": {
      "text/html": [
       "<style  type=\"text/css\" >\n",
       "</style><table id=\"T_d6b3b4a3_67f3_11ec_bec5_f875a435d11a\" ><thead>    <tr>        <th class=\"col_heading level0 col0\" >Component Type</th>        <th class=\"col_heading level0 col1\" >Component Value</th>    </tr></thead><tbody>\n",
       "                <tr>\n",
       "                                <td id=\"T_d6b3b4a3_67f3_11ec_bec5_f875a435d11arow0_col0\" class=\"data row0 col0\" >Trend</td>\n",
       "                        <td id=\"T_d6b3b4a3_67f3_11ec_bec5_f875a435d11arow0_col1\" class=\"data row0 col1\" >Linear( Date )</td>\n",
       "            </tr>\n",
       "            <tr>\n",
       "                                <td id=\"T_d6b3b4a3_67f3_11ec_bec5_f875a435d11arow1_col0\" class=\"data row1 col0\" >Cycles</td>\n",
       "                        <td id=\"T_d6b3b4a3_67f3_11ec_bec5_f875a435d11arow1_col1\" class=\"data row1 col1\" >None</td>\n",
       "            </tr>\n",
       "            <tr>\n",
       "                                <td id=\"T_d6b3b4a3_67f3_11ec_bec5_f875a435d11arow2_col0\" class=\"data row2 col0\" >Fluctuations</td>\n",
       "                        <td id=\"T_d6b3b4a3_67f3_11ec_bec5_f875a435d11arow2_col1\" class=\"data row2 col1\" >AR(37)</td>\n",
       "            </tr>\n",
       "    </tbody></table>"
      ],
      "text/plain": [
       "<pandas.io.formats.style.Styler at 0x244aa00e040>"
      ]
     },
     "execution_count": 6,
     "metadata": {},
     "output_type": "execute_result"
    }
   ],
   "source": [
    "df = apl_model.get_debrief_report('TimeSeries_Components').collect()\n",
    "df = df[['Component Type','Component Value']]\n",
    "df.style.hide_index()"
   ]
  },
  {
   "cell_type": "code",
   "execution_count": 7,
   "metadata": {},
   "outputs": [
    {
     "data": {
      "text/html": [
       "<style  type=\"text/css\" >\n",
       "</style><table id=\"T_d6d230ed_67f3_11ec_bc22_f875a435d11a\" ><thead>    <tr>        <th class=\"col_heading level0 col0\" >Row</th>        <th class=\"col_heading level0 col1\" >Type</th>        <th class=\"col_heading level0 col2\" >Item</th>        <th class=\"col_heading level0 col3\" >Relative Impact</th>    </tr></thead><tbody>\n",
       "                <tr>\n",
       "                                <td id=\"T_d6d230ed_67f3_11ec_bc22_f875a435d11arow0_col0\" class=\"data row0 col0\" >1</td>\n",
       "                        <td id=\"T_d6d230ed_67f3_11ec_bc22_f875a435d11arow0_col1\" class=\"data row0 col1\" >Trend</td>\n",
       "                        <td id=\"T_d6d230ed_67f3_11ec_bc22_f875a435d11arow0_col2\" class=\"data row0 col2\" >Linear</td>\n",
       "                        <td id=\"T_d6d230ed_67f3_11ec_bc22_f875a435d11arow0_col3\" class=\"data row0 col3\" >0.864</td>\n",
       "            </tr>\n",
       "            <tr>\n",
       "                                <td id=\"T_d6d230ed_67f3_11ec_bc22_f875a435d11arow1_col0\" class=\"data row1 col0\" >2</td>\n",
       "                        <td id=\"T_d6d230ed_67f3_11ec_bc22_f875a435d11arow1_col1\" class=\"data row1 col1\" >Cycles</td>\n",
       "                        <td id=\"T_d6d230ed_67f3_11ec_bc22_f875a435d11arow1_col2\" class=\"data row1 col2\" >None</td>\n",
       "                        <td id=\"T_d6d230ed_67f3_11ec_bc22_f875a435d11arow1_col3\" class=\"data row1 col3\" >0.000</td>\n",
       "            </tr>\n",
       "            <tr>\n",
       "                                <td id=\"T_d6d230ed_67f3_11ec_bc22_f875a435d11arow2_col0\" class=\"data row2 col0\" >3</td>\n",
       "                        <td id=\"T_d6d230ed_67f3_11ec_bc22_f875a435d11arow2_col1\" class=\"data row2 col1\" >Influencers</td>\n",
       "                        <td id=\"T_d6d230ed_67f3_11ec_bc22_f875a435d11arow2_col2\" class=\"data row2 col2\" >None</td>\n",
       "                        <td id=\"T_d6d230ed_67f3_11ec_bc22_f875a435d11arow2_col3\" class=\"data row2 col3\" >0.000</td>\n",
       "            </tr>\n",
       "            <tr>\n",
       "                                <td id=\"T_d6d230ed_67f3_11ec_bc22_f875a435d11arow3_col0\" class=\"data row3 col0\" >4</td>\n",
       "                        <td id=\"T_d6d230ed_67f3_11ec_bc22_f875a435d11arow3_col1\" class=\"data row3 col1\" >Fluctuations</td>\n",
       "                        <td id=\"T_d6d230ed_67f3_11ec_bc22_f875a435d11arow3_col2\" class=\"data row3 col2\" >None</td>\n",
       "                        <td id=\"T_d6d230ed_67f3_11ec_bc22_f875a435d11arow3_col3\" class=\"data row3 col3\" >0.084</td>\n",
       "            </tr>\n",
       "            <tr>\n",
       "                                <td id=\"T_d6d230ed_67f3_11ec_bc22_f875a435d11arow4_col0\" class=\"data row4 col0\" >5</td>\n",
       "                        <td id=\"T_d6d230ed_67f3_11ec_bc22_f875a435d11arow4_col1\" class=\"data row4 col1\" >Residuals</td>\n",
       "                        <td id=\"T_d6d230ed_67f3_11ec_bc22_f875a435d11arow4_col2\" class=\"data row4 col2\" >None</td>\n",
       "                        <td id=\"T_d6d230ed_67f3_11ec_bc22_f875a435d11arow4_col3\" class=\"data row4 col3\" >0.052</td>\n",
       "            </tr>\n",
       "    </tbody></table>"
      ],
      "text/plain": [
       "<pandas.io.formats.style.Styler at 0x244aa06d550>"
      ]
     },
     "execution_count": 7,
     "metadata": {},
     "output_type": "execute_result"
    }
   ],
   "source": [
    "df = apl_model.get_debrief_report('TimeSeries_Decomposition').collect()\n",
    "df = df[['Row','Type','Item','Relative Impact']]\n",
    "df = df.sort_values(by=['Row'])\n",
    "format_dict = {'Relative Impact':'{:,.3f}'}\n",
    "df.style.format(format_dict).hide_index()"
   ]
  },
  {
   "cell_type": "code",
   "execution_count": 8,
   "metadata": {},
   "outputs": [
    {
     "data": {
      "text/html": [
       "<style  type=\"text/css\" >\n",
       "</style><table id=\"T_d6f4c85d_67f3_11ec_8d17_f875a435d11a\" ><thead>    <tr>        <th class=\"col_heading level0 col0\" >Partition</th>        <th class=\"col_heading level0 col1\" >Date</th>        <th class=\"col_heading level0 col2\" >Signal</th>        <th class=\"col_heading level0 col3\" >Forecast</th>    </tr></thead><tbody>\n",
       "                <tr>\n",
       "                                <td id=\"T_d6f4c85d_67f3_11ec_8d17_f875a435d11arow0_col0\" class=\"data row0 col0\" >Estimation</td>\n",
       "                        <td id=\"T_d6f4c85d_67f3_11ec_8d17_f875a435d11arow0_col1\" class=\"data row0 col1\" >1959-06-28</td>\n",
       "                        <td id=\"T_d6f4c85d_67f3_11ec_8d17_f875a435d11arow0_col2\" class=\"data row0 col2\" >7.540000</td>\n",
       "                        <td id=\"T_d6f4c85d_67f3_11ec_8d17_f875a435d11arow0_col3\" class=\"data row0 col3\" >4.965000</td>\n",
       "            </tr>\n",
       "            <tr>\n",
       "                                <td id=\"T_d6f4c85d_67f3_11ec_8d17_f875a435d11arow1_col0\" class=\"data row1 col0\" >Estimation</td>\n",
       "                        <td id=\"T_d6f4c85d_67f3_11ec_8d17_f875a435d11arow1_col1\" class=\"data row1 col1\" >1965-10-28</td>\n",
       "                        <td id=\"T_d6f4c85d_67f3_11ec_8d17_f875a435d11arow1_col2\" class=\"data row1 col2\" >5.880000</td>\n",
       "                        <td id=\"T_d6f4c85d_67f3_11ec_8d17_f875a435d11arow1_col3\" class=\"data row1 col3\" >3.535000</td>\n",
       "            </tr>\n",
       "    </tbody></table>"
      ],
      "text/plain": [
       "<pandas.io.formats.style.Styler at 0x244aaae99d0>"
      ]
     },
     "execution_count": 8,
     "metadata": {},
     "output_type": "execute_result"
    }
   ],
   "source": [
    "df = apl_model.get_debrief_report('TimeSeries_Outliers').collect()\n",
    "df = df[['Partition','Date','Signal','Forecast']]\n",
    "df.style.hide_index()"
   ]
  },
  {
   "cell_type": "markdown",
   "metadata": {},
   "source": [
    "### Predict with APL"
   ]
  },
  {
   "cell_type": "code",
   "execution_count": 9,
   "metadata": {},
   "outputs": [],
   "source": [
    "series_out = apl_model.predict(data = series_in)\n",
    "df_out = series_out.collect()"
   ]
  },
  {
   "cell_type": "code",
   "execution_count": 10,
   "metadata": {},
   "outputs": [
    {
     "data": {
      "text/html": [
       "<style  type=\"text/css\" >\n",
       "</style><table id=\"T_d802305f_67f3_11ec_ae4d_f875a435d11a\" ><thead>    <tr>        <th class=\"col_heading level0 col0\" >Date</th>        <th class=\"col_heading level0 col1\" >Actual</th>        <th class=\"col_heading level0 col2\" >Forecast</th>        <th class=\"col_heading level0 col3\" >Lower Limit</th>        <th class=\"col_heading level0 col4\" >Upper Limit</th>    </tr></thead><tbody>\n",
       "                <tr>\n",
       "                                <td id=\"T_d802305f_67f3_11ec_ae4d_f875a435d11arow0_col0\" class=\"data row0 col0\" >1972-01-28</td>\n",
       "                        <td id=\"T_d802305f_67f3_11ec_ae4d_f875a435d11arow0_col1\" class=\"data row0 col1\" >None</td>\n",
       "                        <td id=\"T_d802305f_67f3_11ec_ae4d_f875a435d11arow0_col2\" class=\"data row0 col2\" >1.185043</td>\n",
       "                        <td id=\"T_d802305f_67f3_11ec_ae4d_f875a435d11arow0_col3\" class=\"data row0 col3\" >0.164166</td>\n",
       "                        <td id=\"T_d802305f_67f3_11ec_ae4d_f875a435d11arow0_col4\" class=\"data row0 col4\" >2.205919</td>\n",
       "            </tr>\n",
       "            <tr>\n",
       "                                <td id=\"T_d802305f_67f3_11ec_ae4d_f875a435d11arow1_col0\" class=\"data row1 col0\" >1972-02-28</td>\n",
       "                        <td id=\"T_d802305f_67f3_11ec_ae4d_f875a435d11arow1_col1\" class=\"data row1 col1\" >None</td>\n",
       "                        <td id=\"T_d802305f_67f3_11ec_ae4d_f875a435d11arow1_col2\" class=\"data row1 col2\" >1.835063</td>\n",
       "                        <td id=\"T_d802305f_67f3_11ec_ae4d_f875a435d11arow1_col3\" class=\"data row1 col3\" >0.807530</td>\n",
       "                        <td id=\"T_d802305f_67f3_11ec_ae4d_f875a435d11arow1_col4\" class=\"data row1 col4\" >2.862597</td>\n",
       "            </tr>\n",
       "            <tr>\n",
       "                                <td id=\"T_d802305f_67f3_11ec_ae4d_f875a435d11arow2_col0\" class=\"data row2 col0\" >1972-03-28</td>\n",
       "                        <td id=\"T_d802305f_67f3_11ec_ae4d_f875a435d11arow2_col1\" class=\"data row2 col1\" >None</td>\n",
       "                        <td id=\"T_d802305f_67f3_11ec_ae4d_f875a435d11arow2_col2\" class=\"data row2 col2\" >2.321015</td>\n",
       "                        <td id=\"T_d802305f_67f3_11ec_ae4d_f875a435d11arow2_col3\" class=\"data row2 col3\" >1.282088</td>\n",
       "                        <td id=\"T_d802305f_67f3_11ec_ae4d_f875a435d11arow2_col4\" class=\"data row2 col4\" >3.359942</td>\n",
       "            </tr>\n",
       "            <tr>\n",
       "                                <td id=\"T_d802305f_67f3_11ec_ae4d_f875a435d11arow3_col0\" class=\"data row3 col0\" >1972-04-28</td>\n",
       "                        <td id=\"T_d802305f_67f3_11ec_ae4d_f875a435d11arow3_col1\" class=\"data row3 col1\" >None</td>\n",
       "                        <td id=\"T_d802305f_67f3_11ec_ae4d_f875a435d11arow3_col2\" class=\"data row3 col2\" >2.539699</td>\n",
       "                        <td id=\"T_d802305f_67f3_11ec_ae4d_f875a435d11arow3_col3\" class=\"data row3 col3\" >1.495163</td>\n",
       "                        <td id=\"T_d802305f_67f3_11ec_ae4d_f875a435d11arow3_col4\" class=\"data row3 col4\" >3.584235</td>\n",
       "            </tr>\n",
       "            <tr>\n",
       "                                <td id=\"T_d802305f_67f3_11ec_ae4d_f875a435d11arow4_col0\" class=\"data row4 col0\" >1972-05-28</td>\n",
       "                        <td id=\"T_d802305f_67f3_11ec_ae4d_f875a435d11arow4_col1\" class=\"data row4 col1\" >None</td>\n",
       "                        <td id=\"T_d802305f_67f3_11ec_ae4d_f875a435d11arow4_col2\" class=\"data row4 col2\" >3.055969</td>\n",
       "                        <td id=\"T_d802305f_67f3_11ec_ae4d_f875a435d11arow4_col3\" class=\"data row4 col3\" >1.997319</td>\n",
       "                        <td id=\"T_d802305f_67f3_11ec_ae4d_f875a435d11arow4_col4\" class=\"data row4 col4\" >4.114618</td>\n",
       "            </tr>\n",
       "            <tr>\n",
       "                                <td id=\"T_d802305f_67f3_11ec_ae4d_f875a435d11arow5_col0\" class=\"data row5 col0\" >1972-06-28</td>\n",
       "                        <td id=\"T_d802305f_67f3_11ec_ae4d_f875a435d11arow5_col1\" class=\"data row5 col1\" >None</td>\n",
       "                        <td id=\"T_d802305f_67f3_11ec_ae4d_f875a435d11arow5_col2\" class=\"data row5 col2\" >3.277982</td>\n",
       "                        <td id=\"T_d802305f_67f3_11ec_ae4d_f875a435d11arow5_col3\" class=\"data row5 col3\" >2.218938</td>\n",
       "                        <td id=\"T_d802305f_67f3_11ec_ae4d_f875a435d11arow5_col4\" class=\"data row5 col4\" >4.337026</td>\n",
       "            </tr>\n",
       "            <tr>\n",
       "                                <td id=\"T_d802305f_67f3_11ec_ae4d_f875a435d11arow6_col0\" class=\"data row6 col0\" >1972-07-28</td>\n",
       "                        <td id=\"T_d802305f_67f3_11ec_ae4d_f875a435d11arow6_col1\" class=\"data row6 col1\" >None</td>\n",
       "                        <td id=\"T_d802305f_67f3_11ec_ae4d_f875a435d11arow6_col2\" class=\"data row6 col2\" >3.381808</td>\n",
       "                        <td id=\"T_d802305f_67f3_11ec_ae4d_f875a435d11arow6_col3\" class=\"data row6 col3\" >2.323345</td>\n",
       "                        <td id=\"T_d802305f_67f3_11ec_ae4d_f875a435d11arow6_col4\" class=\"data row6 col4\" >4.440270</td>\n",
       "            </tr>\n",
       "            <tr>\n",
       "                                <td id=\"T_d802305f_67f3_11ec_ae4d_f875a435d11arow7_col0\" class=\"data row7 col0\" >1972-08-28</td>\n",
       "                        <td id=\"T_d802305f_67f3_11ec_ae4d_f875a435d11arow7_col1\" class=\"data row7 col1\" >None</td>\n",
       "                        <td id=\"T_d802305f_67f3_11ec_ae4d_f875a435d11arow7_col2\" class=\"data row7 col2\" >3.441817</td>\n",
       "                        <td id=\"T_d802305f_67f3_11ec_ae4d_f875a435d11arow7_col3\" class=\"data row7 col3\" >2.381831</td>\n",
       "                        <td id=\"T_d802305f_67f3_11ec_ae4d_f875a435d11arow7_col4\" class=\"data row7 col4\" >4.501803</td>\n",
       "            </tr>\n",
       "            <tr>\n",
       "                                <td id=\"T_d802305f_67f3_11ec_ae4d_f875a435d11arow8_col0\" class=\"data row8 col0\" >1972-09-28</td>\n",
       "                        <td id=\"T_d802305f_67f3_11ec_ae4d_f875a435d11arow8_col1\" class=\"data row8 col1\" >None</td>\n",
       "                        <td id=\"T_d802305f_67f3_11ec_ae4d_f875a435d11arow8_col2\" class=\"data row8 col2\" >3.046134</td>\n",
       "                        <td id=\"T_d802305f_67f3_11ec_ae4d_f875a435d11arow8_col3\" class=\"data row8 col3\" >1.982417</td>\n",
       "                        <td id=\"T_d802305f_67f3_11ec_ae4d_f875a435d11arow8_col4\" class=\"data row8 col4\" >4.109851</td>\n",
       "            </tr>\n",
       "            <tr>\n",
       "                                <td id=\"T_d802305f_67f3_11ec_ae4d_f875a435d11arow9_col0\" class=\"data row9 col0\" >1972-10-28</td>\n",
       "                        <td id=\"T_d802305f_67f3_11ec_ae4d_f875a435d11arow9_col1\" class=\"data row9 col1\" >None</td>\n",
       "                        <td id=\"T_d802305f_67f3_11ec_ae4d_f875a435d11arow9_col2\" class=\"data row9 col2\" >2.324650</td>\n",
       "                        <td id=\"T_d802305f_67f3_11ec_ae4d_f875a435d11arow9_col3\" class=\"data row9 col3\" >1.263911</td>\n",
       "                        <td id=\"T_d802305f_67f3_11ec_ae4d_f875a435d11arow9_col4\" class=\"data row9 col4\" >3.385389</td>\n",
       "            </tr>\n",
       "            <tr>\n",
       "                                <td id=\"T_d802305f_67f3_11ec_ae4d_f875a435d11arow10_col0\" class=\"data row10 col0\" >1972-11-28</td>\n",
       "                        <td id=\"T_d802305f_67f3_11ec_ae4d_f875a435d11arow10_col1\" class=\"data row10 col1\" >None</td>\n",
       "                        <td id=\"T_d802305f_67f3_11ec_ae4d_f875a435d11arow10_col2\" class=\"data row10 col2\" >1.756636</td>\n",
       "                        <td id=\"T_d802305f_67f3_11ec_ae4d_f875a435d11arow10_col3\" class=\"data row10 col3\" >0.699550</td>\n",
       "                        <td id=\"T_d802305f_67f3_11ec_ae4d_f875a435d11arow10_col4\" class=\"data row10 col4\" >2.813722</td>\n",
       "            </tr>\n",
       "            <tr>\n",
       "                                <td id=\"T_d802305f_67f3_11ec_ae4d_f875a435d11arow11_col0\" class=\"data row11 col0\" >1972-12-28</td>\n",
       "                        <td id=\"T_d802305f_67f3_11ec_ae4d_f875a435d11arow11_col1\" class=\"data row11 col1\" >None</td>\n",
       "                        <td id=\"T_d802305f_67f3_11ec_ae4d_f875a435d11arow11_col2\" class=\"data row11 col2\" >1.407857</td>\n",
       "                        <td id=\"T_d802305f_67f3_11ec_ae4d_f875a435d11arow11_col3\" class=\"data row11 col3\" >0.348003</td>\n",
       "                        <td id=\"T_d802305f_67f3_11ec_ae4d_f875a435d11arow11_col4\" class=\"data row11 col4\" >2.467711</td>\n",
       "            </tr>\n",
       "    </tbody></table>"
      ],
      "text/plain": [
       "<pandas.io.formats.style.Styler at 0x244aaaf1910>"
      ]
     },
     "execution_count": 10,
     "metadata": {},
     "output_type": "execute_result"
    }
   ],
   "source": [
    "dict = {'ACTUAL': 'Actual', \n",
    "        'PREDICTED': 'Forecast', \n",
    "        'LOWER_INT_95PCT': 'Lower Limit', \n",
    "        'UPPER_INT_95PCT': 'Upper Limit' }\n",
    "df_out.rename(columns=dict, inplace=True)\n",
    "df_out.tail(12).style.hide_index()"
   ]
  },
  {
   "cell_type": "code",
   "execution_count": null,
   "metadata": {},
   "outputs": [],
   "source": []
  }
 ],
 "metadata": {
  "kernelspec": {
   "display_name": "Python 3",
   "language": "python",
   "name": "python3"
  },
  "language_info": {
   "codemirror_mode": {
    "name": "ipython",
    "version": 3
   },
   "file_extension": ".py",
   "mimetype": "text/x-python",
   "name": "python",
   "nbconvert_exporter": "python",
   "pygments_lexer": "ipython3",
   "version": "3.8.7"
  }
 },
 "nbformat": 4,
 "nbformat_minor": 4
}

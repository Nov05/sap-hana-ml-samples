{
 "cells": [
  {
   "cell_type": "markdown",
   "metadata": {},
   "source": [
    "# Python HANA ML APL"
   ]
  },
  {
   "cell_type": "markdown",
   "metadata": {},
   "source": [
    "<div class=\"alert alert-block alert-info\">\n",
    "<b>Predicting a nominal target with more than  two classes.</b> <br>\n",
    "</div>"
   ]
  },
  {
   "cell_type": "markdown",
   "metadata": {},
   "source": [
    "## Train"
   ]
  },
  {
   "cell_type": "markdown",
   "metadata": {},
   "source": [
    "### Create an HANA Dataframe for the training data"
   ]
  },
  {
   "cell_type": "code",
   "execution_count": 1,
   "metadata": {},
   "outputs": [
    {
     "data": {
      "text/html": [
       "<div>\n",
       "<style scoped>\n",
       "    .dataframe tbody tr th:only-of-type {\n",
       "        vertical-align: middle;\n",
       "    }\n",
       "\n",
       "    .dataframe tbody tr th {\n",
       "        vertical-align: top;\n",
       "    }\n",
       "\n",
       "    .dataframe thead th {\n",
       "        text-align: right;\n",
       "    }\n",
       "</style>\n",
       "<table border=\"1\" class=\"dataframe\">\n",
       "  <thead>\n",
       "    <tr style=\"text-align: right;\">\n",
       "      <th></th>\n",
       "      <th>id</th>\n",
       "      <th>age</th>\n",
       "      <th>workclass</th>\n",
       "      <th>fnlwgt</th>\n",
       "      <th>education</th>\n",
       "      <th>education-num</th>\n",
       "      <th>marital-status</th>\n",
       "      <th>occupation</th>\n",
       "      <th>relationship</th>\n",
       "      <th>race</th>\n",
       "      <th>sex</th>\n",
       "      <th>capital-gain</th>\n",
       "      <th>capital-loss</th>\n",
       "      <th>hours-per-week</th>\n",
       "      <th>native-country</th>\n",
       "      <th>class</th>\n",
       "    </tr>\n",
       "  </thead>\n",
       "  <tbody>\n",
       "    <tr>\n",
       "      <th>0</th>\n",
       "      <td>1</td>\n",
       "      <td>39</td>\n",
       "      <td>State-gov</td>\n",
       "      <td>77516</td>\n",
       "      <td>Bachelors</td>\n",
       "      <td>13</td>\n",
       "      <td>Never-married</td>\n",
       "      <td>Adm-clerical</td>\n",
       "      <td>Not-in-family</td>\n",
       "      <td>White</td>\n",
       "      <td>Male</td>\n",
       "      <td>2174</td>\n",
       "      <td>0</td>\n",
       "      <td>40</td>\n",
       "      <td>United-States</td>\n",
       "      <td>0</td>\n",
       "    </tr>\n",
       "    <tr>\n",
       "      <th>1</th>\n",
       "      <td>2</td>\n",
       "      <td>50</td>\n",
       "      <td>Self-emp-not-inc</td>\n",
       "      <td>83311</td>\n",
       "      <td>Bachelors</td>\n",
       "      <td>13</td>\n",
       "      <td>Married-civ-spouse</td>\n",
       "      <td>Exec-managerial</td>\n",
       "      <td>Husband</td>\n",
       "      <td>White</td>\n",
       "      <td>Male</td>\n",
       "      <td>0</td>\n",
       "      <td>0</td>\n",
       "      <td>13</td>\n",
       "      <td>United-States</td>\n",
       "      <td>0</td>\n",
       "    </tr>\n",
       "    <tr>\n",
       "      <th>2</th>\n",
       "      <td>3</td>\n",
       "      <td>38</td>\n",
       "      <td>Private</td>\n",
       "      <td>215646</td>\n",
       "      <td>HS-grad</td>\n",
       "      <td>9</td>\n",
       "      <td>Divorced</td>\n",
       "      <td>Handlers-cleaners</td>\n",
       "      <td>Not-in-family</td>\n",
       "      <td>White</td>\n",
       "      <td>Male</td>\n",
       "      <td>0</td>\n",
       "      <td>0</td>\n",
       "      <td>40</td>\n",
       "      <td>United-States</td>\n",
       "      <td>0</td>\n",
       "    </tr>\n",
       "    <tr>\n",
       "      <th>3</th>\n",
       "      <td>4</td>\n",
       "      <td>53</td>\n",
       "      <td>Private</td>\n",
       "      <td>234721</td>\n",
       "      <td>11th</td>\n",
       "      <td>7</td>\n",
       "      <td>Married-civ-spouse</td>\n",
       "      <td>Handlers-cleaners</td>\n",
       "      <td>Husband</td>\n",
       "      <td>Black</td>\n",
       "      <td>Male</td>\n",
       "      <td>0</td>\n",
       "      <td>0</td>\n",
       "      <td>40</td>\n",
       "      <td>United-States</td>\n",
       "      <td>0</td>\n",
       "    </tr>\n",
       "    <tr>\n",
       "      <th>4</th>\n",
       "      <td>5</td>\n",
       "      <td>28</td>\n",
       "      <td>Private</td>\n",
       "      <td>338409</td>\n",
       "      <td>Bachelors</td>\n",
       "      <td>13</td>\n",
       "      <td>Married-civ-spouse</td>\n",
       "      <td>Prof-specialty</td>\n",
       "      <td>Wife</td>\n",
       "      <td>Black</td>\n",
       "      <td>Female</td>\n",
       "      <td>0</td>\n",
       "      <td>0</td>\n",
       "      <td>40</td>\n",
       "      <td>Cuba</td>\n",
       "      <td>0</td>\n",
       "    </tr>\n",
       "  </tbody>\n",
       "</table>\n",
       "</div>"
      ],
      "text/plain": [
       "   id  age         workclass  fnlwgt  education  education-num  \\\n",
       "0   1   39         State-gov   77516  Bachelors             13   \n",
       "1   2   50  Self-emp-not-inc   83311  Bachelors             13   \n",
       "2   3   38           Private  215646    HS-grad              9   \n",
       "3   4   53           Private  234721       11th              7   \n",
       "4   5   28           Private  338409  Bachelors             13   \n",
       "\n",
       "       marital-status         occupation   relationship   race     sex  \\\n",
       "0       Never-married       Adm-clerical  Not-in-family  White    Male   \n",
       "1  Married-civ-spouse    Exec-managerial        Husband  White    Male   \n",
       "2            Divorced  Handlers-cleaners  Not-in-family  White    Male   \n",
       "3  Married-civ-spouse  Handlers-cleaners        Husband  Black    Male   \n",
       "4  Married-civ-spouse     Prof-specialty           Wife  Black  Female   \n",
       "\n",
       "   capital-gain  capital-loss  hours-per-week native-country  class  \n",
       "0          2174             0              40  United-States      0  \n",
       "1             0             0              13  United-States      0  \n",
       "2             0             0              40  United-States      0  \n",
       "3             0             0              40  United-States      0  \n",
       "4             0             0              40           Cuba      0  "
      ]
     },
     "execution_count": 1,
     "metadata": {},
     "output_type": "execute_result"
    }
   ],
   "source": [
    "from hana_ml import dataframe as hd\n",
    "conn = hd.ConnectionContext(userkey='MLMDA_KEY')\n",
    "sql_cmd =  \"\"\" \n",
    "select * from apl_samples.census \n",
    "where \"marital-status\" not in (\n",
    "  select \"marital-status\" from apl_samples.census \n",
    "  group by \"marital-status\" having count(*) < 1500 )\n",
    "order by \"id\"\n",
    "\"\"\"\n",
    "hfd_train = hd.DataFrame(conn, sql_cmd)\n",
    "hfd_train.head(5).collect()"
   ]
  },
  {
   "cell_type": "code",
   "execution_count": 2,
   "metadata": {},
   "outputs": [
    {
     "data": {
      "text/plain": [
       "48177"
      ]
     },
     "execution_count": 2,
     "metadata": {},
     "output_type": "execute_result"
    }
   ],
   "source": [
    "hfd_train.shape[0]"
   ]
  },
  {
   "cell_type": "code",
   "execution_count": 3,
   "metadata": {},
   "outputs": [
    {
     "data": {
      "text/plain": [
       "13"
      ]
     },
     "execution_count": 3,
     "metadata": {},
     "output_type": "execute_result"
    }
   ],
   "source": [
    "col_key = 'id'\n",
    "col_target = 'marital-status'\n",
    "col_predictors = hfd_train.columns\n",
    "col_predictors.remove(col_key)\n",
    "col_predictors.remove(col_target)\n",
    "col_predictors.remove('education-num')\n",
    "len(col_predictors)"
   ]
  },
  {
   "cell_type": "markdown",
   "metadata": {},
   "source": [
    "### Fit with APL Gradient Boosting"
   ]
  },
  {
   "cell_type": "code",
   "execution_count": 4,
   "metadata": {},
   "outputs": [],
   "source": [
    "from hana_ml.algorithms.apl.gradient_boosting_classification import GradientBoostingClassifier\n",
    "apl_model = GradientBoostingClassifier()\n",
    "apl_model.set_params(variable_auto_selection = True, \n",
    "                     variable_selection_max_nb_of_final_variables = '6')\n",
    "apl_model.fit(hfd_train, label=col_target, key=col_key, features=col_predictors)"
   ]
  },
  {
   "cell_type": "markdown",
   "metadata": {},
   "source": [
    "##### Model Reports"
   ]
  },
  {
   "cell_type": "code",
   "execution_count": 5,
   "metadata": {
    "scrolled": true
   },
   "outputs": [
    {
     "data": {
      "text/html": [
       "<style type=\"text/css\">\n",
       "</style>\n",
       "<table id=\"T_c295c\">\n",
       "  <thead>\n",
       "    <tr>\n",
       "      <th id=\"T_c295c_level0_col0\" class=\"col_heading level0 col0\" >Target</th>\n",
       "      <th id=\"T_c295c_level0_col1\" class=\"col_heading level0 col1\" >Partition</th>\n",
       "      <th id=\"T_c295c_level0_col2\" class=\"col_heading level0 col2\" >Category</th>\n",
       "      <th id=\"T_c295c_level0_col3\" class=\"col_heading level0 col3\" >% Weight</th>\n",
       "      <th id=\"T_c295c_level0_col4\" class=\"col_heading level0 col4\" >Weight</th>\n",
       "    </tr>\n",
       "  </thead>\n",
       "  <tbody>\n",
       "    <tr>\n",
       "      <td id=\"T_c295c_row0_col0\" class=\"data row0 col0\" >marital-status</td>\n",
       "      <td id=\"T_c295c_row0_col1\" class=\"data row0 col1\" >Estimation</td>\n",
       "      <td id=\"T_c295c_row0_col2\" class=\"data row0 col2\" >Divorced</td>\n",
       "      <td id=\"T_c295c_row0_col3\" class=\"data row0 col3\" >13.71%</td>\n",
       "      <td id=\"T_c295c_row0_col4\" class=\"data row0 col4\" >4,917</td>\n",
       "    </tr>\n",
       "    <tr>\n",
       "      <td id=\"T_c295c_row1_col0\" class=\"data row1 col0\" >marital-status</td>\n",
       "      <td id=\"T_c295c_row1_col1\" class=\"data row1 col1\" >Estimation</td>\n",
       "      <td id=\"T_c295c_row1_col2\" class=\"data row1 col2\" >Married-civ-spouse</td>\n",
       "      <td id=\"T_c295c_row1_col3\" class=\"data row1 col3\" >46.25%</td>\n",
       "      <td id=\"T_c295c_row1_col4\" class=\"data row1 col4\" >16,592</td>\n",
       "    </tr>\n",
       "    <tr>\n",
       "      <td id=\"T_c295c_row2_col0\" class=\"data row2 col0\" >marital-status</td>\n",
       "      <td id=\"T_c295c_row2_col1\" class=\"data row2 col1\" >Estimation</td>\n",
       "      <td id=\"T_c295c_row2_col2\" class=\"data row2 col2\" >Never-married</td>\n",
       "      <td id=\"T_c295c_row2_col3\" class=\"data row2 col3\" >33.70%</td>\n",
       "      <td id=\"T_c295c_row2_col4\" class=\"data row2 col4\" >12,088</td>\n",
       "    </tr>\n",
       "    <tr>\n",
       "      <td id=\"T_c295c_row3_col0\" class=\"data row3 col0\" >marital-status</td>\n",
       "      <td id=\"T_c295c_row3_col1\" class=\"data row3 col1\" >Estimation</td>\n",
       "      <td id=\"T_c295c_row3_col2\" class=\"data row3 col2\" >Separated</td>\n",
       "      <td id=\"T_c295c_row3_col3\" class=\"data row3 col3\" >3.17%</td>\n",
       "      <td id=\"T_c295c_row3_col4\" class=\"data row3 col4\" >1,136</td>\n",
       "    </tr>\n",
       "    <tr>\n",
       "      <td id=\"T_c295c_row4_col0\" class=\"data row4 col0\" >marital-status</td>\n",
       "      <td id=\"T_c295c_row4_col1\" class=\"data row4 col1\" >Estimation</td>\n",
       "      <td id=\"T_c295c_row4_col2\" class=\"data row4 col2\" >Widowed</td>\n",
       "      <td id=\"T_c295c_row4_col3\" class=\"data row4 col3\" >3.17%</td>\n",
       "      <td id=\"T_c295c_row4_col4\" class=\"data row4 col4\" >1,139</td>\n",
       "    </tr>\n",
       "  </tbody>\n",
       "</table>\n"
      ],
      "text/plain": [
       "<pandas.io.formats.style.Styler at 0x1c54a827250>"
      ]
     },
     "execution_count": 5,
     "metadata": {},
     "output_type": "execute_result"
    }
   ],
   "source": [
    "my_filter = \"\\\"Partition\\\" = 'Estimation'\"\n",
    "df = apl_model.get_debrief_report('MultiClassTarget_Statistics').filter(my_filter).collect()\n",
    "df.drop('Oid', axis=1, inplace=True)\n",
    "df.drop('Target Key', axis=1, inplace=True)\n",
    "format_dict = {'% Weight':'{:,.2f}%', 'Weight':'{:,.0f}'}\n",
    "df.style.format(format_dict).hide(axis='index')"
   ]
  },
  {
   "cell_type": "code",
   "execution_count": 6,
   "metadata": {},
   "outputs": [
    {
     "name": "stdout",
     "output_type": "stream",
     "text": [
      "\u001b[31mIn order to review the unified classification model report better, you need to adjust the size of the left area or hide the left area temporarily!\n"
     ]
    },
    {
     "data": {
      "text/html": [
       "\n",
       "            <iframe\n",
       "                width=\"100%\"\n",
       "                height=\"800px\"\n",
       "                srcdoc=\"&lt;!DOCTYPE html&gt;&lt;html lang=en style=margin-top:10px&gt;&lt;head&gt;&lt;meta charset=utf-8&gt;&lt;title&gt;Unified Classification Model Report&lt;/title&gt;&lt;link rel=stylesheet href=https://cdn.jsdelivr.net/npm/@fortawesome/fontawesome-free@5.13.1/css/all.min.css&gt;&lt;link rel=stylesheet href=https://cdn.jsdelivr.net/npm/admin-lte@3.0.5/dist/css/adminlte.min.css&gt;&lt;script src=https://cdn.jsdelivr.net/npm/jquery@3.2.1/dist/jquery.min.js&gt;&lt;/script&gt;&lt;script src=https://cdn.jsdelivr.net/npm/bootstrap@4.5.0/dist/js/bootstrap.bundle.min.js&gt;&lt;/script&gt;&lt;script src=https://cdn.jsdelivr.net/npm/admin-lte@3.0.5/dist/js/adminlte.min.js&gt;&lt;/script&gt;&lt;script src=https://cdn.jsdelivr.net/npm/echarts@4.7.0/dist/echarts.min.js&gt;&lt;/script&gt;&lt;/head&gt;&lt;body class=&quot;sidebar-mini layout-fixed layout-navbar-fixed&quot;&gt;&lt;div class=&quot;wrapper container-fluid&quot;&gt;&lt;nav class=&quot;main-header navbar navbar-expand navbar-white navbar-light&quot; style=&quot;font-size: 13px&quot;&gt;&lt;ul class=navbar-nav&gt;&lt;li class=nav-item&gt;&lt;a class=nav-link data-widget=pushmenu role=button&gt;&lt;i class=&quot;fas fa-bars&quot;&gt;&lt;/i&gt;&lt;/a&gt;&lt;/li&gt;&lt;li class=&quot;nav-item d-none d-sm-inline-block&quot;&gt;&lt;a class=nav-link&gt;Unified Classification Model&lt;/a&gt;&lt;/li&gt;&lt;/ul&gt;&lt;ul class=&quot;navbar-nav ml-auto&quot; style=&quot;font-size: 13px&quot;&gt;&lt;li class=&quot;nav-item d-none d-sm-inline-block&quot;&gt;&lt;a class=nav-link&gt;Created Time: 2022-06-22 16:00:33&lt;/a&gt;&lt;/li&gt;&lt;/ul&gt;&lt;/nav&gt;&lt;aside class=&quot;main-sidebar sidebar-light-primary elevation-4&quot;&gt;&lt;div style=&quot;text-align: center;&quot;&gt;&lt;a class=brand-link&gt;&lt;span class=&quot;brand-text font-weight-bold&quot;&gt;Model Report&lt;/span&gt;&lt;/a&gt;&lt;/div&gt;&lt;div class=sidebar&gt;&lt;nav class=mt-2&gt;&lt;ul class=&quot;nav nav-pills nav-sidebar flex-column&quot; data-widget=treeview role=menu data-accordion=false&gt;&lt;li class=nav-item onclick=&quot;switchContent(&#x27;statistic_page&#x27;)&quot;&gt;&lt;a class=nav-link&gt;&lt;i class=&quot;nav-icon fas fa-th-large&quot;&gt;&lt;/i&gt;&lt;p&gt;Statistic&lt;/p&gt;&lt;/a&gt;&lt;/li&gt;&lt;li class=nav-item onclick=&quot;switchContent(&#x27;parameter_page&#x27;)&quot;&gt;&lt;a class=nav-link&gt;&lt;i class=&quot;nav-icon fas fa-th-list&quot;&gt;&lt;/i&gt;&lt;p&gt;Parameter&lt;/p&gt;&lt;/a&gt;&lt;/li&gt;&lt;li class=nav-item onclick=&quot;switchContent(&#x27;optimal_parameter_page&#x27;)&quot;&gt;&lt;a class=nav-link&gt;&lt;i class=&quot;nav-icon fas fa-th-list&quot;&gt;&lt;/i&gt;&lt;p&gt;Optimal Parameter&lt;/p&gt;&lt;/a&gt;&lt;/li&gt;&lt;li class=nav-item onclick=&quot;switchContent(&#x27;confusion_matrix_page&#x27;)&quot;&gt;&lt;a class=nav-link&gt;&lt;i class=&quot;nav-icon fas fa-outdent&quot;&gt;&lt;/i&gt;&lt;p&gt;Confusion Matrix&lt;/p&gt;&lt;/a&gt;&lt;/li&gt;&lt;li class=nav-item onclick=&quot;switchContent(&#x27;variable_importance_page&#x27;)&quot;&gt;&lt;a class=nav-link&gt;&lt;i class=&quot;nav-icon fas fa-copy&quot;&gt;&lt;/i&gt;&lt;p&gt;Variable Importance&lt;/p&gt;&lt;/a&gt;&lt;/li&gt;&lt;li class=nav-item onclick=&quot;switchContent(&#x27;metrics_page&#x27;)&quot;&gt;&lt;a class=nav-link&gt;&lt;i class=&quot;nav-icon fas fa-th&quot;&gt;&lt;/i&gt;&lt;p&gt;Metrics&lt;/p&gt;&lt;/a&gt;&lt;/li&gt;&lt;/ul&gt;&lt;/nav&gt;&lt;/div&gt;&lt;/aside&gt;&lt;div class=content-wrapper id=statistic_page&gt;&lt;div class=content-header&gt;&lt;div class=container-fluid&gt;&lt;div class=&quot;row mb-2&quot;&gt;&lt;div class=col-sm-6&gt;&lt;h1 class=&quot;m-0 text-dark&quot;&gt;Statistic&lt;/h1&gt;&lt;/div&gt;&lt;/div&gt;&lt;/div&gt;&lt;/div&gt;&lt;div class=content&gt;&lt;div class=container-fluid&gt;&lt;div class=row&gt;&lt;div class=&quot;col-sm-12 col-lg-12&quot;&gt;&lt;div class=&quot;card card-info card-outline&quot;&gt;&lt;div class=card-body&gt;&lt;div class=table-responsive&gt;&lt;h5&gt;&lt;span&gt;SCORING TABLE&lt;/span&gt;&lt;/h5&gt;&lt;br&gt;&lt;table class=&quot;table table-bordered table-hover&quot;&gt;&lt;thead&gt;&lt;tr&gt;&lt;th&gt;CLASS&lt;/th&gt;&lt;th&gt;PRECISION&lt;/th&gt;&lt;th&gt;RECALL&lt;/th&gt;&lt;th&gt;F1-SCORE&lt;/th&gt;&lt;th&gt;SUPPORT&lt;/th&gt;&lt;/tr&gt;&lt;/thead&gt;&lt;tbody&gt;&lt;tr&gt;&lt;td&gt;Divorced&lt;/td&gt;&lt;td&gt;0.569&lt;/td&gt;&lt;td&gt;0.64&lt;/td&gt;&lt;td&gt;0.602&lt;/td&gt;&lt;td&gt;0.139&lt;/td&gt;&lt;/tr&gt;&lt;tr&gt;&lt;td&gt;Married-civ-spouse&lt;/td&gt;&lt;td&gt;0.999&lt;/td&gt;&lt;td&gt;0.984&lt;/td&gt;&lt;td&gt;0.992&lt;/td&gt;&lt;td&gt;0.47&lt;/td&gt;&lt;/tr&gt;&lt;tr&gt;&lt;td&gt;Never-married&lt;/td&gt;&lt;td&gt;0.813&lt;/td&gt;&lt;td&gt;0.886&lt;/td&gt;&lt;td&gt;0.848&lt;/td&gt;&lt;td&gt;0.327&lt;/td&gt;&lt;/tr&gt;&lt;tr&gt;&lt;td&gt;Separated&lt;/td&gt;&lt;td&gt;0.167&lt;/td&gt;&lt;td&gt;0.003&lt;/td&gt;&lt;td&gt;0.005&lt;/td&gt;&lt;td&gt;0.032&lt;/td&gt;&lt;/tr&gt;&lt;tr&gt;&lt;td&gt;Widowed&lt;/td&gt;&lt;td&gt;0.604&lt;/td&gt;&lt;td&gt;0.443&lt;/td&gt;&lt;td&gt;0.511&lt;/td&gt;&lt;td&gt;0.031&lt;/td&gt;&lt;/tr&gt;&lt;/tbody&gt;&lt;/table&gt;&lt;br&gt;&lt;h5&gt;&lt;span&gt;STATS TABLE&lt;/span&gt;&lt;/h5&gt;&lt;table class=&quot;table table-bordered table-hover&quot;&gt;&lt;thead&gt;&lt;tr&gt;&lt;th&gt;STAT NAME&lt;/th&gt;&lt;th&gt;STAT VALUE&lt;/th&gt;&lt;th&gt;CLASS&lt;/th&gt;&lt;/tr&gt;&lt;/thead&gt;&lt;tbody&gt;&lt;tr&gt;&lt;td&gt;Macro Precision&lt;/td&gt;&lt;td&gt;0.63&lt;/td&gt;&lt;td&gt;None&lt;/td&gt;&lt;/tr&gt;&lt;tr&gt;&lt;td&gt;Macro Recall&lt;/td&gt;&lt;td&gt;0.591&lt;/td&gt;&lt;td&gt;None&lt;/td&gt;&lt;/tr&gt;&lt;tr&gt;&lt;td&gt;Macro F1 Score&lt;/td&gt;&lt;td&gt;0.592&lt;/td&gt;&lt;td&gt;None&lt;/td&gt;&lt;/tr&gt;&lt;tr&gt;&lt;td&gt;Micro Precision&lt;/td&gt;&lt;td&gt;0.856&lt;/td&gt;&lt;td&gt;None&lt;/td&gt;&lt;/tr&gt;&lt;tr&gt;&lt;td&gt;Micro Recall&lt;/td&gt;&lt;td&gt;0.856&lt;/td&gt;&lt;td&gt;None&lt;/td&gt;&lt;/tr&gt;&lt;tr&gt;&lt;td&gt;Micro F1 Score&lt;/td&gt;&lt;td&gt;0.856&lt;/td&gt;&lt;td&gt;None&lt;/td&gt;&lt;/tr&gt;&lt;tr&gt;&lt;td&gt;Balanced Classification Rate&lt;/td&gt;&lt;td&gt;0.591&lt;/td&gt;&lt;td&gt;None&lt;/td&gt;&lt;/tr&gt;&lt;tr&gt;&lt;td&gt;Balanced Error Rate&lt;/td&gt;&lt;td&gt;0.409&lt;/td&gt;&lt;td&gt;None&lt;/td&gt;&lt;/tr&gt;&lt;tr&gt;&lt;td&gt;Cohen&#x27;s kappa&lt;/td&gt;&lt;td&gt;0.776&lt;/td&gt;&lt;td&gt;None&lt;/td&gt;&lt;/tr&gt;&lt;/tbody&gt;&lt;/table&gt;&lt;/div&gt;&lt;/div&gt;&lt;/div&gt;&lt;/div&gt;&lt;/div&gt;&lt;/div&gt;&lt;/div&gt;&lt;/div&gt;&lt;div class=content-wrapper id=parameter_page&gt;&lt;div class=content-header&gt;&lt;div class=container-fluid&gt;&lt;div class=&quot;row mb-2&quot;&gt;&lt;div class=col-sm-6&gt;&lt;h1 class=&quot;m-0 text-dark&quot;&gt;Parameter&lt;/h1&gt;&lt;/div&gt;&lt;/div&gt;&lt;/div&gt;&lt;/div&gt;&lt;div class=content&gt;&lt;div class=container-fluid&gt;&lt;div class=row&gt;&lt;div class=&quot;col-sm-12 col-lg-12&quot;&gt;&lt;div class=&quot;card card-info card-outline&quot;&gt;&lt;div class=card-body&gt;&lt;div class=table-responsive&gt;&lt;table class=&quot;table table-bordered table-hover&quot;&gt;&lt;thead&gt;&lt;tr&gt;&lt;th&gt;KEY&lt;/th&gt;&lt;th&gt;VALUE&lt;/th&gt;&lt;/tr&gt;&lt;/thead&gt;&lt;tbody&gt;&lt;tr&gt;&lt;td&gt;MaxIterations&lt;/td&gt;&lt;td&gt;1000&lt;/td&gt;&lt;/tr&gt;&lt;tr&gt;&lt;td&gt;MaxDepth&lt;/td&gt;&lt;td&gt;4&lt;/td&gt;&lt;/tr&gt;&lt;tr&gt;&lt;td&gt;EarlyStoppingPatience&lt;/td&gt;&lt;td&gt;10&lt;/td&gt;&lt;/tr&gt;&lt;tr&gt;&lt;td&gt;EvalMetric&lt;/td&gt;&lt;td&gt;BalancedClassificationRate,MultiClassLogLoss&lt;/td&gt;&lt;/tr&gt;&lt;tr&gt;&lt;td&gt;LearningRate&lt;/td&gt;&lt;td&gt;0.10000000000000001&lt;/td&gt;&lt;/tr&gt;&lt;tr&gt;&lt;td&gt;_algorithm_name&lt;/td&gt;&lt;td&gt;GradientBoosting&lt;/td&gt;&lt;/tr&gt;&lt;tr&gt;&lt;td&gt;variable_auto_selection&lt;/td&gt;&lt;td&gt;True&lt;/td&gt;&lt;/tr&gt;&lt;tr&gt;&lt;td&gt;variable_selection_max_nb_of_final_variables&lt;/td&gt;&lt;td&gt;6&lt;/td&gt;&lt;/tr&gt;&lt;/tbody&gt;&lt;/table&gt;&lt;/div&gt;&lt;/div&gt;&lt;/div&gt;&lt;/div&gt;&lt;/div&gt;&lt;/div&gt;&lt;/div&gt;&lt;/div&gt;&lt;div class=content-wrapper id=optimal_parameter_page&gt;&lt;div class=content-header&gt;&lt;div class=container-fluid&gt;&lt;div class=&quot;row mb-2&quot;&gt;&lt;div class=col-sm-6&gt;&lt;h1 class=&quot;m-0 text-dark&quot;&gt;Optimal Parameter&lt;/h1&gt;&lt;/div&gt;&lt;/div&gt;&lt;/div&gt;&lt;/div&gt;&lt;div class=content&gt;&lt;div class=container-fluid&gt;&lt;div class=row&gt;&lt;div class=&quot;col-sm-12 col-lg-12&quot;&gt;&lt;div class=&quot;card card-info card-outline&quot;&gt;&lt;div class=card-body&gt;&lt;div class=table-responsive&gt;&lt;table class=&quot;table table-bordered table-hover&quot;&gt;&lt;thead&gt;&lt;tr&gt;&lt;th&gt;PARAM NAME&lt;/th&gt;&lt;th&gt;INT VALUE&lt;/th&gt;&lt;th&gt;DOUBLE VALUE&lt;/th&gt;&lt;th&gt;STRING VALUE&lt;/th&gt;&lt;/tr&gt;&lt;/thead&gt;&lt;tbody&gt;&lt;tr&gt;&lt;td&gt;BestIteration&lt;/td&gt;&lt;td&gt;144&lt;/td&gt;&lt;td&gt;nan&lt;/td&gt;&lt;td&gt;None&lt;/td&gt;&lt;/tr&gt;&lt;/tbody&gt;&lt;/table&gt;&lt;/div&gt;&lt;/div&gt;&lt;/div&gt;&lt;/div&gt;&lt;/div&gt;&lt;/div&gt;&lt;/div&gt;&lt;/div&gt;&lt;div class=content-wrapper id=confusion_matrix_page&gt;&lt;div class=content-header&gt;&lt;div class=container-fluid&gt;&lt;div class=&quot;row mb-2&quot;&gt;&lt;div class=col-sm-6&gt;&lt;h1 class=&quot;m-0 text-dark&quot;&gt;Confusion Matrix&lt;/h1&gt;&lt;/div&gt;&lt;/div&gt;&lt;/div&gt;&lt;/div&gt;&lt;div class=content&gt;&lt;div class=container-fluid&gt;&lt;div class=row&gt;&lt;div class=&quot;col-sm-12 col-lg-12&quot;&gt;&lt;div class=&quot;card card-info card-outline&quot;&gt;&lt;div class=card-body style=text-align:center&gt;&lt;div class=table-responsive&gt;&lt;div style=&quot;height:800px;width:100%;overflow: scroll;margin-top:10px&quot;&gt;&lt;div id=echarts_chart_3 style=height:700px;width:700px;&gt;&lt;/div&gt;&lt;/div&gt;&lt;/div&gt;&lt;/div&gt;&lt;/div&gt;&lt;/div&gt;&lt;/div&gt;&lt;/div&gt;&lt;/div&gt;&lt;/div&gt;&lt;div class=content-wrapper id=variable_importance_page&gt;&lt;div class=content-header&gt;&lt;div class=container-fluid&gt;&lt;div class=&quot;row mb-2&quot;&gt;&lt;div class=col-sm-6&gt;&lt;h1 class=&quot;m-0 text-dark&quot;&gt;Variable Importance&lt;/h1&gt;&lt;/div&gt;&lt;/div&gt;&lt;/div&gt;&lt;/div&gt;&lt;div class=content&gt;&lt;div class=container-fluid&gt;&lt;div class=row&gt;&lt;div class=&quot;col-sm-12 col-lg-12&quot;&gt;&lt;div class=&quot;card card-info card-outline&quot;&gt;&lt;div class=card-body&gt;&lt;div class=table-responsive&gt;&lt;ul id=nav_1 class=&quot;nav nav-tabs&quot; role=tablist&gt;&lt;li class=nav-item&gt;&lt;a class=&quot;nav-link active&quot; href=#pane_1_0 role=tab data-toggle=tab&gt;Pie Chart&lt;/a&gt;&lt;/li&gt;&lt;li class=nav-item&gt;&lt;a class=nav-link href=#pane_1_1 role=tab data-toggle=tab&gt;Bar Chart&lt;/a&gt;&lt;/li&gt;&lt;/ul&gt;&lt;div id=pane_1 class=tab-content&gt;&lt;div class=&quot;tab-pane fade show active&quot; id=pane_1_0&gt;&lt;div style=&quot;height:800px;width:100%;overflow: scroll;margin-top:10px&quot;&gt;&lt;div id=echarts_chart_1 style=height:450px;&gt;&lt;/div&gt;&lt;/div&gt;&lt;/div&gt;&lt;div class=&quot;tab-pane fade&quot; id=pane_1_1&gt;&lt;div style=&quot;height:800px;width:100%;overflow: scroll;margin-top:10px&quot;&gt;&lt;div id=echarts_chart_2 style=height:400px;&gt;&lt;/div&gt;&lt;/div&gt;&lt;/div&gt;&lt;/div&gt;&lt;/div&gt;&lt;/div&gt;&lt;/div&gt;&lt;/div&gt;&lt;/div&gt;&lt;/div&gt;&lt;/div&gt;&lt;/div&gt;&lt;div class=content-wrapper id=metrics_page&gt;&lt;div class=content-header&gt;&lt;div class=container-fluid&gt;&lt;div class=&quot;row mb-2&quot;&gt;&lt;div class=col-sm-6&gt;&lt;h1 class=&quot;m-0 text-dark&quot;&gt;Metrics&lt;/h1&gt;&lt;/div&gt;&lt;/div&gt;&lt;/div&gt;&lt;/div&gt;&lt;div class=content&gt;&lt;div class=container-fluid&gt;&lt;div class=row&gt;&lt;div class=&quot;col-sm-12 col-lg-12&quot;&gt;&lt;div class=&quot;card card-info card-outline&quot;&gt;&lt;div class=card-body&gt;&lt;div class=table-responsive&gt; None &lt;/div&gt;&lt;/div&gt;&lt;/div&gt;&lt;/div&gt;&lt;/div&gt;&lt;/div&gt;&lt;/div&gt;&lt;/div&gt;&lt;footer class=main-footer&gt;&lt;/footer&gt;&lt;/div&gt;&lt;script type=text/javascript&gt;\n",
       "  \n",
       "              var echarts_chart_3 = echarts.init(document.getElementById(&#x27;echarts_chart_3&#x27;));\n",
       "\n",
       "              var echarts_chart_3_option = {&#x27;xAxis&#x27;: {&#x27;type&#x27;: &#x27;category&#x27;, &#x27;data&#x27;: [&#x27;Divorced&#x27;, &#x27;Married-civ-spouse&#x27;, &#x27;Never-married&#x27;, &#x27;Separated&#x27;, &#x27;Widowed&#x27;], &#x27;name&#x27;: &#x27;Predicted label&#x27;, &#x27;nameLocation&#x27;: &#x27;center&#x27;, &#x27;splitArea&#x27;: {&#x27;show&#x27;: true}}, &#x27;yAxis&#x27;: {&#x27;type&#x27;: &#x27;category&#x27;, &#x27;data&#x27;: [&#x27;Divorced&#x27;, &#x27;Married-civ-spouse&#x27;, &#x27;Never-married&#x27;, &#x27;Separated&#x27;, &#x27;Widowed&#x27;], &#x27;name&#x27;: &#x27;True label&#x27;, &#x27;nameLocation&#x27;: &#x27;center&#x27;, &#x27;splitArea&#x27;: {&#x27;show&#x27;: true}}, &#x27;visualMap&#x27;: {&#x27;min&#x27;: 0, &#x27;max&#x27;: 5696.0, &#x27;orient&#x27;: &#x27;horizontal&#x27;, &#x27;left&#x27;: &#x27;center&#x27;, &#x27;bottom&#x27;: &#x27;-%&#x27;, &#x27;calculable&#x27;: true, &#x27;realtime&#x27;: false, &#x27;splitNumber&#x27;: 4, &#x27;inRange&#x27;: {&#x27;color&#x27;: [&#x27;#e0f3f8&#x27;, &#x27;#abd9e9&#x27;, &#x27;#74add1&#x27;, &#x27;#4575b4&#x27;]}}, &#x27;series&#x27;: [{&#x27;name&#x27;: &#x27;Confusion Matrix&#x27;, &#x27;type&#x27;: &#x27;heatmap&#x27;, &#x27;data&#x27;: [[0, 0, 1098.0], [1, 0, 2.0], [2, 0, 550.0], [3, 0, 2.0], [4, 0, 64.0], [0, 1, 14.0], [1, 1, 5696.0], [2, 1, 75.0], [3, 1, 0.0], [4, 1, 2.0], [0, 2, 421.0], [1, 2, 1.0], [2, 2, 3569.0], [3, 2, 3.0], [4, 2, 35.0], [0, 3, 210.0], [1, 3, 0.0], [2, 3, 174.0], [3, 3, 1.0], [4, 3, 9.0], [0, 4, 188.0], [1, 4, 0.0], [2, 4, 23.0], [3, 4, 0.0], [4, 4, 168.0]], &#x27;label&#x27;: {&#x27;show&#x27;: true, &#x27;color&#x27;: &#x27;black&#x27;}, &#x27;emphasis&#x27;: {&#x27;itemStyle&#x27;: {&#x27;shadowBlur&#x27;: 10, &#x27;shadowColor&#x27;: &#x27;rgba(0, 0, 0, 0.5)&#x27;}}}]};\n",
       "\n",
       "              echarts_chart_3.setOption(echarts_chart_3_option);\n",
       "\n",
       "          \n",
       "            \n",
       "              var echarts_chart_1 = echarts.init(document.getElementById(&#x27;echarts_chart_1&#x27;));\n",
       "\n",
       "              var echarts_chart_1_option = {&#x27;tooltip&#x27;: {&#x27;trigger&#x27;: &#x27;item&#x27;, &#x27;formatter&#x27;: &#x27;{a} &lt;br/&gt;{b} : {c} ({d}%)&#x27;}, &#x27;legend&#x27;: {&#x27;orient&#x27;: &#x27;horizontal&#x27;, &#x27;left&#x27;: &#x27;left&#x27;, &#x27;data&#x27;: [&#x27;class&#x27;, &#x27;fnlwgt&#x27;, &#x27;sex&#x27;, &#x27;education&#x27;, &#x27;age&#x27;, &#x27;relationship&#x27;]}, &#x27;series&#x27;: [{&#x27;name&#x27;: &#x27;&#x27;, &#x27;type&#x27;: &#x27;pie&#x27;, &#x27;radius&#x27;: &#x27;55%&#x27;, &#x27;center&#x27;: [&#x27;50%&#x27;, &#x27;60%&#x27;], &#x27;data&#x27;: [{&#x27;value&#x27;: 0.023, &#x27;name&#x27;: &#x27;class&#x27;}, {&#x27;value&#x27;: 0.026, &#x27;name&#x27;: &#x27;fnlwgt&#x27;}, {&#x27;value&#x27;: 0.036, &#x27;name&#x27;: &#x27;sex&#x27;}, {&#x27;value&#x27;: 0.039, &#x27;name&#x27;: &#x27;education&#x27;}, {&#x27;value&#x27;: 0.176, &#x27;name&#x27;: &#x27;age&#x27;}, {&#x27;value&#x27;: 0.699, &#x27;name&#x27;: &#x27;relationship&#x27;}], &#x27;emphasis&#x27;: {&#x27;itemStyle&#x27;: {&#x27;shadowBlur&#x27;: 10, &#x27;shadowOffsetX&#x27;: 0, &#x27;shadowColor&#x27;: &#x27;rgba(0, 0, 0, 0.5)&#x27;}}}]};\n",
       "\n",
       "              echarts_chart_1.setOption(echarts_chart_1_option);\n",
       "\n",
       "          \n",
       "            $(function(){\n",
       "                $(&#x27;#nav_1 a[data-toggle=&quot;tab&quot;]&#x27;).on(&#x27;shown.bs.tab&#x27;, function (e) {\n",
       "                    var activeTab_name = $(e.target).text();\n",
       "                    if (activeTab_name === &#x27;Pie Chart&#x27;)\n",
       "                    {\n",
       "                        \n",
       "              var echarts_chart_1 = echarts.init(document.getElementById(&#x27;echarts_chart_1&#x27;));\n",
       "\n",
       "              var echarts_chart_1_option = {&#x27;tooltip&#x27;: {&#x27;trigger&#x27;: &#x27;item&#x27;, &#x27;formatter&#x27;: &#x27;{a} &lt;br/&gt;{b} : {c} ({d}%)&#x27;}, &#x27;legend&#x27;: {&#x27;orient&#x27;: &#x27;horizontal&#x27;, &#x27;left&#x27;: &#x27;left&#x27;, &#x27;data&#x27;: [&#x27;class&#x27;, &#x27;fnlwgt&#x27;, &#x27;sex&#x27;, &#x27;education&#x27;, &#x27;age&#x27;, &#x27;relationship&#x27;]}, &#x27;series&#x27;: [{&#x27;name&#x27;: &#x27;&#x27;, &#x27;type&#x27;: &#x27;pie&#x27;, &#x27;radius&#x27;: &#x27;55%&#x27;, &#x27;center&#x27;: [&#x27;50%&#x27;, &#x27;60%&#x27;], &#x27;data&#x27;: [{&#x27;value&#x27;: 0.023, &#x27;name&#x27;: &#x27;class&#x27;}, {&#x27;value&#x27;: 0.026, &#x27;name&#x27;: &#x27;fnlwgt&#x27;}, {&#x27;value&#x27;: 0.036, &#x27;name&#x27;: &#x27;sex&#x27;}, {&#x27;value&#x27;: 0.039, &#x27;name&#x27;: &#x27;education&#x27;}, {&#x27;value&#x27;: 0.176, &#x27;name&#x27;: &#x27;age&#x27;}, {&#x27;value&#x27;: 0.699, &#x27;name&#x27;: &#x27;relationship&#x27;}], &#x27;emphasis&#x27;: {&#x27;itemStyle&#x27;: {&#x27;shadowBlur&#x27;: 10, &#x27;shadowOffsetX&#x27;: 0, &#x27;shadowColor&#x27;: &#x27;rgba(0, 0, 0, 0.5)&#x27;}}}]};\n",
       "\n",
       "              echarts_chart_1.setOption(echarts_chart_1_option);\n",
       "\n",
       "          \n",
       "                    }\n",
       "                    else\n",
       "                    {\n",
       "                        \n",
       "            var echarts_chart_2 = echarts.init(document.getElementById(&#x27;echarts_chart_2&#x27;));\n",
       "\n",
       "            var echarts_chart_2_option = {&#x27;tooltip&#x27;: {&#x27;trigger&#x27;: &#x27;axis&#x27;, &#x27;axisPointer&#x27;: {&#x27;type&#x27;: &#x27;shadow&#x27;}}, &#x27;grid&#x27;: {&#x27;left&#x27;: &#x27;3%&#x27;, &#x27;right&#x27;: &#x27;4%&#x27;, &#x27;bottom&#x27;: &#x27;3%&#x27;, &#x27;containLabel&#x27;: true}, &#x27;xAxis&#x27;: {&#x27;type&#x27;: &#x27;value&#x27;, &#x27;boundaryGap&#x27;: [0, 0.01]}, &#x27;yAxis&#x27;: {&#x27;type&#x27;: &#x27;category&#x27;, &#x27;data&#x27;: [&#x27;class&#x27;, &#x27;fnlwgt&#x27;, &#x27;sex&#x27;, &#x27;education&#x27;, &#x27;age&#x27;, &#x27;relationship&#x27;]}, &#x27;series&#x27;: [{&#x27;type&#x27;: &#x27;bar&#x27;, &#x27;data&#x27;: [0.023, 0.026, 0.036, 0.039, 0.176, 0.699]}], &#x27;color&#x27;: &#x27;dodgerblue&#x27;};\n",
       "\n",
       "            echarts_chart_2.setOption(echarts_chart_2_option);\n",
       "\n",
       "        \n",
       "                    }\n",
       "                });\n",
       "            });\n",
       "        \n",
       "&lt;/script&gt;&lt;script type=text/javascript&gt;\n",
       "  function switchContent(willOpenContentId) {\n",
       "    pageList.forEach(function (value, index, array) {\n",
       "      if (value != willOpenContentId) {\n",
       "        $(&#x27;#&#x27;+value).hide();\n",
       "      }\n",
       "    })\n",
       "    $(&#x27;#&#x27;+willOpenContentId).show();\n",
       "  };\n",
       "  let pageList = [&#x27;statistic_page&#x27;,&#x27;parameter_page&#x27;,&#x27;optimal_parameter_page&#x27;,/*&#x27;sample_page&#x27;,*/&#x27;confusion_matrix_page&#x27;,&#x27;variable_importance_page&#x27;,&#x27;metrics_page&#x27;/*, &#x27;model_page&#x27;*/];\n",
       "  switchContent(&#x27;statistic_page&#x27;);\n",
       "&lt;/script&gt;&lt;/body&gt;&lt;/html&gt;\"\n",
       "                frameborder=\"0\"\n",
       "                allowfullscreen>\n",
       "            </iframe>\n",
       "        "
      ],
      "text/plain": [
       "<IPython.core.display.HTML object>"
      ]
     },
     "metadata": {},
     "output_type": "display_data"
    }
   ],
   "source": [
    "from hana_ml.visualizers.unified_report import UnifiedReport\n",
    "UnifiedReport(apl_model).build().display()"
   ]
  },
  {
   "cell_type": "code",
   "execution_count": 7,
   "metadata": {},
   "outputs": [
    {
     "data": {
      "text/html": [
       "<style type=\"text/css\">\n",
       "</style>\n",
       "<table id=\"T_3b6bc\">\n",
       "  <thead>\n",
       "    <tr>\n",
       "      <th id=\"T_3b6bc_level0_col0\" class=\"col_heading level0 col0\" >Variable</th>\n",
       "      <th id=\"T_3b6bc_level0_col1\" class=\"col_heading level0 col1\" >Reason For Exclusion</th>\n",
       "    </tr>\n",
       "  </thead>\n",
       "  <tbody>\n",
       "    <tr>\n",
       "      <td id=\"T_3b6bc_row0_col0\" class=\"data row0 col0\" >capital-gain</td>\n",
       "      <td id=\"T_3b6bc_row0_col1\" class=\"data row0 col1\" >Low contributory</td>\n",
       "    </tr>\n",
       "    <tr>\n",
       "      <td id=\"T_3b6bc_row1_col0\" class=\"data row1 col0\" >capital-loss</td>\n",
       "      <td id=\"T_3b6bc_row1_col1\" class=\"data row1 col1\" >Low contributory</td>\n",
       "    </tr>\n",
       "    <tr>\n",
       "      <td id=\"T_3b6bc_row2_col0\" class=\"data row2 col0\" >hours-per-week</td>\n",
       "      <td id=\"T_3b6bc_row2_col1\" class=\"data row2 col1\" >Low contributory</td>\n",
       "    </tr>\n",
       "    <tr>\n",
       "      <td id=\"T_3b6bc_row3_col0\" class=\"data row3 col0\" >native-country</td>\n",
       "      <td id=\"T_3b6bc_row3_col1\" class=\"data row3 col1\" >Low contributory</td>\n",
       "    </tr>\n",
       "    <tr>\n",
       "      <td id=\"T_3b6bc_row4_col0\" class=\"data row4 col0\" >occupation</td>\n",
       "      <td id=\"T_3b6bc_row4_col1\" class=\"data row4 col1\" >Low contributory</td>\n",
       "    </tr>\n",
       "    <tr>\n",
       "      <td id=\"T_3b6bc_row5_col0\" class=\"data row5 col0\" >race</td>\n",
       "      <td id=\"T_3b6bc_row5_col1\" class=\"data row5 col1\" >Low contributory</td>\n",
       "    </tr>\n",
       "    <tr>\n",
       "      <td id=\"T_3b6bc_row6_col0\" class=\"data row6 col0\" >workclass</td>\n",
       "      <td id=\"T_3b6bc_row6_col1\" class=\"data row6 col1\" >Low contributory</td>\n",
       "    </tr>\n",
       "  </tbody>\n",
       "</table>\n"
      ],
      "text/plain": [
       "<pandas.io.formats.style.Styler at 0x1c54efbbd90>"
      ]
     },
     "execution_count": 7,
     "metadata": {},
     "output_type": "execute_result"
    }
   ],
   "source": [
    "df = apl_model.get_debrief_report('ClassificationRegression_VariablesExclusion').collect()\n",
    "df = df[['Variable', 'Reason For Exclusion']]\n",
    "df.style.hide(axis='index')"
   ]
  },
  {
   "cell_type": "markdown",
   "metadata": {},
   "source": [
    "## Make Predictions"
   ]
  },
  {
   "cell_type": "markdown",
   "metadata": {},
   "source": [
    "#####  New dataframe to try the model"
   ]
  },
  {
   "cell_type": "code",
   "execution_count": 8,
   "metadata": {},
   "outputs": [
    {
     "data": {
      "text/html": [
       "<style type=\"text/css\">\n",
       "</style>\n",
       "<table id=\"T_137a5\">\n",
       "  <thead>\n",
       "    <tr>\n",
       "      <th id=\"T_137a5_level0_col0\" class=\"col_heading level0 col0\" >id</th>\n",
       "      <th id=\"T_137a5_level0_col1\" class=\"col_heading level0 col1\" >age</th>\n",
       "      <th id=\"T_137a5_level0_col2\" class=\"col_heading level0 col2\" >workclass</th>\n",
       "      <th id=\"T_137a5_level0_col3\" class=\"col_heading level0 col3\" >fnlwgt</th>\n",
       "      <th id=\"T_137a5_level0_col4\" class=\"col_heading level0 col4\" >education</th>\n",
       "      <th id=\"T_137a5_level0_col5\" class=\"col_heading level0 col5\" >education-num</th>\n",
       "      <th id=\"T_137a5_level0_col6\" class=\"col_heading level0 col6\" >marital-status</th>\n",
       "      <th id=\"T_137a5_level0_col7\" class=\"col_heading level0 col7\" >occupation</th>\n",
       "      <th id=\"T_137a5_level0_col8\" class=\"col_heading level0 col8\" >relationship</th>\n",
       "      <th id=\"T_137a5_level0_col9\" class=\"col_heading level0 col9\" >race</th>\n",
       "      <th id=\"T_137a5_level0_col10\" class=\"col_heading level0 col10\" >sex</th>\n",
       "      <th id=\"T_137a5_level0_col11\" class=\"col_heading level0 col11\" >capital-gain</th>\n",
       "      <th id=\"T_137a5_level0_col12\" class=\"col_heading level0 col12\" >capital-loss</th>\n",
       "      <th id=\"T_137a5_level0_col13\" class=\"col_heading level0 col13\" >hours-per-week</th>\n",
       "      <th id=\"T_137a5_level0_col14\" class=\"col_heading level0 col14\" >native-country</th>\n",
       "      <th id=\"T_137a5_level0_col15\" class=\"col_heading level0 col15\" >class</th>\n",
       "    </tr>\n",
       "  </thead>\n",
       "  <tbody>\n",
       "    <tr>\n",
       "      <td id=\"T_137a5_row0_col0\" class=\"data row0 col0\" >550</td>\n",
       "      <td id=\"T_137a5_row0_col1\" class=\"data row0 col1\" >28</td>\n",
       "      <td id=\"T_137a5_row0_col2\" class=\"data row0 col2\" >Private</td>\n",
       "      <td id=\"T_137a5_row0_col3\" class=\"data row0 col3\" >184831</td>\n",
       "      <td id=\"T_137a5_row0_col4\" class=\"data row0 col4\" >Some-college</td>\n",
       "      <td id=\"T_137a5_row0_col5\" class=\"data row0 col5\" >10</td>\n",
       "      <td id=\"T_137a5_row0_col6\" class=\"data row0 col6\" >Never-married</td>\n",
       "      <td id=\"T_137a5_row0_col7\" class=\"data row0 col7\" >Craft-repair</td>\n",
       "      <td id=\"T_137a5_row0_col8\" class=\"data row0 col8\" >Unmarried</td>\n",
       "      <td id=\"T_137a5_row0_col9\" class=\"data row0 col9\" >White</td>\n",
       "      <td id=\"T_137a5_row0_col10\" class=\"data row0 col10\" >Male</td>\n",
       "      <td id=\"T_137a5_row0_col11\" class=\"data row0 col11\" >0</td>\n",
       "      <td id=\"T_137a5_row0_col12\" class=\"data row0 col12\" >0</td>\n",
       "      <td id=\"T_137a5_row0_col13\" class=\"data row0 col13\" >40</td>\n",
       "      <td id=\"T_137a5_row0_col14\" class=\"data row0 col14\" >United-States</td>\n",
       "      <td id=\"T_137a5_row0_col15\" class=\"data row0 col15\" >0</td>\n",
       "    </tr>\n",
       "    <tr>\n",
       "      <td id=\"T_137a5_row1_col0\" class=\"data row1 col0\" >551</td>\n",
       "      <td id=\"T_137a5_row1_col1\" class=\"data row1 col1\" >46</td>\n",
       "      <td id=\"T_137a5_row1_col2\" class=\"data row1 col2\" >Self-emp-not-inc</td>\n",
       "      <td id=\"T_137a5_row1_col3\" class=\"data row1 col3\" >245724</td>\n",
       "      <td id=\"T_137a5_row1_col4\" class=\"data row1 col4\" >Some-college</td>\n",
       "      <td id=\"T_137a5_row1_col5\" class=\"data row1 col5\" >10</td>\n",
       "      <td id=\"T_137a5_row1_col6\" class=\"data row1 col6\" >Divorced</td>\n",
       "      <td id=\"T_137a5_row1_col7\" class=\"data row1 col7\" >Exec-managerial</td>\n",
       "      <td id=\"T_137a5_row1_col8\" class=\"data row1 col8\" >Not-in-family</td>\n",
       "      <td id=\"T_137a5_row1_col9\" class=\"data row1 col9\" >White</td>\n",
       "      <td id=\"T_137a5_row1_col10\" class=\"data row1 col10\" >Male</td>\n",
       "      <td id=\"T_137a5_row1_col11\" class=\"data row1 col11\" >0</td>\n",
       "      <td id=\"T_137a5_row1_col12\" class=\"data row1 col12\" >0</td>\n",
       "      <td id=\"T_137a5_row1_col13\" class=\"data row1 col13\" >50</td>\n",
       "      <td id=\"T_137a5_row1_col14\" class=\"data row1 col14\" >United-States</td>\n",
       "      <td id=\"T_137a5_row1_col15\" class=\"data row1 col15\" >0</td>\n",
       "    </tr>\n",
       "    <tr>\n",
       "      <td id=\"T_137a5_row2_col0\" class=\"data row2 col0\" >552</td>\n",
       "      <td id=\"T_137a5_row2_col1\" class=\"data row2 col1\" >36</td>\n",
       "      <td id=\"T_137a5_row2_col2\" class=\"data row2 col2\" >Self-emp-not-inc</td>\n",
       "      <td id=\"T_137a5_row2_col3\" class=\"data row2 col3\" >27053</td>\n",
       "      <td id=\"T_137a5_row2_col4\" class=\"data row2 col4\" >HS-grad</td>\n",
       "      <td id=\"T_137a5_row2_col5\" class=\"data row2 col5\" >9</td>\n",
       "      <td id=\"T_137a5_row2_col6\" class=\"data row2 col6\" >Separated</td>\n",
       "      <td id=\"T_137a5_row2_col7\" class=\"data row2 col7\" >Other-service</td>\n",
       "      <td id=\"T_137a5_row2_col8\" class=\"data row2 col8\" >Unmarried</td>\n",
       "      <td id=\"T_137a5_row2_col9\" class=\"data row2 col9\" >White</td>\n",
       "      <td id=\"T_137a5_row2_col10\" class=\"data row2 col10\" >Female</td>\n",
       "      <td id=\"T_137a5_row2_col11\" class=\"data row2 col11\" >0</td>\n",
       "      <td id=\"T_137a5_row2_col12\" class=\"data row2 col12\" >0</td>\n",
       "      <td id=\"T_137a5_row2_col13\" class=\"data row2 col13\" >40</td>\n",
       "      <td id=\"T_137a5_row2_col14\" class=\"data row2 col14\" >United-States</td>\n",
       "      <td id=\"T_137a5_row2_col15\" class=\"data row2 col15\" >0</td>\n",
       "    </tr>\n",
       "    <tr>\n",
       "      <td id=\"T_137a5_row3_col0\" class=\"data row3 col0\" >553</td>\n",
       "      <td id=\"T_137a5_row3_col1\" class=\"data row3 col1\" >72</td>\n",
       "      <td id=\"T_137a5_row3_col2\" class=\"data row3 col2\" >Private</td>\n",
       "      <td id=\"T_137a5_row3_col3\" class=\"data row3 col3\" >205343</td>\n",
       "      <td id=\"T_137a5_row3_col4\" class=\"data row3 col4\" >11th</td>\n",
       "      <td id=\"T_137a5_row3_col5\" class=\"data row3 col5\" >7</td>\n",
       "      <td id=\"T_137a5_row3_col6\" class=\"data row3 col6\" >Widowed</td>\n",
       "      <td id=\"T_137a5_row3_col7\" class=\"data row3 col7\" >Adm-clerical</td>\n",
       "      <td id=\"T_137a5_row3_col8\" class=\"data row3 col8\" >Unmarried</td>\n",
       "      <td id=\"T_137a5_row3_col9\" class=\"data row3 col9\" >White</td>\n",
       "      <td id=\"T_137a5_row3_col10\" class=\"data row3 col10\" >Female</td>\n",
       "      <td id=\"T_137a5_row3_col11\" class=\"data row3 col11\" >0</td>\n",
       "      <td id=\"T_137a5_row3_col12\" class=\"data row3 col12\" >0</td>\n",
       "      <td id=\"T_137a5_row3_col13\" class=\"data row3 col13\" >40</td>\n",
       "      <td id=\"T_137a5_row3_col14\" class=\"data row3 col14\" >United-States</td>\n",
       "      <td id=\"T_137a5_row3_col15\" class=\"data row3 col15\" >0</td>\n",
       "    </tr>\n",
       "    <tr>\n",
       "      <td id=\"T_137a5_row4_col0\" class=\"data row4 col0\" >554</td>\n",
       "      <td id=\"T_137a5_row4_col1\" class=\"data row4 col1\" >35</td>\n",
       "      <td id=\"T_137a5_row4_col2\" class=\"data row4 col2\" >Private</td>\n",
       "      <td id=\"T_137a5_row4_col3\" class=\"data row4 col3\" >229328</td>\n",
       "      <td id=\"T_137a5_row4_col4\" class=\"data row4 col4\" >HS-grad</td>\n",
       "      <td id=\"T_137a5_row4_col5\" class=\"data row4 col5\" >9</td>\n",
       "      <td id=\"T_137a5_row4_col6\" class=\"data row4 col6\" >Married-civ-spouse</td>\n",
       "      <td id=\"T_137a5_row4_col7\" class=\"data row4 col7\" >Machine-op-inspct</td>\n",
       "      <td id=\"T_137a5_row4_col8\" class=\"data row4 col8\" >Wife</td>\n",
       "      <td id=\"T_137a5_row4_col9\" class=\"data row4 col9\" >Black</td>\n",
       "      <td id=\"T_137a5_row4_col10\" class=\"data row4 col10\" >Female</td>\n",
       "      <td id=\"T_137a5_row4_col11\" class=\"data row4 col11\" >0</td>\n",
       "      <td id=\"T_137a5_row4_col12\" class=\"data row4 col12\" >0</td>\n",
       "      <td id=\"T_137a5_row4_col13\" class=\"data row4 col13\" >40</td>\n",
       "      <td id=\"T_137a5_row4_col14\" class=\"data row4 col14\" >United-States</td>\n",
       "      <td id=\"T_137a5_row4_col15\" class=\"data row4 col15\" >0</td>\n",
       "    </tr>\n",
       "  </tbody>\n",
       "</table>\n"
      ],
      "text/plain": [
       "<pandas.io.formats.style.Styler at 0x1c54ef2eef0>"
      ]
     },
     "execution_count": 8,
     "metadata": {},
     "output_type": "execute_result"
    }
   ],
   "source": [
    "sql_cmd = 'select * from apl_samples.census where \"id\" between 550 and 554 order by \"id\"'\n",
    "hfd_apply = hd.DataFrame(conn, sql_cmd)\n",
    "hfd_apply.collect().style.hide(axis='index')"
   ]
  },
  {
   "cell_type": "markdown",
   "metadata": {},
   "source": [
    "#####  Predict and give the top 3 reasons"
   ]
  },
  {
   "cell_type": "code",
   "execution_count": 9,
   "metadata": {},
   "outputs": [
    {
     "data": {
      "text/html": [
       "<style type=\"text/css\">\n",
       "</style>\n",
       "<table id=\"T_864db\">\n",
       "  <thead>\n",
       "    <tr>\n",
       "      <th id=\"T_864db_level0_col0\" class=\"col_heading level0 col0\" >Id</th>\n",
       "      <th id=\"T_864db_level0_col1\" class=\"col_heading level0 col1\" >Actual</th>\n",
       "      <th id=\"T_864db_level0_col2\" class=\"col_heading level0 col2\" >Prediction</th>\n",
       "      <th id=\"T_864db_level0_col3\" class=\"col_heading level0 col3\" >Reason 1 Name</th>\n",
       "      <th id=\"T_864db_level0_col4\" class=\"col_heading level0 col4\" >Reason 1 Value</th>\n",
       "      <th id=\"T_864db_level0_col5\" class=\"col_heading level0 col5\" >Reason 2 Name</th>\n",
       "      <th id=\"T_864db_level0_col6\" class=\"col_heading level0 col6\" >Reason 2 Value</th>\n",
       "      <th id=\"T_864db_level0_col7\" class=\"col_heading level0 col7\" >Reason 3 Name</th>\n",
       "      <th id=\"T_864db_level0_col8\" class=\"col_heading level0 col8\" >Reason 3 Value</th>\n",
       "    </tr>\n",
       "  </thead>\n",
       "  <tbody>\n",
       "    <tr>\n",
       "      <td id=\"T_864db_row0_col0\" class=\"data row0 col0\" >550</td>\n",
       "      <td id=\"T_864db_row0_col1\" class=\"data row0 col1\" >Never-married</td>\n",
       "      <td id=\"T_864db_row0_col2\" class=\"data row0 col2\" >Never-married</td>\n",
       "      <td id=\"T_864db_row0_col3\" class=\"data row0 col3\" >age</td>\n",
       "      <td id=\"T_864db_row0_col4\" class=\"data row0 col4\" >28</td>\n",
       "      <td id=\"T_864db_row0_col5\" class=\"data row0 col5\" >sex</td>\n",
       "      <td id=\"T_864db_row0_col6\" class=\"data row0 col6\" >Male</td>\n",
       "      <td id=\"T_864db_row0_col7\" class=\"data row0 col7\" >relationship</td>\n",
       "      <td id=\"T_864db_row0_col8\" class=\"data row0 col8\" >Unmarried</td>\n",
       "    </tr>\n",
       "    <tr>\n",
       "      <td id=\"T_864db_row1_col0\" class=\"data row1 col0\" >551</td>\n",
       "      <td id=\"T_864db_row1_col1\" class=\"data row1 col1\" >Divorced</td>\n",
       "      <td id=\"T_864db_row1_col2\" class=\"data row1 col2\" >Divorced</td>\n",
       "      <td id=\"T_864db_row1_col3\" class=\"data row1 col3\" >relationship</td>\n",
       "      <td id=\"T_864db_row1_col4\" class=\"data row1 col4\" >Not-in-family</td>\n",
       "      <td id=\"T_864db_row1_col5\" class=\"data row1 col5\" >age</td>\n",
       "      <td id=\"T_864db_row1_col6\" class=\"data row1 col6\" >46</td>\n",
       "      <td id=\"T_864db_row1_col7\" class=\"data row1 col7\" >education</td>\n",
       "      <td id=\"T_864db_row1_col8\" class=\"data row1 col8\" >Some-college</td>\n",
       "    </tr>\n",
       "    <tr>\n",
       "      <td id=\"T_864db_row2_col0\" class=\"data row2 col0\" >552</td>\n",
       "      <td id=\"T_864db_row2_col1\" class=\"data row2 col1\" >Separated</td>\n",
       "      <td id=\"T_864db_row2_col2\" class=\"data row2 col2\" >Divorced</td>\n",
       "      <td id=\"T_864db_row2_col3\" class=\"data row2 col3\" >relationship</td>\n",
       "      <td id=\"T_864db_row2_col4\" class=\"data row2 col4\" >Unmarried</td>\n",
       "      <td id=\"T_864db_row2_col5\" class=\"data row2 col5\" >age</td>\n",
       "      <td id=\"T_864db_row2_col6\" class=\"data row2 col6\" >36</td>\n",
       "      <td id=\"T_864db_row2_col7\" class=\"data row2 col7\" >fnlwgt</td>\n",
       "      <td id=\"T_864db_row2_col8\" class=\"data row2 col8\" >27053</td>\n",
       "    </tr>\n",
       "    <tr>\n",
       "      <td id=\"T_864db_row3_col0\" class=\"data row3 col0\" >553</td>\n",
       "      <td id=\"T_864db_row3_col1\" class=\"data row3 col1\" >Widowed</td>\n",
       "      <td id=\"T_864db_row3_col2\" class=\"data row3 col2\" >Widowed</td>\n",
       "      <td id=\"T_864db_row3_col3\" class=\"data row3 col3\" >age</td>\n",
       "      <td id=\"T_864db_row3_col4\" class=\"data row3 col4\" >72</td>\n",
       "      <td id=\"T_864db_row3_col5\" class=\"data row3 col5\" >relationship</td>\n",
       "      <td id=\"T_864db_row3_col6\" class=\"data row3 col6\" >Unmarried</td>\n",
       "      <td id=\"T_864db_row3_col7\" class=\"data row3 col7\" >sex</td>\n",
       "      <td id=\"T_864db_row3_col8\" class=\"data row3 col8\" >Female</td>\n",
       "    </tr>\n",
       "    <tr>\n",
       "      <td id=\"T_864db_row4_col0\" class=\"data row4 col0\" >554</td>\n",
       "      <td id=\"T_864db_row4_col1\" class=\"data row4 col1\" >Married-civ-spouse</td>\n",
       "      <td id=\"T_864db_row4_col2\" class=\"data row4 col2\" >Married-civ-spouse</td>\n",
       "      <td id=\"T_864db_row4_col3\" class=\"data row4 col3\" >relationship</td>\n",
       "      <td id=\"T_864db_row4_col4\" class=\"data row4 col4\" >Wife</td>\n",
       "      <td id=\"T_864db_row4_col5\" class=\"data row4 col5\" >fnlwgt</td>\n",
       "      <td id=\"T_864db_row4_col6\" class=\"data row4 col6\" >229328</td>\n",
       "      <td id=\"T_864db_row4_col7\" class=\"data row4 col7\" >class</td>\n",
       "      <td id=\"T_864db_row4_col8\" class=\"data row4 col8\" >0</td>\n",
       "    </tr>\n",
       "  </tbody>\n",
       "</table>\n"
      ],
      "text/plain": [
       "<pandas.io.formats.style.Styler at 0x1c54efbb1f0>"
      ]
     },
     "execution_count": 9,
     "metadata": {},
     "output_type": "execute_result"
    }
   ],
   "source": [
    "apl_model.set_params( extra_applyout_settings=\n",
    "{ 'APL/ApplyExtraMode': 'Advanced Apply Settings', \n",
    "  'APL/ApplyPredictedValue': 'false', \n",
    "  'APL/ApplyProbability': 'false', \n",
    "  'APL/ApplyDecision': 'true', \n",
    "  'APL/ApplyReasonCode/TopCount': '3', \n",
    "  'APL/ApplyReasonCode/ShowStrengthValue': 'false', \n",
    "  'APL/ApplyReasonCode/ShowStrengthIndicator': 'false' }\n",
    ")\n",
    "df = apl_model.predict(hfd_apply).collect()\n",
    "df.columns = ['Id', 'Actual', 'Prediction', 'Reason 1 Name', 'Reason 1 Value', 'Reason 2 Name', 'Reason 2 Value', 'Reason 3 Name', 'Reason 3 Value']\n",
    "df.style.hide(axis='index')"
   ]
  },
  {
   "cell_type": "markdown",
   "metadata": {},
   "source": [
    "#####  Score for each class"
   ]
  },
  {
   "cell_type": "code",
   "execution_count": 10,
   "metadata": {},
   "outputs": [
    {
     "data": {
      "text/html": [
       "<style type=\"text/css\">\n",
       "</style>\n",
       "<table id=\"T_6073e\">\n",
       "  <thead>\n",
       "    <tr>\n",
       "      <th id=\"T_6073e_level0_col0\" class=\"col_heading level0 col0\" >id</th>\n",
       "      <th id=\"T_6073e_level0_col1\" class=\"col_heading level0 col1\" >Actual</th>\n",
       "      <th id=\"T_6073e_level0_col2\" class=\"col_heading level0 col2\" >Prediction</th>\n",
       "      <th id=\"T_6073e_level0_col3\" class=\"col_heading level0 col3\" >Divorced</th>\n",
       "      <th id=\"T_6073e_level0_col4\" class=\"col_heading level0 col4\" >Married-civ-spouse</th>\n",
       "      <th id=\"T_6073e_level0_col5\" class=\"col_heading level0 col5\" >Never-married</th>\n",
       "      <th id=\"T_6073e_level0_col6\" class=\"col_heading level0 col6\" >Separated</th>\n",
       "      <th id=\"T_6073e_level0_col7\" class=\"col_heading level0 col7\" >Widowed</th>\n",
       "    </tr>\n",
       "  </thead>\n",
       "  <tbody>\n",
       "    <tr>\n",
       "      <td id=\"T_6073e_row0_col0\" class=\"data row0 col0\" >550</td>\n",
       "      <td id=\"T_6073e_row0_col1\" class=\"data row0 col1\" >Never-married</td>\n",
       "      <td id=\"T_6073e_row0_col2\" class=\"data row0 col2\" >Never-married</td>\n",
       "      <td id=\"T_6073e_row0_col3\" class=\"data row0 col3\" >0.805219</td>\n",
       "      <td id=\"T_6073e_row0_col4\" class=\"data row0 col4\" >-4.295372</td>\n",
       "      <td id=\"T_6073e_row0_col5\" class=\"data row0 col5\" >1.975135</td>\n",
       "      <td id=\"T_6073e_row0_col6\" class=\"data row0 col6\" >0.056104</td>\n",
       "      <td id=\"T_6073e_row0_col7\" class=\"data row0 col7\" >-2.944252</td>\n",
       "    </tr>\n",
       "    <tr>\n",
       "      <td id=\"T_6073e_row1_col0\" class=\"data row1 col0\" >551</td>\n",
       "      <td id=\"T_6073e_row1_col1\" class=\"data row1 col1\" >Divorced</td>\n",
       "      <td id=\"T_6073e_row1_col2\" class=\"data row1 col2\" >Divorced</td>\n",
       "      <td id=\"T_6073e_row1_col3\" class=\"data row1 col3\" >1.736278</td>\n",
       "      <td id=\"T_6073e_row1_col4\" class=\"data row1 col4\" >-4.245555</td>\n",
       "      <td id=\"T_6073e_row1_col5\" class=\"data row1 col5\" >0.925411</td>\n",
       "      <td id=\"T_6073e_row1_col6\" class=\"data row1 col6\" >-0.212301</td>\n",
       "      <td id=\"T_6073e_row1_col7\" class=\"data row1 col7\" >-2.025436</td>\n",
       "    </tr>\n",
       "    <tr>\n",
       "      <td id=\"T_6073e_row2_col0\" class=\"data row2 col0\" >552</td>\n",
       "      <td id=\"T_6073e_row2_col1\" class=\"data row2 col1\" >Separated</td>\n",
       "      <td id=\"T_6073e_row2_col2\" class=\"data row2 col2\" >Divorced</td>\n",
       "      <td id=\"T_6073e_row2_col3\" class=\"data row2 col3\" >1.566857</td>\n",
       "      <td id=\"T_6073e_row2_col4\" class=\"data row2 col4\" >-5.082361</td>\n",
       "      <td id=\"T_6073e_row2_col5\" class=\"data row2 col5\" >-0.021337</td>\n",
       "      <td id=\"T_6073e_row2_col6\" class=\"data row2 col6\" >0.279672</td>\n",
       "      <td id=\"T_6073e_row2_col7\" class=\"data row2 col7\" >-0.934751</td>\n",
       "    </tr>\n",
       "    <tr>\n",
       "      <td id=\"T_6073e_row3_col0\" class=\"data row3 col0\" >553</td>\n",
       "      <td id=\"T_6073e_row3_col1\" class=\"data row3 col1\" >Widowed</td>\n",
       "      <td id=\"T_6073e_row3_col2\" class=\"data row3 col2\" >Widowed</td>\n",
       "      <td id=\"T_6073e_row3_col3\" class=\"data row3 col3\" >1.176975</td>\n",
       "      <td id=\"T_6073e_row3_col4\" class=\"data row3 col4\" >-4.545315</td>\n",
       "      <td id=\"T_6073e_row3_col5\" class=\"data row3 col5\" >-0.353816</td>\n",
       "      <td id=\"T_6073e_row3_col6\" class=\"data row3 col6\" >-0.340472</td>\n",
       "      <td id=\"T_6073e_row3_col7\" class=\"data row3 col7\" >3.055872</td>\n",
       "    </tr>\n",
       "    <tr>\n",
       "      <td id=\"T_6073e_row4_col0\" class=\"data row4 col0\" >554</td>\n",
       "      <td id=\"T_6073e_row4_col1\" class=\"data row4 col1\" >Married-civ-spouse</td>\n",
       "      <td id=\"T_6073e_row4_col2\" class=\"data row4 col2\" >Married-civ-spouse</td>\n",
       "      <td id=\"T_6073e_row4_col3\" class=\"data row4 col3\" >-1.797927</td>\n",
       "      <td id=\"T_6073e_row4_col4\" class=\"data row4 col4\" >6.861030</td>\n",
       "      <td id=\"T_6073e_row4_col5\" class=\"data row4 col5\" >-1.204907</td>\n",
       "      <td id=\"T_6073e_row4_col6\" class=\"data row4 col6\" >-1.531235</td>\n",
       "      <td id=\"T_6073e_row4_col7\" class=\"data row4 col7\" >-1.976038</td>\n",
       "    </tr>\n",
       "  </tbody>\n",
       "</table>\n"
      ],
      "text/plain": [
       "<pandas.io.formats.style.Styler at 0x1c54efb8070>"
      ]
     },
     "execution_count": 10,
     "metadata": {},
     "output_type": "execute_result"
    }
   ],
   "source": [
    "apl_model.set_params( extra_applyout_settings=\n",
    "{ 'APL/ApplyExtraMode': 'Advanced Apply Settings', \n",
    "  'APL/ApplyPredictedValue': 'true', \n",
    "  'APL/ApplyProbability': 'false', \n",
    "  'APL/ApplyDecision': 'true', \n",
    " }\n",
    ")\n",
    "df = apl_model.predict(hfd_apply).collect()\n",
    "df.rename(columns={'TRUE_LABEL': 'Actual','PREDICTED': 'Prediction'}, inplace=True)\n",
    "df.columns = [hdr.replace(\"gb_score_marital-status_\", \"\") for hdr in df]\n",
    "df.style.hide(axis='index')"
   ]
  },
  {
   "cell_type": "markdown",
   "metadata": {},
   "source": [
    "##### Export the model equation for scoring in stand-alone JavaScript"
   ]
  },
  {
   "cell_type": "code",
   "execution_count": null,
   "metadata": {},
   "outputs": [],
   "source": [
    "apl_scoring_equation = apl_model.export_apply_code(code_type='JSON')\n",
    "text_file = open(\"apl_model.json\", \"w\")\n",
    "text_file.write(apl_scoring_equation)\n",
    "text_file.close()"
   ]
  }
 ],
 "metadata": {
  "kernelspec": {
   "display_name": "Python 3 (ipykernel)",
   "language": "python",
   "name": "python3"
  },
  "language_info": {
   "codemirror_mode": {
    "name": "ipython",
    "version": 3
   },
   "file_extension": ".py",
   "mimetype": "text/x-python",
   "name": "python",
   "nbconvert_exporter": "python",
   "pygments_lexer": "ipython3",
   "version": "3.10.4"
  }
 },
 "nbformat": 4,
 "nbformat_minor": 4
}

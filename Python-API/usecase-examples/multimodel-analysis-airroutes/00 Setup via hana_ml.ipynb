{
 "cells": [
  {
   "cell_type": "code",
   "execution_count": 1,
   "metadata": {},
   "outputs": [
    {
     "name": "stdout",
     "output_type": "stream",
     "text": [
      "2.6.20110600\n"
     ]
    }
   ],
   "source": [
    "import hana_ml\n",
    "print(hana_ml.__version__)"
   ]
  },
  {
   "cell_type": "code",
   "execution_count": 2,
   "metadata": {},
   "outputs": [],
   "source": [
    "hana_cloud_endpoint=\"8e1a286a-21d7-404d-8d7a-8c77d2a77050.hana.trial-eu10.hanacloud.ondemand.com:443\""
   ]
  },
  {
   "cell_type": "code",
   "execution_count": 3,
   "metadata": {},
   "outputs": [
    {
     "name": "stdin",
     "output_type": "stream",
     "text": [
      "HANA DB User : DBAdmin Password :  ··········\n"
     ]
    }
   ],
   "source": [
    "hana_cloud_host, hana_cloud_port=hana_cloud_endpoint.split(\":\")\n",
    "\n",
    "cchc=hana_ml.dataframe.ConnectionContext(port=hana_cloud_port,\n",
    "                                         address=hana_cloud_host,\n",
    "                                         user='DBAdmin',\n",
    "                                         encrypt=True\n",
    "                                        )"
   ]
  },
  {
   "cell_type": "code",
   "execution_count": 4,
   "metadata": {},
   "outputs": [
    {
     "name": "stdout",
     "output_type": "stream",
     "text": [
      "4.00.000.00.1602165697 (fa/CE2020.36)\n",
      "DBADMIN\n"
     ]
    }
   ],
   "source": [
    "print(cchc.hana_version())\n",
    "print(cchc.get_current_schema())"
   ]
  },
  {
   "cell_type": "code",
   "execution_count": 5,
   "metadata": {},
   "outputs": [],
   "source": [
    "newuser=\"HANAML\"\n",
    "newpassword=\"Super$ecr3t!\"\n",
    "\n",
    "cursor = cchc.connection.cursor()\n",
    "\n",
    "cursor.execute(\"DROP USER {} CASCADE\".format(newuser))\n",
    "cursor.execute('CREATE USER {name} PASSWORD \"{pwd}\" NO FORCE_FIRST_PASSWORD_CHANGE SET USERGROUP DEFAULT'.format(name=newuser, pwd=newpassword))\n",
    "cursor.execute(\"ALTER USER {} DISABLE PASSWORD LIFETIME\".format(newuser))\n",
    "\n",
    "cursor.close()"
   ]
  },
  {
   "cell_type": "code",
   "execution_count": 6,
   "metadata": {},
   "outputs": [
    {
     "data": {
      "text/plain": [
       "hdbcli.dbapi.Connection"
      ]
     },
     "execution_count": 6,
     "metadata": {},
     "output_type": "execute_result"
    }
   ],
   "source": [
    "cchc.connection.__class__"
   ]
  },
  {
   "cell_type": "code",
   "execution_count": 7,
   "metadata": {},
   "outputs": [
    {
     "name": "stdout",
     "output_type": "stream",
     "text": [
      "  USER_NAME  CREATOR PASSWORD_CHANGE_NEEDED IS_PASSWORD_LIFETIME_CHECK_ENABLED\n",
      "0    HANAML  DBADMIN                  FALSE                              FALSE\n"
     ]
    }
   ],
   "source": [
    "print(cchc\n",
    "      .sql(\"\"\"SELECT USER_NAME, CREATOR, PASSWORD_CHANGE_NEEDED, IS_PASSWORD_LIFETIME_CHECK_ENABLED \n",
    "              FROM USERS \n",
    "              WHERE USER_NAME='{}'\n",
    "              \"\"\".format(newuser))\n",
    "      .collect())"
   ]
  },
  {
   "cell_type": "code",
   "execution_count": 8,
   "metadata": {},
   "outputs": [
    {
     "name": "stdout",
     "output_type": "stream",
     "text": [
      "  USER_NAME  CREATOR PASSWORD_CHANGE_NEEDED IS_PASSWORD_LIFETIME_CHECK_ENABLED\n",
      "0    HANAML  DBADMIN                  FALSE                              FALSE\n"
     ]
    }
   ],
   "source": [
    "print(cchc.table(\"USERS\", schema=\"SYS\")\n",
    "      .select('USER_NAME', 'CREATOR', 'PASSWORD_CHANGE_NEEDED', 'IS_PASSWORD_LIFETIME_CHECK_ENABLED')\n",
    "      .filter(\"USER_NAME='{}'\".format(newuser))\n",
    "      .collect())"
   ]
  },
  {
   "cell_type": "code",
   "execution_count": 9,
   "metadata": {},
   "outputs": [
    {
     "name": "stdout",
     "output_type": "stream",
     "text": [
      "  USER_NAME  CREATOR PASSWORD_CHANGE_NEEDED IS_PASSWORD_LIFETIME_CHECK_ENABLED\n",
      "0    HANAML  DBADMIN                  FALSE                              FALSE\n"
     ]
    }
   ],
   "source": [
    "print(cchc.sql(cchc\n",
    "               .table(\"USERS\", schema=\"SYS\")\n",
    "               .select('USER_NAME', 'CREATOR', 'PASSWORD_CHANGE_NEEDED', 'IS_PASSWORD_LIFETIME_CHECK_ENABLED')\n",
    "               .filter(\"USER_NAME='{}'\".format(newuser))\n",
    "               .select_statement)\n",
    "      .collect())"
   ]
  },
  {
   "cell_type": "code",
   "execution_count": null,
   "metadata": {},
   "outputs": [],
   "source": []
  }
 ],
 "metadata": {
  "kernelspec": {
   "display_name": "Python 3",
   "language": "python",
   "name": "python3"
  },
  "language_info": {
   "codemirror_mode": {
    "name": "ipython",
    "version": 3
   },
   "file_extension": ".py",
   "mimetype": "text/x-python",
   "name": "python",
   "nbconvert_exporter": "python",
   "pygments_lexer": "ipython3",
   "version": "3.7.6"
  }
 },
 "nbformat": 4,
 "nbformat_minor": 4
}

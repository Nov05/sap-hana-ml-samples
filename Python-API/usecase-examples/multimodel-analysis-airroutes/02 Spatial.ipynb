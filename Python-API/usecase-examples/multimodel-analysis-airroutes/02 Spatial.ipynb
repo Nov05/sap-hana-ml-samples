{
 "cells": [
  {
   "cell_type": "code",
   "execution_count": 1,
   "metadata": {},
   "outputs": [],
   "source": [
    "import pandas as pd\n",
    "from hana_ml import dataframe as dfh"
   ]
  },
  {
   "cell_type": "code",
   "execution_count": 2,
   "metadata": {},
   "outputs": [],
   "source": [
    "hana_cloud_endpoint=\"8e1a286a-21d7-404d-8d7a-8c77d2a77050.hana.trial-eu10.hanacloud.ondemand.com:443\""
   ]
  },
  {
   "cell_type": "code",
   "execution_count": 3,
   "metadata": {},
   "outputs": [],
   "source": [
    "hana_cloud_host, hana_cloud_port=hana_cloud_endpoint.split(\":\")\n",
    "\n",
    "cchc=dfh.ConnectionContext(port=hana_cloud_port,\n",
    "                                         address=hana_cloud_host,\n",
    "                                         user='HANAML',\n",
    "                                         password='Super$ecr3t!',\n",
    "                                         encrypt=True\n",
    "                                        )"
   ]
  },
  {
   "cell_type": "code",
   "execution_count": 4,
   "metadata": {},
   "outputs": [
    {
     "data": {
      "text/plain": [
       "True"
      ]
     },
     "execution_count": 4,
     "metadata": {},
     "output_type": "execute_result"
    }
   ],
   "source": [
    "cchc.connection.isconnected()"
   ]
  },
  {
   "cell_type": "markdown",
   "metadata": {},
   "source": [
    "## Find the nearest airport"
   ]
  },
  {
   "cell_type": "code",
   "execution_count": 5,
   "metadata": {},
   "outputs": [],
   "source": [
    "mylat, mylon = (51.1, 16.9)"
   ]
  },
  {
   "cell_type": "code",
   "execution_count": 6,
   "metadata": {},
   "outputs": [],
   "source": [
    "import requests, json\n",
    "s = requests.Session()\n",
    "\n",
    "mylat, mylon = [json.loads\n",
    "                (\n",
    "                    s.get(\"https://ifconfig.co/json\").text\n",
    "                )\n",
    "                .get(key) for key in ['latitude', 'longitude']\n",
    "               ]\n",
    "s.close()"
   ]
  },
  {
   "cell_type": "code",
   "execution_count": 7,
   "metadata": {},
   "outputs": [
    {
     "name": "stdout",
     "output_type": "stream",
     "text": [
      "51.0791 16.9599\n"
     ]
    }
   ],
   "source": [
    "print(mylat, mylon)"
   ]
  },
  {
   "cell_type": "code",
   "execution_count": 8,
   "metadata": {},
   "outputs": [],
   "source": [
    "dfh_nearport=(cchc\n",
    "              .table(\"PORTS\")\n",
    "              .select(\"CODE\", \"DESC\", \n",
    "                      ('New ST_Point(\"LON\", \"LAT\").ST_SRID(4326)', \"PORT_LOC\"),\n",
    "                      (\n",
    "                          'New ST_POINT({lon}, {lat}).ST_SRID(4326).ST_Distance(New ST_Point(\"LON\", \"LAT\").ST_SRID(4326))'\n",
    "                          .format(lon=mylon, lat=mylat)\n",
    "                          , \"DIST_FROMME\"\n",
    "                      )\n",
    "                     )\n",
    "              .sort(\"DIST_FROMME\").\n",
    "              head(1)\n",
    "             )"
   ]
  },
  {
   "cell_type": "code",
   "execution_count": 9,
   "metadata": {},
   "outputs": [
    {
     "data": {
      "text/plain": [
       "'SELECT TOP 1 * FROM (SELECT * FROM (SELECT \"CODE\", \"DESC\", New ST_Point(\"LON\", \"LAT\").ST_SRID(4326) AS \"PORT_LOC\", New ST_POINT(16.9599, 51.0791).ST_SRID(4326).ST_Distance(New ST_Point(\"LON\", \"LAT\").ST_SRID(4326)) AS \"DIST_FROMME\" FROM (SELECT * FROM \"PORTS\") AS \"DT_0\") AS \"DT_2\" ORDER BY \"DIST_FROMME\" ASC) dt'"
      ]
     },
     "execution_count": 9,
     "metadata": {},
     "output_type": "execute_result"
    }
   ],
   "source": [
    "dfh_nearport.select_statement"
   ]
  },
  {
   "cell_type": "code",
   "execution_count": 10,
   "metadata": {},
   "outputs": [
    {
     "data": {
      "text/html": [
       "<div>\n",
       "<style scoped>\n",
       "    .dataframe tbody tr th:only-of-type {\n",
       "        vertical-align: middle;\n",
       "    }\n",
       "\n",
       "    .dataframe tbody tr th {\n",
       "        vertical-align: top;\n",
       "    }\n",
       "\n",
       "    .dataframe thead th {\n",
       "        text-align: right;\n",
       "    }\n",
       "</style>\n",
       "<table border=\"1\" class=\"dataframe\">\n",
       "  <thead>\n",
       "    <tr style=\"text-align: right;\">\n",
       "      <th></th>\n",
       "      <th>CODE</th>\n",
       "      <th>DESC</th>\n",
       "      <th>PORT_LOC</th>\n",
       "      <th>DIST_FROMME</th>\n",
       "    </tr>\n",
       "  </thead>\n",
       "  <tbody>\n",
       "    <tr>\n",
       "      <th>0</th>\n",
       "      <td>WRO</td>\n",
       "      <td>Copernicus Wroclaw Airport</td>\n",
       "      <td>[1, 1, 0, 0, 0, 0, 0, 0, 192, 195, 226, 48, 64...</td>\n",
       "      <td>5817.630776</td>\n",
       "    </tr>\n",
       "  </tbody>\n",
       "</table>\n",
       "</div>"
      ],
      "text/plain": [
       "  CODE                        DESC  \\\n",
       "0  WRO  Copernicus Wroclaw Airport   \n",
       "\n",
       "                                            PORT_LOC  DIST_FROMME  \n",
       "0  [1, 1, 0, 0, 0, 0, 0, 0, 192, 195, 226, 48, 64...  5817.630776  "
      ]
     },
     "execution_count": 10,
     "metadata": {},
     "output_type": "execute_result"
    }
   ],
   "source": [
    "dfp_nearport=dfh_nearport.collect()\n",
    "dfp_nearport"
   ]
  },
  {
   "cell_type": "code",
   "execution_count": 11,
   "metadata": {},
   "outputs": [
    {
     "data": {
      "text/html": [
       "<div>\n",
       "<style scoped>\n",
       "    .dataframe tbody tr th:only-of-type {\n",
       "        vertical-align: middle;\n",
       "    }\n",
       "\n",
       "    .dataframe tbody tr th {\n",
       "        vertical-align: top;\n",
       "    }\n",
       "\n",
       "    .dataframe thead th {\n",
       "        text-align: right;\n",
       "    }\n",
       "</style>\n",
       "<table border=\"1\" class=\"dataframe\">\n",
       "  <thead>\n",
       "    <tr style=\"text-align: right;\">\n",
       "      <th></th>\n",
       "      <th>CODE</th>\n",
       "      <th>DESC</th>\n",
       "      <th>PORT_LOC</th>\n",
       "      <th>DIST_FROMME</th>\n",
       "    </tr>\n",
       "  </thead>\n",
       "  <tbody>\n",
       "    <tr>\n",
       "      <th>0</th>\n",
       "      <td>WRO</td>\n",
       "      <td>Copernicus Wroclaw Airport</td>\n",
       "      <td>POINT (16.88579940795898 51.10269927978516)</td>\n",
       "      <td>5817.630776</td>\n",
       "    </tr>\n",
       "  </tbody>\n",
       "</table>\n",
       "</div>"
      ],
      "text/plain": [
       "  CODE                        DESC  \\\n",
       "0  WRO  Copernicus Wroclaw Airport   \n",
       "\n",
       "                                      PORT_LOC  DIST_FROMME  \n",
       "0  POINT (16.88579940795898 51.10269927978516)  5817.630776  "
      ]
     },
     "metadata": {},
     "output_type": "display_data"
    }
   ],
   "source": [
    "dfp_nearport=(cchc\n",
    "        .sql(\n",
    "            '''SELECT TOP 1\n",
    "            CODE, DESC,\n",
    "            New ST_Point(LON, LAT).ST_SRID(4326) as \"PORT_LOC\",\n",
    "            New ST_POINT(16.9599, 51.0791).ST_SRID(4326).ST_Distance(New ST_Point(LON, LAT).ST_SRID(4326)) as \"DIST_FROMME\"\n",
    "            FROM \"PORTS\"\n",
    "            ORDER BY \"DIST_FROMME\" ASC\n",
    "            '''.format(mylon, mylat),\n",
    "            geo_cols=[\"PORT_LOC\"],\n",
    "            srid=4326\n",
    "        )\n",
    "        .collect())\n",
    "\n",
    "display(dfp_nearport)"
   ]
  },
  {
   "cell_type": "code",
   "execution_count": 12,
   "metadata": {},
   "outputs": [
    {
     "data": {
      "text/html": [
       "<div>\n",
       "<style scoped>\n",
       "    .dataframe tbody tr th:only-of-type {\n",
       "        vertical-align: middle;\n",
       "    }\n",
       "\n",
       "    .dataframe tbody tr th {\n",
       "        vertical-align: top;\n",
       "    }\n",
       "\n",
       "    .dataframe thead th {\n",
       "        text-align: right;\n",
       "    }\n",
       "</style>\n",
       "<table border=\"1\" class=\"dataframe\">\n",
       "  <thead>\n",
       "    <tr style=\"text-align: right;\">\n",
       "      <th></th>\n",
       "      <th>CODE</th>\n",
       "      <th>DESC</th>\n",
       "      <th>PORT_LOC</th>\n",
       "      <th>DIST_FROMME</th>\n",
       "    </tr>\n",
       "  </thead>\n",
       "  <tbody>\n",
       "    <tr>\n",
       "      <th>0</th>\n",
       "      <td>WRO</td>\n",
       "      <td>Copernicus Wroclaw Airport</td>\n",
       "      <td>POINT (16.88579940795898 51.10269927978516)</td>\n",
       "      <td>5817.630776</td>\n",
       "    </tr>\n",
       "  </tbody>\n",
       "</table>\n",
       "</div>"
      ],
      "text/plain": [
       "  CODE                        DESC  \\\n",
       "0  WRO  Copernicus Wroclaw Airport   \n",
       "\n",
       "                                      PORT_LOC  DIST_FROMME  \n",
       "0  POINT (16.88579940795898 51.10269927978516)  5817.630776  "
      ]
     },
     "metadata": {},
     "output_type": "display_data"
    }
   ],
   "source": [
    "dfp_nearport=(cchc\n",
    "              .sql(dfh_nearport.select_statement,\n",
    "                       geo_cols={\"PORT_LOC\": 4326})\n",
    "              .collect()\n",
    "             )\n",
    "display(dfp_nearport)"
   ]
  },
  {
   "cell_type": "markdown",
   "metadata": {},
   "source": [
    "## Load input data with a geospatial column included"
   ]
  },
  {
   "cell_type": "markdown",
   "metadata": {},
   "source": [
    "#### Create DFP with airports only"
   ]
  },
  {
   "cell_type": "code",
   "execution_count": 13,
   "metadata": {},
   "outputs": [],
   "source": [
    "dfp_nodes=pd.read_csv('https://github.com/krlawrence/graph/raw/master/sample-data/air-routes-latest-nodes.csv')\n",
    "\n",
    "dfp_ports=(\n",
    "           dfp_nodes[dfp_nodes['~label'].isin(['airport'])]\n",
    "           .drop(['~label','type:string','author:string','date:string'], axis=1)\n",
    "           .convert_dtypes()\n",
    "          )\n",
    "\n",
    "dfp_ports.columns=(dfp_ports.columns\n",
    "                   .str.replace('~','')\n",
    "                   .str.replace(':.*','')\n",
    "                   .str.upper()\n",
    "                  )"
   ]
  },
  {
   "cell_type": "markdown",
   "metadata": {},
   "source": [
    "#### Persist in SAP HANA Cloud"
   ]
  },
  {
   "cell_type": "code",
   "execution_count": 14,
   "metadata": {},
   "outputs": [
    {
     "name": "stderr",
     "output_type": "stream",
     "text": [
      "100%|██████████| 1/1 [00:00<00:00,  1.24it/s]\n"
     ]
    }
   ],
   "source": [
    "dfh_ports=dfh.create_dataframe_from_pandas(cchc,\n",
    "                                           dfp_ports, \"PORTS\",\n",
    "                                           geo_cols=[(\"LON\", \"LAT\")],\n",
    "                                           srid=4326,\n",
    "                                           force=True\n",
    "                                          )"
   ]
  },
  {
   "cell_type": "code",
   "execution_count": 15,
   "metadata": {},
   "outputs": [
    {
     "data": {
      "text/plain": [
       "['ID',\n",
       " 'CODE',\n",
       " 'ICAO',\n",
       " 'DESC',\n",
       " 'REGION',\n",
       " 'RUNWAYS',\n",
       " 'LONGEST',\n",
       " 'ELEV',\n",
       " 'COUNTRY',\n",
       " 'CITY',\n",
       " 'LAT',\n",
       " 'LON',\n",
       " 'POINT_LON_LAT_GEO']"
      ]
     },
     "execution_count": 15,
     "metadata": {},
     "output_type": "execute_result"
    }
   ],
   "source": [
    "dfh_ports.columns"
   ]
  },
  {
   "cell_type": "markdown",
   "metadata": {},
   "source": [
    "#### Use the new spatial column"
   ]
  },
  {
   "cell_type": "code",
   "execution_count": 16,
   "metadata": {},
   "outputs": [],
   "source": [
    "dfh_nearport=(cchc\n",
    "              .table(\"PORTS\")\n",
    "              .select(\"CODE\", \"DESC\", \n",
    "                      (\"POINT_LON_LAT_GEO\", \"PORT_LOC\"),\n",
    "                      (\n",
    "                          'New ST_POINT({}, {}).ST_SRID(4326).ST_Distance(\"POINT_LON_LAT_GEO\")'\n",
    "                          .format(mylon, mylat)\n",
    "                          , \"DIST_FROMME\"\n",
    "                      )\n",
    "                     )\n",
    "              .sort(\"DIST_FROMME\").\n",
    "              head(1)\n",
    "             )"
   ]
  },
  {
   "cell_type": "code",
   "execution_count": 17,
   "metadata": {},
   "outputs": [
    {
     "data": {
      "text/html": [
       "<div>\n",
       "<style scoped>\n",
       "    .dataframe tbody tr th:only-of-type {\n",
       "        vertical-align: middle;\n",
       "    }\n",
       "\n",
       "    .dataframe tbody tr th {\n",
       "        vertical-align: top;\n",
       "    }\n",
       "\n",
       "    .dataframe thead th {\n",
       "        text-align: right;\n",
       "    }\n",
       "</style>\n",
       "<table border=\"1\" class=\"dataframe\">\n",
       "  <thead>\n",
       "    <tr style=\"text-align: right;\">\n",
       "      <th></th>\n",
       "      <th>CODE</th>\n",
       "      <th>DESC</th>\n",
       "      <th>PORT_LOC</th>\n",
       "      <th>DIST_FROMME</th>\n",
       "    </tr>\n",
       "  </thead>\n",
       "  <tbody>\n",
       "    <tr>\n",
       "      <th>0</th>\n",
       "      <td>WRO</td>\n",
       "      <td>Copernicus Wroclaw Airport</td>\n",
       "      <td>POINT (16.885799408 51.10269927979999)</td>\n",
       "      <td>5817.630774</td>\n",
       "    </tr>\n",
       "  </tbody>\n",
       "</table>\n",
       "</div>"
      ],
      "text/plain": [
       "  CODE                        DESC                                PORT_LOC  \\\n",
       "0  WRO  Copernicus Wroclaw Airport  POINT (16.885799408 51.10269927979999)   \n",
       "\n",
       "   DIST_FROMME  \n",
       "0  5817.630774  "
      ]
     },
     "metadata": {},
     "output_type": "display_data"
    }
   ],
   "source": [
    "dfp_nearport=(cchc.sql(dfh_nearport.select_statement,\n",
    "                       geo_cols={\"PORT_LOC\": 4326})\n",
    "        .collect())\n",
    "display(dfp_nearport)"
   ]
  },
  {
   "cell_type": "markdown",
   "metadata": {},
   "source": [
    "## Load data from Esri shapefiles"
   ]
  },
  {
   "cell_type": "markdown",
   "metadata": {},
   "source": [
    "#### Data is courtesy of https://thematicmapping.org/downloads/world_borders.php"
   ]
  },
  {
   "cell_type": "code",
   "execution_count": 18,
   "metadata": {},
   "outputs": [
    {
     "name": "stdout",
     "output_type": "stream",
     "text": [
      "--2020-11-17 21:49:56--  https://thematicmapping.org/downloads/TM_WORLD_BORDERS-0.3.zip\n",
      "Resolving thematicmapping.org (thematicmapping.org)... 67.20.120.230\n",
      "Connecting to thematicmapping.org (thematicmapping.org)|67.20.120.230|:443... connected.\n",
      "HTTP request sent, awaiting response... 200 OK\n",
      "Length: 3464707 (3.3M) [application/zip]\n",
      "Saving to: ‘./Shapes/TM_WORLD_BORDERS-0.3.zip’\n",
      "\n",
      "./Shapes/TM_WORLD_B 100%[===================>]   3.30M  1006KB/s    in 3.4s    \n",
      "\n",
      "2020-11-17 21:50:01 (1006 KB/s) - ‘./Shapes/TM_WORLD_BORDERS-0.3.zip’ saved [3464707/3464707]\n",
      "\n"
     ]
    }
   ],
   "source": [
    "!mkdir -p ./Shapes\n",
    "!wget https://thematicmapping.org/downloads/TM_WORLD_BORDERS-0.3.zip -O ./Shapes/TM_WORLD_BORDERS-0.3.zip"
   ]
  },
  {
   "cell_type": "code",
   "execution_count": 19,
   "metadata": {},
   "outputs": [],
   "source": [
    "dfh_countries = dfh.create_dataframe_from_shapefile(\n",
    "        connection_context=cchc, \n",
    "        shp_file='./Shapes/TM_WORLD_BORDERS-0.3.zip',\n",
    "        table_name=\"TM_WORLD_BORDERS\",\n",
    "        geo_cols=[\"SHAPE\"],\n",
    "        srid=4326\n",
    ")"
   ]
  },
  {
   "cell_type": "code",
   "execution_count": 20,
   "metadata": {},
   "outputs": [
    {
     "data": {
      "text/html": [
       "<div>\n",
       "<style scoped>\n",
       "    .dataframe tbody tr th:only-of-type {\n",
       "        vertical-align: middle;\n",
       "    }\n",
       "\n",
       "    .dataframe tbody tr th {\n",
       "        vertical-align: top;\n",
       "    }\n",
       "\n",
       "    .dataframe thead th {\n",
       "        text-align: right;\n",
       "    }\n",
       "</style>\n",
       "<table border=\"1\" class=\"dataframe\">\n",
       "  <thead>\n",
       "    <tr style=\"text-align: right;\">\n",
       "      <th></th>\n",
       "      <th>ISO2</th>\n",
       "      <th>NAME</th>\n",
       "      <th>SHAPE</th>\n",
       "    </tr>\n",
       "  </thead>\n",
       "  <tbody>\n",
       "    <tr>\n",
       "      <th>0</th>\n",
       "      <td>PL</td>\n",
       "      <td>Poland</td>\n",
       "      <td>POLYGON ((18.851246 49.517357, 18.968609 49.48...</td>\n",
       "    </tr>\n",
       "  </tbody>\n",
       "</table>\n",
       "</div>"
      ],
      "text/plain": [
       "  ISO2    NAME                                              SHAPE\n",
       "0   PL  Poland  POLYGON ((18.851246 49.517357, 18.968609 49.48..."
      ]
     },
     "execution_count": 20,
     "metadata": {},
     "output_type": "execute_result"
    }
   ],
   "source": [
    "dfh_countries.select(\"ISO2\", \"NAME\", \"SHAPE\").filter(\"NAME='Poland'\").collect()"
   ]
  },
  {
   "cell_type": "code",
   "execution_count": 21,
   "metadata": {},
   "outputs": [
    {
     "data": {
      "text/plain": [
       "13"
      ]
     },
     "execution_count": 21,
     "metadata": {},
     "output_type": "execute_result"
    }
   ],
   "source": [
    "(\n",
    "    dfh_ports.alias(\"P\")\n",
    "    .join\n",
    "    (\n",
    "        dfh_countries.filter(\"NAME='Poland'\").alias(\"C\"),\n",
    "        condition='\"P\".\"POINT_LON_LAT_GEO\".ST_CoveredBy(\"C\".\"SHAPE\")=1',\n",
    "        select=[\"P.*\"]\n",
    "    )\n",
    ").count()"
   ]
  },
  {
   "cell_type": "code",
   "execution_count": null,
   "metadata": {},
   "outputs": [],
   "source": []
  }
 ],
 "metadata": {
  "kernelspec": {
   "display_name": "Python 3",
   "language": "python",
   "name": "python3"
  },
  "language_info": {
   "codemirror_mode": {
    "name": "ipython",
    "version": 3
   },
   "file_extension": ".py",
   "mimetype": "text/x-python",
   "name": "python",
   "nbconvert_exporter": "python",
   "pygments_lexer": "ipython3",
   "version": "3.7.6"
  }
 },
 "nbformat": 4,
 "nbformat_minor": 4
}

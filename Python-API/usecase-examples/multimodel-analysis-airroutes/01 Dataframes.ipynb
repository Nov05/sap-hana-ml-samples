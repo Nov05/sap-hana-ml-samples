{
 "cells": [
  {
   "cell_type": "markdown",
   "metadata": {},
   "source": [
    "## Read source data from CSV files into Panda data frames"
   ]
  },
  {
   "cell_type": "code",
   "execution_count": 1,
   "metadata": {},
   "outputs": [
    {
     "data": {
      "text/plain": [
       "'1.1.4'"
      ]
     },
     "execution_count": 1,
     "metadata": {},
     "output_type": "execute_result"
    }
   ],
   "source": [
    "import pandas\n",
    "pandas.__version__"
   ]
  },
  {
   "cell_type": "markdown",
   "metadata": {},
   "source": [
    "--> Data courtesy of Kelvin Lawrence from https://github.com/krlawrence/graph/raw/master/sample-data/"
   ]
  },
  {
   "cell_type": "code",
   "execution_count": 2,
   "metadata": {},
   "outputs": [],
   "source": [
    "dfp_nodes=pandas.read_csv('https://github.com/krlawrence/graph/raw/master/sample-data/air-routes-latest-nodes.csv')\n",
    "dfp_edges=pandas.read_csv('https://github.com/krlawrence/graph/raw/master/sample-data/air-routes-latest-edges.csv')"
   ]
  },
  {
   "cell_type": "code",
   "execution_count": 3,
   "metadata": {},
   "outputs": [
    {
     "name": "stdout",
     "output_type": "stream",
     "text": [
      "Size of nodes dataframe: (3742, 16)\n",
      "Size of edges dataframe: (57574, 5)\n"
     ]
    }
   ],
   "source": [
    "print('Size of nodes dataframe: {}'.format(dfp_nodes.shape))\n",
    "print('Size of edges dataframe: {}'.format(dfp_edges.shape))"
   ]
  },
  {
   "cell_type": "markdown",
   "metadata": {},
   "source": [
    "#### Create DFP with airports only"
   ]
  },
  {
   "cell_type": "code",
   "execution_count": 4,
   "metadata": {},
   "outputs": [
    {
     "data": {
      "text/plain": [
       "~id                 int64\n",
       "~label             object\n",
       "type:string        object\n",
       "code:string        object\n",
       "icao:string        object\n",
       "desc:string        object\n",
       "region:string      object\n",
       "runways:int       float64\n",
       "longest:int       float64\n",
       "elev:int          float64\n",
       "country:string     object\n",
       "city:string        object\n",
       "lat:double        float64\n",
       "lon:double        float64\n",
       "author:string      object\n",
       "date:string        object\n",
       "dtype: object"
      ]
     },
     "execution_count": 4,
     "metadata": {},
     "output_type": "execute_result"
    }
   ],
   "source": [
    "dfp_nodes.dtypes"
   ]
  },
  {
   "cell_type": "code",
   "execution_count": 5,
   "metadata": {},
   "outputs": [
    {
     "data": {
      "text/plain": [
       "~label\n",
       "airport      3497\n",
       "continent       7\n",
       "country       237\n",
       "version         1\n",
       "dtype: int64"
      ]
     },
     "execution_count": 5,
     "metadata": {},
     "output_type": "execute_result"
    }
   ],
   "source": [
    "dfp_nodes.groupby('~label').size()"
   ]
  },
  {
   "cell_type": "code",
   "execution_count": 6,
   "metadata": {},
   "outputs": [],
   "source": [
    "dfp_ports=(\n",
    "           dfp_nodes[dfp_nodes['~label'].isin(['airport'])]\n",
    "           .drop(['~label','type:string','author:string','date:string'], axis=1)\n",
    "           .convert_dtypes()\n",
    "          )"
   ]
  },
  {
   "cell_type": "code",
   "execution_count": 7,
   "metadata": {},
   "outputs": [],
   "source": [
    "dfp_ports.columns=(dfp_ports.columns\n",
    "                   .str.replace('~','')\n",
    "                   .str.replace(':.*','')\n",
    "                   .str.upper()\n",
    "                  )"
   ]
  },
  {
   "cell_type": "code",
   "execution_count": 8,
   "metadata": {},
   "outputs": [
    {
     "data": {
      "text/plain": [
       "ID           Int64\n",
       "CODE        string\n",
       "ICAO        string\n",
       "DESC        string\n",
       "REGION      string\n",
       "RUNWAYS      Int64\n",
       "LONGEST      Int64\n",
       "ELEV         Int64\n",
       "COUNTRY     string\n",
       "CITY        string\n",
       "LAT        float64\n",
       "LON        float64\n",
       "dtype: object"
      ]
     },
     "execution_count": 8,
     "metadata": {},
     "output_type": "execute_result"
    }
   ],
   "source": [
    "dfp_ports.dtypes"
   ]
  },
  {
   "cell_type": "markdown",
   "metadata": {},
   "source": [
    "#### Create DFP with routes only"
   ]
  },
  {
   "cell_type": "code",
   "execution_count": 9,
   "metadata": {},
   "outputs": [
    {
     "data": {
      "text/plain": [
       "~id           int64\n",
       "~from         int64\n",
       "~to           int64\n",
       "~label       object\n",
       "dist:int    float64\n",
       "dtype: object"
      ]
     },
     "execution_count": 9,
     "metadata": {},
     "output_type": "execute_result"
    }
   ],
   "source": [
    "dfp_edges.dtypes"
   ]
  },
  {
   "cell_type": "code",
   "execution_count": 10,
   "metadata": {},
   "outputs": [
    {
     "data": {
      "text/plain": [
       "~label\n",
       "contains     6994\n",
       "route       50580\n",
       "dtype: int64"
      ]
     },
     "execution_count": 10,
     "metadata": {},
     "output_type": "execute_result"
    }
   ],
   "source": [
    "dfp_edges.groupby('~label').size()"
   ]
  },
  {
   "cell_type": "code",
   "execution_count": 11,
   "metadata": {},
   "outputs": [],
   "source": [
    "dfp_routes=dfp_edges[dfp_edges['~label'].isin(['route'])].drop(['~label'], axis=1).copy()"
   ]
  },
  {
   "cell_type": "code",
   "execution_count": 12,
   "metadata": {},
   "outputs": [],
   "source": [
    "dfp_routes.columns=dfp_routes.columns.str.replace('~','').str.replace(':.*','').str.upper()"
   ]
  },
  {
   "cell_type": "code",
   "execution_count": 13,
   "metadata": {},
   "outputs": [
    {
     "data": {
      "text/plain": [
       "ID        int64\n",
       "FROM      int64\n",
       "TO        int64\n",
       "DIST    float64\n",
       "dtype: object"
      ]
     },
     "execution_count": 13,
     "metadata": {},
     "output_type": "execute_result"
    }
   ],
   "source": [
    "dfp_routes.dtypes"
   ]
  },
  {
   "cell_type": "markdown",
   "metadata": {},
   "source": [
    "# Persist in SAP HANA Cloud"
   ]
  },
  {
   "cell_type": "code",
   "execution_count": 14,
   "metadata": {},
   "outputs": [
    {
     "data": {
      "text/plain": [
       "'2.6.20110600'"
      ]
     },
     "execution_count": 14,
     "metadata": {},
     "output_type": "execute_result"
    }
   ],
   "source": [
    "import hana_ml\n",
    "hana_ml.__version__"
   ]
  },
  {
   "cell_type": "code",
   "execution_count": 15,
   "metadata": {},
   "outputs": [],
   "source": [
    "hana_cloud_endpoint=\"8e1a286a-21d7-404d-8d7a-8c77d2a77050.hana.trial-eu10.hanacloud.ondemand.com:443\""
   ]
  },
  {
   "cell_type": "code",
   "execution_count": 16,
   "metadata": {},
   "outputs": [],
   "source": [
    "hana_cloud_host, hana_cloud_port=hana_cloud_endpoint.split(\":\")\n",
    "\n",
    "cchc=hana_ml.dataframe.ConnectionContext(port=hana_cloud_port,\n",
    "                                         address=hana_cloud_host,\n",
    "                                         user='HANAML',\n",
    "                                         password='Super$ecr3t!',\n",
    "                                         encrypt=True\n",
    "                                        )"
   ]
  },
  {
   "cell_type": "code",
   "execution_count": 17,
   "metadata": {},
   "outputs": [
    {
     "name": "stdout",
     "output_type": "stream",
     "text": [
      "Empty DataFrame\n",
      "Columns: [SCHEMA_NAME, TABLE_NAME]\n",
      "Index: []\n"
     ]
    }
   ],
   "source": [
    "print(cchc.sql(\"SELECT SCHEMA_NAME, TABLE_NAME FROM TABLES WHERE SCHEMA_NAME='{schema_name}'\"\n",
    "                 .format(schema_name=cchc.get_current_schema()))\n",
    "        .collect()\n",
    "       )"
   ]
  },
  {
   "cell_type": "code",
   "execution_count": 18,
   "metadata": {},
   "outputs": [
    {
     "name": "stderr",
     "output_type": "stream",
     "text": [
      "100%|██████████| 1/1 [00:00<00:00,  2.75it/s]\n"
     ]
    }
   ],
   "source": [
    "dfh_ports=hana_ml.dataframe.create_dataframe_from_pandas(cchc, \n",
    "                                                         dfp_ports, \"PORTS\", \n",
    "                                                         force=True\n",
    "                                                        )"
   ]
  },
  {
   "cell_type": "code",
   "execution_count": 19,
   "metadata": {},
   "outputs": [
    {
     "name": "stderr",
     "output_type": "stream",
     "text": [
      "100%|██████████| 2/2 [00:01<00:00,  1.26it/s]\n"
     ]
    }
   ],
   "source": [
    "dfh_routes=hana_ml.dataframe.create_dataframe_from_pandas(cchc, \n",
    "                                                          dfp_routes, 'ROUTES',\n",
    "                                                          force=True)"
   ]
  },
  {
   "cell_type": "code",
   "execution_count": 20,
   "metadata": {},
   "outputs": [
    {
     "name": "stdout",
     "output_type": "stream",
     "text": [
      "  SCHEMA_NAME TABLE_NAME\n",
      "0      HANAML      PORTS\n",
      "1      HANAML     ROUTES\n"
     ]
    }
   ],
   "source": [
    "print(cchc.sql(\"SELECT SCHEMA_NAME, TABLE_NAME FROM TABLES WHERE SCHEMA_NAME='{schema_name}'\"\n",
    "                 .format(schema_name=cchc.get_current_schema()))\n",
    "        .collect()\n",
    "       )"
   ]
  },
  {
   "cell_type": "code",
   "execution_count": 21,
   "metadata": {},
   "outputs": [
    {
     "name": "stdout",
     "output_type": "stream",
     "text": [
      "        ID CODE  ICAO                                               DESC  \\\n",
      "0        1  ATL  KATL  Hartsfield - Jackson Atlanta International Air...   \n",
      "1        2  ANC  PANC                              Anchorage Ted Stevens   \n",
      "2        3  AUS  KAUS             Austin Bergstrom International Airport   \n",
      "3        4  BNA  KBNA                    Nashville International Airport   \n",
      "4        5  BOS  KBOS                                       Boston Logan   \n",
      "...    ...  ...   ...                                                ...   \n",
      "3492  3493  KHT  OAKS                                      Khost Airport   \n",
      "3493  3494  SYS  UERS                                  Saskylakh Airport   \n",
      "3494  3495  AAA  NTGA                                       Anaa Airport   \n",
      "3495  3496  GBI  VOGB                   Kalaburagi International Airport   \n",
      "3496  3497  KVO  LYKV                                     Morava Airport   \n",
      "\n",
      "      REGION  RUNWAYS  LONGEST  ELEV COUNTRY        CITY        LAT  \\\n",
      "0      US-GA        5    12390  1026      US     Atlanta  33.636700   \n",
      "1      US-AK        3    12400   151      US   Anchorage  61.174400   \n",
      "2      US-TX        2    12250   542      US      Austin  30.194500   \n",
      "3      US-TN        4    11030   599      US   Nashville  36.124500   \n",
      "4      US-MA        6    10083    19      US      Boston  42.364300   \n",
      "...      ...      ...      ...   ...     ...         ...        ...   \n",
      "3492  AF-PIA        1     8805  3844      AF       Khost  33.333401   \n",
      "3493   RU-SA        1     5906   200      RU   Saskylakh  71.927902   \n",
      "3494  PF-U-A        1     4921    10      PF        Anaa -17.352600   \n",
      "3495   IN-KA        1    10745  1571      IN  Kalaburagi  17.521111   \n",
      "3496   RS-18        1     7218   686      RS    Kraljevo  43.818298   \n",
      "\n",
      "             LON  \n",
      "0     -84.428101  \n",
      "1    -149.996002  \n",
      "2     -97.669899  \n",
      "3     -86.678200  \n",
      "4     -71.005203  \n",
      "...          ...  \n",
      "3492   69.952003  \n",
      "3493  114.080002  \n",
      "3494 -145.509995  \n",
      "3495   77.597778  \n",
      "3496   20.587200  \n",
      "\n",
      "[3497 rows x 12 columns]\n"
     ]
    }
   ],
   "source": [
    "print(dfh_ports.collect())"
   ]
  },
  {
   "cell_type": "code",
   "execution_count": 22,
   "metadata": {},
   "outputs": [
    {
     "data": {
      "text/html": [
       "<div>\n",
       "<style scoped>\n",
       "    .dataframe tbody tr th:only-of-type {\n",
       "        vertical-align: middle;\n",
       "    }\n",
       "\n",
       "    .dataframe tbody tr th {\n",
       "        vertical-align: top;\n",
       "    }\n",
       "\n",
       "    .dataframe thead th {\n",
       "        text-align: right;\n",
       "    }\n",
       "</style>\n",
       "<table border=\"1\" class=\"dataframe\">\n",
       "  <thead>\n",
       "    <tr style=\"text-align: right;\">\n",
       "      <th></th>\n",
       "      <th>ID</th>\n",
       "      <th>CODE</th>\n",
       "      <th>ICAO</th>\n",
       "      <th>DESC</th>\n",
       "      <th>REGION</th>\n",
       "      <th>RUNWAYS</th>\n",
       "      <th>LONGEST</th>\n",
       "      <th>ELEV</th>\n",
       "      <th>COUNTRY</th>\n",
       "      <th>CITY</th>\n",
       "      <th>LAT</th>\n",
       "      <th>LON</th>\n",
       "    </tr>\n",
       "  </thead>\n",
       "  <tbody>\n",
       "    <tr>\n",
       "      <th>0</th>\n",
       "      <td>1</td>\n",
       "      <td>ATL</td>\n",
       "      <td>KATL</td>\n",
       "      <td>Hartsfield - Jackson Atlanta International Air...</td>\n",
       "      <td>US-GA</td>\n",
       "      <td>5</td>\n",
       "      <td>12390</td>\n",
       "      <td>1026</td>\n",
       "      <td>US</td>\n",
       "      <td>Atlanta</td>\n",
       "      <td>33.6367</td>\n",
       "      <td>-84.428101</td>\n",
       "    </tr>\n",
       "    <tr>\n",
       "      <th>1</th>\n",
       "      <td>2</td>\n",
       "      <td>ANC</td>\n",
       "      <td>PANC</td>\n",
       "      <td>Anchorage Ted Stevens</td>\n",
       "      <td>US-AK</td>\n",
       "      <td>3</td>\n",
       "      <td>12400</td>\n",
       "      <td>151</td>\n",
       "      <td>US</td>\n",
       "      <td>Anchorage</td>\n",
       "      <td>61.1744</td>\n",
       "      <td>-149.996002</td>\n",
       "    </tr>\n",
       "    <tr>\n",
       "      <th>2</th>\n",
       "      <td>3</td>\n",
       "      <td>AUS</td>\n",
       "      <td>KAUS</td>\n",
       "      <td>Austin Bergstrom International Airport</td>\n",
       "      <td>US-TX</td>\n",
       "      <td>2</td>\n",
       "      <td>12250</td>\n",
       "      <td>542</td>\n",
       "      <td>US</td>\n",
       "      <td>Austin</td>\n",
       "      <td>30.1945</td>\n",
       "      <td>-97.669899</td>\n",
       "    </tr>\n",
       "    <tr>\n",
       "      <th>3</th>\n",
       "      <td>4</td>\n",
       "      <td>BNA</td>\n",
       "      <td>KBNA</td>\n",
       "      <td>Nashville International Airport</td>\n",
       "      <td>US-TN</td>\n",
       "      <td>4</td>\n",
       "      <td>11030</td>\n",
       "      <td>599</td>\n",
       "      <td>US</td>\n",
       "      <td>Nashville</td>\n",
       "      <td>36.1245</td>\n",
       "      <td>-86.678200</td>\n",
       "    </tr>\n",
       "    <tr>\n",
       "      <th>4</th>\n",
       "      <td>5</td>\n",
       "      <td>BOS</td>\n",
       "      <td>KBOS</td>\n",
       "      <td>Boston Logan</td>\n",
       "      <td>US-MA</td>\n",
       "      <td>6</td>\n",
       "      <td>10083</td>\n",
       "      <td>19</td>\n",
       "      <td>US</td>\n",
       "      <td>Boston</td>\n",
       "      <td>42.3643</td>\n",
       "      <td>-71.005203</td>\n",
       "    </tr>\n",
       "  </tbody>\n",
       "</table>\n",
       "</div>"
      ],
      "text/plain": [
       "   ID CODE  ICAO                                               DESC REGION  \\\n",
       "0   1  ATL  KATL  Hartsfield - Jackson Atlanta International Air...  US-GA   \n",
       "1   2  ANC  PANC                              Anchorage Ted Stevens  US-AK   \n",
       "2   3  AUS  KAUS             Austin Bergstrom International Airport  US-TX   \n",
       "3   4  BNA  KBNA                    Nashville International Airport  US-TN   \n",
       "4   5  BOS  KBOS                                       Boston Logan  US-MA   \n",
       "\n",
       "   RUNWAYS  LONGEST  ELEV COUNTRY       CITY      LAT         LON  \n",
       "0        5    12390  1026      US    Atlanta  33.6367  -84.428101  \n",
       "1        3    12400   151      US  Anchorage  61.1744 -149.996002  \n",
       "2        2    12250   542      US     Austin  30.1945  -97.669899  \n",
       "3        4    11030   599      US  Nashville  36.1245  -86.678200  \n",
       "4        6    10083    19      US     Boston  42.3643  -71.005203  "
      ]
     },
     "metadata": {},
     "output_type": "display_data"
    }
   ],
   "source": [
    "display(dfh_ports.head(5).collect())"
   ]
  },
  {
   "cell_type": "code",
   "execution_count": 23,
   "metadata": {},
   "outputs": [
    {
     "data": {
      "text/plain": [
       "<hana_ml.dataframe.DataFrame at 0x7f36e9384250>"
      ]
     },
     "execution_count": 23,
     "metadata": {},
     "output_type": "execute_result"
    }
   ],
   "source": [
    "dfh_ports"
   ]
  },
  {
   "cell_type": "code",
   "execution_count": 24,
   "metadata": {},
   "outputs": [
    {
     "data": {
      "text/plain": [
       "'SELECT * FROM \"PORTS\"'"
      ]
     },
     "execution_count": 24,
     "metadata": {},
     "output_type": "execute_result"
    }
   ],
   "source": [
    "dfh_ports.select_statement"
   ]
  },
  {
   "cell_type": "code",
   "execution_count": 25,
   "metadata": {},
   "outputs": [
    {
     "data": {
      "text/plain": [
       "<hana_ml.dataframe.DataFrame at 0x7f36e8e46050>"
      ]
     },
     "execution_count": 25,
     "metadata": {},
     "output_type": "execute_result"
    }
   ],
   "source": [
    "dfh_ports.head(5)"
   ]
  },
  {
   "cell_type": "code",
   "execution_count": 26,
   "metadata": {},
   "outputs": [
    {
     "data": {
      "text/plain": [
       "'SELECT TOP 5 * FROM (SELECT * FROM \"PORTS\") dt'"
      ]
     },
     "execution_count": 26,
     "metadata": {},
     "output_type": "execute_result"
    }
   ],
   "source": [
    "dfh_ports.head(5).select_statement"
   ]
  },
  {
   "cell_type": "markdown",
   "metadata": {},
   "source": [
    "### Data exploration"
   ]
  },
  {
   "cell_type": "code",
   "execution_count": 27,
   "metadata": {},
   "outputs": [
    {
     "name": "stdout",
     "output_type": "stream",
     "text": [
      "['ID', 'CODE', 'ICAO', 'DESC', 'REGION', 'RUNWAYS', 'LONGEST', 'ELEV', 'COUNTRY', 'CITY', 'LAT', 'LON']\n"
     ]
    }
   ],
   "source": [
    "print(dfh_ports.columns)"
   ]
  },
  {
   "cell_type": "code",
   "execution_count": 28,
   "metadata": {},
   "outputs": [
    {
     "data": {
      "text/html": [
       "<div>\n",
       "<style scoped>\n",
       "    .dataframe tbody tr th:only-of-type {\n",
       "        vertical-align: middle;\n",
       "    }\n",
       "\n",
       "    .dataframe tbody tr th {\n",
       "        vertical-align: top;\n",
       "    }\n",
       "\n",
       "    .dataframe thead th {\n",
       "        text-align: right;\n",
       "    }\n",
       "</style>\n",
       "<table border=\"1\" class=\"dataframe\">\n",
       "  <thead>\n",
       "    <tr style=\"text-align: right;\">\n",
       "      <th></th>\n",
       "      <th>CODE</th>\n",
       "      <th>DESC</th>\n",
       "      <th>LONGEST</th>\n",
       "      <th>COUNTRY</th>\n",
       "      <th>CITY</th>\n",
       "    </tr>\n",
       "  </thead>\n",
       "  <tbody>\n",
       "    <tr>\n",
       "      <th>0</th>\n",
       "      <td>BPX</td>\n",
       "      <td>Qamdo Bangda Airport</td>\n",
       "      <td>18045</td>\n",
       "      <td>CN</td>\n",
       "      <td>Bangda</td>\n",
       "    </tr>\n",
       "    <tr>\n",
       "      <th>1</th>\n",
       "      <td>ULY</td>\n",
       "      <td>Ulyanovsk East Airport</td>\n",
       "      <td>16404</td>\n",
       "      <td>RU</td>\n",
       "      <td>Ulyanovsk</td>\n",
       "    </tr>\n",
       "    <tr>\n",
       "      <th>2</th>\n",
       "      <td>RKZ</td>\n",
       "      <td>Shigatse Peace Airport</td>\n",
       "      <td>16404</td>\n",
       "      <td>CN</td>\n",
       "      <td>Xigaze</td>\n",
       "    </tr>\n",
       "  </tbody>\n",
       "</table>\n",
       "</div>"
      ],
      "text/plain": [
       "  CODE                    DESC  LONGEST COUNTRY       CITY\n",
       "0  BPX    Qamdo Bangda Airport    18045      CN     Bangda\n",
       "1  ULY  Ulyanovsk East Airport    16404      RU  Ulyanovsk\n",
       "2  RKZ  Shigatse Peace Airport    16404      CN     Xigaze"
      ]
     },
     "execution_count": 28,
     "metadata": {},
     "output_type": "execute_result"
    }
   ],
   "source": [
    "(\n",
    "    dfh_ports\n",
    "    .select(\"CODE\", \"DESC\", \"LONGEST\", \"COUNTRY\", \"CITY\")\n",
    "    .sort(\"LONGEST\", desc=True)\n",
    "    .head(3).collect()\n",
    ")"
   ]
  },
  {
   "cell_type": "code",
   "execution_count": 29,
   "metadata": {},
   "outputs": [
    {
     "data": {
      "text/plain": [
       "'SELECT TOP 3 * FROM (SELECT * FROM (SELECT \"CODE\", \"DESC\", \"LONGEST\", \"COUNTRY\", \"CITY\" FROM (SELECT * FROM \"PORTS\") AS \"DT_4\") AS \"DT_18\" ORDER BY \"LONGEST\" DESC) dt'"
      ]
     },
     "execution_count": 29,
     "metadata": {},
     "output_type": "execute_result"
    }
   ],
   "source": [
    "(\n",
    "    dfh_ports\n",
    "    .select(\"CODE\", \"DESC\", \"LONGEST\", \"COUNTRY\", \"CITY\")\n",
    "    .sort(\"LONGEST\", desc=True)\n",
    "    .head(3)\n",
    "    .select_statement\n",
    ")"
   ]
  },
  {
   "cell_type": "code",
   "execution_count": 30,
   "metadata": {},
   "outputs": [
    {
     "data": {
      "text/html": [
       "<div>\n",
       "<style scoped>\n",
       "    .dataframe tbody tr th:only-of-type {\n",
       "        vertical-align: middle;\n",
       "    }\n",
       "\n",
       "    .dataframe tbody tr th {\n",
       "        vertical-align: top;\n",
       "    }\n",
       "\n",
       "    .dataframe thead th {\n",
       "        text-align: right;\n",
       "    }\n",
       "</style>\n",
       "<table border=\"1\" class=\"dataframe\">\n",
       "  <thead>\n",
       "    <tr style=\"text-align: right;\">\n",
       "      <th></th>\n",
       "      <th>CODE</th>\n",
       "      <th>DESC</th>\n",
       "      <th>LONGEST</th>\n",
       "      <th>COUNTRY</th>\n",
       "      <th>CITY</th>\n",
       "      <th>LAT</th>\n",
       "      <th>ABSLAT</th>\n",
       "    </tr>\n",
       "  </thead>\n",
       "  <tbody>\n",
       "    <tr>\n",
       "      <th>0</th>\n",
       "      <td>LYR</td>\n",
       "      <td>Svalbard Airport, Longyear</td>\n",
       "      <td>7608</td>\n",
       "      <td>NO</td>\n",
       "      <td>Longyearbyen</td>\n",
       "      <td>78.246101</td>\n",
       "      <td>78.246101</td>\n",
       "    </tr>\n",
       "    <tr>\n",
       "      <th>1</th>\n",
       "      <td>NAQ</td>\n",
       "      <td>Qaanaaq Airport</td>\n",
       "      <td>2953</td>\n",
       "      <td>GL</td>\n",
       "      <td>Qaanaaq</td>\n",
       "      <td>77.488602</td>\n",
       "      <td>77.488602</td>\n",
       "    </tr>\n",
       "    <tr>\n",
       "      <th>2</th>\n",
       "      <td>THU</td>\n",
       "      <td>Thule Air Base</td>\n",
       "      <td>9997</td>\n",
       "      <td>GL</td>\n",
       "      <td>Pituffik</td>\n",
       "      <td>76.531197</td>\n",
       "      <td>76.531197</td>\n",
       "    </tr>\n",
       "  </tbody>\n",
       "</table>\n",
       "</div>"
      ],
      "text/plain": [
       "  CODE                        DESC  LONGEST COUNTRY          CITY        LAT  \\\n",
       "0  LYR  Svalbard Airport, Longyear     7608      NO  Longyearbyen  78.246101   \n",
       "1  NAQ             Qaanaaq Airport     2953      GL       Qaanaaq  77.488602   \n",
       "2  THU              Thule Air Base     9997      GL      Pituffik  76.531197   \n",
       "\n",
       "      ABSLAT  \n",
       "0  78.246101  \n",
       "1  77.488602  \n",
       "2  76.531197  "
      ]
     },
     "execution_count": 30,
     "metadata": {},
     "output_type": "execute_result"
    }
   ],
   "source": [
    "(\n",
    "    dfh_ports\n",
    "    .select(\n",
    "        \"CODE\", \"DESC\", \"LONGEST\", \"COUNTRY\", \"CITY\", \"LAT\", \n",
    "        ('ABS(\"LAT\")', \"ABSLAT\")\n",
    "    )\n",
    "    .sort(\"ABSLAT\", desc=True).head(3)\n",
    "    .collect()\n",
    ")"
   ]
  },
  {
   "cell_type": "code",
   "execution_count": 31,
   "metadata": {},
   "outputs": [
    {
     "data": {
      "text/html": [
       "<div>\n",
       "<style scoped>\n",
       "    .dataframe tbody tr th:only-of-type {\n",
       "        vertical-align: middle;\n",
       "    }\n",
       "\n",
       "    .dataframe tbody tr th {\n",
       "        vertical-align: top;\n",
       "    }\n",
       "\n",
       "    .dataframe thead th {\n",
       "        text-align: right;\n",
       "    }\n",
       "</style>\n",
       "<table border=\"1\" class=\"dataframe\">\n",
       "  <thead>\n",
       "    <tr style=\"text-align: right;\">\n",
       "      <th></th>\n",
       "      <th>COUNTRY</th>\n",
       "      <th>MAXRUNWAYS</th>\n",
       "    </tr>\n",
       "  </thead>\n",
       "  <tbody>\n",
       "    <tr>\n",
       "      <th>0</th>\n",
       "      <td>US</td>\n",
       "      <td>7</td>\n",
       "    </tr>\n",
       "    <tr>\n",
       "      <th>1</th>\n",
       "      <td>NL</td>\n",
       "      <td>6</td>\n",
       "    </tr>\n",
       "    <tr>\n",
       "      <th>2</th>\n",
       "      <td>DK</td>\n",
       "      <td>5</td>\n",
       "    </tr>\n",
       "    <tr>\n",
       "      <th>3</th>\n",
       "      <td>RU</td>\n",
       "      <td>5</td>\n",
       "    </tr>\n",
       "    <tr>\n",
       "      <th>4</th>\n",
       "      <td>IE</td>\n",
       "      <td>5</td>\n",
       "    </tr>\n",
       "    <tr>\n",
       "      <th>5</th>\n",
       "      <td>NZ</td>\n",
       "      <td>5</td>\n",
       "    </tr>\n",
       "    <tr>\n",
       "      <th>6</th>\n",
       "      <td>CA</td>\n",
       "      <td>5</td>\n",
       "    </tr>\n",
       "  </tbody>\n",
       "</table>\n",
       "</div>"
      ],
      "text/plain": [
       "  COUNTRY  MAXRUNWAYS\n",
       "0      US           7\n",
       "1      NL           6\n",
       "2      DK           5\n",
       "3      RU           5\n",
       "4      IE           5\n",
       "5      NZ           5\n",
       "6      CA           5"
      ]
     },
     "execution_count": 31,
     "metadata": {},
     "output_type": "execute_result"
    }
   ],
   "source": [
    "(\n",
    "    dfh_ports\n",
    "    .agg(\n",
    "        agg_list=[(\"max\", \"RUNWAYS\", \"MAXRUNWAYS\")], \n",
    "        group_by=\"COUNTRY\"\n",
    "    )\n",
    "    .sort(\"MAXRUNWAYS\", desc=True)\n",
    "    .head(7).collect()\n",
    ")"
   ]
  },
  {
   "cell_type": "code",
   "execution_count": null,
   "metadata": {},
   "outputs": [],
   "source": []
  }
 ],
 "metadata": {
  "kernelspec": {
   "display_name": "Python 3",
   "language": "python",
   "name": "python3"
  },
  "language_info": {
   "codemirror_mode": {
    "name": "ipython",
    "version": 3
   },
   "file_extension": ".py",
   "mimetype": "text/x-python",
   "name": "python",
   "nbconvert_exporter": "python",
   "pygments_lexer": "ipython3",
   "version": "3.7.6"
  }
 },
 "nbformat": 4,
 "nbformat_minor": 4
}

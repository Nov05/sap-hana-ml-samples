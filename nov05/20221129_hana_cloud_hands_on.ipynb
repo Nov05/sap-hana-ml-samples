{
  "nbformat": 4,
  "nbformat_minor": 0,
  "metadata": {
    "colab": {
      "provenance": [],
      "mount_file_id": "16zy538mOldcgde_SPKm5igHzxsADSiDF",
      "authorship_tag": "ABX9TyNX5X/w3GKAZOVzRizYWa53",
      "include_colab_link": true
    },
    "kernelspec": {
      "name": "python3",
      "display_name": "Python 3"
    },
    "language_info": {
      "name": "python"
    }
  },
  "cells": [
    {
      "cell_type": "markdown",
      "metadata": {
        "id": "view-in-github",
        "colab_type": "text"
      },
      "source": [
        "<a href=\"https://colab.research.google.com/github/Nov05/sap-hana-ml-samples/blob/main/nov05/20221129_hana_cloud_hands_on.ipynb\" target=\"_parent\"><img src=\"https://colab.research.google.com/assets/colab-badge.svg\" alt=\"Open In Colab\"/></a>"
      ]
    },
    {
      "cell_type": "markdown",
      "source": [
        "*notebook created by nov05 on 2022-11-29*  \n",
        "[github copy](https://github.com/Nov05/sap-hana-ml-samples/blob/main/nov05/20221129-hana%20cloud%20hands%20on.ipynb)   "
      ],
      "metadata": {
        "id": "sY7u4Ilek9RH"
      }
    },
    {
      "cell_type": "markdown",
      "source": [
        "# **TOP**  \n",
        "[example of connection](https://github.com/SAP-samples/hana-ml-samples/blob/main/Python-API/usecase-examples/sapcommunity-hanaml-challenge/10%20Connectivity%20Check.ipynb)  \n",
        " "
      ],
      "metadata": {
        "id": "zs_pwd51waDQ"
      }
    },
    {
      "cell_type": "code",
      "execution_count": 1,
      "metadata": {
        "id": "Up_OZowMSX7L",
        "colab": {
          "base_uri": "https://localhost:8080/"
        },
        "outputId": "09120810-4297-485b-d6e5-5c0bc2adac71"
      },
      "outputs": [
        {
          "output_type": "stream",
          "name": "stdout",
          "text": [
            "Looking in indexes: https://pypi.org/simple, https://us-python.pkg.dev/colab-wheels/public/simple/\n",
            "Collecting hana-ml==2.14.22102800\n",
            "  Downloading hana_ml-2.14.22102800-py3-none-any.whl (6.6 MB)\n",
            "\u001b[K     |████████████████████████████████| 6.6 MB 21.6 MB/s \n",
            "\u001b[?25hCollecting hdbcli>=2.13.13\n",
            "  Downloading hdbcli-2.14.23-cp34-abi3-manylinux1_x86_64.whl (10.7 MB)\n",
            "\u001b[K     |████████████████████████████████| 10.7 MB 64.5 MB/s \n",
            "\u001b[?25hRequirement already satisfied: tqdm>=4.43.0 in /usr/local/lib/python3.7/dist-packages (from hana-ml==2.14.22102800) (4.64.1)\n",
            "Collecting Deprecated\n",
            "  Downloading Deprecated-1.2.13-py2.py3-none-any.whl (9.6 kB)\n",
            "Collecting schedule\n",
            "  Downloading schedule-1.1.0-py2.py3-none-any.whl (10 kB)\n",
            "Collecting htmlmin>=0.1.12\n",
            "  Downloading htmlmin-0.1.12.tar.gz (19 kB)\n",
            "Requirement already satisfied: pandas>=0.24.2 in /usr/local/lib/python3.7/dist-packages (from hana-ml==2.14.22102800) (1.3.5)\n",
            "Requirement already satisfied: numpy>=1.16.4 in /usr/local/lib/python3.7/dist-packages (from hana-ml==2.14.22102800) (1.21.6)\n",
            "Requirement already satisfied: matplotlib in /usr/local/lib/python3.7/dist-packages (from hana-ml==2.14.22102800) (3.2.2)\n",
            "Requirement already satisfied: pydot in /usr/local/lib/python3.7/dist-packages (from hana-ml==2.14.22102800) (1.3.0)\n",
            "Requirement already satisfied: python-dateutil>=2.7.3 in /usr/local/lib/python3.7/dist-packages (from pandas>=0.24.2->hana-ml==2.14.22102800) (2.8.2)\n",
            "Requirement already satisfied: pytz>=2017.3 in /usr/local/lib/python3.7/dist-packages (from pandas>=0.24.2->hana-ml==2.14.22102800) (2022.6)\n",
            "Requirement already satisfied: six>=1.5 in /usr/local/lib/python3.7/dist-packages (from python-dateutil>=2.7.3->pandas>=0.24.2->hana-ml==2.14.22102800) (1.15.0)\n",
            "Requirement already satisfied: wrapt<2,>=1.10 in /usr/local/lib/python3.7/dist-packages (from Deprecated->hana-ml==2.14.22102800) (1.14.1)\n",
            "Requirement already satisfied: kiwisolver>=1.0.1 in /usr/local/lib/python3.7/dist-packages (from matplotlib->hana-ml==2.14.22102800) (1.4.4)\n",
            "Requirement already satisfied: cycler>=0.10 in /usr/local/lib/python3.7/dist-packages (from matplotlib->hana-ml==2.14.22102800) (0.11.0)\n",
            "Requirement already satisfied: pyparsing!=2.0.4,!=2.1.2,!=2.1.6,>=2.0.1 in /usr/local/lib/python3.7/dist-packages (from matplotlib->hana-ml==2.14.22102800) (3.0.9)\n",
            "Requirement already satisfied: typing-extensions in /usr/local/lib/python3.7/dist-packages (from kiwisolver>=1.0.1->matplotlib->hana-ml==2.14.22102800) (4.1.1)\n",
            "Building wheels for collected packages: htmlmin\n",
            "  Building wheel for htmlmin (setup.py) ... \u001b[?25l\u001b[?25hdone\n",
            "  Created wheel for htmlmin: filename=htmlmin-0.1.12-py3-none-any.whl size=27098 sha256=0a7e7b086202eb9cb8199ea429a19b60baf53c419ca3b6c7031232b72bd6ef91\n",
            "  Stored in directory: /root/.cache/pip/wheels/70/e1/52/5b14d250ba868768823940c3229e9950d201a26d0bd3ee8655\n",
            "Successfully built htmlmin\n",
            "Installing collected packages: schedule, htmlmin, hdbcli, Deprecated, hana-ml\n",
            "Successfully installed Deprecated-1.2.13 hana-ml-2.14.22102800 hdbcli-2.14.23 htmlmin-0.1.12 schedule-1.1.0\n",
            "Looking in indexes: https://pypi.org/simple, https://us-python.pkg.dev/colab-wheels/public/simple/\n",
            "Requirement already satisfied: shapely in /usr/local/lib/python3.7/dist-packages (1.8.5.post1)\n"
          ]
        }
      ],
      "source": [
        "!pip install hana-ml==2.14.22102800\n",
        "!pip install shapely"
      ]
    },
    {
      "cell_type": "code",
      "source": [
        "!python --version\n",
        "import hana_ml\n",
        "print(hana_ml.__version__)\n",
        "## Python 3.7.15\n",
        "## 2.14.22102800"
      ],
      "metadata": {
        "colab": {
          "base_uri": "https://localhost:8080/"
        },
        "id": "dT-qt3pOwYWT",
        "outputId": "f215534a-92e9-4dd4-c32d-d119184dafb3"
      },
      "execution_count": 2,
      "outputs": [
        {
          "output_type": "stream",
          "name": "stdout",
          "text": [
            "Python 3.7.15\n",
            "2.14.22102800\n"
          ]
        }
      ]
    },
    {
      "cell_type": "code",
      "source": [
        "import json\n",
        "path = \"/content/drive/MyDrive/config/20221129_sap-hana-cloud.json\"\n",
        "with open(path) as f:\n",
        "    secret = json.load(f)\n",
        "## address, port, user, password"
      ],
      "metadata": {
        "id": "YkEY5Buxy00o"
      },
      "execution_count": 18,
      "outputs": []
    },
    {
      "cell_type": "code",
      "source": [
        "hana_address = secret['address'] # host\n",
        "hana_port = secret['port'] #443 # Adjust if needed / as advised\n",
        "hana_user = secret['user'] # 'YOURUSERNAME' \n",
        "hana_password = secret['password'] # 'YOURPASSWORD' \n",
        "hana_encrypt = 'true' # Adjust if needed / as advised\n",
        "\n",
        "import hana_ml.dataframe as dataframe\n",
        "\n",
        "# Instantiate connection object\n",
        "conn = dataframe.ConnectionContext(address = hana_address,\n",
        "                                   port = 443, \n",
        "                                   user = hana_user, \n",
        "                                   password = hana_password, \n",
        "                                   encrypt = hana_encrypt,\n",
        "                                   sslValidateCertificate = 'false' \n",
        "                                  )\n",
        "\n",
        "\n",
        "# Control connection (It should return True)\n",
        "conn.connection.isconnected()"
      ],
      "metadata": {
        "colab": {
          "base_uri": "https://localhost:8080/"
        },
        "id": "6MgqamG8wlnb",
        "outputId": "056db29c-c620-462c-aa2b-c2998f8046bb"
      },
      "execution_count": 19,
      "outputs": [
        {
          "output_type": "execute_result",
          "data": {
            "text/plain": [
              "True"
            ]
          },
          "metadata": {},
          "execution_count": 19
        }
      ]
    },
    {
      "cell_type": "code",
      "source": [
        "conn.close()"
      ],
      "metadata": {
        "id": "77TWrhxew4B_"
      },
      "execution_count": 20,
      "outputs": []
    },
    {
      "cell_type": "code",
      "source": [],
      "metadata": {
        "id": "PCwV-ve16tFn"
      },
      "execution_count": null,
      "outputs": []
    }
  ]
}
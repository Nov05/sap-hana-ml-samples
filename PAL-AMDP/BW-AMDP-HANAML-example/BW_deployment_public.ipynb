{
 "cells": [
  {
   "cell_type": "markdown",
   "id": "considerable-avenue",
   "metadata": {},
   "source": [
    "### Imports and connection setup"
   ]
  },
  {
   "cell_type": "code",
   "execution_count": 1,
   "id": "brutal-flush",
   "metadata": {},
   "outputs": [
    {
     "name": "stdout",
     "output_type": "stream",
     "text": [
      "2.11.22010700\n"
     ]
    }
   ],
   "source": [
    "import hana_ml\n",
    "import hana_ml.dataframe as dataframe\n",
    "\n",
    "from hana_ml.algorithms.pal.unified_classification import UnifiedClassification\n",
    "from hana_ml.algorithms.pal.partition import train_test_val_split\n",
    "\n",
    "from hana_ml.artifacts.generators import AMDPGenerator\n",
    "\n",
    "print(hana_ml.__version__)"
   ]
  },
  {
   "cell_type": "code",
   "execution_count": null,
   "id": "resistant-encounter",
   "metadata": {},
   "outputs": [],
   "source": [
    "hana_url = 'xxx'\n",
    "port = 'xx'\n",
    "user = 'xx'\n",
    "password = 'xxx'\n",
    "\n",
    "print(\"URL: \" + hana_url)\n",
    "print(\"User: \" + user)"
   ]
  },
  {
   "cell_type": "code",
   "execution_count": 4,
   "id": "heard-vampire",
   "metadata": {},
   "outputs": [
    {
     "data": {
      "text/plain": [
       "'2.00.059.01.1638875844 (fa/hana2sp05)'"
      ]
     },
     "execution_count": 4,
     "metadata": {},
     "output_type": "execute_result"
    }
   ],
   "source": [
    "conn = dataframe.ConnectionContext(\"{}\".format(hana_url),int(\"{}\".format(port)), \"{}\".format(user), \"{}\".format(password), encrypt=\"true\", sslValidateCertificate=\"false\")\n",
    "conn.hana_version()"
   ]
  },
  {
   "cell_type": "markdown",
   "id": "whole-title",
   "metadata": {},
   "source": [
    "### Connect to the data"
   ]
  },
  {
   "cell_type": "markdown",
   "id": "activated-minister",
   "metadata": {},
   "source": [
    "We will generate an SAP HANA DataFrame from our source data. Please note the usage of the placeholder clause in the SQL statement, since our source is an SAP BW query with ..."
   ]
  },
  {
   "cell_type": "code",
   "execution_count": 5,
   "id": "appreciated-defense",
   "metadata": {},
   "outputs": [],
   "source": [
    "df_hana_source = dataframe.DataFrame(conn,'SELECT \"4ZANON_03_ID\" as ID, \"4ZANON_03_GENDER\" as GENDER, \"4ZANON_03_LASTNAME\" as LASTNAME, \"4ZANON_03_EDUCATION\" as EDUCATION, \"4ZANON_03_REGION\" as REGION, \"4ZANON_03_START_YEAR\" as START_YEAR, \"4ZANON_03_ZIPCODE\" as ZIPCODE, \"T_LEVEL\", (\"5I3Y60GN5JCU6PGWX331P8G0G\") AS \"SALARY\" FROM \"_SYS_BIC\".\"system-local.bw.bw2hana.query.zanon_03/Z_QRY_EXIT_001\"(\\'PLACEHOLDER\\' = (\\'$$ZV_REGION_IP$$\\', \\'EMEA\\'))') \n",
    "df_hana_source = df_hana_source.cast('ID', 'INTEGER')"
   ]
  },
  {
   "cell_type": "code",
   "execution_count": 6,
   "id": "relevant-berkeley",
   "metadata": {},
   "outputs": [
    {
     "data": {
      "text/html": [
       "<div>\n",
       "<style scoped>\n",
       "    .dataframe tbody tr th:only-of-type {\n",
       "        vertical-align: middle;\n",
       "    }\n",
       "\n",
       "    .dataframe tbody tr th {\n",
       "        vertical-align: top;\n",
       "    }\n",
       "\n",
       "    .dataframe thead th {\n",
       "        text-align: right;\n",
       "    }\n",
       "</style>\n",
       "<table border=\"1\" class=\"dataframe\">\n",
       "  <thead>\n",
       "    <tr style=\"text-align: right;\">\n",
       "      <th></th>\n",
       "      <th>ID</th>\n",
       "      <th>GENDER</th>\n",
       "      <th>LASTNAME</th>\n",
       "      <th>EDUCATION</th>\n",
       "      <th>REGION</th>\n",
       "      <th>START_YEAR</th>\n",
       "      <th>ZIPCODE</th>\n",
       "      <th>T_LEVEL</th>\n",
       "      <th>SALARY</th>\n",
       "    </tr>\n",
       "  </thead>\n",
       "  <tbody>\n",
       "    <tr>\n",
       "      <th>0</th>\n",
       "      <td>197063</td>\n",
       "      <td>f</td>\n",
       "      <td>Drock</td>\n",
       "      <td>College</td>\n",
       "      <td>EMEA</td>\n",
       "      <td>2014</td>\n",
       "      <td>5005</td>\n",
       "      <td>T1</td>\n",
       "      <td>44391.0</td>\n",
       "    </tr>\n",
       "    <tr>\n",
       "      <th>1</th>\n",
       "      <td>130361</td>\n",
       "      <td>f</td>\n",
       "      <td>Barer</td>\n",
       "      <td>9th-12th</td>\n",
       "      <td>EMEA</td>\n",
       "      <td>2000</td>\n",
       "      <td>5106</td>\n",
       "      <td>T3</td>\n",
       "      <td>99042.0</td>\n",
       "    </tr>\n",
       "    <tr>\n",
       "      <th>2</th>\n",
       "      <td>138163</td>\n",
       "      <td>f</td>\n",
       "      <td>Rizzio</td>\n",
       "      <td>College</td>\n",
       "      <td>EMEA</td>\n",
       "      <td>2006</td>\n",
       "      <td>5004</td>\n",
       "      <td>T3</td>\n",
       "      <td>88915.0</td>\n",
       "    </tr>\n",
       "    <tr>\n",
       "      <th>3</th>\n",
       "      <td>168770</td>\n",
       "      <td>f</td>\n",
       "      <td>Nawda</td>\n",
       "      <td>Bachelor</td>\n",
       "      <td>EMEA</td>\n",
       "      <td>2014</td>\n",
       "      <td>5204</td>\n",
       "      <td>T2</td>\n",
       "      <td>53938.0</td>\n",
       "    </tr>\n",
       "    <tr>\n",
       "      <th>4</th>\n",
       "      <td>122025</td>\n",
       "      <td>f</td>\n",
       "      <td>Muellner</td>\n",
       "      <td>Prof-school</td>\n",
       "      <td>EMEA</td>\n",
       "      <td>1997</td>\n",
       "      <td>5005</td>\n",
       "      <td>T4</td>\n",
       "      <td>122612.0</td>\n",
       "    </tr>\n",
       "    <tr>\n",
       "      <th>...</th>\n",
       "      <td>...</td>\n",
       "      <td>...</td>\n",
       "      <td>...</td>\n",
       "      <td>...</td>\n",
       "      <td>...</td>\n",
       "      <td>...</td>\n",
       "      <td>...</td>\n",
       "      <td>...</td>\n",
       "      <td>...</td>\n",
       "    </tr>\n",
       "    <tr>\n",
       "      <th>66519</th>\n",
       "      <td>114696</td>\n",
       "      <td>f</td>\n",
       "      <td></td>\n",
       "      <td>HS-grad</td>\n",
       "      <td>EMEA</td>\n",
       "      <td>1996-2000</td>\n",
       "      <td>51xx</td>\n",
       "      <td>T3-T5</td>\n",
       "      <td>100985.0</td>\n",
       "    </tr>\n",
       "    <tr>\n",
       "      <th>66520</th>\n",
       "      <td>167619</td>\n",
       "      <td>f</td>\n",
       "      <td></td>\n",
       "      <td>Bachelor</td>\n",
       "      <td>EMEA</td>\n",
       "      <td>2011-2015</td>\n",
       "      <td>51xx</td>\n",
       "      <td>T1-T2</td>\n",
       "      <td>46803.0</td>\n",
       "    </tr>\n",
       "    <tr>\n",
       "      <th>66521</th>\n",
       "      <td>174626</td>\n",
       "      <td>f</td>\n",
       "      <td></td>\n",
       "      <td>HS-grad</td>\n",
       "      <td>EMEA</td>\n",
       "      <td>2006-2010</td>\n",
       "      <td>50xx</td>\n",
       "      <td>T1-T2</td>\n",
       "      <td>50075.0</td>\n",
       "    </tr>\n",
       "    <tr>\n",
       "      <th>66522</th>\n",
       "      <td>164289</td>\n",
       "      <td>m</td>\n",
       "      <td></td>\n",
       "      <td>College</td>\n",
       "      <td>EMEA</td>\n",
       "      <td>2011-2015</td>\n",
       "      <td>51xx</td>\n",
       "      <td>T3-T5</td>\n",
       "      <td>88725.0</td>\n",
       "    </tr>\n",
       "    <tr>\n",
       "      <th>66523</th>\n",
       "      <td>187578</td>\n",
       "      <td>f</td>\n",
       "      <td></td>\n",
       "      <td>Bachelor</td>\n",
       "      <td>EMEA</td>\n",
       "      <td>2011-2015</td>\n",
       "      <td>51xx</td>\n",
       "      <td>T1-T2</td>\n",
       "      <td>60900.0</td>\n",
       "    </tr>\n",
       "  </tbody>\n",
       "</table>\n",
       "<p>66524 rows × 9 columns</p>\n",
       "</div>"
      ],
      "text/plain": [
       "           ID GENDER  LASTNAME    EDUCATION REGION START_YEAR ZIPCODE T_LEVEL  \\\n",
       "0      197063      f     Drock      College   EMEA       2014    5005      T1   \n",
       "1      130361      f     Barer     9th-12th   EMEA       2000    5106      T3   \n",
       "2      138163      f    Rizzio      College   EMEA       2006    5004      T3   \n",
       "3      168770      f     Nawda     Bachelor   EMEA       2014    5204      T2   \n",
       "4      122025      f  Muellner  Prof-school   EMEA       1997    5005      T4   \n",
       "...       ...    ...       ...          ...    ...        ...     ...     ...   \n",
       "66519  114696      f                HS-grad   EMEA  1996-2000    51xx   T3-T5   \n",
       "66520  167619      f               Bachelor   EMEA  2011-2015    51xx   T1-T2   \n",
       "66521  174626      f                HS-grad   EMEA  2006-2010    50xx   T1-T2   \n",
       "66522  164289      m                College   EMEA  2011-2015    51xx   T3-T5   \n",
       "66523  187578      f               Bachelor   EMEA  2011-2015    51xx   T1-T2   \n",
       "\n",
       "         SALARY  \n",
       "0       44391.0  \n",
       "1       99042.0  \n",
       "2       88915.0  \n",
       "3       53938.0  \n",
       "4      122612.0  \n",
       "...         ...  \n",
       "66519  100985.0  \n",
       "66520   46803.0  \n",
       "66521   50075.0  \n",
       "66522   88725.0  \n",
       "66523   60900.0  \n",
       "\n",
       "[66524 rows x 9 columns]"
      ]
     },
     "execution_count": 6,
     "metadata": {},
     "output_type": "execute_result"
    }
   ],
   "source": [
    "df_hana_source.collect()"
   ]
  },
  {
   "cell_type": "markdown",
   "id": "artistic-treat",
   "metadata": {},
   "source": [
    "Generate seperate data set for Training, Testing and Validation of our model. We will skipp validation here, since the ML part is not the focus of this demo."
   ]
  },
  {
   "cell_type": "code",
   "execution_count": 7,
   "id": "roman-brighton",
   "metadata": {},
   "outputs": [],
   "source": [
    "train, test, valid = train_test_val_split(data=df_hana_source, training_percentage = 0.8, validation_percentage = 0, testing_percentage = 0.2, random_seed = 41)"
   ]
  },
  {
   "cell_type": "markdown",
   "id": "remarkable-permit",
   "metadata": {},
   "source": [
    "### ML Training"
   ]
  },
  {
   "cell_type": "markdown",
   "id": "small-bridge",
   "metadata": {},
   "source": [
    "We will leverage the AMDP generator to get our AMDP/ABAP automatically generated. This requires the SQL logging to be turned on. "
   ]
  },
  {
   "cell_type": "code",
   "execution_count": 8,
   "id": "optional-numbers",
   "metadata": {},
   "outputs": [],
   "source": [
    "conn.sql_tracer.enable_sql_trace(True)\n",
    "conn.sql_tracer.enable_trace_history(True)"
   ]
  },
  {
   "cell_type": "code",
   "execution_count": 9,
   "id": "challenging-costume",
   "metadata": {},
   "outputs": [],
   "source": [
    "uni_hgbt = UnifiedClassification(func='HybridGradientBoostingTree')"
   ]
  },
  {
   "cell_type": "code",
   "execution_count": 10,
   "id": "collaborative-digit",
   "metadata": {},
   "outputs": [
    {
     "name": "stderr",
     "output_type": "stream",
     "text": [
      "INFO:hana_ml.ml_base:Executing SQL: CREATE LOCAL TEMPORARY COLUMN TABLE \"#PAL_UNIFIED_CLASSIFICATION_MATERIALIZED_INPUT_F14494DB_7697_4392_8793_464A1C921B8D\" AS (SELECT \"ID\", \"GENDER\", \"EDUCATION\", \"REGION\", \"START_YEAR\", \"ZIPCODE\", \"SALARY\", \"T_LEVEL\" FROM (SELECT a.* FROM #PAL_PARTITION_DATA_TBL_026B3402_7238_11EC_8EA8_0242AC110002 a inner join #PAL_PARTITION_RESULT_TBL_026B3402_7238_11EC_8EA8_0242AC110002 b        on a.\"ID\" = b.\"ID\" where b.\"PARTITION_TYPE\" = 1) AS \"DT_4\")\n",
      "INFO:hana_ml.ml_base:Executing SQL: DO (IN in_0 TABLE (\"ID\" INT, \"GENDER\" NVARCHAR(100), \"EDUCATION\" NVARCHAR(50), \"REGION\" NVARCHAR(100), \"START_YEAR\" NVARCHAR(100), \"ZIPCODE\" NVARCHAR(10), \"SALARY\" DOUBLE, \"T_LEVEL\" NVARCHAR(5)) => \"#PAL_UNIFIED_CLASSIFICATION_MATERIALIZED_INPUT_F14494DB_7697_4392_8793_464A1C921B8D\")\n",
      "BEGIN\n",
      "DECLARE param_name VARCHAR(5000) ARRAY;\n",
      "DECLARE int_value INTEGER ARRAY;\n",
      "DECLARE double_value DOUBLE ARRAY;\n",
      "DECLARE string_value VARCHAR(5000) ARRAY;\n",
      "param_name[1] := N'FUNCTION';\n",
      "int_value[1] := NULL;\n",
      "double_value[1] := NULL;\n",
      "string_value[1] := N'HGBT';\n",
      "param_name[2] := N'KEY';\n",
      "int_value[2] := 1;\n",
      "double_value[2] := NULL;\n",
      "string_value[2] := NULL;\n",
      "params = UNNEST(:param_name, :int_value, :double_value, :string_value);\n",
      "CALL _SYS_AFL.PAL_UNIFIED_CLASSIFICATION(:in_0, :params, out_0, out_1, out_2, out_3, out_4, out_5, out_6, out_7);\n",
      "CREATE LOCAL TEMPORARY COLUMN TABLE \"#PAL_UNIFIED_CLASSIFICATION_MODEL_0_04F1B66A_7238_11EC_8EA8_0242AC110002\" AS (SELECT * FROM :out_0);\n",
      "CREATE LOCAL TEMPORARY COLUMN TABLE \"#PAL_UNIFIED_CLASSIFICATION_IMPORTANCE_0_04F1B66A_7238_11EC_8EA8_0242AC110002\" AS (SELECT * FROM :out_1);\n",
      "CREATE LOCAL TEMPORARY COLUMN TABLE \"#PAL_UNIFIED_CLASSIFICATION_STATS_0_04F1B66A_7238_11EC_8EA8_0242AC110002\" AS (SELECT * FROM :out_2);\n",
      "CREATE LOCAL TEMPORARY COLUMN TABLE \"#PAL_UNIFIED_CLASSIFICATION_OPT_PARAM_0_04F1B66A_7238_11EC_8EA8_0242AC110002\" AS (SELECT * FROM :out_3);\n",
      "CREATE LOCAL TEMPORARY COLUMN TABLE \"#PAL_UNIFIED_CLASSIFICATION_CONFUSION_MATRIX_0_04F1B66A_7238_11EC_8EA8_0242AC110002\" AS (SELECT * FROM :out_4);\n",
      "CREATE LOCAL TEMPORARY COLUMN TABLE \"#PAL_UNIFIED_CLASSIFICATION_METRICS_0_04F1B66A_7238_11EC_8EA8_0242AC110002\" AS (SELECT * FROM :out_5);\n",
      "CREATE LOCAL TEMPORARY COLUMN TABLE \"#PAL_UNIFIED_CLASSIFICATION_PARTITION_TYPE_0_04F1B66A_7238_11EC_8EA8_0242AC110002\" AS (SELECT * FROM :out_6);\n",
      "CREATE LOCAL TEMPORARY COLUMN TABLE \"#PAL_UNIFIED_CLASSIFICATION_PLACE_HOLDER2_0_04F1B66A_7238_11EC_8EA8_0242AC110002\" AS (SELECT * FROM :out_7);\n",
      "END\n",
      "\n",
      "INFO:hana_ml.ml_base:Executing SQL: DROP TABLE \"#PAL_UNIFIED_CLASSIFICATION_MATERIALIZED_INPUT_F14494DB_7697_4392_8793_464A1C921B8D\"\n"
     ]
    },
    {
     "data": {
      "text/plain": [
       "<hana_ml.algorithms.pal.unified_classification.UnifiedClassification at 0x7f015e458e20>"
      ]
     },
     "execution_count": 10,
     "metadata": {},
     "output_type": "execute_result"
    }
   ],
   "source": [
    "uni_hgbt.fit(data = train,\n",
    "             key= 'ID',\n",
    "             label= 'T_LEVEL',\n",
    "             features=['GENDER', 'EDUCATION', 'REGION', 'START_YEAR', 'ZIPCODE', 'SALARY']\n",
    "             )"
   ]
  },
  {
   "cell_type": "code",
   "execution_count": 11,
   "id": "wound-vertical",
   "metadata": {},
   "outputs": [
    {
     "name": "stderr",
     "output_type": "stream",
     "text": [
      "INFO:hana_ml.ml_base:Executing SQL: CREATE LOCAL TEMPORARY COLUMN TABLE \"#PAL_UNIFIED_CLASSIFICATION_PREDICT_MATERIALIZED_INPUT_BA1B51B7_9C57_47DE_B0B0_5F0D7EB4A0FC\" AS (SELECT \"ID\", \"GENDER\", \"EDUCATION\", \"REGION\", \"START_YEAR\", \"ZIPCODE\", \"SALARY\" FROM (SELECT \"ID\", \"GENDER\", \"EDUCATION\", \"REGION\", \"START_YEAR\", \"ZIPCODE\", \"SALARY\" FROM (SELECT a.* FROM #PAL_PARTITION_DATA_TBL_026B3402_7238_11EC_8EA8_0242AC110002 a inner join #PAL_PARTITION_RESULT_TBL_026B3402_7238_11EC_8EA8_0242AC110002 b        on a.\"ID\" = b.\"ID\" where b.\"PARTITION_TYPE\" = 2) AS \"DT_5\") AS \"DT_27\")\n",
      "INFO:hana_ml.ml_base:Executing SQL: DO (IN in_0 TABLE (\"ID\" INT, \"GENDER\" NVARCHAR(100), \"EDUCATION\" NVARCHAR(50), \"REGION\" NVARCHAR(100), \"START_YEAR\" NVARCHAR(100), \"ZIPCODE\" NVARCHAR(10), \"SALARY\" DOUBLE) => \"#PAL_UNIFIED_CLASSIFICATION_PREDICT_MATERIALIZED_INPUT_BA1B51B7_9C57_47DE_B0B0_5F0D7EB4A0FC\",\n",
      "    IN in_1 TABLE (\"ROW_INDEX\" INT, \"PART_INDEX\" INT, \"MODEL_CONTENT\" NCLOB) => \"#PAL_UNIFIED_CLASSIFICATION_MODEL_0_04F1B66A_7238_11EC_8EA8_0242AC110002\")\n",
      "BEGIN\n",
      "DECLARE param_name VARCHAR(5000) ARRAY;\n",
      "DECLARE int_value INTEGER ARRAY;\n",
      "DECLARE double_value DOUBLE ARRAY;\n",
      "DECLARE string_value VARCHAR(5000) ARRAY;\n",
      "param_name[1] := N'FUNCTION';\n",
      "int_value[1] := NULL;\n",
      "double_value[1] := NULL;\n",
      "string_value[1] := N'HGBT';\n",
      "params = UNNEST(:param_name, :int_value, :double_value, :string_value);\n",
      "CALL _SYS_AFL.PAL_UNIFIED_CLASSIFICATION_PREDICT(:in_0, :in_1, :params, out_0, out_1);\n",
      "CREATE LOCAL TEMPORARY COLUMN TABLE \"#PAL_UNIFIED_CLASSIF_PREDICT_RESULT_TBL_0_0A80B6A8_7238_11EC_8EA8_0242AC110002\" AS (SELECT * FROM :out_0);\n",
      "CREATE LOCAL TEMPORARY COLUMN TABLE \"#PAL_UNIFIED_CLASSIF_PREDICT_PH_TBL_0_0A80B6A8_7238_11EC_8EA8_0242AC110002\" AS (SELECT * FROM :out_1);\n",
      "END\n",
      "\n",
      "INFO:hana_ml.ml_base:Executing SQL: DROP TABLE \"#PAL_UNIFIED_CLASSIFICATION_PREDICT_MATERIALIZED_INPUT_BA1B51B7_9C57_47DE_B0B0_5F0D7EB4A0FC\"\n"
     ]
    }
   ],
   "source": [
    "result = uni_hgbt.predict(\n",
    "            data=test.select('ID', 'GENDER', 'EDUCATION', 'REGION', 'START_YEAR', 'ZIPCODE', 'SALARY'),\n",
    "            features=['GENDER', 'EDUCATION', 'REGION', 'START_YEAR', 'ZIPCODE', 'SALARY' ], \n",
    "            key= 'ID')"
   ]
  },
  {
   "cell_type": "markdown",
   "id": "desirable-zambia",
   "metadata": {},
   "source": [
    "### Generate ABAP code template"
   ]
  },
  {
   "cell_type": "code",
   "execution_count": 12,
   "id": "parental-rescue",
   "metadata": {},
   "outputs": [
    {
     "name": "stdout",
     "output_type": "stream",
     "text": [
      "\n"
     ]
    }
   ],
   "source": [
    "generator = AMDPGenerator(project_name=\"T-Level\", version=\"1\", connection_context=conn, outputdir=\"out/\")\n",
    "generator.generate()"
   ]
  },
  {
   "cell_type": "markdown",
   "id": "conditional-blanket",
   "metadata": {},
   "source": [
    "### Preview results and clean up trace configuration"
   ]
  },
  {
   "cell_type": "code",
   "execution_count": 13,
   "id": "protective-kentucky",
   "metadata": {},
   "outputs": [
    {
     "data": {
      "text/html": [
       "<div>\n",
       "<style scoped>\n",
       "    .dataframe tbody tr th:only-of-type {\n",
       "        vertical-align: middle;\n",
       "    }\n",
       "\n",
       "    .dataframe tbody tr th {\n",
       "        vertical-align: top;\n",
       "    }\n",
       "\n",
       "    .dataframe thead th {\n",
       "        text-align: right;\n",
       "    }\n",
       "</style>\n",
       "<table border=\"1\" class=\"dataframe\">\n",
       "  <thead>\n",
       "    <tr style=\"text-align: right;\">\n",
       "      <th></th>\n",
       "      <th>ID</th>\n",
       "      <th>SCORE</th>\n",
       "      <th>CONFIDENCE</th>\n",
       "      <th>REASON_CODE</th>\n",
       "    </tr>\n",
       "  </thead>\n",
       "  <tbody>\n",
       "    <tr>\n",
       "      <th>0</th>\n",
       "      <td>175311</td>\n",
       "      <td>T3</td>\n",
       "      <td>0.621335</td>\n",
       "      <td>[{\"attr\":\"ZIPCODE\",\"pct\":49.865572691817626,\"v...</td>\n",
       "    </tr>\n",
       "    <tr>\n",
       "      <th>1</th>\n",
       "      <td>124967</td>\n",
       "      <td>T4</td>\n",
       "      <td>0.819824</td>\n",
       "      <td>[{\"attr\":\"SALARY\",\"pct\":54.023751902260472,\"va...</td>\n",
       "    </tr>\n",
       "    <tr>\n",
       "      <th>2</th>\n",
       "      <td>180614</td>\n",
       "      <td>T2</td>\n",
       "      <td>0.649066</td>\n",
       "      <td>[{\"attr\":\"SALARY\",\"pct\":55.728970994351471,\"va...</td>\n",
       "    </tr>\n",
       "    <tr>\n",
       "      <th>3</th>\n",
       "      <td>193715</td>\n",
       "      <td>T1</td>\n",
       "      <td>0.908541</td>\n",
       "      <td>[{\"attr\":\"SALARY\",\"pct\":66.982351435842901,\"va...</td>\n",
       "    </tr>\n",
       "    <tr>\n",
       "      <th>4</th>\n",
       "      <td>180745</td>\n",
       "      <td>T2</td>\n",
       "      <td>0.640329</td>\n",
       "      <td>[{\"attr\":\"SALARY\",\"pct\":55.74549077390504,\"val...</td>\n",
       "    </tr>\n",
       "    <tr>\n",
       "      <th>5</th>\n",
       "      <td>162019</td>\n",
       "      <td>T3</td>\n",
       "      <td>0.676600</td>\n",
       "      <td>[{\"attr\":\"ZIPCODE\",\"pct\":49.867339704612959,\"v...</td>\n",
       "    </tr>\n",
       "    <tr>\n",
       "      <th>6</th>\n",
       "      <td>105997</td>\n",
       "      <td>T4</td>\n",
       "      <td>0.809167</td>\n",
       "      <td>[{\"attr\":\"SALARY\",\"pct\":55.612061270747596,\"va...</td>\n",
       "    </tr>\n",
       "    <tr>\n",
       "      <th>7</th>\n",
       "      <td>111185</td>\n",
       "      <td>T4</td>\n",
       "      <td>0.798492</td>\n",
       "      <td>[{\"attr\":\"SALARY\",\"pct\":60.045352477726944,\"va...</td>\n",
       "    </tr>\n",
       "    <tr>\n",
       "      <th>8</th>\n",
       "      <td>106242</td>\n",
       "      <td>T3</td>\n",
       "      <td>0.648997</td>\n",
       "      <td>[{\"attr\":\"ZIPCODE\",\"pct\":49.865572691817626,\"v...</td>\n",
       "    </tr>\n",
       "    <tr>\n",
       "      <th>9</th>\n",
       "      <td>188652</td>\n",
       "      <td>T2</td>\n",
       "      <td>0.527376</td>\n",
       "      <td>[{\"attr\":\"SALARY\",\"pct\":50.508305924541617,\"va...</td>\n",
       "    </tr>\n",
       "  </tbody>\n",
       "</table>\n",
       "</div>"
      ],
      "text/plain": [
       "       ID SCORE  CONFIDENCE                                        REASON_CODE\n",
       "0  175311    T3    0.621335  [{\"attr\":\"ZIPCODE\",\"pct\":49.865572691817626,\"v...\n",
       "1  124967    T4    0.819824  [{\"attr\":\"SALARY\",\"pct\":54.023751902260472,\"va...\n",
       "2  180614    T2    0.649066  [{\"attr\":\"SALARY\",\"pct\":55.728970994351471,\"va...\n",
       "3  193715    T1    0.908541  [{\"attr\":\"SALARY\",\"pct\":66.982351435842901,\"va...\n",
       "4  180745    T2    0.640329  [{\"attr\":\"SALARY\",\"pct\":55.74549077390504,\"val...\n",
       "5  162019    T3    0.676600  [{\"attr\":\"ZIPCODE\",\"pct\":49.867339704612959,\"v...\n",
       "6  105997    T4    0.809167  [{\"attr\":\"SALARY\",\"pct\":55.612061270747596,\"va...\n",
       "7  111185    T4    0.798492  [{\"attr\":\"SALARY\",\"pct\":60.045352477726944,\"va...\n",
       "8  106242    T3    0.648997  [{\"attr\":\"ZIPCODE\",\"pct\":49.865572691817626,\"v...\n",
       "9  188652    T2    0.527376  [{\"attr\":\"SALARY\",\"pct\":50.508305924541617,\"va..."
      ]
     },
     "execution_count": 13,
     "metadata": {},
     "output_type": "execute_result"
    }
   ],
   "source": [
    "result.collect().head(10)"
   ]
  },
  {
   "cell_type": "code",
   "execution_count": 14,
   "id": "closed-ranch",
   "metadata": {},
   "outputs": [],
   "source": [
    "conn.sql_tracer.clean_trace_history()"
   ]
  },
  {
   "cell_type": "code",
   "execution_count": 15,
   "id": "desperate-craps",
   "metadata": {},
   "outputs": [],
   "source": [
    "conn.sql_tracer.enable_sql_trace(False)\n",
    "conn.sql_tracer.enable_trace_history(False)"
   ]
  },
  {
   "cell_type": "code",
   "execution_count": null,
   "id": "conditional-phrase",
   "metadata": {},
   "outputs": [],
   "source": []
  }
 ],
 "metadata": {
  "kernelspec": {
   "display_name": "Python 3",
   "language": "python",
   "name": "python3"
  },
  "language_info": {
   "codemirror_mode": {
    "name": "ipython",
    "version": 3
   },
   "file_extension": ".py",
   "mimetype": "text/x-python",
   "name": "python",
   "nbconvert_exporter": "python",
   "pygments_lexer": "ipython3",
   "version": "3.8.6"
  }
 },
 "nbformat": 4,
 "nbformat_minor": 5
}
